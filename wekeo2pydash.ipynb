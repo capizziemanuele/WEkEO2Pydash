{
 "cells": [
  {
   "cell_type": "markdown",
   "id": "43bbfcfb",
   "metadata": {},
   "source": [
    "<div class=\"alert alert-info\">\n",
    "<strong>Authors:</strong> Oxoli Daniele, Capizzi Emanuele - 2022 - Politecnico di Milano <br>\n",
    "<strong>License:</strong> MIT\n",
    "</div>"
   ]
  },
  {
   "cell_type": "markdown",
   "id": "6fbfff85",
   "metadata": {
    "tags": []
   },
   "source": [
    "<div class=\"alert alert-block alert-success\">\n",
    "<h1>WEkEO2Pydash - Explore Copernicus data interactively using the WEkEO HDA API</h1></div>"
   ]
  },
  {
   "cell_type": "markdown",
   "id": "592f48e8",
   "metadata": {},
   "source": [
    "**WEkEO Jupyter Notebook competition: https://notebook.wekeo.eu** (**Track A**: *Exploit the broad range\n",
    "of Copernicus Data*)"
   ]
  },
  {
   "cell_type": "markdown",
   "id": "b3393ac5",
   "metadata": {
    "tags": []
   },
   "source": [
    "# NOTEBOOK INTRODUCTION\n",
    "\n",
    "### Outline\n",
    "\n",
    "This Notebook showcases Python recipes to interact (access, browse, display and download) with the Copernicus data dispatched by the [<span style='color:Blue'>WEkEO DIAS</span>](https://www.wekeo.eu), through the development of flexible and interactive dashboards into a Jupyter notebook. \n",
    "\n",
    "**Interactivity** is here used as the key element to speed-up applications development by minimizing code editing for recursive steps such as variables definition and parameters setting.\n",
    "\n",
    "The final goal is to provide the user with reusable code blocks which can be adapted *- with a small effort -* to manifold EO applications by leveraging the [<span style='color:Blue'>WEkEO Harmonised Data Access (HDA) API </span>](https://www.wekeo.eu/docs/harmonised-data-access-api) as exclusive data endpoint. \n",
    "\n",
    "### Resources\n",
    "\n",
    "This Notebook make extensive use of the [<span style='color:Blue'> WEkEO HDA API</span>](https://www.wekeo.eu/docs/harmonised-data-access-api) to perform `GET` and `POST` requests[<sup>1</sup>](#1), necessary for automating the data access procedures.\n",
    "\n",
    "Interactivity is enabled by cutting-edge Python libraries for dynamic widgets and maps generation including [<span style='color:Blue'>IPython</span>](https://ipython.org), [<span style='color:Blue'>itables</span>](https://mwouts.github.io/itables/advanced_parameters.html), [<span style='color:Blue'>IPyWidgets</span>](https://ipywidgets.readthedocs.io/en/latest/index.html#) and [<span style='color:Blue'>ipyleaflet</span>](https://ipyleaflet.readthedocs.io); alongside popular data mananging and analysis libraries such as [<span style='color:Blue'>Pandas</span>](https://pandas.pydata.org) and [<span style='color:Blue'>xarray</span>](https://docs.xarray.dev). All the selected libraries are released under open-license[<sup>2</sup>](#2) compatible with [<span style='color:Blue'>MIT license</span>](https://en.wikipedia.org/wiki/MIT_License). \n",
    "\n",
    "\n",
    "The pattern proposed by this Notebook is developed and demonstrated through few examples, adapted to different data products[<sup>3</sup>](#3) provided by the WEkEO DIAS. Specifically, the data products considered in this Notebook are reported in the following table.\n",
    "\n",
    "| Product Description | Product Link | ID | Metadata |\n",
    "|:--------------------:|:-----------------------:|:-----------------:|:-----------------:|\n",
    "|ERA5 - Single Levels| <a href=\"https://cds.climate.copernicus.eu/cdsapp#!/dataset/reanalysis-era5-single-levels?tab=overview\" target=\"_blank\">link</a> | EO:ECMWF:DAT:REANALYSIS_ERA5_SINGLE_LEVELS | <a href=\"https://www.wekeo.eu/data?view=dataset&dataset=EO%3AECMWF%3ADAT%3AERA5_HOURLY_VARIABLES_ON_PRESSURE_LEVELS\" target=\"_blank\">link</a> |\n",
    "|CAMS - European Air Quality Forecasts|<a href=\"https://atmosphere.copernicus.eu/\" target=\"_blank\">link</a>|EO:ECMWF:DAT:CAMS_EUROPE_AIR_QUALITY_FORECASTS|<a href=\"https://www.wekeo.eu/data?view=dataset&dataset=EO%3AECMWF%3ADAT%3ACAMS_EUROPE_AIR_QUALITY_FORECASTS\" target=\"_blank\">link</a>|\n",
    "|CMEMS - Atlantic- European North West Shelf- Ocean Physics Reanalysis|<a href=\"https://resources.marine.copernicus.eu/product-detail/NWSHELF_MULTIYEAR_PHY_004_009/INFORMATION\" target=\"_blank\">link</a>|EO:MO:DAT:NWSHELF_ANALYSISFORECAST_PHY_LR_004_001:cmems_mod_nws_phy-bottomt_anfc_7km-2D_P1D-m|<a href=\"https://www.wekeo.eu/data?view=dataset&dataset=EO%3AMO%3ADAT%3ANWSHELF_ANALYSISFORECAST_PHY_LR_004_001\" target=\"_blank\">link</a>|\n",
    "|Sentinel-5P|<a href=\"https://sentinels.copernicus.eu/web/sentinel/missions/sentinel-5p\" target=\"_blank\">link</a>|'EO:ESA:DAT:SENTINEL-5P:TROPOMI'|<a href=\"https://www.wekeo.eu/data?view=dataset&dataset=EO%3AESA%3ADAT%3ASENTINEL-5P%3ATROPOMI\" target=\"_blank\">link</a>|\n",
    "\n",
    "\n",
    "Settings to adapt the Notebook functions and dynamic widgets to the different data products are explained throughout the Notebook sections.\n",
    "\n",
    "\n",
    "### Learning outcomes\n",
    "\n",
    "At the end of this Notebook you will know:\n",
    "* How to programmatically access Copernicus data and metadata using the [<span style='color:Blue'>WEkEO HDA API</span>](https://www.wekeo.eu/docs/harmonised-data-access-api) in Python\n",
    "* How to generate dynamic data previews using interactive Python widgets\n",
    "* How to adapt and reuse Python functions and code blocks to deal with different WEkEO data products and applications\n",
    "\n",
    "\n",
    "<span id=\"1\">[<sup>1</sup>Swagger UI](https://wekeo-broker.apps.mercator.dpi.wekeo.eu/databroker/ui/#!/HDA_-_dataorder/dataorder_get)</span> \n",
    "\n",
    "<span id=\"2\">[<sup>2</sup>About Open Source Licenses](https://opensource.org/licenses)</span> \n",
    "\n",
    "<span id=\"3\">[<sup>3</sup>WEkEO Data Discovery Platform](https://www.wekeo.eu/data)</span> "
   ]
  },
  {
   "cell_type": "markdown",
   "id": "ac9f4c61",
   "metadata": {},
   "source": [
    "## <a id='TOC_TOP'></a>Content\n",
    "\n",
    "</div>\n",
    "    \n",
    " 0. [From WEkEO Data Discovery Platform to Jupyter Notebook](#sec0)  \n",
    " 1. [Python Environment and Libraries](#sec1)\n",
    " 2. [Login section](#login)   \n",
    " 3. [WEkEO Catalog](#catalog) \n",
    " 4. [Example 1 - ERA5 Reanalysis Single Levels](#section1)\n",
    " 5. [Example 2 - CAMS - Europe Air Quality Forecasts](#section2)\n",
    " 6. [Example 3 - CMEMS - Analysis/Forecast Sea Bottom Temperature](#section3)\n",
    " 7. [Example 4 - Sentinel-5P](#section4)\n",
    "\n",
    "\n",
    "<hr>"
   ]
  },
  {
   "cell_type": "markdown",
   "id": "539d0196-e15b-4804-aafe-56b0f04a9f29",
   "metadata": {},
   "source": [
    "<div class=\"alert alert-info\" role=\"alert\">\n",
    "    \n",
    "## <a id='sec0'></a>&#x27A4; 0. From WEkEO Data Discovery Platform to Jupyter Notebook\n",
    "\n",
    "[Back to top](#TOC_TOP)\n",
    "\n",
    "</div>"
   ]
  },
  {
   "cell_type": "markdown",
   "id": "9987ed55-4502-4f90-8fc1-b19939864f4e",
   "metadata": {},
   "source": [
    "All WEkEO data can be manually downloaded from the [<span style='color:Blue'>WEkEO Data Discovery Platform</span>](https://www.wekeo.eu/data). Before running the Notebook, you are requested to **create a personal account** on the WEkEO website.   \n",
    "\n",
    "Once registered, you can browse and select the datasets of interest directly from the WEkEO Data Discovery Platform GUI (see figure below) and proceed with the manual download. \n",
    "\n",
    "\n",
    "![interface](img/add_datasets.jpg)\n",
    "\n",
    "- `A` = `Layers` functionality allows you to access to the WEkEO Catalog and select the desired dataset. Using the `Add to map` button your dataset will be available for requesting the data\n",
    "- `B` = `Subset and download` button, allows to select the desired values for each parameter and build the associated query\n",
    "- `C` = `Show layer information` shows all the information and metadata related to the specific dataset\n",
    "- `D` = `Jobs` functionality collects all the data requested previously. It allows to order the data and downloading them\n",
    "\n",
    "After getting confident with the WEkEO Data Discovery Platform GUI, you are ready to start programming for **bringing your entire data access and analysis workflows into a [<span style='color:Blue'>Jupyter Notebook</span>](https://www.wekeo.eu/docs/using-jupyter).**\n",
    "\n",
    "<div class=\"alert alert-success\" role=\"alert\">\n",
    "<span>&#x2714;</span>\n",
    "<a id='libraries'></a>Using the <b>HDA API</b> and Python, all the procedures for requesting the data can be replicated and automated in a programmatic way. Moreover, you will have the possibility of browsing, downloading, displaying and analysing data without leaving this Jupyter Notebook!\n",
    "</div>"
   ]
  },
  {
   "cell_type": "markdown",
   "id": "87f0db33",
   "metadata": {
    "tags": []
   },
   "source": [
    "<div class=\"alert alert-info\" role=\"alert\">\n",
    "\n",
    "## <a id='sec1'></a>&#x27A4; 1. Python Environment and Libraries\n",
    "[Back to top](#TOC_TOP)\n",
    "\n",
    "</div>"
   ]
  },
  {
   "cell_type": "markdown",
   "id": "e405dd76",
   "metadata": {},
   "source": [
    "Before to start running the code, you have to set-up a virtual Python enviroment \n",
    "\"prima di iniziare devi creare un ambiente python[link] utilizzando il file di ambiente fornito nella Repo[link]. Il notebook utilizza delle funzioni custom che sono contenute nel file xxx.py[link] che deve essere posizionato nella stessa cartella del notbook per essere importato (vedi blocco codice sotto)\""
   ]
  },
  {
   "cell_type": "code",
   "execution_count": null,
   "id": "24f5bc1a",
   "metadata": {},
   "outputs": [],
   "source": [
    "# Base libraries\n",
    "import requests\n",
    "import json\n",
    "import zipfile\n",
    "import os\n",
    "import pandas as pd\n",
    "from pandas.io.json import json_normalize\n",
    "import base64\n",
    "import datetime\n",
    "import ipywidgets as widgets\n",
    "from ipywidgets import Layout\n",
    "import numpy as np\n",
    "import xarray as xr\n",
    "import rioxarray as rxr\n",
    "\n",
    "#Plotting and displaying\n",
    "from PIL import Image\n",
    "from ipyleaflet import Rectangle\n",
    "import IPython\n",
    "from IPython.display import display, JSON, Image\n",
    "from urllib.request import urlopen\n",
    "import matplotlib.pyplot as plt\n",
    "import matplotlib.ticker as mticker\n",
    "from mpl_toolkits.basemap import Basemap\n",
    "import cartopy.crs as ccrs\n",
    "import cartopy.feature as cfeature\n",
    "from cartopy.mpl.gridliner import LONGITUDE_FORMATTER, LATITUDE_FORMATTER\n",
    "from netCDF4 import Dataset\n",
    "from itables import init_notebook_mode, show\n",
    "import itables.options as opt\n",
    "opt.classes = [\"display\",\"hover\", \"nowrap\"]\n",
    "init_notebook_mode(all_interactive=True)\n",
    "\n",
    "#Import custom functions\n",
    "import wekeo2pydash_methods as m\n",
    "\n",
    "#Warnings\n",
    "import warnings\n",
    "warnings.filterwarnings('ignore')\n",
    "warnings.simplefilter(action='ignore', category=UserWarning)"
   ]
  },
  {
   "cell_type": "markdown",
   "id": "b761fe1b",
   "metadata": {},
   "source": [
    "<div class=\"alert alert-info\" role=\"alert\">\n",
    "\n",
    "## <a id='login'></a>&#x27A4; 3. Logging to WEkEO DIAS using HDA API\n",
    "[Back to top](#TOC_TOP)\n",
    "\n",
    "</div>"
   ]
  },
  {
   "cell_type": "markdown",
   "id": "7a04cbdd",
   "metadata": {},
   "source": [
    "First, in order to access WEkEO data you must create an account on [<span style='color:Blue'>WEkEO website</span>](https://www.wekeo.eu/).\n",
    "The following widget allows to insert your WEkEO login credentials in order to obtain the access token. Start by running the following block of code and type your `Username` and `Password`."
   ]
  },
  {
   "cell_type": "markdown",
   "id": "da0c566e",
   "metadata": {},
   "source": [
    "<div class=\"alert alert-danger\" role=\"alert\">\n",
    "<span>&#9888;</span>\n",
    "<a id='warning'></a> For all widgets you just need to run the code once and then enter the required information without running the code again (as show in the following GIF).\n",
    "</div>"
   ]
  },
  {
   "cell_type": "markdown",
   "id": "9be7e7d0",
   "metadata": {},
   "source": [
    "![SegmentLocal](img/login.gif \"segment\")"
   ]
  },
  {
   "cell_type": "code",
   "execution_count": 1,
   "id": "3a78f9d2",
   "metadata": {},
   "outputs": [
    {
     "ename": "NameError",
     "evalue": "name 'widgets' is not defined",
     "output_type": "error",
     "traceback": [
      "\u001b[1;31m---------------------------------------------------------------------------\u001b[0m",
      "\u001b[1;31mNameError\u001b[0m                                 Traceback (most recent call last)",
      "\u001b[1;32m~\\AppData\\Local\\Temp/ipykernel_2352/2087417639.py\u001b[0m in \u001b[0;36m<module>\u001b[1;34m\u001b[0m\n\u001b[0;32m      2\u001b[0m \u001b[0mstyle\u001b[0m\u001b[1;33m=\u001b[0m \u001b[1;33m{\u001b[0m\u001b[1;34m'description_width'\u001b[0m\u001b[1;33m:\u001b[0m \u001b[1;34m'150px'\u001b[0m\u001b[1;33m}\u001b[0m  \u001b[1;31m#styling\u001b[0m\u001b[1;33m\u001b[0m\u001b[1;33m\u001b[0m\u001b[0m\n\u001b[0;32m      3\u001b[0m \u001b[0mlayout\u001b[0m \u001b[1;33m=\u001b[0m \u001b[1;33m{\u001b[0m\u001b[1;34m'width'\u001b[0m\u001b[1;33m:\u001b[0m \u001b[1;34m'500px'\u001b[0m\u001b[1;33m}\u001b[0m  \u001b[1;31m#layout\u001b[0m\u001b[1;33m\u001b[0m\u001b[1;33m\u001b[0m\u001b[0m\n\u001b[1;32m----> 4\u001b[1;33m \u001b[0musername\u001b[0m \u001b[1;33m=\u001b[0m \u001b[0mwidgets\u001b[0m\u001b[1;33m.\u001b[0m\u001b[0mText\u001b[0m\u001b[1;33m(\u001b[0m\u001b[0mplaceholder\u001b[0m\u001b[1;33m=\u001b[0m\u001b[1;34m\"Type WEkEO username\"\u001b[0m\u001b[1;33m,\u001b[0m\u001b[0mdescription\u001b[0m\u001b[1;33m=\u001b[0m\u001b[1;34m\"Insert username: \"\u001b[0m\u001b[1;33m,\u001b[0m\u001b[0mstyle\u001b[0m\u001b[1;33m=\u001b[0m\u001b[0mstyle\u001b[0m\u001b[1;33m,\u001b[0m\u001b[0mlayout\u001b[0m\u001b[1;33m=\u001b[0m\u001b[0mlayout\u001b[0m\u001b[1;33m)\u001b[0m  \u001b[1;31m#text widget\u001b[0m\u001b[1;33m\u001b[0m\u001b[1;33m\u001b[0m\u001b[0m\n\u001b[0m\u001b[0;32m      5\u001b[0m \u001b[0mpassword\u001b[0m \u001b[1;33m=\u001b[0m \u001b[0mwidgets\u001b[0m\u001b[1;33m.\u001b[0m\u001b[0mPassword\u001b[0m\u001b[1;33m(\u001b[0m\u001b[0mplaceholder\u001b[0m\u001b[1;33m=\u001b[0m\u001b[1;34m\"Type WEkEO password\"\u001b[0m\u001b[1;33m,\u001b[0m\u001b[0mdescription\u001b[0m\u001b[1;33m=\u001b[0m\u001b[1;34m\"Insert password: \"\u001b[0m\u001b[1;33m,\u001b[0m\u001b[0mstyle\u001b[0m\u001b[1;33m=\u001b[0m\u001b[0mstyle\u001b[0m\u001b[1;33m,\u001b[0m\u001b[0mlayout\u001b[0m\u001b[1;33m=\u001b[0m\u001b[0mlayout\u001b[0m\u001b[1;33m)\u001b[0m  \u001b[1;31m#password widget\u001b[0m\u001b[1;33m\u001b[0m\u001b[1;33m\u001b[0m\u001b[0m\n\u001b[0;32m      6\u001b[0m \u001b[1;33m\u001b[0m\u001b[0m\n",
      "\u001b[1;31mNameError\u001b[0m: name 'widgets' is not defined"
     ]
    }
   ],
   "source": [
    "# Add style variables and get the login box\n",
    "style= {'description_width': '150px'}  #styling\n",
    "layout = {'width': '500px'}  #layout\n",
    "username = widgets.Text(placeholder=\"Type WEkEO username\",description=\"Insert username: \",style=style,layout=layout)  #text widget\n",
    "password = widgets.Password(placeholder=\"Type WEkEO password\",description=\"Insert password: \",style=style,layout=layout)  #password widget\n",
    "\n",
    "login_box = widgets.VBox([username, password])  #create the login box\n",
    "login_box  #show login boxcalorifero93!"
   ]
  },
  {
   "cell_type": "markdown",
   "id": "8c4b1379",
   "metadata": {},
   "source": [
    "`Username` and `Password` are saved into the respective variables and they are used to retrieve a **temporary** access token.\n",
    "\n",
    "To request the access token it's necessary to request it using the HDA API.\n",
    "The following code will perform a `GET` request and it will retrieve the necessary access token. It is also necessary to define a `headers` variable for the authorization."
   ]
  },
  {
   "cell_type": "code",
   "execution_count": null,
   "id": "c3aa89e1",
   "metadata": {},
   "outputs": [],
   "source": [
    "message = str(username.value+\":\"+password.value).encode('ascii')\n",
    "base64_message = base64.b64encode(message).decode('ascii')\n",
    "headers = {'authorization': 'Basic '+base64_message}  #set headers for get request\n",
    "token_request = requests.get(\"https://wekeo-broker-k8s.apps.mercator.dpi.wekeo.eu/databroker/gettoken\", headers=headers)  #GET Request to API endpoint\n",
    "token = json.loads(token_request.text)['access_token']  #save token\n",
    "print(\"Your temporary access token is: \"+token) #print token"
   ]
  },
  {
   "cell_type": "markdown",
   "id": "75ebd867",
   "metadata": {},
   "source": [
    "<div class=\"alert alert-warning\" role=\"alert\">\n",
    "<span>&#9888;</span>\n",
    "<a id='warning'></a> You may need to get a new access token when the session expires. It's just required to run the previous cell to get a new one.\n",
    "</div>"
   ]
  },
  {
   "cell_type": "markdown",
   "id": "026ea548",
   "metadata": {},
   "source": [
    "In order to access WEkEO data for the first time is necessary to agree `Terms & Conditions`, providing your token inside `authorization` key contained in the `header`:"
   ]
  },
  {
   "cell_type": "code",
   "execution_count": null,
   "id": "2070831c",
   "metadata": {},
   "outputs": [],
   "source": [
    "headers = {\n",
    "    'Content-Type': 'application/json',\n",
    "    'Accept': 'application/json',\n",
    "    'authorization': 'Basic '+str(token)\n",
    "}\n",
    "\n",
    "terms_response = requests.put('https://wekeo-broker-k8s.apps.mercator.dpi.wekeo.eu/databroker/termsaccepted/Copernicus_General_License', headers=headers)\n",
    "terms_status_response = requests.get('https://wekeo-broker-k8s.apps.mercator.dpi.wekeo.eu/databroker/termsaccepted/Copernicus_General_License', headers=headers)\n",
    "terms_status_text = json.loads(terms_status_response.text)\n",
    "print('Terms and conditions accepted: '+str(terms_status_text['accepted']))"
   ]
  },
  {
   "cell_type": "markdown",
   "id": "ba70ac36",
   "metadata": {},
   "source": [
    "<div class=\"alert alert-info\" role=\"alert\">\n",
    "\n",
    "## <a id='catalog'></a>&#x27A4; 4. WEkEO Catalog\n",
    "[Back to top](#TOC_TOP)\n",
    "\n",
    "</div>"
   ]
  },
  {
   "cell_type": "markdown",
   "id": "c68d2220",
   "metadata": {},
   "source": [
    "First of all, we have to look for the `dataset IDs`, that corresponds to the identifier for a specific dataset inside the catalog. An option is to get the `dataset ID` manually from the WEkEO portal:\n",
    "\n",
    "![SegmentLocal](img/dataset_id.gif \"segment\")"
   ]
  },
  {
   "cell_type": "markdown",
   "id": "ebb49ab0",
   "metadata": {},
   "source": [
    "As alternative, similarly to what was done in the login section, is to access to these data using the [<span style='color:Blue'>requests</span>](https://docs.python-requests.org/en/latest/) Python library using the correct [<span style='color:Blue'>HDA API </span>](https://wekeo-broker.apps.mercator.dpi.wekeo.eu/databroker/ui/#!/HDA_-_dataorder/dataorder_get) endpoint. Finally, we can obtain a [<span style='color:Blue'>Pandas</span>](https://pandas.pydata.org/) dataframe containing all the datasets and their information available from WEkEO DIAS. The [<span style='color:Blue'>itables</span>](https://mwouts.github.io/itables/advanced_parameters.html) library allows to add interactivity to dataframes in an easy way (the standard Pandas commands are still available).\n",
    "\n",
    "After running the next cell, we can explore the catalog using some keywords, search for a specific dataset and save its `datasetId`:"
   ]
  },
  {
   "cell_type": "code",
   "execution_count": 1,
   "id": "2b535ba5",
   "metadata": {},
   "outputs": [
    {
     "ename": "NameError",
     "evalue": "name 'requests' is not defined",
     "output_type": "error",
     "traceback": [
      "\u001b[1;31m---------------------------------------------------------------------------\u001b[0m",
      "\u001b[1;31mNameError\u001b[0m                                 Traceback (most recent call last)",
      "Input \u001b[1;32mIn [1]\u001b[0m, in \u001b[0;36m<cell line: 2>\u001b[1;34m()\u001b[0m\n\u001b[0;32m      1\u001b[0m size \u001b[38;5;241m=\u001b[39m \u001b[38;5;241m2000\u001b[39m \u001b[38;5;66;03m# Max number of datasets to be requested\u001b[39;00m\n\u001b[1;32m----> 2\u001b[0m dataset \u001b[38;5;241m=\u001b[39m \u001b[43mrequests\u001b[49m\u001b[38;5;241m.\u001b[39mget(\u001b[38;5;124m\"\u001b[39m\u001b[38;5;124mhttps://wekeo-broker-k8s.apps.mercator.dpi.wekeo.eu/databroker/datasets?size=\u001b[39m\u001b[38;5;124m\"\u001b[39m\u001b[38;5;241m+\u001b[39m\u001b[38;5;28mstr\u001b[39m(size)) \u001b[38;5;66;03m#GET Request to API endpoint\u001b[39;00m\n\u001b[0;32m      3\u001b[0m data \u001b[38;5;241m=\u001b[39m json\u001b[38;5;241m.\u001b[39mloads(dataset\u001b[38;5;241m.\u001b[39mtext)\n\u001b[0;32m      4\u001b[0m data_df \u001b[38;5;241m=\u001b[39m pd\u001b[38;5;241m.\u001b[39mjson_normalize(data[\u001b[38;5;124m'\u001b[39m\u001b[38;5;124mcontent\u001b[39m\u001b[38;5;124m'\u001b[39m])\n",
      "\u001b[1;31mNameError\u001b[0m: name 'requests' is not defined"
     ]
    }
   ],
   "source": [
    "size = 2000 # Max number of datasets to be requested\n",
    "dataset = requests.get(\"https://wekeo-broker-k8s.apps.mercator.dpi.wekeo.eu/databroker/datasets?size=\"+str(size)) #GET Request to API endpoint\n",
    "data = json.loads(dataset.text)\n",
    "data_df = pd.json_normalize(data['content'])\n",
    "data_df"
   ]
  },
  {
   "cell_type": "markdown",
   "id": "f8776c0c",
   "metadata": {},
   "source": [
    "We can begin to download sample datasets using `HDA IDs` to request such data.\n",
    "\n",
    "$\\color{red}{\\text{il nome nella tabella è \"datasetId\"}}$\n",
    "\n",
    "----"
   ]
  },
  {
   "cell_type": "markdown",
   "id": "f27b65bc",
   "metadata": {
    "tags": []
   },
   "source": [
    "<div class=\"alert alert-info\" role=\"alert\">\n",
    "\n",
    "## <a id='section1'></a>&#x27A4; 5. Example 1 - ERA5 Reanalysis Single Levels\n",
    "[Back to top](#TOC_TOP)\n",
    "\n",
    "</div>"
   ]
  },
  {
   "cell_type": "markdown",
   "id": "1b4736aa",
   "metadata": {},
   "source": [
    "The first dataset that will be used as an example is the `ECMWF ERA5 Reanalysis Single Levels` which provide hourly estimates for a large number of atmospheric, ocean-wave and land-surface quantities. The goal is to understand how to retrieve these data, requesting and visualizing them. This dataset was chosen as it is a good test to show the use of HDA API.\n",
    "\n",
    "The first step is to store the corresponding `dataset ID` inside a string variable, as follow:"
   ]
  },
  {
   "cell_type": "code",
   "execution_count": null,
   "id": "346d1e01",
   "metadata": {},
   "outputs": [],
   "source": [
    "dataset_id = 'EO:ECMWF:DAT:REANALYSIS_ERA5_SINGLE_LEVELS'"
   ]
  },
  {
   "cell_type": "markdown",
   "id": "f0c3830b",
   "metadata": {
    "tags": []
   },
   "source": [
    "### Data preview\n",
    "\n",
    "Next, it is possible to extract all the information (also available on the website) and generate a preview of the data.\n",
    "With Pandas library it is possible to filter only the dataset we are interested in, in this case the `ERA5 Reanalysis Single Levels`:"
   ]
  },
  {
   "cell_type": "code",
   "execution_count": null,
   "id": "6a2d52fa",
   "metadata": {},
   "outputs": [],
   "source": [
    "size = 2000\n",
    "dataset = requests.get(\"https://wekeo-broker-k8s.apps.mercator.dpi.wekeo.eu/databroker/datasets?size=\"+str(size))\n",
    "data = json.loads(dataset.text)\n",
    "data_df = pd.json_normalize(data['content'])\n",
    "data_df = data_df[data_df['datasetId'] == dataset_id]\n",
    "data_df"
   ]
  },
  {
   "cell_type": "markdown",
   "id": "019f07b4",
   "metadata": {},
   "source": [
    "As you can see, the Pandas dataframe contains some fields related to the chosen dataset. We now have information about:\n",
    " - `Abstract`\n",
    " - `HDA dataset ID`\n",
    " - `Dataset preview image`\n",
    " - `Dataset title`\n",
    " \n",
    "For example, we can use the dataset `title`, `preview image` and the `abstract` to create a simple preview of the dataset, and starting to understand how ipywidgets library can be useful also to data exploration. In this case we can read its description (also available in WEkEO website) and check whether the dataset it's correct.\n",
    "\n",
    "To do so, first we create the variables that we want to add to the visualization:"
   ]
  },
  {
   "cell_type": "code",
   "execution_count": null,
   "id": "808a880b",
   "metadata": {},
   "outputs": [],
   "source": [
    "# Get the dataset title from data_df\n",
    "title = data_df.title.values[0]\n",
    "\n",
    "# Get the description from data_df\n",
    "description = list(data_df[\"abstract\"])[0]\n",
    "\n",
    "# Get the dataset image preview and create a display image using IPython\n",
    "img_url = list(data_df[\"previewImage\"])[0]\n",
    "image = IPython.display.Image(img_url, width = 500)\n",
    "image = widgets.Image(value=image.data,format=\"jpg\", width=500,height=600)"
   ]
  },
  {
   "cell_type": "markdown",
   "id": "3a03a880",
   "metadata": {},
   "source": [
    "Next, with ipywidgets `HTML` and `Box` controls is possible to create the interface for the visualization, adding styling and spacing to the text and the image:"
   ]
  },
  {
   "cell_type": "code",
   "execution_count": null,
   "id": "2e11006e",
   "metadata": {},
   "outputs": [],
   "source": [
    "# Create the boxes\n",
    "title_box = widgets.HTML('<h2 style=\"text-align:center;font-size:18px;\">'+title+'</h2>')\n",
    "descr_box = widgets.HTML('<p style=\"text-align:justify;font-size:14px;\">'+description+'</p>')\n",
    "image_box = widgets.VBox([image])\n",
    "descr_box = widgets.VBox([title_box, descr_box])\n",
    "\n",
    "# Create the Layout for the dataset preview\n",
    "ui = widgets.AppLayout(right_sidebar=descr_box, left_sidebar = image_box,grid_gap=\"10px\", layout=widgets.Layout(border='solid'))\n",
    "\n",
    "container = widgets.Box([ui], layout=Layout(height='400px', overflow_y='auto'))\n",
    "display(container)"
   ]
  },
  {
   "cell_type": "markdown",
   "id": "aea6fac9",
   "metadata": {
    "tags": []
   },
   "source": [
    "### Requirements to create an interactive dashboard for ERA5 hourly data on single levels"
   ]
  },
  {
   "cell_type": "markdown",
   "id": "ee45e3a5",
   "metadata": {},
   "source": [
    "Let's try to create an interactive dashboard that can be useful for automating data request inside this Jupyter notebook.\n",
    "Using WEkEO website it is possible to check which information are required to perform the query using the API. The GIF shows how to obtain the query structure and all the parameters necessary to build the dashboard:\n",
    "\n",
    "![SegmentLocal](img/gif_query.gif \"segment\")"
   ]
  },
  {
   "cell_type": "markdown",
   "id": "95ab7e28",
   "metadata": {},
   "source": [
    "For `ERA5 Hourly Data On Single Levels` we have to provide the following information:\n",
    " - `Variable`: product variable (atmospheric/climate)\n",
    " - `Format type`: e.g. netCDF\n",
    " - `Product type`: e.g. ensemble_mean\n",
    " - `Year`\n",
    " - `Month`\n",
    " - `Day` \n",
    " - `Time`: hour in UTC standard\n",
    " \n",
    "All of them must be provided in string format (or a list of strings)."
   ]
  },
  {
   "cell_type": "markdown",
   "id": "af868037",
   "metadata": {},
   "source": [
    "### Accessing resource metadata\n",
    "\n",
    "As a first step to build the dashboard we need to access the dataset's `metadata`. The metadata can be requested in [<span style='color:Blue'>JSON</span>](https://en.wikipedia.org/wiki/JSON) format and they contain all the information necessary to create the widgets and finally the dashboard.\n",
    "\n",
    "The metadata can be obtained using the following `GET` request:\n",
    "\n",
    "$\\color{red}{\\text{prima data, poi resources - omogenizzare}}$"
   ]
  },
  {
   "cell_type": "code",
   "execution_count": null,
   "id": "000dedfd",
   "metadata": {},
   "outputs": [],
   "source": [
    "headers = {'authorization': token}\n",
    "dataset = requests.get(\"https://wekeo-broker-k8s.apps.mercator.dpi.wekeo.eu/databroker/querymetadata/\"+dataset_id, headers=headers)\n",
    "metadata = json.loads(dataset.text)"
   ]
  },
  {
   "cell_type": "markdown",
   "id": "1ef9c755",
   "metadata": {},
   "source": [
    "We can interactively visualize the metadata using the display function for [<span style='color:Blue'>IPython</span>](query:https://ipython.org/) command shell. This is very useful to understand how the metadata `JSON` file is structured and how it can be exploited to create the successive query. Try to open the metadata section and understand how the datset is structured:"
   ]
  },
  {
   "cell_type": "code",
   "execution_count": null,
   "id": "a24cf09f",
   "metadata": {},
   "outputs": [],
   "source": [
    "display(JSON(metadata))"
   ]
  },
  {
   "cell_type": "markdown",
   "id": "774df2a7",
   "metadata": {},
   "source": [
    "$\\color{red}{\\text{sembra non far visualizzare il json in jupyter notebook, forse solo su Lab?}}$"
   ]
  },
  {
   "cell_type": "markdown",
   "id": "daa895dd",
   "metadata": {},
   "source": [
    "### Create the widgets\n",
    "\n",
    "In order to create the widgets we must extract all the information from the `metadata` and store them as lists of strings. You can check the code and try to understand the JSON structure, how is possible to access each variable and extract such information.\n",
    "\n",
    "We can extract `ERA5 Hourly Data On Single Levels` atmospheric variables as follow:"
   ]
  },
  {
   "cell_type": "markdown",
   "id": "d3dba831",
   "metadata": {},
   "source": [
    "<div class=\"alert alert-warning\" role=\"alert\">\n",
    "<span>&#9888;</span>\n",
    "<a id='warning'></a> This step may not be required for other datasets. For ERA5 Hourly Data On Single Levels this is necessary since the atmospheric variables are grouped with different labels.\n",
    "</div>"
   ]
  },
  {
   "cell_type": "code",
   "execution_count": null,
   "id": "f229b350",
   "metadata": {},
   "outputs": [],
   "source": [
    "category = metadata['parameters']['multiStringSelects'][0]['details']['groupedValueLabels']\n",
    "category_list = []\n",
    "params_list = []\n",
    "for item in category:\n",
    "    category_list.append(item['valuesLabels'])\n",
    "\n",
    "for item in category_list:\n",
    "    key_list = list(item.keys())\n",
    "    params_list.append(key_list)\n",
    "\n",
    "variables_list = [item for sublist in params_list for item in sublist]\n",
    "# variables_list   # Uncomment to show the variables list"
   ]
  },
  {
   "cell_type": "markdown",
   "id": "942a6492",
   "metadata": {},
   "source": [
    "The other parameters can be directly extracted from the metadata inside separate lists:"
   ]
  },
  {
   "cell_type": "code",
   "execution_count": null,
   "id": "b2c01f1a",
   "metadata": {},
   "outputs": [],
   "source": [
    "format_type_list = list(['netcdf'])\n",
    "product_type_list = list(metadata['parameters']['multiStringSelects'][1]['details']['groupedValueLabels'][0]['valuesLabels'].keys())\n",
    "year_list = list(metadata['parameters']['multiStringSelects'][2]['details']['groupedValueLabels'][0]['valuesLabels'].keys())\n",
    "month_list = list(metadata['parameters']['multiStringSelects'][3]['details']['groupedValueLabels'][0]['valuesLabels'].keys())\n",
    "day_list = list(metadata['parameters']['multiStringSelects'][4]['details']['groupedValueLabels'][0]['valuesLabels'].keys())\n",
    "time_list = list(metadata['parameters']['multiStringSelects'][5]['details']['groupedValueLabels'][0]['valuesLabels'].keys())"
   ]
  },
  {
   "cell_type": "markdown",
   "id": "fdc85fb7",
   "metadata": {},
   "source": [
    "Now we have all the information needed to create a simple personalized interactive dashboard.\n",
    "\n",
    "In this case, a multiple selection widget `SelectMultiple` is used for all parameters, as we may want to select multiple variables or time periods (check the [*<span style='color:Blue'>ipywidgets documentation</span>*](https://ipywidgets.readthedocs.io/en/latest/examples/Widget%20List.html) to get an overview of all the available widgets). A widget for each variable is created, providing the corresponding list to the `option` parameter and assigning the desired styling/layout:"
   ]
  },
  {
   "cell_type": "code",
   "execution_count": null,
   "id": "2bac1c87",
   "metadata": {},
   "outputs": [],
   "source": [
    "style = {'description_width': '200px'}\n",
    "layout = {'width': '800px'}\n",
    "params_sel = widgets.SelectMultiple(options=variables_list,description='Variables: ',disabled=False,style=style,layout=layout)\n",
    "product_type_sel = widgets.SelectMultiple(options=product_type_list,description=\"Product type:\",disabled=False,style=style,layout=layout)\n",
    "year_sel = widgets.SelectMultiple(options=year_list,description=\"Year: \",disabled=False,style=style,layout=layout)\n",
    "month_sel = widgets.SelectMultiple(options=month_list,description=\"Month: \",disabled=False,style=style,layout=layout)\n",
    "day_sel = widgets.SelectMultiple(options=day_list,description=\"Day: \",disabled=False,style=style,layout=layout)\n",
    "time_sel = widgets.SelectMultiple(options=time_list,description=\"Time: \",disabled=False,style=style,layout=layout)\n",
    "format_type_sel = \"netcdf\"  #For simplicity only netCDF files are considered (also GRIB files could be used)"
   ]
  },
  {
   "cell_type": "markdown",
   "id": "a10c5728",
   "metadata": {},
   "source": [
    "### Create the dashboard and request the data"
   ]
  },
  {
   "cell_type": "markdown",
   "id": "8635e352",
   "metadata": {},
   "source": [
    "Finally, we can now group all the widgets in a single dashboard interface. Some simple `HTML`/`CSS` code is applied to improve the styling and the widgets are grouped together using the `VBox` container. The following cell can be used to define CSS attributes and improve the styling:"
   ]
  },
  {
   "cell_type": "code",
   "execution_count": null,
   "id": "d7f67809",
   "metadata": {},
   "outputs": [],
   "source": [
    "%%html\n",
    "<style>\n",
    ".box {\n",
    "    border: 2px solid #0b385f;\n",
    "    font-weight: bold;\n",
    "    background-color: hsl(0, 0%, 98%);\n",
    "    color: #333;\n",
    "}"
   ]
  },
  {
   "cell_type": "markdown",
   "id": "e6c980db",
   "metadata": {},
   "source": [
    "As exercise, try to run the next code and select `2m_temperature` using `ensemble_mean` in a given time range:\n",
    "\n",
    "$\\color{red}{\\text{ricordare che si può usare il control per selezionare più elmenti}}$"
   ]
  },
  {
   "cell_type": "markdown",
   "id": "14ab4da1",
   "metadata": {},
   "source": [
    "<div class=\"alert alert-warning\" role=\"alert\">\n",
    "<span>&#9888;</span>\n",
    "<a id='warning'></a> Selecting longer periods will require more time for data request.\n",
    "</div>"
   ]
  },
  {
   "cell_type": "code",
   "execution_count": null,
   "id": "297d600b",
   "metadata": {
    "tags": []
   },
   "outputs": [],
   "source": [
    "# Create boxes for the dashboard\n",
    "title_box= widgets.HTML(value='<h2 style=\"text-align:center;\">'+title+'</h2><hr>')\n",
    "variables_box = widgets.VBox([title_box, params_sel, product_type_sel, year_sel, month_sel, day_sel, time_sel])\n",
    "\n",
    "# Create the dashboard \n",
    "ui = widgets.AppLayout(\n",
    "          layout=widgets.Layout(),\n",
    "          grid_gap=\"300px\")\n",
    "\n",
    "# Display the variable box\n",
    "display(variables_box.add_class(\"box\"))"
   ]
  },
  {
   "cell_type": "markdown",
   "id": "a77028b7",
   "metadata": {},
   "source": [
    "Selecting the parameter in the dashboard above will automatically change the requested data inside the next query. The query will be used for the following API `POST` request. This will send information to the server about the data you want to request.\n",
    "\n",
    "After the request is completed it returns the `Job ID` that will allows us to effectively download the data, this time using a `GET` request. Notice also how the `headers` variable changed in the following cell:"
   ]
  },
  {
   "cell_type": "code",
   "execution_count": null,
   "id": "7836413f",
   "metadata": {},
   "outputs": [],
   "source": [
    "query = {\n",
    "  \"datasetId\": dataset_id,\n",
    "  \"multiStringSelectValues\": [\n",
    "    {\n",
    "      \"name\": \"variable\",\n",
    "      \"value\": list(params_sel.value)\n",
    "    },\n",
    "    {\n",
    "      \"name\": \"year\",\n",
    "      \"value\": list(year_sel.value)\n",
    "    },\n",
    "    {\n",
    "      \"name\": \"month\",\n",
    "      \"value\": list(month_sel.value)\n",
    "    },\n",
    "    {\n",
    "      \"name\": \"day\",\n",
    "      \"value\": list(day_sel.value)\n",
    "    },\n",
    "    {\n",
    "      \"name\": \"time\",\n",
    "      \"value\":list(time_sel.value)\n",
    "    },\n",
    "    {\n",
    "      \"name\": \"product_type\",\n",
    "      \"value\": list(product_type_sel.value)\n",
    "    }\n",
    "  ],\n",
    "  \"stringChoiceValues\": [\n",
    "    {\n",
    "      \"name\": \"format\",\n",
    "      \"value\": format_type_sel\n",
    "    }\n",
    "  ]\n",
    "}\n",
    "\n",
    "headers = {\n",
    "    'Content-Type': 'application/json',\n",
    "    'Accept': 'application/json',\n",
    "    'authorization': 'Basic '+str(token)\n",
    "}\n",
    "\n",
    "data = json.dumps(query)\n",
    "dataset_post = requests.post(\"https://wekeo-broker-k8s.apps.mercator.dpi.wekeo.eu/databroker/datarequest\", headers=headers, data=data)\n",
    "job_id = json.loads(dataset_post.text)\n",
    "jobId = job_id['jobId']\n",
    "print(\"The job ID is: \"+jobId)"
   ]
  },
  {
   "cell_type": "markdown",
   "id": "a0fab2c1",
   "metadata": {},
   "source": [
    "Next, we can check whether the request is completed:\n",
    "\n",
    "<div class=\"alert alert-warning\" role=\"alert\">\n",
    "<span>&#9888;</span>\n",
    "<a id='warning'></a> You must wait until it is completed. If an error occurs check if the parameters are selected correctly inside the dashboard, or the token is still valid\n",
    "</div>"
   ]
  },
  {
   "cell_type": "code",
   "execution_count": null,
   "id": "7a98d11a",
   "metadata": {},
   "outputs": [],
   "source": [
    "get_url_request = requests.get('https://wekeo-broker.apps.mercator.dpi.wekeo.eu/databroker/datarequest/status/'+jobId, headers=headers)\n",
    "get_url = json.loads(get_url_request.text)\n",
    "if get_url['status']=='completed':\n",
    "    print('Status: Completed', end='\\r')\n",
    "\n",
    "while get_url['status']!='completed':\n",
    "    get_url_request = requests.get('https://wekeo-broker.apps.mercator.dpi.wekeo.eu/databroker/datarequest/status/'+jobId, headers=headers)\n",
    "    get_url = json.loads(get_url_request.text)\n",
    "    if get_url['status']=='running':\n",
    "        print('Status: Running', end='\\r')\n",
    "    elif get_url['status']=='failed':\n",
    "        print('Status: Failed. Check data selected.')\n",
    "        break\n",
    "    elif get_url['status']=='completed':\n",
    "        print('Status: Completed')"
   ]
  },
  {
   "cell_type": "markdown",
   "id": "0c16fe7d",
   "metadata": {},
   "source": [
    "We are ready to perform a `GET` request to effectively obtain the selected data (notice that the `headers` changed again since we changed the request). The URL for the download will be provided:"
   ]
  },
  {
   "cell_type": "code",
   "execution_count": null,
   "id": "b4b60103",
   "metadata": {},
   "outputs": [],
   "source": [
    "headers = {'authorization': 'Basic '+str(token)}\n",
    "get_url_request = requests.get('https://wekeo-broker.apps.mercator.dpi.wekeo.eu/databroker/datarequest/jobs/'+jobId+'/result', headers=headers)\n",
    "get_url = json.loads(get_url_request.text)\n",
    "url = get_url['content'][0]['url']\n",
    "print('The URL for download is: '+ get_url['content'][0]['url'])"
   ]
  },
  {
   "cell_type": "markdown",
   "id": "3c789c6f-7be7-4a7f-9b51-ae9d336d3ff4",
   "metadata": {},
   "source": [
    "Finally, we obtained the url needed to access the resource. This can be applied to all datasets, being careful to modify the code appropriately if necessary"
   ]
  },
  {
   "cell_type": "markdown",
   "id": "a9901466",
   "metadata": {},
   "source": [
    "### Read or download the data\n",
    "\n",
    "The following `RadioButtons` widget can be used to decide whether we want to:\n",
    " - download the netCDF file in the working directory and read it\n",
    " - read it into your memory without downloading it:"
   ]
  },
  {
   "cell_type": "code",
   "execution_count": null,
   "id": "d1c3a8f2",
   "metadata": {},
   "outputs": [],
   "source": [
    "download_list = [\"Download NETCDF\", \"Read NETCDF in memory\"] #Choice - Download data or just read\n",
    "download_sel = widgets.RadioButtons(options=download_list,description=\"Data download: \", value=\"Read NETCDF in memory\",style=style,layout=layout)\n",
    "download_sel"
   ]
  },
  {
   "cell_type": "markdown",
   "id": "9c75135c",
   "metadata": {},
   "source": [
    "The `download_type` function is defined inside the `wekeo2pydash_methods.py` file and it uses the xarray library to read netCDF file. Depending on the selected option it is possible to download the dataset or not:"
   ]
  },
  {
   "cell_type": "code",
   "execution_count": null,
   "id": "02c80563",
   "metadata": {},
   "outputs": [],
   "source": [
    "ds = m.download_type(download_sel, download_list, get_url)\n",
    "ds #visualize netCDF"
   ]
  },
  {
   "cell_type": "markdown",
   "id": "78108eb2",
   "metadata": {},
   "source": [
    "### Interactive visualization\n",
    "\n",
    "We are ready to plot the netCDF file previously requested. We can extract the variables and the times inside specific lists and pass them to a `Dropdown` widget as `option`:"
   ]
  },
  {
   "cell_type": "code",
   "execution_count": null,
   "id": "7dc0787e",
   "metadata": {},
   "outputs": [],
   "source": [
    "# Select the netCDF variables\n",
    "variables = list(ds.keys())\n",
    "var_drop = widgets.Dropdown(options = variables, description= \"Variable: \",style={'description_width': '100px'},layout ={'width': '400px'})\n",
    "\n",
    "# Select the netCDF times\n",
    "timings = list(ds.time.data)\n",
    "time_drop = widgets.Dropdown(options=timings,description=\"Select date: \",disabled=False,style={'description_width': '100px'},layout ={'width': '400px'})"
   ]
  },
  {
   "cell_type": "markdown",
   "id": "32b84a55",
   "metadata": {},
   "source": [
    "Next we define the function for visualizing ERA5 data and use the `interact` widgets to update the visualization when the selected parameter is changed (a moment may be necessary to visualize the updated plot):"
   ]
  },
  {
   "cell_type": "code",
   "execution_count": null,
   "id": "e73c8927",
   "metadata": {},
   "outputs": [],
   "source": [
    "def plot_era5(variable, time):\n",
    "    f = plt.figure(figsize=(15,10))\n",
    "    p = ds[var_drop.value].sel(time=time_drop.value).plot.pcolormesh(  #change time\n",
    "        subplot_kws=dict(projection=ccrs.PlateCarree(), facecolor=\"gray\"),\n",
    "        transform=ccrs.PlateCarree())\n",
    "    p.set_clim(ds[var_drop.value].min(),ds[var_drop.value].max())\n",
    "    p.axes.set_global()  #global\n",
    "    p.axes.coastlines()  #coastlines\n",
    "    p.axes.gridlines(color='black', alpha=0.5, linestyle='--')\n",
    "    p.axes.set_extent([-180, 180, -90, 90], ccrs.PlateCarree()) #extent window\n",
    "\n",
    "    # draw gridlines\n",
    "    gl = p.axes.gridlines(crs=ccrs.PlateCarree(), draw_labels=True,\n",
    "                          linewidth=2, color='gray', alpha=0.5, linestyle='--')\n",
    "\n",
    "    # adjust labels\n",
    "    gl.xlabels_top = False\n",
    "    gl.ylabels_right = False\n",
    "    gl.ylocator = mticker.AutoLocator()\n",
    "    gl.xformatter = LONGITUDE_FORMATTER\n",
    "    gl.yformatter = LATITUDE_FORMATTER\n",
    "    gl.xlabel_style = {'size': 18, 'color': 'black'}\n",
    "    gl.ylabel_style = {'size': 18, 'color': 'black'}"
   ]
  },
  {
   "cell_type": "code",
   "execution_count": null,
   "id": "f97c69e3",
   "metadata": {},
   "outputs": [],
   "source": [
    "widgets.interact(plot_era5, variable = var_drop, time=time_drop)"
   ]
  },
  {
   "cell_type": "markdown",
   "id": "7d597b48",
   "metadata": {},
   "source": [
    "----"
   ]
  },
  {
   "cell_type": "markdown",
   "id": "9a9be626",
   "metadata": {
    "tags": []
   },
   "source": [
    "<div class=\"alert alert-info\" role=\"alert\">\n",
    "\n",
    "## <a id='section2'></a>&#x27A4; 6. Example 2 - CAMS - Europe Air Quality Forecasts\n",
    "[Back to top](#TOC_TOP)\n",
    "\n",
    "</div>"
   ]
  },
  {
   "cell_type": "markdown",
   "id": "9b32c59e",
   "metadata": {},
   "source": [
    "The second dataset used as example in this notebook is the European Air Quality Forecast (CAMS). This dataset is interesting because you can also define a `Bounding Box` interactively and request data within that Region of Interest.\n",
    "\n",
    "We will go over many of the steps done in the previous chapter, and it will be shown how the code structure can be adapted to request data.\n",
    "\n",
    "First of all, we select the dataset id:"
   ]
  },
  {
   "cell_type": "code",
   "execution_count": null,
   "id": "0a4dda75",
   "metadata": {},
   "outputs": [],
   "source": [
    "dataset_id = 'EO:ECMWF:DAT:CAMS_EUROPE_AIR_QUALITY_FORECASTS'"
   ]
  },
  {
   "cell_type": "markdown",
   "id": "fbef5d34",
   "metadata": {},
   "source": [
    "### Data preview\n",
    "\n",
    "Retrieve the dataset information using its `datasetId` and filter the dataframe using Pandas:"
   ]
  },
  {
   "cell_type": "code",
   "execution_count": null,
   "id": "8ef57e5a",
   "metadata": {},
   "outputs": [],
   "source": [
    "size = 2000\n",
    "dataset = requests.get(\"https://wekeo-broker-k8s.apps.mercator.dpi.wekeo.eu/databroker/datasets?size=\"+str(size))\n",
    "data = json.loads(dataset.text)\n",
    "data_df = pd.json_normalize(data['content'])\n",
    "data_df = data_df[data_df['datasetId'] == dataset_id]\n",
    "data_df"
   ]
  },
  {
   "cell_type": "markdown",
   "id": "3144ccdf",
   "metadata": {},
   "source": [
    "As we did in the previous chapter, let's create a preview for the `Copernicus CAMS European Air Quality Forecast` dataset:"
   ]
  },
  {
   "cell_type": "code",
   "execution_count": null,
   "id": "e81ad0f6",
   "metadata": {},
   "outputs": [],
   "source": [
    "# Get the dataset title from data_df\n",
    "title = data_df.title.values[0]\n",
    "\n",
    "# Get the description from data_df\n",
    "description = list(data_df[\"abstract\"])[0].replace(\"�\", \"\\u03BC\")\n",
    "\n",
    "# Get the dataset image preview and create a display\n",
    "img_url = list(data_df[\"previewImage\"])[0]\n",
    "image = IPython.display.Image(img_url, width = 500)\n",
    "image = widgets.Image(value=image.data,format=\"jpg\", width=500,height=600)"
   ]
  },
  {
   "cell_type": "code",
   "execution_count": null,
   "id": "ba43116b",
   "metadata": {},
   "outputs": [],
   "source": [
    "# Create the boxes\n",
    "title_box = widgets.HTML('<h2 style=\"text-align:center;font-size:18px;\">'+title+'</h2>')\n",
    "descr_box = widgets.HTML('<p style=\"text-align:justify;font-size:14px;\">'+description+'</p>')\n",
    "image_box = widgets.VBox([image])\n",
    "descr_box = widgets.VBox([title_box, descr_box])\n",
    "\n",
    "# Create the Layout for the dataset preview\n",
    "ui = widgets.AppLayout(right_sidebar=descr_box, left_sidebar = image_box,grid_gap=\"10px\", layout=widgets.Layout(border='solid'))\n",
    "container = widgets.Box([ui], layout=Layout(height='400px', overflow_y='auto'))\n",
    "display(container)"
   ]
  },
  {
   "cell_type": "markdown",
   "id": "2b5fcae8",
   "metadata": {},
   "source": [
    "### Requirements to create an interactive dashboard for CAMS European Air Quality Forecast\n",
    "\n",
    "Always using WEkEO website we can check the information required to create the query for CAMS European Air Quality Forecast. In this example we must define multiple variables:\n",
    "- `Bounding Box`: bounding box latitude and longitude (west, east, north, south)\n",
    "- `Date Range`: start and end date\n",
    "- `Variable`: product variable (pollutants)\n",
    "- `Model`: air quality models (e.g. ensemble)\n",
    "- `Level`: meters above surface\n",
    "- `Type`: analysis or forecast\n",
    "- `Time`: model base time\n",
    "- `Lead time Hour`: forecast lead time in hours\n",
    "- `Format`: e.g. netCDF"
   ]
  },
  {
   "cell_type": "markdown",
   "id": "6d81867f",
   "metadata": {},
   "source": [
    "### Accessing resource metadata\n",
    "\n",
    "Let's access dataset metadata and visualize the JSON file structure for this dataset:"
   ]
  },
  {
   "cell_type": "code",
   "execution_count": null,
   "id": "7b97d3ae",
   "metadata": {},
   "outputs": [],
   "source": [
    "dataset = requests.get(\"https://wekeo-broker-k8s.apps.mercator.dpi.wekeo.eu/databroker/querymetadata/\"+dataset_id, headers=headers)\n",
    "metadata = json.loads(dataset.text)\n",
    "display(JSON(metadata))"
   ]
  },
  {
   "cell_type": "markdown",
   "id": "652baa36",
   "metadata": {},
   "source": [
    "### Create the widgets\n",
    "\n",
    "Create the lists contaning the values for each parameter required by the query:"
   ]
  },
  {
   "cell_type": "code",
   "execution_count": null,
   "id": "c4958579",
   "metadata": {},
   "outputs": [],
   "source": [
    "format_type_list = list(['netcdf'])\n",
    "params_list = list(metadata['parameters']['multiStringSelects'][0]['details']['groupedValueLabels'][0]['valuesLabels'].keys())\n",
    "product_type_list = list(metadata['parameters']['multiStringSelects'][1]['details']['groupedValueLabels'][0]['valuesLabels'].keys())\n",
    "level_list = list(metadata['parameters']['multiStringSelects'][2]['details']['groupedValueLabels'][0]['valuesLabels'].keys())\n",
    "type_list = list(metadata['parameters']['multiStringSelects'][3]['details']['groupedValueLabels'][0]['valuesLabels'].keys())\n",
    "hour_list = list(metadata['parameters']['multiStringSelects'][4]['details']['groupedValueLabels'][0]['valuesLabels'].keys())\n",
    "leadtime_list = list(metadata['parameters']['multiStringSelects'][5]['details']['groupedValueLabels'][0]['valuesLabels'].keys())"
   ]
  },
  {
   "cell_type": "markdown",
   "id": "d60c2e5c",
   "metadata": {},
   "source": [
    "Create the widgets for the interactive dashboard. We use a `SelectMultiple` widget for all the variables except for the date, for which we use a `DatePicker` widget:"
   ]
  },
  {
   "cell_type": "code",
   "execution_count": null,
   "id": "5f81b062",
   "metadata": {},
   "outputs": [],
   "source": [
    "style = {'description_width': '200px'}\n",
    "layout = {'width': '800px'}\n",
    "\n",
    "params_sel = widgets.SelectMultiple(options=params_list,description='Variables: ',disabled=False,style=style,layout=layout)\n",
    "product_type_sel = widgets.SelectMultiple(options=product_type_list,description='Product type: ',disabled=False,style=style,layout=layout)\n",
    "level_sel = widgets.SelectMultiple(options=level_list,description='Level: ',disabled=False,style=style,layout=layout)\n",
    "type_sel = widgets.SelectMultiple(options=type_list,description='Type: ',disabled=False,style=style,layout=layout)\n",
    "hour_sel = widgets.SelectMultiple(options=hour_list,description='Hour: ',disabled=False,style=style,layout=layout)\n",
    "leadtime_sel = widgets.SelectMultiple(options=leadtime_list,description='Leadtime: ',disabled=False,style=style,layout=layout)\n",
    "format_type_sel = \"netcdf\"\n",
    "start_date_sel = widgets.DatePicker(description='Select start date: ',disabled=False,style=style,layout=layout)\n",
    "end_date_sel = widgets.DatePicker(description='Select end date: ',disabled=False,style=style,layout=layout)"
   ]
  },
  {
   "cell_type": "markdown",
   "id": "35603ae7",
   "metadata": {},
   "source": [
    "### Bounding Box interactive selection\n",
    "\n",
    "As already mentioned, for the `CAMS European Air Quality Forecast` dataset we can provide a `Bounding Box` contanining the Region of Interest for which we want to require the data. \n",
    "An interactive way to select the Bounding Box is to use the [<span style='color:Blue'>Ipyleaflet</span>](https://ipyleaflet.readthedocs.io/en/latest/) library. The  function `draw_map` it's available inside the `wekeo2pydash_methods.py`, created using this library. The following code will generate a map and with the `Draw a Rectangle` tool (on the left side of the map) the desired area can be selected inside the red extents:"
   ]
  },
  {
   "cell_type": "code",
   "execution_count": null,
   "id": "c9a0e819",
   "metadata": {},
   "outputs": [],
   "source": [
    "cams_map, dc = m.draw_map(45, 10, 2)  # lat=45, lon=10, zoom=4\n",
    "area_extent = Rectangle(bounds=((30, -25), (72, 45)), color='red', fill_color='red', fill_opacity=0.1)\n",
    "cams_map.add_layer(area_extent)\n",
    "cams_map"
   ]
  },
  {
   "cell_type": "markdown",
   "id": "ef66b3e9",
   "metadata": {},
   "source": [
    "The `Bounding Box` coordinates can be obtained (of course you can change W,E, N, S variables values if specific coordinates must be used):"
   ]
  },
  {
   "cell_type": "code",
   "execution_count": null,
   "id": "bd5b0b63",
   "metadata": {},
   "outputs": [],
   "source": [
    "coords = dc.last_draw['geometry']['coordinates'][0]\n",
    "W = coords[1][0]\n",
    "E = coords[3][0]\n",
    "N = coords[1][1]\n",
    "S = coords[3][1]"
   ]
  },
  {
   "cell_type": "markdown",
   "id": "f55c75c7",
   "metadata": {},
   "source": [
    "It's also important to check the time range for data availability:"
   ]
  },
  {
   "cell_type": "code",
   "execution_count": null,
   "id": "4fb39c54",
   "metadata": {},
   "outputs": [],
   "source": [
    "start_date = metadata['parameters']['dateRangeSelects'][0]['details']['start']\n",
    "print(\"The start date for this dataset is: \"+start_date+\". You can select data after this date.\")"
   ]
  },
  {
   "cell_type": "markdown",
   "id": "f96186a8",
   "metadata": {},
   "source": [
    "### Create the dashboard and request the data\n",
    "\n",
    "Now it's possible to create a dashboard as we did during the previous chapter, but this time we will use the widgets specifically created for the `CAMS European Air Quality Forecast` dataset. Try to select the following data:\n",
    "- `variable`: ammonia\n",
    "- `product type`: ensemble\n",
    "- `level`: 0\n",
    "- `type`: analysis\n",
    "- `leadtime hour`: 0\n",
    "- `hour`: 12:00\n",
    "- `start-end date`: from 01/03/2020 to 01/04/2020"
   ]
  },
  {
   "cell_type": "code",
   "execution_count": null,
   "id": "d535ef97",
   "metadata": {},
   "outputs": [],
   "source": [
    "%%html\n",
    "<style>\n",
    ".box {\n",
    "    border: 2px solid #0b385f;\n",
    "    font-weight: bold;\n",
    "    background-color: hsl(0, 0%, 98%);\n",
    "    color: #333;\n",
    "}"
   ]
  },
  {
   "cell_type": "code",
   "execution_count": null,
   "id": "ebb38221",
   "metadata": {},
   "outputs": [],
   "source": [
    "# Create boxes for the dashboard\n",
    "title_box= widgets.HTML(value='<h2 style=\"text-align:center;\">'+title+'</h2><hr>')\n",
    "variables_box = widgets.VBox([title_box, params_sel, product_type_sel, level_sel, type_sel, hour_sel, leadtime_sel, start_date_sel, end_date_sel])\n",
    "\n",
    "# Create the dashboard \n",
    "ui = widgets.AppLayout(layout=widgets.Layout(), grid_gap=\"300px\")\n",
    "\n",
    "display(variables_box.add_class(\"box\"))"
   ]
  },
  {
   "cell_type": "markdown",
   "id": "e84c82a1",
   "metadata": {},
   "source": [
    "We can run the query after selecting the proper values inside the dashboard:"
   ]
  },
  {
   "cell_type": "code",
   "execution_count": null,
   "id": "d1aa67aa",
   "metadata": {},
   "outputs": [],
   "source": [
    "query = {\n",
    "      \"datasetId\": dataset_id,\n",
    "      \"boundingBoxValues\": [\n",
    "        {\n",
    "          \"name\": \"area\",\n",
    "          \"bbox\": [\n",
    "            W,\n",
    "            N,\n",
    "            E,\n",
    "            S\n",
    "          ]\n",
    "        }\n",
    "      ],\n",
    "      \"dateRangeSelectValues\": [\n",
    "        {\n",
    "          \"name\": \"date\",\n",
    "          \"start\": start_date_sel.value.strftime(\"%Y-%m-%dT%H:%M:%S.000Z\"),\n",
    "          \"end\": end_date_sel.value.strftime(\"%Y-%m-%dT%H:%M:%S.000Z\")\n",
    "        }\n",
    "      ],\n",
    "      \"multiStringSelectValues\": [\n",
    "        {\n",
    "          \"name\": \"variable\",\n",
    "          \"value\": list(params_sel.value)\n",
    "        },\n",
    "        {\n",
    "          \"name\": \"model\",\n",
    "          \"value\": list(product_type_sel.value)\n",
    "        },\n",
    "        {\n",
    "          \"name\": \"level\",\n",
    "          \"value\": list(level_sel.value)\n",
    "        },\n",
    "        {\n",
    "          \"name\": \"type\",\n",
    "          \"value\": list(type_sel.value)\n",
    "        },\n",
    "        {\n",
    "          \"name\": \"time\",\n",
    "          \"value\": list(hour_sel.value)\n",
    "        },\n",
    "        {\n",
    "          \"name\": \"leadtime_hour\",\n",
    "          \"value\": list(leadtime_sel.value)\n",
    "        }\n",
    "      ],\n",
    "      \"stringChoiceValues\": [\n",
    "        {\n",
    "          \"name\": \"format\",\n",
    "          \"value\": format_type_sel\n",
    "        }\n",
    "      ]\n",
    "    }\n",
    "      \n",
    "headers = {\n",
    "    'Content-Type': 'application/json',\n",
    "    'Accept': 'application/json',\n",
    "    'authorization': 'Basic '+str(token)}\n",
    "\n",
    "data = json.dumps(query)\n",
    "dataset_post = requests.post(\"https://wekeo-broker-k8s.apps.mercator.dpi.wekeo.eu/databroker/datarequest\", headers=headers, data=data)\n",
    "job_id = json.loads(dataset_post.text)\n",
    "jobId = job_id['jobId']\n",
    "print(\"The job ID is: \"+jobId)"
   ]
  },
  {
   "cell_type": "markdown",
   "id": "70eabcfc",
   "metadata": {},
   "source": [
    "Next, we can check whether the request is completed:\n",
    "\n",
    "<div class=\"alert alert-warning\" role=\"alert\">\n",
    "<span>&#9888;</span>\n",
    "<a id='warning'></a> You must wait until it is completed. If an error occurs check if the parameters are selected correctly inside the dashboard, or the token is still valid\n",
    "</div>"
   ]
  },
  {
   "cell_type": "code",
   "execution_count": null,
   "id": "3617ec2c",
   "metadata": {},
   "outputs": [],
   "source": [
    "get_url_request = requests.get('https://wekeo-broker.apps.mercator.dpi.wekeo.eu/databroker/datarequest/status/'+jobId, headers=headers)\n",
    "get_url = json.loads(get_url_request.text)\n",
    "if get_url['status']=='completed':\n",
    "    print('Status: Completed', end='\\r')\n",
    "\n",
    "while get_url['status']!='completed':\n",
    "    get_url_request = requests.get('https://wekeo-broker.apps.mercator.dpi.wekeo.eu/databroker/datarequest/status/'+jobId, headers=headers)\n",
    "    get_url = json.loads(get_url_request.text)\n",
    "    if get_url['status']=='running':\n",
    "        print('Status: Running', end='\\r')\n",
    "    elif get_url['status']=='failed':\n",
    "        print('Status: Failed. Check data selected.')\n",
    "        break\n",
    "    elif get_url['status']=='completed':\n",
    "        print('Status: Completed')"
   ]
  },
  {
   "cell_type": "markdown",
   "id": "38ce590a",
   "metadata": {},
   "source": [
    "Now we can retrieve the URL of the data in netCDF format:"
   ]
  },
  {
   "cell_type": "code",
   "execution_count": null,
   "id": "20691aa0",
   "metadata": {},
   "outputs": [],
   "source": [
    "headers = {'authorization': 'Basic '+str(token)}\n",
    "get_url_request = requests.get('https://wekeo-broker.apps.mercator.dpi.wekeo.eu/databroker/datarequest/jobs/'+jobId+'/result', headers=headers)\n",
    "get_url = json.loads(get_url_request.text)\n",
    "# print(get_url)\n",
    "url = get_url['content'][0]['url']\n",
    "print('The URL for download is: '+ get_url['content'][0]['url'])"
   ]
  },
  {
   "cell_type": "markdown",
   "id": "e170d9e0",
   "metadata": {},
   "source": [
    "### Read or download the data\n",
    "\n",
    "Again, we can decide whether we want to download the `netCDF` file with its original name or read it directly into memory:"
   ]
  },
  {
   "cell_type": "code",
   "execution_count": null,
   "id": "81bc173c",
   "metadata": {},
   "outputs": [],
   "source": [
    "download_list = [\"Download NETCDF\", \"Read NETCDF in memory\"] #Choice - Download data or just read\n",
    "download_sel = widgets.RadioButtons(options=download_list,description=\"Data download: \", value=\"Read NETCDF in memory\",style=style,layout=layout)\n",
    "download_sel"
   ]
  },
  {
   "cell_type": "markdown",
   "id": "df584675",
   "metadata": {},
   "source": [
    "We can use the same `download_type` function and then proceed to plot the file:"
   ]
  },
  {
   "cell_type": "code",
   "execution_count": null,
   "id": "d24ed8db",
   "metadata": {},
   "outputs": [],
   "source": [
    "ds = m.download_type(download_sel, download_list, get_url)\n",
    "ds"
   ]
  },
  {
   "cell_type": "markdown",
   "id": "0d3de288",
   "metadata": {},
   "source": [
    "### NetCDF time format conversion\n",
    "\n",
    "Since the `time` variable for this dataset is save as timedelta (a duration expressing the difference between two time), we need to change it from `timedelta` to `datetime`, to obtain the actual date:"
   ]
  },
  {
   "cell_type": "code",
   "execution_count": null,
   "id": "bff47ac4",
   "metadata": {},
   "outputs": [],
   "source": [
    "#define times\n",
    "timestamp = ds.time.long_name[19:27]\n",
    "time_start= int(hour_sel.value[0][0:2])  #if using data starting at different hour (e.g. 2020-01-01 at 14PM -> set to 14). Must check with multiple hours are selected\n",
    "timestamp_init=datetime.datetime.strptime(timestamp,'%Y%m%d')+datetime.timedelta(hours=time_start)\n",
    "time_coords = pd.date_range(timestamp_init, periods=len(ds.time), freq='1d').strftime(\"%Y-%m-%d %H:%M:%S\").astype('datetime64[ns]')\n",
    "\n",
    "# Assign the datetimes instead of timedeltas\n",
    "ds_assign = ds.assign_coords(time=time_coords)\n",
    "ds_assign = ds_assign.assign_coords(longitude=(((ds_assign.longitude+180)%360)-180)).sortby('longitude')\n",
    "ds_assign"
   ]
  },
  {
   "cell_type": "markdown",
   "id": "253970ef-8361-4e65-b319-0a69c36477fe",
   "metadata": {},
   "source": [
    "### Interactive visualization"
   ]
  },
  {
   "cell_type": "code",
   "execution_count": null,
   "id": "1e791ac7",
   "metadata": {},
   "outputs": [],
   "source": [
    "# Select the netCDF variables\n",
    "variables = list(ds.keys())\n",
    "var_drop = widgets.Dropdown(options=variables,description='Variables: ',disabled=False,style={'description_width': '100px'},layout ={'width': '400px'})\n",
    "# Select the netCDF times\n",
    "timings = list(ds_assign.time.data)\n",
    "time_drop = widgets.Dropdown(options=timings,description=\"Select date: \",disabled=False,style={'description_width': '100px'},layout ={'width': '400px'})"
   ]
  },
  {
   "cell_type": "markdown",
   "id": "c5743a83",
   "metadata": {},
   "source": [
    "We are ready to plot the data for the selected variable and date:"
   ]
  },
  {
   "cell_type": "code",
   "execution_count": null,
   "id": "c41eb7d2",
   "metadata": {},
   "outputs": [],
   "source": [
    "def cams_plot(variable, time):  \n",
    "    f = plt.figure(figsize=(15,10))\n",
    "    p = ds_assign[var_drop.value].sel(time=time_drop.value).plot(  #change time\n",
    "    subplot_kws=dict(projection=ccrs.PlateCarree(), facecolor=\"gray\"),\n",
    "    transform=ccrs.PlateCarree())\n",
    "    p.set_clim(ds_assign[var_drop.value].min(),ds_assign[var_drop.value].max())\n",
    "    p.axes.set_global()\n",
    "    p.axes.coastlines()\n",
    "    p.axes.gridlines(color='black', alpha=0.5, linestyle='--')\n",
    "    p.axes.set_extent([W,E,S,N], ccrs.PlateCarree())\n",
    " \n",
    "    gl = p.axes.gridlines(crs=ccrs.PlateCarree(), draw_labels=True,\n",
    "                          linewidth=2, color='gray', alpha=0.5, linestyle='--')\n",
    "\n",
    "    gl.xlabels_top = False\n",
    "    gl.ylabels_right = False\n",
    "    gl.ylocator = mticker.AutoLocator()\n",
    "    gl.xformatter = LONGITUDE_FORMATTER\n",
    "    gl.yformatter = LATITUDE_FORMATTER\n",
    "    gl.xlabel_style = {'size': 18, 'color': 'black'}\n",
    "    gl.ylabel_style = {'size': 18, 'color': 'black'}"
   ]
  },
  {
   "cell_type": "code",
   "execution_count": null,
   "id": "38078d99",
   "metadata": {},
   "outputs": [],
   "source": [
    "widgets.interact(cams_plot, variable = var_drop, time=time_drop)"
   ]
  },
  {
   "cell_type": "markdown",
   "id": "1b2c2db5",
   "metadata": {},
   "source": [
    "### Interactive time-serie plotting in a specific location\n",
    "\n",
    "The `Ipyleaflet` functionalities can be also used to select a specific location and check the corresponding time series for a pollutant in that point. We plot the map again and with the `Draw a Marker` tool (on the left side of the map) we can select a location inside the previous `Bounding Box`:\n",
    "\n",
    "$\\color{red}{\\text{ pulire cash mappa, rimangono gli oggetti selezionati prima}}$"
   ]
  },
  {
   "cell_type": "code",
   "execution_count": null,
   "id": "31770aee",
   "metadata": {},
   "outputs": [],
   "source": [
    "cams_map"
   ]
  },
  {
   "cell_type": "markdown",
   "id": "4cf8b2d3",
   "metadata": {},
   "source": [
    "We get the `longitude` and the `latitude` of the location and we can plot the time serie for the selected variable and location:"
   ]
  },
  {
   "cell_type": "code",
   "execution_count": null,
   "id": "82c7da0e",
   "metadata": {},
   "outputs": [],
   "source": [
    "coords = dc.last_draw['geometry']['coordinates']\n",
    "lati=coords[1]\n",
    "loni=coords[0]\n",
    "\n",
    "var = ds_assign.sel(longitude=loni, latitude=lati, method='nearest')[var_drop.value]"
   ]
  },
  {
   "cell_type": "code",
   "execution_count": null,
   "id": "4056e766",
   "metadata": {},
   "outputs": [],
   "source": [
    "f = plt.figure(figsize=(12,12))\n",
    "ax=f.add_subplot(211)\n",
    "\n",
    "ax.set_title(ds_assign.title , fontsize=20)\n",
    "ax.grid()\n",
    "ax.set_ylabel(ds_assign[var_drop.value].species+' '+'['+ds_assign[var_drop.value].units+']', fontsize=18)\n",
    "ax.plot(ds_assign.time, var,c='tab:green', linewidth=2)\n",
    "f.suptitle('Latitude: '+str(lati)+' \\nLongitude: '+str(loni),ha= 'left', fontsize=20)\n",
    "f.autofmt_xdate()\n",
    "\n",
    "states_provinces = cfeature.NaturalEarthFeature(\n",
    "        category='cultural',\n",
    "        name='admin_0_boundary_lines_land',\n",
    "        scale='110m',\n",
    "        facecolor='none')\n",
    "ax_mini_map = f.add_axes([0.8, 0.90, 0.2, 0.15], projection=ccrs.PlateCarree())\n",
    "gl = ax_mini_map.axes.gridlines(draw_labels=True)\n",
    "ax_mini_map.add_feature(states_provinces, edgecolor='gray')\n",
    "gl.xlabels_top = False\n",
    "gl.ylabels_right = False\n",
    "ax_mini_map.add_feature(cfeature.LAND, zorder= 0, edgecolor='k')\n",
    "ax_mini_map.set_extent([W-1,E+1,S-1,N+1])\n",
    "ax_mini_map.scatter(loni, lati, 15, 'tab:red', transform=ccrs.PlateCarree())\n",
    "ax_mini_map.annotate('Location', (loni, lati),xytext=(3, 3), textcoords='offset points')"
   ]
  },
  {
   "cell_type": "markdown",
   "id": "30a269c7",
   "metadata": {},
   "source": [
    "----"
   ]
  },
  {
   "cell_type": "markdown",
   "id": "45303d58",
   "metadata": {
    "tags": []
   },
   "source": [
    "<div class=\"alert alert-info\" role=\"alert\">\n",
    "\n",
    "## <a id='section3'></a>&#x27A4; 7. Example 3 - Copernicus Marine Service (CMEMS) Atlantic - European North West Shelf - Ocean Physics Analysis and Forecast\n",
    "[Back to top](#TOC_TOP)\n",
    "\n",
    "</div>"
   ]
  },
  {
   "cell_type": "markdown",
   "id": "9f8e2f74",
   "metadata": {},
   "source": [
    "The structure of this section is similar to the previous two examples. In this case we will consider the `Copernicus Marine Service (CMEMS) Atlantic - European North West Shelf - Ocean Physics Analysis and Forecast`.\n",
    "\n",
    "In this case we will see also how to order data and how to save them when a direct URL to the resource is not provided. \n",
    "This step will complete the review of the most relevant features available using HDA API to access WEkEO datasets.\n",
    "\n",
    "\n",
    "As usual, we are select the dataset using its ID:"
   ]
  },
  {
   "cell_type": "code",
   "execution_count": null,
   "id": "a786409f",
   "metadata": {},
   "outputs": [],
   "source": [
    "dataset_id = 'EO:MO:DAT:NWSHELF_ANALYSISFORECAST_PHY_LR_004_001:cmems_mod_nws_phy-bottomt_anfc_7km-2D_P1D-m'"
   ]
  },
  {
   "cell_type": "markdown",
   "id": "4ad70a17",
   "metadata": {},
   "source": [
    "### Data preview\n",
    "\n",
    "Let's generate the dataset preview, in the same way we did in the previous examples:"
   ]
  },
  {
   "cell_type": "code",
   "execution_count": null,
   "id": "926720e4",
   "metadata": {},
   "outputs": [],
   "source": [
    "size = 2000\n",
    "dataset = requests.get(\"https://wekeo-broker-k8s.apps.mercator.dpi.wekeo.eu/databroker/datasets?size=\"+str(size))\n",
    "data = json.loads(dataset.text)\n",
    "data_df = pd.json_normalize(data['content'])\n",
    "data_df = data_df[data_df['datasetId'] == dataset_id]\n",
    "data_df"
   ]
  },
  {
   "cell_type": "code",
   "execution_count": null,
   "id": "685009fc",
   "metadata": {},
   "outputs": [],
   "source": [
    "# Get the dataset title from data_df\n",
    "title = data_df.title.values[0]\n",
    "\n",
    "# Get the description from data_df\n",
    "description = list(data_df[\"abstract\"])[0]\n",
    "\n",
    "# Get the dataset image preview and create a display\n",
    "img_url = list(data_df[\"previewImage\"])[0]\n",
    "image = IPython.display.Image(img_url, width = 500)\n",
    "image = widgets.Image(value=image.data,format=\"jpg\", width=500,height=600)"
   ]
  },
  {
   "cell_type": "code",
   "execution_count": null,
   "id": "7b6010e1",
   "metadata": {},
   "outputs": [],
   "source": [
    "# Create the boxes\n",
    "title_box = widgets.HTML('<h2 style=\"text-align:center;font-size:18px;\">'+title+'</h2>')\n",
    "descr_box = widgets.HTML('<p style=\"text-align:justify;font-size:14px;\">'+description+'</p>')\n",
    "image_box = widgets.VBox([image])\n",
    "descr_box = widgets.VBox([title_box, descr_box])\n",
    "\n",
    "# Create the Layout for the dataset preview\n",
    "ui = widgets.AppLayout(right_sidebar=descr_box, left_sidebar = image_box,grid_gap=\"10px\", layout=widgets.Layout(border='solid'))\n",
    "container = widgets.Box([ui], layout=Layout(height='400px', overflow_y='auto'))\n",
    "display(container)\n",
    "\n"
   ]
  },
  {
   "cell_type": "markdown",
   "id": "5ce44260",
   "metadata": {},
   "source": [
    "### Requirements to create an interactive dashboard for Copernicus Marine Service (CMEMS) Atlantic - European North West Shelf - Ocean Physics Analysis and Forecast\n",
    "\n",
    "This dataset requires few parameters, so we have to define only:\n",
    "- `Bounding Box`\n",
    "- `Start-end date`"
   ]
  },
  {
   "cell_type": "markdown",
   "id": "7bda56e9",
   "metadata": {},
   "source": [
    "### Accessing resource metadata\n",
    "\n",
    "Let's start requesting the dataset `metadata`:"
   ]
  },
  {
   "cell_type": "code",
   "execution_count": null,
   "id": "e009d726",
   "metadata": {},
   "outputs": [],
   "source": [
    "dataset = requests.get(\"https://wekeo-broker-k8s.apps.mercator.dpi.wekeo.eu/databroker/querymetadata/\"+dataset_id, headers=headers)\n",
    "metadata = json.loads(dataset.text)\n",
    "display(JSON(metadata))"
   ]
  },
  {
   "cell_type": "markdown",
   "id": "8f12d34e",
   "metadata": {},
   "source": [
    "### Create the widgets\n",
    "\n",
    "Again to obtain the widgets, first we create the lists using the `metadata` and then generate the `DatePicker` widgets for the start/end date selection:"
   ]
  },
  {
   "cell_type": "code",
   "execution_count": null,
   "id": "a4865a49",
   "metadata": {},
   "outputs": [],
   "source": [
    "variable_list = list(metadata['parameters']['multiStringSelects'][0]['details']['groupedValueLabels'][0]['valuesLabels'].keys())\n",
    "end = metadata['parameters']['dateRangeSelects'][0]['details']['end']\n",
    "start = metadata['parameters']['dateRangeSelects'][0]['details']['start']\n",
    "print(\"The start date for this dataset is \"+start+\". The end date is \"+end)"
   ]
  },
  {
   "cell_type": "code",
   "execution_count": null,
   "id": "6f02ca8e",
   "metadata": {},
   "outputs": [],
   "source": [
    "style = {'description_width': '200px'}\n",
    "layout = {'width': '800px'}\n",
    "\n",
    "start_date_sel = widgets.DatePicker(description='Select start date: ',disabled=False,style=style,layout=layout)\n",
    "end_date_sel = widgets.DatePicker(description='Select end date: ',disabled=False,style=style,layout=layout)"
   ]
  },
  {
   "cell_type": "markdown",
   "id": "f8fa7972",
   "metadata": {},
   "source": [
    "### Bounding Box interactive selection\n",
    "\n",
    "As we did for for the previous example, let's plot the interactive map and draw the Region of Interest using the `Draw a rectangle` tool over the Atlantic Ocean highlighted inside the red extent:"
   ]
  },
  {
   "cell_type": "code",
   "execution_count": null,
   "id": "70807409",
   "metadata": {},
   "outputs": [],
   "source": [
    "cmems_map, dc = m.draw_map(52, -10, 3)  #lat=50, lon=-10, zoom=4\n",
    "area_extent = Rectangle(bounds=((40, -20), (65, 13)), color='red', fill_color='red', fill_opacity=0.1)\n",
    "cmems_map.add_layer(area_extent)\n",
    "cmems_map"
   ]
  },
  {
   "cell_type": "markdown",
   "id": "8458dbb0",
   "metadata": {},
   "source": [
    "Get the coordinates from the Region of Interest:"
   ]
  },
  {
   "cell_type": "code",
   "execution_count": null,
   "id": "da662afc",
   "metadata": {},
   "outputs": [],
   "source": [
    "coords = dc.last_draw['geometry']['coordinates'][0]\n",
    "W = coords[1][0]\n",
    "E = coords[3][0]\n",
    "N = coords[1][1]\n",
    "S = coords[3][1]"
   ]
  },
  {
   "cell_type": "markdown",
   "id": "c2438642",
   "metadata": {},
   "source": [
    "### Create the dashboard and request the data\n",
    "\n",
    "In this case the dashbord is simple, since the only parameters required are the Bounding Box and the start/end dates:"
   ]
  },
  {
   "cell_type": "code",
   "execution_count": null,
   "id": "40afc0ec-96c7-4afe-8949-1336996fb039",
   "metadata": {},
   "outputs": [],
   "source": [
    "%%html\n",
    "<style>\n",
    ".box {\n",
    "    border: 2px solid #0b385f;\n",
    "    font-weight: bold;\n",
    "    background-color: hsl(0, 0%, 98%);\n",
    "    color: #333;\n",
    "}"
   ]
  },
  {
   "cell_type": "code",
   "execution_count": null,
   "id": "d55bd535",
   "metadata": {},
   "outputs": [],
   "source": [
    "# Create boxes for the dashboard\n",
    "title_box = widgets.HTML(value='<b>'+title+'</b>', disabled=True)\n",
    "variables = widgets.VBox([title_box, start_date_sel, end_date_sel])\n",
    "\n",
    "# Create the dashboard \n",
    "ui = widgets.AppLayout(layout=widgets.Layout(), grid_gap=\"300px\")\n",
    "\n",
    "display(variables.add_class(\"box\"))"
   ]
  },
  {
   "cell_type": "markdown",
   "id": "0364acfb",
   "metadata": {},
   "source": [
    "Request data using the query and obtain the `Job ID`:"
   ]
  },
  {
   "cell_type": "code",
   "execution_count": null,
   "id": "bbbcd915",
   "metadata": {},
   "outputs": [],
   "source": [
    "query = {\n",
    "  \"datasetId\": dataset_id,\n",
    "  \"boundingBoxValues\": [\n",
    "    {\n",
    "      \"name\": \"bbox\",\n",
    "      \"bbox\": [W, S, E, N]\n",
    "    }\n",
    "  ],\n",
    "  \"dateRangeSelectValues\": [\n",
    "    {\n",
    "      \"name\": \"position\",\n",
    "      \"start\": start_date_sel.value.strftime(\"%Y-%m-%dT%H:%M:%S.000Z\"),\n",
    "      \"end\": end_date_sel.value.strftime(\"%Y-%m-%dT%H:%M:%S.000Z\")\n",
    "    }\n",
    "  ],\n",
    "  \"multiStringSelectValues\": [\n",
    "    {\n",
    "      \"name\": \"variable\",\n",
    "      \"value\": [\n",
    "        \"bottomT\"\n",
    "      ]\n",
    "    }\n",
    "  ],\n",
    "  \"stringChoiceValues\": [\n",
    "    {\n",
    "      \"name\": \"service\",\n",
    "      \"value\": \"NWSHELF_ANALYSISFORECAST_PHY_LR_004_001-TDS\"\n",
    "    },\n",
    "    {\n",
    "      \"name\": \"product\",\n",
    "      \"value\": \"cmems_mod_nws_phy-bottomt_anfc_7km-2D_P1D-m\"\n",
    "    }\n",
    "  ]\n",
    "}\n",
    "\n",
    "headers = {\n",
    "    'Content-Type': 'application/json',\n",
    "    'Accept': 'application/json',\n",
    "    'authorization': 'Basic '+str(token)}\n",
    "\n",
    "data = json.dumps(query)\n",
    "dataset_post = requests.post(\"https://wekeo-broker-k8s.apps.mercator.dpi.wekeo.eu/databroker/datarequest\", headers=headers, data=data)\n",
    "job_id = json.loads(dataset_post.text)\n",
    "jobId = job_id['jobId']\n",
    "print(\"The job ID is: \"+jobId)"
   ]
  },
  {
   "cell_type": "markdown",
   "id": "3832d49d",
   "metadata": {},
   "source": [
    "Next, we can check whether the request is completed:\n",
    "\n",
    "<div class=\"alert alert-warning\" role=\"alert\">\n",
    "<span>&#9888;</span>\n",
    "<a id='warning'></a> You must wait until it is completed. If an error occurs check if the parameters are selected correctly inside the dashboard, or the token is still valid\n",
    "</div>"
   ]
  },
  {
   "cell_type": "code",
   "execution_count": null,
   "id": "35987992",
   "metadata": {},
   "outputs": [],
   "source": [
    "get_url_request = requests.get('https://wekeo-broker.apps.mercator.dpi.wekeo.eu/databroker/datarequest/status/'+jobId, headers=headers)\n",
    "get_url = json.loads(get_url_request.text)\n",
    "if get_url['status']=='completed':\n",
    "    print('Status: Completed', end='\\r')\n",
    "\n",
    "while get_url['status']!='completed':\n",
    "    get_url_request = requests.get('https://wekeo-broker.apps.mercator.dpi.wekeo.eu/databroker/datarequest/status/'+jobId, headers=headers)\n",
    "    get_url = json.loads(get_url_request.text)\n",
    "    if get_url['status']=='running':\n",
    "        print('Status: Running', end='\\r')\n",
    "    elif get_url['status']=='failed':\n",
    "        print('Status: Failed. Check data selected.')\n",
    "        break\n",
    "    elif get_url['status']=='completed':\n",
    "        print('Status: Completed')"
   ]
  },
  {
   "cell_type": "markdown",
   "id": "19ada148",
   "metadata": {},
   "source": [
    "As we did in the previous examples, we can request the data using the `GET` request providing the `JOB ID`:"
   ]
  },
  {
   "cell_type": "code",
   "execution_count": null,
   "id": "b079ed27",
   "metadata": {},
   "outputs": [],
   "source": [
    "headers = {'authorization': 'Basic '+str(token)}\n",
    "get_url_request = requests.get('https://wekeo-broker.apps.mercator.dpi.wekeo.eu/databroker/datarequest/jobs/'+jobId+'/result', headers=headers)\n",
    "get_url = json.loads(get_url_request.text)\n",
    "url = get_url['content'][0]['url']\n",
    "filename = get_url['content'][0]['productInfo']['product']  #select filename for saving\n",
    "print('The URL for download is: '+ get_url['content'][0]['url'])"
   ]
  },
  {
   "cell_type": "markdown",
   "id": "48290a18",
   "metadata": {},
   "source": [
    "### Order the data\n",
    "\n",
    "In this example, an extra step to obtain the data is necessary with respect to the two previous examples.\n",
    "\n",
    "It is required to `Order` the data, using a `POST` request and providing the `URL` obtained in the previous step. We can do it as follow:"
   ]
  },
  {
   "cell_type": "code",
   "execution_count": null,
   "id": "a6c8575b",
   "metadata": {
    "tags": []
   },
   "outputs": [],
   "source": [
    "url = get_url['content'][0]['url']\n",
    "\n",
    "headers = {\n",
    "    'Content-Type': 'application/json',\n",
    "    'Accept': 'application/json',\n",
    "    'authorization': 'Basic '+str(token)}\n",
    "\n",
    "query = {\n",
    "    \"jobId\":str(jobId),\n",
    "    \"uri\":str(url)\n",
    "    }\n",
    "\n",
    "data = json.dumps(query)\n",
    "dataset_post_order = requests.post(\"https://wekeo-broker-k8s.apps.mercator.dpi.wekeo.eu/databroker/dataorder\", headers=headers, data=data)\n",
    "order_id = json.loads(dataset_post_order.text)['orderId']\n",
    "print(\"The order ID is: \"+str(order_id))"
   ]
  },
  {
   "cell_type": "markdown",
   "id": "24d5fbb4",
   "metadata": {},
   "source": [
    "Finally, it is possible to download the netCDF file we ordered previsouly using again a `GET` request and providing the `Order ID`. In this case the ordered file will be saved in your working directory with its original name (stored in the `filename` variable):"
   ]
  },
  {
   "cell_type": "code",
   "execution_count": null,
   "id": "6f92eb6b",
   "metadata": {},
   "outputs": [],
   "source": [
    "headers = {'Accept': 'application/x-netcdf'}\n",
    "response_order = requests.get(\"https://wekeo-broker-k8s.apps.mercator.dpi.wekeo.eu/databroker/dataorder/download/\"+order_id, headers=headers)"
   ]
  },
  {
   "cell_type": "markdown",
   "id": "81680fc2",
   "metadata": {},
   "source": [
    "### Download and visualize the dataset\n",
    "\n",
    "The downloaded file can be saved with the `.nc` format (netCDF), imported with `xarray` and visualized:"
   ]
  },
  {
   "cell_type": "code",
   "execution_count": null,
   "id": "cfc79c8b",
   "metadata": {},
   "outputs": [],
   "source": [
    "file = open(filename+\".nc\", \"wb\")\n",
    "file.write(response_order.content)\n",
    "file.close()"
   ]
  },
  {
   "cell_type": "markdown",
   "id": "ea286d4b",
   "metadata": {},
   "source": [
    "Read the netCDF file:"
   ]
  },
  {
   "cell_type": "code",
   "execution_count": null,
   "id": "3405463c",
   "metadata": {},
   "outputs": [],
   "source": [
    "ds = xr.open_dataset(filename+\".nc\")\n",
    "ds"
   ]
  },
  {
   "cell_type": "markdown",
   "id": "8a61a6db",
   "metadata": {},
   "source": [
    "Create the usual lists using the data variables and the time:"
   ]
  },
  {
   "cell_type": "code",
   "execution_count": null,
   "id": "44f80ee0",
   "metadata": {},
   "outputs": [],
   "source": [
    "variables = list(ds.keys())\n",
    "var_drop = widgets.Dropdown(options=variables, description=\"Variable: \",disabled=False,style={'description_width': '100px'},layout ={'width': '400px'})\n",
    "# Select the netCDF times\n",
    "timings = list(ds.time.data)\n",
    "time_drop = widgets.Dropdown(options=timings,description=\"Select date: \",disabled=False,style={'description_width': '100px'},layout ={'width': '400px'})"
   ]
  },
  {
   "cell_type": "code",
   "execution_count": null,
   "id": "6bd8222f",
   "metadata": {},
   "outputs": [],
   "source": [
    "def cmems_plot(variable, time):\n",
    "    plt.figure(figsize=(20, 10))\n",
    "    ax = plt.axes(projection=ccrs.PlateCarree())\n",
    "    ax.set_global()\n",
    "    p = ds[var_drop.value].sel(time=time_drop.value).plot.pcolormesh(\n",
    "        ax=ax, transform=ccrs.PlateCarree(), x=\"longitude\", y=\"latitude\")\n",
    "    p.set_clim(vmin=ds[var_drop.value].min(), vmax=ds[var_drop.value].max())\n",
    "    ax.coastlines()\n",
    "\n",
    "    p.axes.set_global()\n",
    "    p.axes.coastlines()\n",
    "    p.axes.gridlines(color='black', alpha=0.5, linestyle='--')\n",
    "    p.axes.set_extent([W,E,S,N], ccrs.PlateCarree())\n",
    "\n",
    "    # draw parallels/meridiens and write labels\n",
    "    gl = p.axes.gridlines(crs=ccrs.PlateCarree(), draw_labels=True,\n",
    "                          linewidth=2, color='gray', alpha=0.5, linestyle='--')\n",
    "\n",
    "    # adjust labels to taste\n",
    "    gl.xlabels_top = False\n",
    "    gl.ylabels_right = False\n",
    "    gl.ylocator = mticker.AutoLocator()\n",
    "    gl.xformatter = LONGITUDE_FORMATTER\n",
    "    gl.yformatter = LATITUDE_FORMATTER\n",
    "    gl.xlabel_style = {'size': 18, 'color': 'black'}\n",
    "    gl.ylabel_style = {'size': 18, 'color': 'black'}"
   ]
  },
  {
   "cell_type": "code",
   "execution_count": null,
   "id": "4a2379fb",
   "metadata": {},
   "outputs": [],
   "source": [
    "widgets.interact(cmems_plot, variable = var_drop, time=time_drop)"
   ]
  },
  {
   "cell_type": "markdown",
   "id": "35ea0fe9",
   "metadata": {},
   "source": [
    "-------"
   ]
  },
  {
   "cell_type": "markdown",
   "id": "13c58767",
   "metadata": {
    "tags": []
   },
   "source": [
    "<div class=\"alert alert-info\" role=\"alert\">\n",
    "\n",
    "## <a id='section4'></a>&#x27A4; 8. Example 4 - Sentinel-5P - Air quality\n",
    "[Back to top](#TOC_TOP)\n",
    "\n",
    "</div>"
   ]
  },
  {
   "cell_type": "markdown",
   "id": "b76a6eb8-3df7-445f-9f95-07c6165a8369",
   "metadata": {},
   "source": [
    "In this last example, we will see how to download data from the Sentinel-5P satellite, that aims to monitor air pollutants on a global scale.\n",
    "\n",
    "This example summarizes everything seen in the previous examples. The final part will allow to access to the metadata associated with the satellite images, automatically download them and finally obtain a plot.\n",
    "\n",
    "The dataset ID for Sentinel-5P is:"
   ]
  },
  {
   "cell_type": "code",
   "execution_count": null,
   "id": "eedb3b61",
   "metadata": {},
   "outputs": [],
   "source": [
    "dataset_id = 'EO:ESA:DAT:SENTINEL-5P:TROPOMI'"
   ]
  },
  {
   "cell_type": "markdown",
   "id": "c230939c",
   "metadata": {},
   "source": [
    "### Data preview\n",
    "\n",
    "Let's generate the dataset preview, in the same way we did in the previous examples:"
   ]
  },
  {
   "cell_type": "code",
   "execution_count": null,
   "id": "7a3dee26",
   "metadata": {},
   "outputs": [],
   "source": [
    "size = 2000\n",
    "dataset = requests.get(\"https://wekeo-broker-k8s.apps.mercator.dpi.wekeo.eu/databroker/datasets?size=\"+str(size))\n",
    "data = json.loads(dataset.text)\n",
    "data_df = pd.json_normalize(data['content'])\n",
    "data_df = data_df[data_df['datasetId'] == dataset_id]\n",
    "data_df"
   ]
  },
  {
   "cell_type": "markdown",
   "id": "c36b3d47-beaf-424c-87ff-9d918448eb8e",
   "metadata": {},
   "source": [
    "In this case we dont have a preview image and it's only possible to read the dataset description:"
   ]
  },
  {
   "cell_type": "code",
   "execution_count": null,
   "id": "40911144",
   "metadata": {},
   "outputs": [],
   "source": [
    "# Get the dataset title from data_df\n",
    "title = data_df.title.values[0]\n",
    "# No image for S5P\n",
    "# Get the description from data_df\n",
    "description = list(data_df[\"abstract\"])[0]"
   ]
  },
  {
   "cell_type": "code",
   "execution_count": null,
   "id": "30735063",
   "metadata": {},
   "outputs": [],
   "source": [
    "# Create the boxes\n",
    "title_box = widgets.HTML('<h2 style=\"text-align:center;font-size:18px;\">'+title+'</h2>')\n",
    "descr_box = widgets.HTML('<p style=\"text-align:justify;font-size:14px;\">'+description+'</p>')\n",
    "\n",
    "descr_box = widgets.VBox([title_box, descr_box])\n",
    "\n",
    "# Create the Layout for the dataset preview\n",
    "ui = widgets.AppLayout(right_sidebar=descr_box, layout=widgets.Layout(border='solid'))\n",
    "container = widgets.Box([ui], layout=Layout(height='300px', overflow_y='auto'))\n",
    "display(container)"
   ]
  },
  {
   "cell_type": "markdown",
   "id": "1664a8b9-dcd4-42f9-a52e-c5a69bf39878",
   "metadata": {},
   "source": [
    "### Requirements to create an interactive dashboard for Sentinel-5P\n",
    "\n",
    "This dataset requires the following parameters:\n",
    "- `Bounding Box`: Region of Intereset\n",
    "- `Start-end date`\n",
    "- `Processing level`: Level 1B/Level 2\n",
    "- `Product type`: the type of product, such as NO2 or other pollutants\n",
    "- `Timeliness`: Near Real Time, Offline, Reprocessing"
   ]
  },
  {
   "cell_type": "markdown",
   "id": "72731061-73f8-49b8-93ed-81e948c23d3b",
   "metadata": {},
   "source": [
    "### Accessing resource metadata\n",
    "\n",
    "We can request the dataset `metadata`:"
   ]
  },
  {
   "cell_type": "code",
   "execution_count": null,
   "id": "b2127f8e",
   "metadata": {},
   "outputs": [],
   "source": [
    "dataset = requests.get(\"https://wekeo-broker-k8s.apps.mercator.dpi.wekeo.eu/databroker/querymetadata/\"+dataset_id, headers=headers)\n",
    "metadata = json.loads(dataset.text)\n",
    "display(JSON(metadata))"
   ]
  },
  {
   "cell_type": "markdown",
   "id": "80a1a96a-90bd-400f-9d78-da3437123f73",
   "metadata": {},
   "source": [
    "### Create the widgets\n",
    "\n",
    "Again to obtain the widgets, first we create the lists using the `metadata`. A `DatePicker` widget is used for the start/end date selection, wile a `SelectMultiple` widget is used for the other parameters:"
   ]
  },
  {
   "cell_type": "code",
   "execution_count": null,
   "id": "729bd688",
   "metadata": {},
   "outputs": [],
   "source": [
    "processing_level_list = list(metadata['parameters']['stringChoices'][0]['details']['valuesLabels'].keys())\n",
    "product_type_list = list(metadata['parameters']['stringChoices'][1]['details']['valuesLabels'].keys())\n",
    "timeliness_list = list(metadata['parameters']['stringChoices'][2]['details']['valuesLabels'].keys())"
   ]
  },
  {
   "cell_type": "code",
   "execution_count": null,
   "id": "ff66c543",
   "metadata": {},
   "outputs": [],
   "source": [
    "style = {'description_width': '200px'}\n",
    "layout = {'width': '800px'}\n",
    "processing_level_sel = widgets.SelectMultiple(options=processing_level_list, description=\"Processing level:\",disabled=False,style=style,layout=layout)\n",
    "product_type_sel = widgets.SelectMultiple(options=product_type_list, description=\"Product type:\",disabled=False,style=style,layout=layout)\n",
    "timeliness_sel = widgets.SelectMultiple(options=timeliness_list, description=\"Timeliness: \",disabled=False,style=style,layout=layout)\n",
    "start_date_sel = widgets.DatePicker(description=\"Select start date: \",disabled=False,style=style,layout=layout)\n",
    "end_date_sel = widgets.DatePicker(description=\"Select end date: \",disabled=False,style=style,layout=layout)"
   ]
  },
  {
   "cell_type": "markdown",
   "id": "b670fb77-b283-4285-a2c2-f2f6e42b3ccf",
   "metadata": {},
   "source": [
    "### Bounding Box interactive selection\n",
    "\n",
    "Select the Region of Intereset in the following map, always using the `Draw a rectangle`"
   ]
  },
  {
   "cell_type": "code",
   "execution_count": null,
   "id": "aeee3f44",
   "metadata": {},
   "outputs": [],
   "source": [
    "s5p_map, dc = m.draw_map(45, 10, 1)\n",
    "\n",
    "s5p_map"
   ]
  },
  {
   "cell_type": "code",
   "execution_count": null,
   "id": "843f2f21",
   "metadata": {},
   "outputs": [],
   "source": [
    "coords = dc.last_draw['geometry']['coordinates'][0]\n",
    "W = coords[1][0]\n",
    "E = coords[3][0]\n",
    "N = coords[1][1]\n",
    "S = coords[3][1]"
   ]
  },
  {
   "cell_type": "code",
   "execution_count": null,
   "id": "9c737913",
   "metadata": {},
   "outputs": [],
   "source": [
    "start_date = metadata['parameters']['dateRangeSelects'][0]['details']['start']\n",
    "print(\"The start date for this dataset is: \"+start_date)"
   ]
  },
  {
   "cell_type": "markdown",
   "id": "b8ec66c4-ade6-4473-99f8-13d67f67da7b",
   "metadata": {},
   "source": [
    "### Create the dashboard and request the data\n",
    "\n",
    "Print the dashboard and try to select the following parameter:\n",
    "- `Processing level`: Level2\n",
    "- `Product type`: L2__NO2__\n",
    "- `Timeliness`: Near+real+time\n",
    "- `Start/end dates`: 01/01/2021 - 03/01/2021"
   ]
  },
  {
   "cell_type": "code",
   "execution_count": null,
   "id": "72284f73",
   "metadata": {},
   "outputs": [],
   "source": [
    "%%html\n",
    "<style>\n",
    ".box {\n",
    "    border: 2px solid #0b385f;\n",
    "    font-weight: bold;\n",
    "    background-color: hsl(0, 0%, 98%);\n",
    "    color: #333;\n",
    "}"
   ]
  },
  {
   "cell_type": "code",
   "execution_count": null,
   "id": "a91d34b9",
   "metadata": {
    "tags": []
   },
   "outputs": [],
   "source": [
    "# Create boxes for the dashboard\n",
    "title_box= widgets.HTML(value='<h2 style=\"text-align:center;\">'+title+'</h2><hr>')\n",
    "variables_box = widgets.VBox([title_box, processing_level_sel, product_type_sel, timeliness_sel, start_date_sel, end_date_sel])\n",
    "\n",
    "# Create the dashboard \n",
    "ui = widgets.AppLayout(\n",
    "          layout=widgets.Layout(),\n",
    "          grid_gap=\"300px\")\n",
    "\n",
    "display(variables_box.add_class(\"box\"))"
   ]
  },
  {
   "cell_type": "code",
   "execution_count": null,
   "id": "cb4bd342",
   "metadata": {},
   "outputs": [],
   "source": [
    "query = {\n",
    "  \"datasetId\": dataset_id,\n",
    "  \"boundingBoxValues\": [\n",
    "    {\n",
    "      \"name\": \"bbox\",\n",
    "      \"bbox\": [W, S, E, N]\n",
    "    }\n",
    "  ],\n",
    "  \"dateRangeSelectValues\": [\n",
    "    {\n",
    "      \"name\": \"position\",\n",
    "      \"start\":  start_date_sel.value.strftime(\"%Y-%m-%dT%H:%M:%S.000Z\"),\n",
    "      \"end\": end_date_sel.value.strftime(\"%Y-%m-%dT%H:%M:%S.000Z\")\n",
    "    }\n",
    "  ],\n",
    "  \"stringChoiceValues\": [\n",
    "    {\n",
    "      \"name\": \"processingLevel\",\n",
    "      \"value\": list(processing_level_sel.value)[0]\n",
    "    },\n",
    "    {\n",
    "      \"name\": \"productType\",\n",
    "      \"value\": list(product_type_sel.value)[0]\n",
    "    },\n",
    "    {\n",
    "      \"name\": \"timeliness\",\n",
    "      \"value\": list(timeliness_sel.value)[0]\n",
    "    }\n",
    "  ]\n",
    "}\n",
    "     \n",
    "headers = {\n",
    "    'Content-Type': 'application/json',\n",
    "    'Accept': 'application/json',\n",
    "    'authorization': 'Basic '+str(token)}\n",
    "\n",
    "data = json.dumps(query)\n",
    "dataset_post = requests.post(\"https://wekeo-broker-k8s.apps.mercator.dpi.wekeo.eu/databroker/datarequest\", headers=headers, data=data)\n",
    "job_id = json.loads(dataset_post.text)\n",
    "jobId = job_id['jobId']\n",
    "print(\"The job ID is: \"+jobId)"
   ]
  },
  {
   "cell_type": "code",
   "execution_count": null,
   "id": "5efd6a01",
   "metadata": {},
   "outputs": [],
   "source": [
    "get_url_request = requests.get('https://wekeo-broker.apps.mercator.dpi.wekeo.eu/databroker/datarequest/status/'+jobId, headers=headers)\n",
    "get_url = json.loads(get_url_request.text)\n",
    "if get_url['status']=='completed':\n",
    "    print('Status: Completed', end='\\r')\n",
    "\n",
    "while get_url['status']!='completed':\n",
    "    get_url_request = requests.get('https://wekeo-broker.apps.mercator.dpi.wekeo.eu/databroker/datarequest/status/'+jobId, headers=headers)\n",
    "    get_url = json.loads(get_url_request.text)\n",
    "    if get_url['status']=='running':\n",
    "        print('Status: Running', end='\\r')\n",
    "    elif get_url['status']=='failed':\n",
    "        print('Status: Failed. Check data selected.')\n",
    "        break\n",
    "    elif get_url['status']=='completed':\n",
    "        print('Status: Completed')"
   ]
  },
  {
   "cell_type": "markdown",
   "id": "4e4233c2-470b-4fc2-82d2-58d2bfba3b93",
   "metadata": {},
   "source": [
    "### Request Sentinel-5P data and read images metadata\n",
    "\n",
    "This API endpoint provides a `JSON` file containing all the metadata associated to each product obtained from the query:"
   ]
  },
  {
   "cell_type": "code",
   "execution_count": null,
   "id": "75c0a886",
   "metadata": {},
   "outputs": [],
   "source": [
    "headers = {'authorization': 'Basic '+str(token)}\n",
    "get_url_request = requests.get('https://wekeo-broker.apps.mercator.dpi.wekeo.eu/databroker/datarequest/jobs/'+jobId+'/result?status=completed&size=2000', headers=headers)\n",
    "get_url = json.loads(get_url_request.text)"
   ]
  },
  {
   "cell_type": "markdown",
   "id": "7e0170c7-720f-4959-958e-dad4fe5d901c",
   "metadata": {},
   "source": [
    "Using IPython and the requested JSON file it is possible to visualize the metatada associated to each product:"
   ]
  },
  {
   "cell_type": "code",
   "execution_count": null,
   "id": "5df76a14",
   "metadata": {},
   "outputs": [],
   "source": [
    "display(JSON(get_url['content']))"
   ]
  },
  {
   "cell_type": "markdown",
   "id": "c2883c0e-285e-40ce-bb99-6496400e0a39",
   "metadata": {},
   "source": [
    "We can create a list of products and use a `Dropdown` widget to select one of them:"
   ]
  },
  {
   "cell_type": "code",
   "execution_count": null,
   "id": "4351b93b",
   "metadata": {},
   "outputs": [],
   "source": [
    "s5p_list = []\n",
    "for x in range(0,len(get_url['content'])):\n",
    "    s5p_list.append(get_url['content'][x]['url'])"
   ]
  },
  {
   "cell_type": "code",
   "execution_count": null,
   "id": "d17e57cb",
   "metadata": {},
   "outputs": [],
   "source": [
    "s5p_drop =widgets.Dropdown(options=s5p_list, description=\"List of products URL: \",disabled=False,style={'description_width': '120px'},layout={'width': '900px'})\n",
    "s5p_drop"
   ]
  },
  {
   "cell_type": "markdown",
   "id": "c0f473fb-1909-48ac-ac0e-17c34dc3eafa",
   "metadata": {},
   "source": [
    "### Order the data\n",
    "\n",
    "Now we can order the data:"
   ]
  },
  {
   "cell_type": "code",
   "execution_count": null,
   "id": "d597cada",
   "metadata": {},
   "outputs": [],
   "source": [
    "url = s5p_drop.value\n",
    "\n",
    "headers = {\n",
    "    'Content-Type': 'application/json',\n",
    "    'Accept': 'application/json',\n",
    "    'authorization': 'Basic '+str(token)}\n",
    "\n",
    "query = {\n",
    "    \"jobId\":str(jobId),\n",
    "    \"uri\":str(url)\n",
    "    }\n",
    "\n",
    "data = json.dumps(query)\n",
    "dataset_post_order = requests.post(\"https://wekeo-broker-k8s.apps.mercator.dpi.wekeo.eu/databroker/dataorder\", headers=headers, data=data)\n",
    "order_id = json.loads(dataset_post_order.text)['orderId']\n",
    "print('The order ID is: '+order_id)"
   ]
  },
  {
   "cell_type": "markdown",
   "id": "3350826c-969e-4844-9887-74b0b8f932a4",
   "metadata": {},
   "source": [
    "### Download the data"
   ]
  },
  {
   "cell_type": "markdown",
   "id": "4732b599-4fb2-442e-8513-b6cfd5339054",
   "metadata": {},
   "source": [
    "At this step the order ID is used to download the data using the following `GET` request:"
   ]
  },
  {
   "cell_type": "code",
   "execution_count": null,
   "id": "83ace20c",
   "metadata": {},
   "outputs": [],
   "source": [
    "headers = {'Accept': 'application/zip'}\n",
    "\n",
    "response_order = requests.get(\"https://wekeo-broker-k8s.apps.mercator.dpi.wekeo.eu/databroker/dataorder/download/\"+order_id, headers=headers)"
   ]
  },
  {
   "cell_type": "markdown",
   "id": "81935753-ec90-4e74-90ec-19737a5c52f2",
   "metadata": {},
   "source": [
    "The file can be saved as a compressed folder (zip format) using the original data name:"
   ]
  },
  {
   "cell_type": "code",
   "execution_count": null,
   "id": "0c948ec0",
   "metadata": {},
   "outputs": [],
   "source": [
    "zip_filename = url[url.find('/')+1:]\n",
    "\n",
    "with open(zip_filename, 'wb') as zfile:\n",
    "    zfile.write(response_order.content)\n",
    "zip_filename"
   ]
  },
  {
   "cell_type": "markdown",
   "id": "ffe66bb7-e8c5-4d3e-868c-d3d0daee02e0",
   "metadata": {},
   "source": [
    "It's possible to unzip the Sentinel-5P folder in the working directory:"
   ]
  },
  {
   "cell_type": "code",
   "execution_count": null,
   "id": "ffc734ca",
   "metadata": {},
   "outputs": [],
   "source": [
    "with zipfile.ZipFile(zip_filename,\"r\") as zip_ref:\n",
    "    zip_ref.extractall(zip_filename[0:-4])"
   ]
  },
  {
   "cell_type": "markdown",
   "id": "b2be1363-797b-4055-baee-f31529009d7d",
   "metadata": {},
   "source": [
    "And select the netCDF file contained in its folder:"
   ]
  },
  {
   "cell_type": "code",
   "execution_count": null,
   "id": "58b30aef",
   "metadata": {},
   "outputs": [],
   "source": [
    "path = \"./\"+zip_filename[0:-4]+\"/\"+zip_filename[0:-4]\n",
    "nc_files = [f for f in os.listdir(path) if f.endswith('.nc')]\n",
    "nc_drop = widgets.Dropdown(options=nc_files, description=\"netCDF filename: \",disabled=False,style={'description_width': '120px'},layout={'width': '830px'})\n",
    "nc_drop"
   ]
  },
  {
   "cell_type": "markdown",
   "id": "1058c82a-fa02-472c-9046-791c40c3ab4f",
   "metadata": {},
   "source": [
    "Read the netCDF file:"
   ]
  },
  {
   "cell_type": "code",
   "execution_count": null,
   "id": "3ab429d7",
   "metadata": {},
   "outputs": [],
   "source": [
    "nc_file = path+\"/\"+nc_drop.value\n",
    "fh = Dataset(nc_file, mode='r') #read netCDF file"
   ]
  },
  {
   "cell_type": "markdown",
   "id": "03a576ef",
   "metadata": {},
   "source": [
    "### Visualize the data\n",
    "\n",
    "First, let's create the list of variables contained in the netCDF file (`fh`) and select the variable of interest (e.g. nitrogendioxide_tropospheric_column):"
   ]
  },
  {
   "cell_type": "code",
   "execution_count": null,
   "id": "e4c26e20",
   "metadata": {},
   "outputs": [],
   "source": [
    "product_list = list(fh.groups['PRODUCT'].variables.keys())\n",
    "products_drop = widgets.Dropdown(options=product_list, description=\"List of products: \",disabled=False,style={'description_width': '100px'},layout={'width': '400px'})\n",
    "products_drop"
   ]
  },
  {
   "cell_type": "markdown",
   "id": "6063e276-65e2-43dc-abf4-7c7674fc71df",
   "metadata": {},
   "source": [
    "Save the latitude, longitude and the values inside the following variables:"
   ]
  },
  {
   "cell_type": "code",
   "execution_count": null,
   "id": "dced38f6",
   "metadata": {},
   "outputs": [],
   "source": [
    "lons = fh.groups['PRODUCT'].variables['longitude'][:][0,:,:]\n",
    "lats = fh.groups['PRODUCT'].variables['latitude'][:][0,:,:]\n",
    "prod = fh.groups['PRODUCT'].variables[products_drop.value][0,:,:]\n",
    "print (lons.shape)  #check shape\n",
    "print (lats.shape)\n",
    "print (prod.shape)\n",
    "\n",
    "units = fh.groups['PRODUCT'].variables[products_drop.value].units"
   ]
  },
  {
   "cell_type": "markdown",
   "id": "ee67956e-f531-4a50-a2a6-1b55de63c264",
   "metadata": {},
   "source": [
    "It's now possible to plot the data:"
   ]
  },
  {
   "cell_type": "code",
   "execution_count": null,
   "id": "43fc43e0",
   "metadata": {},
   "outputs": [],
   "source": [
    "lon_0 = lons.mean()\n",
    "lat_0 = lats.mean()\n",
    "plt.figure(figsize=(20,20))\n",
    "map1 = Basemap(width=5000000,height=3500000,\n",
    "            resolution='i',projection='stere',\\\n",
    "            lat_ts=40,lat_0=lat_0,lon_0=lon_0)\n",
    "\n",
    "xi, yi = map1(lons, lats)\n",
    "\n",
    "# Plot Data\n",
    "\n",
    "cs = map1.pcolor(xi,yi,np.squeeze(prod), cmap='jet')\n",
    "\n",
    "# Add Grid Lines\n",
    "map1.drawparallels(np.arange(-80., 81., 10.), labels=[1,0,0,0], fontsize=12)\n",
    "map1.drawmeridians(np.arange(-180., 181., 10.), labels=[0,0,0,1], fontsize=12)\n",
    "\n",
    "# Add boundaries and coastlines\n",
    "map1.drawcoastlines()\n",
    "map1.drawstates()\n",
    "map1.drawcountries()\n",
    "\n",
    "# Cbar\n",
    "cbar = map1.colorbar(cs, location='bottom', pad=\"10%\")\n",
    "cbar.set_label(units)\n",
    "\n",
    "# Title\n",
    "plt.title(products_drop.value)\n",
    "plt.show()"
   ]
  }
 ],
 "metadata": {
  "kernelspec": {
   "display_name": "Python 3 (ipykernel)",
   "language": "python",
   "name": "python3"
  },
  "language_info": {
   "codemirror_mode": {
    "name": "ipython",
    "version": 3
   },
   "file_extension": ".py",
   "mimetype": "text/x-python",
   "name": "python",
   "nbconvert_exporter": "python",
   "pygments_lexer": "ipython3",
   "version": "3.10.5"
  }
 },
 "nbformat": 4,
 "nbformat_minor": 5
}
