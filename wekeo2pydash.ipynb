{
 "cells": [
  {
   "cell_type": "markdown",
   "id": "43bbfcfb",
   "metadata": {},
   "source": [
    "<div class=\"alert alert-info\">\n",
    "<u><strong>Authors:</strong></u> <b>Oxoli Daniele</b> (daniele.oxoli@polimi.it), <b>Emanuele Capizzi</b> (emanuele.capizzi@polimi.it) - 2022 - Politecnico di Milano, Italy <br>\n",
    "<strong>License:</strong> MIT\n",
    "</div>"
   ]
  },
  {
   "cell_type": "markdown",
   "id": "6fbfff85",
   "metadata": {
    "tags": []
   },
   "source": [
    "<div class=\"alert alert-block alert-success\">\n",
    "<h1>WEkEO2Pydash - Explore Copernicus data interactively using the WEkEO HDA API</h1></div>"
   ]
  },
  {
   "cell_type": "markdown",
   "id": "15945c8f",
   "metadata": {},
   "source": [
    "**WEkEO Jupyter Notebook competition:** https://notebook.wekeo.eu (**Track A**: *Exploit the broad range\n",
    "of Copernicus Data*)"
   ]
  },
  {
   "cell_type": "markdown",
   "id": "b3393ac5",
   "metadata": {
    "tags": []
   },
   "source": [
    "# NOTEBOOK INTRODUCTION\n",
    "\n",
    "### Outline\n",
    "\n",
    "This Notebook showcases Python recipes to interact (access, browse, display and download) with the Copernicus data dispatched by the [<span style='color:Blue'>WEkEO DIAS</span>](https://www.wekeo.eu), through the development of flexible and interactive dashboards into a Jupyter notebook. \n",
    "\n",
    "**Interactivity** is here used as the key element to speed-up applications development by minimizing code editing for recursive steps such as variables definition and parameters setting.\n",
    "\n",
    "The final goal is to provide the user with reusable code blocks which can be adapted *- with a small effort -* to manifold EO applications by leveraging the [<span style='color:Blue'>WEkEO Harmonised Data Access (HDA) API </span>](https://www.wekeo.eu/docs/harmonised-data-access-api) as exclusive data endpoint. \n",
    "\n",
    "### Resources\n",
    "\n",
    "This Notebook make extensive use of the [<span style='color:Blue'> WEkEO HDA API</span>](https://www.wekeo.eu/docs/harmonised-data-access-api) to perform `GET` and `POST` requests[<sup>1</sup>](#1), necessary for automating the data access procedures.\n",
    "\n",
    "Interactivity is enabled by cutting-edge Python libraries for dynamic widgets and maps generation including [<span style='color:Blue'>IPython</span>](https://ipython.org), [<span style='color:Blue'>itables</span>](https://mwouts.github.io/itables/advanced_parameters.html), [<span style='color:Blue'>IPyWidgets</span>](https://ipywidgets.readthedocs.io/en/latest/index.html#) and [<span style='color:Blue'>ipyleaflet</span>](https://ipyleaflet.readthedocs.io); alongside popular data mananging and analysis libraries such as [<span style='color:Blue'>Pandas</span>](https://pandas.pydata.org) and [<span style='color:Blue'>xarray</span>](https://docs.xarray.dev). All the selected libraries are released under open-license[<sup>2</sup>](#2) compatible with [<span style='color:Blue'>MIT license</span>](https://en.wikipedia.org/wiki/MIT_License). \n",
    "\n",
    "\n",
    "The pattern proposed by this Notebook is developed and demonstrated through few examples, adapted to different data products[<sup>3</sup>](#3) provided by the WEkEO DIAS. Specifically, the data products considered in this Notebook are reported in the following table.\n",
    "\n",
    "| Product Description | Product Link | ID | Metadata |\n",
    "|:--------------------:|:-----------------------:|:-----------------:|:-----------------:|\n",
    "|ERA5 - Single Levels| <a href=\"https://cds.climate.copernicus.eu/cdsapp#!/dataset/reanalysis-era5-single-levels?tab=overview\" target=\"_blank\">link</a> | EO:ECMWF:DAT:REANALYSIS_ERA5_SINGLE_LEVELS | <a href=\"https://www.wekeo.eu/data?view=dataset&dataset=EO%3AECMWF%3ADAT%3AERA5_HOURLY_VARIABLES_ON_PRESSURE_LEVELS\" target=\"_blank\">link</a> |\n",
    "|CAMS - European Air Quality Forecasts|<a href=\"https://atmosphere.copernicus.eu/\" target=\"_blank\">link</a>|EO:ECMWF:DAT:CAMS_EUROPE_AIR_QUALITY_FORECASTS|<a href=\"https://www.wekeo.eu/data?view=dataset&dataset=EO%3AECMWF%3ADAT%3ACAMS_EUROPE_AIR_QUALITY_FORECASTS\" target=\"_blank\">link</a>|\n",
    "|Sentinel-5P|<a href=\"https://sentinels.copernicus.eu/web/sentinel/missions/sentinel-5p\" target=\"_blank\">link</a>|'EO:ESA:DAT:SENTINEL-5P:TROPOMI'|<a href=\"https://www.wekeo.eu/data?view=dataset&dataset=EO%3AESA%3ADAT%3ASENTINEL-5P%3ATROPOMI\" target=\"_blank\">link</a>|\n",
    "\n",
    "\n",
    "Settings to adapt the Notebook functions and dynamic widgets to the different data products are explained throughout the Notebook sections.\n",
    "\n",
    "\n",
    "### Learning outcomes\n",
    "\n",
    "At the end of this Notebook you will know:\n",
    "* How to programmatically access Copernicus data and metadata using the [<span style='color:Blue'>WEkEO HDA API</span>](https://www.wekeo.eu/docs/harmonised-data-access-api) in Python\n",
    "* How to generate dynamic data previews using interactive Python widgets\n",
    "* How to adapt and reuse Python functions and code blocks to deal with different WEkEO data products and applications\n",
    "\n",
    "\n",
    "<span id=\"1\">[<sup>1</sup>Swagger UI](https://wekeo-broker.apps.mercator.dpi.wekeo.eu/databroker/ui/#!/HDA_-_dataorder/dataorder_get)</span> \n",
    "\n",
    "<span id=\"2\">[<sup>2</sup>About Open Source Licenses](https://opensource.org/licenses)</span> \n",
    "\n",
    "<span id=\"3\">[<sup>3</sup>WEkEO Data Discovery Platform](https://www.wekeo.eu/data)</span> "
   ]
  },
  {
   "cell_type": "markdown",
   "id": "ac9f4c61",
   "metadata": {},
   "source": [
    "## <a id='TOC_TOP'></a>Content\n",
    "\n",
    "</div>\n",
    "    \n",
    " 0. [From WEkEO Data Discovery Platform to Jupyter Notebook](#sec0)  \n",
    " 1. [Python Environment and Libraries](#sec1)\n",
    " 2. [Login to WEkEO DIAS](#sec2)   \n",
    " 3. [Browsing the WEkEO Data Catalogue](#sec3) \n",
    " 4. [Data Access, Preview and Download](#sec4)\n",
    " 5. [Example A - CAMS - Europe Air Quality Forecasts](#sec5)\n",
    " 6. [Example B - Sentinel-5P](#sec6)\n",
    "\n",
    "\n",
    "<hr>"
   ]
  },
  {
   "cell_type": "markdown",
   "id": "539d0196-e15b-4804-aafe-56b0f04a9f29",
   "metadata": {},
   "source": [
    "<div class=\"alert alert-info\" role=\"alert\">\n",
    "    \n",
    "## <a id='sec0'></a>&#x27A4; 0. From WEkEO Data Discovery Platform to Jupyter Notebook\n",
    "\n",
    "[Back to top](#TOC_TOP)\n",
    "\n",
    "</div>"
   ]
  },
  {
   "cell_type": "markdown",
   "id": "9987ed55-4502-4f90-8fc1-b19939864f4e",
   "metadata": {},
   "source": [
    "All WEkEO data can be manually downloaded from the [<span style='color:Blue'>WEkEO Data Discovery Platform</span>](https://www.wekeo.eu/data). Before running the Notebook, you are requested to **create a personal account** on the WEkEO website.   \n",
    "\n",
    "Once registered, you can browse and select the datasets of interest directly from the WEkEO Data Discovery Platform GUI (see figure below) and proceed with the manual download. \n",
    "\n",
    "\n",
    "![interface](img/add_datasets.jpg)\n",
    "\n",
    "- `A` = `Layers` functionality allows you to access to the WEkEO Catalog and select the desired dataset. Using the `Add to map` button your dataset will be available for requesting the data\n",
    "- `B` = `Subset and download` button, allows to select the desired values for each parameter and build the associated query\n",
    "- `C` = `Show layer information` shows all the information and metadata related to the specific dataset\n",
    "- `D` = `Jobs` functionality collects all the data requested previously. It allows to order the data and downloading them\n",
    "\n",
    "After getting confident with the WEkEO Data Discovery Platform GUI, you are ready to start programming for **bringing your entire data access and analysis workflows into a** [<span style='color:Blue'>Jupyter Notebook</span>](https://www.wekeo.eu/docs/using-jupyter).\n",
    "\n",
    "<div class=\"alert alert-success\" role=\"alert\">\n",
    "<span>&#x2714;</span>\n",
    "<a id='libraries'></a>Using the <b>HDA API</b> and Python, all the procedures for requesting the data can be replicated and automated in a programmatic way. Moreover, you will have the possibility of browsing, downloading, displaying and analysing data without leaving this Jupyter Notebook application!\n",
    "</div>\n",
    "\n",
    "<div class=\"alert alert-warning\" role=\"alert\">\n",
    "<span>&#9888;</span>\n",
    "<a id='warning'></a> The Notebook is meant to be used in <b>JupyterLab</b>. Some interactive widgets and functions may not work correctly if using it in a standard Jupyter Notebook application.\n",
    "</div>"
   ]
  },
  {
   "cell_type": "markdown",
   "id": "87f0db33",
   "metadata": {
    "tags": []
   },
   "source": [
    "<div class=\"alert alert-info\" role=\"alert\">\n",
    "\n",
    "## <a id='sec1'></a>&#x27A4; 1. Python Environment and Libraries\n",
    "[Back to top](#TOC_TOP)\n",
    "\n",
    "</div>"
   ]
  },
  {
   "cell_type": "markdown",
   "id": "e405dd76",
   "metadata": {},
   "source": [
    "Before to start running the code, you have to set-up a [<span style='color:Blue'>virtual Python enviroment</span>](https://docs.python.org/3/tutorial/venv.html) and install all the requested libraries listed in the [environment.yml](https://github.com/danioxoli/WEkEO2Pydash/blob/main/environment.yml) file povided with this Notebook.\n",
    " \n",
    "*You can find additional info on the [<span style='color:Blue'>WEkEO Storage and Python environments</span>](https://www.wekeo.eu/docs/storage-and-python-env) web page.*"
   ]
  },
  {
   "cell_type": "code",
   "execution_count": 1,
   "id": "24f5bc1a",
   "metadata": {},
   "outputs": [
    {
     "data": {
      "application/javascript": [
       "if (typeof require !== 'undefined')\n",
       "    require.config({\n",
       "        paths: {\n",
       "            jquery: 'https://code.jquery.com/jquery-3.5.1.min',\n",
       "            datatables: 'https://cdn.datatables.net/1.11.3/js/jquery.dataTables.min',\n",
       "        }\n",
       "    });\n"
      ],
      "text/plain": [
       "<IPython.core.display.Javascript object>"
      ]
     },
     "metadata": {},
     "output_type": "display_data"
    }
   ],
   "source": [
    "#Disable some Python Warnings that may arise during the Import\n",
    "import warnings\n",
    "warnings.filterwarnings('ignore')\n",
    "warnings.simplefilter(action='ignore', category=UserWarning)\n",
    "\n",
    "# Base libraries\n",
    "import requests\n",
    "import json\n",
    "import zipfile\n",
    "import os\n",
    "import pandas as pd\n",
    "from pandas.io.json import json_normalize\n",
    "import base64\n",
    "import datetime\n",
    "import ipywidgets as widgets\n",
    "from ipywidgets import Layout\n",
    "import numpy as np\n",
    "import xarray as xr\n",
    "import rioxarray as rxr\n",
    "\n",
    "#Plotting and display libraries\n",
    "from PIL import Image\n",
    "from ipyleaflet import Rectangle\n",
    "import IPython\n",
    "from IPython.display import display, JSON, Image\n",
    "from urllib.request import urlopen\n",
    "import matplotlib.pyplot as plt\n",
    "import matplotlib.ticker as mticker\n",
    "from mpl_toolkits.basemap import Basemap\n",
    "import cartopy.crs as ccrs\n",
    "import cartopy.feature as cfeature\n",
    "from cartopy.mpl.gridliner import LONGITUDE_FORMATTER, LATITUDE_FORMATTER\n",
    "from netCDF4 import Dataset\n",
    "from itables import init_notebook_mode, show\n",
    "import itables.options as opt\n",
    "opt.classes = [\"display\",\"hover\", \"nowrap\"]\n",
    "init_notebook_mode(all_interactive=True)"
   ]
  },
  {
   "cell_type": "markdown",
   "id": "66d5e23b",
   "metadata": {},
   "source": [
    "This Notebook makes use of custom Python functions which are stored in the file [wekeo2pydash_methods.py](https://github.com/danioxoli/WEkEO2Pydash/blob/main/wekeo2pydash_methods.py). "
   ]
  },
  {
   "cell_type": "code",
   "execution_count": 2,
   "id": "fe429580",
   "metadata": {},
   "outputs": [],
   "source": [
    "#Import custom functions\n",
    "%load_ext autoreload  \n",
    "%autoreload 2\n",
    "import wekeo2pydash_methods as m"
   ]
  },
  {
   "cell_type": "markdown",
   "id": "892ae440-1601-4511-9dd8-57b4eadafdf3",
   "metadata": {},
   "source": [
    "<div class=\"alert alert-warning\" role=\"alert\">\n",
    "<span>&#9888;</span>\n",
    "<a id='warning'></a> Keep the <b>wekeo2pydash_methods.py</b> file in the same folder of the Notebook to import its functions into your workspace!\n",
    "</div>\n",
    "\n",
    "<div class=\"alert alert-success\" role=\"alert\">\n",
    "<span>&#x2714;</span>\n",
    "<a id='libraries'></a>If no errors appeared during the libraries import, you are ready to run the Notebook!\n",
    "</div>\n",
    "\n",
    "----"
   ]
  },
  {
   "cell_type": "markdown",
   "id": "b761fe1b",
   "metadata": {},
   "source": [
    "<div class=\"alert alert-info\" role=\"alert\">\n",
    "\n",
    "## <a id='sec2'></a>&#x27A4; 2. Login to WEkEO DIAS\n",
    "[Back to top](#TOC_TOP)\n",
    "\n",
    "</div>"
   ]
  },
  {
   "cell_type": "markdown",
   "id": "7a04cbdd",
   "metadata": {},
   "source": [
    "Once you registered to WEkEO website [<span style='color:Blue'>WEkEO website</span>](https://www.wekeo.eu/data), you can run the following code that will generate a widget which will allow you to insert your WEkEO your `Username` and `Password` and obtaining your temporary access `Token` (valid for 1 hour).\n",
    "\n",
    "*You can find additional info on the [<span style='color:Blue'>HDA API documentation - Authentication</span>](https://www.wekeo.eu/docs/harmonised-data-access-api) web page.*"
   ]
  },
  {
   "cell_type": "markdown",
   "id": "da0c566e",
   "metadata": {},
   "source": [
    "<div class=\"alert alert-danger\" role=\"alert\">\n",
    "<span>&#9888;</span>\n",
    "<a id='warning'></a> For all the widgets, you just need to run the code once and then enter the required information without running the code block again, just jump to the next.\n",
    "</div>"
   ]
  },
  {
   "cell_type": "markdown",
   "id": "9be7e7d0",
   "metadata": {},
   "source": [
    "![SegmentLocal](img/login.gif \"segment\")"
   ]
  },
  {
   "cell_type": "code",
   "execution_count": 4,
   "id": "3a78f9d2",
   "metadata": {},
   "outputs": [
    {
     "data": {
      "application/vnd.jupyter.widget-view+json": {
       "model_id": "34d653f6cf714ec0ba0c548a7cc18386",
       "version_major": 2,
       "version_minor": 0
      },
      "text/plain": [
       "VBox(children=(Text(value='', description='Insert username: ', layout=Layout(width='500px'), placeholder='Type…"
      ]
     },
     "metadata": {},
     "output_type": "display_data"
    }
   ],
   "source": [
    "# Add style variables and get the login widget\n",
    "style= {'description_width': '150px'}  #styling\n",
    "layout = {'width': '500px'}  #layout\n",
    "username = widgets.Text(placeholder=\"Type here your WEkEO username\",description=\"Insert username: \",style=style,layout=layout)  #text widget\n",
    "password = widgets.Password(placeholder=\"Type here your WEkEO password\",description=\"Insert password: \",style=style,layout=layout)  #password widget\n",
    "\n",
    "login_box = widgets.VBox([username, password])  #create the login boxes\n",
    "login_box  #show login widget"
   ]
  },
  {
   "cell_type": "markdown",
   "id": "8c4b1379",
   "metadata": {},
   "source": [
    "`Username` and `Password` are saved into *Python variables (strings)* which are used in the next code block to retrieve the temporary access `Token`.\n",
    "\n",
    "The access token has to be requested using the **HDA API**. The following code block will perform a `GET` request for such a purpose. The `headers`variable is required for the authorization."
   ]
  },
  {
   "cell_type": "code",
   "execution_count": 5,
   "id": "c3aa89e1",
   "metadata": {},
   "outputs": [
    {
     "name": "stdout",
     "output_type": "stream",
     "text": [
      "Your temporary access token is: fb5e4763-ac06-3273-8708-5d9898bf351f\n"
     ]
    }
   ],
   "source": [
    "message = str(username.value+\":\"+password.value).encode('ascii')\n",
    "base64_message = base64.b64encode(message).decode('ascii')\n",
    "headers = {'authorization': 'Basic '+base64_message}  #set headers for get request\n",
    "token_request = requests.get(\"https://wekeo-broker-k8s.apps.mercator.dpi.wekeo.eu/databroker/gettoken\", headers=headers)  #GET Request to API endpoint\n",
    "token = json.loads(token_request.text)['access_token']  #save token\n",
    "print(\"Your temporary access token is: \"+token) #print token"
   ]
  },
  {
   "cell_type": "markdown",
   "id": "75ebd867",
   "metadata": {},
   "source": [
    "<div class=\"alert alert-warning\" role=\"alert\">\n",
    "<span>&#9888;</span>\n",
    "<a id='warning'></a> You may need to request a new Token if the session expires. To do so, just run again the previous code block.\n",
    "</div>"
   ]
  },
  {
   "cell_type": "markdown",
   "id": "026ea548",
   "metadata": {},
   "source": [
    "In order to access WEkEO data for the first time, it is necessary to accept the **Copernicus Terms & Conditions** by providing your token inside the `authorization` key contained in the `header`:"
   ]
  },
  {
   "cell_type": "code",
   "execution_count": 6,
   "id": "2070831c",
   "metadata": {},
   "outputs": [
    {
     "name": "stdout",
     "output_type": "stream",
     "text": [
      "Terms and conditions accepted: True\n"
     ]
    }
   ],
   "source": [
    "headers = {\n",
    "    'Content-Type': 'application/json',\n",
    "    'Accept': 'application/json',\n",
    "    'authorization': 'Basic '+str(token)\n",
    "}\n",
    "\n",
    "terms_response = requests.put('https://wekeo-broker-k8s.apps.mercator.dpi.wekeo.eu/databroker/termsaccepted/Copernicus_General_License', headers=headers)\n",
    "terms_status_response = requests.get('https://wekeo-broker-k8s.apps.mercator.dpi.wekeo.eu/databroker/termsaccepted/Copernicus_General_License', headers=headers)\n",
    "terms_status_text = json.loads(terms_status_response.text)\n",
    "print('Terms and conditions accepted: '+str(terms_status_text['accepted']))"
   ]
  },
  {
   "cell_type": "markdown",
   "id": "3750591a-ef00-4399-b1c9-f30e69138aa8",
   "metadata": {},
   "source": [
    "<div class=\"alert alert-success\" role=\"alert\">\n",
    "<span>&#x2714;</span>\n",
    "<a id='libraries'></a>Now that you have obtained your Token, you are ready to discover the WEkEO data catalogue!\n",
    "</div>\n",
    "\n",
    "----"
   ]
  },
  {
   "cell_type": "markdown",
   "id": "ba70ac36",
   "metadata": {},
   "source": [
    "<div class=\"alert alert-info\" role=\"alert\">\n",
    "\n",
    "## <a id='sec3'></a>&#x27A4; 3. Browsing the WEkEO Data Catalogue\n",
    "[Back to top](#TOC_TOP)\n",
    "\n",
    "</div>"
   ]
  },
  {
   "cell_type": "markdown",
   "id": "c68d2220",
   "metadata": {},
   "source": [
    "To access a dataset, you have to look for the `datasetId` which is an identifier for a specific resource in the WEkEO data catalogue. \n",
    "\n",
    "You can try manually to retrieve it from the [<span style='color:Blue'>WEkEO Data Discovery Platform</span>](https://www.wekeo.eu/data).\n",
    "\n",
    "![SegmentLocal](img/dataset_id.gif \"segment\")"
   ]
  },
  {
   "cell_type": "markdown",
   "id": "ebb49ab0",
   "metadata": {},
   "source": [
    "An alternative is to access the catalogue by querying the [<span style='color:Blue'>HDA API </span>](https://wekeo-broker.apps.mercator.dpi.wekeo.eu/databroker/ui/#!/HDA_-_dataorder/dataorder_get) using Python directly in the Notebook.   \n",
    "\n",
    "It is possible to enhance the exploration of the query result using by casting the catalogue list it into a [<span style='color:Blue'>Pandas DataFrame</span>](https://pandas.pydata.org/docs/reference/api/pandas.DataFrame.html). The [<span style='color:Blue'>itables</span>](https://mwouts.github.io/itables/advanced_parameters.html) library further allows to add interactivity to DataFrame exploration.\n",
    "\n",
    "After running the following code block, you will be able to explore the catalogue, filter the records using keywords, search for a specific dataset, and retrieve its `datasetId`. You can decrease or extend the number of records in the query result by modifying the variable `size`.\n",
    "\n",
    "In this example, only the `datasetId` and the `Title` columns are kept in the table. However, additional information are available (see [Section 4](#sec4))."
   ]
  },
  {
   "cell_type": "code",
   "execution_count": 7,
   "id": "2b535ba5",
   "metadata": {},
   "outputs": [
    {
     "data": {
      "text/html": [
       "<table id=\"dc858ddf-3dcd-4104-96fe-2d48cf4de513\" class=\"display hover nowrap\"style=\"max-width:100%\"><thead>\n",
       "    <tr style=\"text-align: right;\">\n",
       "      \n",
       "      <th>title</th>\n",
       "      <th>datasetId</th>\n",
       "    </tr>\n",
       "  </thead><tbody><tr><td>Loading... (need <a href=https://mwouts.github.io/itables/troubleshooting.html>help</a>?)</td></tr></tbody></table>\n",
       "<link rel=\"stylesheet\" type=\"text/css\" href=\"https://cdn.datatables.net/1.11.3/css/jquery.dataTables.min.css\">\n",
       "<style> table td {\n",
       "    text-overflow: ellipsis;\n",
       "    overflow: hidden;\n",
       "} </style>\n",
       "<style> table th {\n",
       "    text-overflow: ellipsis;\n",
       "    overflow: hidden;\n",
       "} </style>\n",
       "<script type=\"module\">\n",
       "    // Define the table data\n",
       "    const data = [[\"Global Ocean Wind L4 Reprocessed 6 hourly Observations\", \"EO:MO:DAT:WIND_GLO_WIND_L4_REP_OBSERVATIONS_012_006:CERSAT-GLO-BLENDED_WIND_L4_REP-V6-OBS_FULL_TIME_SERIE\"], [\"Global Ocean Wind L4 Near real Time 6 hourly Observations\", \"EO:MO:DAT:WIND_GLO_WIND_L4_NRT_OBSERVATIONS_012_004:CERSAT-GLO-BLENDED_WIND_L4-V6-OBS_FULL_TIME_SERIE\"], [\"Global Ocean Daily Gridded Reprocessed L3 Sea Surface Winds from Scatterometer\", \"EO:MO:DAT:WIND_GLO_WIND_L3_REP_OBSERVATIONS_012_005:KNMI-GLO-WIND_L3-REP-OBS_QUIKSCAT_SEAWINDS_50_DES\"], [\"Global Ocean Daily Gridded Reprocessed L3 Sea Surface Winds from Scatterometer\", \"EO:MO:DAT:WIND_GLO_WIND_L3_REP_OBSERVATIONS_012_005:KNMI-GLO-WIND_L3-REP-OBS_QUIKSCAT_SEAWINDS_50_ASC\"], [\"Global Ocean Daily Gridded Reprocessed L3 Sea Surface Winds from Scatterometer\", \"EO:MO:DAT:WIND_GLO_WIND_L3_REP_OBSERVATIONS_012_005:KNMI-GLO-WIND_L3-REP-OBS_QUIKSCAT_SEAWINDS_25_DES\"], [\"Global Ocean Daily Gridded Reprocessed L3 Sea Surface Winds from Scatterometer\", \"EO:MO:DAT:WIND_GLO_WIND_L3_REP_OBSERVATIONS_012_005:KNMI-GLO-WIND_L3-REP-OBS_QUIKSCAT_SEAWINDS_25_ASC\"], [\"Global Ocean Daily Gridded Reprocessed L3 Sea Surface Winds from Scatterometer\", \"EO:MO:DAT:WIND_GLO_WIND_L3_REP_OBSERVATIONS_012_005:KNMI-GLO-WIND_L3-REP-OBS_OCEANSAT2_OSCAT_50_DES\"], [\"Global Ocean Daily Gridded Reprocessed L3 Sea Surface Winds from Scatterometer\", \"EO:MO:DAT:WIND_GLO_WIND_L3_REP_OBSERVATIONS_012_005:KNMI-GLO-WIND_L3-REP-OBS_OCEANSAT2_OSCAT_50_ASC\"], [\"Global Ocean Daily Gridded Reprocessed L3 Sea Surface Winds from Scatterometer\", \"EO:MO:DAT:WIND_GLO_WIND_L3_REP_OBSERVATIONS_012_005:KNMI-GLO-WIND_L3-REP-OBS_OCEANSAT2_OSCAT_25_DES\"], [\"Global Ocean Daily Gridded Reprocessed L3 Sea Surface Winds from Scatterometer\", \"EO:MO:DAT:WIND_GLO_WIND_L3_REP_OBSERVATIONS_012_005:KNMI-GLO-WIND_L3-REP-OBS_OCEANSAT2_OSCAT_25_ASC\"], [\"Global Ocean Daily Gridded Reprocessed L3 Sea Surface Winds from Scatterometer\", \"EO:MO:DAT:WIND_GLO_WIND_L3_REP_OBSERVATIONS_012_005:KNMI-GLO-WIND_L3-REP-OBS_METOP-A_ASCAT_25_DES\"], [\"Global Ocean Daily Gridded Reprocessed L3 Sea Surface Winds from Scatterometer\", \"EO:MO:DAT:WIND_GLO_WIND_L3_REP_OBSERVATIONS_012_005:KNMI-GLO-WIND_L3-REP-OBS_METOP-A_ASCAT_25_ASC\"], [\"Global Ocean Daily Gridded Reprocessed L3 Sea Surface Winds from Scatterometer\", \"EO:MO:DAT:WIND_GLO_WIND_L3_REP_OBSERVATIONS_012_005:KNMI-GLO-WIND_L3-REP-OBS_METOP-A_ASCAT_12_DES\"], [\"Global Ocean Daily Gridded Reprocessed L3 Sea Surface Winds from Scatterometer\", \"EO:MO:DAT:WIND_GLO_WIND_L3_REP_OBSERVATIONS_012_005:KNMI-GLO-WIND_L3-REP-OBS_METOP-A_ASCAT_12_ASC\"], [\"Global Ocean Daily Gridded Reprocessed L3 Sea Surface Winds from Scatterometer\", \"EO:MO:DAT:WIND_GLO_WIND_L3_REP_OBSERVATIONS_012_005:KNMI-GLO-WIND_L3-REP-OBS_ERS-2_SCAT_25_DES\"], [\"Global Ocean Daily Gridded Reprocessed L3 Sea Surface Winds from Scatterometer\", \"EO:MO:DAT:WIND_GLO_WIND_L3_REP_OBSERVATIONS_012_005:KNMI-GLO-WIND_L3-REP-OBS_ERS-2_SCAT_25_ASC\"], [\"Global Ocean Daily Gridded Reprocessed L3 Sea Surface Winds from Scatterometer\", \"EO:MO:DAT:WIND_GLO_WIND_L3_REP_OBSERVATIONS_012_005:KNMI-GLO-WIND_L3-REP-OBS_ERS-1_SCAT_25_DES\"], [\"Global Ocean Daily Gridded Reprocessed L3 Sea Surface Winds from Scatterometer\", \"EO:MO:DAT:WIND_GLO_WIND_L3_REP_OBSERVATIONS_012_005:KNMI-GLO-WIND_L3-REP-OBS_ERS-1_SCAT_25_ASC\"], [\"Global Ocean Daily Gridded Sea Surface Winds from Scatterometer\", \"EO:MO:DAT:WIND_GLO_WIND_L3_NRT_OBSERVATIONS_012_002:KNMI-GLO-WIND_L3-OBS_SCATSAT-1_OSCAT_50_DES_V2\"], [\"Global Ocean Daily Gridded Sea Surface Winds from Scatterometer\", \"EO:MO:DAT:WIND_GLO_WIND_L3_NRT_OBSERVATIONS_012_002:KNMI-GLO-WIND_L3-OBS_SCATSAT-1_OSCAT_50_ASC_V2\"], [\"Global Ocean Daily Gridded Sea Surface Winds from Scatterometer\", \"EO:MO:DAT:WIND_GLO_WIND_L3_NRT_OBSERVATIONS_012_002:KNMI-GLO-WIND_L3-OBS_SCATSAT-1_OSCAT_25_DES_V2\"], [\"Global Ocean Daily Gridded Sea Surface Winds from Scatterometer\", \"EO:MO:DAT:WIND_GLO_WIND_L3_NRT_OBSERVATIONS_012_002:KNMI-GLO-WIND_L3-OBS_SCATSAT-1_OSCAT_25_ASC_V2\"], [\"Global Ocean Daily Gridded Sea Surface Winds from Scatterometer\", \"EO:MO:DAT:WIND_GLO_WIND_L3_NRT_OBSERVATIONS_012_002:KNMI-GLO-WIND_L3-OBS_METOP-C_ASCAT_25_DES_V2\"], [\"Global Ocean Daily Gridded Sea Surface Winds from Scatterometer\", \"EO:MO:DAT:WIND_GLO_WIND_L3_NRT_OBSERVATIONS_012_002:KNMI-GLO-WIND_L3-OBS_METOP-C_ASCAT_25_ASC_V2\"], [\"Global Ocean Daily Gridded Sea Surface Winds from Scatterometer\", \"EO:MO:DAT:WIND_GLO_WIND_L3_NRT_OBSERVATIONS_012_002:KNMI-GLO-WIND_L3-OBS_METOP-C_ASCAT_12_DES_V2\"], [\"Global Ocean Daily Gridded Sea Surface Winds from Scatterometer\", \"EO:MO:DAT:WIND_GLO_WIND_L3_NRT_OBSERVATIONS_012_002:KNMI-GLO-WIND_L3-OBS_METOP-C_ASCAT_12_ASC_V2\"], [\"Global Ocean Daily Gridded Sea Surface Winds from Scatterometer\", \"EO:MO:DAT:WIND_GLO_WIND_L3_NRT_OBSERVATIONS_012_002:KNMI-GLO-WIND_L3-OBS_METOP-B_ASCAT_25_DES_V2\"], [\"Global Ocean Daily Gridded Sea Surface Winds from Scatterometer\", \"EO:MO:DAT:WIND_GLO_WIND_L3_NRT_OBSERVATIONS_012_002:KNMI-GLO-WIND_L3-OBS_METOP-B_ASCAT_25_ASC_V2\"], [\"Global Ocean Daily Gridded Sea Surface Winds from Scatterometer\", \"EO:MO:DAT:WIND_GLO_WIND_L3_NRT_OBSERVATIONS_012_002:KNMI-GLO-WIND_L3-OBS_METOP-B_ASCAT_12_DES_V2\"], [\"Global Ocean Daily Gridded Sea Surface Winds from Scatterometer\", \"EO:MO:DAT:WIND_GLO_WIND_L3_NRT_OBSERVATIONS_012_002:KNMI-GLO-WIND_L3-OBS_METOP-B_ASCAT_12_ASC_V2\"], [\"Global Ocean Daily Gridded Sea Surface Winds from Scatterometer\", \"EO:MO:DAT:WIND_GLO_WIND_L3_NRT_OBSERVATIONS_012_002:KNMI-GLO-WIND_L3-OBS_METOP-A_ASCAT_25_DES_V2\"], [\"Global Ocean Daily Gridded Sea Surface Winds from Scatterometer\", \"EO:MO:DAT:WIND_GLO_WIND_L3_NRT_OBSERVATIONS_012_002:KNMI-GLO-WIND_L3-OBS_METOP-A_ASCAT_25_ASC_V2\"], [\"Global Ocean Daily Gridded Sea Surface Winds from Scatterometer\", \"EO:MO:DAT:WIND_GLO_WIND_L3_NRT_OBSERVATIONS_012_002:KNMI-GLO-WIND_L3-OBS_METOP-A_ASCAT_12_DES_V2\"], [\"Global Ocean Daily Gridded Sea Surface Winds from Scatterometer\", \"EO:MO:DAT:WIND_GLO_WIND_L3_NRT_OBSERVATIONS_012_002:KNMI-GLO-WIND_L3-OBS_METOP-A_ASCAT_12_ASC_V2\"], [\"Global Ocean Daily Gridded Sea Surface Winds from Scatterometer\", \"EO:MO:DAT:WIND_GLO_WIND_L3_NRT_OBSERVATIONS_012_002:KNMI-GLO-WIND_L3-OBS_HY-2B_HSCAT_50_DES_V2\"], [\"Global Ocean Daily Gridded Sea Surface Winds from Scatterometer\", \"EO:MO:DAT:WIND_GLO_WIND_L3_NRT_OBSERVATIONS_012_002:KNMI-GLO-WIND_L3-OBS_HY-2B_HSCAT_50_ASC_V2\"], [\"Global Ocean Daily Gridded Sea Surface Winds from Scatterometer\", \"EO:MO:DAT:WIND_GLO_WIND_L3_NRT_OBSERVATIONS_012_002:KNMI-GLO-WIND_L3-OBS_HY-2B_HSCAT_25_DES_V2\"], [\"Global Ocean Daily Gridded Sea Surface Winds from Scatterometer\", \"EO:MO:DAT:WIND_GLO_WIND_L3_NRT_OBSERVATIONS_012_002:KNMI-GLO-WIND_L3-OBS_HY-2B_HSCAT_25_ASC_V2\"], [\"Global Ocean Daily Gridded Sea Surface Winds from Scatterometer\", \"EO:MO:DAT:WIND_GLO_PHY_CLIMATE_L4_REP_012_003:CERSAT-GLO-REP_WIND_L4-OBS_FULL_TIME_SERIE\"], [\"GLOBAL OCEAN L3 SPECTRAL PARAMETERS FROM NRT SATELLITE MEASUREMENTS\", \"EO:MO:DAT:WAVE_GLO_WAV_L4_SWH_NRT_OBSERVATIONS_014_003:dataset-wav-l4-swh-nrt-global\"], [\"GLOBAL OCEAN L3 SIGNIFICANT WAVE HEIGHT FROM NRT SATELLITE MEASUREMENTS\", \"EO:MO:DAT:WAVE_GLO_WAV_L3_SWH_NRT_OBSERVATIONS_014_001:dataset-wav-alti-l3-swh-rt-global-s3b\"], [\"GLOBAL OCEAN L3 SIGNIFICANT WAVE HEIGHT FROM NRT SATELLITE MEASUREMENTS\", \"EO:MO:DAT:WAVE_GLO_WAV_L3_SWH_NRT_OBSERVATIONS_014_001:dataset-wav-alti-l3-swh-rt-global-s3a\"], [\"GLOBAL OCEAN L3 SIGNIFICANT WAVE HEIGHT FROM NRT SATELLITE MEASUREMENTS\", \"EO:MO:DAT:WAVE_GLO_WAV_L3_SWH_NRT_OBSERVATIONS_014_001:dataset-wav-alti-l3-swh-rt-global-j3\"], [\"GLOBAL OCEAN L3 SIGNIFICANT WAVE HEIGHT FROM NRT SATELLITE MEASUREMENTS\", \"EO:MO:DAT:WAVE_GLO_WAV_L3_SWH_NRT_OBSERVATIONS_014_001:dataset-wav-alti-l3-swh-rt-global-h2b\"], [\"GLOBAL OCEAN L3 SIGNIFICANT WAVE HEIGHT FROM NRT SATELLITE MEASUREMENTS\", \"EO:MO:DAT:WAVE_GLO_WAV_L3_SWH_NRT_OBSERVATIONS_014_001:dataset-wav-alti-l3-swh-rt-global-cfo\"], [\"GLOBAL OCEAN L3 SIGNIFICANT WAVE HEIGHT FROM NRT SATELLITE MEASUREMENTS\", \"EO:MO:DAT:WAVE_GLO_WAV_L3_SWH_NRT_OBSERVATIONS_014_001:dataset-wav-alti-l3-swh-rt-global-c2\"], [\"GLOBAL OCEAN L3 SIGNIFICANT WAVE HEIGHT FROM NRT SATELLITE MEASUREMENTS\", \"EO:MO:DAT:WAVE_GLO_WAV_L3_SWH_NRT_OBSERVATIONS_014_001:dataset-wav-alti-l3-swh-rt-global-al\"], [\"GLOBAL OCEAN L3 SPECTRAL PARAMETERS FROM NRT SATELLITE MEASUREMENTS\", \"EO:MO:DAT:WAVE_GLO_WAV_L3_SPC_NRT_OBSERVATIONS_014_002:dataset-wav-sar-l3-spc-nrt-global-s1b\"], [\"GLOBAL OCEAN L3 SPECTRAL PARAMETERS FROM NRT SATELLITE MEASUREMENTS\", \"EO:MO:DAT:WAVE_GLO_WAV_L3_SPC_NRT_OBSERVATIONS_014_002:dataset-wav-sar-l3-spc-nrt-global-s1a\"], [\"Mediterranean Sea - High Resolution L4 Sea Surface Temperature Reprocessed\", \"EO:MO:DAT:SST_MED_SST_L4_REP_OBSERVATIONS_010_021:cmems_SST_MED_SST_L4_REP_OBSERVATIONS_010_021\"], [\"Mediterranean Sea High Resolution and Ultra High Resolution Sea Surface Temperature Analysis\", \"EO:MO:DAT:SST_MED_SST_L4_NRT_OBSERVATIONS_010_004:SST_MED_SST_L4_NRT_OBSERVATIONS_010_004_c_V2\"], [\"Mediterranean Sea High Resolution and Ultra High Resolution Sea Surface Temperature Analysis\", \"EO:MO:DAT:SST_MED_SST_L4_NRT_OBSERVATIONS_010_004:SST_MED_SST_L4_NRT_OBSERVATIONS_010_004_a_V2\"], [\"Mediterranean Sea High Resolution and Ultra High Resolution Sea Surface Temperature Analysis\", \"EO:MO:DAT:SST_MED_SST_L4_NRT_OBSERVATIONS_010_004:SST_MED_SSTA_L4_NRT_OBSERVATIONS_010_004_d\"], [\"Mediterranean Sea High Resolution and Ultra High Resolution Sea Surface Temperature Analysis\", \"EO:MO:DAT:SST_MED_SST_L4_NRT_OBSERVATIONS_010_004:SST_MED_SSTA_L4_NRT_OBSERVATIONS_010_004_b\"], [\"Mediterranean Sea - High Resolution and Ultra High Resolution L3S Sea Surface Temperature\", \"EO:MO:DAT:SST_MED_SST_L3S_NRT_OBSERVATIONS_010_012:SST_MED_SST_L3S_NRT_OBSERVATIONS_010_012_b\"], [\"Mediterranean Sea - High Resolution and Ultra High Resolution L3S Sea Surface Temperature\", \"EO:MO:DAT:SST_MED_SST_L3S_NRT_OBSERVATIONS_010_012:SST_MED_SST_L3S_NRT_OBSERVATIONS_010_012_a\"], [\"Mediterranean Sea - High Resolution Diurnal Subskin Sea Surface Temperature Analysis\", \"EO:MO:DAT:SST_MED_PHY_SUBSKIN_L4_NRT_010_036:cmems_obs-sst_med_phy-sst_nrt_diurnal-oi-0.0625deg_PT1H-m\"], [\"ESA SST CCI and C3S reprocessed sea surface temperature analyses\", \"EO:MO:DAT:SST_GLO_SST_L4_REP_OBSERVATIONS_010_024:ESACCI-GLO-SST-L4-REP-OBS-SST\"], [\"ESA SST CCI and C3S reprocessed sea surface temperature analyses\", \"EO:MO:DAT:SST_GLO_SST_L4_REP_OBSERVATIONS_010_024:C3S-GLO-SST-L4-REP-OBS-SST\"], [\"Global Ocean OSTIA Sea Surface Temperature and Sea Ice Reprocessed\", \"EO:MO:DAT:SST_GLO_SST_L4_REP_OBSERVATIONS_010_011:METOFFICE-GLO-SST-L4-REP-OBS-SST\"], [\"Global Ocean OSTIA Diurnal Skin Sea Surface Temperature\", \"EO:MO:DAT:SST_GLO_SST_L4_NRT_OBSERVATIONS_010_014:METOFFICE-GLO-SST-L4-NRT-OBS-SKIN-DIU-FV01.1\"], [\"Global Ocean Sea Surface Temperature Multi Product Ensemble (GMPE)\", \"EO:MO:DAT:SST_GLO_SST_L4_NRT_OBSERVATIONS_010_005:METOFFICE-GLO-SST-L4-NRT-OBS-GMPE-V3\"], [\"Global Ocean OSTIA Sea Surface Temperature and Sea Ice Analysis\", \"EO:MO:DAT:SST_GLO_SST_L4_NRT_OBSERVATIONS_010_001:METOFFICE-GLO-SST-L4-NRT-OBS-SST-V2\"], [\"Global Ocean OSTIA Sea Surface Temperature and Sea Ice Analysis\", \"EO:MO:DAT:SST_GLO_SST_L4_NRT_OBSERVATIONS_010_001:METOFFICE-GLO-SST-L4-NRT-OBS-SST-SEAS-V2\"], [\"Global Ocean OSTIA Sea Surface Temperature and Sea Ice Analysis\", \"EO:MO:DAT:SST_GLO_SST_L4_NRT_OBSERVATIONS_010_001:METOFFICE-GLO-SST-L4-NRT-OBS-SST-MON-V2\"], [\"Global Ocean OSTIA Sea Surface Temperature and Sea Ice Analysis\", \"EO:MO:DAT:SST_GLO_SST_L4_NRT_OBSERVATIONS_010_001:METOFFICE-GLO-SST-L4-NRT-OBS-BIAS-V2.1\"], [\"Global Ocean OSTIA Sea Surface Temperature and Sea Ice Analysis\", \"EO:MO:DAT:SST_GLO_SST_L4_NRT_OBSERVATIONS_010_001:METOFFICE-GLO-SST-L4-NRT-OBS-ANOM-V2\"], [\"Global Ocean - Sea Surface Temperature Multi-sensor L3 Observations\", \"EO:MO:DAT:SST_GLO_SST_L3S_NRT_OBSERVATIONS_010_010:IFREMER-GLOB-SST-L3-NRT-OBS_FULL_TIME_SERIE\"], [\"European Ocean- Sea Surface Temperature Multi-Sensor L3 Observations\", \"EO:MO:DAT:SST_EUR_SST_L3S_NRT_OBSERVATIONS_010_009_a:METEOFRANCE-EUR-SST_L3MULTISENSOR_NRT-OBS_FULL_TIME_SERIE\"], [\"European Ocean- Sea Surface Temperature Mono-Sensor L3 Observations\", \"EO:MO:DAT:SST_EUR_SST_L3C_NRT_OBSERVATIONS_010_009_b:METEOFRANCE-EUR-SST_L3MONOSENSOR_NRT-OBS_V2-VIIRS_NPP-EUR-AVHRR_METOP_B_FULL_TIME_SERIE\"], [\"European Ocean- Sea Surface Temperature Mono-Sensor L3 Observations\", \"EO:MO:DAT:SST_EUR_SST_L3C_NRT_OBSERVATIONS_010_009_b:METEOFRANCE-EUR-SST_L3MONOSENSOR_NRT-OBS_V2-TMI-EUR-AVHRR_METOP_A_FULL_TIME_SERIE\"], [\"European Ocean- Sea Surface Temperature Mono-Sensor L3 Observations\", \"EO:MO:DAT:SST_EUR_SST_L3C_NRT_OBSERVATIONS_010_009_b:METEOFRANCE-EUR-SST_L3MONOSENSOR_NRT-OBS_V2-SLSTRA-EUR-AVHRR_METOP_B_FULL_TIME_SERIE\"], [\"European Ocean- Sea Surface Temperature Mono-Sensor L3 Observations\", \"EO:MO:DAT:SST_EUR_SST_L3C_NRT_OBSERVATIONS_010_009_b:METEOFRANCE-EUR-SST_L3MONOSENSOR_NRT-OBS_V2-SEVIRI_1_1H_SST-EUR-AVHRR_METOP_B_FULL_TIME_SERIE\"], [\"European Ocean- Sea Surface Temperature Mono-Sensor L3 Observations\", \"EO:MO:DAT:SST_EUR_SST_L3C_NRT_OBSERVATIONS_010_009_b:METEOFRANCE-EUR-SST_L3MONOSENSOR_NRT-OBS_V2-SEVIRI_1_1H_SST-EUR-AVHRR_METOP_A_FULL_TIME_SERIE\"], [\"European Ocean- Sea Surface Temperature Mono-Sensor L3 Observations\", \"EO:MO:DAT:SST_EUR_SST_L3C_NRT_OBSERVATIONS_010_009_b:METEOFRANCE-EUR-SST_L3MONOSENSOR_NRT-OBS_V2-NAR_AVHRR_NOAA_19-EUR-AVHRR_METOP_A_FULL_TIME_SERIE\"], [\"European Ocean- Sea Surface Temperature Mono-Sensor L3 Observations\", \"EO:MO:DAT:SST_EUR_SST_L3C_NRT_OBSERVATIONS_010_009_b:METEOFRANCE-EUR-SST_L3MONOSENSOR_NRT-OBS_V2-NAR_AVHRR_NOAA_18-EUR-AVHRR_METOP_A_FULL_TIME_SERIE\"], [\"European Ocean- Sea Surface Temperature Mono-Sensor L3 Observations\", \"EO:MO:DAT:SST_EUR_SST_L3C_NRT_OBSERVATIONS_010_009_b:METEOFRANCE-EUR-SST_L3MONOSENSOR_NRT-OBS_V2-MODIS_T-EUR-AVHRR_METOP_B_FULL_TIME_SERIE\"], [\"European Ocean- Sea Surface Temperature Mono-Sensor L3 Observations\", \"EO:MO:DAT:SST_EUR_SST_L3C_NRT_OBSERVATIONS_010_009_b:METEOFRANCE-EUR-SST_L3MONOSENSOR_NRT-OBS_V2-MODIS_T-EUR-AVHRR_METOP_A_FULL_TIME_SERIE\"], [\"European Ocean- Sea Surface Temperature Mono-Sensor L3 Observations\", \"EO:MO:DAT:SST_EUR_SST_L3C_NRT_OBSERVATIONS_010_009_b:METEOFRANCE-EUR-SST_L3MONOSENSOR_NRT-OBS_V2-MODIS_A-EUR-AVHRR_METOP_B_FULL_TIME_SERIE\"], [\"European Ocean- Sea Surface Temperature Mono-Sensor L3 Observations\", \"EO:MO:DAT:SST_EUR_SST_L3C_NRT_OBSERVATIONS_010_009_b:METEOFRANCE-EUR-SST_L3MONOSENSOR_NRT-OBS_V2-MODIS_A-EUR-AVHRR_METOP_A_FULL_TIME_SERIE\"], [\"European Ocean- Sea Surface Temperature Mono-Sensor L3 Observations\", \"EO:MO:DAT:SST_EUR_SST_L3C_NRT_OBSERVATIONS_010_009_b:METEOFRANCE-EUR-SST_L3MONOSENSOR_NRT-OBS_V2-BUOY_ALL_SST_FULL_TIME_SERIE\"], [\"European Ocean- Sea Surface Temperature Mono-Sensor L3 Observations\", \"EO:MO:DAT:SST_EUR_SST_L3C_NRT_OBSERVATIONS_010_009_b:METEOFRANCE-EUR-SST_L3MONOSENSOR_NRT-OBS_V2-AVHRR_NOAA_19-EUR-AVHRR_METOP_A_FULL_TIME_SERIE\"], [\"European Ocean- Sea Surface Temperature Mono-Sensor L3 Observations\", \"EO:MO:DAT:SST_EUR_SST_L3C_NRT_OBSERVATIONS_010_009_b:METEOFRANCE-EUR-SST_L3MONOSENSOR_NRT-OBS_V2-AVHRR_METOP_B_FULL_TIME_SERIE\"], [\"European Ocean- Sea Surface Temperature Mono-Sensor L3 Observations\", \"EO:MO:DAT:SST_EUR_SST_L3C_NRT_OBSERVATIONS_010_009_b:METEOFRANCE-EUR-SST_L3MONOSENSOR_NRT-OBS_V2-AVHRR_METOP_A_FULL_TIME_SERIE\"], [\"European Ocean- Sea Surface Temperature Mono-Sensor L3 Observations\", \"EO:MO:DAT:SST_EUR_SST_L3C_NRT_OBSERVATIONS_010_009_b:METEOFRANCE-EUR-SST_L3MONOSENSOR_NRT-OBS_V2-AVHRR19_L-EUR-AVHRR_METOP_B_FULL_TIME_SERIE\"], [\"European Ocean- Sea Surface Temperature Mono-Sensor L3 Observations\", \"EO:MO:DAT:SST_EUR_SST_L3C_NRT_OBSERVATIONS_010_009_b:METEOFRANCE-EUR-SST_L3MONOSENSOR_NRT-OBS_V2-AVHRR19_L-EUR-AVHRR_METOP_A_FULL_TIME_SERIE\"], [\"European Ocean- Sea Surface Temperature Mono-Sensor L3 Observations\", \"EO:MO:DAT:SST_EUR_SST_L3C_NRT_OBSERVATIONS_010_009_b:METEOFRANCE-EUR-SST_L3MONOSENSOR_NRT-OBS_V2-AVHRR18_G-EUR-AVHRR_METOP_B_FULL_TIME_SERIE\"], [\"European Ocean- Sea Surface Temperature Mono-Sensor L3 Observations\", \"EO:MO:DAT:SST_EUR_SST_L3C_NRT_OBSERVATIONS_010_009_b:METEOFRANCE-EUR-SST_L3MONOSENSOR_NRT-OBS_V2-AVHRR18_G-EUR-AVHRR_METOP_A_FULL_TIME_SERIE\"], [\"European Ocean- Sea Surface Temperature Mono-Sensor L3 Observations\", \"EO:MO:DAT:SST_EUR_SST_L3C_NRT_OBSERVATIONS_010_009_b:METEOFRANCE-EUR-SST_L3MONOSENSOR_NRT-OBS_V2-AMSR2_NRT-EUR-AVHRR_METOP_B_FULL_TIME_SERIE\"], [\"European Ocean- Sea Surface Temperature Mono-Sensor L3 Observations\", \"EO:MO:DAT:SST_EUR_SST_L3C_NRT_OBSERVATIONS_010_009_b:METEOFRANCE-EUR-SST_L3MONOSENSOR_NRT-OBS-SLSTRB-EUR-AVHRR_METOP_B_FULL_TIME_SERIE\"], [\"European Ocean- Sea Surface Temperature Mono-Sensor L3 Observations\", \"EO:MO:DAT:SST_EUR_SST_L3C_NRT_OBSERVATIONS_010_009_b:METEOFRANCE-EUR-SST_L3MONOSENSOR_NRT-OBS_ATS_NR_2P-EUR-MYOCEAN_FULL_TIME_SERIE\"], [\"European Ocean- Sea Surface Temperature Mono-Sensor L3 Observations\", \"EO:MO:DAT:SST_EUR_SST_L3C_NRT_OBSERVATIONS_010_009_b:METEOFRANCE-EUR-SST_L3MONOSENSOR_NRT-OBS_AMSRE-EUR-MYOCEAN_FULL_TIME_SERIE\"], [\"European Ocean- Sea Surface Temperature Mono-Sensor L3 Observations\", \"EO:MO:DAT:SST_EUR_PHY_L4_NRT_010_031:METEOFRANCE-EUR-SST-L4-NRT-OBS_FULL_TIME_SERIE\"], [\"Black Sea - High Resolution L4 Sea Surface Temperature Reprocessed\", \"EO:MO:DAT:SST_BS_SST_L4_REP_OBSERVATIONS_010_022:cmems_SST_BS_SST_L4_REP_OBSERVATIONS_010_022\"], [\"Black Sea High Resolution and Ultra High Resolution Sea Surface Temperature Analysis\", \"EO:MO:DAT:SST_BS_SST_L4_NRT_OBSERVATIONS_010_006:SST_BS_SST_L4_NRT_OBSERVATIONS_010_006_c_V2\"], [\"Black Sea High Resolution and Ultra High Resolution Sea Surface Temperature Analysis\", \"EO:MO:DAT:SST_BS_SST_L4_NRT_OBSERVATIONS_010_006:SST_BS_SST_L4_NRT_OBSERVATIONS_010_006_a_V2\"], [\"Black Sea High Resolution and Ultra High Resolution Sea Surface Temperature Analysis\", \"EO:MO:DAT:SST_BS_SST_L4_NRT_OBSERVATIONS_010_006:SST_BS_SSTA_L4_NRT_OBSERVATIONS_010_006_d\"], [\"Black Sea High Resolution and Ultra High Resolution Sea Surface Temperature Analysis\", \"EO:MO:DAT:SST_BS_SST_L4_NRT_OBSERVATIONS_010_006:SST_BS_SSTA_L4_NRT_OBSERVATIONS_010_006_b\"], [\"Black Sea - High Resolution and Ultra High Resolution L3S Sea Surface Temperature\", \"EO:MO:DAT:SST_BS_SST_L3S_NRT_OBSERVATIONS_010_013:SST_BS_SST_L3S_NRT_OBSERVATIONS_010_013_b\"], [\"Black Sea - High Resolution and Ultra High Resolution L3S Sea Surface Temperature\", \"EO:MO:DAT:SST_BS_SST_L3S_NRT_OBSERVATIONS_010_013:SST_BS_SST_L3S_NRT_OBSERVATIONS_010_013_a\"], [\"Black Sea - High Resolution Diurnal Subskin Sea Surface Temperature Analysis\", \"EO:MO:DAT:SST_BS_PHY_SUBSKIN_L4_NRT_010_035:cmems_obs-sst_blk_phy-sst_nrt_diurnal-oi-0.0625deg_PT1H-m\"], [\"Baltic Sea- Sea Surface Temperature Reprocessed\", \"EO:MO:DAT:SST_BAL_SST_L4_REP_OBSERVATIONS_010_016:DMI_BAL_SST_L4_REP_OBSERVATIONS_010_016\"], [\"Baltic Sea- Sea Surface Temperature Analysis L4\", \"EO:MO:DAT:SST_BAL_SST_L4_NRT_OBSERVATIONS_010_007_b:DMI-BALTIC-SST-L4-NRT-OBS_FULL_TIME_SERIE\"], [\"North Sea/Baltic Sea - Sea Surface Temperature Analysis L3S\", \"EO:MO:DAT:SST_BAL_SST_L3S_NRT_OBSERVATIONS_010_032:DMI-BALTIC-SST-L3S-NRT-OBS_FULL_TIME_SERIE\"], [\"European North West Shelf/Iberia Biscay Irish Seas - High Resolution L4 Sea Surface Temperature Reprocessed\", \"EO:MO:DAT:SST_ATL_SST_L4_REP_OBSERVATIONS_010_026:cmems-IFREMER-ATL-SST-L4-REP-OBS_FULL_TIME_SERIE\"], [\"European North West Shelf/Iberia Biscay Irish Seas \\u2013 High Resolution ODYSSEA L4 Sea Surface Temperature Analysis\", \"EO:MO:DAT:SST_ATL_SST_L4_NRT_OBSERVATIONS_010_025:IFREMER-ATL-SST-L4-NRT-OBS_FULL_TIME_SERIE\"], [\"MEDITERRANEAN SEA MEAN DYNAMIC TOPOGRAPHY\", \"EO:MO:DAT:SEALEVEL_MED_PHY_MDT_L4_STATIC_008_066:cmems_obs-sl_med_phy-mdt_my_l4-0.0417deg_P20Y\"], [\"EUROPEAN SEAS GRIDDED L4 SEA SURFACE HEIGHTS AND DERIVED VARIABLES REPROCESSED (1993-ONGOING)\", \"EO:MO:DAT:SEALEVEL_GLO_PHY_MDT_008_063:cnes_obs-sl_glo_phy-mdt_my_0.125deg_P20Y\"], [\"GLOBAL OCEAN GRIDDED L4 SEA SURFACE HEIGHTS AND DERIVED VARIABLES REPROCESSED (1993-ONGOING)\", \"EO:MO:DAT:SEALEVEL_GLO_PHY_L4_REP_OBSERVATIONS_008_047:dataset-duacs-rep-global-merged-allsat-phy-l4\"], [\"GLOBAL OCEAN GRIDDED L4 SEA SURFACE HEIGHTS AND DERIVED VARIABLES NRT\", \"EO:MO:DAT:SEALEVEL_GLO_PHY_L4_NRT_OBSERVATIONS_008_046:dataset-duacs-nrt-global-merged-allsat-phy-l4\"], [\"EUROPEAN SEAS GRIDDED L4 SEA SURFACE HEIGHTS AND DERIVED VARIABLES NRT\", \"EO:MO:DAT:SEALEVEL_EUR_PHY_L4_NRT_OBSERVATIONS_008_060:dataset-duacs-nrt-europe-merged-allsat-phy-l4\"], [\"BLACK SEA MEAN DYNAMIC TOPOGRAPHY\", \"EO:MO:DAT:SEALEVEL_BLK_PHY_MDT_L4_STATIC_008_067:cmems_obs-sl_blk_phy-mdt_my_l4-0.0625deg_P20Y\"], [\"Global Ocean Sea Ice Concentration Time Series REPROCESSED (OSI-SAF)\", \"EO:MO:DAT:SEAICE_GLO_SEAICE_L4_REP_OBSERVATIONS_011_009:OSISAF-GLO-SEAICE_CONC_TIMESERIES-SH-LA-OBS\"], [\"Global Ocean Sea Ice Concentration Time Series REPROCESSED (OSI-SAF)\", \"EO:MO:DAT:SEAICE_GLO_SEAICE_L4_REP_OBSERVATIONS_011_009:OSISAF-GLO-SEAICE_CONC_TIMESERIES-NH-LA-OBS\"], [\"Global Ocean Sea Ice Concentration Time Series REPROCESSED (OSI-SAF)\", \"EO:MO:DAT:SEAICE_GLO_SEAICE_L4_REP_OBSERVATIONS_011_009:OSISAF-GLO-SEAICE_CONC_CONT_TIMESERIES-SH-LA-OBS\"], [\"Global Ocean Sea Ice Concentration Time Series REPROCESSED (OSI-SAF)\", \"EO:MO:DAT:SEAICE_GLO_SEAICE_L4_REP_OBSERVATIONS_011_009:OSISAF-GLO-SEAICE_CONC_CONT_TIMESERIES-NH-LA-OBS\"], [\"Global Ocean - High Resolution SAR Sea Ice Drift\", \"EO:MO:DAT:SEAICE_GLO_SEAICE_L4_NRT_OBSERVATIONS_011_006:DTU-GLO-SEAICE_DRIFT-SOUTH-L4-NRT-OBS\"], [\"Global Ocean - High Resolution SAR Sea Ice Drift\", \"EO:MO:DAT:SEAICE_GLO_SEAICE_L4_NRT_OBSERVATIONS_011_006:DTU-GLO-SEAICE_DRIFT-NORTH-L4-NRT-OBS\"], [\"Global Ocean - High Resolution SAR Sea Ice Drift\", \"EO:MO:DAT:SEAICE_GLO_SEAICE_L4_NRT_OBSERVATIONS_011_006:cmems_sat-si_glo_drift_nrt_south_d\"], [\"Global Ocean - High Resolution SAR Sea Ice Drift\", \"EO:MO:DAT:SEAICE_GLO_SEAICE_L4_NRT_OBSERVATIONS_011_006:cmems_sat-si_glo_drift_nrt_north_d\"], [\"Baltic Sea - SAR Sea Ice Thickness and Drift, Multisensor Sea Ice Concentration\", \"EO:MO:DAT:SEAICE_GLO_SEAICE_L4_NRT_OBSERVATIONS_011_001:METNO-GLO-SEAICE_TYPE-SOUTH-L4-NRT-OBS\"], [\"Baltic Sea - SAR Sea Ice Thickness and Drift, Multisensor Sea Ice Concentration\", \"EO:MO:DAT:SEAICE_GLO_SEAICE_L4_NRT_OBSERVATIONS_011_001:METNO-GLO-SEAICE_TYPE-NORTH-L4-NRT-OBS\"], [\"Baltic Sea - SAR Sea Ice Thickness and Drift, Multisensor Sea Ice Concentration\", \"EO:MO:DAT:SEAICE_GLO_SEAICE_L4_NRT_OBSERVATIONS_011_001:METNO-GLO-SEAICE_EDGE-SOUTH-L4-NRT-OBS\"], [\"Baltic Sea - SAR Sea Ice Thickness and Drift, Multisensor Sea Ice Concentration\", \"EO:MO:DAT:SEAICE_GLO_SEAICE_L4_NRT_OBSERVATIONS_011_001:METNO-GLO-SEAICE_EDGE-NORTH-L4-NRT-OBS\"], [\"Baltic Sea - SAR Sea Ice Thickness and Drift, Multisensor Sea Ice Concentration\", \"EO:MO:DAT:SEAICE_GLO_SEAICE_L4_NRT_OBSERVATIONS_011_001:METNO-GLO-SEAICE_DRIFT-SOUTH-L4-NRT-OBS\"], [\"Baltic Sea - SAR Sea Ice Thickness and Drift, Multisensor Sea Ice Concentration\", \"EO:MO:DAT:SEAICE_GLO_SEAICE_L4_NRT_OBSERVATIONS_011_001:METNO-GLO-SEAICE_DRIFT-NORTH-L4-NRT-OBS\"], [\"Baltic Sea - SAR Sea Ice Thickness and Drift, Multisensor Sea Ice Concentration\", \"EO:MO:DAT:SEAICE_GLO_SEAICE_L4_NRT_OBSERVATIONS_011_001:METNO-GLO-SEAICE_CONC-SOUTH-L4-NRT-OBS\"], [\"Baltic Sea - SAR Sea Ice Thickness and Drift, Multisensor Sea Ice Concentration\", \"EO:MO:DAT:SEAICE_GLO_SEAICE_L4_NRT_OBSERVATIONS_011_001:METNO-GLO-SEAICE_CONC-NORTH-L4-NRT-OBS\"], [\"Baltic Sea - SAR Sea Ice Thickness and Drift, Multisensor Sea Ice Concentration\", \"EO:MO:DAT:SEAICE_BAL_SEAICE_L4_NRT_OBSERVATIONS_011_011:FMI-BAL-SEAICE_THICK-MOSAIC-SAR-NRT-OBS\"], [\"Baltic Sea - Sea Ice Concentration and Thickness Charts\", \"EO:MO:DAT:SEAICE_BAL_SEAICE_L4_NRT_OBSERVATIONS_011_004:FMI-BAL-SEAICE_THICK-L4-NRT-OBS\"], [\"Baltic Sea - Sea Ice Concentration and Thickness Charts\", \"EO:MO:DAT:SEAICE_BAL_SEAICE_L4_NRT_OBSERVATIONS_011_004:FMI-BAL-SEAICE_CONC-L4-NRT-OBS\"], [\"Arctic Ocean - Sea and Ice Surface Temperature\", \"EO:MO:DAT:SEAICE_ARC_SEAICE_L4_NRT_OBSERVATIONS_011_008:DMI-ARC-SEAICE_TEMP-L4-NRT-OBS\"], [\"SAR Sea Ice Berg Concentration and Individual Icebergs Observed with Sentinel-1\", \"EO:MO:DAT:SEAICE_ARC_SEAICE_L4_NRT_OBSERVATIONS_011_007:DMI-ARC-SEAICE_BERG_MOSAIC-L4-NRT-OBS\"], [\"SAR Sea Ice Berg Concentration and Individual Icebergs Observed with Sentinel-1\", \"EO:MO:DAT:SEAICE_ARC_SEAICE_L4_NRT_OBSERVATIONS_011_007:DMI-ARC-SEAICE_BERG_MOSAIC_IW-L4-NRT-OBS\"], [\"SAR Sea Ice Berg Concentration and Individual Icebergs Observed with Sentinel-1\", \"EO:MO:DAT:SEAICE_ARC_SEAICE_L4_NRT_OBSERVATIONS_011_007:DMI-ARC-SEAICE_BERG-L4-NRT-OBS\"], [\"SAR Sea Ice Berg Concentration and Individual Icebergs Observed with Sentinel-1\", \"EO:MO:DAT:SEAICE_ARC_SEAICE_L4_NRT_OBSERVATIONS_011_007:DMI-ARC-SEAICE_BERG_IW-L4-NRT-OBS\"], [\"Arctic Ocean - Sea Ice Concentration Charts - Svalbard and Greenland\", \"EO:MO:DAT:SEAICE_ARC_SEAICE_L4_NRT_OBSERVATIONS_011_002:METNO-ARC-SEAICE_CONC-L4-NRT-OBS\"], [\"Arctic Ocean - Sea Ice Concentration Charts - Svalbard and Greenland\", \"EO:MO:DAT:SEAICE_ARC_SEAICE_L4_NRT_OBSERVATIONS_011_002:cmems_obs-si_arc_physic_nrt_1km-grl_P1WT3D-m\"], [\"Arctic Ocean - Sea Ice Concentration Charts - Svalbard and Greenland\", \"EO:MO:DAT:SEAICE_ARC_SEAICE_L4_NRT_OBSERVATIONS_011_002:cmems_obs-si_arc_physic_nrt_1km-grl_P1D-irr\"], [\"Global Ocean- in-situ Near Real time Carbon observations\", \"EO:MO:DAT:SEAICE_ARC_SEAICE_L3_REP_OBSERVATIONS_011_013:cdr_ice_thick_nh\"], [\"Arctic Ocean Sea Ice Drift REPROCESSED\", \"EO:MO:DAT:SEAICE_ARC_SEAICE_L3_REP_OBSERVATIONS_011_010:cmems_obs-si_arc_phy_my_drift-amsr_P6D\"], [\"Arctic Ocean Sea Ice Drift REPROCESSED\", \"EO:MO:DAT:SEAICE_ARC_SEAICE_L3_REP_OBSERVATIONS_011_010:cmems_obs-si_arc_phy_my_drift-amsr_P3D\"], [\"Arctic Ocean Sea Ice Drift REPROCESSED\", \"EO:MO:DAT:SEAICE_ARC_SEAICE_L3_REP_OBSERVATIONS_011_010:cmems_obs-si_arc_phy_my_drift-amsr_P2D\"], [\"Arctic Ocean Sea Ice Drift REPROCESSED\", \"EO:MO:DAT:SEAICE_ARC_SEAICE_L3_REP_OBSERVATIONS_011_010:CERSAT-GLO-SEAICE_6DAYS_DRIFT_QUICKSCAT_RAN-OBS_FULL_TIME_SERIE\"], [\"Arctic Ocean Sea Ice Drift REPROCESSED\", \"EO:MO:DAT:SEAICE_ARC_SEAICE_L3_REP_OBSERVATIONS_011_010:CERSAT-GLO-SEAICE_6DAYS_DRIFT_ASCAT_RAN-OBS_FULL_TIME_SERIE\"], [\"Arctic Ocean Sea Ice Drift REPROCESSED\", \"EO:MO:DAT:SEAICE_ARC_SEAICE_L3_REP_OBSERVATIONS_011_010:CERSAT-GLO-SEAICE_3DAYS_DRIFT_QUICKSCAT_SSMI_MERGED_RAN-OBS_FULL_TIME_SERIE\"], [\"Arctic Ocean Sea Ice Drift REPROCESSED\", \"EO:MO:DAT:SEAICE_ARC_SEAICE_L3_REP_OBSERVATIONS_011_010:CERSAT-GLO-SEAICE_3DAYS_DRIFT_QUICKSCAT_RAN-OBS_FULL_TIME_SERIE\"], [\"Arctic Ocean Sea Ice Drift REPROCESSED\", \"EO:MO:DAT:SEAICE_ARC_SEAICE_L3_REP_OBSERVATIONS_011_010:CERSAT-GLO-SEAICE_3DAYS_DRIFT_ASCAT_SSMI_MERGED_RAN-OBS_FULL_TIME_SERIE\"], [\"Arctic Ocean Sea Ice Drift REPROCESSED\", \"EO:MO:DAT:SEAICE_ARC_SEAICE_L3_REP_OBSERVATIONS_011_010:CERSAT-GLO-SEAICE_3DAYS_DRIFT_ASCAT_RAN-OBS_FULL_TIME_SERIE\"], [\"Arctic Ocean Sea Ice Drift REPROCESSED\", \"EO:MO:DAT:SEAICE_ARC_SEAICE_L3_REP_OBSERVATIONS_011_010:CERSAT-GLO-SEAICE_30DAYS_DRIFT_QUICKSCAT_SSMI_MERGED_RAN-OBS_FULL_TIME_SERIE\"], [\"Arctic Ocean Sea Ice Drift REPROCESSED\", \"EO:MO:DAT:SEAICE_ARC_SEAICE_L3_REP_OBSERVATIONS_011_010:CERSAT-GLO-SEAICE_30DAYS_DRIFT_ASCAT_SSMI_MERGED_RAN-OBS_FULL_TIME_SERIE\"], [\"Global Ocean- in-situ Near Real time Carbon observations\", \"EO:MO:DAT:SEAICE_ARC_SEAICE_L3_NRT_OBSERVATIONS_011_014:FMI-ARC-SEAICE_THICK-CS2SMOS_NRT_OBS\"], [\"Arctic Ocean - Sea and Ice Surface Temperature REPROCESSED\", \"EO:MO:DAT:SEAICE_ARC_PHY_CLIMATE_L4_MY_011_016:cmems_obs_si_arc_phy_my_L4-DMIOI_P1D-m\"], [\"Arctic Ocean - High resolution Sea Ice Concentration and Sea Ice Type\", \"EO:MO:DAT:SEAICE_ARC_PHY_AUTO_L4_NRT_011_015:cmems_obs-si_arc_phy-siconc_nrt_L4-auto_P1D\"], [\"Arctic Ocean - High resolution Sea Ice Concentration and Sea Ice Type\", \"EO:MO:DAT:SEAICE_ARC_PHY_AUTO_L4_NRT_011_015:cmems_obs-si_arc_phy-icetype_nrt_L4-auto_P1D\"], [\"Antarctic Ocean - Sea Ice Edge from SAR\", \"EO:MO:DAT:SEAICE_ANT_SEAICE_L4_NRT_OBSERVATIONS_011_012:BAS-ANT-SEAICE_TYPE-L4-NRT-OBS\"], [\"North West Shelf Region, Bio-Geo-Chemical, L4, monthly means and interpolated daily observation\", \"EO:MO:DAT:OCEANCOLOUR_NWS_BGC_HR_L4_NRT_009_209:cmems_obs_oc_nws_bgc_transp_nrt_l4-hr_P1M-m\"], [\"North West Shelf Region, Bio-Geo-Chemical, L4, monthly means and interpolated daily observation\", \"EO:MO:DAT:OCEANCOLOUR_NWS_BGC_HR_L4_NRT_009_209:cmems_obs_oc_nws_bgc_transp_nrt_l4-hr_P1D-m\"], [\"North West Shelf Region, Bio-Geo-Chemical, L4, monthly means and interpolated daily observation\", \"EO:MO:DAT:OCEANCOLOUR_NWS_BGC_HR_L4_NRT_009_209:cmems_obs_oc_nws_bgc_optics_nrt_l4-hr_P1M-m\"], [\"North West Shelf Region, Bio-Geo-Chemical, L4, monthly means and interpolated daily observation\", \"EO:MO:DAT:OCEANCOLOUR_NWS_BGC_HR_L4_NRT_009_209:cmems_obs_oc_nws_bgc_optics_nrt_l4-hr_P1D-m\"], [\"North West Shelf Region, Bio-Geo-Chemical, L4, monthly means and interpolated daily observation\", \"EO:MO:DAT:OCEANCOLOUR_NWS_BGC_HR_L4_NRT_009_209:cmems_obs_oc_nws_bgc_geophy_nrt_l4-hr_P1M-m\"], [\"North West Shelf Region, Bio-Geo-Chemical, L4, monthly means and interpolated daily observation\", \"EO:MO:DAT:OCEANCOLOUR_NWS_BGC_HR_L4_NRT_009_209:cmems_obs_oc_nws_bgc_geophy_nrt_l4-hr_P1D-m\"], [\"North West Shelf Region, Bio-Geo-Chemical, L3, daily observation\", \"EO:MO:DAT:OCEANCOLOUR_NWS_BGC_HR_L3_NRT_009_203:cmems_obs_oc_nws_bgc_transp_nrt_l3-hr_P1D-m\"], [\"North West Shelf Region, Bio-Geo-Chemical, L3, daily observation\", \"EO:MO:DAT:OCEANCOLOUR_NWS_BGC_HR_L3_NRT_009_203:cmems_obs_oc_nws_bgc_optics_nrt_l3-hr_P1D-m\"], [\"North West Shelf Region, Bio-Geo-Chemical, L3, daily observation\", \"EO:MO:DAT:OCEANCOLOUR_NWS_BGC_HR_L3_NRT_009_203:cmems_obs_oc_nws_bgc_geophy_nrt_l3-hr_P1D-m\"], [\"Mediterranean Sea Monthly Attenuation Coefficient at 490nm from Multi Satellite and Sentinel-3 OLCI observations\", \"EO:MO:DAT:OCEANCOLOUR_MED_OPTICS_L4_NRT_OBSERVATIONS_009_039:dataset-oc-med-opt-olci-l4-kd490_300m_monthly-rt\"], [\"Mediterranean Sea Monthly Attenuation Coefficient at 490nm from Multi Satellite and Sentinel-3 OLCI observations\", \"EO:MO:DAT:OCEANCOLOUR_MED_OPTICS_L4_NRT_OBSERVATIONS_009_039:dataset-oc-med-opt-olci_a-l4-kd490_1km_monthly-rt-v02\"], [\"Mediterranean Sea Monthly Attenuation Coefficient at 490nm from Multi Satellite and Sentinel-3 OLCI observations\", \"EO:MO:DAT:OCEANCOLOUR_MED_OPTICS_L4_NRT_OBSERVATIONS_009_039:dataset-oc-med-opt-multi-l4-kd490_1km_monthly-rt-v02\"], [\"Mediterranean Sea Reprocessed Remote Sensing Reflectances and Attenuation Coefficient at 490nm from Multi Satellite observations\", \"EO:MO:DAT:OCEANCOLOUR_MED_OPTICS_L3_REP_OBSERVATIONS_009_095:dataset-oc-med-opt-multi-l3-rrs670_1km_daily-rep-v02\"], [\"Mediterranean Sea Reprocessed Remote Sensing Reflectances and Attenuation Coefficient at 490nm from Multi Satellite observations\", \"EO:MO:DAT:OCEANCOLOUR_MED_OPTICS_L3_REP_OBSERVATIONS_009_095:dataset-oc-med-opt-multi-l3-rrs555_1km_daily-rep-v02\"], [\"Mediterranean Sea Reprocessed Remote Sensing Reflectances and Attenuation Coefficient at 490nm from Multi Satellite observations\", \"EO:MO:DAT:OCEANCOLOUR_MED_OPTICS_L3_REP_OBSERVATIONS_009_095:dataset-oc-med-opt-multi-l3-rrs510_1km_daily-rep-v02\"], [\"Mediterranean Sea Reprocessed Remote Sensing Reflectances and Attenuation Coefficient at 490nm from Multi Satellite observations\", \"EO:MO:DAT:OCEANCOLOUR_MED_OPTICS_L3_REP_OBSERVATIONS_009_095:dataset-oc-med-opt-multi-l3-rrs490_1km_daily-rep-v02\"], [\"Mediterranean Sea Reprocessed Remote Sensing Reflectances and Attenuation Coefficient at 490nm from Multi Satellite observations\", \"EO:MO:DAT:OCEANCOLOUR_MED_OPTICS_L3_REP_OBSERVATIONS_009_095:dataset-oc-med-opt-multi-l3-rrs443_1km_daily-rep-v02\"], [\"Mediterranean Sea Reprocessed Remote Sensing Reflectances and Attenuation Coefficient at 490nm from Multi Satellite observations\", \"EO:MO:DAT:OCEANCOLOUR_MED_OPTICS_L3_REP_OBSERVATIONS_009_095:dataset-oc-med-opt-multi-l3-rrs412_1km_daily-rep-v02\"], [\"Mediterranean Sea Reprocessed Remote Sensing Reflectances and Attenuation Coefficient at 490nm from Multi Satellite observations\", \"EO:MO:DAT:OCEANCOLOUR_MED_OPTICS_L3_REP_OBSERVATIONS_009_095:dataset-oc-med-opt-multi-l3-kd490_1km_daily-rep-v02\"], [\"Mediterranean Sea Reprocessed Remote Sensing Reflectances and Attenuation Coefficient at 490nm from Multi Satellite observations\", \"EO:MO:DAT:OCEANCOLOUR_MED_OPTICS_L3_REP_OBSERVATIONS_009_095:dataset-oc-med-opt-multi-l3-bbp443_1km_daily-rep-v02\"], [\"Mediterranean Sea Reprocessed Remote Sensing Reflectances and Attenuation Coefficient at 490nm from Multi Satellite observations\", \"EO:MO:DAT:OCEANCOLOUR_MED_OPTICS_L3_REP_OBSERVATIONS_009_095:dataset-oc-med-opt-multi-l3-aph443_1km_daily-rep-v02\"], [\"Mediterranean Sea Reprocessed Remote Sensing Reflectances and Attenuation Coefficient at 490nm from Multi Satellite observations\", \"EO:MO:DAT:OCEANCOLOUR_MED_OPTICS_L3_REP_OBSERVATIONS_009_095:dataset-oc-med-opt-multi-l3-adg443_1km_daily-rep-v02\"], [\"Mediterranean Sea Remote Sensing Reflectances and Attenuation Coefficient at 490nm from Multi Satellite and Sentinel-3 OLCI observations\", \"EO:MO:DAT:OCEANCOLOUR_MED_OPTICS_L3_NRT_OBSERVATIONS_009_038:dataset-oc-med-opt-olci-l3-rrs709_300m_daily-rt\"], [\"Mediterranean Sea Remote Sensing Reflectances and Attenuation Coefficient at 490nm from Multi Satellite and Sentinel-3 OLCI observations\", \"EO:MO:DAT:OCEANCOLOUR_MED_OPTICS_L3_NRT_OBSERVATIONS_009_038:dataset-oc-med-opt-olci-l3-rrs681_300m_daily-rt\"], [\"Mediterranean Sea Remote Sensing Reflectances and Attenuation Coefficient at 490nm from Multi Satellite and Sentinel-3 OLCI observations\", \"EO:MO:DAT:OCEANCOLOUR_MED_OPTICS_L3_NRT_OBSERVATIONS_009_038:dataset-oc-med-opt-olci-l3-rrs674_300m_daily-rt\"], [\"Mediterranean Sea Remote Sensing Reflectances and Attenuation Coefficient at 490nm from Multi Satellite and Sentinel-3 OLCI observations\", \"EO:MO:DAT:OCEANCOLOUR_MED_OPTICS_L3_NRT_OBSERVATIONS_009_038:dataset-oc-med-opt-olci-l3-rrs665_300m_daily-rt\"], [\"Mediterranean Sea Remote Sensing Reflectances and Attenuation Coefficient at 490nm from Multi Satellite and Sentinel-3 OLCI observations\", \"EO:MO:DAT:OCEANCOLOUR_MED_OPTICS_L3_NRT_OBSERVATIONS_009_038:dataset-oc-med-opt-olci-l3-rrs620_300m_daily-rt\"], [\"Mediterranean Sea Remote Sensing Reflectances and Attenuation Coefficient at 490nm from Multi Satellite and Sentinel-3 OLCI observations\", \"EO:MO:DAT:OCEANCOLOUR_MED_OPTICS_L3_NRT_OBSERVATIONS_009_038:dataset-oc-med-opt-olci-l3-rrs560_300m_daily-rt\"], [\"Mediterranean Sea Remote Sensing Reflectances and Attenuation Coefficient at 490nm from Multi Satellite and Sentinel-3 OLCI observations\", \"EO:MO:DAT:OCEANCOLOUR_MED_OPTICS_L3_NRT_OBSERVATIONS_009_038:dataset-oc-med-opt-olci-l3-rrs510_300m_daily-rt\"], [\"Mediterranean Sea Remote Sensing Reflectances and Attenuation Coefficient at 490nm from Multi Satellite and Sentinel-3 OLCI observations\", \"EO:MO:DAT:OCEANCOLOUR_MED_OPTICS_L3_NRT_OBSERVATIONS_009_038:dataset-oc-med-opt-olci-l3-rrs490_300m_daily-rt\"], [\"Mediterranean Sea Remote Sensing Reflectances and Attenuation Coefficient at 490nm from Multi Satellite and Sentinel-3 OLCI observations\", \"EO:MO:DAT:OCEANCOLOUR_MED_OPTICS_L3_NRT_OBSERVATIONS_009_038:dataset-oc-med-opt-olci-l3-rrs443_300m_daily-rt\"], [\"Mediterranean Sea Remote Sensing Reflectances and Attenuation Coefficient at 490nm from Multi Satellite and Sentinel-3 OLCI observations\", \"EO:MO:DAT:OCEANCOLOUR_MED_OPTICS_L3_NRT_OBSERVATIONS_009_038:dataset-oc-med-opt-olci-l3-rrs412_300m_daily-rt\"], [\"Mediterranean Sea Remote Sensing Reflectances and Attenuation Coefficient at 490nm from Multi Satellite and Sentinel-3 OLCI observations\", \"EO:MO:DAT:OCEANCOLOUR_MED_OPTICS_L3_NRT_OBSERVATIONS_009_038:dataset-oc-med-opt-olci-l3-rrs400_300m_daily-rt\"], [\"Mediterranean Sea Remote Sensing Reflectances and Attenuation Coefficient at 490nm from Multi Satellite and Sentinel-3 OLCI observations\", \"EO:MO:DAT:OCEANCOLOUR_MED_OPTICS_L3_NRT_OBSERVATIONS_009_038:dataset-oc-med-opt-olci-l3-kd490_300m_daily-rt\"], [\"Mediterranean Sea Remote Sensing Reflectances and Attenuation Coefficient at 490nm from Multi Satellite and Sentinel-3 OLCI observations\", \"EO:MO:DAT:OCEANCOLOUR_MED_OPTICS_L3_NRT_OBSERVATIONS_009_038:dataset-oc-med-opt-olci_a-l3-rrs709_1km_daily-rt-v02\"], [\"Mediterranean Sea Remote Sensing Reflectances and Attenuation Coefficient at 490nm from Multi Satellite and Sentinel-3 OLCI observations\", \"EO:MO:DAT:OCEANCOLOUR_MED_OPTICS_L3_NRT_OBSERVATIONS_009_038:dataset-oc-med-opt-olci_a-l3-rrs681_1km_daily-rt-v02\"], [\"Mediterranean Sea Remote Sensing Reflectances and Attenuation Coefficient at 490nm from Multi Satellite and Sentinel-3 OLCI observations\", \"EO:MO:DAT:OCEANCOLOUR_MED_OPTICS_L3_NRT_OBSERVATIONS_009_038:dataset-oc-med-opt-olci_a-l3-rrs674_1km_daily-rt-v02\"], [\"Mediterranean Sea Remote Sensing Reflectances and Attenuation Coefficient at 490nm from Multi Satellite and Sentinel-3 OLCI observations\", \"EO:MO:DAT:OCEANCOLOUR_MED_OPTICS_L3_NRT_OBSERVATIONS_009_038:dataset-oc-med-opt-olci_a-l3-rrs665_1km_daily-rt-v02\"], [\"Mediterranean Sea Remote Sensing Reflectances and Attenuation Coefficient at 490nm from Multi Satellite and Sentinel-3 OLCI observations\", \"EO:MO:DAT:OCEANCOLOUR_MED_OPTICS_L3_NRT_OBSERVATIONS_009_038:dataset-oc-med-opt-olci_a-l3-rrs620_1km_daily-rt-v02\"], [\"Mediterranean Sea Remote Sensing Reflectances and Attenuation Coefficient at 490nm from Multi Satellite and Sentinel-3 OLCI observations\", \"EO:MO:DAT:OCEANCOLOUR_MED_OPTICS_L3_NRT_OBSERVATIONS_009_038:dataset-oc-med-opt-olci_a-l3-rrs560_1km_daily-rt-v02\"], [\"Mediterranean Sea Remote Sensing Reflectances and Attenuation Coefficient at 490nm from Multi Satellite and Sentinel-3 OLCI observations\", \"EO:MO:DAT:OCEANCOLOUR_MED_OPTICS_L3_NRT_OBSERVATIONS_009_038:dataset-oc-med-opt-olci_a-l3-rrs510_1km_daily-rt-v02\"], [\"Mediterranean Sea Remote Sensing Reflectances and Attenuation Coefficient at 490nm from Multi Satellite and Sentinel-3 OLCI observations\", \"EO:MO:DAT:OCEANCOLOUR_MED_OPTICS_L3_NRT_OBSERVATIONS_009_038:dataset-oc-med-opt-olci_a-l3-rrs490_1km_daily-rt-v02\"], [\"Mediterranean Sea Remote Sensing Reflectances and Attenuation Coefficient at 490nm from Multi Satellite and Sentinel-3 OLCI observations\", \"EO:MO:DAT:OCEANCOLOUR_MED_OPTICS_L3_NRT_OBSERVATIONS_009_038:dataset-oc-med-opt-olci_a-l3-rrs443_1km_daily-rt-v02\"], [\"Mediterranean Sea Remote Sensing Reflectances and Attenuation Coefficient at 490nm from Multi Satellite and Sentinel-3 OLCI observations\", \"EO:MO:DAT:OCEANCOLOUR_MED_OPTICS_L3_NRT_OBSERVATIONS_009_038:dataset-oc-med-opt-olci_a-l3-rrs412_1km_daily-rt-v02\"], [\"Mediterranean Sea Remote Sensing Reflectances and Attenuation Coefficient at 490nm from Multi Satellite and Sentinel-3 OLCI observations\", \"EO:MO:DAT:OCEANCOLOUR_MED_OPTICS_L3_NRT_OBSERVATIONS_009_038:dataset-oc-med-opt-olci_a-l3-rrs400_1km_daily-rt-v02\"], [\"Mediterranean Sea Remote Sensing Reflectances and Attenuation Coefficient at 490nm from Multi Satellite and Sentinel-3 OLCI observations\", \"EO:MO:DAT:OCEANCOLOUR_MED_OPTICS_L3_NRT_OBSERVATIONS_009_038:dataset-oc-med-opt-olci_a-l3-kd490_1km_daily-rt-v02\"], [\"Mediterranean Sea Remote Sensing Reflectances and Attenuation Coefficient at 490nm from Multi Satellite and Sentinel-3 OLCI observations\", \"EO:MO:DAT:OCEANCOLOUR_MED_OPTICS_L3_NRT_OBSERVATIONS_009_038:dataset-oc-med-opt-multi-l3-rrs670_1km_daily-rt-v02\"], [\"Mediterranean Sea Remote Sensing Reflectances and Attenuation Coefficient at 490nm from Multi Satellite and Sentinel-3 OLCI observations\", \"EO:MO:DAT:OCEANCOLOUR_MED_OPTICS_L3_NRT_OBSERVATIONS_009_038:dataset-oc-med-opt-multi-l3-rrs555_1km_daily-rt-v02\"], [\"Mediterranean Sea Remote Sensing Reflectances and Attenuation Coefficient at 490nm from Multi Satellite and Sentinel-3 OLCI observations\", \"EO:MO:DAT:OCEANCOLOUR_MED_OPTICS_L3_NRT_OBSERVATIONS_009_038:dataset-oc-med-opt-multi-l3-rrs510_1km_daily-rt-v02\"], [\"Mediterranean Sea Remote Sensing Reflectances and Attenuation Coefficient at 490nm from Multi Satellite and Sentinel-3 OLCI observations\", \"EO:MO:DAT:OCEANCOLOUR_MED_OPTICS_L3_NRT_OBSERVATIONS_009_038:dataset-oc-med-opt-multi-l3-rrs490_1km_daily-rt-v02\"], [\"Mediterranean Sea Remote Sensing Reflectances and Attenuation Coefficient at 490nm from Multi Satellite and Sentinel-3 OLCI observations\", \"EO:MO:DAT:OCEANCOLOUR_MED_OPTICS_L3_NRT_OBSERVATIONS_009_038:dataset-oc-med-opt-multi-l3-rrs443_1km_daily-rt-v02\"], [\"Mediterranean Sea Remote Sensing Reflectances and Attenuation Coefficient at 490nm from Multi Satellite and Sentinel-3 OLCI observations\", \"EO:MO:DAT:OCEANCOLOUR_MED_OPTICS_L3_NRT_OBSERVATIONS_009_038:dataset-oc-med-opt-multi-l3-rrs412_1km_daily-rt-v02\"], [\"Mediterranean Sea Remote Sensing Reflectances and Attenuation Coefficient at 490nm from Multi Satellite and Sentinel-3 OLCI observations\", \"EO:MO:DAT:OCEANCOLOUR_MED_OPTICS_L3_NRT_OBSERVATIONS_009_038:dataset-oc-med-opt-multi-l3-kd490_1km_daily-rt-v02\"], [\"Mediterranean Sea Remote Sensing Reflectances and Attenuation Coefficient at 490nm from Multi Satellite and Sentinel-3 OLCI observations\", \"EO:MO:DAT:OCEANCOLOUR_MED_OPTICS_L3_NRT_OBSERVATIONS_009_038:dataset-oc-med-opt-multi-l3-bbp443_1km_daily-rt-v02\"], [\"Mediterranean Sea Remote Sensing Reflectances and Attenuation Coefficient at 490nm from Multi Satellite and Sentinel-3 OLCI observations\", \"EO:MO:DAT:OCEANCOLOUR_MED_OPTICS_L3_NRT_OBSERVATIONS_009_038:dataset-oc-med-opt-multi-l3-aph443_1km_daily-rt-v02\"], [\"Mediterranean Sea Remote Sensing Reflectances and Attenuation Coefficient at 490nm from Multi Satellite and Sentinel-3 OLCI observations\", \"EO:MO:DAT:OCEANCOLOUR_MED_OPTICS_L3_NRT_OBSERVATIONS_009_038:dataset-oc-med-opt-multi-l3-adg443_1km_daily-rt-v02\"], [\"Mediterranean Sea Monthly and Daily Reprocessed Surface Chlorophyll Concentration from Multi Satellite observations + SeaWiFS daily climatology\", \"EO:MO:DAT:OCEANCOLOUR_MED_CHL_L4_REP_OBSERVATIONS_009_078:dataset-oc-med-chl-multi-l4-interp_1km_daily-rep\"], [\"Mediterranean Sea Monthly and Daily Reprocessed Surface Chlorophyll Concentration from Multi Satellite observations + SeaWiFS daily climatology\", \"EO:MO:DAT:OCEANCOLOUR_MED_CHL_L4_REP_OBSERVATIONS_009_078:dataset-oc-med-chl-multi-l4-chl_1km_monthly-rep-v02\"], [\"Mediterranean Sea Monthly and Daily Interpolated Surface Chlorophyll Concentration from Multi Satellite and Sentinel-3 OLCI observations\", \"EO:MO:DAT:OCEANCOLOUR_MED_CHL_L4_NRT_OBSERVATIONS_009_041:dataset-oc-med-chl-olci-l4-chl_300m_monthly-rt\"], [\"Mediterranean Sea Monthly and Daily Interpolated Surface Chlorophyll Concentration from Multi Satellite and Sentinel-3 OLCI observations\", \"EO:MO:DAT:OCEANCOLOUR_MED_CHL_L4_NRT_OBSERVATIONS_009_041:dataset-oc-med-chl-olci_a-l4-chl_1km_monthly-rt-v02\"], [\"Mediterranean Sea Monthly and Daily Interpolated Surface Chlorophyll Concentration from Multi Satellite and Sentinel-3 OLCI observations\", \"EO:MO:DAT:OCEANCOLOUR_MED_CHL_L4_NRT_OBSERVATIONS_009_041:dataset-oc-med-chl-multi-l4-interp_1km_daily-rt-v02\"], [\"Mediterranean Sea Monthly and Daily Interpolated Surface Chlorophyll Concentration from Multi Satellite and Sentinel-3 OLCI observations\", \"EO:MO:DAT:OCEANCOLOUR_MED_CHL_L4_NRT_OBSERVATIONS_009_041:dataset-oc-med-chl-multi-l4-chl_1km_monthly-rt-v02\"], [\"Mediterranean Sea Reprocessed Surface Chlorophyll Concentration and Phytoplankton Functional Types from Multi Satellite observations\", \"EO:MO:DAT:OCEANCOLOUR_MED_CHL_L3_REP_OBSERVATIONS_009_073:dataset-oc-med-pft-multi-l3-pft_1km_daily-rep-v02\"], [\"Mediterranean Sea Reprocessed Surface Chlorophyll Concentration and Phytoplankton Functional Types from Multi Satellite observations\", \"EO:MO:DAT:OCEANCOLOUR_MED_CHL_L3_REP_OBSERVATIONS_009_073:dataset-oc-med-chl-multi-l3-chl_1km_daily-rep-v02\"], [\"Mediterranean Sea Surface Chlorophyll Concentration from Multi Satellite and Sentinel-3 OLCI observations\", \"EO:MO:DAT:OCEANCOLOUR_MED_CHL_L3_NRT_OBSERVATIONS_009_040:dataset-oc-med-chl-olci-l3-chl_300m_daily-rt\"], [\"Mediterranean Sea Surface Chlorophyll Concentration from Multi Satellite and Sentinel-3 OLCI observations\", \"EO:MO:DAT:OCEANCOLOUR_MED_CHL_L3_NRT_OBSERVATIONS_009_040:dataset-oc-med-chl-olci_a-l3-chl_1km_daily-rt-v02\"], [\"Mediterranean Sea Surface Chlorophyll Concentration from Multi Satellite and Sentinel-3 OLCI observations\", \"EO:MO:DAT:OCEANCOLOUR_MED_CHL_L3_NRT_OBSERVATIONS_009_040:dataset-oc-med-chl-multi-l3-chl_1km_daily-rt-v02\"], [\"Mediterranean Sea, Bio-Geo-Chemical, L4, monthly means and interpolated daily observation\", \"EO:MO:DAT:OCEANCOLOUR_MED_BGC_HR_L4_NRT_009_211:cmems_obs_oc_med_bgc_transp_nrt_l4-hr_P1M-m\"], [\"Mediterranean Sea, Bio-Geo-Chemical, L4, monthly means and interpolated daily observation\", \"EO:MO:DAT:OCEANCOLOUR_MED_BGC_HR_L4_NRT_009_211:cmems_obs_oc_med_bgc_transp_nrt_l4-hr_P1D-m\"], [\"Mediterranean Sea, Bio-Geo-Chemical, L4, monthly means and interpolated daily observation\", \"EO:MO:DAT:OCEANCOLOUR_MED_BGC_HR_L4_NRT_009_211:cmems_obs_oc_med_bgc_optics_nrt_l4-hr_P1M-m\"], [\"Mediterranean Sea, Bio-Geo-Chemical, L4, monthly means and interpolated daily observation\", \"EO:MO:DAT:OCEANCOLOUR_MED_BGC_HR_L4_NRT_009_211:cmems_obs_oc_med_bgc_optics_nrt_l4-hr_P1D-m\"], [\"Mediterranean Sea, Bio-Geo-Chemical, L4, monthly means and interpolated daily observation\", \"EO:MO:DAT:OCEANCOLOUR_MED_BGC_HR_L4_NRT_009_211:cmems_obs_oc_med_bgc_geophy_nrt_l4-hr_P1M-m\"], [\"Mediterranean Sea, Bio-Geo-Chemical, L4, monthly means and interpolated daily observation\", \"EO:MO:DAT:OCEANCOLOUR_MED_BGC_HR_L4_NRT_009_211:cmems_obs_oc_med_bgc_geophy_nrt_l4-hr_P1D-m\"], [\"Mediterranean Sea, Bio-Geo-Chemical, L3, daily observation\", \"EO:MO:DAT:OCEANCOLOUR_MED_BGC_HR_L3_NRT_009_205:cmems_obs_oc_med_bgc_transp_nrt_l3-hr_P1D-m\"], [\"Mediterranean Sea, Bio-Geo-Chemical, L3, daily observation\", \"EO:MO:DAT:OCEANCOLOUR_MED_BGC_HR_L3_NRT_009_205:cmems_obs_oc_med_bgc_optics_nrt_l3-hr_P1D-m\"], [\"Mediterranean Sea, Bio-Geo-Chemical, L3, daily observation\", \"EO:MO:DAT:OCEANCOLOUR_MED_BGC_HR_L3_NRT_009_205:cmems_obs_oc_med_bgc_geophy_nrt_l3-hr_P1D-m\"], [\"Iberic Sea, Bio-Geo-Chemical, L4, monthly means and interpolated daily observation\", \"EO:MO:DAT:OCEANCOLOUR_IBI_BGC_HR_L4_NRT_009_210:cmems_obs_oc_ibi_bgc_transp_nrt_l4-hr_P1M-m\"], [\"Iberic Sea, Bio-Geo-Chemical, L4, monthly means and interpolated daily observation\", \"EO:MO:DAT:OCEANCOLOUR_IBI_BGC_HR_L4_NRT_009_210:cmems_obs_oc_ibi_bgc_transp_nrt_l4-hr_P1D-m\"], [\"Iberic Sea, Bio-Geo-Chemical, L4, monthly means and interpolated daily observation\", \"EO:MO:DAT:OCEANCOLOUR_IBI_BGC_HR_L4_NRT_009_210:cmems_obs_oc_ibi_bgc_optics_nrt_l4-hr_P1M-m\"], [\"Iberic Sea, Bio-Geo-Chemical, L4, monthly means and interpolated daily observation\", \"EO:MO:DAT:OCEANCOLOUR_IBI_BGC_HR_L4_NRT_009_210:cmems_obs_oc_ibi_bgc_optics_nrt_l4-hr_P1D-m\"], [\"Iberic Sea, Bio-Geo-Chemical, L4, monthly means and interpolated daily observation\", \"EO:MO:DAT:OCEANCOLOUR_IBI_BGC_HR_L4_NRT_009_210:cmems_obs_oc_ibi_bgc_geophy_nrt_l4-hr_P1M-m\"], [\"Iberic Sea, Bio-Geo-Chemical, L4, monthly means and interpolated daily observation\", \"EO:MO:DAT:OCEANCOLOUR_IBI_BGC_HR_L4_NRT_009_210:cmems_obs_oc_ibi_bgc_geophy_nrt_l4-hr_P1D-m\"], [\"Iberic Sea, Bio-Geo-Chemical, L3, daily observation\", \"EO:MO:DAT:OCEANCOLOUR_IBI_BGC_HR_L3_NRT_009_204:cmems_obs_oc_ibi_bgc_transp_nrt_l3-hr_P1D-m\"], [\"Iberic Sea, Bio-Geo-Chemical, L3, daily observation\", \"EO:MO:DAT:OCEANCOLOUR_IBI_BGC_HR_L3_NRT_009_204:cmems_obs_oc_ibi_bgc_geophy_nrt_l3-hr_P1D-m\"], [\"Global Ocean NRRS, BBP, CDM, KD, ZSD, SPM (Copernicus-GlobColour) from Satellite Observations: Monthly and Daily-Interpolated (Reprocessed from 1997)\", \"EO:MO:DAT:OCEANCOLOUR_GLO_OPTICS_L4_REP_OBSERVATIONS_009_081:dataset-oc-glo-opt-multi-l4-zsd_interpolated_4km_daily-rep\"], [\"Global Ocean NRRS, BBP, CDM, KD, ZSD, SPM (Copernicus-GlobColour) from Satellite Observations: Monthly and Daily-Interpolated (Reprocessed from 1997)\", \"EO:MO:DAT:OCEANCOLOUR_GLO_OPTICS_L4_REP_OBSERVATIONS_009_081:dataset-oc-glo-opt-multi-l4-zsd_4km_monthly-rep-v02\"], [\"Global Ocean NRRS, BBP, CDM, KD, ZSD, SPM (Copernicus-GlobColour) from Satellite Observations: Monthly and Daily-Interpolated (Reprocessed from 1997)\", \"EO:MO:DAT:OCEANCOLOUR_GLO_OPTICS_L4_REP_OBSERVATIONS_009_081:dataset-oc-glo-opt-multi-l4-spm_4km_monthly-rep-v02\"], [\"Global Ocean NRRS, BBP, CDM, KD, ZSD, SPM (Copernicus-GlobColour) from Satellite Observations: Monthly and Daily-Interpolated (Reprocessed from 1997)\", \"EO:MO:DAT:OCEANCOLOUR_GLO_OPTICS_L4_REP_OBSERVATIONS_009_081:dataset-oc-glo-opt-multi-l4-rrs670_4km_monthly-rep-v02\"], [\"Global Ocean NRRS, BBP, CDM, KD, ZSD, SPM (Copernicus-GlobColour) from Satellite Observations: Monthly and Daily-Interpolated (Reprocessed from 1997)\", \"EO:MO:DAT:OCEANCOLOUR_GLO_OPTICS_L4_REP_OBSERVATIONS_009_081:dataset-oc-glo-opt-multi-l4-rrs555_4km_monthly-rep-v02\"], [\"Global Ocean NRRS, BBP, CDM, KD, ZSD, SPM (Copernicus-GlobColour) from Satellite Observations: Monthly and Daily-Interpolated (Reprocessed from 1997)\", \"EO:MO:DAT:OCEANCOLOUR_GLO_OPTICS_L4_REP_OBSERVATIONS_009_081:dataset-oc-glo-opt-multi-l4-rrs490_4km_monthly-rep-v02\"], [\"Global Ocean NRRS, BBP, CDM, KD, ZSD, SPM (Copernicus-GlobColour) from Satellite Observations: Monthly and Daily-Interpolated (Reprocessed from 1997)\", \"EO:MO:DAT:OCEANCOLOUR_GLO_OPTICS_L4_REP_OBSERVATIONS_009_081:dataset-oc-glo-opt-multi-l4-rrs443_4km_monthly-rep-v02\"], [\"Global Ocean NRRS, BBP, CDM, KD, ZSD, SPM (Copernicus-GlobColour) from Satellite Observations: Monthly and Daily-Interpolated (Reprocessed from 1997)\", \"EO:MO:DAT:OCEANCOLOUR_GLO_OPTICS_L4_REP_OBSERVATIONS_009_081:dataset-oc-glo-opt-multi-l4-rrs412_4km_monthly-rep-v02\"], [\"Global Ocean NRRS, BBP, CDM, KD, ZSD, SPM (Copernicus-GlobColour) from Satellite Observations: Monthly and Daily-Interpolated (Reprocessed from 1997)\", \"EO:MO:DAT:OCEANCOLOUR_GLO_OPTICS_L4_REP_OBSERVATIONS_009_081:dataset-oc-glo-opt-multi-l4-kd490_interpolated_4km_daily-rep\"], [\"Global Ocean NRRS, BBP, CDM, KD, ZSD, SPM (Copernicus-GlobColour) from Satellite Observations: Monthly and Daily-Interpolated (Reprocessed from 1997)\", \"EO:MO:DAT:OCEANCOLOUR_GLO_OPTICS_L4_REP_OBSERVATIONS_009_081:dataset-oc-glo-opt-multi-l4-kd490_4km_monthly-rep-v02\"], [\"Global Ocean NRRS, BBP, CDM, KD, ZSD, SPM (Copernicus-GlobColour) from Satellite Observations: Monthly and Daily-Interpolated (Reprocessed from 1997)\", \"EO:MO:DAT:OCEANCOLOUR_GLO_OPTICS_L4_REP_OBSERVATIONS_009_081:dataset-oc-glo-opt-multi-l4-cdm443_4km_monthly-rep-v02\"], [\"Global Ocean NRRS, BBP, CDM, KD, ZSD, SPM (Copernicus-GlobColour) from Satellite Observations: Monthly and Daily-Interpolated (Reprocessed from 1997)\", \"EO:MO:DAT:OCEANCOLOUR_GLO_OPTICS_L4_REP_OBSERVATIONS_009_081:dataset-oc-glo-opt-multi-l4-bbp443_4km_monthly-rep-v02\"], [\"Global Ocean NRRS, BBP, CDM, KD, ZSD, SPM (Copernicus-GlobColour) from Satellite Observations: Monthly and Daily Interpolated (Reprocessed from 1997)\", \"EO:MO:DAT:OCEANCOLOUR_GLO_OPTICS_L4_NRT_OBSERVATIONS_009_083:dataset-oc-glo-opt-olci_a-l4-rrs709_4km_monthly-rt-v02\"], [\"Global Ocean NRRS, BBP, CDM, KD, ZSD, SPM (Copernicus-GlobColour) from Satellite Observations: Monthly and Daily Interpolated (Reprocessed from 1997)\", \"EO:MO:DAT:OCEANCOLOUR_GLO_OPTICS_L4_NRT_OBSERVATIONS_009_083:dataset-oc-glo-opt-olci_a-l4-rrs681_4km_monthly-rt-v02\"], [\"Global Ocean NRRS, BBP, CDM, KD, ZSD, SPM (Copernicus-GlobColour) from Satellite Observations: Monthly and Daily Interpolated (Reprocessed from 1997)\", \"EO:MO:DAT:OCEANCOLOUR_GLO_OPTICS_L4_NRT_OBSERVATIONS_009_083:dataset-oc-glo-opt-olci_a-l4-rrs674_4km_monthly-rt-v02\"], [\"Global Ocean NRRS, BBP, CDM, KD, ZSD, SPM (Copernicus-GlobColour) from Satellite Observations: Monthly and Daily Interpolated (Reprocessed from 1997)\", \"EO:MO:DAT:OCEANCOLOUR_GLO_OPTICS_L4_NRT_OBSERVATIONS_009_083:dataset-oc-glo-opt-olci_a-l4-rrs665_4km_monthly-rt-v02\"], [\"Global Ocean NRRS, BBP, CDM, KD, ZSD, SPM (Copernicus-GlobColour) from Satellite Observations: Monthly and Daily Interpolated (Reprocessed from 1997)\", \"EO:MO:DAT:OCEANCOLOUR_GLO_OPTICS_L4_NRT_OBSERVATIONS_009_083:dataset-oc-glo-opt-olci_a-l4-rrs620_4km_monthly-rt-v02\"], [\"Global Ocean NRRS, BBP, CDM, KD, ZSD, SPM (Copernicus-GlobColour) from Satellite Observations: Monthly and Daily Interpolated (Reprocessed from 1997)\", \"EO:MO:DAT:OCEANCOLOUR_GLO_OPTICS_L4_NRT_OBSERVATIONS_009_083:dataset-oc-glo-opt-olci_a-l4-rrs560_4km_monthly-rt-v02\"], [\"Global Ocean NRRS, BBP, CDM, KD, ZSD, SPM (Copernicus-GlobColour) from Satellite Observations: Monthly and Daily Interpolated (Reprocessed from 1997)\", \"EO:MO:DAT:OCEANCOLOUR_GLO_OPTICS_L4_NRT_OBSERVATIONS_009_083:dataset-oc-glo-opt-olci_a-l4-rrs510_4km_monthly-rt-v02\"], [\"Global Ocean NRRS, BBP, CDM, KD, ZSD, SPM (Copernicus-GlobColour) from Satellite Observations: Monthly and Daily Interpolated (Reprocessed from 1997)\", \"EO:MO:DAT:OCEANCOLOUR_GLO_OPTICS_L4_NRT_OBSERVATIONS_009_083:dataset-oc-glo-opt-olci_a-l4-rrs490_4km_monthly-rt-v02\"], [\"Global Ocean NRRS, BBP, CDM, KD, ZSD, SPM (Copernicus-GlobColour) from Satellite Observations: Monthly and Daily Interpolated (Reprocessed from 1997)\", \"EO:MO:DAT:OCEANCOLOUR_GLO_OPTICS_L4_NRT_OBSERVATIONS_009_083:dataset-oc-glo-opt-olci_a-l4-rrs443_4km_monthly-rt-v02\"], [\"Global Ocean NRRS, BBP, CDM, KD, ZSD, SPM (Copernicus-GlobColour) from Satellite Observations: Monthly and Daily Interpolated (Reprocessed from 1997)\", \"EO:MO:DAT:OCEANCOLOUR_GLO_OPTICS_L4_NRT_OBSERVATIONS_009_083:dataset-oc-glo-opt-olci_a-l4-rrs412_4km_monthly-rt-v02\"], [\"Global Ocean NRRS, BBP, CDM, KD, ZSD, SPM (Copernicus-GlobColour) from Satellite Observations: Monthly and Daily Interpolated (Reprocessed from 1997)\", \"EO:MO:DAT:OCEANCOLOUR_GLO_OPTICS_L4_NRT_OBSERVATIONS_009_083:dataset-oc-glo-opt-olci_a-l4-rrs400_4km_monthly-rt-v02\"], [\"Global Ocean NRRS, BBP, CDM, KD, ZSD, SPM (Copernicus-GlobColour) from Satellite Observations: Monthly and Daily Interpolated (Reprocessed from 1997)\", \"EO:MO:DAT:OCEANCOLOUR_GLO_OPTICS_L4_NRT_OBSERVATIONS_009_083:dataset-oc-glo-opt-olci_a-l4-kd490_4km_monthly-rt-v02\"], [\"Global Ocean NRRS, BBP, CDM, KD, ZSD, SPM (Copernicus-GlobColour) from Satellite Observations: Monthly and Daily Interpolated (Reprocessed from 1997)\", \"EO:MO:DAT:OCEANCOLOUR_GLO_OPTICS_L4_NRT_OBSERVATIONS_009_083:dataset-oc-glo-opt-multi-l4-zsd_interpolated_4km_daily-rt\"], [\"Global Ocean NRRS, BBP, CDM, KD, ZSD, SPM (Copernicus-GlobColour) from Satellite Observations: Monthly and Daily Interpolated (Reprocessed from 1997)\", \"EO:MO:DAT:OCEANCOLOUR_GLO_OPTICS_L4_NRT_OBSERVATIONS_009_083:dataset-oc-glo-opt-multi-l4-zsd_4km_monthly-rt-v02\"], [\"Global Ocean NRRS, BBP, CDM, KD, ZSD, SPM (Copernicus-GlobColour) from Satellite Observations: Monthly and Daily Interpolated (Reprocessed from 1997)\", \"EO:MO:DAT:OCEANCOLOUR_GLO_OPTICS_L4_NRT_OBSERVATIONS_009_083:dataset-oc-glo-opt-multi-l4-spm_4km_monthly-rt-v02\"], [\"Global Ocean NRRS, BBP, CDM, KD, ZSD, SPM (Copernicus-GlobColour) from Satellite Observations: Monthly and Daily Interpolated (Reprocessed from 1997)\", \"EO:MO:DAT:OCEANCOLOUR_GLO_OPTICS_L4_NRT_OBSERVATIONS_009_083:dataset-oc-glo-opt-multi-l4-rrs670_4km_monthly-rt-v02\"], [\"Global Ocean NRRS, BBP, CDM, KD, ZSD, SPM (Copernicus-GlobColour) from Satellite Observations: Monthly and Daily Interpolated (Reprocessed from 1997)\", \"EO:MO:DAT:OCEANCOLOUR_GLO_OPTICS_L4_NRT_OBSERVATIONS_009_083:dataset-oc-glo-opt-multi-l4-rrs555_4km_monthly-rt-v02\"], [\"Global Ocean NRRS, BBP, CDM, KD, ZSD, SPM (Copernicus-GlobColour) from Satellite Observations: Monthly and Daily Interpolated (Reprocessed from 1997)\", \"EO:MO:DAT:OCEANCOLOUR_GLO_OPTICS_L4_NRT_OBSERVATIONS_009_083:dataset-oc-glo-opt-multi-l4-rrs490_4km_monthly-rt-v02\"], [\"Global Ocean NRRS, BBP, CDM, KD, ZSD, SPM (Copernicus-GlobColour) from Satellite Observations: Monthly and Daily Interpolated (Reprocessed from 1997)\", \"EO:MO:DAT:OCEANCOLOUR_GLO_OPTICS_L4_NRT_OBSERVATIONS_009_083:dataset-oc-glo-opt-multi-l4-rrs443_4km_monthly-rt-v02\"], [\"Global Ocean NRRS, BBP, CDM, KD, ZSD, SPM (Copernicus-GlobColour) from Satellite Observations: Monthly and Daily Interpolated (Reprocessed from 1997)\", \"EO:MO:DAT:OCEANCOLOUR_GLO_OPTICS_L4_NRT_OBSERVATIONS_009_083:dataset-oc-glo-opt-multi-l4-rrs412_4km_monthly-rt-v02\"], [\"Global Ocean NRRS, BBP, CDM, KD, ZSD, SPM (Copernicus-GlobColour) from Satellite Observations: Monthly and Daily Interpolated (Reprocessed from 1997)\", \"EO:MO:DAT:OCEANCOLOUR_GLO_OPTICS_L4_NRT_OBSERVATIONS_009_083:dataset-oc-glo-opt-multi-l4-kd490_interpolated_4km_daily-rt\"], [\"Global Ocean NRRS, BBP, CDM, KD, ZSD, SPM (Copernicus-GlobColour) from Satellite Observations: Monthly and Daily Interpolated (Reprocessed from 1997)\", \"EO:MO:DAT:OCEANCOLOUR_GLO_OPTICS_L4_NRT_OBSERVATIONS_009_083:dataset-oc-glo-opt-multi-l4-kd490_4km_monthly-rt-v02\"], [\"Global Ocean NRRS, BBP, CDM, KD, ZSD, SPM (Copernicus-GlobColour) from Satellite Observations: Monthly and Daily Interpolated (Reprocessed from 1997)\", \"EO:MO:DAT:OCEANCOLOUR_GLO_OPTICS_L4_NRT_OBSERVATIONS_009_083:dataset-oc-glo-opt-multi-l4-cdm443_4km_monthly-rt-v02\"], [\"Global Ocean NRRS, BBP, CDM, KD, ZSD, SPM (Copernicus-GlobColour) from Satellite Observations: Monthly and Daily Interpolated (Reprocessed from 1997)\", \"EO:MO:DAT:OCEANCOLOUR_GLO_OPTICS_L4_NRT_OBSERVATIONS_009_083:dataset-oc-glo-opt-multi-l4-bbp443_4km_monthly-rt-v02\"], [\"Global Ocean NRRS, BBP, CDM, KD, ZSD, SPM (Copernicus-GlobColour) from Satellite Observations: Daily (Reprocessed from 1997)\", \"EO:MO:DAT:OCEANCOLOUR_GLO_OPTICS_L3_REP_OBSERVATIONS_009_086:dataset-oc-glo-opt-multi-l3-zsd_4km_daily-rep-v02\"], [\"Global Ocean NRRS, BBP, CDM, KD, ZSD, SPM (Copernicus-GlobColour) from Satellite Observations: Daily (Reprocessed from 1997)\", \"EO:MO:DAT:OCEANCOLOUR_GLO_OPTICS_L3_REP_OBSERVATIONS_009_086:dataset-oc-glo-opt-multi-l3-spm_4km_daily-rep-v02\"], [\"Global Ocean NRRS, BBP, CDM, KD, ZSD, SPM (Copernicus-GlobColour) from Satellite Observations: Daily (Reprocessed from 1997)\", \"EO:MO:DAT:OCEANCOLOUR_GLO_OPTICS_L3_REP_OBSERVATIONS_009_086:dataset-oc-glo-opt-multi-l3-rrs670_4km_daily-rep-v02\"], [\"Global Ocean NRRS, BBP, CDM, KD, ZSD, SPM (Copernicus-GlobColour) from Satellite Observations: Daily (Reprocessed from 1997)\", \"EO:MO:DAT:OCEANCOLOUR_GLO_OPTICS_L3_REP_OBSERVATIONS_009_086:dataset-oc-glo-opt-multi-l3-rrs555_4km_daily-rep-v02\"], [\"Global Ocean NRRS, BBP, CDM, KD, ZSD, SPM (Copernicus-GlobColour) from Satellite Observations: Daily (Reprocessed from 1997)\", \"EO:MO:DAT:OCEANCOLOUR_GLO_OPTICS_L3_REP_OBSERVATIONS_009_086:dataset-oc-glo-opt-multi-l3-rrs490_4km_daily-rep-v02\"], [\"Global Ocean NRRS, BBP, CDM, KD, ZSD, SPM (Copernicus-GlobColour) from Satellite Observations: Daily (Reprocessed from 1997)\", \"EO:MO:DAT:OCEANCOLOUR_GLO_OPTICS_L3_REP_OBSERVATIONS_009_086:dataset-oc-glo-opt-multi-l3-rrs443_4km_daily-rep-v02\"], [\"Global Ocean NRRS, BBP, CDM, KD, ZSD, SPM (Copernicus-GlobColour) from Satellite Observations: Daily (Reprocessed from 1997)\", \"EO:MO:DAT:OCEANCOLOUR_GLO_OPTICS_L3_REP_OBSERVATIONS_009_086:dataset-oc-glo-opt-multi-l3-rrs412_4km_daily-rep-v02\"], [\"Global Ocean NRRS, BBP, CDM, KD, ZSD, SPM (Copernicus-GlobColour) from Satellite Observations: Daily (Reprocessed from 1997)\", \"EO:MO:DAT:OCEANCOLOUR_GLO_OPTICS_L3_REP_OBSERVATIONS_009_086:dataset-oc-glo-opt-multi-l3-kd490_4km_daily-rep-v02\"], [\"Global Ocean NRRS, BBP, CDM, KD, ZSD, SPM (Copernicus-GlobColour) from Satellite Observations: Daily (Reprocessed from 1997)\", \"EO:MO:DAT:OCEANCOLOUR_GLO_OPTICS_L3_REP_OBSERVATIONS_009_086:dataset-oc-glo-opt-multi-l3-cdm443_4km_daily-rep-v02\"], [\"Global Ocean NRRS, BBP, CDM, KD, ZSD, SPM (Copernicus-GlobColour) from Satellite Observations: Daily (Reprocessed from 1997)\", \"EO:MO:DAT:OCEANCOLOUR_GLO_OPTICS_L3_REP_OBSERVATIONS_009_086:dataset-oc-glo-opt-multi-l3-bbp443_4km_daily-rep-v02\"], [\"Global Ocean, Ocean Optics Products (daily average) Reprocessed L3 (ESA-CCI)\", \"EO:MO:DAT:OCEANCOLOUR_GLO_OPTICS_L3_REP_OBSERVATIONS_009_064:dataset-oc-glo-opt-multi_cci-l3-rrs665_4km_daily-rep-v02\"], [\"Global Ocean, Ocean Optics Products (daily average) Reprocessed L3 (ESA-CCI)\", \"EO:MO:DAT:OCEANCOLOUR_GLO_OPTICS_L3_REP_OBSERVATIONS_009_064:dataset-oc-glo-opt-multi_cci-l3-rrs560_4km_daily-rep-v02\"], [\"Global Ocean, Ocean Optics Products (daily average) Reprocessed L3 (ESA-CCI)\", \"EO:MO:DAT:OCEANCOLOUR_GLO_OPTICS_L3_REP_OBSERVATIONS_009_064:dataset-oc-glo-opt-multi_cci-l3-rrs510_4km_daily-rep-v02\"], [\"Global Ocean, Ocean Optics Products (daily average) Reprocessed L3 (ESA-CCI)\", \"EO:MO:DAT:OCEANCOLOUR_GLO_OPTICS_L3_REP_OBSERVATIONS_009_064:dataset-oc-glo-opt-multi_cci-l3-rrs490_4km_daily-rep-v02\"], [\"Global Ocean, Ocean Optics Products (daily average) Reprocessed L3 (ESA-CCI)\", \"EO:MO:DAT:OCEANCOLOUR_GLO_OPTICS_L3_REP_OBSERVATIONS_009_064:dataset-oc-glo-opt-multi_cci-l3-rrs443_4km_daily-rep-v02\"], [\"Global Ocean, Ocean Optics Products (daily average) Reprocessed L3 (ESA-CCI)\", \"EO:MO:DAT:OCEANCOLOUR_GLO_OPTICS_L3_REP_OBSERVATIONS_009_064:dataset-oc-glo-opt-multi_cci-l3-rrs412_4km_daily-rep-v02\"], [\"Global Ocean NRRS, BBP, CDM, KD, ZSD, SPM (Copernicus-GlobColour) from Satellite Observations: Daily (Near Real Time)\", \"EO:MO:DAT:OCEANCOLOUR_GLO_OPTICS_L3_NRT_OBSERVATIONS_009_030:dataset-oc-glo-opt-olci_a-l3-rrs709_4km_daily-rt-v02\"], [\"Global Ocean NRRS, BBP, CDM, KD, ZSD, SPM (Copernicus-GlobColour) from Satellite Observations: Daily (Near Real Time)\", \"EO:MO:DAT:OCEANCOLOUR_GLO_OPTICS_L3_NRT_OBSERVATIONS_009_030:dataset-oc-glo-opt-olci_a-l3-rrs681_4km_daily-rt-v02\"], [\"Global Ocean NRRS, BBP, CDM, KD, ZSD, SPM (Copernicus-GlobColour) from Satellite Observations: Daily (Near Real Time)\", \"EO:MO:DAT:OCEANCOLOUR_GLO_OPTICS_L3_NRT_OBSERVATIONS_009_030:dataset-oc-glo-opt-olci_a-l3-rrs674_4km_daily-rt-v02\"], [\"Global Ocean NRRS, BBP, CDM, KD, ZSD, SPM (Copernicus-GlobColour) from Satellite Observations: Daily (Near Real Time)\", \"EO:MO:DAT:OCEANCOLOUR_GLO_OPTICS_L3_NRT_OBSERVATIONS_009_030:dataset-oc-glo-opt-olci_a-l3-rrs665_4km_daily-rt-v02\"], [\"Global Ocean NRRS, BBP, CDM, KD, ZSD, SPM (Copernicus-GlobColour) from Satellite Observations: Daily (Near Real Time)\", \"EO:MO:DAT:OCEANCOLOUR_GLO_OPTICS_L3_NRT_OBSERVATIONS_009_030:dataset-oc-glo-opt-olci_a-l3-rrs620_4km_daily-rt-v02\"], [\"Global Ocean NRRS, BBP, CDM, KD, ZSD, SPM (Copernicus-GlobColour) from Satellite Observations: Daily (Near Real Time)\", \"EO:MO:DAT:OCEANCOLOUR_GLO_OPTICS_L3_NRT_OBSERVATIONS_009_030:dataset-oc-glo-opt-olci_a-l3-rrs560_4km_daily-rt-v02\"], [\"Global Ocean NRRS, BBP, CDM, KD, ZSD, SPM (Copernicus-GlobColour) from Satellite Observations: Daily (Near Real Time)\", \"EO:MO:DAT:OCEANCOLOUR_GLO_OPTICS_L3_NRT_OBSERVATIONS_009_030:dataset-oc-glo-opt-olci_a-l3-rrs510_4km_daily-rt-v02\"], [\"Global Ocean NRRS, BBP, CDM, KD, ZSD, SPM (Copernicus-GlobColour) from Satellite Observations: Daily (Near Real Time)\", \"EO:MO:DAT:OCEANCOLOUR_GLO_OPTICS_L3_NRT_OBSERVATIONS_009_030:dataset-oc-glo-opt-olci_a-l3-rrs490_4km_daily-rt-v02\"], [\"Global Ocean NRRS, BBP, CDM, KD, ZSD, SPM (Copernicus-GlobColour) from Satellite Observations: Daily (Near Real Time)\", \"EO:MO:DAT:OCEANCOLOUR_GLO_OPTICS_L3_NRT_OBSERVATIONS_009_030:dataset-oc-glo-opt-olci_a-l3-rrs443_4km_daily-rt-v02\"], [\"Global Ocean NRRS, BBP, CDM, KD, ZSD, SPM (Copernicus-GlobColour) from Satellite Observations: Daily (Near Real Time)\", \"EO:MO:DAT:OCEANCOLOUR_GLO_OPTICS_L3_NRT_OBSERVATIONS_009_030:dataset-oc-glo-opt-olci_a-l3-rrs412_4km_daily-rt-v02\"], [\"Global Ocean NRRS, BBP, CDM, KD, ZSD, SPM (Copernicus-GlobColour) from Satellite Observations: Daily (Near Real Time)\", \"EO:MO:DAT:OCEANCOLOUR_GLO_OPTICS_L3_NRT_OBSERVATIONS_009_030:dataset-oc-glo-opt-olci_a-l3-rrs400_4km_daily-rt-v02\"], [\"Global Ocean NRRS, BBP, CDM, KD, ZSD, SPM (Copernicus-GlobColour) from Satellite Observations: Daily (Near Real Time)\", \"EO:MO:DAT:OCEANCOLOUR_GLO_OPTICS_L3_NRT_OBSERVATIONS_009_030:dataset-oc-glo-opt-olci_a-l3-kd490_4km_daily-rt-v02\"], [\"Global Ocean NRRS, BBP, CDM, KD, ZSD, SPM (Copernicus-GlobColour) from Satellite Observations: Daily (Near Real Time)\", \"EO:MO:DAT:OCEANCOLOUR_GLO_OPTICS_L3_NRT_OBSERVATIONS_009_030:dataset-oc-glo-opt-multi-l3-zsd_4km_daily-rt-v02\"], [\"Global Ocean NRRS, BBP, CDM, KD, ZSD, SPM (Copernicus-GlobColour) from Satellite Observations: Daily (Near Real Time)\", \"EO:MO:DAT:OCEANCOLOUR_GLO_OPTICS_L3_NRT_OBSERVATIONS_009_030:dataset-oc-glo-opt-multi-l3-spm_4km_daily-rt-v02\"], [\"Global Ocean NRRS, BBP, CDM, KD, ZSD, SPM (Copernicus-GlobColour) from Satellite Observations: Daily (Near Real Time)\", \"EO:MO:DAT:OCEANCOLOUR_GLO_OPTICS_L3_NRT_OBSERVATIONS_009_030:dataset-oc-glo-opt-multi-l3-rrs670_4km_daily-rt-v02\"], [\"Global Ocean NRRS, BBP, CDM, KD, ZSD, SPM (Copernicus-GlobColour) from Satellite Observations: Daily (Near Real Time)\", \"EO:MO:DAT:OCEANCOLOUR_GLO_OPTICS_L3_NRT_OBSERVATIONS_009_030:dataset-oc-glo-opt-multi-l3-rrs555_4km_daily-rt-v02\"], [\"Global Ocean NRRS, BBP, CDM, KD, ZSD, SPM (Copernicus-GlobColour) from Satellite Observations: Daily (Near Real Time)\", \"EO:MO:DAT:OCEANCOLOUR_GLO_OPTICS_L3_NRT_OBSERVATIONS_009_030:dataset-oc-glo-opt-multi-l3-rrs490_4km_daily-rt-v02\"], [\"Global Ocean NRRS, BBP, CDM, KD, ZSD, SPM (Copernicus-GlobColour) from Satellite Observations: Daily (Near Real Time)\", \"EO:MO:DAT:OCEANCOLOUR_GLO_OPTICS_L3_NRT_OBSERVATIONS_009_030:dataset-oc-glo-opt-multi-l3-rrs443_4km_daily-rt-v02\"], [\"Global Ocean NRRS, BBP, CDM, KD, ZSD, SPM (Copernicus-GlobColour) from Satellite Observations: Daily (Near Real Time)\", \"EO:MO:DAT:OCEANCOLOUR_GLO_OPTICS_L3_NRT_OBSERVATIONS_009_030:dataset-oc-glo-opt-multi-l3-rrs412_4km_daily-rt-v02\"], [\"Global Ocean NRRS, BBP, CDM, KD, ZSD, SPM (Copernicus-GlobColour) from Satellite Observations: Daily (Near Real Time)\", \"EO:MO:DAT:OCEANCOLOUR_GLO_OPTICS_L3_NRT_OBSERVATIONS_009_030:dataset-oc-glo-opt-multi-l3-kd490_4km_daily-rt-v02\"], [\"Global Ocean NRRS, BBP, CDM, KD, ZSD, SPM (Copernicus-GlobColour) from Satellite Observations: Daily (Near Real Time)\", \"EO:MO:DAT:OCEANCOLOUR_GLO_OPTICS_L3_NRT_OBSERVATIONS_009_030:dataset-oc-glo-opt-multi-l3-cdm443_4km_daily-rt-v02\"], [\"Global Ocean NRRS, BBP, CDM, KD, ZSD, SPM (Copernicus-GlobColour) from Satellite Observations: Daily (Near Real Time)\", \"EO:MO:DAT:OCEANCOLOUR_GLO_OPTICS_L3_NRT_OBSERVATIONS_009_030:dataset-oc-glo-opt-multi-l3-bbp443_4km_daily-rt-v02\"], [\"Global Surface Chlorophyll Concentration from Satellite observations (daily average) Reprocessed L4 (ESA-CCI): monthly\", \"EO:MO:DAT:OCEANCOLOUR_GLO_CHL_L4_REP_OBSERVATIONS_009_093:dataset-oc-glo-chl-multi_cci-l4-chl_4km_monthly-rep-v02\"], [\"Global Ocean Chlorophyll, PP and PFT (Copernicus-GlobColour) from Satellite Observations: Monthly and Daily Interpolated (Reprocessed from 1997)\", \"EO:MO:DAT:OCEANCOLOUR_GLO_CHL_L4_REP_OBSERVATIONS_009_082:dataset-oc-glo-bio-multi-l4-pp_4km_monthly-rep\"], [\"Global Ocean Chlorophyll, PP and PFT (Copernicus-GlobColour) from Satellite Observations: Monthly and Daily Interpolated (Reprocessed from 1997)\", \"EO:MO:DAT:OCEANCOLOUR_GLO_CHL_L4_REP_OBSERVATIONS_009_082:dataset-oc-glo-bio-multi-l4-pft_4km_monthly-rep\"], [\"Global Ocean Chlorophyll, PP and PFT (Copernicus-GlobColour) from Satellite Observations: Monthly and Daily Interpolated (Reprocessed from 1997)\", \"EO:MO:DAT:OCEANCOLOUR_GLO_CHL_L4_REP_OBSERVATIONS_009_082:dataset-oc-glo-bio-multi-l4-chl_interpolated_4km_daily-rep\"], [\"Global Ocean Chlorophyll, PP and PFT (Copernicus-GlobColour) from Satellite Observations: Monthly and Daily Interpolated (Reprocessed from 1997)\", \"EO:MO:DAT:OCEANCOLOUR_GLO_CHL_L4_REP_OBSERVATIONS_009_082:dataset-oc-glo-bio-multi-l4-chl_4km_monthly-rep\"], [\"Global Ocean Chlorophyll, PP and PFT (Copernicus-GlobColour) from Satellite Observations: Monthly abd Daily Interpolated (Near Real Time)\", \"EO:MO:DAT:OCEANCOLOUR_GLO_CHL_L4_NRT_OBSERVATIONS_009_033:dataset-oc-glo-chl-olci_a-l4-av_4km_monthly-rt-v02\"], [\"Global Ocean Chlorophyll, PP and PFT (Copernicus-GlobColour) from Satellite Observations: Monthly abd Daily Interpolated (Near Real Time)\", \"EO:MO:DAT:OCEANCOLOUR_GLO_CHL_L4_NRT_OBSERVATIONS_009_033:dataset-oc-glo-bio-multi-l4-pp_4km_monthly-rt\"], [\"Global Ocean Chlorophyll, PP and PFT (Copernicus-GlobColour) from Satellite Observations: Monthly abd Daily Interpolated (Near Real Time)\", \"EO:MO:DAT:OCEANCOLOUR_GLO_CHL_L4_NRT_OBSERVATIONS_009_033:dataset-oc-glo-bio-multi-l4-pft_4km_monthly-rt\"], [\"Global Ocean Chlorophyll, PP and PFT (Copernicus-GlobColour) from Satellite Observations: Monthly abd Daily Interpolated (Near Real Time)\", \"EO:MO:DAT:OCEANCOLOUR_GLO_CHL_L4_NRT_OBSERVATIONS_009_033:dataset-oc-glo-bio-multi-l4-chl_interpolated_4km_daily-rt\"], [\"Global Ocean Chlorophyll, PP and PFT (Copernicus-GlobColour) from Satellite Observations: Monthly abd Daily Interpolated (Near Real Time)\", \"EO:MO:DAT:OCEANCOLOUR_GLO_CHL_L4_NRT_OBSERVATIONS_009_033:dataset-oc-glo-bio-multi-l4-chl_4km_monthly-rt\"], [\"Global Ocean Chlorophyll, PP and PFT (Copernicus-GlobColour) from Satellite Observations: Daily (Reprocessed from 1997)\", \"EO:MO:DAT:OCEANCOLOUR_GLO_CHL_L3_REP_OBSERVATIONS_009_085:dataset-oc-glo-bio-multi-l3-pft_4km_daily-rep\"], [\"Global Ocean Chlorophyll, PP and PFT (Copernicus-GlobColour) from Satellite Observations: Daily (Reprocessed from 1997)\", \"EO:MO:DAT:OCEANCOLOUR_GLO_CHL_L3_REP_OBSERVATIONS_009_085:dataset-oc-glo-bio-multi-l3-chl_4km_daily-rep\"], [\"Global Surface Chlorophyll Concentration from Satellite observations (daily average) Reprocessed L3 (ESA-CCI)\", \"EO:MO:DAT:OCEANCOLOUR_GLO_CHL_L3_REP_OBSERVATIONS_009_065:dataset-oc-glo-pft-multi_cci-l3-pft_4km_daily-rep\"], [\"Global Surface Chlorophyll Concentration from Satellite observations (daily average) Reprocessed L3 (ESA-CCI)\", \"EO:MO:DAT:OCEANCOLOUR_GLO_CHL_L3_REP_OBSERVATIONS_009_065:dataset-oc-glo-chl-multi_cci-l3-chl_4km_daily-rep-v02\"], [\"Global Ocean Chlorophyll, PP and PFT (Copernicus-GlobColour) from Satellite Observations : Daily (Near Real Time)\", \"EO:MO:DAT:OCEANCOLOUR_GLO_CHL_L3_NRT_OBSERVATIONS_009_032:dataset-oc-glo-chl-olci_a-l3-av_4km_daily-rt-v02\"], [\"Global Ocean Chlorophyll, PP and PFT (Copernicus-GlobColour) from Satellite Observations : Daily (Near Real Time)\", \"EO:MO:DAT:OCEANCOLOUR_GLO_CHL_L3_NRT_OBSERVATIONS_009_032:dataset-oc-glo-bio-multi-l3-pft_4km_daily-rt\"], [\"Global Ocean Chlorophyll, PP and PFT (Copernicus-GlobColour) from Satellite Observations : Daily (Near Real Time)\", \"EO:MO:DAT:OCEANCOLOUR_GLO_CHL_L3_NRT_OBSERVATIONS_009_032:dataset-oc-glo-bio-multi-l3-chl_4km_daily-rt\"], [\"Global Ocean Chlorophyll, PP and PFT (Copernicus-GlobColour) from Satellite Observations : Daily (Near Real Time)\", \"EO:MO:DAT:OCEANCOLOUR_GLO_CHL_L3_NRT_OBSERVATIONS_009_032:dataset-oc-glo-bio-multi-l3-chl_300m_daily-rt\"], [\"European Sea Surface Chlorophyll Concentration from Multi Satellite observations\", \"EO:MO:DAT:OCEANCOLOUR_EUR_CHL_L3_NRT_OBSERVATIONS_009_050:dataset-oc-eur-chl-multi-l3-chl_1km_daily-rt-v02\"], [\"Black Sea Monthly Attenuation Coefficient at 490nm from Multi Satellite and Sentinel-3 OLCI observations\", \"EO:MO:DAT:OCEANCOLOUR_BS_OPTICS_L4_NRT_OBSERVATIONS_009_043:dataset-oc-bs-opt-olci-l4-kd490_300m_monthly-rt\"], [\"Black Sea Monthly Attenuation Coefficient at 490nm from Multi Satellite and Sentinel-3 OLCI observations\", \"EO:MO:DAT:OCEANCOLOUR_BS_OPTICS_L4_NRT_OBSERVATIONS_009_043:dataset-oc-bs-opt-olci_a-l4-kd490_1km_monthly-rt-v02\"], [\"Black Sea Monthly Attenuation Coefficient at 490nm from Multi Satellite and Sentinel-3 OLCI observations\", \"EO:MO:DAT:OCEANCOLOUR_BS_OPTICS_L4_NRT_OBSERVATIONS_009_043:dataset-oc-bs-opt-multi-l4-kd490_1km_monthly-rt-v02\"], [\"Black Sea Reprocessed Remote Sensing Reflectances and Attenuation Coefficient at 490nm from Multi Satellite observations\", \"EO:MO:DAT:OCEANCOLOUR_BS_OPTICS_L3_REP_OBSERVATIONS_009_096:dataset-oc-bs-opt-multi-l3-rrs670_1km_daily-rep-v02\"], [\"Black Sea Reprocessed Remote Sensing Reflectances and Attenuation Coefficient at 490nm from Multi Satellite observations\", \"EO:MO:DAT:OCEANCOLOUR_BS_OPTICS_L3_REP_OBSERVATIONS_009_096:dataset-oc-bs-opt-multi-l3-rrs555_1km_daily-rep-v02\"], [\"Black Sea Reprocessed Remote Sensing Reflectances and Attenuation Coefficient at 490nm from Multi Satellite observations\", \"EO:MO:DAT:OCEANCOLOUR_BS_OPTICS_L3_REP_OBSERVATIONS_009_096:dataset-oc-bs-opt-multi-l3-rrs510_1km_daily-rep-v02\"], [\"Black Sea Reprocessed Remote Sensing Reflectances and Attenuation Coefficient at 490nm from Multi Satellite observations\", \"EO:MO:DAT:OCEANCOLOUR_BS_OPTICS_L3_REP_OBSERVATIONS_009_096:dataset-oc-bs-opt-multi-l3-rrs490_1km_daily-rep-v02\"], [\"Black Sea Reprocessed Remote Sensing Reflectances and Attenuation Coefficient at 490nm from Multi Satellite observations\", \"EO:MO:DAT:OCEANCOLOUR_BS_OPTICS_L3_REP_OBSERVATIONS_009_096:dataset-oc-bs-opt-multi-l3-rrs443_1km_daily-rep-v02\"], [\"Black Sea Reprocessed Remote Sensing Reflectances and Attenuation Coefficient at 490nm from Multi Satellite observations\", \"EO:MO:DAT:OCEANCOLOUR_BS_OPTICS_L3_REP_OBSERVATIONS_009_096:dataset-oc-bs-opt-multi-l3-rrs412_1km_daily-rep-v02\"], [\"Black Sea Reprocessed Remote Sensing Reflectances and Attenuation Coefficient at 490nm from Multi Satellite observations\", \"EO:MO:DAT:OCEANCOLOUR_BS_OPTICS_L3_REP_OBSERVATIONS_009_096:dataset-oc-bs-opt-multi-l3-kd490_1km_daily-rep-v02\"], [\"Black Sea Reprocessed Remote Sensing Reflectances and Attenuation Coefficient at 490nm from Multi Satellite observations\", \"EO:MO:DAT:OCEANCOLOUR_BS_OPTICS_L3_REP_OBSERVATIONS_009_096:dataset-oc-bs-opt-multi-l3-bbp443_1km_daily-rep-v02\"], [\"Black Sea Reprocessed Remote Sensing Reflectances and Attenuation Coefficient at 490nm from Multi Satellite observations\", \"EO:MO:DAT:OCEANCOLOUR_BS_OPTICS_L3_REP_OBSERVATIONS_009_096:dataset-oc-bs-opt-multi-l3-aph443_1km_daily-rep-v02\"], [\"Black Sea Reprocessed Remote Sensing Reflectances and Attenuation Coefficient at 490nm from Multi Satellite observations\", \"EO:MO:DAT:OCEANCOLOUR_BS_OPTICS_L3_REP_OBSERVATIONS_009_096:dataset-oc-bs-opt-multi-l3-adg443_1km_daily-rep-v02\"], [\"Black Sea Remote Sensing Reflectances and Attenuation Coefficient at 490nm from Multi Satellite and Sentinel-3 OLCI observations\", \"EO:MO:DAT:OCEANCOLOUR_BS_OPTICS_L3_NRT_OBSERVATIONS_009_042:dataset-oc-bs-opt-olci-l3-rrs709_300m_daily-rt\"], [\"Black Sea Remote Sensing Reflectances and Attenuation Coefficient at 490nm from Multi Satellite and Sentinel-3 OLCI observations\", \"EO:MO:DAT:OCEANCOLOUR_BS_OPTICS_L3_NRT_OBSERVATIONS_009_042:dataset-oc-bs-opt-olci-l3-rrs681_300m_daily-rt\"], [\"Black Sea Remote Sensing Reflectances and Attenuation Coefficient at 490nm from Multi Satellite and Sentinel-3 OLCI observations\", \"EO:MO:DAT:OCEANCOLOUR_BS_OPTICS_L3_NRT_OBSERVATIONS_009_042:dataset-oc-bs-opt-olci-l3-rrs674_300m_daily-rt\"], [\"Black Sea Remote Sensing Reflectances and Attenuation Coefficient at 490nm from Multi Satellite and Sentinel-3 OLCI observations\", \"EO:MO:DAT:OCEANCOLOUR_BS_OPTICS_L3_NRT_OBSERVATIONS_009_042:dataset-oc-bs-opt-olci-l3-rrs665_300m_daily-rt\"], [\"Black Sea Remote Sensing Reflectances and Attenuation Coefficient at 490nm from Multi Satellite and Sentinel-3 OLCI observations\", \"EO:MO:DAT:OCEANCOLOUR_BS_OPTICS_L3_NRT_OBSERVATIONS_009_042:dataset-oc-bs-opt-olci-l3-rrs620_300m_daily-rt\"], [\"Black Sea Remote Sensing Reflectances and Attenuation Coefficient at 490nm from Multi Satellite and Sentinel-3 OLCI observations\", \"EO:MO:DAT:OCEANCOLOUR_BS_OPTICS_L3_NRT_OBSERVATIONS_009_042:dataset-oc-bs-opt-olci-l3-rrs560_300m_daily-rt\"], [\"Black Sea Remote Sensing Reflectances and Attenuation Coefficient at 490nm from Multi Satellite and Sentinel-3 OLCI observations\", \"EO:MO:DAT:OCEANCOLOUR_BS_OPTICS_L3_NRT_OBSERVATIONS_009_042:dataset-oc-bs-opt-olci-l3-rrs510_300m_daily-rt\"], [\"Black Sea Remote Sensing Reflectances and Attenuation Coefficient at 490nm from Multi Satellite and Sentinel-3 OLCI observations\", \"EO:MO:DAT:OCEANCOLOUR_BS_OPTICS_L3_NRT_OBSERVATIONS_009_042:dataset-oc-bs-opt-olci-l3-rrs490_300m_daily-rt\"], [\"Black Sea Remote Sensing Reflectances and Attenuation Coefficient at 490nm from Multi Satellite and Sentinel-3 OLCI observations\", \"EO:MO:DAT:OCEANCOLOUR_BS_OPTICS_L3_NRT_OBSERVATIONS_009_042:dataset-oc-bs-opt-olci-l3-rrs443_300m_daily-rt\"], [\"Black Sea Remote Sensing Reflectances and Attenuation Coefficient at 490nm from Multi Satellite and Sentinel-3 OLCI observations\", \"EO:MO:DAT:OCEANCOLOUR_BS_OPTICS_L3_NRT_OBSERVATIONS_009_042:dataset-oc-bs-opt-olci-l3-rrs412_300m_daily-rt\"], [\"Black Sea Remote Sensing Reflectances and Attenuation Coefficient at 490nm from Multi Satellite and Sentinel-3 OLCI observations\", \"EO:MO:DAT:OCEANCOLOUR_BS_OPTICS_L3_NRT_OBSERVATIONS_009_042:dataset-oc-bs-opt-olci-l3-rrs400_300m_daily-rt\"], [\"Black Sea Remote Sensing Reflectances and Attenuation Coefficient at 490nm from Multi Satellite and Sentinel-3 OLCI observations\", \"EO:MO:DAT:OCEANCOLOUR_BS_OPTICS_L3_NRT_OBSERVATIONS_009_042:dataset-oc-bs-opt-olci-l3-kd490_300m_daily-rt\"], [\"Black Sea Remote Sensing Reflectances and Attenuation Coefficient at 490nm from Multi Satellite and Sentinel-3 OLCI observations\", \"EO:MO:DAT:OCEANCOLOUR_BS_OPTICS_L3_NRT_OBSERVATIONS_009_042:dataset-oc-bs-opt-olci_a-l3-rrs709_1km_daily-rt-v02\"], [\"Black Sea Remote Sensing Reflectances and Attenuation Coefficient at 490nm from Multi Satellite and Sentinel-3 OLCI observations\", \"EO:MO:DAT:OCEANCOLOUR_BS_OPTICS_L3_NRT_OBSERVATIONS_009_042:dataset-oc-bs-opt-olci_a-l3-rrs681_1km_daily-rt-v02\"], [\"Black Sea Remote Sensing Reflectances and Attenuation Coefficient at 490nm from Multi Satellite and Sentinel-3 OLCI observations\", \"EO:MO:DAT:OCEANCOLOUR_BS_OPTICS_L3_NRT_OBSERVATIONS_009_042:dataset-oc-bs-opt-olci_a-l3-rrs674_1km_daily-rt-v02\"], [\"Black Sea Remote Sensing Reflectances and Attenuation Coefficient at 490nm from Multi Satellite and Sentinel-3 OLCI observations\", \"EO:MO:DAT:OCEANCOLOUR_BS_OPTICS_L3_NRT_OBSERVATIONS_009_042:dataset-oc-bs-opt-olci_a-l3-rrs665_1km_daily-rt-v02\"], [\"Black Sea Remote Sensing Reflectances and Attenuation Coefficient at 490nm from Multi Satellite and Sentinel-3 OLCI observations\", \"EO:MO:DAT:OCEANCOLOUR_BS_OPTICS_L3_NRT_OBSERVATIONS_009_042:dataset-oc-bs-opt-olci_a-l3-rrs620_1km_daily-rt-v02\"], [\"Black Sea Remote Sensing Reflectances and Attenuation Coefficient at 490nm from Multi Satellite and Sentinel-3 OLCI observations\", \"EO:MO:DAT:OCEANCOLOUR_BS_OPTICS_L3_NRT_OBSERVATIONS_009_042:dataset-oc-bs-opt-olci_a-l3-rrs560_1km_daily-rt-v02\"], [\"Black Sea Remote Sensing Reflectances and Attenuation Coefficient at 490nm from Multi Satellite and Sentinel-3 OLCI observations\", \"EO:MO:DAT:OCEANCOLOUR_BS_OPTICS_L3_NRT_OBSERVATIONS_009_042:dataset-oc-bs-opt-olci_a-l3-rrs510_1km_daily-rt-v02\"], [\"Black Sea Remote Sensing Reflectances and Attenuation Coefficient at 490nm from Multi Satellite and Sentinel-3 OLCI observations\", \"EO:MO:DAT:OCEANCOLOUR_BS_OPTICS_L3_NRT_OBSERVATIONS_009_042:dataset-oc-bs-opt-olci_a-l3-rrs490_1km_daily-rt-v02\"], [\"Black Sea Remote Sensing Reflectances and Attenuation Coefficient at 490nm from Multi Satellite and Sentinel-3 OLCI observations\", \"EO:MO:DAT:OCEANCOLOUR_BS_OPTICS_L3_NRT_OBSERVATIONS_009_042:dataset-oc-bs-opt-olci_a-l3-rrs443_1km_daily-rt-v02\"], [\"Black Sea Remote Sensing Reflectances and Attenuation Coefficient at 490nm from Multi Satellite and Sentinel-3 OLCI observations\", \"EO:MO:DAT:OCEANCOLOUR_BS_OPTICS_L3_NRT_OBSERVATIONS_009_042:dataset-oc-bs-opt-olci_a-l3-rrs412_1km_daily-rt-v02\"], [\"Black Sea Remote Sensing Reflectances and Attenuation Coefficient at 490nm from Multi Satellite and Sentinel-3 OLCI observations\", \"EO:MO:DAT:OCEANCOLOUR_BS_OPTICS_L3_NRT_OBSERVATIONS_009_042:dataset-oc-bs-opt-olci_a-l3-rrs400_1km_daily-rt-v02\"], [\"Black Sea Remote Sensing Reflectances and Attenuation Coefficient at 490nm from Multi Satellite and Sentinel-3 OLCI observations\", \"EO:MO:DAT:OCEANCOLOUR_BS_OPTICS_L3_NRT_OBSERVATIONS_009_042:dataset-oc-bs-opt-olci_a-l3-kd490_1km_daily-rt-v02\"], [\"Black Sea Remote Sensing Reflectances and Attenuation Coefficient at 490nm from Multi Satellite and Sentinel-3 OLCI observations\", \"EO:MO:DAT:OCEANCOLOUR_BS_OPTICS_L3_NRT_OBSERVATIONS_009_042:dataset-oc-bs-opt-multi-l3-rrs670_1km_daily-rt-v02\"], [\"Black Sea Remote Sensing Reflectances and Attenuation Coefficient at 490nm from Multi Satellite and Sentinel-3 OLCI observations\", \"EO:MO:DAT:OCEANCOLOUR_BS_OPTICS_L3_NRT_OBSERVATIONS_009_042:dataset-oc-bs-opt-multi-l3-rrs555_1km_daily-rt-v02\"], [\"Black Sea Remote Sensing Reflectances and Attenuation Coefficient at 490nm from Multi Satellite and Sentinel-3 OLCI observations\", \"EO:MO:DAT:OCEANCOLOUR_BS_OPTICS_L3_NRT_OBSERVATIONS_009_042:dataset-oc-bs-opt-multi-l3-rrs510_1km_daily-rt-v02\"], [\"Black Sea Remote Sensing Reflectances and Attenuation Coefficient at 490nm from Multi Satellite and Sentinel-3 OLCI observations\", \"EO:MO:DAT:OCEANCOLOUR_BS_OPTICS_L3_NRT_OBSERVATIONS_009_042:dataset-oc-bs-opt-multi-l3-rrs490_1km_daily-rt-v02\"], [\"Black Sea Remote Sensing Reflectances and Attenuation Coefficient at 490nm from Multi Satellite and Sentinel-3 OLCI observations\", \"EO:MO:DAT:OCEANCOLOUR_BS_OPTICS_L3_NRT_OBSERVATIONS_009_042:dataset-oc-bs-opt-multi-l3-rrs443_1km_daily-rt-v02\"], [\"Black Sea Remote Sensing Reflectances and Attenuation Coefficient at 490nm from Multi Satellite and Sentinel-3 OLCI observations\", \"EO:MO:DAT:OCEANCOLOUR_BS_OPTICS_L3_NRT_OBSERVATIONS_009_042:dataset-oc-bs-opt-multi-l3-rrs412_1km_daily-rt-v02\"], [\"Black Sea Remote Sensing Reflectances and Attenuation Coefficient at 490nm from Multi Satellite and Sentinel-3 OLCI observations\", \"EO:MO:DAT:OCEANCOLOUR_BS_OPTICS_L3_NRT_OBSERVATIONS_009_042:dataset-oc-bs-opt-multi-l3-kd490_1km_daily-rt-v02\"], [\"Black Sea Remote Sensing Reflectances and Attenuation Coefficient at 490nm from Multi Satellite and Sentinel-3 OLCI observations\", \"EO:MO:DAT:OCEANCOLOUR_BS_OPTICS_L3_NRT_OBSERVATIONS_009_042:dataset-oc-bs-opt-multi-l3-bbp443_1km_daily-rt-v02\"], [\"Black Sea Remote Sensing Reflectances and Attenuation Coefficient at 490nm from Multi Satellite and Sentinel-3 OLCI observations\", \"EO:MO:DAT:OCEANCOLOUR_BS_OPTICS_L3_NRT_OBSERVATIONS_009_042:dataset-oc-bs-opt-multi-l3-aph443_1km_daily-rt-v02\"], [\"Black Sea Remote Sensing Reflectances and Attenuation Coefficient at 490nm from Multi Satellite and Sentinel-3 OLCI observations\", \"EO:MO:DAT:OCEANCOLOUR_BS_OPTICS_L3_NRT_OBSERVATIONS_009_042:dataset-oc-bs-opt-multi-l3-adg443_1km_daily-rt-v02\"], [\"Black Sea Monthly and Daily Reprocessed Surface Chlorophyll Concentration from Multi Satellite observations + SeaWiFS daily climatology\", \"EO:MO:DAT:OCEANCOLOUR_BS_CHL_L4_REP_OBSERVATIONS_009_079:dataset-oc-bs-chl-multi-l4-interp_1km_daily-rep\"], [\"Black Sea Monthly and Daily Reprocessed Surface Chlorophyll Concentration from Multi Satellite observations + SeaWiFS daily climatology\", \"EO:MO:DAT:OCEANCOLOUR_BS_CHL_L4_REP_OBSERVATIONS_009_079:dataset-oc-bs-chl-multi-l4-chl_1km_monthly-rep-v02\"], [\"Black Sea Monthly and Daily Interpolated Surface Chlorophyll Concentration from Multi Satellite and Sentinel-3 OLCI observations\", \"EO:MO:DAT:OCEANCOLOUR_BS_CHL_L4_NRT_OBSERVATIONS_009_045:dataset-oc-bs-chl-olci-l4-chl_300m_monthly-rt\"], [\"Black Sea Monthly and Daily Interpolated Surface Chlorophyll Concentration from Multi Satellite and Sentinel-3 OLCI observations\", \"EO:MO:DAT:OCEANCOLOUR_BS_CHL_L4_NRT_OBSERVATIONS_009_045:dataset-oc-bs-chl-olci_a-l4-chl_1km_monthly-rt-v02\"], [\"Black Sea Monthly and Daily Interpolated Surface Chlorophyll Concentration from Multi Satellite and Sentinel-3 OLCI observations\", \"EO:MO:DAT:OCEANCOLOUR_BS_CHL_L4_NRT_OBSERVATIONS_009_045:dataset-oc-bs-chl-multi-l4-interp_1km_daily-rt-v02\"], [\"Black Sea Monthly and Daily Interpolated Surface Chlorophyll Concentration from Multi Satellite and Sentinel-3 OLCI observations\", \"EO:MO:DAT:OCEANCOLOUR_BS_CHL_L4_NRT_OBSERVATIONS_009_045:dataset-oc-bs-chl-multi-l4-chl_1km_monthly-rt-v02\"], [\"Black Sea Reprocessed Surface Chlorophyll Concentration from Multi Satellite observations\", \"EO:MO:DAT:OCEANCOLOUR_BS_CHL_L3_REP_OBSERVATIONS_009_071:dataset-oc-bs-chl-multi-l3-pft_1km_daily-rep\"], [\"Black Sea Reprocessed Surface Chlorophyll Concentration from Multi Satellite observations\", \"EO:MO:DAT:OCEANCOLOUR_BS_CHL_L3_REP_OBSERVATIONS_009_071:dataset-oc-bs-chl-multi-l3-chl_1km_daily-rep-v02\"], [\"Black Sea Surface Chlorophyll Concentration from Multi Satellite and Sentinel-3 OLCI observations\", \"EO:MO:DAT:OCEANCOLOUR_BS_CHL_L3_NRT_OBSERVATIONS_009_044:dataset-oc-bs-chl-olci-l3-chl_300m_daily-rt\"], [\"Black Sea Surface Chlorophyll Concentration from Multi Satellite and Sentinel-3 OLCI observations\", \"EO:MO:DAT:OCEANCOLOUR_BS_CHL_L3_NRT_OBSERVATIONS_009_044:dataset-oc-bs-chl-olci_a-l3-chl_1km_daily-rt-v02\"], [\"Black Sea Surface Chlorophyll Concentration from Multi Satellite and Sentinel-3 OLCI observations\", \"EO:MO:DAT:OCEANCOLOUR_BS_CHL_L3_NRT_OBSERVATIONS_009_044:dataset-oc-bs-chl-multi-l3-chl_1km_daily-rt-v02\"], [\"Black Sea, Bio-Geo-Chemical, L4, monthly means and interpolated daily observation\", \"EO:MO:DAT:OCEANCOLOUR_BLK_BGC_HR_L4_NRT_009_212:cmems_obs_oc_blk_bgc_transp_nrt_l4-hr_P1M-m\"], [\"Black Sea, Bio-Geo-Chemical, L4, monthly means and interpolated daily observation\", \"EO:MO:DAT:OCEANCOLOUR_BLK_BGC_HR_L4_NRT_009_212:cmems_obs_oc_blk_bgc_transp_nrt_l4-hr_P1D-m\"], [\"Black Sea, Bio-Geo-Chemical, L4, monthly means and interpolated daily observation\", \"EO:MO:DAT:OCEANCOLOUR_BLK_BGC_HR_L4_NRT_009_212:cmems_obs_oc_blk_bgc_optics_nrt_l4-hr_P1M-m\"], [\"Black Sea, Bio-Geo-Chemical, L4, monthly means and interpolated daily observation\", \"EO:MO:DAT:OCEANCOLOUR_BLK_BGC_HR_L4_NRT_009_212:cmems_obs_oc_blk_bgc_optics_nrt_l4-hr_P1D-m\"], [\"Black Sea, Bio-Geo-Chemical, L4, monthly means and interpolated daily observation\", \"EO:MO:DAT:OCEANCOLOUR_BLK_BGC_HR_L4_NRT_009_212:cmems_obs_oc_blk_bgc_geophy_nrt_l4-hr_P1M-m\"], [\"Black Sea, Bio-Geo-Chemical, L4, monthly means and interpolated daily observation\", \"EO:MO:DAT:OCEANCOLOUR_BLK_BGC_HR_L4_NRT_009_212:cmems_obs_oc_blk_bgc_geophy_nrt_l4-hr_P1D-m\"], [\"Black Sea, Bio-Geo-Chemical, L3, daily observation\", \"EO:MO:DAT:OCEANCOLOUR_BLK_BGC_HR_L3_NRT_009_206:cmems_obs_oc_blk_bgc_transp_nrt_l3-hr_P1D-m\"], [\"Black Sea, Bio-Geo-Chemical, L3, daily observation\", \"EO:MO:DAT:OCEANCOLOUR_BLK_BGC_HR_L3_NRT_009_206:cmems_obs_oc_blk_bgc_optics_nrt_l3-hr_P1D-m\"], [\"Black Sea, Bio-Geo-Chemical, L3, daily observation\", \"EO:MO:DAT:OCEANCOLOUR_BLK_BGC_HR_L3_NRT_009_206:cmems_obs_oc_blk_bgc_geophy_nrt_l3-hr_P1D-m\"], [\"Baltic Sea Reprocessed Remote Sensing Reflectances and Attenuation Coefficient at 490nm from Multi Satellite observations\", \"EO:MO:DAT:OCEANCOLOUR_BAL_OPTICS_L3_REP_OBSERVATIONS_009_097:dataset-oc-bal-opt-multi_cci-l3-rrs670_1km_daily-rep-v02\"], [\"Baltic Sea Reprocessed Remote Sensing Reflectances and Attenuation Coefficient at 490nm from Multi Satellite observations\", \"EO:MO:DAT:OCEANCOLOUR_BAL_OPTICS_L3_REP_OBSERVATIONS_009_097:dataset-oc-bal-opt-multi_cci-l3-rrs555_1km_daily-rep-v02\"], [\"Baltic Sea Reprocessed Remote Sensing Reflectances and Attenuation Coefficient at 490nm from Multi Satellite observations\", \"EO:MO:DAT:OCEANCOLOUR_BAL_OPTICS_L3_REP_OBSERVATIONS_009_097:dataset-oc-bal-opt-multi_cci-l3-rrs510_1km_daily-rep-v02\"], [\"Baltic Sea Reprocessed Remote Sensing Reflectances and Attenuation Coefficient at 490nm from Multi Satellite observations\", \"EO:MO:DAT:OCEANCOLOUR_BAL_OPTICS_L3_REP_OBSERVATIONS_009_097:dataset-oc-bal-opt-multi_cci-l3-rrs490_1km_daily-rep-v02\"], [\"Baltic Sea Reprocessed Remote Sensing Reflectances and Attenuation Coefficient at 490nm from Multi Satellite observations\", \"EO:MO:DAT:OCEANCOLOUR_BAL_OPTICS_L3_REP_OBSERVATIONS_009_097:dataset-oc-bal-opt-multi_cci-l3-rrs443_1km_daily-rep-v02\"], [\"Baltic Sea Reprocessed Remote Sensing Reflectances and Attenuation Coefficient at 490nm from Multi Satellite observations\", \"EO:MO:DAT:OCEANCOLOUR_BAL_OPTICS_L3_REP_OBSERVATIONS_009_097:dataset-oc-bal-opt-multi_cci-l3-rrs412_1km_daily-rep-v02\"], [\"Baltic Sea Reprocessed Remote Sensing Reflectances and Attenuation Coefficient at 490nm from Multi Satellite observations\", \"EO:MO:DAT:OCEANCOLOUR_BAL_OPTICS_L3_REP_OBSERVATIONS_009_097:dataset-oc-bal-opt-multi_cci-l3-kd490_1km_daily-rep-v02\"], [\"Baltic Sea, Ocean Colour Optics product (daily observation)\", \"EO:MO:DAT:OCEANCOLOUR_BAL_OPTICS_L3_NRT_OBSERVATIONS_009_048:dataset-oc-bal-opt-olci-l3-rrs709_300m_daily-rt\"], [\"Baltic Sea, Ocean Colour Optics product (daily observation)\", \"EO:MO:DAT:OCEANCOLOUR_BAL_OPTICS_L3_NRT_OBSERVATIONS_009_048:dataset-oc-bal-opt-olci-l3-rrs681_300m_daily-rt\"], [\"Baltic Sea, Ocean Colour Optics product (daily observation)\", \"EO:MO:DAT:OCEANCOLOUR_BAL_OPTICS_L3_NRT_OBSERVATIONS_009_048:dataset-oc-bal-opt-olci-l3-rrs674_300m_daily-rt\"], [\"Baltic Sea, Ocean Colour Optics product (daily observation)\", \"EO:MO:DAT:OCEANCOLOUR_BAL_OPTICS_L3_NRT_OBSERVATIONS_009_048:dataset-oc-bal-opt-olci-l3-rrs665_300m_daily-rt\"], [\"Baltic Sea, Ocean Colour Optics product (daily observation)\", \"EO:MO:DAT:OCEANCOLOUR_BAL_OPTICS_L3_NRT_OBSERVATIONS_009_048:dataset-oc-bal-opt-olci-l3-rrs620_300m_daily-rt\"], [\"Baltic Sea, Ocean Colour Optics product (daily observation)\", \"EO:MO:DAT:OCEANCOLOUR_BAL_OPTICS_L3_NRT_OBSERVATIONS_009_048:dataset-oc-bal-opt-olci-l3-rrs560_300m_daily-rt\"], [\"Baltic Sea, Ocean Colour Optics product (daily observation)\", \"EO:MO:DAT:OCEANCOLOUR_BAL_OPTICS_L3_NRT_OBSERVATIONS_009_048:dataset-oc-bal-opt-olci-l3-rrs510_300m_daily-rt\"], [\"Baltic Sea, Ocean Colour Optics product (daily observation)\", \"EO:MO:DAT:OCEANCOLOUR_BAL_OPTICS_L3_NRT_OBSERVATIONS_009_048:dataset-oc-bal-opt-olci-l3-rrs490_300m_daily-rt\"], [\"Baltic Sea, Ocean Colour Optics product (daily observation)\", \"EO:MO:DAT:OCEANCOLOUR_BAL_OPTICS_L3_NRT_OBSERVATIONS_009_048:dataset-oc-bal-opt-olci-l3-rrs443_300m_daily-rt\"], [\"Baltic Sea, Ocean Colour Optics product (daily observation)\", \"EO:MO:DAT:OCEANCOLOUR_BAL_OPTICS_L3_NRT_OBSERVATIONS_009_048:dataset-oc-bal-opt-olci-l3-rrs412_300m_daily-rt\"], [\"Baltic Sea, Ocean Colour Optics product (daily observation)\", \"EO:MO:DAT:OCEANCOLOUR_BAL_OPTICS_L3_NRT_OBSERVATIONS_009_048:dataset-oc-bal-opt-olci-l3-rrs400_300m_daily-rt\"], [\"Baltic Sea, Ocean Colour Optics product (daily observation)\", \"EO:MO:DAT:OCEANCOLOUR_BAL_OPTICS_L3_NRT_OBSERVATIONS_009_048:dataset-oc-bal-opt-olci-l3-kd490_300m_daily-rt\"], [\"Baltic Sea, Ocean Colour Optics product (daily observation)\", \"EO:MO:DAT:OCEANCOLOUR_BAL_OPTICS_L3_NRT_OBSERVATIONS_009_048:dataset-oc-bal-opt-olci-l3-bbp510_300m_daily-rt\"], [\"Baltic Sea, Ocean Colour Optics product (daily observation)\", \"EO:MO:DAT:OCEANCOLOUR_BAL_OPTICS_L3_NRT_OBSERVATIONS_009_048:dataset-oc-bal-opt-olci-l3-aph440_300m_daily-rt\"], [\"Baltic Sea, Ocean Colour Optics product (daily observation)\", \"EO:MO:DAT:OCEANCOLOUR_BAL_OPTICS_L3_NRT_OBSERVATIONS_009_048:dataset-oc-bal-opt-olci-l3-adg440_300m_daily-rt\"], [\"Baltic Sea, Ocean Colour Optics product (daily observation)\", \"EO:MO:DAT:OCEANCOLOUR_BAL_OPTICS_L3_NRT_OBSERVATIONS_009_048:dataset-oc-bal-opt-olci_a-l3-rrs709_1km_daily-rt-v02\"], [\"Baltic Sea, Ocean Colour Optics product (daily observation)\", \"EO:MO:DAT:OCEANCOLOUR_BAL_OPTICS_L3_NRT_OBSERVATIONS_009_048:dataset-oc-bal-opt-olci_a-l3-rrs681_1km_daily-rt-v02\"], [\"Baltic Sea, Ocean Colour Optics product (daily observation)\", \"EO:MO:DAT:OCEANCOLOUR_BAL_OPTICS_L3_NRT_OBSERVATIONS_009_048:dataset-oc-bal-opt-olci_a-l3-rrs674_1km_daily-rt-v02\"], [\"Baltic Sea, Ocean Colour Optics product (daily observation)\", \"EO:MO:DAT:OCEANCOLOUR_BAL_OPTICS_L3_NRT_OBSERVATIONS_009_048:dataset-oc-bal-opt-olci_a-l3-rrs665_1km_daily-rt-v02\"], [\"Baltic Sea, Ocean Colour Optics product (daily observation)\", \"EO:MO:DAT:OCEANCOLOUR_BAL_OPTICS_L3_NRT_OBSERVATIONS_009_048:dataset-oc-bal-opt-olci_a-l3-rrs620_1km_daily-rt-v02\"], [\"Baltic Sea, Ocean Colour Optics product (daily observation)\", \"EO:MO:DAT:OCEANCOLOUR_BAL_OPTICS_L3_NRT_OBSERVATIONS_009_048:dataset-oc-bal-opt-olci_a-l3-rrs560_1km_daily-rt-v02\"], [\"Baltic Sea, Ocean Colour Optics product (daily observation)\", \"EO:MO:DAT:OCEANCOLOUR_BAL_OPTICS_L3_NRT_OBSERVATIONS_009_048:dataset-oc-bal-opt-olci_a-l3-rrs510_1km_daily-rt-v02\"], [\"Baltic Sea, Ocean Colour Optics product (daily observation)\", \"EO:MO:DAT:OCEANCOLOUR_BAL_OPTICS_L3_NRT_OBSERVATIONS_009_048:dataset-oc-bal-opt-olci_a-l3-rrs490_1km_daily-rt-v02\"], [\"Baltic Sea, Ocean Colour Optics product (daily observation)\", \"EO:MO:DAT:OCEANCOLOUR_BAL_OPTICS_L3_NRT_OBSERVATIONS_009_048:dataset-oc-bal-opt-olci_a-l3-rrs443_1km_daily-rt-v02\"], [\"Baltic Sea, Ocean Colour Optics product (daily observation)\", \"EO:MO:DAT:OCEANCOLOUR_BAL_OPTICS_L3_NRT_OBSERVATIONS_009_048:dataset-oc-bal-opt-olci_a-l3-rrs412_1km_daily-rt-v02\"], [\"Baltic Sea, Ocean Colour Optics product (daily observation)\", \"EO:MO:DAT:OCEANCOLOUR_BAL_OPTICS_L3_NRT_OBSERVATIONS_009_048:dataset-oc-bal-opt-olci_a-l3-rrs400_1km_daily-rt-v02\"], [\"Baltic Sea, Ocean Colour Optics product (daily observation)\", \"EO:MO:DAT:OCEANCOLOUR_BAL_OPTICS_L3_NRT_OBSERVATIONS_009_048:dataset-oc-bal-opt-olci_a-l3-kd490_1km_daily-rt-v02\"], [\"Baltic Sea, Ocean Colour Optics product (daily observation)\", \"EO:MO:DAT:OCEANCOLOUR_BAL_OPTICS_L3_NRT_OBSERVATIONS_009_048:dataset-oc-bal-opt-olci_a-l3-bbp510_1km_daily-rt-v02\"], [\"Baltic Sea, Ocean Colour Optics product (daily observation)\", \"EO:MO:DAT:OCEANCOLOUR_BAL_OPTICS_L3_NRT_OBSERVATIONS_009_048:dataset-oc-bal-opt-olci_a-l3-aph440_1km_daily-rt-v02\"], [\"Baltic Sea, Ocean Colour Optics product (daily observation)\", \"EO:MO:DAT:OCEANCOLOUR_BAL_OPTICS_L3_NRT_OBSERVATIONS_009_048:dataset-oc-bal-opt-olci_a-l3-adg440_1km_daily-rt-v02\"], [\"Baltic Sea Reprocessed Surface Chlorophyll Concentration from Multi Satellite observations\", \"EO:MO:DAT:OCEANCOLOUR_BAL_CHL_L3_REP_OBSERVATIONS_009_080:dataset-oc-bal-chl-multi_cci-l3-pft_1km_daily-rep\"], [\"Baltic Sea Reprocessed Surface Chlorophyll Concentration from Multi Satellite observations\", \"EO:MO:DAT:OCEANCOLOUR_BAL_CHL_L3_REP_OBSERVATIONS_009_080:dataset-oc-bal-chl-multi_cci-l3-chl_1km_daily-rep-v02\"], [\"Baltic Sea, Ocean Colour Chlorophyll (daily observation)\", \"EO:MO:DAT:OCEANCOLOUR_BAL_CHL_L3_NRT_OBSERVATIONS_009_049:dataset-oc-bal-chl-olci-l3-nn_300m_daily-rt\"], [\"Baltic Sea, Ocean Colour Chlorophyll (daily observation)\", \"EO:MO:DAT:OCEANCOLOUR_BAL_CHL_L3_NRT_OBSERVATIONS_009_049:dataset-oc-bal-chl-olci_a-l3-nn_1km_daily-rt-v02\"], [\"Baltic Sea, Bio-Geo-Chemical, L4, monthly means and interpolated daily observation\", \"EO:MO:DAT:OCEANCOLOUR_BAL_BGC_HR_L4_NRT_009_208:cmems_obs_oc_bal_bgc_transp_nrt_l4-hr_P1M-m\"], [\"Baltic Sea, Bio-Geo-Chemical, L4, monthly means and interpolated daily observation\", \"EO:MO:DAT:OCEANCOLOUR_BAL_BGC_HR_L4_NRT_009_208:cmems_obs_oc_bal_bgc_transp_nrt_l4-hr_P1D-m\"], [\"Baltic Sea, Bio-Geo-Chemical, L4, monthly means and interpolated daily observation\", \"EO:MO:DAT:OCEANCOLOUR_BAL_BGC_HR_L4_NRT_009_208:cmems_obs_oc_bal_bgc_optics_nrt_l4-hr_P1M-m\"], [\"Baltic Sea, Bio-Geo-Chemical, L4, monthly means and interpolated daily observation\", \"EO:MO:DAT:OCEANCOLOUR_BAL_BGC_HR_L4_NRT_009_208:cmems_obs_oc_bal_bgc_optics_nrt_l4-hr_P1D-m\"], [\"Baltic Sea, Bio-Geo-Chemical, L4, monthly means and interpolated daily observation\", \"EO:MO:DAT:OCEANCOLOUR_BAL_BGC_HR_L4_NRT_009_208:cmems_obs_oc_bal_bgc_geophy_nrt_l4-hr_P1M-m\"], [\"Baltic Sea, Bio-Geo-Chemical, L4, monthly means and interpolated daily observation\", \"EO:MO:DAT:OCEANCOLOUR_BAL_BGC_HR_L4_NRT_009_208:cmems_obs_oc_bal_bgc_geophy_nrt_l4-hr_P1D-m\"], [\"Baltic Sea, Bio-Geo-Chemical, L3, daily observation\", \"EO:MO:DAT:OCEANCOLOUR_BAL_BGC_HR_L3_NRT_009_202:cmems_obs_oc_bal_bgc_transp_nrt_l3-hr_P1D-m\"], [\"Baltic Sea, Bio-Geo-Chemical, L3, daily observation\", \"EO:MO:DAT:OCEANCOLOUR_BAL_BGC_HR_L3_NRT_009_202:cmems_obs_oc_bal_bgc_optics_nrt_l3-hr_P1D-m\"], [\"Baltic Sea, Bio-Geo-Chemical, L3, daily observation\", \"EO:MO:DAT:OCEANCOLOUR_BAL_BGC_HR_L3_NRT_009_202:cmems_obs_oc_bal_bgc_geophy_nrt_l3-hr_P1D-m\"], [\"North Atlantic Attenuation Coefficient at 490nm: monthly\", \"EO:MO:DAT:OCEANCOLOUR_ATL_OPTICS_L4_NRT_OBSERVATIONS_009_092:dataset-oc-atl-opt-olci-l4-kd490_300m_monthly-rt\"], [\"North Atlantic Attenuation Coefficient at 490nm: monthly\", \"EO:MO:DAT:OCEANCOLOUR_ATL_OPTICS_L4_NRT_OBSERVATIONS_009_092:dataset-oc-atl-opt-olci_a-l4-kd490_1km_monthly-rt-v01\"], [\"North Atlantic Ocean, Ocean Optics Products (daily average) Reprocessed L3 (ESA-CCI)\", \"EO:MO:DAT:OCEANCOLOUR_ATL_OPTICS_L3_REP_OBSERVATIONS_009_066:dataset-oc-atl-opt-multi_cci-l3-spm_1km_daily-rep\"], [\"North Atlantic Ocean, Ocean Optics Products (daily average) Reprocessed L3 (ESA-CCI)\", \"EO:MO:DAT:OCEANCOLOUR_ATL_OPTICS_L3_REP_OBSERVATIONS_009_066:dataset-oc-atl-opt-multi_cci-l3-rrs665_1km_daily-rep-v02\"], [\"North Atlantic Ocean, Ocean Optics Products (daily average) Reprocessed L3 (ESA-CCI)\", \"EO:MO:DAT:OCEANCOLOUR_ATL_OPTICS_L3_REP_OBSERVATIONS_009_066:dataset-oc-atl-opt-multi_cci-l3-rrs560_1km_daily-rep-v02\"], [\"North Atlantic Ocean, Ocean Optics Products (daily average) Reprocessed L3 (ESA-CCI)\", \"EO:MO:DAT:OCEANCOLOUR_ATL_OPTICS_L3_REP_OBSERVATIONS_009_066:dataset-oc-atl-opt-multi_cci-l3-rrs510_1km_daily-rep-v02\"], [\"North Atlantic Ocean, Ocean Optics Products (daily average) Reprocessed L3 (ESA-CCI)\", \"EO:MO:DAT:OCEANCOLOUR_ATL_OPTICS_L3_REP_OBSERVATIONS_009_066:dataset-oc-atl-opt-multi_cci-l3-rrs490_1km_daily-rep-v02\"], [\"North Atlantic Ocean, Ocean Optics Products (daily average) Reprocessed L3 (ESA-CCI)\", \"EO:MO:DAT:OCEANCOLOUR_ATL_OPTICS_L3_REP_OBSERVATIONS_009_066:dataset-oc-atl-opt-multi_cci-l3-rrs443_1km_daily-rep-v02\"], [\"North Atlantic Ocean, Ocean Optics Products (daily average) Reprocessed L3 (ESA-CCI)\", \"EO:MO:DAT:OCEANCOLOUR_ATL_OPTICS_L3_REP_OBSERVATIONS_009_066:dataset-oc-atl-opt-multi_cci-l3-rrs412_1km_daily-rep-v02\"], [\"North Atlantic Ocean, Ocean Optics Products (daily average) Reprocessed L3 (ESA-CCI)\", \"EO:MO:DAT:OCEANCOLOUR_ATL_OPTICS_L3_REP_OBSERVATIONS_009_066:dataset-oc-atl-opt-multi_cci-l3-atot443_1km_daily-rep\"], [\"North Atlantic Ocean, Ocean Optics Products (daily average) Reprocessed L3 (ESA-CCI)\", \"EO:MO:DAT:OCEANCOLOUR_ATL_OPTICS_L3_REP_OBSERVATIONS_009_066:dataset-oc-atl-opt-multi_cci-l3-aph443_1km_daily-rep\"], [\"North Atlantic Ocean, Ocean Optics Products (daily average) Reprocessed L3 (ESA-CCI)\", \"EO:MO:DAT:OCEANCOLOUR_ATL_OPTICS_L3_REP_OBSERVATIONS_009_066:dataset-oc-atl-opt-multi_cci-l3-adg443_1km_daily-rep\"], [\"North Atlantic Remote Sensing Reflectances, Attenuation Coefficient at 490nm, and inherent optical properties from Satellite observations\", \"EO:MO:DAT:OCEANCOLOUR_ATL_OPTICS_L3_NRT_OBSERVATIONS_009_034:dataset-oc-atl-opt-olci-l3-rrs709_300m_daily-rt\"], [\"North Atlantic Remote Sensing Reflectances, Attenuation Coefficient at 490nm, and inherent optical properties from Satellite observations\", \"EO:MO:DAT:OCEANCOLOUR_ATL_OPTICS_L3_NRT_OBSERVATIONS_009_034:dataset-oc-atl-opt-olci-l3-rrs681_300m_daily-rt\"], [\"North Atlantic Remote Sensing Reflectances, Attenuation Coefficient at 490nm, and inherent optical properties from Satellite observations\", \"EO:MO:DAT:OCEANCOLOUR_ATL_OPTICS_L3_NRT_OBSERVATIONS_009_034:dataset-oc-atl-opt-olci-l3-rrs674_300m_daily-rt\"], [\"North Atlantic Remote Sensing Reflectances, Attenuation Coefficient at 490nm, and inherent optical properties from Satellite observations\", \"EO:MO:DAT:OCEANCOLOUR_ATL_OPTICS_L3_NRT_OBSERVATIONS_009_034:dataset-oc-atl-opt-olci-l3-rrs665_300m_daily-rt\"], [\"North Atlantic Remote Sensing Reflectances, Attenuation Coefficient at 490nm, and inherent optical properties from Satellite observations\", \"EO:MO:DAT:OCEANCOLOUR_ATL_OPTICS_L3_NRT_OBSERVATIONS_009_034:dataset-oc-atl-opt-olci-l3-rrs620_300m_daily-rt\"], [\"North Atlantic Remote Sensing Reflectances, Attenuation Coefficient at 490nm, and inherent optical properties from Satellite observations\", \"EO:MO:DAT:OCEANCOLOUR_ATL_OPTICS_L3_NRT_OBSERVATIONS_009_034:dataset-oc-atl-opt-olci-l3-rrs560_300m_daily-rt\"], [\"North Atlantic Remote Sensing Reflectances, Attenuation Coefficient at 490nm, and inherent optical properties from Satellite observations\", \"EO:MO:DAT:OCEANCOLOUR_ATL_OPTICS_L3_NRT_OBSERVATIONS_009_034:dataset-oc-atl-opt-olci-l3-rrs510_300m_daily-rt\"], [\"North Atlantic Remote Sensing Reflectances, Attenuation Coefficient at 490nm, and inherent optical properties from Satellite observations\", \"EO:MO:DAT:OCEANCOLOUR_ATL_OPTICS_L3_NRT_OBSERVATIONS_009_034:dataset-oc-atl-opt-olci-l3-rrs490_300m_daily-rt\"], [\"North Atlantic Remote Sensing Reflectances, Attenuation Coefficient at 490nm, and inherent optical properties from Satellite observations\", \"EO:MO:DAT:OCEANCOLOUR_ATL_OPTICS_L3_NRT_OBSERVATIONS_009_034:dataset-oc-atl-opt-olci-l3-rrs443_300m_daily-rt\"], [\"North Atlantic Remote Sensing Reflectances, Attenuation Coefficient at 490nm, and inherent optical properties from Satellite observations\", \"EO:MO:DAT:OCEANCOLOUR_ATL_OPTICS_L3_NRT_OBSERVATIONS_009_034:dataset-oc-atl-opt-olci-l3-rrs412_300m_daily-rt\"], [\"North Atlantic Remote Sensing Reflectances, Attenuation Coefficient at 490nm, and inherent optical properties from Satellite observations\", \"EO:MO:DAT:OCEANCOLOUR_ATL_OPTICS_L3_NRT_OBSERVATIONS_009_034:dataset-oc-atl-opt-olci-l3-rrs400_300m_daily-rt\"], [\"North Atlantic Remote Sensing Reflectances, Attenuation Coefficient at 490nm, and inherent optical properties from Satellite observations\", \"EO:MO:DAT:OCEANCOLOUR_ATL_OPTICS_L3_NRT_OBSERVATIONS_009_034:dataset-oc-atl-opt-olci-l3-kd490_300m_daily-rt\"], [\"North Atlantic Remote Sensing Reflectances, Attenuation Coefficient at 490nm, and inherent optical properties from Satellite observations\", \"EO:MO:DAT:OCEANCOLOUR_ATL_OPTICS_L3_NRT_OBSERVATIONS_009_034:dataset-oc-atl-opt-olci_a-l3-rrs709_1km_daily-rt-v01\"], [\"North Atlantic Remote Sensing Reflectances, Attenuation Coefficient at 490nm, and inherent optical properties from Satellite observations\", \"EO:MO:DAT:OCEANCOLOUR_ATL_OPTICS_L3_NRT_OBSERVATIONS_009_034:dataset-oc-atl-opt-olci_a-l3-rrs681_1km_daily-rt-v01\"], [\"North Atlantic Remote Sensing Reflectances, Attenuation Coefficient at 490nm, and inherent optical properties from Satellite observations\", \"EO:MO:DAT:OCEANCOLOUR_ATL_OPTICS_L3_NRT_OBSERVATIONS_009_034:dataset-oc-atl-opt-olci_a-l3-rrs674_1km_daily-rt-v01\"], [\"North Atlantic Remote Sensing Reflectances, Attenuation Coefficient at 490nm, and inherent optical properties from Satellite observations\", \"EO:MO:DAT:OCEANCOLOUR_ATL_OPTICS_L3_NRT_OBSERVATIONS_009_034:dataset-oc-atl-opt-olci_a-l3-rrs665_1km_daily-rt-v01\"], [\"North Atlantic Remote Sensing Reflectances, Attenuation Coefficient at 490nm, and inherent optical properties from Satellite observations\", \"EO:MO:DAT:OCEANCOLOUR_ATL_OPTICS_L3_NRT_OBSERVATIONS_009_034:dataset-oc-atl-opt-olci_a-l3-rrs620_1km_daily-rt-v01\"], [\"North Atlantic Remote Sensing Reflectances, Attenuation Coefficient at 490nm, and inherent optical properties from Satellite observations\", \"EO:MO:DAT:OCEANCOLOUR_ATL_OPTICS_L3_NRT_OBSERVATIONS_009_034:dataset-oc-atl-opt-olci_a-l3-rrs560_1km_daily-rt-v01\"], [\"North Atlantic Remote Sensing Reflectances, Attenuation Coefficient at 490nm, and inherent optical properties from Satellite observations\", \"EO:MO:DAT:OCEANCOLOUR_ATL_OPTICS_L3_NRT_OBSERVATIONS_009_034:dataset-oc-atl-opt-olci_a-l3-rrs510_1km_daily-rt-v01\"], [\"North Atlantic Remote Sensing Reflectances, Attenuation Coefficient at 490nm, and inherent optical properties from Satellite observations\", \"EO:MO:DAT:OCEANCOLOUR_ATL_OPTICS_L3_NRT_OBSERVATIONS_009_034:dataset-oc-atl-opt-olci_a-l3-rrs490_1km_daily-rt-v01\"], [\"North Atlantic Remote Sensing Reflectances, Attenuation Coefficient at 490nm, and inherent optical properties from Satellite observations\", \"EO:MO:DAT:OCEANCOLOUR_ATL_OPTICS_L3_NRT_OBSERVATIONS_009_034:dataset-oc-atl-opt-olci_a-l3-rrs443_1km_daily-rt-v01\"], [\"North Atlantic Remote Sensing Reflectances, Attenuation Coefficient at 490nm, and inherent optical properties from Satellite observations\", \"EO:MO:DAT:OCEANCOLOUR_ATL_OPTICS_L3_NRT_OBSERVATIONS_009_034:dataset-oc-atl-opt-olci_a-l3-rrs412_1km_daily-rt-v01\"], [\"North Atlantic Remote Sensing Reflectances, Attenuation Coefficient at 490nm, and inherent optical properties from Satellite observations\", \"EO:MO:DAT:OCEANCOLOUR_ATL_OPTICS_L3_NRT_OBSERVATIONS_009_034:dataset-oc-atl-opt-olci_a-l3-rrs400_1km_daily-rt-v01\"], [\"North Atlantic Remote Sensing Reflectances, Attenuation Coefficient at 490nm, and inherent optical properties from Satellite observations\", \"EO:MO:DAT:OCEANCOLOUR_ATL_OPTICS_L3_NRT_OBSERVATIONS_009_034:dataset-oc-atl-opt-olci_a-l3-kd490_1km_daily-rt-v01\"], [\"North Atlantic Remote Sensing Reflectances, Attenuation Coefficient at 490nm, and inherent optical properties from Satellite observations\", \"EO:MO:DAT:OCEANCOLOUR_ATL_OPTICS_L3_NRT_OBSERVATIONS_009_034:dataset-oc-atl-opt-multi_cci-l3-spm_1km_daily-rt\"], [\"North Atlantic Remote Sensing Reflectances, Attenuation Coefficient at 490nm, and inherent optical properties from Satellite observations\", \"EO:MO:DAT:OCEANCOLOUR_ATL_OPTICS_L3_NRT_OBSERVATIONS_009_034:dataset-oc-atl-opt-multi_cci-l3-rrs665_1km_daily-rt-v02\"], [\"North Atlantic Remote Sensing Reflectances, Attenuation Coefficient at 490nm, and inherent optical properties from Satellite observations\", \"EO:MO:DAT:OCEANCOLOUR_ATL_OPTICS_L3_NRT_OBSERVATIONS_009_034:dataset-oc-atl-opt-multi_cci-l3-rrs560_1km_daily-rt-v02\"], [\"North Atlantic Remote Sensing Reflectances, Attenuation Coefficient at 490nm, and inherent optical properties from Satellite observations\", \"EO:MO:DAT:OCEANCOLOUR_ATL_OPTICS_L3_NRT_OBSERVATIONS_009_034:dataset-oc-atl-opt-multi_cci-l3-rrs510_1km_daily-rt-v02\"], [\"North Atlantic Remote Sensing Reflectances, Attenuation Coefficient at 490nm, and inherent optical properties from Satellite observations\", \"EO:MO:DAT:OCEANCOLOUR_ATL_OPTICS_L3_NRT_OBSERVATIONS_009_034:dataset-oc-atl-opt-multi_cci-l3-rrs490_1km_daily-rt-v02\"], [\"North Atlantic Remote Sensing Reflectances, Attenuation Coefficient at 490nm, and inherent optical properties from Satellite observations\", \"EO:MO:DAT:OCEANCOLOUR_ATL_OPTICS_L3_NRT_OBSERVATIONS_009_034:dataset-oc-atl-opt-multi_cci-l3-rrs443_1km_daily-rt-v02\"], [\"North Atlantic Remote Sensing Reflectances, Attenuation Coefficient at 490nm, and inherent optical properties from Satellite observations\", \"EO:MO:DAT:OCEANCOLOUR_ATL_OPTICS_L3_NRT_OBSERVATIONS_009_034:dataset-oc-atl-opt-multi_cci-l3-rrs412_1km_daily-rt-v02\"], [\"North Atlantic Remote Sensing Reflectances, Attenuation Coefficient at 490nm, and inherent optical properties from Satellite observations\", \"EO:MO:DAT:OCEANCOLOUR_ATL_OPTICS_L3_NRT_OBSERVATIONS_009_034:dataset-oc-atl-opt-multi_cci-l3-atot443_1km_daily-rt\"], [\"North Atlantic Remote Sensing Reflectances, Attenuation Coefficient at 490nm, and inherent optical properties from Satellite observations\", \"EO:MO:DAT:OCEANCOLOUR_ATL_OPTICS_L3_NRT_OBSERVATIONS_009_034:dataset-oc-atl-opt-multi_cci-l3-aph443_1km_daily-rt\"], [\"North Atlantic Remote Sensing Reflectances, Attenuation Coefficient at 490nm, and inherent optical properties from Satellite observations\", \"EO:MO:DAT:OCEANCOLOUR_ATL_OPTICS_L3_NRT_OBSERVATIONS_009_034:dataset-oc-atl-opt-multi_cci-l3-adg443_1km_daily-rt\"], [\"North Atlantic Chlorophyll (Copernicus-GlobColour) from Satellite Observations: Daily Interpolated (Reprocessed from 1997)\", \"EO:MO:DAT:OCEANCOLOUR_ATL_CHL_L4_REP_OBSERVATIONS_009_098:dataset-oc-atl-bio-multi-l4-chl_interpolated_1km_daily-rep\"], [\"North Altantic Chlorophyll Concentration from Satellite observations (daily average) Reprocessed L4 (ESA-CCI): monthly\", \"EO:MO:DAT:OCEANCOLOUR_ATL_CHL_L4_REP_OBSERVATIONS_009_091:dataset-oc-atl-chl-multi_cci-l4-chl_1km_monthly-rep-v02\"], [\"North Atlantic Surface Chlorophyll Concentration from Satellite observations: monthly\", \"EO:MO:DAT:OCEANCOLOUR_ATL_CHL_L4_NRT_OBSERVATIONS_009_090:dataset-oc-atl-chl-olci-l4-chl_300m_monthly-rt\"], [\"North Atlantic Surface Chlorophyll Concentration from Satellite observations: monthly\", \"EO:MO:DAT:OCEANCOLOUR_ATL_CHL_L4_NRT_OBSERVATIONS_009_090:dataset-oc-atl-chl-olci_a-l4-chl_1km_monthly-rt-v01\"], [\"North Atlantic Surface Chlorophyll Concentration from Satellite observations: monthly\", \"EO:MO:DAT:OCEANCOLOUR_ATL_CHL_L4_NRT_OBSERVATIONS_009_090:dataset-oc-atl-chl-multi_cci-l4-chl_1km_monthly-rt-v02\"], [\"North Atlantic Chlorophyll (Copernicus-GlobColour) from Satellite Observations: Daily Interpolated (Near Real Time)\", \"EO:MO:DAT:OCEANCOLOUR_ATL_CHL_L4_NRT_OBSERVATIONS_009_037:dataset-oc-atl-bio-multi-l4-chl_interpolated_1km_daily-rt\"], [\"North Altantic Chlorophyll Concentration from Satellite observations (daily average) Reprocessed L3 (ESA-CCI)\", \"EO:MO:DAT:OCEANCOLOUR_ATL_CHL_L3_REP_OBSERVATIONS_009_067:dataset-oc-atl-pft-multi_cci-l3-pft_1km_daily-rep\"], [\"North Altantic Chlorophyll Concentration from Satellite observations (daily average) Reprocessed L3 (ESA-CCI)\", \"EO:MO:DAT:OCEANCOLOUR_ATL_CHL_L3_REP_OBSERVATIONS_009_067:dataset-oc-atl-chl-multi_cci-l3-chl_1km_daily-rep-v02\"], [\"North Atlantic Surface Chlorophyll Concentration from Satellite observations\", \"EO:MO:DAT:OCEANCOLOUR_ATL_CHL_L3_NRT_OBSERVATIONS_009_036:dataset-oc-atl-chl-olci-l3-chl_300m_daily-rt\"], [\"North Atlantic Surface Chlorophyll Concentration from Satellite observations\", \"EO:MO:DAT:OCEANCOLOUR_ATL_CHL_L3_NRT_OBSERVATIONS_009_036:dataset-oc-atl-chl-olci_a-l3-chl_1km_daily-rt-v01\"], [\"North Atlantic Surface Chlorophyll Concentration from Satellite observations\", \"EO:MO:DAT:OCEANCOLOUR_ATL_CHL_L3_NRT_OBSERVATIONS_009_036:dataset-oc-atl-chl-multi_cci-l3-chl_1km_daily-rt-v02\"], [\"Arctic Attenuation Coefficient at 490nm: monthly\", \"EO:MO:DAT:OCEANCOLOUR_ARC_OPTICS_L4_NRT_OBSERVATIONS_009_089:dataset-oc-arc-opt-olci-l4-kd490_300m_monthly-rt\"], [\"Arctic Attenuation Coefficient at 490nm: monthly\", \"EO:MO:DAT:OCEANCOLOUR_ARC_OPTICS_L4_NRT_OBSERVATIONS_009_089:dataset-oc-arc-opt-olci_a-l4-kd490_1km_monthly-rt-v01\"], [\"Arctic Ocean, Ocean Optics Products (daily average) Reprocessed L3 (ESA-CCI)\", \"EO:MO:DAT:OCEANCOLOUR_ARC_OPTICS_L3_REP_OBSERVATIONS_009_068:dataset-oc-arc-opt-multi_cci-l3-spm_1km_daily-rep\"], [\"Arctic Ocean, Ocean Optics Products (daily average) Reprocessed L3 (ESA-CCI)\", \"EO:MO:DAT:OCEANCOLOUR_ARC_OPTICS_L3_REP_OBSERVATIONS_009_068:dataset-oc-arc-opt-multi_cci-l3-rrs665_1km_daily-rep-v02\"], [\"Arctic Ocean, Ocean Optics Products (daily average) Reprocessed L3 (ESA-CCI)\", \"EO:MO:DAT:OCEANCOLOUR_ARC_OPTICS_L3_REP_OBSERVATIONS_009_068:dataset-oc-arc-opt-multi_cci-l3-rrs560_1km_daily-rep-v02\"], [\"Arctic Ocean, Ocean Optics Products (daily average) Reprocessed L3 (ESA-CCI)\", \"EO:MO:DAT:OCEANCOLOUR_ARC_OPTICS_L3_REP_OBSERVATIONS_009_068:dataset-oc-arc-opt-multi_cci-l3-rrs510_1km_daily-rep-v02\"], [\"Arctic Ocean, Ocean Optics Products (daily average) Reprocessed L3 (ESA-CCI)\", \"EO:MO:DAT:OCEANCOLOUR_ARC_OPTICS_L3_REP_OBSERVATIONS_009_068:dataset-oc-arc-opt-multi_cci-l3-rrs490_1km_daily-rep-v02\"], [\"Arctic Ocean, Ocean Optics Products (daily average) Reprocessed L3 (ESA-CCI)\", \"EO:MO:DAT:OCEANCOLOUR_ARC_OPTICS_L3_REP_OBSERVATIONS_009_068:dataset-oc-arc-opt-multi_cci-l3-rrs443_1km_daily-rep-v02\"], [\"Arctic Ocean, Ocean Optics Products (daily average) Reprocessed L3 (ESA-CCI)\", \"EO:MO:DAT:OCEANCOLOUR_ARC_OPTICS_L3_REP_OBSERVATIONS_009_068:dataset-oc-arc-opt-multi_cci-l3-rrs412_1km_daily-rep-v02\"], [\"Arctic Ocean, Ocean Optics Products (daily average) Reprocessed L3 (ESA-CCI)\", \"EO:MO:DAT:OCEANCOLOUR_ARC_OPTICS_L3_REP_OBSERVATIONS_009_068:dataset-oc-arc-opt-multi_cci-l3-atot443_1km_daily-rep\"], [\"Arctic Ocean, Ocean Optics Products (daily average) Reprocessed L3 (ESA-CCI)\", \"EO:MO:DAT:OCEANCOLOUR_ARC_OPTICS_L3_REP_OBSERVATIONS_009_068:dataset-oc-arc-opt-multi_cci-l3-aph443_1km_daily-rep\"], [\"Arctic Ocean, Ocean Optics Products (daily average) Reprocessed L3 (ESA-CCI)\", \"EO:MO:DAT:OCEANCOLOUR_ARC_OPTICS_L3_REP_OBSERVATIONS_009_068:dataset-oc-arc-opt-multi_cci-l3-adg443_1km_daily-rep\"], [\"Arctic Remote Sensing Reflectances, Attenuation Coefficient at 490nm, and inherent optical properties from Satellite observations\", \"EO:MO:DAT:OCEANCOLOUR_ARC_OPTICS_L3_NRT_OBSERVATIONS_009_046:dataset-oc-arc-opt-olci-l3-rrs709_300m_daily-rt\"], [\"Arctic Remote Sensing Reflectances, Attenuation Coefficient at 490nm, and inherent optical properties from Satellite observations\", \"EO:MO:DAT:OCEANCOLOUR_ARC_OPTICS_L3_NRT_OBSERVATIONS_009_046:dataset-oc-arc-opt-olci-l3-rrs681_300m_daily-rt\"], [\"Arctic Remote Sensing Reflectances, Attenuation Coefficient at 490nm, and inherent optical properties from Satellite observations\", \"EO:MO:DAT:OCEANCOLOUR_ARC_OPTICS_L3_NRT_OBSERVATIONS_009_046:dataset-oc-arc-opt-olci-l3-rrs674_300m_daily-rt\"], [\"Arctic Remote Sensing Reflectances, Attenuation Coefficient at 490nm, and inherent optical properties from Satellite observations\", \"EO:MO:DAT:OCEANCOLOUR_ARC_OPTICS_L3_NRT_OBSERVATIONS_009_046:dataset-oc-arc-opt-olci-l3-rrs665_300m_daily-rt\"], [\"Arctic Remote Sensing Reflectances, Attenuation Coefficient at 490nm, and inherent optical properties from Satellite observations\", \"EO:MO:DAT:OCEANCOLOUR_ARC_OPTICS_L3_NRT_OBSERVATIONS_009_046:dataset-oc-arc-opt-olci-l3-rrs620_300m_daily-rt\"], [\"Arctic Remote Sensing Reflectances, Attenuation Coefficient at 490nm, and inherent optical properties from Satellite observations\", \"EO:MO:DAT:OCEANCOLOUR_ARC_OPTICS_L3_NRT_OBSERVATIONS_009_046:dataset-oc-arc-opt-olci-l3-rrs560_300m_daily-rt\"], [\"Arctic Remote Sensing Reflectances, Attenuation Coefficient at 490nm, and inherent optical properties from Satellite observations\", \"EO:MO:DAT:OCEANCOLOUR_ARC_OPTICS_L3_NRT_OBSERVATIONS_009_046:dataset-oc-arc-opt-olci-l3-rrs510_300m_daily-rt\"], [\"Arctic Remote Sensing Reflectances, Attenuation Coefficient at 490nm, and inherent optical properties from Satellite observations\", \"EO:MO:DAT:OCEANCOLOUR_ARC_OPTICS_L3_NRT_OBSERVATIONS_009_046:dataset-oc-arc-opt-olci-l3-rrs490_300m_daily-rt\"], [\"Arctic Remote Sensing Reflectances, Attenuation Coefficient at 490nm, and inherent optical properties from Satellite observations\", \"EO:MO:DAT:OCEANCOLOUR_ARC_OPTICS_L3_NRT_OBSERVATIONS_009_046:dataset-oc-arc-opt-olci-l3-rrs443_300m_daily-rt\"], [\"Arctic Remote Sensing Reflectances, Attenuation Coefficient at 490nm, and inherent optical properties from Satellite observations\", \"EO:MO:DAT:OCEANCOLOUR_ARC_OPTICS_L3_NRT_OBSERVATIONS_009_046:dataset-oc-arc-opt-olci-l3-rrs412_300m_daily-rt\"], [\"Arctic Remote Sensing Reflectances, Attenuation Coefficient at 490nm, and inherent optical properties from Satellite observations\", \"EO:MO:DAT:OCEANCOLOUR_ARC_OPTICS_L3_NRT_OBSERVATIONS_009_046:dataset-oc-arc-opt-olci-l3-rrs400_300m_daily-rt\"], [\"Arctic Remote Sensing Reflectances, Attenuation Coefficient at 490nm, and inherent optical properties from Satellite observations\", \"EO:MO:DAT:OCEANCOLOUR_ARC_OPTICS_L3_NRT_OBSERVATIONS_009_046:dataset-oc-arc-opt-olci-l3-kd490_300m_daily-rt\"], [\"Arctic Remote Sensing Reflectances, Attenuation Coefficient at 490nm, and inherent optical properties from Satellite observations\", \"EO:MO:DAT:OCEANCOLOUR_ARC_OPTICS_L3_NRT_OBSERVATIONS_009_046:dataset-oc-arc-opt-olci_a-l3-rrs709_1km_daily-rt-v01\"], [\"Arctic Remote Sensing Reflectances, Attenuation Coefficient at 490nm, and inherent optical properties from Satellite observations\", \"EO:MO:DAT:OCEANCOLOUR_ARC_OPTICS_L3_NRT_OBSERVATIONS_009_046:dataset-oc-arc-opt-olci_a-l3-rrs681_1km_daily-rt-v01\"], [\"Arctic Remote Sensing Reflectances, Attenuation Coefficient at 490nm, and inherent optical properties from Satellite observations\", \"EO:MO:DAT:OCEANCOLOUR_ARC_OPTICS_L3_NRT_OBSERVATIONS_009_046:dataset-oc-arc-opt-olci_a-l3-rrs674_1km_daily-rt-v01\"], [\"Arctic Remote Sensing Reflectances, Attenuation Coefficient at 490nm, and inherent optical properties from Satellite observations\", \"EO:MO:DAT:OCEANCOLOUR_ARC_OPTICS_L3_NRT_OBSERVATIONS_009_046:dataset-oc-arc-opt-olci_a-l3-rrs665_1km_daily-rt-v01\"], [\"Arctic Remote Sensing Reflectances, Attenuation Coefficient at 490nm, and inherent optical properties from Satellite observations\", \"EO:MO:DAT:OCEANCOLOUR_ARC_OPTICS_L3_NRT_OBSERVATIONS_009_046:dataset-oc-arc-opt-olci_a-l3-rrs620_1km_daily-rt-v01\"], [\"Arctic Remote Sensing Reflectances, Attenuation Coefficient at 490nm, and inherent optical properties from Satellite observations\", \"EO:MO:DAT:OCEANCOLOUR_ARC_OPTICS_L3_NRT_OBSERVATIONS_009_046:dataset-oc-arc-opt-olci_a-l3-rrs560_1km_daily-rt-v01\"], [\"Arctic Remote Sensing Reflectances, Attenuation Coefficient at 490nm, and inherent optical properties from Satellite observations\", \"EO:MO:DAT:OCEANCOLOUR_ARC_OPTICS_L3_NRT_OBSERVATIONS_009_046:dataset-oc-arc-opt-olci_a-l3-rrs510_1km_daily-rt-v01\"], [\"Arctic Remote Sensing Reflectances, Attenuation Coefficient at 490nm, and inherent optical properties from Satellite observations\", \"EO:MO:DAT:OCEANCOLOUR_ARC_OPTICS_L3_NRT_OBSERVATIONS_009_046:dataset-oc-arc-opt-olci_a-l3-rrs490_1km_daily-rt-v01\"], [\"Arctic Remote Sensing Reflectances, Attenuation Coefficient at 490nm, and inherent optical properties from Satellite observations\", \"EO:MO:DAT:OCEANCOLOUR_ARC_OPTICS_L3_NRT_OBSERVATIONS_009_046:dataset-oc-arc-opt-olci_a-l3-rrs443_1km_daily-rt-v01\"], [\"Arctic Remote Sensing Reflectances, Attenuation Coefficient at 490nm, and inherent optical properties from Satellite observations\", \"EO:MO:DAT:OCEANCOLOUR_ARC_OPTICS_L3_NRT_OBSERVATIONS_009_046:dataset-oc-arc-opt-olci_a-l3-rrs412_1km_daily-rt-v01\"], [\"Arctic Remote Sensing Reflectances, Attenuation Coefficient at 490nm, and inherent optical properties from Satellite observations\", \"EO:MO:DAT:OCEANCOLOUR_ARC_OPTICS_L3_NRT_OBSERVATIONS_009_046:dataset-oc-arc-opt-olci_a-l3-rrs400_1km_daily-rt-v01\"], [\"Arctic Remote Sensing Reflectances, Attenuation Coefficient at 490nm, and inherent optical properties from Satellite observations\", \"EO:MO:DAT:OCEANCOLOUR_ARC_OPTICS_L3_NRT_OBSERVATIONS_009_046:dataset-oc-arc-opt-olci_a-l3-kd490_1km_daily-rt-v01\"], [\"Arctic Remote Sensing Reflectances, Attenuation Coefficient at 490nm, and inherent optical properties from Satellite observations\", \"EO:MO:DAT:OCEANCOLOUR_ARC_OPTICS_L3_NRT_OBSERVATIONS_009_046:dataset-oc-arc-opt-multi_cci-l3-spm_1km_daily-rt\"], [\"Arctic Remote Sensing Reflectances, Attenuation Coefficient at 490nm, and inherent optical properties from Satellite observations\", \"EO:MO:DAT:OCEANCOLOUR_ARC_OPTICS_L3_NRT_OBSERVATIONS_009_046:dataset-oc-arc-opt-multi_cci-l3-rrs665_1km_daily-rt-v02\"], [\"Arctic Remote Sensing Reflectances, Attenuation Coefficient at 490nm, and inherent optical properties from Satellite observations\", \"EO:MO:DAT:OCEANCOLOUR_ARC_OPTICS_L3_NRT_OBSERVATIONS_009_046:dataset-oc-arc-opt-multi_cci-l3-rrs560_1km_daily-rt-v02\"], [\"Arctic Remote Sensing Reflectances, Attenuation Coefficient at 490nm, and inherent optical properties from Satellite observations\", \"EO:MO:DAT:OCEANCOLOUR_ARC_OPTICS_L3_NRT_OBSERVATIONS_009_046:dataset-oc-arc-opt-multi_cci-l3-rrs510_1km_daily-rt-v02\"], [\"Arctic Remote Sensing Reflectances, Attenuation Coefficient at 490nm, and inherent optical properties from Satellite observations\", \"EO:MO:DAT:OCEANCOLOUR_ARC_OPTICS_L3_NRT_OBSERVATIONS_009_046:dataset-oc-arc-opt-multi_cci-l3-rrs490_1km_daily-rt-v02\"], [\"Arctic Remote Sensing Reflectances, Attenuation Coefficient at 490nm, and inherent optical properties from Satellite observations\", \"EO:MO:DAT:OCEANCOLOUR_ARC_OPTICS_L3_NRT_OBSERVATIONS_009_046:dataset-oc-arc-opt-multi_cci-l3-rrs443_1km_daily-rt-v02\"], [\"Arctic Remote Sensing Reflectances, Attenuation Coefficient at 490nm, and inherent optical properties from Satellite observations\", \"EO:MO:DAT:OCEANCOLOUR_ARC_OPTICS_L3_NRT_OBSERVATIONS_009_046:dataset-oc-arc-opt-multi_cci-l3-rrs412_1km_daily-rt-v02\"], [\"Arctic Remote Sensing Reflectances, Attenuation Coefficient at 490nm, and inherent optical properties from Satellite observations\", \"EO:MO:DAT:OCEANCOLOUR_ARC_OPTICS_L3_NRT_OBSERVATIONS_009_046:dataset-oc-arc-opt-multi_cci-l3-atot443_1km_daily-rt\"], [\"Arctic Remote Sensing Reflectances, Attenuation Coefficient at 490nm, and inherent optical properties from Satellite observations\", \"EO:MO:DAT:OCEANCOLOUR_ARC_OPTICS_L3_NRT_OBSERVATIONS_009_046:dataset-oc-arc-opt-multi_cci-l3-aph443_1km_daily-rt\"], [\"Arctic Remote Sensing Reflectances, Attenuation Coefficient at 490nm, and inherent optical properties from Satellite observations\", \"EO:MO:DAT:OCEANCOLOUR_ARC_OPTICS_L3_NRT_OBSERVATIONS_009_046:dataset-oc-arc-opt-multi_cci-l3-adg443_1km_daily-rt\"], [\"Arctic Chlorophyll Concentration from Satellite observations (monthly average) Reprocessed L4 (ESA-CCI)\", \"EO:MO:DAT:OCEANCOLOUR_ARC_CHL_L4_REP_OBSERVATIONS_009_088:dataset-oc-arc-chl-multi_cci-l4-chl_1km_monthly-rep-v02\"], [\"Arctic Surface Chlorophyll Concentration from Satellite observations: monthly\", \"EO:MO:DAT:OCEANCOLOUR_ARC_CHL_L4_NRT_OBSERVATIONS_009_087:dataset-oc-arc-chl-olci-l4-chl_300m_monthly-rt\"], [\"Arctic Surface Chlorophyll Concentration from Satellite observations: monthly\", \"EO:MO:DAT:OCEANCOLOUR_ARC_CHL_L4_NRT_OBSERVATIONS_009_087:dataset-oc-arc-chl-olci_a-l4-chl_1km_monthly-rt-v01\"], [\"Arctic Surface Chlorophyll Concentration from Satellite observations: monthly\", \"EO:MO:DAT:OCEANCOLOUR_ARC_CHL_L4_NRT_OBSERVATIONS_009_087:dataset-oc-arc-chl-multi_cci-l4-chl_1km_monthly-rt-v02\"], [\"Arctic Chlorophyll Concentration from Satellite observations (daily average) Reprocessed L3 (ESA-CCI)\", \"EO:MO:DAT:OCEANCOLOUR_ARC_CHL_L3_REP_OBSERVATIONS_009_069:dataset-oc-arc-chl-multi_cci-l3-pft_1km_daily-rep\"], [\"Arctic Chlorophyll Concentration from Satellite observations (daily average) Reprocessed L3 (ESA-CCI)\", \"EO:MO:DAT:OCEANCOLOUR_ARC_CHL_L3_REP_OBSERVATIONS_009_069:dataset-oc-arc-chl-multi_cci-l3-chl_1km_daily-rep-v02\"], [\"Arctic Surface Chlorophyll Concentration from Satellite observations\", \"EO:MO:DAT:OCEANCOLOUR_ARC_CHL_L3_NRT_OBSERVATIONS_009_047:dataset-oc-arc-chl-olci-l3-chl_300m_daily-rt\"], [\"Arctic Surface Chlorophyll Concentration from Satellite observations\", \"EO:MO:DAT:OCEANCOLOUR_ARC_CHL_L3_NRT_OBSERVATIONS_009_047:dataset-oc-arc-chl-olci_a-l3-chl_1km_daily-rt-v01\"], [\"Arctic Surface Chlorophyll Concentration from Satellite observations\", \"EO:MO:DAT:OCEANCOLOUR_ARC_CHL_L3_NRT_OBSERVATIONS_009_047:dataset-oc-arc-chl-multi_cci-l3-chl_1km_daily-rt-v02\"], [\"Arctic Region, Bio-Geo-Chemical, L4, monthly means and interpolated daily observation\", \"EO:MO:DAT:OCEANCOLOUR_ARC_BGC_HR_L4_NRT_009_207:cmems_obs_oc_arc_bgc_transp_nrt_l4-hr_P1M-m\"], [\"Arctic Region, Bio-Geo-Chemical, L4, monthly means and interpolated daily observation\", \"EO:MO:DAT:OCEANCOLOUR_ARC_BGC_HR_L4_NRT_009_207:cmems_obs_oc_arc_bgc_transp_nrt_l4-hr_P1D-m\"], [\"Arctic Region, Bio-Geo-Chemical, L4, monthly means and interpolated daily observation\", \"EO:MO:DAT:OCEANCOLOUR_ARC_BGC_HR_L4_NRT_009_207:cmems_obs_oc_arc_bgc_optics_nrt_l4-hr_P1M-m\"], [\"Arctic Region, Bio-Geo-Chemical, L4, monthly means and interpolated daily observation\", \"EO:MO:DAT:OCEANCOLOUR_ARC_BGC_HR_L4_NRT_009_207:cmems_obs_oc_arc_bgc_optics_nrt_l4-hr_P1D-m\"], [\"Arctic Region, Bio-Geo-Chemical, L4, monthly means and interpolated daily observation\", \"EO:MO:DAT:OCEANCOLOUR_ARC_BGC_HR_L4_NRT_009_207:cmems_obs_oc_arc_bgc_geophy_nrt_l4-hr_P1M-m\"], [\"Arctic Region, Bio-Geo-Chemical, L4, monthly means and interpolated daily observation\", \"EO:MO:DAT:OCEANCOLOUR_ARC_BGC_HR_L4_NRT_009_207:cmems_obs_oc_arc_bgc_geophy_nrt_l4-hr_P1D-m\"], [\"Arctic Region, Bio-Geo-Chemical, L3, daily observation\", \"EO:MO:DAT:OCEANCOLOUR_ARC_BGC_HR_L3_NRT_009_201:cmems_obs_oc_arc_bgc_transp_nrt_l3-hr_P1D-m\"], [\"Arctic Region, Bio-Geo-Chemical, L3, daily observation\", \"EO:MO:DAT:OCEANCOLOUR_ARC_BGC_HR_L3_NRT_009_201:cmems_obs_oc_arc_bgc_optics_nrt_l3-hr_P1D-m\"], [\"Arctic Region, Bio-Geo-Chemical, L3, daily observation\", \"EO:MO:DAT:OCEANCOLOUR_ARC_BGC_HR_L3_NRT_009_201:cmems_obs_oc_arc_bgc_geophy_nrt_l3-hr_P1D-m\"], [\"Atlantic- European North West Shelf- Ocean Biogeochemistry Reanalysis\", \"EO:MO:DAT:NWSHELF_REANALYSIS_WAV_004_015:MetO-NWS-WAV-RAN\"], [\"Atlantic- European North West Shelf- Ocean Physics Reanalysis\", \"EO:MO:DAT:NWSHELF_MULTIYEAR_PHY_004_009:cmems_mod_nws_phy-uv_myint_7km-3D_P1M-m\"], [\"Atlantic- European North West Shelf- Ocean Physics Reanalysis\", \"EO:MO:DAT:NWSHELF_MULTIYEAR_PHY_004_009:cmems_mod_nws_phy-uv_my_7km-3D_P1M-m\"], [\"Atlantic- European North West Shelf- Ocean Physics Reanalysis\", \"EO:MO:DAT:NWSHELF_MULTIYEAR_PHY_004_009:cmems_mod_nws_phy-uv_my_7km-3D_P1D-m\"], [\"Atlantic- European North West Shelf- Ocean Physics Reanalysis\", \"EO:MO:DAT:NWSHELF_MULTIYEAR_PHY_004_009:cmems_mod_nws_phy-t_myint_7km-3D_P1M-m\"], [\"Atlantic- European North West Shelf- Ocean Physics Reanalysis\", \"EO:MO:DAT:NWSHELF_MULTIYEAR_PHY_004_009:cmems_mod_nws_phy-t_my_7km-3D_P1M-m\"], [\"Atlantic- European North West Shelf- Ocean Physics Reanalysis\", \"EO:MO:DAT:NWSHELF_MULTIYEAR_PHY_004_009:cmems_mod_nws_phy-t_my_7km-3D_P1D-m\"], [\"Atlantic- European North West Shelf- Ocean Physics Reanalysis\", \"EO:MO:DAT:NWSHELF_MULTIYEAR_PHY_004_009:cmems_mod_nws_phy-ssh_myint_7km-2D_P1M-m\"], [\"Atlantic- European North West Shelf- Ocean Physics Reanalysis\", \"EO:MO:DAT:NWSHELF_MULTIYEAR_PHY_004_009:cmems_mod_nws_phy-ssh_my_7km-2D_P1M-m\"], [\"Atlantic- European North West Shelf- Ocean Physics Reanalysis\", \"EO:MO:DAT:NWSHELF_MULTIYEAR_PHY_004_009:cmems_mod_nws_phy-ssh_my_7km-2D_P1D-m\"], [\"Atlantic- European North West Shelf- Ocean Physics Reanalysis\", \"EO:MO:DAT:NWSHELF_MULTIYEAR_PHY_004_009:cmems_mod_nws_phy-s_myint_7km-3D_P1M-m\"], [\"Atlantic- European North West Shelf- Ocean Physics Reanalysis\", \"EO:MO:DAT:NWSHELF_MULTIYEAR_PHY_004_009:cmems_mod_nws_phy-s_my_7km-3D_P1M-m\"], [\"Atlantic- European North West Shelf- Ocean Physics Reanalysis\", \"EO:MO:DAT:NWSHELF_MULTIYEAR_PHY_004_009:cmems_mod_nws_phy-s_my_7km-3D_P1D-m\"], [\"Atlantic- European North West Shelf- Ocean Physics Reanalysis\", \"EO:MO:DAT:NWSHELF_MULTIYEAR_PHY_004_009:cmems_mod_nws_phy-mld_myint_7km-2D_P1M-m\"], [\"Atlantic- European North West Shelf- Ocean Physics Reanalysis\", \"EO:MO:DAT:NWSHELF_MULTIYEAR_PHY_004_009:cmems_mod_nws_phy-mld_my_7km-2D_P1M-m\"], [\"Atlantic- European North West Shelf- Ocean Physics Reanalysis\", \"EO:MO:DAT:NWSHELF_MULTIYEAR_PHY_004_009:cmems_mod_nws_phy-mld_my_7km-2D_P1D-m\"], [\"Atlantic- European North West Shelf- Ocean Physics Reanalysis\", \"EO:MO:DAT:NWSHELF_MULTIYEAR_PHY_004_009:cmems_mod_nws_phy-bottomt_myint_7km-2D_P1M-m\"], [\"Atlantic- European North West Shelf- Ocean Physics Reanalysis\", \"EO:MO:DAT:NWSHELF_MULTIYEAR_PHY_004_009:cmems_mod_nws_phy-bottomt_my_7km-2D_P1M-m\"], [\"Atlantic- European North West Shelf- Ocean Physics Reanalysis\", \"EO:MO:DAT:NWSHELF_MULTIYEAR_PHY_004_009:cmems_mod_nws_phy-bottomt_my_7km-2D_P1D-m\"], [\"Atlantic- European North West Shelf- Ocean Biogeochemistry Reanalysis\", \"EO:MO:DAT:NWSHELF_MULTIYEAR_BGC_004_011:cmems_mod_nws_bgc-spco2_myint_7km-2D_P1M-m\"], [\"Atlantic- European North West Shelf- Ocean Biogeochemistry Reanalysis\", \"EO:MO:DAT:NWSHELF_MULTIYEAR_BGC_004_011:cmems_mod_nws_bgc-spco2_my_7km-2D_P1M-m\"], [\"Atlantic- European North West Shelf- Ocean Biogeochemistry Reanalysis\", \"EO:MO:DAT:NWSHELF_MULTIYEAR_BGC_004_011:cmems_mod_nws_bgc-spco2_my_7km-2D_P1D-m\"], [\"Atlantic- European North West Shelf- Ocean Biogeochemistry Reanalysis\", \"EO:MO:DAT:NWSHELF_MULTIYEAR_BGC_004_011:cmems_mod_nws_bgc-pp_myint_7km-3D_P1M-m\"], [\"Atlantic- European North West Shelf- Ocean Biogeochemistry Reanalysis\", \"EO:MO:DAT:NWSHELF_MULTIYEAR_BGC_004_011:cmems_mod_nws_bgc-pp_my_7km-3D_P1M-m\"], [\"Atlantic- European North West Shelf- Ocean Biogeochemistry Reanalysis\", \"EO:MO:DAT:NWSHELF_MULTIYEAR_BGC_004_011:cmems_mod_nws_bgc-pp_my_7km-3D_P1D-m\"], [\"Atlantic- European North West Shelf- Ocean Biogeochemistry Reanalysis\", \"EO:MO:DAT:NWSHELF_MULTIYEAR_BGC_004_011:cmems_mod_nws_bgc-po4_myint_7km-3D_P1M-m\"], [\"Atlantic- European North West Shelf- Ocean Biogeochemistry Reanalysis\", \"EO:MO:DAT:NWSHELF_MULTIYEAR_BGC_004_011:cmems_mod_nws_bgc-po4_my_7km-3D_P1M-m\"], [\"Atlantic- European North West Shelf- Ocean Biogeochemistry Reanalysis\", \"EO:MO:DAT:NWSHELF_MULTIYEAR_BGC_004_011:cmems_mod_nws_bgc-po4_my_7km-3D_P1D-m\"], [\"Atlantic- European North West Shelf- Ocean Biogeochemistry Reanalysis\", \"EO:MO:DAT:NWSHELF_MULTIYEAR_BGC_004_011:cmems_mod_nws_bgc-phyc_myint_7km-3D_P1M-m\"], [\"Atlantic- European North West Shelf- Ocean Biogeochemistry Reanalysis\", \"EO:MO:DAT:NWSHELF_MULTIYEAR_BGC_004_011:cmems_mod_nws_bgc-phyc_my_7km-3D_P1M-m\"], [\"Atlantic- European North West Shelf- Ocean Biogeochemistry Reanalysis\", \"EO:MO:DAT:NWSHELF_MULTIYEAR_BGC_004_011:cmems_mod_nws_bgc-phyc_my_7km-3D_P1D-m\"], [\"Atlantic- European North West Shelf- Ocean Biogeochemistry Reanalysis\", \"EO:MO:DAT:NWSHELF_MULTIYEAR_BGC_004_011:cmems_mod_nws_bgc-ph_myint_7km-3D_P1M-m\"], [\"Atlantic- European North West Shelf- Ocean Biogeochemistry Reanalysis\", \"EO:MO:DAT:NWSHELF_MULTIYEAR_BGC_004_011:cmems_mod_nws_bgc-ph_my_7km-3D_P1M-m\"], [\"Atlantic- European North West Shelf- Ocean Biogeochemistry Reanalysis\", \"EO:MO:DAT:NWSHELF_MULTIYEAR_BGC_004_011:cmems_mod_nws_bgc-ph_my_7km-3D_P1D-m\"], [\"Atlantic- European North West Shelf- Ocean Biogeochemistry Reanalysis\", \"EO:MO:DAT:NWSHELF_MULTIYEAR_BGC_004_011:cmems_mod_nws_bgc-pft_myint_7km-3D-pico_P1M-m\"], [\"Atlantic- European North West Shelf- Ocean Biogeochemistry Reanalysis\", \"EO:MO:DAT:NWSHELF_MULTIYEAR_BGC_004_011:cmems_mod_nws_bgc-pft_myint_7km-3D-nano_P1M-m\"], [\"Atlantic- European North West Shelf- Ocean Biogeochemistry Reanalysis\", \"EO:MO:DAT:NWSHELF_MULTIYEAR_BGC_004_011:cmems_mod_nws_bgc-pft_myint_7km-3D-dino_P1M-m\"], [\"Atlantic- European North West Shelf- Ocean Biogeochemistry Reanalysis\", \"EO:MO:DAT:NWSHELF_MULTIYEAR_BGC_004_011:cmems_mod_nws_bgc-pft_myint_7km-3D-diato_P1M-m\"], [\"Atlantic- European North West Shelf- Ocean Biogeochemistry Reanalysis\", \"EO:MO:DAT:NWSHELF_MULTIYEAR_BGC_004_011:cmems_mod_nws_bgc-pft_my_7km-3D-pico_P1M-m\"], [\"Atlantic- European North West Shelf- Ocean Biogeochemistry Reanalysis\", \"EO:MO:DAT:NWSHELF_MULTIYEAR_BGC_004_011:cmems_mod_nws_bgc-pft_my_7km-3D-pico_P1D-m\"], [\"Atlantic- European North West Shelf- Ocean Biogeochemistry Reanalysis\", \"EO:MO:DAT:NWSHELF_MULTIYEAR_BGC_004_011:cmems_mod_nws_bgc-pft_my_7km-3D-nano_P1M-m\"], [\"Atlantic- European North West Shelf- Ocean Biogeochemistry Reanalysis\", \"EO:MO:DAT:NWSHELF_MULTIYEAR_BGC_004_011:cmems_mod_nws_bgc-pft_my_7km-3D-nano_P1D-m\"], [\"Atlantic- European North West Shelf- Ocean Biogeochemistry Reanalysis\", \"EO:MO:DAT:NWSHELF_MULTIYEAR_BGC_004_011:cmems_mod_nws_bgc-pft_my_7km-3D-dino_P1M-m\"], [\"Atlantic- European North West Shelf- Ocean Biogeochemistry Reanalysis\", \"EO:MO:DAT:NWSHELF_MULTIYEAR_BGC_004_011:cmems_mod_nws_bgc-pft_my_7km-3D-dino_P1D-m\"], [\"Atlantic- European North West Shelf- Ocean Biogeochemistry Reanalysis\", \"EO:MO:DAT:NWSHELF_MULTIYEAR_BGC_004_011:cmems_mod_nws_bgc-pft_my_7km-3D-diato_P1M-m\"], [\"Atlantic- European North West Shelf- Ocean Biogeochemistry Reanalysis\", \"EO:MO:DAT:NWSHELF_MULTIYEAR_BGC_004_011:cmems_mod_nws_bgc-pft_my_7km-3D-diato_P1D-m\"], [\"Atlantic- European North West Shelf- Ocean Biogeochemistry Reanalysis\", \"EO:MO:DAT:NWSHELF_MULTIYEAR_BGC_004_011:cmems_mod_nws_bgc-o2_myint_7km-3D_P1M-m\"], [\"Atlantic- European North West Shelf- Ocean Biogeochemistry Reanalysis\", \"EO:MO:DAT:NWSHELF_MULTIYEAR_BGC_004_011:cmems_mod_nws_bgc-o2_my_7km-3D_P1M-m\"], [\"Atlantic- European North West Shelf- Ocean Biogeochemistry Reanalysis\", \"EO:MO:DAT:NWSHELF_MULTIYEAR_BGC_004_011:cmems_mod_nws_bgc-o2_my_7km-3D_P1D-m\"], [\"Atlantic- European North West Shelf- Ocean Biogeochemistry Reanalysis\", \"EO:MO:DAT:NWSHELF_MULTIYEAR_BGC_004_011:cmems_mod_nws_bgc-no3_myint_7km-3D_P1M-m\"], [\"Atlantic- European North West Shelf- Ocean Biogeochemistry Reanalysis\", \"EO:MO:DAT:NWSHELF_MULTIYEAR_BGC_004_011:cmems_mod_nws_bgc-no3_my_7km-3D_P1M-m\"], [\"Atlantic- European North West Shelf- Ocean Biogeochemistry Reanalysis\", \"EO:MO:DAT:NWSHELF_MULTIYEAR_BGC_004_011:cmems_mod_nws_bgc-no3_my_7km-3D_P1D-m\"], [\"Atlantic- European North West Shelf- Ocean Biogeochemistry Reanalysis\", \"EO:MO:DAT:NWSHELF_MULTIYEAR_BGC_004_011:cmems_mod_nws_bgc-kd_myint_7km-3D_P1M-m\"], [\"Atlantic- European North West Shelf- Ocean Biogeochemistry Reanalysis\", \"EO:MO:DAT:NWSHELF_MULTIYEAR_BGC_004_011:cmems_mod_nws_bgc-kd_my_7km-3D_P1M-m\"], [\"Atlantic- European North West Shelf- Ocean Biogeochemistry Reanalysis\", \"EO:MO:DAT:NWSHELF_MULTIYEAR_BGC_004_011:cmems_mod_nws_bgc-kd_my_7km-3D_P1D-m\"], [\"Atlantic- European North West Shelf- Ocean Biogeochemistry Reanalysis\", \"EO:MO:DAT:NWSHELF_MULTIYEAR_BGC_004_011:cmems_mod_nws_bgc-chl_myint_7km-3D_P1M-m\"], [\"Atlantic- European North West Shelf- Ocean Biogeochemistry Reanalysis\", \"EO:MO:DAT:NWSHELF_MULTIYEAR_BGC_004_011:cmems_mod_nws_bgc-chl_my_7km-3D_P1M-m\"], [\"Atlantic- European North West Shelf- Ocean Biogeochemistry Reanalysis\", \"EO:MO:DAT:NWSHELF_MULTIYEAR_BGC_004_011:cmems_mod_nws_bgc-chl_my_7km-3D_P1D-m\"], [\"Atlantic - European North West Shelf - Ocean Physics Analysis and Forecast\", \"EO:MO:DAT:NWSHELF_ANALYSISFORECAST_PHY_LR_004_001:cmems_mod_nws_phy-uv_anfc_7km-3D_P1D-m\"], [\"Atlantic - European North West Shelf - Ocean Physics Analysis and Forecast\", \"EO:MO:DAT:NWSHELF_ANALYSISFORECAST_PHY_LR_004_001:cmems_mod_nws_phy-t_anfc_7km-3D_P1D-m\"], [\"Atlantic - European North West Shelf - Ocean Physics Analysis and Forecast\", \"EO:MO:DAT:NWSHELF_ANALYSISFORECAST_PHY_LR_004_001:cmems_mod_nws_phy-ssh_anfc_7km-2D_P1D-m\"], [\"Atlantic - European North West Shelf - Ocean Physics Analysis and Forecast\", \"EO:MO:DAT:NWSHELF_ANALYSISFORECAST_PHY_LR_004_001:cmems_mod_nws_phy-s_anfc_7km-3D_P1D-m\"], [\"Atlantic - European North West Shelf - Ocean Physics Analysis and Forecast\", \"EO:MO:DAT:NWSHELF_ANALYSISFORECAST_PHY_LR_004_001:cmems_mod_nws_phy-mld_anfc_7km-2D_P1D-m\"], [\"Atlantic - European North West Shelf - Ocean Physics Analysis and Forecast\", \"EO:MO:DAT:NWSHELF_ANALYSISFORECAST_PHY_LR_004_001:cmems_mod_nws_phy-bottomt_anfc_7km-2D_P1D-m\"], [\"Atlantic - European North West Shelf - Ocean Biogeochemistry Analysis and Forecast\", \"EO:MO:DAT:NWSHELF_ANALYSISFORECAST_BGC_004_002:cmems_mod_nws_bgc-spco2_anfc_7km-2D_P1D-m\"], [\"Atlantic - European North West Shelf - Ocean Biogeochemistry Analysis and Forecast\", \"EO:MO:DAT:NWSHELF_ANALYSISFORECAST_BGC_004_002:cmems_mod_nws_bgc-pp_anfc_7km-3D_P1D-m\"], [\"Atlantic - European North West Shelf - Ocean Biogeochemistry Analysis and Forecast\", \"EO:MO:DAT:NWSHELF_ANALYSISFORECAST_BGC_004_002:cmems_mod_nws_bgc-po4_anfc_7km-3D_P1D-m\"], [\"Atlantic - European North West Shelf - Ocean Biogeochemistry Analysis and Forecast\", \"EO:MO:DAT:NWSHELF_ANALYSISFORECAST_BGC_004_002:cmems_mod_nws_bgc-phyc_anfc_7km-3D_P1D-m\"], [\"Atlantic - European North West Shelf - Ocean Biogeochemistry Analysis and Forecast\", \"EO:MO:DAT:NWSHELF_ANALYSISFORECAST_BGC_004_002:cmems_mod_nws_bgc-ph_anfc_7km-3D_P1D-m\"], [\"Atlantic - European North West Shelf - Ocean Biogeochemistry Analysis and Forecast\", \"EO:MO:DAT:NWSHELF_ANALYSISFORECAST_BGC_004_002:cmems_mod_nws_bgc-o2_anfc_7km-3D_P1D-m\"], [\"Atlantic - European North West Shelf - Ocean Biogeochemistry Analysis and Forecast\", \"EO:MO:DAT:NWSHELF_ANALYSISFORECAST_BGC_004_002:cmems_mod_nws_bgc-no3_anfc_7km-3D_P1D-m\"], [\"Atlantic - European North West Shelf - Ocean Biogeochemistry Analysis and Forecast\", \"EO:MO:DAT:NWSHELF_ANALYSISFORECAST_BGC_004_002:cmems_mod_nws_bgc-kd_anfc_7km-3D_P1D-m\"], [\"Atlantic - European North West Shelf - Ocean Biogeochemistry Analysis and Forecast\", \"EO:MO:DAT:NWSHELF_ANALYSISFORECAST_BGC_004_002:cmems_mod_nws_bgc-chl_anfc_7km-3D_P1D-m\"], [\"Atlantic - European North West Shelf - Ocean Physics Analysis and Forecast\", \"EO:MO:DAT:NORTHWESTSHELF_ANALYSIS_FORECAST_WAV_004_014:MetO-NWS-WAV-hi\"], [\"Atlantic - European North West Shelf - Ocean Physics Analysis and Forecast\", \"EO:MO:DAT:NORTHWESTSHELF_ANALYSIS_FORECAST_PHY_004_013:MetO-NWS-PHY-qh-SSH\"], [\"Atlantic - European North West Shelf - Ocean Physics Analysis and Forecast\", \"EO:MO:DAT:NORTHWESTSHELF_ANALYSIS_FORECAST_PHY_004_013:MetO-NWS-PHY-qh-SSC\"], [\"Atlantic - European North West Shelf - Ocean Physics Analysis and Forecast\", \"EO:MO:DAT:NORTHWESTSHELF_ANALYSIS_FORECAST_PHY_004_013:MetO-NWS-PHY-hi-TEM\"], [\"Atlantic - European North West Shelf - Ocean Physics Analysis and Forecast\", \"EO:MO:DAT:NORTHWESTSHELF_ANALYSIS_FORECAST_PHY_004_013:MetO-NWS-PHY-hi-SST\"], [\"Atlantic - European North West Shelf - Ocean Physics Analysis and Forecast\", \"EO:MO:DAT:NORTHWESTSHELF_ANALYSIS_FORECAST_PHY_004_013:MetO-NWS-PHY-hi-SSS\"], [\"Atlantic - European North West Shelf - Ocean Physics Analysis and Forecast\", \"EO:MO:DAT:NORTHWESTSHELF_ANALYSIS_FORECAST_PHY_004_013:MetO-NWS-PHY-hi-SSH\"], [\"Atlantic - European North West Shelf - Ocean Physics Analysis and Forecast\", \"EO:MO:DAT:NORTHWESTSHELF_ANALYSIS_FORECAST_PHY_004_013:MetO-NWS-PHY-hi-SSC\"], [\"Atlantic - European North West Shelf - Ocean Physics Analysis and Forecast\", \"EO:MO:DAT:NORTHWESTSHELF_ANALYSIS_FORECAST_PHY_004_013:MetO-NWS-PHY-hi-SAL\"], [\"Atlantic - European North West Shelf - Ocean Physics Analysis and Forecast\", \"EO:MO:DAT:NORTHWESTSHELF_ANALYSIS_FORECAST_PHY_004_013:MetO-NWS-PHY-hi-MLD\"], [\"Atlantic - European North West Shelf - Ocean Physics Analysis and Forecast\", \"EO:MO:DAT:NORTHWESTSHELF_ANALYSIS_FORECAST_PHY_004_013:MetO-NWS-PHY-hi-CUR\"], [\"Atlantic - European North West Shelf - Ocean Physics Analysis and Forecast\", \"EO:MO:DAT:NORTHWESTSHELF_ANALYSIS_FORECAST_PHY_004_013:MetO-NWS-PHY-hi-BED\"], [\"Atlantic - European North West Shelf - Ocean Physics Analysis and Forecast\", \"EO:MO:DAT:NORTHWESTSHELF_ANALYSIS_FORECAST_PHY_004_013:MetO-NWS-PHY-dm-TEM\"], [\"Atlantic - European North West Shelf - Ocean Physics Analysis and Forecast\", \"EO:MO:DAT:NORTHWESTSHELF_ANALYSIS_FORECAST_PHY_004_013:MetO-NWS-PHY-dm-SAL\"], [\"Atlantic - European North West Shelf - Ocean Physics Analysis and Forecast\", \"EO:MO:DAT:NORTHWESTSHELF_ANALYSIS_FORECAST_PHY_004_013:MetO-NWS-PHY-dm-MLD\"], [\"Atlantic - European North West Shelf - Ocean Physics Analysis and Forecast\", \"EO:MO:DAT:NORTHWESTSHELF_ANALYSIS_FORECAST_PHY_004_013:MetO-NWS-PHY-dm-CUR\"], [\"Atlantic - European North West Shelf - Ocean Physics Analysis and Forecast\", \"EO:MO:DAT:NORTHWESTSHELF_ANALYSIS_FORECAST_PHY_004_013:MetO-NWS-PHY-dm-BED\"], [\"Global Observed Ocean Physics 3D Quasi-Geostrophic Currents (OMEGA3D)\", \"EO:MO:DAT:MULTIOBS_GLO_PHY_W_3D_REP_015_007:dataset-omega-3d-rep-weekly\"], [\"Multi Observation Global Ocean 3D Temperature Salinity Height Geostrophic Current and MLD\", \"EO:MO:DAT:MULTIOBS_GLO_PHY_TSUV_3D_MYNRT_015_012:dataset-armor-3d-rep-weekly\"], [\"Multi Observation Global Ocean 3D Temperature Salinity Height Geostrophic Current and MLD\", \"EO:MO:DAT:MULTIOBS_GLO_PHY_TSUV_3D_MYNRT_015_012:dataset-armor-3d-rep-monthly\"], [\"Multi Observation Global Ocean 3D Temperature Salinity Height Geostrophic Current and MLD\", \"EO:MO:DAT:MULTIOBS_GLO_PHY_TSUV_3D_MYNRT_015_012:dataset-armor-3d-nrt-weekly\"], [\"Multi Observation Global Ocean 3D Temperature Salinity Height Geostrophic Current and MLD\", \"EO:MO:DAT:MULTIOBS_GLO_PHY_TSUV_3D_MYNRT_015_012:dataset-armor-3d-nrt-monthly\"], [\"Multi Observation Global Ocean Sea Surface Salinity and Sea Surface Density\", \"EO:MO:DAT:MULTIOBS_GLO_PHY_S_SURFACE_MYNRT_015_013:dataset-sss-ssd-rep-weekly\"], [\"Multi Observation Global Ocean Sea Surface Salinity and Sea Surface Density\", \"EO:MO:DAT:MULTIOBS_GLO_PHY_S_SURFACE_MYNRT_015_013:dataset-sss-ssd-rep-monthly\"], [\"Multi Observation Global Ocean Sea Surface Salinity and Sea Surface Density\", \"EO:MO:DAT:MULTIOBS_GLO_PHY_S_SURFACE_MYNRT_015_013:dataset-sss-ssd-nrt-weekly\"], [\"Multi Observation Global Ocean Sea Surface Salinity and Sea Surface Density\", \"EO:MO:DAT:MULTIOBS_GLO_PHY_S_SURFACE_MYNRT_015_013:dataset-sss-ssd-nrt-monthly\"], [\"Global Total Surface and 15m Current (COPERNICUS-GLOBCURRENT) from Altimetric Geostrophic Current \\u00a0and Modeled Ekman Current Reprocessing\", \"EO:MO:DAT:MULTIOBS_GLO_PHY_REP_015_004:dataset-uv-rep-monthly\"], [\"Global Total Surface and 15m Current (COPERNICUS-GLOBCURRENT) from Altimetric Geostrophic Current \\u00a0and Modeled Ekman Current Reprocessing\", \"EO:MO:DAT:MULTIOBS_GLO_PHY_REP_015_004:dataset-uv-rep-hourly\"], [\"Global Total Surface and 15m Current (COPERNICUS-GLOBCURRENT) from Altimetric Geostrophic Current \\u00a0and Modeled Ekman Current Reprocessing\", \"EO:MO:DAT:MULTIOBS_GLO_PHY_REP_015_004:dataset-uv-rep-daily\"], [\"Global Total Surface and 15m Current (COPERNICUS-GLOBCURRENT) from Altimetric Geostrophic Current \\u00a0and Modeled Ekman Current Processing\", \"EO:MO:DAT:MULTIOBS_GLO_PHY_NRT_015_003:dataset-uv-nrt-monthly\"], [\"Global Total Surface and 15m Current (COPERNICUS-GLOBCURRENT) from Altimetric Geostrophic Current \\u00a0and Modeled Ekman Current Processing\", \"EO:MO:DAT:MULTIOBS_GLO_PHY_NRT_015_003:dataset-uv-nrt-hourly\"], [\"Global Total Surface and 15m Current (COPERNICUS-GLOBCURRENT) from Altimetric Geostrophic Current \\u00a0and Modeled Ekman Current Processing\", \"EO:MO:DAT:MULTIOBS_GLO_PHY_NRT_015_003:dataset-uv-nrt-daily\"], [\"Nutrient profiles vertical distribution\", \"EO:MO:DAT:MULTIOBS_GLO_BIO_NUTRIENTS_PROFILES_REP_015_009:dataset-nutrient-profile-rep\"], [\"Global Ocean Surface Carbon\", \"EO:MO:DAT:MULTIOBS_GLO_BIO_CARBON_SURFACE_REP_015_008:dataset-carbon-rep-monthly\"], [\"Global Ocean 3D Chlorophyll-a concentration, Particulate Backscattering coefficient and Particulate Organic Carbon\", \"EO:MO:DAT:MULTIOBS_GLO_BIO_BGC_3D_REP_015_010:cmems_obs_glo_bgc3d_rep_weekly\"], [\"Global Ocean 3D Chlorophyll-a concentration, Particulate Backscattering coefficient and Particulate Organic Carbon\", \"EO:MO:DAT:MULTIOBS_GLO_BIO_BGC_3D_REP_015_010:cmems_obs_glo_bgc3d_rep_clim\"], [\"Mediterranean Sea Waves Reanalysis\", \"EO:MO:DAT:MEDSEA_MULTIYEAR_WAV_006_012:med-hcmr-wav-rean-h\"], [\"Mediterranean Sea Physics Reanalysis\", \"EO:MO:DAT:MEDSEA_MULTIYEAR_PHY_006_004:med-cmcc-tem-rean-m\"], [\"Mediterranean Sea Physics Reanalysis\", \"EO:MO:DAT:MEDSEA_MULTIYEAR_PHY_006_004:med-cmcc-tem-rean-d\"], [\"Mediterranean Sea Physics Reanalysis\", \"EO:MO:DAT:MEDSEA_MULTIYEAR_PHY_006_004:med-cmcc-tem-int-m\"], [\"Mediterranean Sea Physics Reanalysis\", \"EO:MO:DAT:MEDSEA_MULTIYEAR_PHY_006_004:med-cmcc-ssh-rean-m\"], [\"Mediterranean Sea Physics Reanalysis\", \"EO:MO:DAT:MEDSEA_MULTIYEAR_PHY_006_004:med-cmcc-ssh-rean-h\"], [\"Mediterranean Sea Physics Reanalysis\", \"EO:MO:DAT:MEDSEA_MULTIYEAR_PHY_006_004:med-cmcc-ssh-rean-d\"], [\"Mediterranean Sea Physics Reanalysis\", \"EO:MO:DAT:MEDSEA_MULTIYEAR_PHY_006_004:med-cmcc-ssh-int-m\"], [\"Mediterranean Sea Physics Reanalysis\", \"EO:MO:DAT:MEDSEA_MULTIYEAR_PHY_006_004:med-cmcc-sal-rean-m\"], [\"Mediterranean Sea Physics Reanalysis\", \"EO:MO:DAT:MEDSEA_MULTIYEAR_PHY_006_004:med-cmcc-sal-rean-d\"], [\"Mediterranean Sea Physics Reanalysis\", \"EO:MO:DAT:MEDSEA_MULTIYEAR_PHY_006_004:med-cmcc-sal-int-m\"], [\"Mediterranean Sea Physics Reanalysis\", \"EO:MO:DAT:MEDSEA_MULTIYEAR_PHY_006_004:med-cmcc-mld-rean-m\"], [\"Mediterranean Sea Physics Reanalysis\", \"EO:MO:DAT:MEDSEA_MULTIYEAR_PHY_006_004:med-cmcc-mld-rean-d\"], [\"Mediterranean Sea Physics Reanalysis\", \"EO:MO:DAT:MEDSEA_MULTIYEAR_PHY_006_004:med-cmcc-mld-int-m\"], [\"Mediterranean Sea Physics Reanalysis\", \"EO:MO:DAT:MEDSEA_MULTIYEAR_PHY_006_004:med-cmcc-cur-rean-m\"], [\"Mediterranean Sea Physics Reanalysis\", \"EO:MO:DAT:MEDSEA_MULTIYEAR_PHY_006_004:med-cmcc-cur-rean-h\"], [\"Mediterranean Sea Physics Reanalysis\", \"EO:MO:DAT:MEDSEA_MULTIYEAR_PHY_006_004:med-cmcc-cur-rean-d\"], [\"Mediterranean Sea Physics Reanalysis\", \"EO:MO:DAT:MEDSEA_MULTIYEAR_PHY_006_004:med-cmcc-cur-int-m\"], [\"Mediterranean Sea Biogechemistry Reanalysis\", \"EO:MO:DAT:MEDSEA_MULTIYEAR_BGC_006_008:med-ogs-pft-rean-m\"], [\"Mediterranean Sea Biogechemistry Reanalysis\", \"EO:MO:DAT:MEDSEA_MULTIYEAR_BGC_006_008:med-ogs-pft-rean-d\"], [\"Mediterranean Sea Biogechemistry Reanalysis\", \"EO:MO:DAT:MEDSEA_MULTIYEAR_BGC_006_008:med-ogs-nut-rean-m\"], [\"Mediterranean Sea Biogechemistry Reanalysis\", \"EO:MO:DAT:MEDSEA_MULTIYEAR_BGC_006_008:med-ogs-nut-rean-d\"], [\"Mediterranean Sea Biogechemistry Reanalysis\", \"EO:MO:DAT:MEDSEA_MULTIYEAR_BGC_006_008:med-ogs-co2-rean-m\"], [\"Mediterranean Sea Biogechemistry Reanalysis\", \"EO:MO:DAT:MEDSEA_MULTIYEAR_BGC_006_008:med-ogs-co2-rean-d\"], [\"Mediterranean Sea Biogechemistry Reanalysis\", \"EO:MO:DAT:MEDSEA_MULTIYEAR_BGC_006_008:med-ogs-car-rean-m\"], [\"Mediterranean Sea Biogechemistry Reanalysis\", \"EO:MO:DAT:MEDSEA_MULTIYEAR_BGC_006_008:med-ogs-car-rean-d\"], [\"Mediterranean Sea Biogechemistry Reanalysis\", \"EO:MO:DAT:MEDSEA_MULTIYEAR_BGC_006_008:med-ogs-bio-rean-m\"], [\"Mediterranean Sea Biogechemistry Reanalysis\", \"EO:MO:DAT:MEDSEA_MULTIYEAR_BGC_006_008:med-ogs-bio-rean-d\"], [\"Mediterranean Sea Waves Analysis and Forecast\", \"EO:MO:DAT:MEDSEA_ANALYSISFORECAST_WAV_006_017:med-hcmr-wav-an-fc-h\"], [\"Mediterranean Sea Physics Analysis and Forecast\", \"EO:MO:DAT:MEDSEA_ANALYSISFORECAST_PHY_006_013:med-cmcc-tem-an-fc-m\"], [\"Mediterranean Sea Physics Analysis and Forecast\", \"EO:MO:DAT:MEDSEA_ANALYSISFORECAST_PHY_006_013:med-cmcc-tem-an-fc-hts\"], [\"Mediterranean Sea Physics Analysis and Forecast\", \"EO:MO:DAT:MEDSEA_ANALYSISFORECAST_PHY_006_013:med-cmcc-tem-an-fc-h\"], [\"Mediterranean Sea Physics Analysis and Forecast\", \"EO:MO:DAT:MEDSEA_ANALYSISFORECAST_PHY_006_013:med-cmcc-tem-an-fc-d\"], [\"Mediterranean Sea Physics Analysis and Forecast\", \"EO:MO:DAT:MEDSEA_ANALYSISFORECAST_PHY_006_013:med-cmcc-ssh-an-fc-qm\"], [\"Mediterranean Sea Physics Analysis and Forecast\", \"EO:MO:DAT:MEDSEA_ANALYSISFORECAST_PHY_006_013:med-cmcc-ssh-an-fc-m\"], [\"Mediterranean Sea Physics Analysis and Forecast\", \"EO:MO:DAT:MEDSEA_ANALYSISFORECAST_PHY_006_013:med-cmcc-ssh-an-fc-hts\"], [\"Mediterranean Sea Physics Analysis and Forecast\", \"EO:MO:DAT:MEDSEA_ANALYSISFORECAST_PHY_006_013:med-cmcc-ssh-an-fc-d\"], [\"Mediterranean Sea Physics Analysis and Forecast\", \"EO:MO:DAT:MEDSEA_ANALYSISFORECAST_PHY_006_013:med-cmcc-sal-an-fc-m\"], [\"Mediterranean Sea Physics Analysis and Forecast\", \"EO:MO:DAT:MEDSEA_ANALYSISFORECAST_PHY_006_013:med-cmcc-sal-an-fc-hts\"], [\"Mediterranean Sea Physics Analysis and Forecast\", \"EO:MO:DAT:MEDSEA_ANALYSISFORECAST_PHY_006_013:med-cmcc-sal-an-fc-h\"], [\"Mediterranean Sea Physics Analysis and Forecast\", \"EO:MO:DAT:MEDSEA_ANALYSISFORECAST_PHY_006_013:med-cmcc-sal-an-fc-d\"], [\"Mediterranean Sea Physics Analysis and Forecast\", \"EO:MO:DAT:MEDSEA_ANALYSISFORECAST_PHY_006_013:med-cmcc-mld-an-fc-m\"], [\"Mediterranean Sea Physics Analysis and Forecast\", \"EO:MO:DAT:MEDSEA_ANALYSISFORECAST_PHY_006_013:med-cmcc-mld-an-fc-hts\"], [\"Mediterranean Sea Physics Analysis and Forecast\", \"EO:MO:DAT:MEDSEA_ANALYSISFORECAST_PHY_006_013:med-cmcc-mld-an-fc-d\"], [\"Mediterranean Sea Physics Analysis and Forecast\", \"EO:MO:DAT:MEDSEA_ANALYSISFORECAST_PHY_006_013:med-cmcc-cur-an-fc-qm\"], [\"Mediterranean Sea Physics Analysis and Forecast\", \"EO:MO:DAT:MEDSEA_ANALYSISFORECAST_PHY_006_013:med-cmcc-cur-an-fc-m\"], [\"Mediterranean Sea Physics Analysis and Forecast\", \"EO:MO:DAT:MEDSEA_ANALYSISFORECAST_PHY_006_013:med-cmcc-cur-an-fc-hts\"], [\"Mediterranean Sea Physics Analysis and Forecast\", \"EO:MO:DAT:MEDSEA_ANALYSISFORECAST_PHY_006_013:med-cmcc-cur-an-fc-h\"], [\"Mediterranean Sea Physics Analysis and Forecast\", \"EO:MO:DAT:MEDSEA_ANALYSISFORECAST_PHY_006_013:med-cmcc-cur-an-fc-d\"], [\"Mediterranean Sea Biogeochemistry Analysis and Forecast\", \"EO:MO:DAT:MEDSEA_ANALYSISFORECAST_BGC_006_014:med-ogs-pft-an-fc-m\"], [\"Mediterranean Sea Biogeochemistry Analysis and Forecast\", \"EO:MO:DAT:MEDSEA_ANALYSISFORECAST_BGC_006_014:med-ogs-pft-an-fc-d\"], [\"Mediterranean Sea Biogeochemistry Analysis and Forecast\", \"EO:MO:DAT:MEDSEA_ANALYSISFORECAST_BGC_006_014:med-ogs-nut-an-fc-m\"], [\"Mediterranean Sea Biogeochemistry Analysis and Forecast\", \"EO:MO:DAT:MEDSEA_ANALYSISFORECAST_BGC_006_014:med-ogs-nut-an-fc-d\"], [\"Mediterranean Sea Biogeochemistry Analysis and Forecast\", \"EO:MO:DAT:MEDSEA_ANALYSISFORECAST_BGC_006_014:med-ogs-co2-an-fc-m\"], [\"Mediterranean Sea Biogeochemistry Analysis and Forecast\", \"EO:MO:DAT:MEDSEA_ANALYSISFORECAST_BGC_006_014:med-ogs-co2-an-fc-d\"], [\"Mediterranean Sea Biogeochemistry Analysis and Forecast\", \"EO:MO:DAT:MEDSEA_ANALYSISFORECAST_BGC_006_014:med-ogs-car-an-fc-m\"], [\"Mediterranean Sea Biogeochemistry Analysis and Forecast\", \"EO:MO:DAT:MEDSEA_ANALYSISFORECAST_BGC_006_014:med-ogs-car-an-fc-d\"], [\"Mediterranean Sea Biogeochemistry Analysis and Forecast\", \"EO:MO:DAT:MEDSEA_ANALYSISFORECAST_BGC_006_014:med-ogs-bio-an-fc-m\"], [\"Mediterranean Sea Biogeochemistry Analysis and Forecast\", \"EO:MO:DAT:MEDSEA_ANALYSISFORECAST_BGC_006_014:med-ogs-bio-an-fc-d\"], [\"Global Ocean- in-situ Near real time observations of ocean currents\", \"EO:MO:DAT:INSITU_GLO_UV_NRT_OBSERVATIONS_013_048:drifter_filt\"], [\"Global Ocean- Delayed Mode gridded CORA- In-situ Observations objective analysis in Delayed Mode\", \"EO:MO:DAT:INSITU_GLO_TS_OA_REP_OBSERVATIONS_013_002_b:CORIOLIS-GLOBAL-CORA-OBS_FULL_TIME_SERIE\"], [\"Global Ocean- Real time in-situ observations objective analysis\", \"EO:MO:DAT:INSITU_GLO_TS_OA_NRT_OBSERVATIONS_013_002_a:CORIOLIS-GLOBAL-NRTOA-OBS_TIME_SERIE\"], [\"Atlantic -Iberian Biscay Irish- Ocean Wave Reanalysis\", \"EO:MO:DAT:IBI_MULTIYEAR_WAV_005_006:cmems_mod_ibi_wav_my_0.05deg-2D_PT1H-i\"], [\"Atlantic-Iberian Biscay Irish- Ocean Physics Reanalysis\", \"EO:MO:DAT:IBI_MULTIYEAR_PHY_005_002:cmems_mod_ibi_phy_my_0.083deg-3D_P1M-m\"], [\"Atlantic-Iberian Biscay Irish- Ocean Physics Reanalysis\", \"EO:MO:DAT:IBI_MULTIYEAR_PHY_005_002:cmems_mod_ibi_phy_my_0.083deg-3D_P1D-m\"], [\"Atlantic-Iberian Biscay Irish- Ocean Physics Reanalysis\", \"EO:MO:DAT:IBI_MULTIYEAR_PHY_005_002:cmems_mod_ibi_phy_my_0.083deg-2D_PT1H-m\"], [\"Atlantic-Iberian Biscay Irish- Ocean BioGeoChemistry NON ASSIMILATIVE Hindcast\", \"EO:MO:DAT:IBI_MULTIYEAR_BGC_005_003:cmems_mod_ibi_bgc_my_0.083deg-3D_P1M-m\"], [\"Atlantic-Iberian Biscay Irish- Ocean BioGeoChemistry NON ASSIMILATIVE Hindcast\", \"EO:MO:DAT:IBI_MULTIYEAR_BGC_005_003:cmems_mod_ibi_bgc_my_0.083deg-3D_P1D-m\"], [\"Atlantic-Iberian Biscay Irish- Ocean Wave Analysis and Forecast\", \"EO:MO:DAT:IBI_ANALYSIS_FORECAST_WAV_005_005:dataset-ibi-analysis-forecast-wav-005-005-hourly\"], [\"Atlantic-Iberian Biscay Irish- Ocean Physics Analysis and Forecast\", \"EO:MO:DAT:IBI_ANALYSISFORECAST_PHY_005_001:cmems_mod_ibi_phy_anfc_0.027deg-3D_PT1H-m\"], [\"Atlantic-Iberian Biscay Irish- Ocean Physics Analysis and Forecast\", \"EO:MO:DAT:IBI_ANALYSISFORECAST_PHY_005_001:cmems_mod_ibi_phy_anfc_0.027deg-3D_P1M-m\"], [\"Atlantic-Iberian Biscay Irish- Ocean Physics Analysis and Forecast\", \"EO:MO:DAT:IBI_ANALYSISFORECAST_PHY_005_001:cmems_mod_ibi_phy_anfc_0.027deg-3D_P1D-m\"], [\"Atlantic-Iberian Biscay Irish- Ocean Physics Analysis and Forecast\", \"EO:MO:DAT:IBI_ANALYSISFORECAST_PHY_005_001:cmems_mod_ibi_phy_anfc_0.027deg-2D_PT1H-m\"], [\"Atlantic-Iberian Biscay Irish- Ocean Physics Analysis and Forecast\", \"EO:MO:DAT:IBI_ANALYSISFORECAST_PHY_005_001:cmems_mod_ibi_phy_anfc_0.027deg-2D_PT15M-m\"], [\"Atlantic-Iberian Biscay Irish- Ocean Biogeochemical Analysis and Forecast\", \"EO:MO:DAT:IBI_ANALYSISFORECAST_BGC_005_004:cmems_mod_ibi_bgc_anfc_0.027deg-3D_P1M-m\"], [\"Atlantic-Iberian Biscay Irish- Ocean Biogeochemical Analysis and Forecast\", \"EO:MO:DAT:IBI_ANALYSISFORECAST_BGC_005_004:cmems_mod_ibi_bgc_anfc_0.027deg-3D_P1D-m\"], [\"Global ocean biogeochemistry hindcast\", \"EO:MO:DAT:GLOBAL_REANALYSIS_PHY_001_031:global-reanalysis-phy-001-031-grepv2-monthly\"], [\"Global ocean biogeochemistry hindcast\", \"EO:MO:DAT:GLOBAL_REANALYSIS_PHY_001_031:global-reanalysis-phy-001-031-grepv2-mnstd-monthly\"], [\"Global ocean biogeochemistry hindcast\", \"EO:MO:DAT:GLOBAL_REANALYSIS_PHY_001_031:global-reanalysis-phy-001-031-grepv2-mnstd-daily\"], [\"Global ocean biogeochemistry hindcast\", \"EO:MO:DAT:GLOBAL_REANALYSIS_PHY_001_031:global-reanalysis-phy-001-031-grepv2-daily\"], [\"Global Ocean Ensemble Physics Reanalysis - Low resolution\", \"EO:MO:DAT:GLOBAL_REANALYSIS_PHY_001_026:global-reanalysis-phy-001-026-grepv1-uv-monthly\"], [\"Global Ocean Ensemble Physics Reanalysis - Low resolution\", \"EO:MO:DAT:GLOBAL_REANALYSIS_PHY_001_026:global-reanalysis-phy-001-026-grepv1-monthly\"], [\"Global Ocean Ensemble Physics Reanalysis - Low resolution\", \"EO:MO:DAT:GLOBAL_REANALYSIS_PHY_001_026:global-reanalysis-phy-001-026-grepv1-ice-monthly\"], [\"Global Ocean Waves Reanalysis WAVERYS\", \"EO:MO:DAT:GLOBAL_MULTIYEAR_WAV_001_032:cmems_mod_glo_wav_my_0.2_PT3H-i\"], [\"Global ocean low and mid trophic levels biomass content hindcast\", \"EO:MO:DAT:GLOBAL_MULTIYEAR_BGC_001_033:cmems_mod_glo_bgc_my_0.083deg-lmtl_PT1D-i\"], [\"Global ocean low and mid trophic levels biomass content hindcast\", \"EO:MO:DAT:GLOBAL_MULTIYEAR_BGC_001_033:cmems_mod_glo_bgc_my_0.083deg-lmtl-Fphy_PT1D-i\"], [\"Global Ocean Waves Analysis and Forecast\", \"EO:MO:DAT:GLOBAL_ANALYSIS_FORECAST_WAV_001_027:global-analysis-forecast-wav-001-027\"], [\"Global Ocean 1/4\\u00b0 Physics Analysis and Forecast updated Daily\", \"EO:MO:DAT:GLOBAL_ANALYSISFORECAST_PHY_CPL_001_015:MetO-GLO-PHY-CPL-hi-TEM\"], [\"Global Ocean 1/4\\u00b0 Physics Analysis and Forecast updated Daily\", \"EO:MO:DAT:GLOBAL_ANALYSISFORECAST_PHY_CPL_001_015:MetO-GLO-PHY-CPL-hi-SSH\"], [\"Global Ocean 1/4\\u00b0 Physics Analysis and Forecast updated Daily\", \"EO:MO:DAT:GLOBAL_ANALYSISFORECAST_PHY_CPL_001_015:MetO-GLO-PHY-CPL-hi-CUR\"], [\"Global Ocean 1/4\\u00b0 Physics Analysis and Forecast updated Daily\", \"EO:MO:DAT:GLOBAL_ANALYSISFORECAST_PHY_CPL_001_015:MetO-GLO-PHY-CPL-dm-TEM\"], [\"Global Ocean 1/4\\u00b0 Physics Analysis and Forecast updated Daily\", \"EO:MO:DAT:GLOBAL_ANALYSISFORECAST_PHY_CPL_001_015:MetO-GLO-PHY-CPL-dm-SSH\"], [\"Global Ocean 1/4\\u00b0 Physics Analysis and Forecast updated Daily\", \"EO:MO:DAT:GLOBAL_ANALYSISFORECAST_PHY_CPL_001_015:MetO-GLO-PHY-CPL-dm-SAL\"], [\"Global Ocean 1/4\\u00b0 Physics Analysis and Forecast updated Daily\", \"EO:MO:DAT:GLOBAL_ANALYSISFORECAST_PHY_CPL_001_015:MetO-GLO-PHY-CPL-dm-MLD\"], [\"Global Ocean 1/4\\u00b0 Physics Analysis and Forecast updated Daily\", \"EO:MO:DAT:GLOBAL_ANALYSISFORECAST_PHY_CPL_001_015:MetO-GLO-PHY-CPL-dm-ICE\"], [\"Global Ocean 1/4\\u00b0 Physics Analysis and Forecast updated Daily\", \"EO:MO:DAT:GLOBAL_ANALYSISFORECAST_PHY_CPL_001_015:MetO-GLO-PHY-CPL-dm-CUR\"], [\"Global Ocean 1/4\\u00b0 Physics Analysis and Forecast updated Daily\", \"EO:MO:DAT:GLOBAL_ANALYSISFORECAST_PHY_CPL_001_015:MetO-GLO-PHY-CPL-dm-BED\"], [\"Global Ocean 1/12\\u00b0 Physics Analysis and Forecast updated Daily\", \"EO:MO:DAT:GLOBAL_ANALYSIS_FORECAST_PHY_001_024:global-analysis-forecast-phy-001-024-monthly\"], [\"Global Ocean 1/12\\u00b0 Physics Analysis and Forecast updated Daily\", \"EO:MO:DAT:GLOBAL_ANALYSIS_FORECAST_PHY_001_024:global-analysis-forecast-phy-001-024-hourly-t-u-v-ssh\"], [\"Global Ocean 1/12\\u00b0 Physics Analysis and Forecast updated Daily\", \"EO:MO:DAT:GLOBAL_ANALYSIS_FORECAST_PHY_001_024:global-analysis-forecast-phy-001-024-hourly-merged-uv\"], [\"Global Ocean 1/12\\u00b0 Physics Analysis and Forecast updated Daily\", \"EO:MO:DAT:GLOBAL_ANALYSIS_FORECAST_PHY_001_024:global-analysis-forecast-phy-001-024-3dinst-uovo\"], [\"Global Ocean 1/12\\u00b0 Physics Analysis and Forecast updated Daily\", \"EO:MO:DAT:GLOBAL_ANALYSIS_FORECAST_PHY_001_024:global-analysis-forecast-phy-001-024-3dinst-thetao\"], [\"Global Ocean 1/12\\u00b0 Physics Analysis and Forecast updated Daily\", \"EO:MO:DAT:GLOBAL_ANALYSIS_FORECAST_PHY_001_024:global-analysis-forecast-phy-001-024-3dinst-so\"], [\"Global Ocean 1/12\\u00b0 Physics Analysis and Forecast updated Daily\", \"EO:MO:DAT:GLOBAL_ANALYSIS_FORECAST_PHY_001_024:global-analysis-forecast-phy-001-024\"], [\"Global Ocean Biogeochemistry Analysis and Forecast\", \"EO:MO:DAT:GLOBAL_ANALYSIS_FORECAST_BIO_001_028:global-analysis-forecast-bio-001-028-monthly\"], [\"Global Ocean Biogeochemistry Analysis and Forecast\", \"EO:MO:DAT:GLOBAL_ANALYSIS_FORECAST_BIO_001_028:global-analysis-forecast-bio-001-028-daily\"], [\"Black Sea Biogeochemistry Reanalysis\", \"EO:MO:DAT:BLKSEA_REANALYSIS_BIO_007_005:bs-ulg-pft-rean-m\"], [\"Black Sea Biogeochemistry Reanalysis\", \"EO:MO:DAT:BLKSEA_REANALYSIS_BIO_007_005:bs-ulg-pft-rean-d\"], [\"Black Sea Biogeochemistry Reanalysis\", \"EO:MO:DAT:BLKSEA_REANALYSIS_BIO_007_005:bs-ulg-pft-int-m\"], [\"Black Sea Biogeochemistry Reanalysis\", \"EO:MO:DAT:BLKSEA_REANALYSIS_BIO_007_005:bs-ulg-nut-rean-m\"], [\"Black Sea Biogeochemistry Reanalysis\", \"EO:MO:DAT:BLKSEA_REANALYSIS_BIO_007_005:bs-ulg-nut-rean-d\"], [\"Black Sea Biogeochemistry Reanalysis\", \"EO:MO:DAT:BLKSEA_REANALYSIS_BIO_007_005:bs-ulg-nut-int-m\"], [\"Black Sea Biogeochemistry Reanalysis\", \"EO:MO:DAT:BLKSEA_REANALYSIS_BIO_007_005:bs-ulg-co2-rean-m\"], [\"Black Sea Biogeochemistry Reanalysis\", \"EO:MO:DAT:BLKSEA_REANALYSIS_BIO_007_005:bs-ulg-co2-rean-d\"], [\"Black Sea Biogeochemistry Reanalysis\", \"EO:MO:DAT:BLKSEA_REANALYSIS_BIO_007_005:bs-ulg-co2-int-m\"], [\"Black Sea Biogeochemistry Reanalysis\", \"EO:MO:DAT:BLKSEA_REANALYSIS_BIO_007_005:bs-ulg-car-rean-m\"], [\"Black Sea Biogeochemistry Reanalysis\", \"EO:MO:DAT:BLKSEA_REANALYSIS_BIO_007_005:bs-ulg-car-rean-d\"], [\"Black Sea Biogeochemistry Reanalysis\", \"EO:MO:DAT:BLKSEA_REANALYSIS_BIO_007_005:bs-ulg-car-int-m\"], [\"Black Sea Biogeochemistry Reanalysis\", \"EO:MO:DAT:BLKSEA_REANALYSIS_BIO_007_005:bs-ulg-bio-rean-m\"], [\"Black Sea Biogeochemistry Reanalysis\", \"EO:MO:DAT:BLKSEA_REANALYSIS_BIO_007_005:bs-ulg-bio-rean-d\"], [\"Black Sea Biogeochemistry Reanalysis\", \"EO:MO:DAT:BLKSEA_REANALYSIS_BIO_007_005:bs-ulg-bio-int-m\"], [\"Black Sea Waves Reanalysis\", \"EO:MO:DAT:BLKSEA_MULTIYEAR_WAV_007_006:bs-hzg-wav-rean-h\"], [\"Black Sea Waves Reanalysis\", \"EO:MO:DAT:BLKSEA_MULTIYEAR_WAV_007_006:bs-hzg-wav-int-h\"], [\"Black Sea Physics Reanalysis\", \"EO:MO:DAT:BLKSEA_MULTIYEAR_PHY_007_004:bs-cmcc-tem-rean-m\"], [\"Black Sea Physics Reanalysis\", \"EO:MO:DAT:BLKSEA_MULTIYEAR_PHY_007_004:bs-cmcc-tem-rean-d\"], [\"Black Sea Physics Reanalysis\", \"EO:MO:DAT:BLKSEA_MULTIYEAR_PHY_007_004:bs-cmcc-tem-int-m\"], [\"Black Sea Physics Reanalysis\", \"EO:MO:DAT:BLKSEA_MULTIYEAR_PHY_007_004:bs-cmcc-ssh-rean-m\"], [\"Black Sea Physics Reanalysis\", \"EO:MO:DAT:BLKSEA_MULTIYEAR_PHY_007_004:bs-cmcc-ssh-rean-d\"], [\"Black Sea Physics Reanalysis\", \"EO:MO:DAT:BLKSEA_MULTIYEAR_PHY_007_004:bs-cmcc-ssh-int-m\"], [\"Black Sea Physics Reanalysis\", \"EO:MO:DAT:BLKSEA_MULTIYEAR_PHY_007_004:bs-cmcc-sal-rean-m\"], [\"Black Sea Physics Reanalysis\", \"EO:MO:DAT:BLKSEA_MULTIYEAR_PHY_007_004:bs-cmcc-sal-rean-d\"], [\"Black Sea Physics Reanalysis\", \"EO:MO:DAT:BLKSEA_MULTIYEAR_PHY_007_004:bs-cmcc-sal-int-m\"], [\"Black Sea Physics Reanalysis\", \"EO:MO:DAT:BLKSEA_MULTIYEAR_PHY_007_004:bs-cmcc-mld-rean-m\"], [\"Black Sea Physics Reanalysis\", \"EO:MO:DAT:BLKSEA_MULTIYEAR_PHY_007_004:bs-cmcc-mld-rean-d\"], [\"Black Sea Physics Reanalysis\", \"EO:MO:DAT:BLKSEA_MULTIYEAR_PHY_007_004:bs-cmcc-mld-int-m\"], [\"Black Sea Physics Reanalysis\", \"EO:MO:DAT:BLKSEA_MULTIYEAR_PHY_007_004:bs-cmcc-cur-rean-m\"], [\"Black Sea Physics Reanalysis\", \"EO:MO:DAT:BLKSEA_MULTIYEAR_PHY_007_004:bs-cmcc-cur-rean-d\"], [\"Black Sea Physics Reanalysis\", \"EO:MO:DAT:BLKSEA_MULTIYEAR_PHY_007_004:bs-cmcc-cur-int-m\"], [\"Black Sea Physics Analysis and Forecast\", \"EO:MO:DAT:BLKSEA_ANALYSISFORECAST_PHY_007_001:bs-cmcc-tem-an-fc-m\"], [\"Black Sea Physics Analysis and Forecast\", \"EO:MO:DAT:BLKSEA_ANALYSISFORECAST_PHY_007_001:bs-cmcc-tem-an-fc-h\"], [\"Black Sea Physics Analysis and Forecast\", \"EO:MO:DAT:BLKSEA_ANALYSISFORECAST_PHY_007_001:bs-cmcc-tem-an-fc-d\"], [\"Black Sea Physics Analysis and Forecast\", \"EO:MO:DAT:BLKSEA_ANALYSISFORECAST_PHY_007_001:bs-cmcc-ssh-an-fc-m\"], [\"Black Sea Physics Analysis and Forecast\", \"EO:MO:DAT:BLKSEA_ANALYSISFORECAST_PHY_007_001:bs-cmcc-ssh-an-fc-h\"], [\"Black Sea Physics Analysis and Forecast\", \"EO:MO:DAT:BLKSEA_ANALYSISFORECAST_PHY_007_001:bs-cmcc-ssh-an-fc-d\"], [\"Black Sea Physics Analysis and Forecast\", \"EO:MO:DAT:BLKSEA_ANALYSISFORECAST_PHY_007_001:bs-cmcc-sal-an-fc-m\"], [\"Black Sea Physics Analysis and Forecast\", \"EO:MO:DAT:BLKSEA_ANALYSISFORECAST_PHY_007_001:bs-cmcc-sal-an-fc-h\"], [\"Black Sea Physics Analysis and Forecast\", \"EO:MO:DAT:BLKSEA_ANALYSISFORECAST_PHY_007_001:bs-cmcc-sal-an-fc-d\"], [\"Black Sea Physics Analysis and Forecast\", \"EO:MO:DAT:BLKSEA_ANALYSISFORECAST_PHY_007_001:bs-cmcc-mld-an-fc-m\"], [\"Black Sea Physics Analysis and Forecast\", \"EO:MO:DAT:BLKSEA_ANALYSISFORECAST_PHY_007_001:bs-cmcc-mld-an-fc-h\"], [\"Black Sea Physics Analysis and Forecast\", \"EO:MO:DAT:BLKSEA_ANALYSISFORECAST_PHY_007_001:bs-cmcc-mld-an-fc-d\"], [\"Black Sea Physics Analysis and Forecast\", \"EO:MO:DAT:BLKSEA_ANALYSISFORECAST_PHY_007_001:bs-cmcc-cur-an-fc-m\"], [\"Black Sea Physics Analysis and Forecast\", \"EO:MO:DAT:BLKSEA_ANALYSISFORECAST_PHY_007_001:bs-cmcc-cur-an-fc-h\"], [\"Black Sea Physics Analysis and Forecast\", \"EO:MO:DAT:BLKSEA_ANALYSISFORECAST_PHY_007_001:bs-cmcc-cur-an-fc-d\"], [\"Black Sea Biogeochemistry Analysis and Forecast\", \"EO:MO:DAT:BLKSEA_ANALYSIS_FORECAST_BIO_007_010:bs-ulg-pft-an-fc-m\"], [\"Black Sea Biogeochemistry Analysis and Forecast\", \"EO:MO:DAT:BLKSEA_ANALYSIS_FORECAST_BIO_007_010:bs-ulg-pft-an-fc-d\"], [\"Black Sea Biogeochemistry Analysis and Forecast\", \"EO:MO:DAT:BLKSEA_ANALYSIS_FORECAST_BIO_007_010:bs-ulg-opt-an-fc-m\"], [\"Black Sea Biogeochemistry Analysis and Forecast\", \"EO:MO:DAT:BLKSEA_ANALYSIS_FORECAST_BIO_007_010:bs-ulg-opt-an-fc-d\"], [\"Black Sea Biogeochemistry Analysis and Forecast\", \"EO:MO:DAT:BLKSEA_ANALYSIS_FORECAST_BIO_007_010:bs-ulg-nut-an-fc-m\"], [\"Black Sea Biogeochemistry Analysis and Forecast\", \"EO:MO:DAT:BLKSEA_ANALYSIS_FORECAST_BIO_007_010:bs-ulg-nut-an-fc-d\"], [\"Black Sea Biogeochemistry Analysis and Forecast\", \"EO:MO:DAT:BLKSEA_ANALYSIS_FORECAST_BIO_007_010:bs-ulg-co2-an-fc-m\"], [\"Black Sea Biogeochemistry Analysis and Forecast\", \"EO:MO:DAT:BLKSEA_ANALYSIS_FORECAST_BIO_007_010:bs-ulg-co2-an-fc-d\"], [\"Black Sea Biogeochemistry Analysis and Forecast\", \"EO:MO:DAT:BLKSEA_ANALYSIS_FORECAST_BIO_007_010:bs-ulg-car-an-fc-m\"], [\"Black Sea Biogeochemistry Analysis and Forecast\", \"EO:MO:DAT:BLKSEA_ANALYSIS_FORECAST_BIO_007_010:bs-ulg-car-an-fc-d\"], [\"Black Sea Biogeochemistry Analysis and Forecast\", \"EO:MO:DAT:BLKSEA_ANALYSIS_FORECAST_BIO_007_010:bs-ulg-bio-an-fc-m\"], [\"Black Sea Biogeochemistry Analysis and Forecast\", \"EO:MO:DAT:BLKSEA_ANALYSIS_FORECAST_BIO_007_010:bs-ulg-bio-an-fc-d\"], [\"Baltic Sea Physics Reanalysis\", \"EO:MO:DAT:BALTICSEA_REANALYSIS_WAV_003_015:dataset-bal-reanalysis-wav-hourly\"], [\"Baltic Sea Physics Reanalysis\", \"EO:MO:DAT:BALTICSEA_REANALYSIS_PHY_003_011:dataset-reanalysis-nemo-surface\"], [\"Baltic Sea Physics Reanalysis\", \"EO:MO:DAT:BALTICSEA_REANALYSIS_PHY_003_011:dataset-reanalysis-nemo-monthlymeans\"], [\"Baltic Sea Physics Reanalysis\", \"EO:MO:DAT:BALTICSEA_REANALYSIS_PHY_003_011:dataset-reanalysis-nemo-dailymeans\"], [\"Baltic Sea Biogeochemistry Reanalysis\", \"EO:MO:DAT:BALTICSEA_REANALYSIS_BIO_003_012:dataset-reanalysis-scobi-monthlymeans\"], [\"Baltic Sea Biogeochemistry Reanalysis\", \"EO:MO:DAT:BALTICSEA_REANALYSIS_BIO_003_012:dataset-reanalysis-scobi-dailymeans\"], [\"Baltic Sea Wave Analysis and Forecast\", \"EO:MO:DAT:BALTICSEA_ANALYSISFORECAST_WAV_003_010:dataset-bal-analysis-forecast-wav-hourly\"], [\"Baltic Sea Physics Analysis and Forecast\", \"EO:MO:DAT:BALTICSEA_ANALYSISFORECAST_PHY_003_006:dataset-bal-analysis-forecast-phy-monthlymeans\"], [\"Baltic Sea Physics Analysis and Forecast\", \"EO:MO:DAT:BALTICSEA_ANALYSISFORECAST_PHY_003_006:dataset-bal-analysis-forecast-phy-hourly\"], [\"Baltic Sea Physics Analysis and Forecast\", \"EO:MO:DAT:BALTICSEA_ANALYSISFORECAST_PHY_003_006:dataset-bal-analysis-forecast-phy-dailymeans\"], [\"Baltic Sea Physics Analysis and Forecast\", \"EO:MO:DAT:BALTICSEA_ANALYSISFORECAST_PHY_003_006:dataset-bal-analysis-forecast-phy-15minutes\"], [\"Baltic Sea Biogeochemistry Analysis and Forecast\", \"EO:MO:DAT:BALTICSEA_ANALYSISFORECAST_BGC_003_007:dataset-bal-analysis-forecast-bio-monthlymeans\"], [\"Baltic Sea Biogeochemistry Analysis and Forecast\", \"EO:MO:DAT:BALTICSEA_ANALYSISFORECAST_BGC_003_007:dataset-bal-analysis-forecast-bio-hourly\"], [\"Baltic Sea Biogeochemistry Analysis and Forecast\", \"EO:MO:DAT:BALTICSEA_ANALYSISFORECAST_BGC_003_007:dataset-bal-analysis-forecast-bio-dailymeans\"], [\"Baltic Sea Biogeochemistry Analysis and Forecast\", \"EO:MO:DAT:BALTICSEA_ANALYSISFORECAST_BGC_003_007:dataset-bal-analysis-forecast-bio-accumulated_daily\"], [\"Arctic Ocean Biogeochemistry Reanalysis\", \"EO:MO:DAT:ARCTIC_MULTIYEAR_WAV_002_013:cmems_mod_arc_wav_my_3km_PT1H-i\"], [\"Arctic Ocean Biogeochemistry Reanalysis\", \"EO:MO:DAT:ARCTIC_MULTIYEAR_PHY_002_003:cmems_mod_arc_phy_my_topaz4_P1M\"], [\"Arctic Ocean Biogeochemistry Reanalysis\", \"EO:MO:DAT:ARCTIC_MULTIYEAR_PHY_002_003:cmems_mod_arc_phy_my_topaz4_P1D-m\"], [\"Arctic Ocean Biogeochemistry Reanalysis\", \"EO:MO:DAT:ARCTIC_MULTIYEAR_BGC_002_005:cmems_mod_arc_bgc_my_ecosmo_P1M\"], [\"Arctic Ocean Biogeochemistry Reanalysis\", \"EO:MO:DAT:ARCTIC_MULTIYEAR_BGC_002_005:cmems_mod_arc_bgc_my_ecosmo_P1D-m\"], [\"Arctic Ocean Wave Analysis and Forecast\", \"EO:MO:DAT:ARCTIC_ANALYSIS_FORECAST_WAV_002_014:dataset-wam-arctic-1hr3km-be\"], [\"Arctic Ocean Tidal Analysis and Forecast\", \"EO:MO:DAT:ARCTIC_ANALYSISFORECAST_PHY_TIDE_002_015:dataset-topaz6-arc-15min-3km-be\"], [\"Arctic Ocean Physics Analysis and Forecast\", \"EO:MO:DAT:ARCTIC_ANALYSIS_FORECAST_PHYS_002_001_a:dataset-topaz4-arc-myoceanv2-be\"], [\"Arctic Ocean Physics Analysis and Forecast\", \"EO:MO:DAT:ARCTIC_ANALYSIS_FORECAST_PHYS_002_001_a:dataset-topaz4-arc-1hr-myoceanv2-be\"], [\"Global Ocean 1/12\\u00b0 Physics Analysis and Forecast updated Daily\", \"EO:MO:DAT:ARCTIC_ANALYSISFORECAST_PHY_ICE_002_011:cmems_mod_arc_phy_anfc_nextsim_hm\"], [\"Arctic Ocean Biogeochemistry Analysis and Forecast\", \"EO:MO:DAT:ARCTIC_ANALYSISFORECAST_BGC_002_004:cmems_mod_arc_bgc_anfc_ecosmo_P1D-m\"], [\"Vegetation Phenology and Productivity, yearly\", \"EO:HRVPP:DAT:VEGETATION-PHENOLOGY-AND-PRODUCTIVITY-PARAMETERS\"], [\"Vegetation Indices, daily\", \"EO:HRVPP:DAT:VEGETATION-INDICES\"], [\"Seasonal Trajectories, 10-daily\", \"EO:HRVPP:DAT:SEASONAL-TRAJECTORIES\"], [\"SRAL Altimetry Global - Sentinel-3\", \"EO:EUM:DAT:SENTINEL-3:SR_2_WAT___\"], [\"SRAL Level 1B - Sentinel-3\", \"EO:EUM:DAT:SENTINEL-3:SR_1_SRA___\"], [\"SLSTR Sea Surface Temperatures (SST) - Sentinel-3\", \"EO:EUM:DAT:SENTINEL-3:SL_2_WST___\"], [\"SLSTR Level 1B Radiances and Brightness Temperatures - Sentinel-3\", \"EO:EUM:DAT:SENTINEL-3:SL_1_RBT___\"], [\"OLCI Ocean Colour Reduced Resolution - Sentinel-3\", \"EO:EUM:DAT:SENTINEL-3:OL_2_WRR___\"], [\"OLCI Ocean Colour Full Resolution - Sentinel-3\", \"EO:EUM:DAT:SENTINEL-3:OL_2_WFR___\"], [\"OLCI Level 1B Reduced Resolution - Sentinel-3\", \"EO:EUM:DAT:SENTINEL-3:OL_1_ERR___\"], [\"OLCI Level 1B Full Resolution - Sentinel-3\", \"EO:EUM:DAT:SENTINEL-3:OL_1_EFR___\"], [\"SENTINEL-5 TROPOMI\", \"EO:ESA:DAT:SENTINEL-5P:TROPOMI\"], [\"Level-2 Synergy Sentilen-3\", \"EO:ESA:DAT:SENTINEL-3:SYNERGY\"], [\"Level 2 Land - SRAL/MWR  - Sentinel-3\", \"EO:ESA:DAT:SENTINEL-3:SR_2_LAN___\"], [\"Level 2 Land - Sea and Land Surface Temperature Radiometer (SLSTR) - Sentinel-3\", \"EO:ESA:DAT:SENTINEL-3:SL_2_LST___\"], [\"OLCI Land Colour Reduced Resolution - Sentinel-3\", \"EO:ESA:DAT:SENTINEL-3:OL_2_LRR___\"], [\"OLCI Land Colour Full Resolution - Sentinel-3\", \"EO:ESA:DAT:SENTINEL-3:OL_2_LFR___\"], [\"SENTINEL-2 Level-1C\", \"EO:ESA:DAT:SENTINEL-2:MSI\"], [\"SENTINEL-1 Level 1 Ground Range Detected (GRD)\", \"EO:ESA:DAT:SENTINEL-1:SAR\"], [\"SENTINEL-2 Level-1C \\u2013 EODC store\", \"EO:ESA:DAT:EODC-SENTINEL-2:MSI1C\"], [\"SENTINEL-1 Level 1 Single Look Complex (SLC) \\u2013 EODC store\", \"EO:ESA:DAT:EODC-SENTINEL-1:L1_SLC\"], [\"SENTINEL-1 Level 1 Ground Range Detected (GRD) \\u2013 EODC store\", \"EO:ESA:DAT:EODC-SENTINEL-1:L1_GRD\"], [\"Water quantity indicators for European catchments\", \"EO:ECMWF:DAT:WATER_QUANTITY_INDICATORS_FOR_EUROPEAN_CATCHMENTS\"], [\"Water quantity indicators for Europe\", \"EO:ECMWF:DAT:WATER_QUALITY_INDICATOR_FOR_EUROPEAN_RIVERS\"], [\"Water sector indicators of hydrological change across Europe from 2011 to 2095 derived from climate simulations\", \"EO:ECMWF:DAT:SIS_WATER_HYDROLOGICAL_CHANGE\"], [\"Climate variables for cities in Europe from 2008 to 2017\", \"EO:ECMWF:DAT:SIS_URBAN_CLIMATE_CITIES\"], [\"Temperature statistics for Europe derived from climate projections\", \"EO:ECMWF:DAT:SIS_TEMPERATURE_STATISTICS\"], [\"Ship performance along standard shipping routes derived from reanalysis and seasonal forecasts\", \"EO:ECMWF:DAT:SIS_SHIPPING_CONSUMPTION_ON_ROUTES\"], [\"Arctic route availability and cost projection derived from climate projections of ice concentration and thickness\", \"EO:ECMWF:DAT:SIS_SHIPPING_ARCTIC\"], [\"Marine biogeochemistry data for the Northwest European Shelf and Mediterranean Sea from 2006 up to 2100 derived from climate projections\", \"EO:ECMWF:DAT:SIS_MARINE_PROPERTIES\"], [\"Multi-model seasonal reforecasts of river discharge for Europe\", \"EO:ECMWF:DAT:SIS_HYDROLOGY_VARIABLES_DERIVED_SEASONAL_REFORECAST\"], [\"Multi-model seasonal forecasts of river discharge for Europe from January 2021 to present\", \"EO:ECMWF:DAT:SIS_HYDROLOGY_VARIABLES_DERIVED_SEASONAL_FORECAST\"], [\"Hydrology-related climate impact indicators from 1970 to 2100 derived from bias adjusted European climate projections\", \"EO:ECMWF:DAT:SIS_HYDROLOGY_VARIABLES_DERIVED_PROJECTIONS\"], [\"Temperature and precipitation climate impact indicators from 1970 to 2100 derived from European climate projections\", \"EO:ECMWF:DAT:SIS_HYDROLOGY_METEOROLOGY_DERIVED_PROJECTIONS\"], [\"Heat waves and cold spells in  Europe derived from climate projections\", \"EO:ECMWF:DAT:SIS_HEAT_AND_COLD_SPELLS\"], [\"Climatic suitability for the presence and seasonal activity of the Aedes albopictus mosquito for Europe derived from climate projections\", \"EO:ECMWF:DAT:SIS_HEALTH_VECTOR\"], [\"Synthetic windstorm events for Europe from 1986 to 2011\", \"EO:ECMWF:DAT:SIS_EUROPEAN_WIND_STORM_SYNTHETIC_EVENTS\"], [\"Winter windstorm indicators for Europe from 1979 to 2021 derived from reanalysis\", \"EO:ECMWF:DAT:SIS_EUROPEAN_WIND_STORM_INDICATORS\"], [\"Flood risk indicators for European cities from 1989 to 2018\", \"EO:ECMWF:DAT:SIS_EUROPEAN_RISK_FLOOD_INDICATORS\"], [\"Extreme precipitation risk indicators for Europe and European cities from 1950 to 2019\", \"EO:ECMWF:DAT:SIS_EUROPEAN_RISK_EXTREME_PRECIPITATION_INDICATORS\"], [\"Climate data for the European energy sector from 1979 to 2016 derived from ERA-Interim\", \"EO:ECMWF:DAT:SIS_EUROPEAN_ENERGY_SECTOR\"], [\"Essential climate variables for water sector applications derived from climate projections\", \"EO:ECMWF:DAT:SIS_ECV_CMIP5_BIAS_CORRECTED\"], [\"Downscaled bioclimatic indicators for selected regions from 1979 to 2018 derived from reanalysis\", \"EO:ECMWF:DAT:SIS_BIODIVERSITY_ERA5_REGIONAL\"], [\"Global bioclimatic indicators from 1979 to 2018 derived from reanalysis\", \"EO:ECMWF:DAT:SIS_BIODIVERSITY_ERA5_GLOBAL\"], [\"Downscaled bioclimatic indicators for selected regions from 1950 to 2100 derived from climate projections\", \"EO:ECMWF:DAT:SIS_BIODIVERSITY_CMIP5_REGIONAL\"], [\"Global bioclimatic indicators from 1950 to 2100 derived from climate projections\", \"EO:ECMWF:DAT:SIS_BIODIVERSITY_CMIP5_GLOBAL\"], [\"Agrometeorological indicators from 1979 to present derived from reanalysis\", \"EO:ECMWF:DAT:SIS_AGROMETEOROLOGICAL_INDICATORS\"], [\"Seasonal forecast monthly statistics on single levels\", \"EO:ECMWF:DAT:SEASONAL_FORECAST_MONTHLY_STATISTICS_ON_SINGLE_LEVELS_2017_PRESENT\"], [\"Seasonal forecast monthly statistics on pressure levels\", \"EO:ECMWF:DAT:SEASONAL_FORECAST_MONTHLY_STATISTICS_ON_PRESSURE_LEVELS_2017_PRESENT\"], [\"Seasonal forecast daily and subdaily data on single levels\", \"EO:ECMWF:DAT:SEASONAL_FORECAST_DAILY_DATA_ON_SINGLE_LEVELS_2017_PRESENT\"], [\"Seasonal forecast subdaily data on pressure levels\", \"EO:ECMWF:DAT:SEASONAL_FORECAST_DAILY_DATA_ON_PRESSURE_LEVELS_2017_PRESENT\"], [\"Seasonal forecast anomalies on single levels\", \"EO:ECMWF:DAT:SEASONAL_FORECAST_ANOMALIES_ON_SINGLE_LEVELS_2017_PRESENT\"], [\"Seasonal forecast anomalies on pressure levels\", \"EO:ECMWF:DAT:SEASONAL_FORECAST_ANOMALIES_ON_PRESSURE_LEVELS_2017_PRESENT\"], [\"Sea level daily gridded data from satellite observations for the Mediterranean Sea from 1993 to 2020\", \"EO:ECMWF:DAT:SEA_LEVEL_DAILY_GRIDDED_DATA_FOR_MEDITERRANEAN_SEA_1993_PRESENT\"], [\"Sea level daily gridded data from satellite observations for the global ocean from 1993 to present\", \"EO:ECMWF:DAT:SEA_LEVEL_DAILY_GRIDDED_DATA_FOR_GLOBAL_OCEAN_1993_PRESENT\"], [\"Sea level daily gridded data from satellite observations for the Black Sea from 1993 to 2020\", \"EO:ECMWF:DAT:SEA_LEVEL_DAILY_GRIDDED_DATA_FOR_BLACK_SEA_1993_PRESENT\"], [\"Sea ice monthly and daily gridded data from 1978 to present derived from satellite sensors\", \"EO:ECMWF:DAT:SEA_ICE_MONTHLY_AND_DAILY_GRIDDED_DATA_1978_PRESENT\"], [\"Upper tropospheric humidity gridded data from 1999 to present derived from satellite observations\", \"EO:ECMWF:DAT:SATELLITE_UPPER_TROPOSPHERE_HUMIDITY\"], [\"Monthly and 6-hourly total column water vapour over ocean from 1988 to 2020 derived from satellite observations\", \"EO:ECMWF:DAT:SATELLITE_TOTAL_COLUMN_WATER_VAPOUR_OCEAN\"], [\"Monthly total column water vapour over land and ocean from  2002 to 2012 derived from satellite observations\", \"EO:ECMWF:DAT:SATELLITE_TOTAL_COLUMN_WATER_VAPOUR_LAND_OCEAN\"], [\"Surface radiation budget from 1982 to present derived from satellite observations\", \"EO:ECMWF:DAT:SATELLITE_SURFACE_RADIATION_BUDGET\"], [\"Soil moisture gridded data from 1978 to present\", \"EO:ECMWF:DAT:SATELLITE_SOIL_MOISTURE\"], [\"Precipitation monthly and daily gridded data from 2000 to 2017 derived from satellite microwave observations\", \"EO:ECMWF:DAT:SATELLITE_PRECIPITATION_MICROWAVE\"], [\"Earth's radiation budget from 1979 to present derived from satellite observations\", \"EO:ECMWF:DAT:SATELLITE_EARTH_RADIATION_BUDGET\"], [\"UERRA regional reanalysis for Europe on soil levels from 1961 to 2019\", \"EO:ECMWF:DAT:REANALYSIS_UERRA_EUROPE_SOIL_LEVELS\"], [\"UERRA regional reanalysis for Europe on single levels from 1961 to 2019\", \"EO:ECMWF:DAT:REANALYSIS_UERRA_EUROPE_SINGLE_LEVELS\"], [\"UERRA regional reanalysis for Europe on pressure levels from 1961 to 2019\", \"EO:ECMWF:DAT:REANALYSIS_UERRA_EUROPE_PRESSURE_LEVELS\"], [\"UERRA regional reanalysis for Europe on height levels from 1961 to 2019\", \"EO:ECMWF:DAT:REANALYSIS_UERRA_EUROPE_HEIGHT_LEVELS\"], [\"Complete UERRA regional reanalysis for Europe from 1961 to 2019\", \"EO:ECMWF:DAT:REANALYSIS_UERRA_EUROPE_COMPLETE\"], [\"ERA5 hourly data on single levels from 1950 to 1978 (preliminary version)\", \"EO:ECMWF:DAT:REANALYSIS_ERA5_SINGLE_LEVELS_PRELIMINARY_BACK_EXTENSION\"], [\"ERA5 monthly averaged data on single levels from 1950 to 1978 (preliminary version)\", \"EO:ECMWF:DAT:REANALYSIS_ERA5_SINGLE_LEVELS_MONTHLY_MEANS_PRELIMINARY_BACK_EXTENSION\"], [\"ERA5 monthly averaged data on single levels from 1979 to present\", \"EO:ECMWF:DAT:REANALYSIS_ERA5_SINGLE_LEVELS_MONTHLY_MEANS\"], [\"ERA5 hourly data on single levels from 1979 to present\", \"EO:ECMWF:DAT:REANALYSIS_ERA5_SINGLE_LEVELS\"], [\"ERA5 hourly data on pressure levels from 1950 to 1978 (preliminary version)\", \"EO:ECMWF:DAT:REANALYSIS_ERA5_PRESSURE_LEVELS_PRELIMINARY_BACK_EXTENSION\"], [\"ERA5 monthly averaged data on pressure levels from 1950 to 1978 (preliminary version)\", \"EO:ECMWF:DAT:REANALYSIS_ERA5_PRESSURE_LEVELS_MONTHLY_MEANS_PRELIMINARY_BACK_EXTENSION\"], [\"ERA5 monthly averaged data on pressure levels from 1979 to present\", \"EO:ECMWF:DAT:REANALYSIS_ERA5_PRESSURE_LEVELS_MONTHLY_MEANS\"], [\"ERA5-Land monthly averaged data from 1950 to present\", \"EO:ECMWF:DAT:REANALYSIS_ERA5_LAND_MONTHLY_MEANS\"], [\"ERA5-Land hourly data from 1950 to present\", \"EO:ECMWF:DAT:REANALYSIS_ERA5_LAND\"], [\"Data Rescue Service from the Copernicus Climate Change Service\", \"EO:ECMWF:DAT:PROVIDER_C3S_DATA_RESCUE_WITHOUT\"], [\"Methane data from 2002 to present derived from satellite observations\", \"EO:ECMWF:DAT:METHANE_DATA_SATELLITE_SENSORS_2002_PRESENT\"], [\"Nordic gridded temperature and precipitation data from 1971 to present derived from in-situ observations\", \"EO:ECMWF:DAT:INSITU_GRIDDED_OBSERVATIONS_NORDIC\"], [\"Glaciers elevation and mass change data from 1850 to present from the Fluctuations of Glaciers Database\", \"EO:ECMWF:DAT:GLACIERS_ELEVATION_AND_MASS_CHANGE_DATA_1850_PRESENT\"], [\"Glaciers distribution data from the Randolph Glacier Inventory for year 2000\", \"EO:ECMWF:DAT:GLACIERS_DISTRIBUTION_DATA_FROM_RANDOLPH_GLACIER_INVENTORY_2000\"], [\"ERA5 hourly data on pressure levels from 1959 to present\", \"EO:ECMWF:DAT:ERA5_HOURLY_VARIABLES_ON_PRESSURE_LEVELS\"], [\"Seasonal reforecasts of river discharge and related data by the European Flood Awareness System\", \"EO:ECMWF:DAT:EFAS_SEASONAL_REFORECAST\"], [\"Seasonal forecasts of river discharge and related data by the European Flood Awareness System\", \"EO:ECMWF:DAT:EFAS_SEASONAL\"], [\"Reforecasts of river discharge and related data by the European Flood Awareness System\", \"EO:ECMWF:DAT:EFAS_REFORECAST\"], [\"River discharge and related historical data from the European Flood Awareness System\", \"EO:ECMWF:DAT:EFAS_HISTORICAL\"], [\"River discharge and related forecasted data by the European Flood Awareness System\", \"EO:ECMWF:DAT:EFAS_FORECAST\"], [\"Carbon dioxide data from 2002 to present derived from satellite observations\", \"EO:ECMWF:DAT:CO2_DATA_FROM_SATELLITE_SENSORS_2002_PRESENT\"], [\"Seasonal reforecasts of river discharge and related data from the Global Flood Awareness System\", \"EO:ECMWF:DAT:CEMS_GLOFAS_SEASONAL_REFORECAST\"], [\"Seasonal forecasts of river discharge and related data by the Global Flood Awareness System\", \"EO:ECMWF:DAT:CEMS_GLOFAS_SEASONAL\"], [\"Reforecasts of river discharge and related data by the Global Flood Awareness System\", \"EO:ECMWF:DAT:CEMS_GLOFAS_REFORECAST\"], [\"River discharge and related historical data from the Global Flood Awareness System\", \"EO:ECMWF:DAT:CEMS_GLOFAS_HISTORICAL\"], [\"River discharge and related forecasted data by the Global Flood Awareness System\", \"EO:ECMWF:DAT:CEMS_GLOFAS_FORECAST\"], [\"Fire danger indices historical data from the Copernicus Emergency Management Service\", \"EO:ECMWF:DAT:CEMS_FIRE_HISTORICAL\"], [\"CAMS solar radiation time-series\", \"EO:ECMWF:DAT:CAMS_SOLAR_RADIATION_TIMESERIES\"], [\"CAMS global inversion-optimised greenhouse gas fluxes and concentrations\", \"EO:ECMWF:DAT:CAMS_GREENHOUSE_GAS_FLUXES\"], [\"CAMS global reanalysis (EAC4) monthly averaged fields\", \"EO:ECMWF:DAT:CAMS_GLOBAL_REANALYSIS_EAC4_MONTHLY\"], [\"CAMS global reanalysis (EAC4)\", \"EO:ECMWF:DAT:CAMS_GLOBAL_REANALYSIS_EAC4\"], [\"CAMS global radiative forcings\", \"EO:ECMWF:DAT:CAMS_GLOBAL_RADIATIVE_FORCINGS\"], [\"CAMS global radiative forcing - auxilliary variables\", \"EO:ECMWF:DAT:CAMS_GLOBAL_RADIATIVE_FORCING_AUXILLIARY_VARIABLES\"], [\"CAMS global greenhouse gas reanalysis (EGG4) monthly averaged fields\", \"EO:ECMWF:DAT:CAMS_GLOBAL_GHG_REANALYSIS_EGG4_MONTHLY\"], [\"CAMS global greenhouse gas reanalysis (EGG4)\", \"EO:ECMWF:DAT:CAMS_GLOBAL_GHG_REANALYSIS_EGG4\"], [\"CAMS global emission inventories\", \"EO:ECMWF:DAT:CAMS_GLOBAL_EMISSION_INVENTORIES\"], [\"CAMS global atmospheric composition forecasts\", \"EO:ECMWF:DAT:CAMS_GLOBAL_ATMOSPHERIC_COMPOSITION_FORECASTS\"], [\"CAMS European air quality reanalyses\", \"EO:ECMWF:DAT:CAMS_EUROPE_AIR_QUALITY_REANALYSES\"], [\"CAMS European air quality forecasts\", \"EO:ECMWF:DAT:CAMS_EUROPE_AIR_QUALITY_FORECASTS\"], [\"Copernicus High Resolution Snow and Ice Monitoring: Wet/Dry Snow 60 m\", \"EO:CRYO:DAT:HRSI:WDS\"], [\"Copernicus High Resolution Snow and Ice Monitoring: SAR Wet Snow 60 m\", \"EO:CRYO:DAT:HRSI:SWS\"], [\"Copernicus High Resolution Snow and Ice Monitoring: River and Lake Ice Extent (RLIE) 20 m\", \"EO:CRYO:DAT:HRSI:RLIE\"], [\"Copernicus High Resolution Snow and Ice Monitoring: Persistent Snow Area (PSA) 20m\", \"EO:CRYO:DAT:HRSI:PSALAEA\"], [\"Copernicus High Resolution Snow and Ice Monitoring: Persistent Snow Area (PSA) 20m\", \"EO:CRYO:DAT:HRSI:PSA\"], [\"Copernicus High Resolution Snow and Ice Monitoring: Daily Cumulative Gap-filled Snow Cover 60m\", \"EO:CRYO:DAT:HRSI:GFSC\"], [\"Copernicus High Resolution Snow and Ice Monitoring: Fractional Snow Cover (FSC) 20 m\", \"EO:CRYO:DAT:HRSI:FSC\"], [\"High Resolution Snow and Ice Monitoring: Aggregated River and Lake Ice Extent\", \"EO:CRYO:DAT:HRSI:ARLIE\"], [\"Urban Atlas\", \"EO:CLMS:DAT:URBAN-ATLAS\"], [\"Riparian Zones\", \"EO:CLMS:DAT:RIPARIANZONES\"], [\"Natura 2000\", \"EO:CLMS:DAT:N2K\"], [\"High Resolution Layers\", \"EO:CLMS:DAT:HRL\"], [\"EU-Hydro\", \"EO:CLMS:DAT:EU-HYDRO\"], [\"EU-DEM and Derived Products\", \"EO:CLMS:DAT:EU-DEM\"], [\"CORINE Land Cover\", \"EO:CLMS:DAT:CORINE\"], [\"Coastal Zones\", \"EO:CLMS:DAT:COASTALZONES\"], [\"10-daily Water Bodies 1KM\", \"EO:CLMS:DAT:CGLS_GLOBAL_WB_V2_1KM\"], [\"10-daily Water Bodies 333M\", \"EO:CLMS:DAT:CGLS_GLOBAL_WB300_V1_333M\"], [\"Soil Water Index: Static layers\", \"EO:CLMS:DAT:CGLS_GLOBAL_SWI-STATIC_V1_0.1DEGREE\"], [\"Global 10-daily Soil Water Index 0.1 degree\", \"EO:CLMS:DAT:CGLS_GLOBAL_SWI10_V3_0.1DEGREE\"], [\"Global 10-daily Normalized Difference Vegetation Index 1KM\", \"EO:CLMS:DAT:CGLS_GLOBAL_NDVI_V2_1KM\"], [\"Global 10-daily Normalized Difference Vegetation Index 333M\", \"EO:CLMS:DAT:CGLS_GLOBAL_NDVI300_V1_333M\"], [\"Global 10-daily Leaf Area Index 1km\", \"EO:CLMS:DAT:CGLS_GLOBAL_LAI_V2_1KM\"], [\"Global 10-daily Leaf Area Index 1km\", \"EO:CLMS:DAT:CGLS_GLOBAL_LAI_V1_1KM\"], [\"Global 10-daily Leaf Area Index 333m\", \"EO:CLMS:DAT:CGLS_GLOBAL_LAI300_V1_333M\"], [\"10-daily Gross Dry Matter Productivity 1KM\", \"EO:CLMS:DAT:CGLS_GLOBAL_GDMP_V2_1KM\"], [\"10-daily Gross Dry Matter Productivity 333M\", \"EO:CLMS:DAT:CGLS_GLOBAL_GDMP300_V1_333M\"], [\"Global 10-daily Fraction of Vegetation Cover 1km\", \"EO:CLMS:DAT:CGLS_GLOBAL_FCOVER_V2_1KM\"], [\"Global 10-daily Fraction of Vegetation Cover 1km\", \"EO:CLMS:DAT:CGLS_GLOBAL_FCOVER_V1_1KM\"], [\"Global 10-daily Fraction of Vegetation Cover 333m\", \"EO:CLMS:DAT:CGLS_GLOBAL_FCOVER300_V1_333M\"], [\"Global 10-daily Fraction of Absorbed PAR 1km\", \"EO:CLMS:DAT:CGLS_GLOBAL_FAPAR_V2_1KM\"], [\"Global 10-daily Fraction of Absorbed Photosynthetically Active Radiation 1km\", \"EO:CLMS:DAT:CGLS_GLOBAL_FAPAR_V1_1KM\"], [\"Global 10-daily Fraction of Absorbed PAR 333m\", \"EO:CLMS:DAT:CGLS_GLOBAL_FAPAR300_V1_333M\"], [\"10-daily Dry Matter Productivity 1KM\", \"EO:CLMS:DAT:CGLS_GLOBAL_DMP_V2_1KM\"], [\"10-daily Dry Matter Productivity 333M\", \"EO:CLMS:DAT:CGLS_GLOBAL_DMP300_V1_333M\"], [\"Global 10-daily Burnt Area 333m\", \"EO:CLMS:DAT:CGLS_GLOBAL_BA300_V1_333M\"], [\"Global 10-daily Broadband Directional Surface Albedo 1km\", \"EO:CLMS:DAT:CGLS_GLOBAL_ALDH_V1_1KM\"], [\"Global 10-daily Broadband Hemispherical Surface Albedo 1km\", \"EO:CLMS:DAT:CGLS_GLOBAL_ALBH_V1_1KM\"], [\"10-daily Water Bodies over Africa 1km: Continents\", \"EO:CLMS:DAT:CGLS_CONTINENTS_WB_V1_1KM\"]];\n",
       "\n",
       "    if (typeof require === 'undefined') {\n",
       "        // TODO: This should become the default (use a simple import)\n",
       "        // when the ESM version works independently of whether\n",
       "        // require.js is there or not, see\n",
       "        // https://datatables.net/forums/discussion/69066/esm-es6-module-support?\n",
       "        const {default: $} = await import(\"https://esm.sh/jquery@3.5.0\");\n",
       "        const {default: initDataTables} = await import(\"https://esm.sh/datatables.net@1.11.3?deps=jquery@3.5.0\");\n",
       "\n",
       "        initDataTables();\n",
       "\n",
       "        // Define the dt_args\n",
       "        let dt_args = {\"scrollX\": true, \"columnDefs\": [{\"className\": \"dt-left\", \"targets\": \"_all\"}]};\n",
       "        dt_args[\"data\"] = data;\n",
       "\n",
       "        // Display the table\n",
       "        $(document).ready(function () {\n",
       "            $('#dc858ddf-3dcd-4104-96fe-2d48cf4de513').DataTable(dt_args);\n",
       "        });\n",
       "    } else {\n",
       "        require([\"jquery\", \"datatables\"], ($, datatables) => {\n",
       "                // Define the dt_args\n",
       "                let dt_args = {\"scrollX\": true, \"columnDefs\": [{\"className\": \"dt-left\", \"targets\": \"_all\"}]};\n",
       "                dt_args[\"data\"] = data;\n",
       "\n",
       "                // Display the table\n",
       "                $(document).ready(function () {\n",
       "                    $('#dc858ddf-3dcd-4104-96fe-2d48cf4de513').DataTable(dt_args);\n",
       "                });\n",
       "            }\n",
       "        )\n",
       "    }\n",
       "</script>\n"
      ],
      "text/plain": [
       "<IPython.core.display.HTML object>"
      ]
     },
     "metadata": {},
     "output_type": "display_data"
    }
   ],
   "source": [
    "size = 2000 # Max number of datasets to be requested\n",
    "dataset = requests.get(\"https://wekeo-broker-k8s.apps.mercator.dpi.wekeo.eu/databroker/datasets?size=\"+str(size)) #GET Request to API endpoint\n",
    "data = json.loads(dataset.text)\n",
    "data_df = pd.json_normalize(data['content'])\n",
    "data_show = data_df[['title','datasetId']]\n",
    "show(data_show, scrollX=True, columnDefs=[{\"className\": \"dt-left\", \"targets\": \"_all\"}])"
   ]
  },
  {
   "cell_type": "markdown",
   "id": "f8776c0c",
   "metadata": {},
   "source": [
    "You can copy and paste the `datasetId` directly from the dynamic table above.\n",
    "\n",
    "<div class=\"alert alert-success\" role=\"alert\">\n",
    "<span>&#x2714;</span>\n",
    "<a id='libraries'></a>Now that you know how to look for your data of interest, you are ready to start accessing and downloading the products!\n",
    "</div>\n",
    "\n",
    "----"
   ]
  },
  {
   "cell_type": "markdown",
   "id": "f27b65bc",
   "metadata": {
    "tags": []
   },
   "source": [
    "<div class=\"alert alert-info\" role=\"alert\">\n",
    "\n",
    "## <a id='sec4'></a>&#x27A4; 4. Data Access, Preview and Download\n",
    "[Back to top](#TOC_TOP)\n",
    "\n",
    "</div>"
   ]
  },
  {
   "cell_type": "markdown",
   "id": "1b4736aa",
   "metadata": {},
   "source": [
    "As an initial example, you can use the dataset `ECMWF ERA5 Reanalysis Single Levels` which provides hourly estimates for many of atmospheric, ocean and land variables. \n",
    "\n",
    "The main goal is to understand how to retrieve and visualise a dataset of interest within the Notebook using the **HDA API**. \n",
    "\n",
    "The first step is to store the `datasetId` of the selected dataset into a string variable, as follows:"
   ]
  },
  {
   "cell_type": "code",
   "execution_count": 7,
   "id": "346d1e01",
   "metadata": {},
   "outputs": [],
   "source": [
    "dataset_id = 'EO:ECMWF:DAT:REANALYSIS_ERA5_SINGLE_LEVELS'"
   ]
  },
  {
   "cell_type": "markdown",
   "id": "f0c3830b",
   "metadata": {
    "tags": []
   },
   "source": [
    "### Data and metadata preview\n",
    "\n",
    "To start exploring a dataset, it is always suggested to access all the descriptive information (metadata) and generate a graphical preview of it.\n",
    "\n",
    "By re-using the previus strategy (i.e. using a [<span style='color:Blue'>Pandas DataFrame</span>](https://pandas.pydata.org/docs/reference/api/pandas.DataFrame.html) with [<span style='color:Blue'>itables</span>](https://mwouts.github.io/itables/advanced_parameters.html)), it is possible to select only the dataset you are interested in - in this case the `ERA5 Reanalysis Single Levels` - by filetr the table on the `datasetId`."
   ]
  },
  {
   "cell_type": "code",
   "execution_count": 8,
   "id": "6a2d52fa",
   "metadata": {},
   "outputs": [
    {
     "data": {
      "text/html": [
       "<table id=\"a5823b44-d822-4859-8fef-71ce170b5980\" class=\"display hover nowrap\"style=\"max-width:100%\"><thead>\n",
       "    <tr style=\"text-align: right;\">\n",
       "      <th></th>\n",
       "      <th>abstract</th>\n",
       "      <th>datasetId</th>\n",
       "      <th>previewImage</th>\n",
       "      <th>title</th>\n",
       "    </tr>\n",
       "  </thead><tbody><tr><td>Loading... (need <a href=https://mwouts.github.io/itables/troubleshooting.html>help</a>?)</td></tr></tbody></table>\n",
       "<link rel=\"stylesheet\" type=\"text/css\" href=\"https://cdn.datatables.net/1.11.3/css/jquery.dataTables.min.css\">\n",
       "<style> table td {\n",
       "    text-overflow: ellipsis;\n",
       "    overflow: hidden;\n",
       "} </style>\n",
       "<style> table th {\n",
       "    text-overflow: ellipsis;\n",
       "    overflow: hidden;\n",
       "} </style>\n",
       "<script type=\"module\">\n",
       "    // Define the table data\n",
       "    const data = [[943, \"ERA5 is the fifth generation ECMWF reanalysis for the global climate and weather for the past 4 to 7 decades.\\nCurrently data is available from 1950, split into Climate Data Store entries for 1950-1978 (preliminary back extension) and from 1979 onwards (final release plus timely updates, this page).\\nERA5 replaces the ERA-Interim reanalysis.\\nReanalysis combines model data with observations from across the world into a globally complete and consistent dataset using the laws of physics. This principle, called data assimilation, is based on the method used by numerical weather prediction centres, where every so many hours (12 hours at ECMWF) a previous forecast is combined with newly available observations in an optimal way to produce a new best estimate of the state of the atmosphere, called analysis, from which an updated, improved forecast is issued. Reanalysis works in the same way, but at reduced resolution to allow for the provision of a dataset spanning back several decades. Reanalysis does not have the constraint of issuing timely forecasts, so there is more time to collect observations, and when going further back in time, to allow for the ingestion of improved versions of the original observations, which all benefit the quality of the reanalysis product.\\nERA5 provides hourly estimates for a large number of atmospheric, ocean-wave and land-surface quantities.\\nAn uncertainty estimate is sampled by an underlying 10-member ensemble \\nat three-hourly intervals. Ensemble mean and spread have been pre-computed for convenience.\\nSuch uncertainty estimates are closely related to the information content of the available observing system which\\nhas evolved considerably over time. They also indicate flow-dependent sensitive areas.\\nTo facilitate many climate applications, monthly-mean averages have been pre-calculated too, \\nthough monthly means are not available for the ensemble mean and spread.\\nERA5 is updated daily with a latency of about 5 days.\\nIn case  that serious flaws are detected in this early release (called ERA5T), this\\ndata could be different from the final release 2 to 3 months later.\\nSo far this has not been the case and when this does occur users will be notified.\\nThe data set presented here is a regridded subset of the full ERA5 data set on native resolution. \\nIt is online on spinning disk, which should ensure fast and easy access.\\nIt should satisfy the requirements for most common applications.\\nAn overview of all ERA5 datasets can be found in this article.\\nInformation on access to ERA5 data on native resolution is provided in these guidelines.\\nData has been regridded to a regular lat-lon grid of 0.25 degrees for the reanalysis and 0.5 degrees for\\nthe uncertainty estimate (0.5 and 1 degree respectively for ocean waves).\\nThere are four main sub sets: hourly and monthly products, both on pressure levels (upper air fields) and single levels (atmospheric, ocean-wave and land surface quantities).\\nThe present entry is \\\"ERA5 hourly data on single levels from 1979 to present\\\".\\n\\nVariables in the dataset/application are:\\n100m u-component of wind, 100m v-component of wind, 10m u-component of neutral wind, 10m u-component of wind, 10m v-component of neutral wind, 10m v-component of wind, 10m wind gust since previous post-processing, 2m dewpoint temperature, 2m temperature, Air density over the oceans, Altimeter corrected wave height, Altimeter range relative correction, Altimeter wave height, Angle of sub-gridscale orography, Anisotropy of sub-gridscale orography, Benjamin-feir index, Boundary layer dissipation, Boundary layer height, Charnock, Clear-sky direct solar radiation at surface, Cloud base height, Coefficient of drag with waves, Convective available potential energy, Convective inhibition, Convective precipitation, Convective rain rate, Convective snowfall, Convective snowfall rate water equivalent, Downward UV radiation at the surface, Duct base height, Eastward gravity wave surface stress, Eastward turbulent surface stress, Evaporation, Forecast albedo, Forecast logarithm of surface roughness for heat, Forecast surface roughness, Free convective velocity over the oceans, Friction velocity, Gravity wave dissipation, High cloud cover, High vegetation cover, Ice temperature layer 1, Ice temperature layer 2, Ice temperature layer 3, Ice temperature layer 4, Instantaneous 10m wind gust, Instantaneous eastward turbulent surface stress, Instantaneous large-scale surface precipitation fraction, Instantaneous moisture flux, Instantaneous northward turbulent surface stress, Instantaneous surface sensible heat flux, K index, Lake bottom temperature, Lake cover, Lake depth, Lake ice depth, Lake ice temperature, Lake mix-layer depth, Lake mix-layer temperature, Lake shape factor, Lake total layer temperature, Land-sea mask, Large scale rain rate, Large scale snowfall rate water equivalent, Large-scale precipitation, Large-scale precipitation fraction, Large-scale snowfall, Leaf area index, high vegetation, Leaf area index, low vegetation, Low cloud cover, Low vegetation cover, Maximum 2m temperature since previous post-processing, Maximum individual wave height, Maximum total precipitation rate since previous post-processing, Mean boundary layer dissipation, Mean convective precipitation rate, Mean convective snowfall rate, Mean direction of total swell, Mean direction of wind waves, Mean eastward gravity wave surface stress, Mean eastward turbulent surface stress, Mean evaporation rate, Mean gravity wave dissipation, Mean large-scale precipitation fraction, Mean large-scale precipitation rate, Mean large-scale snowfall rate, Mean northward gravity wave surface stress, Mean northward turbulent surface stress, Mean period of total swell, Mean period of wind waves, Mean potential evaporation rate, Mean runoff rate, Mean sea level pressure, Mean snow evaporation rate, Mean snowfall rate, Mean snowmelt rate, Mean square slope of waves, Mean sub-surface runoff rate, Mean surface direct short-wave radiation flux, Mean surface direct short-wave radiation flux, clear sky, Mean surface downward UV radiation flux, Mean surface downward long-wave radiation flux, Mean surface downward long-wave radiation flux, clear sky, Mean surface downward short-wave radiation flux, Mean surface downward short-wave radiation flux, clear sky, Mean surface latent heat flux, Mean surface net long-wave radiation flux, Mean surface net long-wave radiation flux, clear sky, Mean surface net short-wave radiation flux, Mean surface net short-wave radiation flux, clear sky, Mean surface runoff rate, Mean surface sensible heat flux, Mean top downward short-wave radiation flux, Mean top net long-wave radiation flux, Mean top net long-wave radiation flux, clear sky, Mean top net short-wave radiation flux, Mean top net short-wave radiation flux, clear sky, Mean total precipitation rate, Mean vertical gradient of refractivity inside trapping layer, Mean vertically integrated moisture divergence, Mean wave direction, Mean wave direction of first swell partition, Mean wave direction of second swell partition, Mean wave direction of third swell partition, Mean wave period, Mean wave period based on first moment, Mean wave period based on first moment for swell, Mean wave period based on first moment for wind waves, Mean wave period based on second moment for swell, Mean wave period based on second moment for wind waves, Mean wave period of first swell partition, Mean wave period of second swell partition, Mean wave period of third swell partition, Mean zero-crossing wave period, Medium cloud cover, Minimum 2m temperature since previous post-processing, Minimum total precipitation rate since previous post-processing, Minimum vertical gradient of refractivity inside trapping layer, Model bathymetry, Near IR albedo for diffuse radiation, Near IR albedo for direct radiation, Normalized energy flux into ocean, Normalized energy flux into waves, Normalized stress into ocean, Northward gravity wave surface stress, Northward turbulent surface stress, Ocean surface stress equivalent 10m neutral wind direction, Ocean surface stress equivalent 10m neutral wind speed, Orography, Peak wave period, Period corresponding to maximum individual wave height, Potential evaporation, Precipitation type, Runoff, Sea surface temperature, Sea-ice cover, Significant height of combined wind waves and swell, Significant height of total swell, Significant height of wind waves, Significant wave height of first swell partition, Significant wave height of second swell partition, Significant wave height of third swell partition, Skin reservoir content, Skin temperature, Slope of sub-gridscale orography, Snow albedo, Snow density, Snow depth, Snow evaporation, Snowfall, Snowmelt, Soil temperature level 1, Soil temperature level 2, Soil temperature level 3, Soil temperature level 4, Soil type, Standard deviation of filtered subgrid orography, Standard deviation of orography, Sub-surface runoff, Surface latent heat flux, Surface net solar radiation, Surface net solar radiation, clear sky, Surface net thermal radiation, Surface net thermal radiation, clear sky, Surface pressure, Surface runoff, Surface sensible heat flux, Surface solar radiation downward, clear sky, Surface solar radiation downwards, Surface thermal radiation downward, clear sky, Surface thermal radiation downwards, TOA incident solar radiation, Temperature of snow layer, Top net solar radiation, Top net solar radiation, clear sky, Top net thermal radiation, Top net thermal radiation, clear sky, Total cloud cover, Total column cloud ice water, Total column cloud liquid water, Total column ozone, Total column rain water, Total column snow water, Total column supercooled liquid water, Total column water, Total column water vapour, Total precipitation, Total sky direct solar radiation at surface, Total totals index, Trapping layer base height, Trapping layer top height, Type of high vegetation, Type of low vegetation, U-component stokes drift, UV visible albedo for diffuse radiation, UV visible albedo for direct radiation, V-component stokes drift, Vertical integral of divergence of cloud frozen water flux, Vertical integral of divergence of cloud liquid water flux, Vertical integral of divergence of geopotential flux, Vertical integral of divergence of kinetic energy flux, Vertical integral of divergence of mass flux, Vertical integral of divergence of moisture flux, Vertical integral of divergence of ozone flux, Vertical integral of divergence of thermal energy flux, Vertical integral of divergence of total energy flux, Vertical integral of eastward cloud frozen water flux, Vertical integral of eastward cloud liquid water flux, Vertical integral of eastward geopotential flux, Vertical integral of eastward heat flux, Vertical integral of eastward kinetic energy flux, Vertical integral of eastward mass flux, Vertical integral of eastward ozone flux, Vertical integral of eastward total energy flux, Vertical integral of eastward water vapour flux, Vertical integral of energy conversion, Vertical integral of kinetic energy, Vertical integral of mass of atmosphere, Vertical integral of mass tendency, Vertical integral of northward cloud frozen water flux, Vertical integral of northward cloud liquid water flux, Vertical integral of northward geopotential flux, Vertical integral of northward heat flux, Vertical integral of northward kinetic energy flux, Vertical integral of northward mass flux, Vertical integral of northward ozone flux, Vertical integral of northward total energy flux, Vertical integral of northward water vapour flux, Vertical integral of potential and internal energy, Vertical integral of potential, internal and latent energy, Vertical integral of temperature, Vertical integral of thermal energy, Vertical integral of total energy, Vertically integrated moisture divergence, Volumetric soil water layer 1, Volumetric soil water layer 2, Volumetric soil water layer 3, Volumetric soil water layer 4, Wave spectral directional width, Wave spectral directional width for swell, Wave spectral directional width for wind waves, Wave spectral kurtosis, Wave spectral peakedness, Wave spectral skewness, Zero degree level\", \"EO:ECMWF:DAT:REANALYSIS_ERA5_SINGLE_LEVELS\", \"https://wekeo-broker-k8s.apps.mercator.dpi.wekeo.eu/previews/EO_ECMWF_DAT_REANALYSIS_ERA5_SINGLE_LEVELS.jpg\", \"ERA5 hourly data on single levels from 1979 to present\"]];\n",
       "\n",
       "    if (typeof require === 'undefined') {\n",
       "        // TODO: This should become the default (use a simple import)\n",
       "        // when the ESM version works independently of whether\n",
       "        // require.js is there or not, see\n",
       "        // https://datatables.net/forums/discussion/69066/esm-es6-module-support?\n",
       "        const {default: $} = await import(\"https://esm.sh/jquery@3.5.0\");\n",
       "        const {default: initDataTables} = await import(\"https://esm.sh/datatables.net@1.11.3?deps=jquery@3.5.0\");\n",
       "\n",
       "        initDataTables();\n",
       "\n",
       "        // Define the dt_args\n",
       "        let dt_args = {\"scrollX\": true, \"columnDefs\": [{\"className\": \"dt-left\", \"targets\": \"_all\"}], \"paging\": false};\n",
       "        dt_args[\"data\"] = data;\n",
       "\n",
       "        // Display the table\n",
       "        $(document).ready(function () {\n",
       "            $('#a5823b44-d822-4859-8fef-71ce170b5980').DataTable(dt_args);\n",
       "        });\n",
       "    } else {\n",
       "        require([\"jquery\", \"datatables\"], ($, datatables) => {\n",
       "                // Define the dt_args\n",
       "                let dt_args = {\"scrollX\": true, \"columnDefs\": [{\"className\": \"dt-left\", \"targets\": \"_all\"}], \"paging\": false};\n",
       "                dt_args[\"data\"] = data;\n",
       "\n",
       "                // Display the table\n",
       "                $(document).ready(function () {\n",
       "                    $('#a5823b44-d822-4859-8fef-71ce170b5980').DataTable(dt_args);\n",
       "                });\n",
       "            }\n",
       "        )\n",
       "    }\n",
       "</script>\n"
      ],
      "text/plain": [
       "<IPython.core.display.HTML object>"
      ]
     },
     "metadata": {},
     "output_type": "display_data"
    }
   ],
   "source": [
    "size = 2000\n",
    "dataset = requests.get(\"https://wekeo-broker-k8s.apps.mercator.dpi.wekeo.eu/databroker/datasets?size=\"+str(size))\n",
    "data = json.loads(dataset.text)\n",
    "data_df = pd.json_normalize(data['content'])\n",
    "data_df = data_df[data_df['datasetId'] == dataset_id]\n",
    "show(data_df, scrollX=True, columnDefs=[{\"className\": \"dt-left\", \"targets\": \"_all\"}])"
   ]
  },
  {
   "cell_type": "markdown",
   "id": "019f07b4",
   "metadata": {},
   "source": [
    "You have now the full information on the dataset in different columns of the Pandas DataFrame:\n",
    "\n",
    " - `abstract`\n",
    " - `datasetId`\n",
    " - `previewImage` (dataset preview image)\n",
    " - `title`\n",
    " \n",
    "You can use the dataset `title`, `preview image` and the `abstract` to create a dynamic widget using [<span style='color:Blue'>IPyWidgets</span>](https://ipywidgets.readthedocs.io/en/latest/index.html#) thus enaching the exploration of the dataset. \n",
    "\n",
    "To do so, you need to create the variables to feed the widget as shown below."
   ]
  },
  {
   "cell_type": "code",
   "execution_count": 9,
   "id": "808a880b",
   "metadata": {},
   "outputs": [],
   "source": [
    "# Get the dataset title from data_df\n",
    "title = data_df.title.values[0]\n",
    "\n",
    "# Get the dataset abstract from data_df\n",
    "description = list(data_df[\"abstract\"])[0]\n",
    "\n",
    "# Get the dataset preview mage preview and create a display image using IPython\n",
    "img_url = list(data_df[\"previewImage\"])[0]\n",
    "image = IPython.display.Image(img_url, width = 500)\n",
    "image = widgets.Image(value=image.data,format=\"jpg\", width=500,height=600)"
   ]
  },
  {
   "cell_type": "markdown",
   "id": "3a03a880",
   "metadata": {},
   "source": [
    "Now, let's use the IPyWidgets `HTML` and `Box` controls to create the graphical interface for the visualization. You can customize controls' styles and spacing as you wish."
   ]
  },
  {
   "cell_type": "code",
   "execution_count": 10,
   "id": "2e11006e",
   "metadata": {},
   "outputs": [
    {
     "data": {
      "application/vnd.jupyter.widget-view+json": {
       "model_id": "e063fd423aae4fef87ea0fb99264e56f",
       "version_major": 2,
       "version_minor": 0
      },
      "text/plain": [
       "Box(children=(AppLayout(children=(VBox(children=(Image(value=b'\\xff\\xd8\\xff\\xe0\\x00\\x10JFIF\\x00\\x01\\x01\\x01\\x0…"
      ]
     },
     "metadata": {},
     "output_type": "display_data"
    }
   ],
   "source": [
    "# Create the boxes\n",
    "title_box = widgets.HTML('<h2 style=\"text-align:center;font-size:18px;\">'+title+'</h2>')\n",
    "descr_box = widgets.HTML('<p style=\"text-align:justify;font-size:14px;\">'+description+'</p>')\n",
    "image_box = widgets.VBox([image])\n",
    "descr_box = widgets.VBox([title_box, descr_box])\n",
    "\n",
    "# Create the Layout for the dataset preview\n",
    "ui = widgets.AppLayout(right_sidebar=descr_box, left_sidebar = image_box,grid_gap=\"10px\", layout=widgets.Layout(border='solid'))\n",
    "\n",
    "container = widgets.Box([ui], layout=Layout(height='400px', overflow_y='auto'))\n",
    "display(container)"
   ]
  },
  {
   "cell_type": "markdown",
   "id": "aea6fac9",
   "metadata": {
    "tags": []
   },
   "source": [
    "### Set-up an interactive dashboard to automate data requests"
   ]
  },
  {
   "cell_type": "markdown",
   "id": "95ab7e28",
   "metadata": {},
   "source": [
    "For `ERA5 Hourly Data On Single Levels` you have to provide the following information:\n",
    "\n",
    " - `Variable`: 'product variable (atmospheric/climate)'\n",
    " - `Format type`: 'e.g. netCDF'\n",
    " - `Product type`: 'e.g. ensemble_mean'\n",
    " - `Year`\n",
    " - `Month`\n",
    " - `Day`\n",
    " - `Time`: 'UTC hours'\n",
    " \n",
    "All the parameters must be provided as *strings* (or a *list of strings*)."
   ]
  },
  {
   "cell_type": "markdown",
   "id": "ee45e3a5",
   "metadata": {},
   "source": [
    "Let's try now to create an interactive dashboard to automate data requests.\n",
    "\n",
    "On the [<span style='color:Blue'>WEkEO Data Discovery Platform</span>](https://www.wekeo.eu/data), it is possible to check the parameters needed to perform the API request for accessing any dataset (and show each API request). \n",
    "\n",
    "![SegmentLocal](img/gif_query.gif \"segment\")"
   ]
  },
  {
   "cell_type": "markdown",
   "id": "af868037",
   "metadata": {},
   "source": [
    "### Accessing metadata\n",
    "\n",
    "To build the dashboard, you need to access the dataset's `metadata`. The metadata can be requested in [<span style='color:Blue'>JSON</span>](https://en.wikipedia.org/wiki/JSON) format and they contain all the information necessary to create the widgets, and finally the dashboard.\n",
    "\n",
    "The metadata can be obtained using the following `GET` request:"
   ]
  },
  {
   "cell_type": "code",
   "execution_count": 11,
   "id": "000dedfd",
   "metadata": {},
   "outputs": [],
   "source": [
    "headers = {'authorization': token}\n",
    "dataset = requests.get(\"https://wekeo-broker-k8s.apps.mercator.dpi.wekeo.eu/databroker/querymetadata/\"+dataset_id, headers=headers)\n",
    "metadata = json.loads(dataset.text)"
   ]
  },
  {
   "cell_type": "markdown",
   "id": "1ef9c755",
   "metadata": {},
   "source": [
    "We can interactively visualize the metadata using the [<span style='color:Blue'>IPython</span>](query:https://ipython.org/) `display` function. This is very useful to understand how the `JSON` file containing the dataset metadata is structured and how it can be exploited to create the API requests. Try to open the metadata file and to figure out how the dataset is structured:"
   ]
  },
  {
   "cell_type": "code",
   "execution_count": 12,
   "id": "a24cf09f",
   "metadata": {},
   "outputs": [
    {
     "data": {
      "application/json": {
       "constraints": {
        "comment": "",
        "constraintType": "",
        "name": ""
       },
       "datasetId": "EO:ECMWF:DAT:ERA5_HOURLY_DATA_ON_SINGLE_LEVELS",
       "parameters": {
        "boundingBoxes": null,
        "dateRangeSelects": null,
        "multiStringSelects": [
         {
          "details": {
           "groupedValueLabels": [
            {
             "label": "Popular",
             "name": "popular",
             "valuesLabels": {
              "10m_u_component_of_wind": "10m u-component of wind",
              "10m_v_component_of_wind": "10m v-component of wind",
              "2m_dewpoint_temperature": "2m dewpoint temperature",
              "2m_temperature": "2m temperature",
              "mean_sea_level_pressure": "Mean sea level pressure",
              "mean_wave_direction": "Mean wave direction",
              "mean_wave_period": "Mean wave period",
              "sea_surface_temperature": "Sea surface temperature",
              "significant_height_of_combined_wind_waves_and_swell": "Significant height of combined wind waves and swell",
              "surface_pressure": "Surface pressure",
              "total_precipitation": "Total precipitation"
             }
            },
            {
             "label": "Temperature and pressure",
             "name": "temperature_and_pressure",
             "valuesLabels": {
              "2m_dewpoint_temperature": "2m dewpoint temperature",
              "2m_temperature": "2m temperature",
              "ice_temperature_layer_1": "Ice temperature layer 1",
              "ice_temperature_layer_2": "Ice temperature layer 2",
              "ice_temperature_layer_3": "Ice temperature layer 3",
              "ice_temperature_layer_4": "Ice temperature layer 4",
              "maximum_2m_temperature_since_previous_post_processing": "Maximum 2m temperature since previous post-processing",
              "mean_sea_level_pressure": "Mean sea level pressure",
              "minimum_2m_temperature_since_previous_post_processing": "Minimum 2m temperature since previous post-processing",
              "sea_surface_temperature": "Sea surface temperature",
              "skin_temperature": "Skin temperature",
              "surface_pressure": "Surface pressure"
             }
            },
            {
             "label": "Wind",
             "name": "wind",
             "valuesLabels": {
              "100m_u_component_of_wind": "100m u-component of wind",
              "100m_v_component_of_wind": "100m v-component of wind",
              "10m_u_component_of_neutral_wind": "10m u-component of neutral wind",
              "10m_u_component_of_wind": "10m u-component of wind",
              "10m_v_component_of_neutral_wind": "10m v-component of neutral wind",
              "10m_v_component_of_wind": "10m v-component of wind",
              "10m_wind_gust_since_previous_post_processing": "10m wind gust since previous post-processing",
              "instantaneous_10m_wind_gust": "Instantaneous 10m wind gust"
             }
            },
            {
             "label": "Mean rates",
             "name": "mean_rates",
             "valuesLabels": {
              "mean_boundary_layer_dissipation": "Mean boundary layer dissipation",
              "mean_convective_precipitation_rate": "Mean convective precipitation rate",
              "mean_convective_snowfall_rate": "Mean convective snowfall rate",
              "mean_eastward_gravity_wave_surface_stress": "Mean eastward gravity wave surface stress",
              "mean_eastward_turbulent_surface_stress": "Mean eastward turbulent surface stress",
              "mean_evaporation_rate": "Mean evaporation rate",
              "mean_gravity_wave_dissipation": "Mean gravity wave dissipation",
              "mean_large_scale_precipitation_fraction": "Mean large-scale precipitation fraction",
              "mean_large_scale_precipitation_rate": "Mean large-scale precipitation rate",
              "mean_large_scale_snowfall_rate": "Mean large-scale snowfall rate",
              "mean_northward_gravity_wave_surface_stress": "Mean northward gravity wave surface stress",
              "mean_northward_turbulent_surface_stress": "Mean northward turbulent surface stress",
              "mean_potential_evaporation_rate": "Mean potential evaporation rate",
              "mean_runoff_rate": "Mean runoff rate",
              "mean_snow_evaporation_rate": "Mean snow evaporation rate",
              "mean_snowfall_rate": "Mean snowfall rate",
              "mean_snowmelt_rate": "Mean snowmelt rate",
              "mean_sub_surface_runoff_rate": "Mean sub-surface runoff rate",
              "mean_surface_direct_short_wave_radiation_flux": "Mean surface direct short-wave radiation flux",
              "mean_surface_direct_short_wave_radiation_flux_clear_sky": "Mean surface direct short-wave radiation flux, clear sky",
              "mean_surface_downward_long_wave_radiation_flux": "Mean surface downward long-wave radiation flux",
              "mean_surface_downward_long_wave_radiation_flux_clear_sky": "Mean surface downward long-wave radiation flux, clear sky",
              "mean_surface_downward_short_wave_radiation_flux": "Mean surface downward short-wave radiation flux",
              "mean_surface_downward_short_wave_radiation_flux_clear_sky": "Mean surface downward short-wave radiation flux, clear sky",
              "mean_surface_downward_uv_radiation_flux": "Mean surface downward UV radiation flux",
              "mean_surface_latent_heat_flux": "Mean surface latent heat flux",
              "mean_surface_net_long_wave_radiation_flux": "Mean surface net long-wave radiation flux",
              "mean_surface_net_long_wave_radiation_flux_clear_sky": "Mean surface net long-wave radiation flux, clear sky",
              "mean_surface_net_short_wave_radiation_flux": "Mean surface net short-wave radiation flux",
              "mean_surface_net_short_wave_radiation_flux_clear_sky": "Mean surface net short-wave radiation flux, clear sky",
              "mean_surface_runoff_rate": "Mean surface runoff rate",
              "mean_surface_sensible_heat_flux": "Mean surface sensible heat flux",
              "mean_top_downward_short_wave_radiation_flux": "Mean top downward short-wave radiation flux",
              "mean_top_net_long_wave_radiation_flux": "Mean top net long-wave radiation flux",
              "mean_top_net_long_wave_radiation_flux_clear_sky": "Mean top net long-wave radiation flux, clear sky",
              "mean_top_net_short_wave_radiation_flux": "Mean top net short-wave radiation flux",
              "mean_top_net_short_wave_radiation_flux_clear_sky": "Mean top net short-wave radiation flux, clear sky",
              "mean_total_precipitation_rate": "Mean total precipitation rate",
              "mean_vertically_integrated_moisture_divergence": "Mean vertically integrated moisture divergence"
             }
            },
            {
             "label": "Radiation and heat",
             "name": "radiation_and_heat",
             "valuesLabels": {
              "clear_sky_direct_solar_radiation_at_surface": "Clear-sky direct solar radiation at surface",
              "downward_uv_radiation_at_the_surface": "Downward UV radiation at the surface",
              "forecast_logarithm_of_surface_roughness_for_heat": "Forecast logarithm of surface roughness for heat",
              "instantaneous_surface_sensible_heat_flux": "Instantaneous surface sensible heat flux",
              "near_ir_albedo_for_diffuse_radiation": "Near IR albedo for diffuse radiation",
              "near_ir_albedo_for_direct_radiation": "Near IR albedo for direct radiation",
              "surface_latent_heat_flux": "Surface latent heat flux",
              "surface_net_solar_radiation": "Surface net solar radiation",
              "surface_net_solar_radiation_clear_sky": "Surface net solar radiation, clear sky",
              "surface_net_thermal_radiation": "Surface net thermal radiation",
              "surface_net_thermal_radiation_clear_sky": "Surface net thermal radiation, clear sky",
              "surface_sensible_heat_flux": "Surface sensible heat flux",
              "surface_solar_radiation_downward_clear_sky": "Surface solar radiation downward, clear sky",
              "surface_solar_radiation_downwards": "Surface solar radiation downwards",
              "surface_thermal_radiation_downward_clear_sky": "Surface thermal radiation downward, clear sky",
              "surface_thermal_radiation_downwards": "Surface thermal radiation downwards",
              "toa_incident_solar_radiation": "TOA incident solar radiation",
              "top_net_solar_radiation": "Top net solar radiation",
              "top_net_solar_radiation_clear_sky": "Top net solar radiation, clear sky",
              "top_net_thermal_radiation": "Top net thermal radiation",
              "top_net_thermal_radiation_clear_sky": "Top net thermal radiation, clear sky",
              "total_sky_direct_solar_radiation_at_surface": "Total sky direct solar radiation at surface",
              "uv_visible_albedo_for_diffuse_radiation": "UV visible albedo for diffuse radiation",
              "uv_visible_albedo_for_direct_radiation": "UV visible albedo for direct radiation"
             }
            },
            {
             "label": "Clouds",
             "name": "clouds",
             "valuesLabels": {
              "cloud_base_height": "Cloud base height",
              "high_cloud_cover": "High cloud cover",
              "low_cloud_cover": "Low cloud cover",
              "medium_cloud_cover": "Medium cloud cover",
              "total_cloud_cover": "Total cloud cover",
              "total_column_cloud_ice_water": "Total column cloud ice water",
              "total_column_cloud_liquid_water": "Total column cloud liquid water",
              "vertical_integral_of_divergence_of_cloud_frozen_water_flux": "Vertical integral of divergence of cloud frozen water flux",
              "vertical_integral_of_divergence_of_cloud_liquid_water_flux": "Vertical integral of divergence of cloud liquid water flux",
              "vertical_integral_of_eastward_cloud_frozen_water_flux": "Vertical integral of eastward cloud frozen water flux",
              "vertical_integral_of_eastward_cloud_liquid_water_flux": "Vertical integral of eastward cloud liquid water flux",
              "vertical_integral_of_northward_cloud_frozen_water_flux": "Vertical integral of northward cloud frozen water flux",
              "vertical_integral_of_northward_cloud_liquid_water_flux": "Vertical integral of northward cloud liquid water flux"
             }
            },
            {
             "label": "Lakes",
             "name": "lakes",
             "valuesLabels": {
              "lake_bottom_temperature": "Lake bottom temperature",
              "lake_cover": "Lake cover",
              "lake_depth": "Lake depth",
              "lake_ice_depth": "Lake ice depth",
              "lake_ice_temperature": "Lake ice temperature",
              "lake_mix_layer_depth": "Lake mix-layer depth",
              "lake_mix_layer_temperature": "Lake mix-layer temperature",
              "lake_shape_factor": "Lake shape factor",
              "lake_total_layer_temperature": "Lake total layer temperature"
             }
            },
            {
             "label": "Evaporation and runoff",
             "name": "evaporation_and_runoff",
             "valuesLabels": {
              "evaporation": "Evaporation",
              "potential_evaporation": "Potential evaporation",
              "runoff": "Runoff",
              "sub_surface_runoff": "Sub-surface runoff",
              "surface_runoff": "Surface runoff"
             }
            },
            {
             "label": "Precipitation and rain",
             "name": "precipitation_and_rain",
             "valuesLabels": {
              "convective_precipitation": "Convective precipitation",
              "convective_rain_rate": "Convective rain rate",
              "instantaneous_large_scale_surface_precipitation_fraction": "Instantaneous large-scale surface precipitation fraction",
              "large_scale_precipitation": "Large-scale precipitation",
              "large_scale_precipitation_fraction": "Large-scale precipitation fraction",
              "large_scale_rain_rate": "Large scale rain rate",
              "maximum_total_precipitation_rate_since_previous_post_processing": "Maximum total precipitation rate since previous post-processing",
              "minimum_total_precipitation_rate_since_previous_post_processing": "Minimum total precipitation rate since previous post-processing",
              "precipitation_type": "Precipitation type",
              "total_column_rain_water": "Total column rain water",
              "total_precipitation": "Total precipitation"
             }
            },
            {
             "label": "Snow",
             "name": "snow",
             "valuesLabels": {
              "convective_snowfall": "Convective snowfall",
              "convective_snowfall_rate_water_equivalent": "Convective snowfall rate water equivalent",
              "large_scale_snowfall": "Large-scale snowfall",
              "large_scale_snowfall_rate_water_equivalent": "Large scale snowfall rate water equivalent",
              "snow_albedo": "Snow albedo",
              "snow_density": "Snow density",
              "snow_depth": "Snow depth",
              "snow_evaporation": "Snow evaporation",
              "snowfall": "Snowfall",
              "snowmelt": "Snowmelt",
              "temperature_of_snow_layer": "Temperature of snow layer",
              "total_column_snow_water": "Total column snow water"
             }
            },
            {
             "label": "Soil",
             "name": "soil",
             "valuesLabels": {
              "soil_temperature_level_1": "Soil temperature level 1",
              "soil_temperature_level_2": "Soil temperature level 2",
              "soil_temperature_level_3": "Soil temperature level 3",
              "soil_temperature_level_4": "Soil temperature level 4",
              "soil_type": "Soil type",
              "volumetric_soil_water_layer_1": "Volumetric soil water layer 1",
              "volumetric_soil_water_layer_2": "Volumetric soil water layer 2",
              "volumetric_soil_water_layer_3": "Volumetric soil water layer 3",
              "volumetric_soil_water_layer_4": "Volumetric soil water layer 4"
             }
            },
            {
             "label": "Vertical integrals",
             "name": "vertical_integrals",
             "valuesLabels": {
              "vertical_integral_of_divergence_of_cloud_frozen_water_flux": "Vertical integral of divergence of cloud frozen water flux",
              "vertical_integral_of_divergence_of_cloud_liquid_water_flux": "Vertical integral of divergence of cloud liquid water flux",
              "vertical_integral_of_divergence_of_geopotential_flux": "Vertical integral of divergence of geopotential flux",
              "vertical_integral_of_divergence_of_kinetic_energy_flux": "Vertical integral of divergence of kinetic energy flux",
              "vertical_integral_of_divergence_of_mass_flux": "Vertical integral of divergence of mass flux",
              "vertical_integral_of_divergence_of_moisture_flux": "Vertical integral of divergence of moisture flux",
              "vertical_integral_of_divergence_of_ozone_flux": "Vertical integral of divergence of ozone flux",
              "vertical_integral_of_divergence_of_thermal_energy_flux": "Vertical integral of divergence of thermal energy flux",
              "vertical_integral_of_divergence_of_total_energy_flux": "Vertical integral of divergence of total energy flux",
              "vertical_integral_of_eastward_cloud_frozen_water_flux": "Vertical integral of eastward cloud frozen water flux",
              "vertical_integral_of_eastward_cloud_liquid_water_flux": "Vertical integral of eastward cloud liquid water flux",
              "vertical_integral_of_eastward_geopotential_flux": "Vertical integral of eastward geopotential flux",
              "vertical_integral_of_eastward_heat_flux": "Vertical integral of eastward heat flux",
              "vertical_integral_of_eastward_kinetic_energy_flux": "Vertical integral of eastward kinetic energy flux",
              "vertical_integral_of_eastward_mass_flux": "Vertical integral of eastward mass flux",
              "vertical_integral_of_eastward_ozone_flux": "Vertical integral of eastward ozone flux",
              "vertical_integral_of_eastward_total_energy_flux": "Vertical integral of eastward total energy flux",
              "vertical_integral_of_eastward_water_vapour_flux": "Vertical integral of eastward water vapour flux",
              "vertical_integral_of_energy_conversion": "Vertical integral of energy conversion",
              "vertical_integral_of_kinetic_energy": "Vertical integral of kinetic energy",
              "vertical_integral_of_mass_of_atmosphere": "Vertical integral of mass of atmosphere",
              "vertical_integral_of_mass_tendency": "Vertical integral of mass tendency",
              "vertical_integral_of_northward_cloud_frozen_water_flux": "Vertical integral of northward cloud frozen water flux",
              "vertical_integral_of_northward_cloud_liquid_water_flux": "Vertical integral of northward cloud liquid water flux",
              "vertical_integral_of_northward_geopotential_flux": "Vertical integral of northward geopotential flux",
              "vertical_integral_of_northward_heat_flux": "Vertical integral of northward heat flux",
              "vertical_integral_of_northward_kinetic_energy_flux": "Vertical integral of northward kinetic energy flux",
              "vertical_integral_of_northward_mass_flux": "Vertical integral of northward mass flux",
              "vertical_integral_of_northward_ozone_flux": "Vertical integral of northward ozone flux",
              "vertical_integral_of_northward_total_energy_flux": "Vertical integral of northward total energy flux",
              "vertical_integral_of_northward_water_vapour_flux": "Vertical integral of northward water vapour flux",
              "vertical_integral_of_potential_and_internal_energy": "Vertical integral of potential and internal energy",
              "vertical_integral_of_potential_internal_and_latent_energy": "Vertical integral of potential, internal and latent energy",
              "vertical_integral_of_temperature": "Vertical integral of temperature",
              "vertical_integral_of_thermal_energy": "Vertical integral of thermal energy",
              "vertical_integral_of_total_energy": "Vertical integral of total energy",
              "vertically_integrated_moisture_divergence": "Vertically integrated moisture divergence"
             }
            },
            {
             "label": "Vegetation",
             "name": "vegetation",
             "valuesLabels": {
              "high_vegetation_cover": "High vegetation cover",
              "leaf_area_index_high_vegetation": "Leaf area index, high vegetation",
              "leaf_area_index_low_vegetation": "Leaf area index, low vegetation",
              "low_vegetation_cover": "Low vegetation cover",
              "type_of_high_vegetation": "Type of high vegetation",
              "type_of_low_vegetation": "Type of low vegetation"
             }
            },
            {
             "label": "Ocean waves",
             "name": "ocean_waves",
             "valuesLabels": {
              "air_density_over_the_oceans": "Air density over the oceans",
              "coefficient_of_drag_with_waves": "Coefficient of drag with waves",
              "free_convective_velocity_over_the_oceans": "Free convective velocity over the oceans",
              "maximum_individual_wave_height": "Maximum individual wave height",
              "mean_direction_of_total_swell": "Mean direction of total swell",
              "mean_direction_of_wind_waves": "Mean direction of wind waves",
              "mean_period_of_total_swell": "Mean period of total swell",
              "mean_period_of_wind_waves": "Mean period of wind waves",
              "mean_square_slope_of_waves": "Mean square slope of waves",
              "mean_wave_direction": "Mean wave direction",
              "mean_wave_direction_of_first_swell_partition": "Mean wave direction of first swell partition",
              "mean_wave_direction_of_second_swell_partition": "Mean wave direction of second swell partition",
              "mean_wave_direction_of_third_swell_partition": "Mean wave direction of third swell partition",
              "mean_wave_period": "Mean wave period",
              "mean_wave_period_based_on_first_moment": "Mean wave period based on first moment",
              "mean_wave_period_based_on_first_moment_for_swell": "Mean wave period based on first moment for swell",
              "mean_wave_period_based_on_first_moment_for_wind_waves": "Mean wave period based on first moment for wind waves",
              "mean_wave_period_based_on_second_moment_for_swell": "Mean wave period based on second moment for swell",
              "mean_wave_period_based_on_second_moment_for_wind_waves": "Mean wave period based on second moment for wind waves",
              "mean_wave_period_of_first_swell_partition": "Mean wave period of first swell partition",
              "mean_wave_period_of_second_swell_partition": "Mean wave period of second swell partition",
              "mean_wave_period_of_third_swell_partition": "Mean wave period of third swell partition",
              "mean_zero_crossing_wave_period": "Mean zero-crossing wave period",
              "model_bathymetry": "Model bathymetry",
              "normalized_energy_flux_into_ocean": "Normalized energy flux into ocean",
              "normalized_energy_flux_into_waves": "Normalized energy flux into waves",
              "normalized_stress_into_ocean": "Normalized stress into ocean",
              "ocean_surface_stress_equivalent_10m_neutral_wind_direction": "Ocean surface stress equivalent 10m neutral wind direction",
              "ocean_surface_stress_equivalent_10m_neutral_wind_speed": "Ocean surface stress equivalent 10m neutral wind speed",
              "peak_wave_period": "Peak wave period",
              "period_corresponding_to_maximum_individual_wave_height": "Period corresponding to maximum individual wave height",
              "significant_height_of_combined_wind_waves_and_swell": "Significant height of combined wind waves and swell",
              "significant_height_of_total_swell": "Significant height of total swell",
              "significant_height_of_wind_waves": "Significant height of wind waves",
              "significant_wave_height_of_first_swell_partition": "Significant wave height of first swell partition",
              "significant_wave_height_of_second_swell_partition": "Significant wave height of second swell partition",
              "significant_wave_height_of_third_swell_partition": "Significant wave height of third swell partition",
              "wave_spectral_directional_width": "Wave spectral directional width",
              "wave_spectral_directional_width_for_swell": "Wave spectral directional width for swell",
              "wave_spectral_directional_width_for_wind_waves": "Wave spectral directional width for wind waves",
              "wave_spectral_kurtosis": "Wave spectral kurtosis",
              "wave_spectral_peakedness": "Wave spectral peakedness",
              "wave_spectral_skewness": "Wave spectral skewness"
             }
            },
            {
             "label": "Other",
             "name": "other",
             "valuesLabels": {
              "angle_of_sub_gridscale_orography": "Angle of sub-gridscale orography",
              "anisotropy_of_sub_gridscale_orography": "Anisotropy of sub-gridscale orography",
              "benjamin_feir_index": "Benjamin-feir index",
              "boundary_layer_dissipation": "Boundary layer dissipation",
              "boundary_layer_height": "Boundary layer height",
              "charnock": "Charnock",
              "convective_available_potential_energy": "Convective available potential energy",
              "convective_inhibition": "Convective inhibition",
              "duct_base_height": "Duct base height",
              "eastward_gravity_wave_surface_stress": "Eastward gravity wave surface stress",
              "eastward_turbulent_surface_stress": "Eastward turbulent surface stress",
              "forecast_albedo": "Forecast albedo",
              "forecast_surface_roughness": "Forecast surface roughness",
              "friction_velocity": "Friction velocity",
              "geopotential": "Geopotential",
              "gravity_wave_dissipation": "Gravity wave dissipation",
              "instantaneous_eastward_turbulent_surface_stress": "Instantaneous eastward turbulent surface stress",
              "instantaneous_moisture_flux": "Instantaneous moisture flux",
              "instantaneous_northward_turbulent_surface_stress": "Instantaneous northward turbulent surface stress",
              "k_index": "K index",
              "land_sea_mask": "Land-sea mask",
              "mean_vertical_gradient_of_refractivity_inside_trapping_layer": "Mean vertical gradient of refractivity inside trapping layer",
              "minimum_vertical_gradient_of_refractivity_inside_trapping_layer": "Minimum vertical gradient of refractivity inside trapping layer",
              "northward_gravity_wave_surface_stress": "Northward gravity wave surface stress",
              "northward_turbulent_surface_stress": "Northward turbulent surface stress",
              "sea_ice_cover": "Sea-ice cover",
              "skin_reservoir_content": "Skin reservoir content",
              "slope_of_sub_gridscale_orography": "Slope of sub-gridscale orography",
              "standard_deviation_of_filtered_subgrid_orography": "Standard deviation of filtered subgrid orography",
              "standard_deviation_of_orography": "Standard deviation of orography",
              "total_column_ozone": "Total column ozone",
              "total_column_supercooled_liquid_water": "Total column supercooled liquid water",
              "total_column_water": "Total column water",
              "total_column_water_vapour": "Total column water vapour",
              "total_totals_index": "Total totals index",
              "trapping_layer_base_height": "Trapping layer base height",
              "trapping_layer_top_height": "Trapping layer top height",
              "u_component_stokes_drift": "U-component stokes drift",
              "v_component_stokes_drift": "V-component stokes drift",
              "zero_degree_level": "Zero degree level"
             }
            }
           ]
          },
          "isRequired": "true",
          "name": "variable",
          "parameterType": "MultiStringSelect"
         },
         {
          "details": {
           "groupedValueLabels": [
            {
             "label": "Product type",
             "name": "product_type",
             "valuesLabels": {
              "ensemble_mean": "Ensemble mean",
              "ensemble_members": "Ensemble members",
              "ensemble_spread": "Ensemble spread",
              "reanalysis": "Reanalysis"
             }
            }
           ]
          },
          "isRequired": "true",
          "name": "product_type",
          "parameterType": "MultiStringSelect"
         },
         {
          "details": {
           "groupedValueLabels": [
            {
             "label": "Year",
             "name": "year",
             "valuesLabels": {
              "1979": "1979",
              "1980": "1980",
              "1981": "1981",
              "1982": "1982",
              "1983": "1983",
              "1984": "1984",
              "1985": "1985",
              "1986": "1986",
              "1987": "1987",
              "1988": "1988",
              "1989": "1989",
              "1990": "1990",
              "1991": "1991",
              "1992": "1992",
              "1993": "1993",
              "1994": "1994",
              "1995": "1995",
              "1996": "1996",
              "1997": "1997",
              "1998": "1998",
              "1999": "1999",
              "2000": "2000",
              "2001": "2001",
              "2002": "2002",
              "2003": "2003",
              "2004": "2004",
              "2005": "2005",
              "2006": "2006",
              "2007": "2007",
              "2008": "2008",
              "2009": "2009",
              "2010": "2010",
              "2011": "2011",
              "2012": "2012",
              "2013": "2013",
              "2014": "2014",
              "2015": "2015",
              "2016": "2016",
              "2017": "2017",
              "2018": "2018",
              "2019": "2019",
              "2020": "2020"
             }
            }
           ]
          },
          "isRequired": "true",
          "name": "year",
          "parameterType": "MultiStringSelect"
         },
         {
          "details": {
           "groupedValueLabels": [
            {
             "label": "Month",
             "name": "month",
             "valuesLabels": {
              "01": "January",
              "02": "February",
              "03": "March",
              "04": "April",
              "05": "May",
              "06": "June",
              "07": "July",
              "08": "August",
              "09": "September",
              "10": "October",
              "11": "November",
              "12": "December"
             }
            }
           ]
          },
          "isRequired": "true",
          "name": "month",
          "parameterType": "MultiStringSelect"
         },
         {
          "details": {
           "groupedValueLabels": [
            {
             "label": "Day",
             "name": "day",
             "valuesLabels": {
              "01": "01",
              "02": "02",
              "03": "03",
              "04": "04",
              "05": "05",
              "06": "06",
              "07": "07",
              "08": "08",
              "09": "09",
              "10": "10",
              "11": "11",
              "12": "12",
              "13": "13",
              "14": "14",
              "15": "15",
              "16": "16",
              "17": "17",
              "18": "18",
              "19": "19",
              "20": "20",
              "21": "21",
              "22": "22",
              "23": "23",
              "24": "24",
              "25": "25",
              "26": "26",
              "27": "27",
              "28": "28",
              "29": "29",
              "30": "30",
              "31": "31"
             }
            }
           ]
          },
          "isRequired": "true",
          "name": "day",
          "parameterType": "MultiStringSelect"
         },
         {
          "details": {
           "groupedValueLabels": [
            {
             "label": "Time",
             "name": "time",
             "valuesLabels": {
              "00:00": "00:00",
              "01:00": "01:00",
              "02:00": "02:00",
              "03:00": "03:00",
              "04:00": "04:00",
              "05:00": "05:00",
              "06:00": "06:00",
              "07:00": "07:00",
              "08:00": "08:00",
              "09:00": "09:00",
              "10:00": "10:00",
              "11:00": "11:00",
              "12:00": "12:00",
              "13:00": "13:00",
              "14:00": "14:00",
              "15:00": "15:00",
              "16:00": "16:00",
              "17:00": "17:00",
              "18:00": "18:00",
              "19:00": "19:00",
              "20:00": "20:00",
              "21:00": "21:00",
              "22:00": "22:00",
              "23:00": "23:00"
             }
            }
           ]
          },
          "isRequired": "true",
          "name": "time",
          "parameterType": "MultiStringSelect"
         }
        ],
        "stringChoices": [
         {
          "details": {
           "valuesLabels": {
            "grib": "GRIB",
            "netcdf": "NetCDF (experimental)"
           }
          },
          "isRequired": "true",
          "label": "Format",
          "name": "format",
          "parameterType": "StringChoice"
         }
        ],
        "stringInputs": null
       },
       "rendering": {
        "comment": "",
        "name": "",
        "renderType": ""
       },
       "userTerms": {
        "accepted": true,
        "termsId": "Copernicus_General_License"
       }
      },
      "text/plain": [
       "<IPython.core.display.JSON object>"
      ]
     },
     "metadata": {
      "application/json": {
       "expanded": false,
       "root": "root"
      }
     },
     "output_type": "display_data"
    }
   ],
   "source": [
    "display(JSON(metadata))"
   ]
  },
  {
   "cell_type": "markdown",
   "id": "daa895dd",
   "metadata": {},
   "source": [
    "### Create the widgets\n",
    "\n",
    "In order to create dynamic widgets for data accessing, you have first to extract values from the `metadata` file, convert them into *lists of strings* and store them into Python variables. \n",
    "\n",
    "For `ERA5 Hourly Data On Single Levels` dataset, these operations can be performed as follows."
   ]
  },
  {
   "cell_type": "code",
   "execution_count": 13,
   "id": "f229b350",
   "metadata": {},
   "outputs": [],
   "source": [
    "category = metadata['parameters']['multiStringSelects'][0]['details']['groupedValueLabels']\n",
    "category_list = []\n",
    "params_list = []\n",
    "for item in category:\n",
    "    category_list.append(item['valuesLabels'])\n",
    "\n",
    "for item in category_list:\n",
    "    key_list = list(item.keys())\n",
    "    params_list.append(key_list)\n",
    "\n",
    "variables_list = [item for sublist in params_list for item in sublist]\n",
    "# variables_list   # Uncomment to show the variables list"
   ]
  },
  {
   "cell_type": "markdown",
   "id": "d3dba831",
   "metadata": {},
   "source": [
    "<div class=\"alert alert-warning\" role=\"alert\">\n",
    "<span>&#9888;</span>\n",
    "<a id='warning'></a> The previous step may not be necessary for other types of datasets. For the ERA5 Hourly Data On Single Levels, this is required since the atmospheric variables are grouped under multiple labels.\n",
    "</div>"
   ]
  },
  {
   "cell_type": "markdown",
   "id": "942a6492",
   "metadata": {},
   "source": [
    "The other necessary parameters can be directly extracted as follows."
   ]
  },
  {
   "cell_type": "code",
   "execution_count": 16,
   "id": "b2c01f1a",
   "metadata": {},
   "outputs": [],
   "source": [
    "format_type_list = list(['netcdf'])\n",
    "product_type_list = list(metadata['parameters']['multiStringSelects'][1]['details']['groupedValueLabels'][0]['valuesLabels'].keys())\n",
    "year_list = list(metadata['parameters']['multiStringSelects'][2]['details']['groupedValueLabels'][0]['valuesLabels'].keys())\n",
    "month_list = list(metadata['parameters']['multiStringSelects'][3]['details']['groupedValueLabels'][0]['valuesLabels'].keys())\n",
    "day_list = list(metadata['parameters']['multiStringSelects'][4]['details']['groupedValueLabels'][0]['valuesLabels'].keys())\n",
    "time_list = list(metadata['parameters']['multiStringSelects'][5]['details']['groupedValueLabels'][0]['valuesLabels'].keys())"
   ]
  },
  {
   "cell_type": "markdown",
   "id": "fdc85fb7",
   "metadata": {},
   "source": [
    "Now that you have all the parameters stored into Python variables, you can create a simple interactive dashboard to explore and access the data products.\n",
    "\n",
    "In this example, a multiple selection widget (`SelectMultiple`) is used for all parameters, as you may want to select multiple variables or time periods for accessing a specific resource within the dataset. Check the [<span style='color:Blue'>IPyWidgets documentation</span>](https://ipywidgets.readthedocs.io/en/latest/examples/Widget%20List.html) to get more information on all the available widgets. "
   ]
  },
  {
   "cell_type": "code",
   "execution_count": 17,
   "id": "2bac1c87",
   "metadata": {},
   "outputs": [],
   "source": [
    "style = {'description_width': '200px'}\n",
    "layout = {'width': '800px'}\n",
    "params_sel = widgets.SelectMultiple(options=variables_list,description='Variables: ',disabled=False,style=style,layout=layout)\n",
    "product_type_sel = widgets.SelectMultiple(options=product_type_list,description=\"Product type:\",disabled=False,style=style,layout=layout)\n",
    "year_sel = widgets.SelectMultiple(options=year_list,description=\"Year: \",disabled=False,style=style,layout=layout)\n",
    "month_sel = widgets.SelectMultiple(options=month_list,description=\"Month: \",disabled=False,style=style,layout=layout)\n",
    "day_sel = widgets.SelectMultiple(options=day_list,description=\"Day: \",disabled=False,style=style,layout=layout)\n",
    "time_sel = widgets.SelectMultiple(options=time_list,description=\"Time: \",disabled=False,style=style,layout=layout)\n",
    "format_type_sel = \"netcdf\"  #For simplicity only netCDF files are considered (also GRIB files could be used)"
   ]
  },
  {
   "cell_type": "markdown",
   "id": "8871a4fd-2f5f-4b20-a0d9-aaf0ef0bc025",
   "metadata": {},
   "source": [
    "A widget for each variable is finally created, providing the corresponding list to the `options` parameter and assigning a custom styling or layout."
   ]
  },
  {
   "cell_type": "markdown",
   "id": "a10c5728",
   "metadata": {},
   "source": [
    "### Create the dashboard and request the data"
   ]
  },
  {
   "cell_type": "markdown",
   "id": "8635e352",
   "metadata": {},
   "source": [
    "You can now assemble the widgets in a single dashboard. Some simple `HTML`/`CSS` code is here applied to improve the appearance of the dashboard and the widgets are grouped together using the [<span style='color:Blue'>IPython</span>](query:https://ipython.org/) `VBox` container. The following cell can be used to define CSS attributes and customize the styling."
   ]
  },
  {
   "cell_type": "code",
   "execution_count": 18,
   "id": "d7f67809",
   "metadata": {},
   "outputs": [
    {
     "data": {
      "text/html": [
       "<style>\n",
       ".box {\n",
       "    border: 2px solid #0b385f;\n",
       "    font-weight: bold;\n",
       "    background-color: hsl(0, 0%, 98%);\n",
       "    color: #333;\n",
       "}\n"
      ],
      "text/plain": [
       "<IPython.core.display.HTML object>"
      ]
     },
     "metadata": {},
     "output_type": "display_data"
    }
   ],
   "source": [
    "%%html\n",
    "<style>\n",
    ".box {\n",
    "    border: 2px solid #0b385f;\n",
    "    font-weight: bold;\n",
    "    background-color: hsl(0, 0%, 98%);\n",
    "    color: #333;\n",
    "}"
   ]
  },
  {
   "cell_type": "markdown",
   "id": "e6c980db",
   "metadata": {},
   "source": [
    "Let's test the dashboard by selecting `2m_temperature` as `Variable` and `ensemble_mean` as `Product type`. You can select the other parameters as you like. You can select multiple values by holding down `Ctrl` while selecting."
   ]
  },
  {
   "cell_type": "markdown",
   "id": "14ab4da1",
   "metadata": {},
   "source": [
    "<div class=\"alert alert-warning\" role=\"alert\">\n",
    "<span>&#9888;</span>\n",
    "<a id='warning'></a> Selecting long time periods or many variables may result in long-running API requests. For testing purposes, just select only a few data.\n",
    "</div>"
   ]
  },
  {
   "cell_type": "code",
   "execution_count": 20,
   "id": "297d600b",
   "metadata": {
    "tags": []
   },
   "outputs": [
    {
     "data": {
      "application/vnd.jupyter.widget-view+json": {
       "model_id": "10555333df9f497a98ef34ee24cfc9a3",
       "version_major": 2,
       "version_minor": 0
      },
      "text/plain": [
       "VBox(children=(HTML(value='<h2 style=\"text-align:center;\">ERA5 hourly data on single levels from 1979 to prese…"
      ]
     },
     "metadata": {},
     "output_type": "display_data"
    }
   ],
   "source": [
    "# Create boxes for the dashboard\n",
    "title_box= widgets.HTML(value='<h2 style=\"text-align:center;\">'+title+'</h2><hr>')\n",
    "variables_box = widgets.VBox([title_box, params_sel, product_type_sel, year_sel, month_sel, day_sel, time_sel])\n",
    "\n",
    "# Create the dashboard \n",
    "ui = widgets.AppLayout(\n",
    "          layout=widgets.Layout(),\n",
    "          grid_gap=\"300px\")\n",
    "\n",
    "# Display the variable box\n",
    "display(variables_box.add_class(\"box\"))"
   ]
  },
  {
   "cell_type": "markdown",
   "id": "a77028b7",
   "metadata": {},
   "source": [
    "**Changing the parameter selection in the dashboard above will automatically change the requested data in future API requests**. The API `POST` request forward the following JSON-like variables to the server for retrieving data.\n",
    "\n",
    "**The dashboard is used to interactively modify the API requests** which are actually run by the two next code blocks.\n",
    "\n",
    "After the request is completed it returns a `Job ID` that will allow you to download the data through a subsequent `GET` request.\n",
    "\n",
    "Notice also that the `headers` variable need to be modified."
   ]
  },
  {
   "cell_type": "code",
   "execution_count": 21,
   "id": "7836413f",
   "metadata": {},
   "outputs": [
    {
     "name": "stdout",
     "output_type": "stream",
     "text": [
      "The job ID is: vpCXaXZXQ3nKtUhOmhUQXBt8kRI\n"
     ]
    }
   ],
   "source": [
    "query = {\n",
    "  \"datasetId\": dataset_id,\n",
    "  \"multiStringSelectValues\": [\n",
    "    {\n",
    "      \"name\": \"variable\",\n",
    "      \"value\": list(params_sel.value)\n",
    "    },\n",
    "    {\n",
    "      \"name\": \"year\",\n",
    "      \"value\": list(year_sel.value)\n",
    "    },\n",
    "    {\n",
    "      \"name\": \"month\",\n",
    "      \"value\": list(month_sel.value)\n",
    "    },\n",
    "    {\n",
    "      \"name\": \"day\",\n",
    "      \"value\": list(day_sel.value)\n",
    "    },\n",
    "    {\n",
    "      \"name\": \"time\",\n",
    "      \"value\":list(time_sel.value)\n",
    "    },\n",
    "    {\n",
    "      \"name\": \"product_type\",\n",
    "      \"value\": list(product_type_sel.value)\n",
    "    }\n",
    "  ],\n",
    "  \"stringChoiceValues\": [\n",
    "    {\n",
    "      \"name\": \"format\",\n",
    "      \"value\": format_type_sel\n",
    "    }\n",
    "  ]\n",
    "}\n",
    "\n",
    "headers = {\n",
    "    'Content-Type': 'application/json',\n",
    "    'Accept': 'application/json',\n",
    "    'authorization': 'Basic '+str(token)\n",
    "}\n",
    "\n",
    "data = json.dumps(query)\n",
    "dataset_post = requests.post(\"https://wekeo-broker-k8s.apps.mercator.dpi.wekeo.eu/databroker/datarequest\", headers=headers, data=data)\n",
    "job_id = json.loads(dataset_post.text)\n",
    "jobId = job_id['jobId']\n",
    "print(\"The job ID is: \"+jobId)"
   ]
  },
  {
   "cell_type": "markdown",
   "id": "a0fab2c1",
   "metadata": {},
   "source": [
    "Once the `Job ID` is displayed from the previous code block, you can check if the request is `Completed`."
   ]
  },
  {
   "cell_type": "code",
   "execution_count": 22,
   "id": "7a98d11a",
   "metadata": {},
   "outputs": [
    {
     "name": "stdout",
     "output_type": "stream",
     "text": [
      "Status: Completed\r"
     ]
    }
   ],
   "source": [
    "get_url_request = requests.get('https://wekeo-broker.apps.mercator.dpi.wekeo.eu/databroker/datarequest/status/'+jobId, headers=headers)\n",
    "get_url = json.loads(get_url_request.text)\n",
    "if get_url['status']=='completed':\n",
    "    print('Status: Completed', end='\\r')\n",
    "\n",
    "while get_url['status']!='completed':\n",
    "    get_url_request = requests.get('https://wekeo-broker.apps.mercator.dpi.wekeo.eu/databroker/datarequest/status/'+jobId, headers=headers)\n",
    "    get_url = json.loads(get_url_request.text)\n",
    "    if get_url['status']=='running':\n",
    "        print('Status: Running', end='\\r')\n",
    "    elif get_url['status']=='failed':\n",
    "        print('Status: Failed. Check data selected.')\n",
    "        break\n",
    "    elif get_url['status']=='completed':\n",
    "        print('Status: Completed')"
   ]
  },
  {
   "cell_type": "markdown",
   "id": "a5a022d0-ad69-4589-baff-7206519d424d",
   "metadata": {},
   "source": [
    "<div class=\"alert alert-warning\" role=\"alert\">\n",
    "<span>&#9888;</span>\n",
    "<a id='warning'></a> You must wait until the request is <b>Completed</b>. If an error occurs check if the parameters are selected correctly inside the dashboard, or the token is still valid\n",
    "</div>"
   ]
  },
  {
   "cell_type": "markdown",
   "id": "0c16fe7d",
   "metadata": {},
   "source": [
    "If no errors appear, you are ready to perform a `GET` request to download the selected data. The URL for the download will be generated and displayed."
   ]
  },
  {
   "cell_type": "code",
   "execution_count": 23,
   "id": "b4b60103",
   "metadata": {},
   "outputs": [
    {
     "name": "stdout",
     "output_type": "stream",
     "text": [
      "The URL for download is: https://download-0007-clone.copernicus-climate.eu/cache-compute-0007/cache/data0/adaptor.mars.internal-1658389015.1856833-6784-15-3d8d1fb2-dcdf-4be9-97e7-e9d9eb990703.nc\n"
     ]
    }
   ],
   "source": [
    "headers = {'authorization': 'Basic '+str(token)}\n",
    "get_url_request = requests.get('https://wekeo-broker.apps.mercator.dpi.wekeo.eu/databroker/datarequest/jobs/'+jobId+'/result', headers=headers)\n",
    "get_url = json.loads(get_url_request.text)\n",
    "url = get_url['content'][0]['url']\n",
    "print('The URL for download is: '+ get_url['content'][0]['url'])"
   ]
  },
  {
   "cell_type": "markdown",
   "id": "3c789c6f-7be7-4a7f-9b51-ae9d336d3ff4",
   "metadata": {},
   "source": [
    "<div class=\"alert alert-success\" role=\"alert\">\n",
    "<span>&#x2714;</span>\n",
    "<a id='libraries'></a>You have obtained the URL needed to download the data resource from the HDA API!\n",
    "</div>\n",
    "\n",
    "**The code can be adapted to all WeKEO datasets with a few modifications** (see sections [5](#sec5) and [6](#sec6))"
   ]
  },
  {
   "cell_type": "markdown",
   "id": "a9901466",
   "metadata": {},
   "source": [
    "### Download or read the data\n",
    "\n",
    "In principle, You can download the data on your disk and then import it into the Notebook to continue with your analysis. To avoid moving data in and out of the Notebook, an option is open the data resource provided by the HDA API directly in the computer memory.\n",
    "\n",
    "The `ERA5 Hourly Data On Single Levels` data format is the [**NetCDF**](https://en.wikipedia.org/wiki/NetCDF). The same format is used for many of the Copernicus data distributed by WeKEO.\n",
    "\n",
    "The following `RadioButtons` widget can be used to specify the downloading option.\n",
    "\n",
    " - **Download** the NetCDF file in the working directory and then read it\n",
    " - **Read** the NetCDF in-memory without downloading it"
   ]
  },
  {
   "cell_type": "code",
   "execution_count": 24,
   "id": "d1c3a8f2",
   "metadata": {},
   "outputs": [
    {
     "data": {
      "application/vnd.jupyter.widget-view+json": {
       "model_id": "7bc09b26429e4053b128c971c881d1e6",
       "version_major": 2,
       "version_minor": 0
      },
      "text/plain": [
       "RadioButtons(description='Data download: ', index=1, layout=Layout(width='800px'), options=('Download NetCDF',…"
      ]
     },
     "metadata": {},
     "output_type": "display_data"
    }
   ],
   "source": [
    "download_list = [\"Download NetCDF\", \"Read NetCDF in memory\"] #Choice - Download data or just read\n",
    "download_sel = widgets.RadioButtons(options=download_list,description=\"Data download: \", value=\"Read NetCDF in memory\",style=style,layout=layout)\n",
    "download_sel"
   ]
  },
  {
   "cell_type": "markdown",
   "id": "9c75135c",
   "metadata": {},
   "source": [
    "The `download_type` function is defined inside the [wekeo2pydash_methods.py](https://github.com/danioxoli/WEkEO2Pydash/blob/main/wekeo2pydash_methods.py) file, and it uses the [<span style='color:Blue'>xarray</span>](https://docs.xarray.dev) library to handle NetCDF. \n",
    "\n",
    "Depending on the option selected in the previous widget, it is possible to download the dataset (*the NetCDF file will be placed in the same folder of the Notebook*) or directly read the NetCDF in memory without any local file downloaded."
   ]
  },
  {
   "cell_type": "code",
   "execution_count": 25,
   "id": "02c80563",
   "metadata": {},
   "outputs": [
    {
     "data": {
      "text/html": [
       "<div><svg style=\"position: absolute; width: 0; height: 0; overflow: hidden\">\n",
       "<defs>\n",
       "<symbol id=\"icon-database\" viewBox=\"0 0 32 32\">\n",
       "<path d=\"M16 0c-8.837 0-16 2.239-16 5v4c0 2.761 7.163 5 16 5s16-2.239 16-5v-4c0-2.761-7.163-5-16-5z\"></path>\n",
       "<path d=\"M16 17c-8.837 0-16-2.239-16-5v6c0 2.761 7.163 5 16 5s16-2.239 16-5v-6c0 2.761-7.163 5-16 5z\"></path>\n",
       "<path d=\"M16 26c-8.837 0-16-2.239-16-5v6c0 2.761 7.163 5 16 5s16-2.239 16-5v-6c0 2.761-7.163 5-16 5z\"></path>\n",
       "</symbol>\n",
       "<symbol id=\"icon-file-text2\" viewBox=\"0 0 32 32\">\n",
       "<path d=\"M28.681 7.159c-0.694-0.947-1.662-2.053-2.724-3.116s-2.169-2.030-3.116-2.724c-1.612-1.182-2.393-1.319-2.841-1.319h-15.5c-1.378 0-2.5 1.121-2.5 2.5v27c0 1.378 1.122 2.5 2.5 2.5h23c1.378 0 2.5-1.122 2.5-2.5v-19.5c0-0.448-0.137-1.23-1.319-2.841zM24.543 5.457c0.959 0.959 1.712 1.825 2.268 2.543h-4.811v-4.811c0.718 0.556 1.584 1.309 2.543 2.268zM28 29.5c0 0.271-0.229 0.5-0.5 0.5h-23c-0.271 0-0.5-0.229-0.5-0.5v-27c0-0.271 0.229-0.5 0.5-0.5 0 0 15.499-0 15.5 0v7c0 0.552 0.448 1 1 1h7v19.5z\"></path>\n",
       "<path d=\"M23 26h-14c-0.552 0-1-0.448-1-1s0.448-1 1-1h14c0.552 0 1 0.448 1 1s-0.448 1-1 1z\"></path>\n",
       "<path d=\"M23 22h-14c-0.552 0-1-0.448-1-1s0.448-1 1-1h14c0.552 0 1 0.448 1 1s-0.448 1-1 1z\"></path>\n",
       "<path d=\"M23 18h-14c-0.552 0-1-0.448-1-1s0.448-1 1-1h14c0.552 0 1 0.448 1 1s-0.448 1-1 1z\"></path>\n",
       "</symbol>\n",
       "</defs>\n",
       "</svg>\n",
       "<style>/* CSS stylesheet for displaying xarray objects in jupyterlab.\n",
       " *\n",
       " */\n",
       "\n",
       ":root {\n",
       "  --xr-font-color0: var(--jp-content-font-color0, rgba(0, 0, 0, 1));\n",
       "  --xr-font-color2: var(--jp-content-font-color2, rgba(0, 0, 0, 0.54));\n",
       "  --xr-font-color3: var(--jp-content-font-color3, rgba(0, 0, 0, 0.38));\n",
       "  --xr-border-color: var(--jp-border-color2, #e0e0e0);\n",
       "  --xr-disabled-color: var(--jp-layout-color3, #bdbdbd);\n",
       "  --xr-background-color: var(--jp-layout-color0, white);\n",
       "  --xr-background-color-row-even: var(--jp-layout-color1, white);\n",
       "  --xr-background-color-row-odd: var(--jp-layout-color2, #eeeeee);\n",
       "}\n",
       "\n",
       "html[theme=dark],\n",
       "body.vscode-dark {\n",
       "  --xr-font-color0: rgba(255, 255, 255, 1);\n",
       "  --xr-font-color2: rgba(255, 255, 255, 0.54);\n",
       "  --xr-font-color3: rgba(255, 255, 255, 0.38);\n",
       "  --xr-border-color: #1F1F1F;\n",
       "  --xr-disabled-color: #515151;\n",
       "  --xr-background-color: #111111;\n",
       "  --xr-background-color-row-even: #111111;\n",
       "  --xr-background-color-row-odd: #313131;\n",
       "}\n",
       "\n",
       ".xr-wrap {\n",
       "  display: block !important;\n",
       "  min-width: 300px;\n",
       "  max-width: 700px;\n",
       "}\n",
       "\n",
       ".xr-text-repr-fallback {\n",
       "  /* fallback to plain text repr when CSS is not injected (untrusted notebook) */\n",
       "  display: none;\n",
       "}\n",
       "\n",
       ".xr-header {\n",
       "  padding-top: 6px;\n",
       "  padding-bottom: 6px;\n",
       "  margin-bottom: 4px;\n",
       "  border-bottom: solid 1px var(--xr-border-color);\n",
       "}\n",
       "\n",
       ".xr-header > div,\n",
       ".xr-header > ul {\n",
       "  display: inline;\n",
       "  margin-top: 0;\n",
       "  margin-bottom: 0;\n",
       "}\n",
       "\n",
       ".xr-obj-type,\n",
       ".xr-array-name {\n",
       "  margin-left: 2px;\n",
       "  margin-right: 10px;\n",
       "}\n",
       "\n",
       ".xr-obj-type {\n",
       "  color: var(--xr-font-color2);\n",
       "}\n",
       "\n",
       ".xr-sections {\n",
       "  padding-left: 0 !important;\n",
       "  display: grid;\n",
       "  grid-template-columns: 150px auto auto 1fr 20px 20px;\n",
       "}\n",
       "\n",
       ".xr-section-item {\n",
       "  display: contents;\n",
       "}\n",
       "\n",
       ".xr-section-item input {\n",
       "  display: none;\n",
       "}\n",
       "\n",
       ".xr-section-item input + label {\n",
       "  color: var(--xr-disabled-color);\n",
       "}\n",
       "\n",
       ".xr-section-item input:enabled + label {\n",
       "  cursor: pointer;\n",
       "  color: var(--xr-font-color2);\n",
       "}\n",
       "\n",
       ".xr-section-item input:enabled + label:hover {\n",
       "  color: var(--xr-font-color0);\n",
       "}\n",
       "\n",
       ".xr-section-summary {\n",
       "  grid-column: 1;\n",
       "  color: var(--xr-font-color2);\n",
       "  font-weight: 500;\n",
       "}\n",
       "\n",
       ".xr-section-summary > span {\n",
       "  display: inline-block;\n",
       "  padding-left: 0.5em;\n",
       "}\n",
       "\n",
       ".xr-section-summary-in:disabled + label {\n",
       "  color: var(--xr-font-color2);\n",
       "}\n",
       "\n",
       ".xr-section-summary-in + label:before {\n",
       "  display: inline-block;\n",
       "  content: '►';\n",
       "  font-size: 11px;\n",
       "  width: 15px;\n",
       "  text-align: center;\n",
       "}\n",
       "\n",
       ".xr-section-summary-in:disabled + label:before {\n",
       "  color: var(--xr-disabled-color);\n",
       "}\n",
       "\n",
       ".xr-section-summary-in:checked + label:before {\n",
       "  content: '▼';\n",
       "}\n",
       "\n",
       ".xr-section-summary-in:checked + label > span {\n",
       "  display: none;\n",
       "}\n",
       "\n",
       ".xr-section-summary,\n",
       ".xr-section-inline-details {\n",
       "  padding-top: 4px;\n",
       "  padding-bottom: 4px;\n",
       "}\n",
       "\n",
       ".xr-section-inline-details {\n",
       "  grid-column: 2 / -1;\n",
       "}\n",
       "\n",
       ".xr-section-details {\n",
       "  display: none;\n",
       "  grid-column: 1 / -1;\n",
       "  margin-bottom: 5px;\n",
       "}\n",
       "\n",
       ".xr-section-summary-in:checked ~ .xr-section-details {\n",
       "  display: contents;\n",
       "}\n",
       "\n",
       ".xr-array-wrap {\n",
       "  grid-column: 1 / -1;\n",
       "  display: grid;\n",
       "  grid-template-columns: 20px auto;\n",
       "}\n",
       "\n",
       ".xr-array-wrap > label {\n",
       "  grid-column: 1;\n",
       "  vertical-align: top;\n",
       "}\n",
       "\n",
       ".xr-preview {\n",
       "  color: var(--xr-font-color3);\n",
       "}\n",
       "\n",
       ".xr-array-preview,\n",
       ".xr-array-data {\n",
       "  padding: 0 5px !important;\n",
       "  grid-column: 2;\n",
       "}\n",
       "\n",
       ".xr-array-data,\n",
       ".xr-array-in:checked ~ .xr-array-preview {\n",
       "  display: none;\n",
       "}\n",
       "\n",
       ".xr-array-in:checked ~ .xr-array-data,\n",
       ".xr-array-preview {\n",
       "  display: inline-block;\n",
       "}\n",
       "\n",
       ".xr-dim-list {\n",
       "  display: inline-block !important;\n",
       "  list-style: none;\n",
       "  padding: 0 !important;\n",
       "  margin: 0;\n",
       "}\n",
       "\n",
       ".xr-dim-list li {\n",
       "  display: inline-block;\n",
       "  padding: 0;\n",
       "  margin: 0;\n",
       "}\n",
       "\n",
       ".xr-dim-list:before {\n",
       "  content: '(';\n",
       "}\n",
       "\n",
       ".xr-dim-list:after {\n",
       "  content: ')';\n",
       "}\n",
       "\n",
       ".xr-dim-list li:not(:last-child):after {\n",
       "  content: ',';\n",
       "  padding-right: 5px;\n",
       "}\n",
       "\n",
       ".xr-has-index {\n",
       "  font-weight: bold;\n",
       "}\n",
       "\n",
       ".xr-var-list,\n",
       ".xr-var-item {\n",
       "  display: contents;\n",
       "}\n",
       "\n",
       ".xr-var-item > div,\n",
       ".xr-var-item label,\n",
       ".xr-var-item > .xr-var-name span {\n",
       "  background-color: var(--xr-background-color-row-even);\n",
       "  margin-bottom: 0;\n",
       "}\n",
       "\n",
       ".xr-var-item > .xr-var-name:hover span {\n",
       "  padding-right: 5px;\n",
       "}\n",
       "\n",
       ".xr-var-list > li:nth-child(odd) > div,\n",
       ".xr-var-list > li:nth-child(odd) > label,\n",
       ".xr-var-list > li:nth-child(odd) > .xr-var-name span {\n",
       "  background-color: var(--xr-background-color-row-odd);\n",
       "}\n",
       "\n",
       ".xr-var-name {\n",
       "  grid-column: 1;\n",
       "}\n",
       "\n",
       ".xr-var-dims {\n",
       "  grid-column: 2;\n",
       "}\n",
       "\n",
       ".xr-var-dtype {\n",
       "  grid-column: 3;\n",
       "  text-align: right;\n",
       "  color: var(--xr-font-color2);\n",
       "}\n",
       "\n",
       ".xr-var-preview {\n",
       "  grid-column: 4;\n",
       "}\n",
       "\n",
       ".xr-var-name,\n",
       ".xr-var-dims,\n",
       ".xr-var-dtype,\n",
       ".xr-preview,\n",
       ".xr-attrs dt {\n",
       "  white-space: nowrap;\n",
       "  overflow: hidden;\n",
       "  text-overflow: ellipsis;\n",
       "  padding-right: 10px;\n",
       "}\n",
       "\n",
       ".xr-var-name:hover,\n",
       ".xr-var-dims:hover,\n",
       ".xr-var-dtype:hover,\n",
       ".xr-attrs dt:hover {\n",
       "  overflow: visible;\n",
       "  width: auto;\n",
       "  z-index: 1;\n",
       "}\n",
       "\n",
       ".xr-var-attrs,\n",
       ".xr-var-data {\n",
       "  display: none;\n",
       "  background-color: var(--xr-background-color) !important;\n",
       "  padding-bottom: 5px !important;\n",
       "}\n",
       "\n",
       ".xr-var-attrs-in:checked ~ .xr-var-attrs,\n",
       ".xr-var-data-in:checked ~ .xr-var-data {\n",
       "  display: block;\n",
       "}\n",
       "\n",
       ".xr-var-data > table {\n",
       "  float: right;\n",
       "}\n",
       "\n",
       ".xr-var-name span,\n",
       ".xr-var-data,\n",
       ".xr-attrs {\n",
       "  padding-left: 25px !important;\n",
       "}\n",
       "\n",
       ".xr-attrs,\n",
       ".xr-var-attrs,\n",
       ".xr-var-data {\n",
       "  grid-column: 1 / -1;\n",
       "}\n",
       "\n",
       "dl.xr-attrs {\n",
       "  padding: 0;\n",
       "  margin: 0;\n",
       "  display: grid;\n",
       "  grid-template-columns: 125px auto;\n",
       "}\n",
       "\n",
       ".xr-attrs dt,\n",
       ".xr-attrs dd {\n",
       "  padding: 0;\n",
       "  margin: 0;\n",
       "  float: left;\n",
       "  padding-right: 10px;\n",
       "  width: auto;\n",
       "}\n",
       "\n",
       ".xr-attrs dt {\n",
       "  font-weight: normal;\n",
       "  grid-column: 1;\n",
       "}\n",
       "\n",
       ".xr-attrs dt:hover span {\n",
       "  display: inline-block;\n",
       "  background: var(--xr-background-color);\n",
       "  padding-right: 10px;\n",
       "}\n",
       "\n",
       ".xr-attrs dd {\n",
       "  grid-column: 2;\n",
       "  white-space: pre-wrap;\n",
       "  word-break: break-all;\n",
       "}\n",
       "\n",
       ".xr-icon-database,\n",
       ".xr-icon-file-text2 {\n",
       "  display: inline-block;\n",
       "  vertical-align: middle;\n",
       "  width: 1em;\n",
       "  height: 1.5em !important;\n",
       "  stroke-width: 0;\n",
       "  stroke: currentColor;\n",
       "  fill: currentColor;\n",
       "}\n",
       "</style><pre class='xr-text-repr-fallback'>&lt;xarray.Dataset&gt;\n",
       "Dimensions:    (longitude: 720, latitude: 361, time: 2)\n",
       "Coordinates:\n",
       "  * longitude  (longitude) float32 0.0 0.5 1.0 1.5 ... 358.0 358.5 359.0 359.5\n",
       "  * latitude   (latitude) float32 90.0 89.5 89.0 88.5 ... -89.0 -89.5 -90.0\n",
       "  * time       (time) datetime64[ns] 2019-03-02 2019-03-02T03:00:00\n",
       "Data variables:\n",
       "    t2m        (time, latitude, longitude) float32 ...\n",
       "Attributes:\n",
       "    Conventions:  CF-1.6\n",
       "    history:      2022-07-21 07:36:55 GMT by grib_to_netcdf-2.25.1: /opt/ecmw...</pre><div class='xr-wrap' style='display:none'><div class='xr-header'><div class='xr-obj-type'>xarray.Dataset</div></div><ul class='xr-sections'><li class='xr-section-item'><input id='section-588651ed-ea12-4ca2-a856-d167c55e3885' class='xr-section-summary-in' type='checkbox' disabled ><label for='section-588651ed-ea12-4ca2-a856-d167c55e3885' class='xr-section-summary'  title='Expand/collapse section'>Dimensions:</label><div class='xr-section-inline-details'><ul class='xr-dim-list'><li><span class='xr-has-index'>longitude</span>: 720</li><li><span class='xr-has-index'>latitude</span>: 361</li><li><span class='xr-has-index'>time</span>: 2</li></ul></div><div class='xr-section-details'></div></li><li class='xr-section-item'><input id='section-f0e744dc-d09c-4b6e-a497-d1ee933ad278' class='xr-section-summary-in' type='checkbox'  checked><label for='section-f0e744dc-d09c-4b6e-a497-d1ee933ad278' class='xr-section-summary' >Coordinates: <span>(3)</span></label><div class='xr-section-inline-details'></div><div class='xr-section-details'><ul class='xr-var-list'><li class='xr-var-item'><div class='xr-var-name'><span class='xr-has-index'>longitude</span></div><div class='xr-var-dims'>(longitude)</div><div class='xr-var-dtype'>float32</div><div class='xr-var-preview xr-preview'>0.0 0.5 1.0 ... 358.5 359.0 359.5</div><input id='attrs-75aed29f-94be-4af8-b930-15cd71a54a8b' class='xr-var-attrs-in' type='checkbox' ><label for='attrs-75aed29f-94be-4af8-b930-15cd71a54a8b' title='Show/Hide attributes'><svg class='icon xr-icon-file-text2'><use xlink:href='#icon-file-text2'></use></svg></label><input id='data-c2ea3819-5784-4174-b170-cb2d459f1ecd' class='xr-var-data-in' type='checkbox'><label for='data-c2ea3819-5784-4174-b170-cb2d459f1ecd' title='Show/Hide data repr'><svg class='icon xr-icon-database'><use xlink:href='#icon-database'></use></svg></label><div class='xr-var-attrs'><dl class='xr-attrs'><dt><span>units :</span></dt><dd>degrees_east</dd><dt><span>long_name :</span></dt><dd>longitude</dd></dl></div><div class='xr-var-data'><pre>array([  0. ,   0.5,   1. , ..., 358.5, 359. , 359.5], dtype=float32)</pre></div></li><li class='xr-var-item'><div class='xr-var-name'><span class='xr-has-index'>latitude</span></div><div class='xr-var-dims'>(latitude)</div><div class='xr-var-dtype'>float32</div><div class='xr-var-preview xr-preview'>90.0 89.5 89.0 ... -89.5 -90.0</div><input id='attrs-edf2b70e-0e3c-488c-b025-bc3282e91be8' class='xr-var-attrs-in' type='checkbox' ><label for='attrs-edf2b70e-0e3c-488c-b025-bc3282e91be8' title='Show/Hide attributes'><svg class='icon xr-icon-file-text2'><use xlink:href='#icon-file-text2'></use></svg></label><input id='data-51da2fb8-f2d1-401c-a798-429850c81595' class='xr-var-data-in' type='checkbox'><label for='data-51da2fb8-f2d1-401c-a798-429850c81595' title='Show/Hide data repr'><svg class='icon xr-icon-database'><use xlink:href='#icon-database'></use></svg></label><div class='xr-var-attrs'><dl class='xr-attrs'><dt><span>units :</span></dt><dd>degrees_north</dd><dt><span>long_name :</span></dt><dd>latitude</dd></dl></div><div class='xr-var-data'><pre>array([ 90. ,  89.5,  89. , ..., -89. , -89.5, -90. ], dtype=float32)</pre></div></li><li class='xr-var-item'><div class='xr-var-name'><span class='xr-has-index'>time</span></div><div class='xr-var-dims'>(time)</div><div class='xr-var-dtype'>datetime64[ns]</div><div class='xr-var-preview xr-preview'>2019-03-02 2019-03-02T03:00:00</div><input id='attrs-488d413f-1951-45a6-9f50-56802ceee734' class='xr-var-attrs-in' type='checkbox' ><label for='attrs-488d413f-1951-45a6-9f50-56802ceee734' title='Show/Hide attributes'><svg class='icon xr-icon-file-text2'><use xlink:href='#icon-file-text2'></use></svg></label><input id='data-b74d6fcc-ae6f-4413-9e90-dbeb0a59001b' class='xr-var-data-in' type='checkbox'><label for='data-b74d6fcc-ae6f-4413-9e90-dbeb0a59001b' title='Show/Hide data repr'><svg class='icon xr-icon-database'><use xlink:href='#icon-database'></use></svg></label><div class='xr-var-attrs'><dl class='xr-attrs'><dt><span>long_name :</span></dt><dd>time</dd></dl></div><div class='xr-var-data'><pre>array([&#x27;2019-03-02T00:00:00.000000000&#x27;, &#x27;2019-03-02T03:00:00.000000000&#x27;],\n",
       "      dtype=&#x27;datetime64[ns]&#x27;)</pre></div></li></ul></div></li><li class='xr-section-item'><input id='section-520f78cb-a589-48d8-8e2c-b8630102f493' class='xr-section-summary-in' type='checkbox'  checked><label for='section-520f78cb-a589-48d8-8e2c-b8630102f493' class='xr-section-summary' >Data variables: <span>(1)</span></label><div class='xr-section-inline-details'></div><div class='xr-section-details'><ul class='xr-var-list'><li class='xr-var-item'><div class='xr-var-name'><span>t2m</span></div><div class='xr-var-dims'>(time, latitude, longitude)</div><div class='xr-var-dtype'>float32</div><div class='xr-var-preview xr-preview'>...</div><input id='attrs-c10815c2-a669-4b02-ab65-4bc464889a96' class='xr-var-attrs-in' type='checkbox' ><label for='attrs-c10815c2-a669-4b02-ab65-4bc464889a96' title='Show/Hide attributes'><svg class='icon xr-icon-file-text2'><use xlink:href='#icon-file-text2'></use></svg></label><input id='data-f37ffad4-2724-4c81-aab4-12f163fe4045' class='xr-var-data-in' type='checkbox'><label for='data-f37ffad4-2724-4c81-aab4-12f163fe4045' title='Show/Hide data repr'><svg class='icon xr-icon-database'><use xlink:href='#icon-database'></use></svg></label><div class='xr-var-attrs'><dl class='xr-attrs'><dt><span>units :</span></dt><dd>K</dd><dt><span>long_name :</span></dt><dd>2 metre temperature</dd></dl></div><div class='xr-var-data'><pre>[519840 values with dtype=float32]</pre></div></li></ul></div></li><li class='xr-section-item'><input id='section-3c90ac44-67a1-4fbb-8ce5-955f42826ab7' class='xr-section-summary-in' type='checkbox'  checked><label for='section-3c90ac44-67a1-4fbb-8ce5-955f42826ab7' class='xr-section-summary' >Attributes: <span>(2)</span></label><div class='xr-section-inline-details'></div><div class='xr-section-details'><dl class='xr-attrs'><dt><span>Conventions :</span></dt><dd>CF-1.6</dd><dt><span>history :</span></dt><dd>2022-07-21 07:36:55 GMT by grib_to_netcdf-2.25.1: /opt/ecmwf/mars-client/bin/grib_to_netcdf.bin -S param -o /cache/data0/adaptor.mars.internal-1658389015.1856833-6784-15-3d8d1fb2-dcdf-4be9-97e7-e9d9eb990703.nc /cache/tmp/3d8d1fb2-dcdf-4be9-97e7-e9d9eb990703-adaptor.mars.internal-1658389014.6072814-6784-13-tmp.grib</dd></dl></div></li></ul></div></div>"
      ],
      "text/plain": [
       "<xarray.Dataset>\n",
       "Dimensions:    (longitude: 720, latitude: 361, time: 2)\n",
       "Coordinates:\n",
       "  * longitude  (longitude) float32 0.0 0.5 1.0 1.5 ... 358.0 358.5 359.0 359.5\n",
       "  * latitude   (latitude) float32 90.0 89.5 89.0 88.5 ... -89.0 -89.5 -90.0\n",
       "  * time       (time) datetime64[ns] 2019-03-02 2019-03-02T03:00:00\n",
       "Data variables:\n",
       "    t2m        (time, latitude, longitude) float32 ...\n",
       "Attributes:\n",
       "    Conventions:  CF-1.6\n",
       "    history:      2022-07-21 07:36:55 GMT by grib_to_netcdf-2.25.1: /opt/ecmw..."
      ]
     },
     "execution_count": 25,
     "metadata": {},
     "output_type": "execute_result"
    }
   ],
   "source": [
    "ds = m.download_type(download_sel, download_list, get_url)\n",
    "ds #display the raw NetCDF"
   ]
  },
  {
   "cell_type": "markdown",
   "id": "78108eb2",
   "metadata": {},
   "source": [
    "### Interactive visualization\n",
    "\n",
    "To complete your data exploration, you can create an interactive plot with the NetCDF file previously downloaded. For example, by using a `Dropdown` widget and passing as `option` the time coordinate of your data, you will be able to display interactively your variables in different periods. \n",
    "\n",
    "<div class=\"alert alert-warning\" role=\"alert\">\n",
    "<span>&#9888;</span>\n",
    "<a id='warning'></a> To exploit the time coordinates in the plot, you have to download a dataset covering two or more years, months and/or hours.\n",
    "</div>"
   ]
  },
  {
   "cell_type": "code",
   "execution_count": 26,
   "id": "7dc0787e",
   "metadata": {},
   "outputs": [],
   "source": [
    "# Select the netCDF variables\n",
    "variables = list(ds.keys())\n",
    "var_drop = widgets.Dropdown(options = variables, description= \"Variable: \",style={'description_width': '100px'},layout ={'width': '400px'})\n",
    "\n",
    "# Select the netCDF times\n",
    "timings = list(ds.time.data)\n",
    "time_drop = widgets.Dropdown(options=timings,description=\"Select date: \",disabled=False,style={'description_width': '100px'},layout ={'width': '400px'})"
   ]
  },
  {
   "cell_type": "markdown",
   "id": "32b84a55",
   "metadata": {},
   "source": [
    "The interactive plot function exploits the `interact` widget to update the visualization when a parameter is changed. \n",
    "\n",
    "<div class=\"alert alert-warning\" role=\"alert\">\n",
    "<span>&#9888;</span>\n",
    "<a id='warning'></a> The generation of the plot at each widget interaction may take some second.\n",
    "</div>"
   ]
  },
  {
   "cell_type": "code",
   "execution_count": 27,
   "id": "e73c8927",
   "metadata": {},
   "outputs": [],
   "source": [
    "def plot_era5(variable, time):\n",
    "    f = plt.figure(figsize=(15,10))\n",
    "    p = ds[var_drop.value].sel(time=time_drop.value).plot.pcolormesh(  #change time\n",
    "        subplot_kws=dict(projection=ccrs.PlateCarree(), facecolor=\"gray\"),\n",
    "        transform=ccrs.PlateCarree())\n",
    "    p.set_clim(ds[var_drop.value].min(),ds[var_drop.value].max())\n",
    "    p.axes.set_global()  #global\n",
    "    p.axes.coastlines()  #coastlines\n",
    "    p.axes.gridlines(color='black', alpha=0.5, linestyle='--')\n",
    "    p.axes.set_extent([-180, 180, -90, 90], ccrs.PlateCarree()) #extent window\n",
    "\n",
    "    # draw gridlines\n",
    "    gl = p.axes.gridlines(crs=ccrs.PlateCarree(), draw_labels=True,\n",
    "                          linewidth=2, color='gray', alpha=0.5, linestyle='--')\n",
    "\n",
    "    # adjust labels\n",
    "    gl.xlabels_top = False\n",
    "    gl.ylabels_right = False\n",
    "    gl.ylocator = mticker.AutoLocator()\n",
    "    gl.xformatter = LONGITUDE_FORMATTER\n",
    "    gl.yformatter = LATITUDE_FORMATTER\n",
    "    gl.xlabel_style = {'size': 18, 'color': 'black'}\n",
    "    gl.ylabel_style = {'size': 18, 'color': 'black'}"
   ]
  },
  {
   "cell_type": "code",
   "execution_count": 28,
   "id": "f97c69e3",
   "metadata": {},
   "outputs": [
    {
     "data": {
      "application/vnd.jupyter.widget-view+json": {
       "model_id": "e15c904224b94c3f9008183ad4417dd9",
       "version_major": 2,
       "version_minor": 0
      },
      "text/plain": [
       "interactive(children=(Dropdown(description='Variable: ', layout=Layout(width='400px'), options=('t2m',), style…"
      ]
     },
     "metadata": {},
     "output_type": "display_data"
    },
    {
     "data": {
      "text/plain": [
       "<function __main__.plot_era5(variable, time)>"
      ]
     },
     "execution_count": 28,
     "metadata": {},
     "output_type": "execute_result"
    }
   ],
   "source": [
    "widgets.interact(plot_era5, variable = var_drop, time=time_drop)"
   ]
  },
  {
   "cell_type": "markdown",
   "id": "ee37fb8c-8868-4004-a0c7-a5aedd84b96f",
   "metadata": {},
   "source": [
    "<div class=\"alert alert-success\" role=\"alert\">\n",
    "<span>&#x2714;</span>\n",
    "<a id='libraries'></a>You have successfully run the whole workflow presented in this Notebook for Copernicus data access, browse, display and download using the WeKEO HDA API!\n",
    "</div>\n",
    "\n",
    "<div class=\"alert alert-warning\" role=\"alert\">\n",
    "<span>&#9888;</span>\n",
    "<a id='warning'></a> The workflow is repeated and adapted to other datasets in the following sections. Instructions and comments will be provided only for those steps which require substantial modification than the one used for the  ERA5 Hourly Data On Single Levels dataset.  \n",
    "</div>\n",
    "----"
   ]
  },
  {
   "cell_type": "markdown",
   "id": "9a9be626",
   "metadata": {
    "tags": []
   },
   "source": [
    "<div class=\"alert alert-info\" role=\"alert\">\n",
    "\n",
    "## <a id='sec5'></a>&#x27A4; 5. Example A - CAMS - Europe Air Quality Forecasts\n",
    "[Back to top](#TOC_TOP)\n",
    "\n",
    "</div>"
   ]
  },
  {
   "cell_type": "markdown",
   "id": "9b32c59e",
   "metadata": {},
   "source": [
    "In this section, the Notebook is adapted to the `European Air Quality Forecast` dataset provided by the [<span style='color:Blue'>Copernicus Atmosphere Monitoring Service</span>](https://www.wekeo.eu/docs/harmonised-data-access-api) (CAMS). \n",
    "\n",
    "Differently from ERA5 Hourly Data On Single Levels dataset, the WeKEO HDA API allow filtering of the `European Air Quality Forecast` dataset also based on a Region of Interest (`Bounding Box`).\n",
    "\n",
    "In running this section, you will go over many of the steps done in the previous chapter, and it will be shown how code blocks can be adapted to request data.\n",
    "\n",
    "<div class=\"alert alert-warning\" role=\"alert\">\n",
    "<span>&#9888;</span>\n",
    "<a id='warning'></a> This example relies on the Library imported in Section 1 and the Login procedure explained in 2. If you have not done that already, You have to run these two sections before starting with this example. \n",
    "</div>\n",
    "\n",
    "The `datasetId` in this case will be the following."
   ]
  },
  {
   "cell_type": "code",
   "execution_count": 8,
   "id": "0a4dda75",
   "metadata": {},
   "outputs": [],
   "source": [
    "dataset_id = 'EO:ECMWF:DAT:CAMS_EUROPE_AIR_QUALITY_FORECASTS'"
   ]
  },
  {
   "cell_type": "markdown",
   "id": "fbef5d34",
   "metadata": {},
   "source": [
    "### Data and metadata preview"
   ]
  },
  {
   "cell_type": "code",
   "execution_count": 9,
   "id": "8ef57e5a",
   "metadata": {},
   "outputs": [
    {
     "data": {
      "text/html": [
       "<table id=\"706dfb59-1d93-4d51-8baf-28ca8f31a80b\" class=\"display hover nowrap\"style=\"max-width:100%\"><thead>\n",
       "    <tr style=\"text-align: right;\">\n",
       "      <th></th>\n",
       "      <th>abstract</th>\n",
       "      <th>datasetId</th>\n",
       "      <th>previewImage</th>\n",
       "      <th>title</th>\n",
       "    </tr>\n",
       "  </thead><tbody><tr><td>Loading... (need <a href=https://mwouts.github.io/itables/troubleshooting.html>help</a>?)</td></tr></tbody></table>\n",
       "<link rel=\"stylesheet\" type=\"text/css\" href=\"https://cdn.datatables.net/1.11.3/css/jquery.dataTables.min.css\">\n",
       "<style> table td {\n",
       "    text-overflow: ellipsis;\n",
       "    overflow: hidden;\n",
       "} </style>\n",
       "<style> table th {\n",
       "    text-overflow: ellipsis;\n",
       "    overflow: hidden;\n",
       "} </style>\n",
       "<script type=\"module\">\n",
       "    // Define the table data\n",
       "    const data = [[978, \"This dataset provides daily air quality analyses and forecasts for Europe. CAMS produces specific daily air quality analyses and forecasts for the European domain at significantly higher spatial resolution (0.1 degrees, approx. 10km) than is available from the global analyses and forecasts. The production is based on an ensemble of nine air quality forecasting systems across Europe. A median ensemble is calculated from individual outputs, since ensemble products yield on average better performance than the individual model products. The spread between the nine models are used to provide an estimate of the forecast uncertainty. The analysis combines model data with observations provided by the European Environment Agency (EEA) into a complete and consistent dataset using various data assimilation techniques depending upon the air-quality forecasting system used. In parallel, air quality forecasts are produced once a day for the next four days. Both the analysis and the forecast are available at hourly time steps at seven height levels. Note that only nitrogen monoxide, nitrogen dioxide, sulphur dioxide, ozone, PM2.5, PM10 and dust are regularly validated against in situ observations, and therefore forecasts of all other variables are unvalidated and should be considered experimental. Variables in the dataset/application are: Alder pollen, Ammonia, Birch pollen, Carbon monoxide, Dust, Grass pollen, Nitrogen dioxide, Nitrogen monoxide, Non-methane VOCs, Olive pollen, Ozone, Particulate matter d < 10 \\ufffdm (PM10), Particulate matter d < 10 \\ufffdm - wildfires only, Particulate matter d < 2.5 \\ufffdm (PM2.5), Particulate matter  \\nd < 2.5 \\ufffdm - anthropogenic fossil fuel carbon only, Particulate matter d < 2.5 \\ufffdm - anthropogenic wood burning carbon only, Peroxyacyl nitrates, Ragweed pollen, Secondary inorganic aerosol, Sulphur dioxx\\nide\", \"EO:ECMWF:DAT:CAMS_EUROPE_AIR_QUALITY_FORECASTS\", \"https://wekeo-broker-k8s.apps.mercator.dpi.wekeo.eu/previews/EO_ECMWF_DAT_CAMS_EUROPE_AIR_QUALITY_FORECASTS.png\", \"CAMS European air quality forecasts\"]];\n",
       "\n",
       "    if (typeof require === 'undefined') {\n",
       "        // TODO: This should become the default (use a simple import)\n",
       "        // when the ESM version works independently of whether\n",
       "        // require.js is there or not, see\n",
       "        // https://datatables.net/forums/discussion/69066/esm-es6-module-support?\n",
       "        const {default: $} = await import(\"https://esm.sh/jquery@3.5.0\");\n",
       "        const {default: initDataTables} = await import(\"https://esm.sh/datatables.net@1.11.3?deps=jquery@3.5.0\");\n",
       "\n",
       "        initDataTables();\n",
       "\n",
       "        // Define the dt_args\n",
       "        let dt_args = {\"paging\": false};\n",
       "        dt_args[\"data\"] = data;\n",
       "\n",
       "        // Display the table\n",
       "        $(document).ready(function () {\n",
       "            $('#706dfb59-1d93-4d51-8baf-28ca8f31a80b').DataTable(dt_args);\n",
       "        });\n",
       "    } else {\n",
       "        require([\"jquery\", \"datatables\"], ($, datatables) => {\n",
       "                // Define the dt_args\n",
       "                let dt_args = {\"paging\": false};\n",
       "                dt_args[\"data\"] = data;\n",
       "\n",
       "                // Display the table\n",
       "                $(document).ready(function () {\n",
       "                    $('#706dfb59-1d93-4d51-8baf-28ca8f31a80b').DataTable(dt_args);\n",
       "                });\n",
       "            }\n",
       "        )\n",
       "    }\n",
       "</script>\n"
      ],
      "text/plain": [
       "                                              abstract  \\\n",
       "978  This dataset provides daily air quality analys...   \n",
       "\n",
       "                                          datasetId  \\\n",
       "978  EO:ECMWF:DAT:CAMS_EUROPE_AIR_QUALITY_FORECASTS   \n",
       "\n",
       "                                          previewImage  \\\n",
       "978  https://wekeo-broker-k8s.apps.mercator.dpi.wek...   \n",
       "\n",
       "                                   title  \n",
       "978  CAMS European air quality forecasts  "
      ]
     },
     "execution_count": 9,
     "metadata": {},
     "output_type": "execute_result"
    }
   ],
   "source": [
    "size = 2000\n",
    "dataset = requests.get(\"https://wekeo-broker-k8s.apps.mercator.dpi.wekeo.eu/databroker/datasets?size=\"+str(size))\n",
    "data = json.loads(dataset.text)\n",
    "data_df = pd.json_normalize(data['content'])\n",
    "data_df = data_df[data_df['datasetId'] == dataset_id]\n",
    "data_df"
   ]
  },
  {
   "cell_type": "code",
   "execution_count": 10,
   "id": "e81ad0f6",
   "metadata": {},
   "outputs": [],
   "source": [
    "# Get the dataset title from data_df\n",
    "title = data_df.title.values[0]\n",
    "\n",
    "# Get the description from data_df\n",
    "description = list(data_df[\"abstract\"])[0].replace(\"�\", \"\\u03BC\")\n",
    "\n",
    "# Get the dataset image preview and create a display\n",
    "img_url = list(data_df[\"previewImage\"])[0]\n",
    "image = IPython.display.Image(img_url, width = 500)\n",
    "image = widgets.Image(value=image.data,format=\"jpg\", width=500,height=600)"
   ]
  },
  {
   "cell_type": "code",
   "execution_count": 11,
   "id": "ba43116b",
   "metadata": {},
   "outputs": [
    {
     "data": {
      "application/vnd.jupyter.widget-view+json": {
       "model_id": "5fa14b74011a4489b534dd9c7f9e7caa",
       "version_major": 2,
       "version_minor": 0
      },
      "text/plain": [
       "Box(children=(AppLayout(children=(VBox(children=(Image(value=b'\\x89PNG\\r\\n\\x1a\\n\\x00\\x00\\x00\\rIHDR\\x00\\x00\\x02…"
      ]
     },
     "metadata": {},
     "output_type": "display_data"
    }
   ],
   "source": [
    "# Create the boxes\n",
    "title_box = widgets.HTML('<h2 style=\"text-align:center;font-size:18px;\">'+title+'</h2>')\n",
    "descr_box = widgets.HTML('<p style=\"text-align:justify;font-size:14px;\">'+description+'</p>')\n",
    "image_box = widgets.VBox([image])\n",
    "descr_box = widgets.VBox([title_box, descr_box])\n",
    "\n",
    "# Create the Layout for the dataset preview\n",
    "ui = widgets.AppLayout(right_sidebar=descr_box, left_sidebar = image_box,grid_gap=\"10px\", layout=widgets.Layout(border='solid'))\n",
    "container = widgets.Box([ui], layout=Layout(height='400px', overflow_y='auto'))\n",
    "display(container)"
   ]
  },
  {
   "cell_type": "markdown",
   "id": "2b5fcae8",
   "metadata": {},
   "source": [
    "### Set-up an interactive dashboard to automate CAMS European Air Quality Forecast data requests\n",
    "\n",
    "For `CAMS European Air Quality Forecast` you have to provide the following information:\n",
    "\n",
    "- `Bounding Box`: bounding box latitude and longitude (west, east, north, south)\n",
    "- `Date Range`: start and end date\n",
    "- `Variable`: product variable (pollutants)\n",
    "- `Model`: air quality models (e.g. ensemble)\n",
    "- `Level`: meters above surface\n",
    "- `Type`: analysis or forecast\n",
    "- `Time`: model base time\n",
    "- `Lead time Hour`: forecast lead time in hours\n",
    "- `Format`: e.g. netCDF"
   ]
  },
  {
   "cell_type": "markdown",
   "id": "6d81867f",
   "metadata": {},
   "source": [
    "### Accessing metadata"
   ]
  },
  {
   "cell_type": "code",
   "execution_count": 12,
   "id": "7b97d3ae",
   "metadata": {},
   "outputs": [
    {
     "data": {
      "application/json": {
       "constraints": [
        {
         "comment": "",
         "constraint_type": "{\"min\": null, \"max\": null}",
         "name": "area"
        }
       ],
       "datasetId": "EO:ECMWF:DAT:CAMS_EUROPE_AIR_QUALITY_FORECASTS",
       "parameters": {
        "boundingBoxes": [
         {
          "comment": "Bounding Box",
          "details": {
           "crs": "EPSG:4326",
           "extent": []
          },
          "isRequired": false,
          "label": "Bounding Box",
          "name": "area"
         }
        ],
        "dateRangeSelects": [
         {
          "comment": "Select date range between 2019-03-26 and 2030-01-01",
          "details": {
           "defaultEnd": "2030-01-01",
           "defaultStart": "2019-03-26",
           "end": "2030-01-01",
           "start": "2019-03-26"
          },
          "isRequired": "true",
          "label": "Date",
          "name": "date",
          "parameterType": "DateRangeSelect"
         }
        ],
        "multiStringSelects": [
         {
          "details": {
           "groupedValueLabels": [
            {
             "label": "Variable",
             "name": "variable",
             "valuesLabels": {
              "alder_pollen": "Alder pollen",
              "ammonia": "Ammonia",
              "birch_pollen": "Birch pollen",
              "carbon_monoxide": "Carbon monoxide",
              "dust": "Dust",
              "grass_pollen": "Grass pollen",
              "mugwort_pollen": "Mugwort pollen",
              "nitrogen_dioxide": "Nitrogen dioxide",
              "nitrogen_monoxide": "Nitrogen monoxide",
              "non_methane_vocs": "Non-methane VOCs",
              "olive_pollen": "Olive pollen",
              "ozone": "Ozone",
              "particulate_matter_10um": "Particulate matter inferior 10 um (PM10)",
              "particulate_matter_2.5um": "Particulate matter inferior 2.5 um (PM2.5)",
              "peroxyacyl_nitrates": "Peroxyacyl nitrates",
              "pm10_wildfires": "PM10, wildfires only",
              "ragweed_pollen": "Ragweed pollen",
              "residential_elementary_carbon": "Residential elementary carbon",
              "secondary_inorganic_aerosol": "Secondary inorganic aerosol",
              "sulphur_dioxide": "Sulphur dioxide",
              "total_elementary_carbon": "Total elementary carbon"
             }
            }
           ]
          },
          "isRequired": "true",
          "name": "variable",
          "parameterType": "MultiStringSelect"
         },
         {
          "details": {
           "groupedValueLabels": [
            {
             "label": "Model",
             "name": "model",
             "valuesLabels": {
              "chimere": "CHIMERE",
              "dehm": "DEHM",
              "emep": "EMEP",
              "ensemble": "Ensemble median",
              "euradim": "EURAD-IM",
              "gemaq": "GEM-AQ",
              "lotos": "LOTOS-EUROS",
              "match": "MATCH",
              "mocage": "MOCAGE",
              "silam": "SILAM"
             }
            }
           ]
          },
          "isRequired": "true",
          "name": "model",
          "parameterType": "MultiStringSelect"
         },
         {
          "details": {
           "groupedValueLabels": [
            {
             "label": "Level",
             "name": "level",
             "valuesLabels": {
              "0": "0",
              "100": "100",
              "1000": "1000",
              "2000": "2000",
              "250": "250",
              "3000": "3000",
              "50": "50",
              "500": "500",
              "5000": "5000",
              "750": "750"
             }
            }
           ]
          },
          "isRequired": "true",
          "name": "level",
          "parameterType": "MultiStringSelect"
         },
         {
          "details": {
           "groupedValueLabels": [
            {
             "label": "Type",
             "name": "type",
             "valuesLabels": {
              "analysis": "Analysis",
              "forecast": "Forecast"
             }
            }
           ]
          },
          "isRequired": "true",
          "name": "type",
          "parameterType": "MultiStringSelect"
         },
         {
          "details": {
           "groupedValueLabels": [
            {
             "label": "Time",
             "name": "time",
             "valuesLabels": {
              "00:00": "00:00",
              "01:00": "01:00",
              "02:00": "02:00",
              "03:00": "03:00",
              "04:00": "04:00",
              "05:00": "05:00",
              "06:00": "06:00",
              "07:00": "07:00",
              "08:00": "08:00",
              "09:00": "09:00",
              "10:00": "10:00",
              "11:00": "11:00",
              "12:00": "12:00",
              "13:00": "13:00",
              "14:00": "14:00",
              "15:00": "15:00",
              "16:00": "16:00",
              "17:00": "17:00",
              "18:00": "18:00",
              "19:00": "19:00",
              "20:00": "20:00",
              "21:00": "21:00",
              "22:00": "22:00",
              "23:00": "23:00"
             }
            }
           ]
          },
          "isRequired": "true",
          "name": "time",
          "parameterType": "MultiStringSelect"
         },
         {
          "details": {
           "groupedValueLabels": [
            {
             "label": "Leadtime hour",
             "name": "leadtime_hour",
             "valuesLabels": {
              "0": "0",
              "1": "1",
              "10": "10",
              "11": "11",
              "12": "12",
              "13": "13",
              "14": "14",
              "15": "15",
              "16": "16",
              "17": "17",
              "18": "18",
              "19": "19",
              "2": "2",
              "20": "20",
              "21": "21",
              "22": "22",
              "23": "23",
              "24": "24",
              "25": "25",
              "26": "26",
              "27": "27",
              "28": "28",
              "29": "29",
              "3": "3",
              "30": "30",
              "31": "31",
              "32": "32",
              "33": "33",
              "34": "34",
              "35": "35",
              "36": "36",
              "37": "37",
              "38": "38",
              "39": "39",
              "4": "4",
              "40": "40",
              "41": "41",
              "42": "42",
              "43": "43",
              "44": "44",
              "45": "45",
              "46": "46",
              "47": "47",
              "48": "48",
              "49": "49",
              "5": "5",
              "50": "50",
              "51": "51",
              "52": "52",
              "53": "53",
              "54": "54",
              "55": "55",
              "56": "56",
              "57": "57",
              "58": "58",
              "59": "59",
              "6": "6",
              "60": "60",
              "61": "61",
              "62": "62",
              "63": "63",
              "64": "64",
              "65": "65",
              "66": "66",
              "67": "67",
              "68": "68",
              "69": "69",
              "7": "7",
              "70": "70",
              "71": "71",
              "72": "72",
              "73": "73",
              "74": "74",
              "75": "75",
              "76": "76",
              "77": "77",
              "78": "78",
              "79": "79",
              "8": "8",
              "80": "80",
              "81": "81",
              "82": "82",
              "83": "83",
              "84": "84",
              "85": "85",
              "86": "86",
              "87": "87",
              "88": "88",
              "89": "89",
              "9": "9",
              "90": "90",
              "91": "91",
              "92": "92",
              "93": "93",
              "94": "94",
              "95": "95",
              "96": "96"
             }
            }
           ]
          },
          "isRequired": "true",
          "name": "leadtime_hour",
          "parameterType": "MultiStringSelect"
         }
        ],
        "stringChoices": [
         {
          "details": {
           "valuesLabels": {
            "grib": "GRIB",
            "netcdf": "NetCDF"
           }
          },
          "isRequired": "true",
          "label": "Format",
          "name": "format",
          "parameterType": "StringChoice"
         }
        ],
        "stringInputs": null
       },
       "rendering": {
        "comment": "",
        "name": "",
        "renderType": ""
       },
       "userTerms": {
        "accepted": true,
        "termsId": "Copernicus_General_License"
       }
      },
      "text/plain": [
       "<IPython.core.display.JSON object>"
      ]
     },
     "metadata": {
      "application/json": {
       "expanded": false,
       "root": "root"
      }
     },
     "output_type": "display_data"
    }
   ],
   "source": [
    "dataset = requests.get(\"https://wekeo-broker-k8s.apps.mercator.dpi.wekeo.eu/databroker/querymetadata/\"+dataset_id, headers=headers)\n",
    "metadata = json.loads(dataset.text)\n",
    "display(JSON(metadata))"
   ]
  },
  {
   "cell_type": "markdown",
   "id": "652baa36",
   "metadata": {},
   "source": [
    "### Create the widgets"
   ]
  },
  {
   "cell_type": "code",
   "execution_count": 14,
   "id": "c4958579",
   "metadata": {},
   "outputs": [],
   "source": [
    "format_type_list = list(['netcdf'])\n",
    "params_list = list(metadata['parameters']['multiStringSelects'][0]['details']['groupedValueLabels'][0]['valuesLabels'].keys())\n",
    "product_type_list = list(metadata['parameters']['multiStringSelects'][1]['details']['groupedValueLabels'][0]['valuesLabels'].keys())\n",
    "level_list = list(metadata['parameters']['multiStringSelects'][2]['details']['groupedValueLabels'][0]['valuesLabels'].keys())\n",
    "type_list = list(metadata['parameters']['multiStringSelects'][3]['details']['groupedValueLabels'][0]['valuesLabels'].keys())\n",
    "hour_list = list(metadata['parameters']['multiStringSelects'][4]['details']['groupedValueLabels'][0]['valuesLabels'].keys())\n",
    "leadtime_list = list(metadata['parameters']['multiStringSelects'][5]['details']['groupedValueLabels'][0]['valuesLabels'].keys())"
   ]
  },
  {
   "cell_type": "markdown",
   "id": "d60c2e5c",
   "metadata": {},
   "source": [
    "Create the widgets for the interactive dashboard. We use a `SelectMultiple` widget for all the variables except for the date, for which we use a `DatePicker` widget.\n",
    "\n",
    "*Check the [<span style='color:Blue'>IPyWidgets documentation</span>](https://ipywidgets.readthedocs.io/en/latest/examples/Widget%20List.html) to get more information on all the available widgets.* "
   ]
  },
  {
   "cell_type": "code",
   "execution_count": 15,
   "id": "5f81b062",
   "metadata": {},
   "outputs": [],
   "source": [
    "style = {'description_width': '200px'}\n",
    "layout = {'width': '800px'}\n",
    "\n",
    "params_sel = widgets.SelectMultiple(options=params_list,description='Variables: ',disabled=False,style=style,layout=layout)\n",
    "product_type_sel = widgets.SelectMultiple(options=product_type_list,description='Product type: ',disabled=False,style=style,layout=layout)\n",
    "level_sel = widgets.SelectMultiple(options=level_list,description='Level: ',disabled=False,style=style,layout=layout)\n",
    "type_sel = widgets.SelectMultiple(options=type_list,description='Type: ',disabled=False,style=style,layout=layout)\n",
    "hour_sel = widgets.SelectMultiple(options=hour_list,description='Hour: ',disabled=False,style=style,layout=layout)\n",
    "leadtime_sel = widgets.SelectMultiple(options=leadtime_list,description='Leadtime: ',disabled=False,style=style,layout=layout)\n",
    "format_type_sel = \"netcdf\"\n",
    "start_date_sel = widgets.DatePicker(description='Select start date: ',disabled=False,style=style,layout=layout)\n",
    "end_date_sel = widgets.DatePicker(description='Select end date: ',disabled=False,style=style,layout=layout)"
   ]
  },
  {
   "cell_type": "markdown",
   "id": "35603ae7",
   "metadata": {},
   "source": [
    "### Bounding Box interactive selection\n",
    "\n",
    "As mentioned at the beginning of this section, for the `CAMS European Air Quality Forecast` dataset you can limit the data request to a Region of Interest by specifying a `Bounding Box` within the HDA API call. \n",
    "\n",
    "The [<span style='color:Blue'>Ipyleaflet</span>](https://ipyleaflet.readthedocs.io/en/latest/) library provides a solution to define the `Bounding Box` interactively through a simple  web map interface. \n",
    "\n",
    "The function `draw_map` is available in the [wekeo2pydash_methods.py](https://github.com/danioxoli/WEkEO2Pydash/blob/main/wekeo2pydash_methods.py) file. The following code block will generate a map and by using the `Draw a rectangle` tool (*on the left side of the map panel*) the `Bounding Box` area can be defined."
   ]
  },
  {
   "cell_type": "code",
   "execution_count": 18,
   "id": "c9a0e819",
   "metadata": {},
   "outputs": [
    {
     "data": {
      "application/vnd.jupyter.widget-view+json": {
       "model_id": "96f73c5eb6fa4fb48cc3f91ac6ee5b3e",
       "version_major": 2,
       "version_minor": 0
      },
      "text/plain": [
       "Map(center=[50, 10], controls=(ZoomControl(options=['position', 'zoom_in_text', 'zoom_in_title', 'zoom_out_tex…"
      ]
     },
     "metadata": {},
     "output_type": "display_data"
    }
   ],
   "source": [
    "cams_map, dc = m.draw_map(50, 10, 2)  # lat=45, lon=10, zoom=2\n",
    "area_extent = Rectangle(bounds=((30, -25), (72, 45)), color='red', fill_color='red', fill_opacity=0.1, name='Region extent')\n",
    "cams_map.add_layer(area_extent)\n",
    "cams_map"
   ]
  },
  {
   "cell_type": "markdown",
   "id": "b1a220fe-020a-4de1-a5d7-0973d4e89c57",
   "metadata": {},
   "source": [
    "<div class=\"alert alert-warning\" role=\"alert\">\n",
    "<span>&#9888;</span>\n",
    "<a id='warning'></a> The red canvas in the map identifies the maximum spatial coverage of the CAMS European Air Quality Forecast dataset\n",
    "</div>"
   ]
  },
  {
   "cell_type": "markdown",
   "id": "ef66b3e9",
   "metadata": {},
   "source": [
    "The `Bounding Box` coordinates are obtained automatically from the rectangle you drew. \n",
    "\n",
    "You are allowed to manually define `W`,`E`,`N`,`S` variables by passing numeric (Float) *Latitude* and *Longitude* values of the Bounding Box corners to select a specific Region of Interest (instead of drawing it). "
   ]
  },
  {
   "cell_type": "code",
   "execution_count": 19,
   "id": "bd5b0b63",
   "metadata": {},
   "outputs": [],
   "source": [
    "coords = dc.last_draw['geometry']['coordinates'][0]\n",
    "W = coords[1][0]\n",
    "E = coords[3][0]\n",
    "N = coords[1][1]\n",
    "S = coords[3][1]"
   ]
  },
  {
   "cell_type": "markdown",
   "id": "f55c75c7",
   "metadata": {},
   "source": [
    "It's also suggested to check the time availability of the data before running the download request."
   ]
  },
  {
   "cell_type": "code",
   "execution_count": 21,
   "id": "4fb39c54",
   "metadata": {},
   "outputs": [
    {
     "name": "stdout",
     "output_type": "stream",
     "text": [
      "The start date for this dataset is: 2019-03-26. You can select data after this date.\n"
     ]
    }
   ],
   "source": [
    "start_date = metadata['parameters']['dateRangeSelects'][0]['details']['start']\n",
    "print(\"The start date for this dataset is: \"+start_date+\". You can select data after this date.\")"
   ]
  },
  {
   "cell_type": "markdown",
   "id": "f96186a8",
   "metadata": {},
   "source": [
    "### Create the dashboard and request the data\n",
    "\n",
    "You can now create a dashboard (as you did in the previous section). This time you will use the widgets specifically created for the `CAMS European Air Quality Forecast` dataset. Try to select the following data to run this example.\n",
    "\n",
    "- `variable`: ammonia\n",
    "- `product type`: ensemble\n",
    "- `level`: 0\n",
    "- `type`: analysis\n",
    "- `leadtime hour`: 0\n",
    "- `hour`: 12:00\n",
    "- `start-end date`: from 01/03/2020 to 01/04/2020"
   ]
  },
  {
   "cell_type": "code",
   "execution_count": 22,
   "id": "d535ef97",
   "metadata": {},
   "outputs": [
    {
     "data": {
      "text/html": [
       "<style>\n",
       ".box {\n",
       "    border: 2px solid #0b385f;\n",
       "    font-weight: bold;\n",
       "    background-color: hsl(0, 0%, 98%);\n",
       "    color: #333;\n",
       "}\n"
      ],
      "text/plain": [
       "<IPython.core.display.HTML object>"
      ]
     },
     "metadata": {},
     "output_type": "display_data"
    }
   ],
   "source": [
    "%%html\n",
    "<style>\n",
    ".box {\n",
    "    border: 2px solid #0b385f;\n",
    "    font-weight: bold;\n",
    "    background-color: hsl(0, 0%, 98%);\n",
    "    color: #333;\n",
    "}"
   ]
  },
  {
   "cell_type": "code",
   "execution_count": 27,
   "id": "ebb38221",
   "metadata": {},
   "outputs": [
    {
     "data": {
      "application/vnd.jupyter.widget-view+json": {
       "model_id": "a668fc9254e14618b9221353701d14dc",
       "version_major": 2,
       "version_minor": 0
      },
      "text/plain": [
       "VBox(children=(HTML(value='<h2 style=\"text-align:center;\">CAMS European air quality forecasts</h2><hr>'), Sele…"
      ]
     },
     "metadata": {},
     "output_type": "display_data"
    }
   ],
   "source": [
    "# Create boxes for the dashboard\n",
    "title_box= widgets.HTML(value='<h2 style=\"text-align:center;\">'+title+'</h2><hr>')\n",
    "variables_box = widgets.VBox([title_box, params_sel, product_type_sel, level_sel, type_sel, hour_sel, leadtime_sel, start_date_sel, end_date_sel])\n",
    "\n",
    "# Create the dashboard \n",
    "ui = widgets.AppLayout(layout=widgets.Layout(), grid_gap=\"300px\")\n",
    "\n",
    "display(variables_box.add_class(\"box\"))"
   ]
  },
  {
   "cell_type": "markdown",
   "id": "e84c82a1",
   "metadata": {},
   "source": [
    "After the selection of the parameter values on the dashboard, you can run the HDA API request."
   ]
  },
  {
   "cell_type": "code",
   "execution_count": 28,
   "id": "d1aa67aa",
   "metadata": {},
   "outputs": [
    {
     "name": "stdout",
     "output_type": "stream",
     "text": [
      "The job ID is: K_THW62FP8CzldzCO6JJ8AwWJF8\n"
     ]
    }
   ],
   "source": [
    "query = {\n",
    "      \"datasetId\": dataset_id,\n",
    "      \"boundingBoxValues\": [\n",
    "        {\n",
    "          \"name\": \"area\",\n",
    "          \"bbox\": [\n",
    "            W,\n",
    "            N,\n",
    "            E,\n",
    "            S\n",
    "          ]\n",
    "        }\n",
    "      ],\n",
    "      \"dateRangeSelectValues\": [\n",
    "        {\n",
    "          \"name\": \"date\",\n",
    "          \"start\": start_date_sel.value.strftime(\"%Y-%m-%dT%H:%M:%S.000Z\"),\n",
    "          \"end\": end_date_sel.value.strftime(\"%Y-%m-%dT%H:%M:%S.000Z\")\n",
    "        }\n",
    "      ],\n",
    "      \"multiStringSelectValues\": [\n",
    "        {\n",
    "          \"name\": \"variable\",\n",
    "          \"value\": list(params_sel.value)\n",
    "        },\n",
    "        {\n",
    "          \"name\": \"model\",\n",
    "          \"value\": list(product_type_sel.value)\n",
    "        },\n",
    "        {\n",
    "          \"name\": \"level\",\n",
    "          \"value\": list(level_sel.value)\n",
    "        },\n",
    "        {\n",
    "          \"name\": \"type\",\n",
    "          \"value\": list(type_sel.value)\n",
    "        },\n",
    "        {\n",
    "          \"name\": \"time\",\n",
    "          \"value\": list(hour_sel.value)\n",
    "        },\n",
    "        {\n",
    "          \"name\": \"leadtime_hour\",\n",
    "          \"value\": list(leadtime_sel.value)\n",
    "        }\n",
    "      ],\n",
    "      \"stringChoiceValues\": [\n",
    "        {\n",
    "          \"name\": \"format\",\n",
    "          \"value\": format_type_sel\n",
    "        }\n",
    "      ]\n",
    "    }\n",
    "      \n",
    "headers = {\n",
    "    'Content-Type': 'application/json',\n",
    "    'Accept': 'application/json',\n",
    "    'authorization': 'Basic '+str(token)}\n",
    "\n",
    "data = json.dumps(query)\n",
    "dataset_post = requests.post(\"https://wekeo-broker-k8s.apps.mercator.dpi.wekeo.eu/databroker/datarequest\", headers=headers, data=data)\n",
    "job_id = json.loads(dataset_post.text)\n",
    "jobId = job_id['jobId']\n",
    "print(\"The job ID is: \"+jobId)"
   ]
  },
  {
   "cell_type": "markdown",
   "id": "70eabcfc",
   "metadata": {},
   "source": [
    "Once the `Job ID` is displayed from the previous code block, you can check if the request is `Completed`."
   ]
  },
  {
   "cell_type": "code",
   "execution_count": 29,
   "id": "3617ec2c",
   "metadata": {},
   "outputs": [
    {
     "name": "stdout",
     "output_type": "stream",
     "text": [
      "Status: Completed\n"
     ]
    }
   ],
   "source": [
    "get_url_request = requests.get('https://wekeo-broker.apps.mercator.dpi.wekeo.eu/databroker/datarequest/status/'+jobId, headers=headers)\n",
    "get_url = json.loads(get_url_request.text)\n",
    "if get_url['status']=='completed':\n",
    "    print('Status: Completed', end='\\r')\n",
    "\n",
    "while get_url['status']!='completed':\n",
    "    get_url_request = requests.get('https://wekeo-broker.apps.mercator.dpi.wekeo.eu/databroker/datarequest/status/'+jobId, headers=headers)\n",
    "    get_url = json.loads(get_url_request.text)\n",
    "    if get_url['status']=='running':\n",
    "        print('Status: Running', end='\\r')\n",
    "    elif get_url['status']=='failed':\n",
    "        print('Status: Failed. Check data selected.')\n",
    "        break\n",
    "    elif get_url['status']=='completed':\n",
    "        print('Status: Completed')"
   ]
  },
  {
   "cell_type": "markdown",
   "id": "50ca58b7-bb8e-4a55-8d94-90d4a9b5af86",
   "metadata": {},
   "source": [
    "<div class=\"alert alert-warning\" role=\"alert\">\n",
    "<span>&#9888;</span>\n",
    "<a id='warning'></a> You must wait until the request is <b>Completed</b>. If an error occurs check if the parameters are selected correctly inside the dashboard, or the token is still valid\n",
    "</div>"
   ]
  },
  {
   "cell_type": "markdown",
   "id": "38ce590a",
   "metadata": {},
   "source": [
    "If no errors appear, you are ready to perform a `GET` request to download the selected data. The URL for the download will be generated and displayed."
   ]
  },
  {
   "cell_type": "code",
   "execution_count": 30,
   "id": "20691aa0",
   "metadata": {},
   "outputs": [
    {
     "name": "stdout",
     "output_type": "stream",
     "text": [
      "The URL for download is: https://download-0001-ads-clone.copernicus-climate.eu/cache-compute-0001/cache/data6/adaptor.cams_regional_fc.retrieve-1658394882.2038693-25749-1-ed60601a-9b39-42e6-b7b1-3156c6591452.nc\n"
     ]
    }
   ],
   "source": [
    "headers = {'authorization': 'Basic '+str(token)}\n",
    "get_url_request = requests.get('https://wekeo-broker.apps.mercator.dpi.wekeo.eu/databroker/datarequest/jobs/'+jobId+'/result', headers=headers)\n",
    "get_url = json.loads(get_url_request.text)\n",
    "# print(get_url)\n",
    "url = get_url['content'][0]['url']\n",
    "print('The URL for download is: '+ get_url['content'][0]['url'])"
   ]
  },
  {
   "cell_type": "markdown",
   "id": "e170d9e0",
   "metadata": {},
   "source": [
    "### Download or read the data\n",
    "\n",
    "You can now decide whether you want to download the `netCDF` file with its original name or read it directly in memory."
   ]
  },
  {
   "cell_type": "code",
   "execution_count": 31,
   "id": "81bc173c",
   "metadata": {},
   "outputs": [
    {
     "data": {
      "application/vnd.jupyter.widget-view+json": {
       "model_id": "48ffaa7bdec74451a03ff9f7557774ab",
       "version_major": 2,
       "version_minor": 0
      },
      "text/plain": [
       "RadioButtons(description='Data download: ', index=1, layout=Layout(width='800px'), options=('Download NetCDF',…"
      ]
     },
     "metadata": {},
     "output_type": "display_data"
    }
   ],
   "source": [
    "download_list = [\"Download NetCDF\", \"Read NetCDF in memory\"] #Choice - Download data or just read\n",
    "download_sel = widgets.RadioButtons(options=download_list,description=\"Data download: \", value=\"Read NetCDF in memory\",style=style,layout=layout)\n",
    "download_sel"
   ]
  },
  {
   "cell_type": "code",
   "execution_count": 32,
   "id": "d24ed8db",
   "metadata": {},
   "outputs": [
    {
     "data": {
      "text/html": [
       "<div><svg style=\"position: absolute; width: 0; height: 0; overflow: hidden\">\n",
       "<defs>\n",
       "<symbol id=\"icon-database\" viewBox=\"0 0 32 32\">\n",
       "<path d=\"M16 0c-8.837 0-16 2.239-16 5v4c0 2.761 7.163 5 16 5s16-2.239 16-5v-4c0-2.761-7.163-5-16-5z\"></path>\n",
       "<path d=\"M16 17c-8.837 0-16-2.239-16-5v6c0 2.761 7.163 5 16 5s16-2.239 16-5v-6c0 2.761-7.163 5-16 5z\"></path>\n",
       "<path d=\"M16 26c-8.837 0-16-2.239-16-5v6c0 2.761 7.163 5 16 5s16-2.239 16-5v-6c0 2.761-7.163 5-16 5z\"></path>\n",
       "</symbol>\n",
       "<symbol id=\"icon-file-text2\" viewBox=\"0 0 32 32\">\n",
       "<path d=\"M28.681 7.159c-0.694-0.947-1.662-2.053-2.724-3.116s-2.169-2.030-3.116-2.724c-1.612-1.182-2.393-1.319-2.841-1.319h-15.5c-1.378 0-2.5 1.121-2.5 2.5v27c0 1.378 1.122 2.5 2.5 2.5h23c1.378 0 2.5-1.122 2.5-2.5v-19.5c0-0.448-0.137-1.23-1.319-2.841zM24.543 5.457c0.959 0.959 1.712 1.825 2.268 2.543h-4.811v-4.811c0.718 0.556 1.584 1.309 2.543 2.268zM28 29.5c0 0.271-0.229 0.5-0.5 0.5h-23c-0.271 0-0.5-0.229-0.5-0.5v-27c0-0.271 0.229-0.5 0.5-0.5 0 0 15.499-0 15.5 0v7c0 0.552 0.448 1 1 1h7v19.5z\"></path>\n",
       "<path d=\"M23 26h-14c-0.552 0-1-0.448-1-1s0.448-1 1-1h14c0.552 0 1 0.448 1 1s-0.448 1-1 1z\"></path>\n",
       "<path d=\"M23 22h-14c-0.552 0-1-0.448-1-1s0.448-1 1-1h14c0.552 0 1 0.448 1 1s-0.448 1-1 1z\"></path>\n",
       "<path d=\"M23 18h-14c-0.552 0-1-0.448-1-1s0.448-1 1-1h14c0.552 0 1 0.448 1 1s-0.448 1-1 1z\"></path>\n",
       "</symbol>\n",
       "</defs>\n",
       "</svg>\n",
       "<style>/* CSS stylesheet for displaying xarray objects in jupyterlab.\n",
       " *\n",
       " */\n",
       "\n",
       ":root {\n",
       "  --xr-font-color0: var(--jp-content-font-color0, rgba(0, 0, 0, 1));\n",
       "  --xr-font-color2: var(--jp-content-font-color2, rgba(0, 0, 0, 0.54));\n",
       "  --xr-font-color3: var(--jp-content-font-color3, rgba(0, 0, 0, 0.38));\n",
       "  --xr-border-color: var(--jp-border-color2, #e0e0e0);\n",
       "  --xr-disabled-color: var(--jp-layout-color3, #bdbdbd);\n",
       "  --xr-background-color: var(--jp-layout-color0, white);\n",
       "  --xr-background-color-row-even: var(--jp-layout-color1, white);\n",
       "  --xr-background-color-row-odd: var(--jp-layout-color2, #eeeeee);\n",
       "}\n",
       "\n",
       "html[theme=dark],\n",
       "body.vscode-dark {\n",
       "  --xr-font-color0: rgba(255, 255, 255, 1);\n",
       "  --xr-font-color2: rgba(255, 255, 255, 0.54);\n",
       "  --xr-font-color3: rgba(255, 255, 255, 0.38);\n",
       "  --xr-border-color: #1F1F1F;\n",
       "  --xr-disabled-color: #515151;\n",
       "  --xr-background-color: #111111;\n",
       "  --xr-background-color-row-even: #111111;\n",
       "  --xr-background-color-row-odd: #313131;\n",
       "}\n",
       "\n",
       ".xr-wrap {\n",
       "  display: block !important;\n",
       "  min-width: 300px;\n",
       "  max-width: 700px;\n",
       "}\n",
       "\n",
       ".xr-text-repr-fallback {\n",
       "  /* fallback to plain text repr when CSS is not injected (untrusted notebook) */\n",
       "  display: none;\n",
       "}\n",
       "\n",
       ".xr-header {\n",
       "  padding-top: 6px;\n",
       "  padding-bottom: 6px;\n",
       "  margin-bottom: 4px;\n",
       "  border-bottom: solid 1px var(--xr-border-color);\n",
       "}\n",
       "\n",
       ".xr-header > div,\n",
       ".xr-header > ul {\n",
       "  display: inline;\n",
       "  margin-top: 0;\n",
       "  margin-bottom: 0;\n",
       "}\n",
       "\n",
       ".xr-obj-type,\n",
       ".xr-array-name {\n",
       "  margin-left: 2px;\n",
       "  margin-right: 10px;\n",
       "}\n",
       "\n",
       ".xr-obj-type {\n",
       "  color: var(--xr-font-color2);\n",
       "}\n",
       "\n",
       ".xr-sections {\n",
       "  padding-left: 0 !important;\n",
       "  display: grid;\n",
       "  grid-template-columns: 150px auto auto 1fr 20px 20px;\n",
       "}\n",
       "\n",
       ".xr-section-item {\n",
       "  display: contents;\n",
       "}\n",
       "\n",
       ".xr-section-item input {\n",
       "  display: none;\n",
       "}\n",
       "\n",
       ".xr-section-item input + label {\n",
       "  color: var(--xr-disabled-color);\n",
       "}\n",
       "\n",
       ".xr-section-item input:enabled + label {\n",
       "  cursor: pointer;\n",
       "  color: var(--xr-font-color2);\n",
       "}\n",
       "\n",
       ".xr-section-item input:enabled + label:hover {\n",
       "  color: var(--xr-font-color0);\n",
       "}\n",
       "\n",
       ".xr-section-summary {\n",
       "  grid-column: 1;\n",
       "  color: var(--xr-font-color2);\n",
       "  font-weight: 500;\n",
       "}\n",
       "\n",
       ".xr-section-summary > span {\n",
       "  display: inline-block;\n",
       "  padding-left: 0.5em;\n",
       "}\n",
       "\n",
       ".xr-section-summary-in:disabled + label {\n",
       "  color: var(--xr-font-color2);\n",
       "}\n",
       "\n",
       ".xr-section-summary-in + label:before {\n",
       "  display: inline-block;\n",
       "  content: '►';\n",
       "  font-size: 11px;\n",
       "  width: 15px;\n",
       "  text-align: center;\n",
       "}\n",
       "\n",
       ".xr-section-summary-in:disabled + label:before {\n",
       "  color: var(--xr-disabled-color);\n",
       "}\n",
       "\n",
       ".xr-section-summary-in:checked + label:before {\n",
       "  content: '▼';\n",
       "}\n",
       "\n",
       ".xr-section-summary-in:checked + label > span {\n",
       "  display: none;\n",
       "}\n",
       "\n",
       ".xr-section-summary,\n",
       ".xr-section-inline-details {\n",
       "  padding-top: 4px;\n",
       "  padding-bottom: 4px;\n",
       "}\n",
       "\n",
       ".xr-section-inline-details {\n",
       "  grid-column: 2 / -1;\n",
       "}\n",
       "\n",
       ".xr-section-details {\n",
       "  display: none;\n",
       "  grid-column: 1 / -1;\n",
       "  margin-bottom: 5px;\n",
       "}\n",
       "\n",
       ".xr-section-summary-in:checked ~ .xr-section-details {\n",
       "  display: contents;\n",
       "}\n",
       "\n",
       ".xr-array-wrap {\n",
       "  grid-column: 1 / -1;\n",
       "  display: grid;\n",
       "  grid-template-columns: 20px auto;\n",
       "}\n",
       "\n",
       ".xr-array-wrap > label {\n",
       "  grid-column: 1;\n",
       "  vertical-align: top;\n",
       "}\n",
       "\n",
       ".xr-preview {\n",
       "  color: var(--xr-font-color3);\n",
       "}\n",
       "\n",
       ".xr-array-preview,\n",
       ".xr-array-data {\n",
       "  padding: 0 5px !important;\n",
       "  grid-column: 2;\n",
       "}\n",
       "\n",
       ".xr-array-data,\n",
       ".xr-array-in:checked ~ .xr-array-preview {\n",
       "  display: none;\n",
       "}\n",
       "\n",
       ".xr-array-in:checked ~ .xr-array-data,\n",
       ".xr-array-preview {\n",
       "  display: inline-block;\n",
       "}\n",
       "\n",
       ".xr-dim-list {\n",
       "  display: inline-block !important;\n",
       "  list-style: none;\n",
       "  padding: 0 !important;\n",
       "  margin: 0;\n",
       "}\n",
       "\n",
       ".xr-dim-list li {\n",
       "  display: inline-block;\n",
       "  padding: 0;\n",
       "  margin: 0;\n",
       "}\n",
       "\n",
       ".xr-dim-list:before {\n",
       "  content: '(';\n",
       "}\n",
       "\n",
       ".xr-dim-list:after {\n",
       "  content: ')';\n",
       "}\n",
       "\n",
       ".xr-dim-list li:not(:last-child):after {\n",
       "  content: ',';\n",
       "  padding-right: 5px;\n",
       "}\n",
       "\n",
       ".xr-has-index {\n",
       "  font-weight: bold;\n",
       "}\n",
       "\n",
       ".xr-var-list,\n",
       ".xr-var-item {\n",
       "  display: contents;\n",
       "}\n",
       "\n",
       ".xr-var-item > div,\n",
       ".xr-var-item label,\n",
       ".xr-var-item > .xr-var-name span {\n",
       "  background-color: var(--xr-background-color-row-even);\n",
       "  margin-bottom: 0;\n",
       "}\n",
       "\n",
       ".xr-var-item > .xr-var-name:hover span {\n",
       "  padding-right: 5px;\n",
       "}\n",
       "\n",
       ".xr-var-list > li:nth-child(odd) > div,\n",
       ".xr-var-list > li:nth-child(odd) > label,\n",
       ".xr-var-list > li:nth-child(odd) > .xr-var-name span {\n",
       "  background-color: var(--xr-background-color-row-odd);\n",
       "}\n",
       "\n",
       ".xr-var-name {\n",
       "  grid-column: 1;\n",
       "}\n",
       "\n",
       ".xr-var-dims {\n",
       "  grid-column: 2;\n",
       "}\n",
       "\n",
       ".xr-var-dtype {\n",
       "  grid-column: 3;\n",
       "  text-align: right;\n",
       "  color: var(--xr-font-color2);\n",
       "}\n",
       "\n",
       ".xr-var-preview {\n",
       "  grid-column: 4;\n",
       "}\n",
       "\n",
       ".xr-var-name,\n",
       ".xr-var-dims,\n",
       ".xr-var-dtype,\n",
       ".xr-preview,\n",
       ".xr-attrs dt {\n",
       "  white-space: nowrap;\n",
       "  overflow: hidden;\n",
       "  text-overflow: ellipsis;\n",
       "  padding-right: 10px;\n",
       "}\n",
       "\n",
       ".xr-var-name:hover,\n",
       ".xr-var-dims:hover,\n",
       ".xr-var-dtype:hover,\n",
       ".xr-attrs dt:hover {\n",
       "  overflow: visible;\n",
       "  width: auto;\n",
       "  z-index: 1;\n",
       "}\n",
       "\n",
       ".xr-var-attrs,\n",
       ".xr-var-data {\n",
       "  display: none;\n",
       "  background-color: var(--xr-background-color) !important;\n",
       "  padding-bottom: 5px !important;\n",
       "}\n",
       "\n",
       ".xr-var-attrs-in:checked ~ .xr-var-attrs,\n",
       ".xr-var-data-in:checked ~ .xr-var-data {\n",
       "  display: block;\n",
       "}\n",
       "\n",
       ".xr-var-data > table {\n",
       "  float: right;\n",
       "}\n",
       "\n",
       ".xr-var-name span,\n",
       ".xr-var-data,\n",
       ".xr-attrs {\n",
       "  padding-left: 25px !important;\n",
       "}\n",
       "\n",
       ".xr-attrs,\n",
       ".xr-var-attrs,\n",
       ".xr-var-data {\n",
       "  grid-column: 1 / -1;\n",
       "}\n",
       "\n",
       "dl.xr-attrs {\n",
       "  padding: 0;\n",
       "  margin: 0;\n",
       "  display: grid;\n",
       "  grid-template-columns: 125px auto;\n",
       "}\n",
       "\n",
       ".xr-attrs dt,\n",
       ".xr-attrs dd {\n",
       "  padding: 0;\n",
       "  margin: 0;\n",
       "  float: left;\n",
       "  padding-right: 10px;\n",
       "  width: auto;\n",
       "}\n",
       "\n",
       ".xr-attrs dt {\n",
       "  font-weight: normal;\n",
       "  grid-column: 1;\n",
       "}\n",
       "\n",
       ".xr-attrs dt:hover span {\n",
       "  display: inline-block;\n",
       "  background: var(--xr-background-color);\n",
       "  padding-right: 10px;\n",
       "}\n",
       "\n",
       ".xr-attrs dd {\n",
       "  grid-column: 2;\n",
       "  white-space: pre-wrap;\n",
       "  word-break: break-all;\n",
       "}\n",
       "\n",
       ".xr-icon-database,\n",
       ".xr-icon-file-text2 {\n",
       "  display: inline-block;\n",
       "  vertical-align: middle;\n",
       "  width: 1em;\n",
       "  height: 1.5em !important;\n",
       "  stroke-width: 0;\n",
       "  stroke: currentColor;\n",
       "  fill: currentColor;\n",
       "}\n",
       "</style><pre class='xr-text-repr-fallback'>&lt;xarray.Dataset&gt;\n",
       "Dimensions:    (longitude: 28, latitude: 17, level: 1, time: 32)\n",
       "Coordinates:\n",
       "  * longitude  (longitude) float32 5.95 6.05 6.15 6.25 ... 8.35 8.45 8.55 8.65\n",
       "  * latitude   (latitude) float32 47.25 47.15 47.05 46.95 ... 45.85 45.75 45.65\n",
       "  * level      (level) float32 0.0\n",
       "  * time       (time) timedelta64[ns] 0 days 1 days 2 days ... 30 days 31 days\n",
       "Data variables:\n",
       "    nh3_conc   (time, level, latitude, longitude) float32 0.9469 ... 9.523\n",
       "Attributes:\n",
       "    title:        NH3 Air Pollutant ANALYSIS at the Surface\n",
       "    institution:  Data produced by Meteo France\n",
       "    source:       Data from ENSEMBLE model\n",
       "    history:      Model ENSEMBLE ANALYSIS\n",
       "    ANALYSIS:     Europe, 20200301-20200401+[0H_0H]\n",
       "    summary:      ENSEMBLE model hourly ANALYSIS of NH3 concentration at the ...\n",
       "    project:      MACC-RAQ (http://macc-raq.gmes-atmosphere.eu)</pre><div class='xr-wrap' style='display:none'><div class='xr-header'><div class='xr-obj-type'>xarray.Dataset</div></div><ul class='xr-sections'><li class='xr-section-item'><input id='section-4b538a4e-2f61-487e-8498-36cfdb5eee4a' class='xr-section-summary-in' type='checkbox' disabled ><label for='section-4b538a4e-2f61-487e-8498-36cfdb5eee4a' class='xr-section-summary'  title='Expand/collapse section'>Dimensions:</label><div class='xr-section-inline-details'><ul class='xr-dim-list'><li><span class='xr-has-index'>longitude</span>: 28</li><li><span class='xr-has-index'>latitude</span>: 17</li><li><span class='xr-has-index'>level</span>: 1</li><li><span class='xr-has-index'>time</span>: 32</li></ul></div><div class='xr-section-details'></div></li><li class='xr-section-item'><input id='section-aea74ee2-db96-429b-ba2e-5356689e2805' class='xr-section-summary-in' type='checkbox'  checked><label for='section-aea74ee2-db96-429b-ba2e-5356689e2805' class='xr-section-summary' >Coordinates: <span>(4)</span></label><div class='xr-section-inline-details'></div><div class='xr-section-details'><ul class='xr-var-list'><li class='xr-var-item'><div class='xr-var-name'><span class='xr-has-index'>longitude</span></div><div class='xr-var-dims'>(longitude)</div><div class='xr-var-dtype'>float32</div><div class='xr-var-preview xr-preview'>5.95 6.05 6.15 ... 8.45 8.55 8.65</div><input id='attrs-4ba195d7-8dd2-4105-aa56-f81c1bb264f2' class='xr-var-attrs-in' type='checkbox' ><label for='attrs-4ba195d7-8dd2-4105-aa56-f81c1bb264f2' title='Show/Hide attributes'><svg class='icon xr-icon-file-text2'><use xlink:href='#icon-file-text2'></use></svg></label><input id='data-a85b3f1c-c64f-41ef-ae82-fbb75fa0501e' class='xr-var-data-in' type='checkbox'><label for='data-a85b3f1c-c64f-41ef-ae82-fbb75fa0501e' title='Show/Hide data repr'><svg class='icon xr-icon-database'><use xlink:href='#icon-database'></use></svg></label><div class='xr-var-attrs'><dl class='xr-attrs'><dt><span>long_name :</span></dt><dd>longitude</dd><dt><span>units :</span></dt><dd>degrees_east</dd></dl></div><div class='xr-var-data'><pre>array([5.95, 6.05, 6.15, 6.25, 6.35, 6.45, 6.55, 6.65, 6.75, 6.85, 6.95, 7.05,\n",
       "       7.15, 7.25, 7.35, 7.45, 7.55, 7.65, 7.75, 7.85, 7.95, 8.05, 8.15, 8.25,\n",
       "       8.35, 8.45, 8.55, 8.65], dtype=float32)</pre></div></li><li class='xr-var-item'><div class='xr-var-name'><span class='xr-has-index'>latitude</span></div><div class='xr-var-dims'>(latitude)</div><div class='xr-var-dtype'>float32</div><div class='xr-var-preview xr-preview'>47.25 47.15 47.05 ... 45.75 45.65</div><input id='attrs-79d63485-462c-4949-bf49-dee0749ecb71' class='xr-var-attrs-in' type='checkbox' ><label for='attrs-79d63485-462c-4949-bf49-dee0749ecb71' title='Show/Hide attributes'><svg class='icon xr-icon-file-text2'><use xlink:href='#icon-file-text2'></use></svg></label><input id='data-026b49b2-85b9-440f-a490-70e4bb8ca1f1' class='xr-var-data-in' type='checkbox'><label for='data-026b49b2-85b9-440f-a490-70e4bb8ca1f1' title='Show/Hide data repr'><svg class='icon xr-icon-database'><use xlink:href='#icon-database'></use></svg></label><div class='xr-var-attrs'><dl class='xr-attrs'><dt><span>long_name :</span></dt><dd>latitude</dd><dt><span>units :</span></dt><dd>degrees_north</dd></dl></div><div class='xr-var-data'><pre>array([47.25, 47.15, 47.05, 46.95, 46.85, 46.75, 46.65, 46.55, 46.45, 46.35,\n",
       "       46.25, 46.15, 46.05, 45.95, 45.85, 45.75, 45.65], dtype=float32)</pre></div></li><li class='xr-var-item'><div class='xr-var-name'><span class='xr-has-index'>level</span></div><div class='xr-var-dims'>(level)</div><div class='xr-var-dtype'>float32</div><div class='xr-var-preview xr-preview'>0.0</div><input id='attrs-e6f6099e-fd4b-4702-8f08-4d9fb9d281a2' class='xr-var-attrs-in' type='checkbox' ><label for='attrs-e6f6099e-fd4b-4702-8f08-4d9fb9d281a2' title='Show/Hide attributes'><svg class='icon xr-icon-file-text2'><use xlink:href='#icon-file-text2'></use></svg></label><input id='data-b2e15d3c-0ea5-49e3-8f4e-401cad96e6cf' class='xr-var-data-in' type='checkbox'><label for='data-b2e15d3c-0ea5-49e3-8f4e-401cad96e6cf' title='Show/Hide data repr'><svg class='icon xr-icon-database'><use xlink:href='#icon-database'></use></svg></label><div class='xr-var-attrs'><dl class='xr-attrs'><dt><span>long_name :</span></dt><dd>level</dd><dt><span>units :</span></dt><dd>m</dd></dl></div><div class='xr-var-data'><pre>array([0.], dtype=float32)</pre></div></li><li class='xr-var-item'><div class='xr-var-name'><span class='xr-has-index'>time</span></div><div class='xr-var-dims'>(time)</div><div class='xr-var-dtype'>timedelta64[ns]</div><div class='xr-var-preview xr-preview'>0 days 1 days ... 30 days 31 days</div><input id='attrs-557903be-8a70-4e33-b886-0712baa0da42' class='xr-var-attrs-in' type='checkbox' ><label for='attrs-557903be-8a70-4e33-b886-0712baa0da42' title='Show/Hide attributes'><svg class='icon xr-icon-file-text2'><use xlink:href='#icon-file-text2'></use></svg></label><input id='data-d1199794-703c-46e1-9875-392866cf6749' class='xr-var-data-in' type='checkbox'><label for='data-d1199794-703c-46e1-9875-392866cf6749' title='Show/Hide data repr'><svg class='icon xr-icon-database'><use xlink:href='#icon-database'></use></svg></label><div class='xr-var-attrs'><dl class='xr-attrs'><dt><span>long_name :</span></dt><dd>ANALYSIS time from 20200301</dd></dl></div><div class='xr-var-data'><pre>array([               0,   86400000000000,  172800000000000,  259200000000000,\n",
       "        345600000000000,  432000000000000,  518400000000000,  604800000000000,\n",
       "        691200000000000,  777600000000000,  864000000000000,  950400000000000,\n",
       "       1036800000000000, 1123200000000000, 1209600000000000, 1296000000000000,\n",
       "       1382400000000000, 1468800000000000, 1555200000000000, 1641600000000000,\n",
       "       1728000000000000, 1814400000000000, 1900800000000000, 1987200000000000,\n",
       "       2073600000000000, 2160000000000000, 2246400000000000, 2332800000000000,\n",
       "       2419200000000000, 2505600000000000, 2592000000000000, 2678400000000000],\n",
       "      dtype=&#x27;timedelta64[ns]&#x27;)</pre></div></li></ul></div></li><li class='xr-section-item'><input id='section-11f894e8-53cb-4c19-ade4-3e0f6265b252' class='xr-section-summary-in' type='checkbox'  checked><label for='section-11f894e8-53cb-4c19-ade4-3e0f6265b252' class='xr-section-summary' >Data variables: <span>(1)</span></label><div class='xr-section-inline-details'></div><div class='xr-section-details'><ul class='xr-var-list'><li class='xr-var-item'><div class='xr-var-name'><span>nh3_conc</span></div><div class='xr-var-dims'>(time, level, latitude, longitude)</div><div class='xr-var-dtype'>float32</div><div class='xr-var-preview xr-preview'>...</div><input id='attrs-f7b9b9b8-9d06-4e69-9e28-0497cb11d260' class='xr-var-attrs-in' type='checkbox' ><label for='attrs-f7b9b9b8-9d06-4e69-9e28-0497cb11d260' title='Show/Hide attributes'><svg class='icon xr-icon-file-text2'><use xlink:href='#icon-file-text2'></use></svg></label><input id='data-86e0caba-22ff-409c-aa16-16287769af03' class='xr-var-data-in' type='checkbox'><label for='data-86e0caba-22ff-409c-aa16-16287769af03' title='Show/Hide data repr'><svg class='icon xr-icon-database'><use xlink:href='#icon-database'></use></svg></label><div class='xr-var-attrs'><dl class='xr-attrs'><dt><span>species :</span></dt><dd>Ammonia</dd><dt><span>units :</span></dt><dd>µg/m3</dd><dt><span>value :</span></dt><dd>hourly values</dd><dt><span>standard_name :</span></dt><dd>mass_concentration_of_ammonia_in_air</dd></dl></div><div class='xr-var-data'><pre>array([[[[0.946941, ..., 2.404799],\n",
       "         ...,\n",
       "         [0.773569, ..., 1.650947]]],\n",
       "\n",
       "\n",
       "       ...,\n",
       "\n",
       "\n",
       "       [[[2.894545, ..., 8.108828],\n",
       "         ...,\n",
       "         [3.771696, ..., 9.522786]]]], dtype=float32)</pre></div></li></ul></div></li><li class='xr-section-item'><input id='section-3bdfd698-815a-4d32-9c5d-299974a2d33e' class='xr-section-summary-in' type='checkbox'  checked><label for='section-3bdfd698-815a-4d32-9c5d-299974a2d33e' class='xr-section-summary' >Attributes: <span>(7)</span></label><div class='xr-section-inline-details'></div><div class='xr-section-details'><dl class='xr-attrs'><dt><span>title :</span></dt><dd>NH3 Air Pollutant ANALYSIS at the Surface</dd><dt><span>institution :</span></dt><dd>Data produced by Meteo France</dd><dt><span>source :</span></dt><dd>Data from ENSEMBLE model</dd><dt><span>history :</span></dt><dd>Model ENSEMBLE ANALYSIS</dd><dt><span>ANALYSIS :</span></dt><dd>Europe, 20200301-20200401+[0H_0H]</dd><dt><span>summary :</span></dt><dd>ENSEMBLE model hourly ANALYSIS of NH3 concentration at the Surface from 20200301-20200401+[0H_0H] on Europe</dd><dt><span>project :</span></dt><dd>MACC-RAQ (http://macc-raq.gmes-atmosphere.eu)</dd></dl></div></li></ul></div></div>"
      ],
      "text/plain": [
       "<xarray.Dataset>\n",
       "Dimensions:    (longitude: 28, latitude: 17, level: 1, time: 32)\n",
       "Coordinates:\n",
       "  * longitude  (longitude) float32 5.95 6.05 6.15 6.25 ... 8.35 8.45 8.55 8.65\n",
       "  * latitude   (latitude) float32 47.25 47.15 47.05 46.95 ... 45.85 45.75 45.65\n",
       "  * level      (level) float32 0.0\n",
       "  * time       (time) timedelta64[ns] 0 days 1 days 2 days ... 30 days 31 days\n",
       "Data variables:\n",
       "    nh3_conc   (time, level, latitude, longitude) float32 ...\n",
       "Attributes:\n",
       "    title:        NH3 Air Pollutant ANALYSIS at the Surface\n",
       "    institution:  Data produced by Meteo France\n",
       "    source:       Data from ENSEMBLE model\n",
       "    history:      Model ENSEMBLE ANALYSIS\n",
       "    ANALYSIS:     Europe, 20200301-20200401+[0H_0H]\n",
       "    summary:      ENSEMBLE model hourly ANALYSIS of NH3 concentration at the ...\n",
       "    project:      MACC-RAQ (http://macc-raq.gmes-atmosphere.eu)"
      ]
     },
     "execution_count": 32,
     "metadata": {},
     "output_type": "execute_result"
    }
   ],
   "source": [
    "ds = m.download_type(download_sel, download_list, get_url)\n",
    "ds"
   ]
  },
  {
   "cell_type": "markdown",
   "id": "0d3de288",
   "metadata": {},
   "source": [
    "### NetCDF time format conversion\n",
    "\n",
    "Different from the ERA5 Hourly Data On Single Levels dataset, the `time` variable for the `CAMS European Air Quality Forecast` is encoded as a timedelta (i.e. the difference between two times). To that end, **you need to change it from `timedelta` to `datetime` to obtain the actual time** to which the data refer to."
   ]
  },
  {
   "cell_type": "code",
   "execution_count": 33,
   "id": "bff47ac4",
   "metadata": {},
   "outputs": [
    {
     "data": {
      "text/html": [
       "<div><svg style=\"position: absolute; width: 0; height: 0; overflow: hidden\">\n",
       "<defs>\n",
       "<symbol id=\"icon-database\" viewBox=\"0 0 32 32\">\n",
       "<path d=\"M16 0c-8.837 0-16 2.239-16 5v4c0 2.761 7.163 5 16 5s16-2.239 16-5v-4c0-2.761-7.163-5-16-5z\"></path>\n",
       "<path d=\"M16 17c-8.837 0-16-2.239-16-5v6c0 2.761 7.163 5 16 5s16-2.239 16-5v-6c0 2.761-7.163 5-16 5z\"></path>\n",
       "<path d=\"M16 26c-8.837 0-16-2.239-16-5v6c0 2.761 7.163 5 16 5s16-2.239 16-5v-6c0 2.761-7.163 5-16 5z\"></path>\n",
       "</symbol>\n",
       "<symbol id=\"icon-file-text2\" viewBox=\"0 0 32 32\">\n",
       "<path d=\"M28.681 7.159c-0.694-0.947-1.662-2.053-2.724-3.116s-2.169-2.030-3.116-2.724c-1.612-1.182-2.393-1.319-2.841-1.319h-15.5c-1.378 0-2.5 1.121-2.5 2.5v27c0 1.378 1.122 2.5 2.5 2.5h23c1.378 0 2.5-1.122 2.5-2.5v-19.5c0-0.448-0.137-1.23-1.319-2.841zM24.543 5.457c0.959 0.959 1.712 1.825 2.268 2.543h-4.811v-4.811c0.718 0.556 1.584 1.309 2.543 2.268zM28 29.5c0 0.271-0.229 0.5-0.5 0.5h-23c-0.271 0-0.5-0.229-0.5-0.5v-27c0-0.271 0.229-0.5 0.5-0.5 0 0 15.499-0 15.5 0v7c0 0.552 0.448 1 1 1h7v19.5z\"></path>\n",
       "<path d=\"M23 26h-14c-0.552 0-1-0.448-1-1s0.448-1 1-1h14c0.552 0 1 0.448 1 1s-0.448 1-1 1z\"></path>\n",
       "<path d=\"M23 22h-14c-0.552 0-1-0.448-1-1s0.448-1 1-1h14c0.552 0 1 0.448 1 1s-0.448 1-1 1z\"></path>\n",
       "<path d=\"M23 18h-14c-0.552 0-1-0.448-1-1s0.448-1 1-1h14c0.552 0 1 0.448 1 1s-0.448 1-1 1z\"></path>\n",
       "</symbol>\n",
       "</defs>\n",
       "</svg>\n",
       "<style>/* CSS stylesheet for displaying xarray objects in jupyterlab.\n",
       " *\n",
       " */\n",
       "\n",
       ":root {\n",
       "  --xr-font-color0: var(--jp-content-font-color0, rgba(0, 0, 0, 1));\n",
       "  --xr-font-color2: var(--jp-content-font-color2, rgba(0, 0, 0, 0.54));\n",
       "  --xr-font-color3: var(--jp-content-font-color3, rgba(0, 0, 0, 0.38));\n",
       "  --xr-border-color: var(--jp-border-color2, #e0e0e0);\n",
       "  --xr-disabled-color: var(--jp-layout-color3, #bdbdbd);\n",
       "  --xr-background-color: var(--jp-layout-color0, white);\n",
       "  --xr-background-color-row-even: var(--jp-layout-color1, white);\n",
       "  --xr-background-color-row-odd: var(--jp-layout-color2, #eeeeee);\n",
       "}\n",
       "\n",
       "html[theme=dark],\n",
       "body.vscode-dark {\n",
       "  --xr-font-color0: rgba(255, 255, 255, 1);\n",
       "  --xr-font-color2: rgba(255, 255, 255, 0.54);\n",
       "  --xr-font-color3: rgba(255, 255, 255, 0.38);\n",
       "  --xr-border-color: #1F1F1F;\n",
       "  --xr-disabled-color: #515151;\n",
       "  --xr-background-color: #111111;\n",
       "  --xr-background-color-row-even: #111111;\n",
       "  --xr-background-color-row-odd: #313131;\n",
       "}\n",
       "\n",
       ".xr-wrap {\n",
       "  display: block !important;\n",
       "  min-width: 300px;\n",
       "  max-width: 700px;\n",
       "}\n",
       "\n",
       ".xr-text-repr-fallback {\n",
       "  /* fallback to plain text repr when CSS is not injected (untrusted notebook) */\n",
       "  display: none;\n",
       "}\n",
       "\n",
       ".xr-header {\n",
       "  padding-top: 6px;\n",
       "  padding-bottom: 6px;\n",
       "  margin-bottom: 4px;\n",
       "  border-bottom: solid 1px var(--xr-border-color);\n",
       "}\n",
       "\n",
       ".xr-header > div,\n",
       ".xr-header > ul {\n",
       "  display: inline;\n",
       "  margin-top: 0;\n",
       "  margin-bottom: 0;\n",
       "}\n",
       "\n",
       ".xr-obj-type,\n",
       ".xr-array-name {\n",
       "  margin-left: 2px;\n",
       "  margin-right: 10px;\n",
       "}\n",
       "\n",
       ".xr-obj-type {\n",
       "  color: var(--xr-font-color2);\n",
       "}\n",
       "\n",
       ".xr-sections {\n",
       "  padding-left: 0 !important;\n",
       "  display: grid;\n",
       "  grid-template-columns: 150px auto auto 1fr 20px 20px;\n",
       "}\n",
       "\n",
       ".xr-section-item {\n",
       "  display: contents;\n",
       "}\n",
       "\n",
       ".xr-section-item input {\n",
       "  display: none;\n",
       "}\n",
       "\n",
       ".xr-section-item input + label {\n",
       "  color: var(--xr-disabled-color);\n",
       "}\n",
       "\n",
       ".xr-section-item input:enabled + label {\n",
       "  cursor: pointer;\n",
       "  color: var(--xr-font-color2);\n",
       "}\n",
       "\n",
       ".xr-section-item input:enabled + label:hover {\n",
       "  color: var(--xr-font-color0);\n",
       "}\n",
       "\n",
       ".xr-section-summary {\n",
       "  grid-column: 1;\n",
       "  color: var(--xr-font-color2);\n",
       "  font-weight: 500;\n",
       "}\n",
       "\n",
       ".xr-section-summary > span {\n",
       "  display: inline-block;\n",
       "  padding-left: 0.5em;\n",
       "}\n",
       "\n",
       ".xr-section-summary-in:disabled + label {\n",
       "  color: var(--xr-font-color2);\n",
       "}\n",
       "\n",
       ".xr-section-summary-in + label:before {\n",
       "  display: inline-block;\n",
       "  content: '►';\n",
       "  font-size: 11px;\n",
       "  width: 15px;\n",
       "  text-align: center;\n",
       "}\n",
       "\n",
       ".xr-section-summary-in:disabled + label:before {\n",
       "  color: var(--xr-disabled-color);\n",
       "}\n",
       "\n",
       ".xr-section-summary-in:checked + label:before {\n",
       "  content: '▼';\n",
       "}\n",
       "\n",
       ".xr-section-summary-in:checked + label > span {\n",
       "  display: none;\n",
       "}\n",
       "\n",
       ".xr-section-summary,\n",
       ".xr-section-inline-details {\n",
       "  padding-top: 4px;\n",
       "  padding-bottom: 4px;\n",
       "}\n",
       "\n",
       ".xr-section-inline-details {\n",
       "  grid-column: 2 / -1;\n",
       "}\n",
       "\n",
       ".xr-section-details {\n",
       "  display: none;\n",
       "  grid-column: 1 / -1;\n",
       "  margin-bottom: 5px;\n",
       "}\n",
       "\n",
       ".xr-section-summary-in:checked ~ .xr-section-details {\n",
       "  display: contents;\n",
       "}\n",
       "\n",
       ".xr-array-wrap {\n",
       "  grid-column: 1 / -1;\n",
       "  display: grid;\n",
       "  grid-template-columns: 20px auto;\n",
       "}\n",
       "\n",
       ".xr-array-wrap > label {\n",
       "  grid-column: 1;\n",
       "  vertical-align: top;\n",
       "}\n",
       "\n",
       ".xr-preview {\n",
       "  color: var(--xr-font-color3);\n",
       "}\n",
       "\n",
       ".xr-array-preview,\n",
       ".xr-array-data {\n",
       "  padding: 0 5px !important;\n",
       "  grid-column: 2;\n",
       "}\n",
       "\n",
       ".xr-array-data,\n",
       ".xr-array-in:checked ~ .xr-array-preview {\n",
       "  display: none;\n",
       "}\n",
       "\n",
       ".xr-array-in:checked ~ .xr-array-data,\n",
       ".xr-array-preview {\n",
       "  display: inline-block;\n",
       "}\n",
       "\n",
       ".xr-dim-list {\n",
       "  display: inline-block !important;\n",
       "  list-style: none;\n",
       "  padding: 0 !important;\n",
       "  margin: 0;\n",
       "}\n",
       "\n",
       ".xr-dim-list li {\n",
       "  display: inline-block;\n",
       "  padding: 0;\n",
       "  margin: 0;\n",
       "}\n",
       "\n",
       ".xr-dim-list:before {\n",
       "  content: '(';\n",
       "}\n",
       "\n",
       ".xr-dim-list:after {\n",
       "  content: ')';\n",
       "}\n",
       "\n",
       ".xr-dim-list li:not(:last-child):after {\n",
       "  content: ',';\n",
       "  padding-right: 5px;\n",
       "}\n",
       "\n",
       ".xr-has-index {\n",
       "  font-weight: bold;\n",
       "}\n",
       "\n",
       ".xr-var-list,\n",
       ".xr-var-item {\n",
       "  display: contents;\n",
       "}\n",
       "\n",
       ".xr-var-item > div,\n",
       ".xr-var-item label,\n",
       ".xr-var-item > .xr-var-name span {\n",
       "  background-color: var(--xr-background-color-row-even);\n",
       "  margin-bottom: 0;\n",
       "}\n",
       "\n",
       ".xr-var-item > .xr-var-name:hover span {\n",
       "  padding-right: 5px;\n",
       "}\n",
       "\n",
       ".xr-var-list > li:nth-child(odd) > div,\n",
       ".xr-var-list > li:nth-child(odd) > label,\n",
       ".xr-var-list > li:nth-child(odd) > .xr-var-name span {\n",
       "  background-color: var(--xr-background-color-row-odd);\n",
       "}\n",
       "\n",
       ".xr-var-name {\n",
       "  grid-column: 1;\n",
       "}\n",
       "\n",
       ".xr-var-dims {\n",
       "  grid-column: 2;\n",
       "}\n",
       "\n",
       ".xr-var-dtype {\n",
       "  grid-column: 3;\n",
       "  text-align: right;\n",
       "  color: var(--xr-font-color2);\n",
       "}\n",
       "\n",
       ".xr-var-preview {\n",
       "  grid-column: 4;\n",
       "}\n",
       "\n",
       ".xr-var-name,\n",
       ".xr-var-dims,\n",
       ".xr-var-dtype,\n",
       ".xr-preview,\n",
       ".xr-attrs dt {\n",
       "  white-space: nowrap;\n",
       "  overflow: hidden;\n",
       "  text-overflow: ellipsis;\n",
       "  padding-right: 10px;\n",
       "}\n",
       "\n",
       ".xr-var-name:hover,\n",
       ".xr-var-dims:hover,\n",
       ".xr-var-dtype:hover,\n",
       ".xr-attrs dt:hover {\n",
       "  overflow: visible;\n",
       "  width: auto;\n",
       "  z-index: 1;\n",
       "}\n",
       "\n",
       ".xr-var-attrs,\n",
       ".xr-var-data {\n",
       "  display: none;\n",
       "  background-color: var(--xr-background-color) !important;\n",
       "  padding-bottom: 5px !important;\n",
       "}\n",
       "\n",
       ".xr-var-attrs-in:checked ~ .xr-var-attrs,\n",
       ".xr-var-data-in:checked ~ .xr-var-data {\n",
       "  display: block;\n",
       "}\n",
       "\n",
       ".xr-var-data > table {\n",
       "  float: right;\n",
       "}\n",
       "\n",
       ".xr-var-name span,\n",
       ".xr-var-data,\n",
       ".xr-attrs {\n",
       "  padding-left: 25px !important;\n",
       "}\n",
       "\n",
       ".xr-attrs,\n",
       ".xr-var-attrs,\n",
       ".xr-var-data {\n",
       "  grid-column: 1 / -1;\n",
       "}\n",
       "\n",
       "dl.xr-attrs {\n",
       "  padding: 0;\n",
       "  margin: 0;\n",
       "  display: grid;\n",
       "  grid-template-columns: 125px auto;\n",
       "}\n",
       "\n",
       ".xr-attrs dt,\n",
       ".xr-attrs dd {\n",
       "  padding: 0;\n",
       "  margin: 0;\n",
       "  float: left;\n",
       "  padding-right: 10px;\n",
       "  width: auto;\n",
       "}\n",
       "\n",
       ".xr-attrs dt {\n",
       "  font-weight: normal;\n",
       "  grid-column: 1;\n",
       "}\n",
       "\n",
       ".xr-attrs dt:hover span {\n",
       "  display: inline-block;\n",
       "  background: var(--xr-background-color);\n",
       "  padding-right: 10px;\n",
       "}\n",
       "\n",
       ".xr-attrs dd {\n",
       "  grid-column: 2;\n",
       "  white-space: pre-wrap;\n",
       "  word-break: break-all;\n",
       "}\n",
       "\n",
       ".xr-icon-database,\n",
       ".xr-icon-file-text2 {\n",
       "  display: inline-block;\n",
       "  vertical-align: middle;\n",
       "  width: 1em;\n",
       "  height: 1.5em !important;\n",
       "  stroke-width: 0;\n",
       "  stroke: currentColor;\n",
       "  fill: currentColor;\n",
       "}\n",
       "</style><pre class='xr-text-repr-fallback'>&lt;xarray.Dataset&gt;\n",
       "Dimensions:    (longitude: 28, latitude: 17, level: 1, time: 32)\n",
       "Coordinates:\n",
       "  * longitude  (longitude) float32 5.95 6.05 6.15 6.25 ... 8.35 8.45 8.55 8.65\n",
       "  * latitude   (latitude) float32 47.25 47.15 47.05 46.95 ... 45.85 45.75 45.65\n",
       "  * level      (level) float32 0.0\n",
       "  * time       (time) datetime64[ns] 2020-03-01 2020-03-02 ... 2020-04-01\n",
       "Data variables:\n",
       "    nh3_conc   (time, level, latitude, longitude) float32 0.9469 ... 9.523\n",
       "Attributes:\n",
       "    title:        NH3 Air Pollutant ANALYSIS at the Surface\n",
       "    institution:  Data produced by Meteo France\n",
       "    source:       Data from ENSEMBLE model\n",
       "    history:      Model ENSEMBLE ANALYSIS\n",
       "    ANALYSIS:     Europe, 20200301-20200401+[0H_0H]\n",
       "    summary:      ENSEMBLE model hourly ANALYSIS of NH3 concentration at the ...\n",
       "    project:      MACC-RAQ (http://macc-raq.gmes-atmosphere.eu)</pre><div class='xr-wrap' style='display:none'><div class='xr-header'><div class='xr-obj-type'>xarray.Dataset</div></div><ul class='xr-sections'><li class='xr-section-item'><input id='section-a7ea16c6-926a-422d-8940-ebee164bb8e3' class='xr-section-summary-in' type='checkbox' disabled ><label for='section-a7ea16c6-926a-422d-8940-ebee164bb8e3' class='xr-section-summary'  title='Expand/collapse section'>Dimensions:</label><div class='xr-section-inline-details'><ul class='xr-dim-list'><li><span class='xr-has-index'>longitude</span>: 28</li><li><span class='xr-has-index'>latitude</span>: 17</li><li><span class='xr-has-index'>level</span>: 1</li><li><span class='xr-has-index'>time</span>: 32</li></ul></div><div class='xr-section-details'></div></li><li class='xr-section-item'><input id='section-a435a4a8-1ffa-4f10-9fb8-8529f282a4a3' class='xr-section-summary-in' type='checkbox'  checked><label for='section-a435a4a8-1ffa-4f10-9fb8-8529f282a4a3' class='xr-section-summary' >Coordinates: <span>(4)</span></label><div class='xr-section-inline-details'></div><div class='xr-section-details'><ul class='xr-var-list'><li class='xr-var-item'><div class='xr-var-name'><span class='xr-has-index'>longitude</span></div><div class='xr-var-dims'>(longitude)</div><div class='xr-var-dtype'>float32</div><div class='xr-var-preview xr-preview'>5.95 6.05 6.15 ... 8.45 8.55 8.65</div><input id='attrs-711777f1-6b71-4600-a39a-c153b89a55d5' class='xr-var-attrs-in' type='checkbox' disabled><label for='attrs-711777f1-6b71-4600-a39a-c153b89a55d5' title='Show/Hide attributes'><svg class='icon xr-icon-file-text2'><use xlink:href='#icon-file-text2'></use></svg></label><input id='data-e144a5cc-33fb-41d1-9a5c-b6d6bd4a65e2' class='xr-var-data-in' type='checkbox'><label for='data-e144a5cc-33fb-41d1-9a5c-b6d6bd4a65e2' title='Show/Hide data repr'><svg class='icon xr-icon-database'><use xlink:href='#icon-database'></use></svg></label><div class='xr-var-attrs'><dl class='xr-attrs'></dl></div><div class='xr-var-data'><pre>array([5.949997, 6.050003, 6.149994, 6.25    , 6.350006, 6.449997, 6.550003,\n",
       "       6.649994, 6.75    , 6.850006, 6.949997, 7.050003, 7.149994, 7.25    ,\n",
       "       7.350006, 7.449997, 7.550003, 7.649994, 7.75    , 7.850006, 7.949997,\n",
       "       8.050003, 8.149994, 8.25    , 8.350006, 8.449997, 8.550003, 8.649994],\n",
       "      dtype=float32)</pre></div></li><li class='xr-var-item'><div class='xr-var-name'><span class='xr-has-index'>latitude</span></div><div class='xr-var-dims'>(latitude)</div><div class='xr-var-dtype'>float32</div><div class='xr-var-preview xr-preview'>47.25 47.15 47.05 ... 45.75 45.65</div><input id='attrs-22425fe7-f87f-4898-b8e7-6088431eb902' class='xr-var-attrs-in' type='checkbox' ><label for='attrs-22425fe7-f87f-4898-b8e7-6088431eb902' title='Show/Hide attributes'><svg class='icon xr-icon-file-text2'><use xlink:href='#icon-file-text2'></use></svg></label><input id='data-6de8dc2d-3178-47e0-8781-1824e54cff10' class='xr-var-data-in' type='checkbox'><label for='data-6de8dc2d-3178-47e0-8781-1824e54cff10' title='Show/Hide data repr'><svg class='icon xr-icon-database'><use xlink:href='#icon-database'></use></svg></label><div class='xr-var-attrs'><dl class='xr-attrs'><dt><span>long_name :</span></dt><dd>latitude</dd><dt><span>units :</span></dt><dd>degrees_north</dd></dl></div><div class='xr-var-data'><pre>array([47.25, 47.15, 47.05, 46.95, 46.85, 46.75, 46.65, 46.55, 46.45, 46.35,\n",
       "       46.25, 46.15, 46.05, 45.95, 45.85, 45.75, 45.65], dtype=float32)</pre></div></li><li class='xr-var-item'><div class='xr-var-name'><span class='xr-has-index'>level</span></div><div class='xr-var-dims'>(level)</div><div class='xr-var-dtype'>float32</div><div class='xr-var-preview xr-preview'>0.0</div><input id='attrs-601cac88-9b01-40bf-b69e-28d659706867' class='xr-var-attrs-in' type='checkbox' ><label for='attrs-601cac88-9b01-40bf-b69e-28d659706867' title='Show/Hide attributes'><svg class='icon xr-icon-file-text2'><use xlink:href='#icon-file-text2'></use></svg></label><input id='data-1633e937-7857-446b-a6f9-b0937ded6500' class='xr-var-data-in' type='checkbox'><label for='data-1633e937-7857-446b-a6f9-b0937ded6500' title='Show/Hide data repr'><svg class='icon xr-icon-database'><use xlink:href='#icon-database'></use></svg></label><div class='xr-var-attrs'><dl class='xr-attrs'><dt><span>long_name :</span></dt><dd>level</dd><dt><span>units :</span></dt><dd>m</dd></dl></div><div class='xr-var-data'><pre>array([0.], dtype=float32)</pre></div></li><li class='xr-var-item'><div class='xr-var-name'><span class='xr-has-index'>time</span></div><div class='xr-var-dims'>(time)</div><div class='xr-var-dtype'>datetime64[ns]</div><div class='xr-var-preview xr-preview'>2020-03-01 ... 2020-04-01</div><input id='attrs-1afce847-f33b-4ac9-bddb-0150ef47e31c' class='xr-var-attrs-in' type='checkbox' disabled><label for='attrs-1afce847-f33b-4ac9-bddb-0150ef47e31c' title='Show/Hide attributes'><svg class='icon xr-icon-file-text2'><use xlink:href='#icon-file-text2'></use></svg></label><input id='data-266dd95f-7f8c-4f4b-92a8-bd71d8379b6a' class='xr-var-data-in' type='checkbox'><label for='data-266dd95f-7f8c-4f4b-92a8-bd71d8379b6a' title='Show/Hide data repr'><svg class='icon xr-icon-database'><use xlink:href='#icon-database'></use></svg></label><div class='xr-var-attrs'><dl class='xr-attrs'></dl></div><div class='xr-var-data'><pre>array([&#x27;2020-03-01T00:00:00.000000000&#x27;, &#x27;2020-03-02T00:00:00.000000000&#x27;,\n",
       "       &#x27;2020-03-03T00:00:00.000000000&#x27;, &#x27;2020-03-04T00:00:00.000000000&#x27;,\n",
       "       &#x27;2020-03-05T00:00:00.000000000&#x27;, &#x27;2020-03-06T00:00:00.000000000&#x27;,\n",
       "       &#x27;2020-03-07T00:00:00.000000000&#x27;, &#x27;2020-03-08T00:00:00.000000000&#x27;,\n",
       "       &#x27;2020-03-09T00:00:00.000000000&#x27;, &#x27;2020-03-10T00:00:00.000000000&#x27;,\n",
       "       &#x27;2020-03-11T00:00:00.000000000&#x27;, &#x27;2020-03-12T00:00:00.000000000&#x27;,\n",
       "       &#x27;2020-03-13T00:00:00.000000000&#x27;, &#x27;2020-03-14T00:00:00.000000000&#x27;,\n",
       "       &#x27;2020-03-15T00:00:00.000000000&#x27;, &#x27;2020-03-16T00:00:00.000000000&#x27;,\n",
       "       &#x27;2020-03-17T00:00:00.000000000&#x27;, &#x27;2020-03-18T00:00:00.000000000&#x27;,\n",
       "       &#x27;2020-03-19T00:00:00.000000000&#x27;, &#x27;2020-03-20T00:00:00.000000000&#x27;,\n",
       "       &#x27;2020-03-21T00:00:00.000000000&#x27;, &#x27;2020-03-22T00:00:00.000000000&#x27;,\n",
       "       &#x27;2020-03-23T00:00:00.000000000&#x27;, &#x27;2020-03-24T00:00:00.000000000&#x27;,\n",
       "       &#x27;2020-03-25T00:00:00.000000000&#x27;, &#x27;2020-03-26T00:00:00.000000000&#x27;,\n",
       "       &#x27;2020-03-27T00:00:00.000000000&#x27;, &#x27;2020-03-28T00:00:00.000000000&#x27;,\n",
       "       &#x27;2020-03-29T00:00:00.000000000&#x27;, &#x27;2020-03-30T00:00:00.000000000&#x27;,\n",
       "       &#x27;2020-03-31T00:00:00.000000000&#x27;, &#x27;2020-04-01T00:00:00.000000000&#x27;],\n",
       "      dtype=&#x27;datetime64[ns]&#x27;)</pre></div></li></ul></div></li><li class='xr-section-item'><input id='section-14f89868-c5a6-46c3-945c-ebd7b11ca34a' class='xr-section-summary-in' type='checkbox'  checked><label for='section-14f89868-c5a6-46c3-945c-ebd7b11ca34a' class='xr-section-summary' >Data variables: <span>(1)</span></label><div class='xr-section-inline-details'></div><div class='xr-section-details'><ul class='xr-var-list'><li class='xr-var-item'><div class='xr-var-name'><span>nh3_conc</span></div><div class='xr-var-dims'>(time, level, latitude, longitude)</div><div class='xr-var-dtype'>float32</div><div class='xr-var-preview xr-preview'>0.9469 0.7407 ... 7.558 9.523</div><input id='attrs-01cd68dc-b847-4d69-afe1-35fe3f37b19b' class='xr-var-attrs-in' type='checkbox' ><label for='attrs-01cd68dc-b847-4d69-afe1-35fe3f37b19b' title='Show/Hide attributes'><svg class='icon xr-icon-file-text2'><use xlink:href='#icon-file-text2'></use></svg></label><input id='data-13beccbf-722c-40c8-bd35-7b27605ba9a8' class='xr-var-data-in' type='checkbox'><label for='data-13beccbf-722c-40c8-bd35-7b27605ba9a8' title='Show/Hide data repr'><svg class='icon xr-icon-database'><use xlink:href='#icon-database'></use></svg></label><div class='xr-var-attrs'><dl class='xr-attrs'><dt><span>species :</span></dt><dd>Ammonia</dd><dt><span>units :</span></dt><dd>µg/m3</dd><dt><span>value :</span></dt><dd>hourly values</dd><dt><span>standard_name :</span></dt><dd>mass_concentration_of_ammonia_in_air</dd></dl></div><div class='xr-var-data'><pre>array([[[[0.946941, ..., 2.404799],\n",
       "         ...,\n",
       "         [0.773569, ..., 1.650947]]],\n",
       "\n",
       "\n",
       "       ...,\n",
       "\n",
       "\n",
       "       [[[2.894545, ..., 8.108828],\n",
       "         ...,\n",
       "         [3.771696, ..., 9.522786]]]], dtype=float32)</pre></div></li></ul></div></li><li class='xr-section-item'><input id='section-c30c843d-d11a-4125-b9cb-5c7dc8d9bacd' class='xr-section-summary-in' type='checkbox'  checked><label for='section-c30c843d-d11a-4125-b9cb-5c7dc8d9bacd' class='xr-section-summary' >Attributes: <span>(7)</span></label><div class='xr-section-inline-details'></div><div class='xr-section-details'><dl class='xr-attrs'><dt><span>title :</span></dt><dd>NH3 Air Pollutant ANALYSIS at the Surface</dd><dt><span>institution :</span></dt><dd>Data produced by Meteo France</dd><dt><span>source :</span></dt><dd>Data from ENSEMBLE model</dd><dt><span>history :</span></dt><dd>Model ENSEMBLE ANALYSIS</dd><dt><span>ANALYSIS :</span></dt><dd>Europe, 20200301-20200401+[0H_0H]</dd><dt><span>summary :</span></dt><dd>ENSEMBLE model hourly ANALYSIS of NH3 concentration at the Surface from 20200301-20200401+[0H_0H] on Europe</dd><dt><span>project :</span></dt><dd>MACC-RAQ (http://macc-raq.gmes-atmosphere.eu)</dd></dl></div></li></ul></div></div>"
      ],
      "text/plain": [
       "<xarray.Dataset>\n",
       "Dimensions:    (longitude: 28, latitude: 17, level: 1, time: 32)\n",
       "Coordinates:\n",
       "  * longitude  (longitude) float32 5.95 6.05 6.15 6.25 ... 8.35 8.45 8.55 8.65\n",
       "  * latitude   (latitude) float32 47.25 47.15 47.05 46.95 ... 45.85 45.75 45.65\n",
       "  * level      (level) float32 0.0\n",
       "  * time       (time) datetime64[ns] 2020-03-01 2020-03-02 ... 2020-04-01\n",
       "Data variables:\n",
       "    nh3_conc   (time, level, latitude, longitude) float32 0.9469 ... 9.523\n",
       "Attributes:\n",
       "    title:        NH3 Air Pollutant ANALYSIS at the Surface\n",
       "    institution:  Data produced by Meteo France\n",
       "    source:       Data from ENSEMBLE model\n",
       "    history:      Model ENSEMBLE ANALYSIS\n",
       "    ANALYSIS:     Europe, 20200301-20200401+[0H_0H]\n",
       "    summary:      ENSEMBLE model hourly ANALYSIS of NH3 concentration at the ...\n",
       "    project:      MACC-RAQ (http://macc-raq.gmes-atmosphere.eu)"
      ]
     },
     "execution_count": 33,
     "metadata": {},
     "output_type": "execute_result"
    }
   ],
   "source": [
    "#define times\n",
    "timestamp = ds.time.long_name[19:27]\n",
    "time_start= int(hour_sel.value[0][0:2])  #if using data starting at different hour (e.g. 2020-01-01 at 14PM -> set to 14). Must check with multiple hours are selected\n",
    "timestamp_init=datetime.datetime.strptime(timestamp,'%Y%m%d')+datetime.timedelta(hours=time_start)\n",
    "time_coords = pd.date_range(timestamp_init, periods=len(ds.time), freq='1d').strftime(\"%Y-%m-%d %H:%M:%S\").astype('datetime64[ns]')\n",
    "\n",
    "# Assign the datetimes instead of timedeltas\n",
    "ds_assign = ds.assign_coords(time=time_coords)\n",
    "ds_assign = ds_assign.assign_coords(longitude=(((ds_assign.longitude+180)%360)-180)).sortby('longitude')\n",
    "ds_assign"
   ]
  },
  {
   "cell_type": "markdown",
   "id": "253970ef-8361-4e65-b319-0a69c36477fe",
   "metadata": {},
   "source": [
    "### Interactive visualization"
   ]
  },
  {
   "cell_type": "code",
   "execution_count": 38,
   "id": "1e791ac7",
   "metadata": {},
   "outputs": [],
   "source": [
    "# Select the netCDF variables\n",
    "variables = list(ds.keys())\n",
    "var_drop = widgets.Dropdown(options=variables,description='Variables: ',disabled=False,style={'description_width': '100px'},layout ={'width': '400px'})\n",
    "# Select the netCDF times\n",
    "timings = list(ds_assign.time.data)\n",
    "time_drop = widgets.Dropdown(options=timings,description=\"Select date: \",disabled=False,style={'description_width': '100px'},layout ={'width': '400px'})"
   ]
  },
  {
   "cell_type": "code",
   "execution_count": 39,
   "id": "c41eb7d2",
   "metadata": {},
   "outputs": [],
   "source": [
    "def cams_plot(variable, time):  \n",
    "    f = plt.figure(figsize=(15,10))\n",
    "    p = ds_assign[var_drop.value].sel(time=time_drop.value).plot(  #change time\n",
    "    subplot_kws=dict(projection=ccrs.PlateCarree(), facecolor=\"gray\"),\n",
    "    transform=ccrs.PlateCarree())\n",
    "    p.set_clim(ds_assign[var_drop.value].min(),ds_assign[var_drop.value].max())\n",
    "    p.axes.set_global()\n",
    "    p.axes.coastlines()\n",
    "    p.axes.gridlines(color='black', alpha=0.5, linestyle='--')\n",
    "    p.axes.set_extent([W,E,S,N], ccrs.PlateCarree())\n",
    " \n",
    "    gl = p.axes.gridlines(crs=ccrs.PlateCarree(), draw_labels=True,\n",
    "                          linewidth=2, color='gray', alpha=0.5, linestyle='--')\n",
    "\n",
    "    gl.xlabels_top = False\n",
    "    gl.ylabels_right = False\n",
    "    gl.ylocator = mticker.AutoLocator()\n",
    "    gl.xformatter = LONGITUDE_FORMATTER\n",
    "    gl.yformatter = LATITUDE_FORMATTER\n",
    "    gl.xlabel_style = {'size': 18, 'color': 'black'}\n",
    "    gl.ylabel_style = {'size': 18, 'color': 'black'}"
   ]
  },
  {
   "cell_type": "code",
   "execution_count": 40,
   "id": "38078d99",
   "metadata": {},
   "outputs": [
    {
     "data": {
      "application/vnd.jupyter.widget-view+json": {
       "model_id": "b3fb84dc9d0e444bad79abf29d85c1a9",
       "version_major": 2,
       "version_minor": 0
      },
      "text/plain": [
       "interactive(children=(Dropdown(description='Variables: ', layout=Layout(width='400px'), options=('nh3_conc',),…"
      ]
     },
     "metadata": {},
     "output_type": "display_data"
    },
    {
     "data": {
      "text/plain": [
       "<function __main__.cams_plot(variable, time)>"
      ]
     },
     "execution_count": 40,
     "metadata": {},
     "output_type": "execute_result"
    }
   ],
   "source": [
    "widgets.interact(cams_plot, variable = var_drop, time=time_drop)"
   ]
  },
  {
   "cell_type": "markdown",
   "id": "1b2c2db5",
   "metadata": {},
   "source": [
    "### Interactive time-series plotting in a specific location\n",
    "\n",
    "The [<span style='color:Blue'>ipyleaflet</span>](https://ipyleaflet.readthedocs.io) functionalities can be also used to select a specific location to sample the corresponding time series from the `CAMS European Air Quality Forecast` varible observation. \n",
    "\n",
    "You can plot the map again and, by using this time the `Draw a marker` tool (*on the left side of the map*), you can select **a location within the `Bounding Box` that you have previously drawn**."
   ]
  },
  {
   "cell_type": "code",
   "execution_count": 48,
   "id": "31770aee",
   "metadata": {},
   "outputs": [
    {
     "data": {
      "application/vnd.jupyter.widget-view+json": {
       "model_id": "545b61e5655c4d4aa6492a796954e403",
       "version_major": 2,
       "version_minor": 0
      },
      "text/plain": [
       "Map(center=[46.4070245, 7.336327], controls=(ZoomControl(options=['position', 'zoom_in_text', 'zoom_in_title',…"
      ]
     },
     "metadata": {},
     "output_type": "display_data"
    }
   ],
   "source": [
    "cams_map, dc = m.draw_map((N+S)/2,(E+W)/2, 4) \n",
    "area_extent = Rectangle(bounds=((S, W), (N, E)), color='green', fill_color='green', fill_opacity=0.1, name='Region extent')\n",
    "cams_map.add_layer(area_extent)\n",
    "cams_map"
   ]
  },
  {
   "cell_type": "markdown",
   "id": "f846e1db-e78c-4243-a9dc-a6ff9a44ba55",
   "metadata": {},
   "source": [
    "<div class=\"alert alert-warning\" role=\"alert\">\n",
    "<span>&#9888;</span>\n",
    "<a id='warning'></a> You must select a location within the data Bounding Box because the map function exploits the same NetCDF that you download in the previous steps. The green canvas on the map identifies this area.\n",
    "</div>"
   ]
  },
  {
   "cell_type": "markdown",
   "id": "4cf8b2d3",
   "metadata": {},
   "source": [
    "The `longitude` and the `latitude` of the location are obtained automatically from the *marker* you drew. \n",
    "\n",
    "You can now plot the time serie for the selected variable and location:"
   ]
  },
  {
   "cell_type": "code",
   "execution_count": 49,
   "id": "82c7da0e",
   "metadata": {},
   "outputs": [],
   "source": [
    "coords = dc.last_draw['geometry']['coordinates']\n",
    "lati=coords[1]\n",
    "loni=coords[0]\n",
    "\n",
    "var = ds_assign.sel(longitude=loni, latitude=lati, method='nearest')[var_drop.value]"
   ]
  },
  {
   "cell_type": "code",
   "execution_count": 50,
   "id": "4056e766",
   "metadata": {},
   "outputs": [
    {
     "data": {
      "text/plain": [
       "Text(3, 3, 'Location')"
      ]
     },
     "execution_count": 50,
     "metadata": {},
     "output_type": "execute_result"
    },
    {
     "data": {
      "image/png": "[encoded data removed]",
      "text/plain": [
       "<Figure size 864x864 with 2 Axes>"
      ]
     },
     "metadata": {
      "needs_background": "light"
     },
     "output_type": "display_data"
    }
   ],
   "source": [
    "f = plt.figure(figsize=(12,12))\n",
    "ax=f.add_subplot(211)\n",
    "\n",
    "ax.set_title(ds_assign.title , fontsize=20)\n",
    "ax.grid()\n",
    "ax.set_ylabel(ds_assign[var_drop.value].species+' '+'['+ds_assign[var_drop.value].units+']', fontsize=18)\n",
    "ax.plot(ds_assign.time, var,c='tab:green', linewidth=2)\n",
    "f.suptitle('Latitude: '+str(lati)+' \\nLongitude: '+str(loni),ha= 'left', fontsize=20)\n",
    "f.autofmt_xdate()\n",
    "\n",
    "states_provinces = cfeature.NaturalEarthFeature(\n",
    "        category='cultural',\n",
    "        name='admin_0_boundary_lines_land',\n",
    "        scale='110m',\n",
    "        facecolor='none')\n",
    "ax_mini_map = f.add_axes([0.8, 0.90, 0.2, 0.15], projection=ccrs.PlateCarree())\n",
    "gl = ax_mini_map.axes.gridlines(draw_labels=True)\n",
    "ax_mini_map.add_feature(states_provinces, edgecolor='gray')\n",
    "gl.xlabels_top = False\n",
    "gl.ylabels_right = False\n",
    "ax_mini_map.add_feature(cfeature.LAND, zorder= 0, edgecolor='k')\n",
    "ax_mini_map.set_extent([W-1,E+1,S-1,N+1])\n",
    "ax_mini_map.scatter(loni, lati, 15, 'tab:red', transform=ccrs.PlateCarree())\n",
    "ax_mini_map.annotate('Location', (loni, lati),xytext=(3, 3), textcoords='offset points')"
   ]
  },
  {
   "cell_type": "markdown",
   "id": "30a269c7",
   "metadata": {},
   "source": [
    "<div class=\"alert alert-success\" role=\"alert\">\n",
    "<span>&#x2714;</span>\n",
    "<a id='libraries'></a>You have successfully run the Notebook workflow for Copernicus data access, browse, display and download using the WeKEO HDA API, adapted and extended to the CAMS European Air Quality Forecast dataset! \n",
    "</div>\n",
    "\n",
    "----"
   ]
  },
  {
   "cell_type": "markdown",
   "id": "13c58767",
   "metadata": {
    "tags": []
   },
   "source": [
    "<div class=\"alert alert-info\" role=\"alert\">\n",
    "\n",
    "## <a id='sec6'></a>&#x27A4; 6. Example B - Sentinel-5P - Air quality\n",
    "[Back to top](#TOC_TOP)\n",
    "\n",
    "</div>"
   ]
  },
  {
   "cell_type": "markdown",
   "id": "b76a6eb8-3df7-445f-9f95-07c6165a8369",
   "metadata": {},
   "source": [
    "In this last example, we will see how to download data from the Sentinel-5P satellite, that aims to monitor air pollutants on a global scale.\n",
    "\n",
    "This example summarizes everything seen in the previous examples. The final part will allow to access to the metadata associated with the satellite images, automatically download them and finally obtain a plot.\n",
    "\n",
    "The dataset ID for Sentinel-5P is:"
   ]
  },
  {
   "cell_type": "code",
   "execution_count": null,
   "id": "eedb3b61",
   "metadata": {},
   "outputs": [],
   "source": [
    "dataset_id = 'EO:ESA:DAT:SENTINEL-5P:TROPOMI'"
   ]
  },
  {
   "cell_type": "markdown",
   "id": "c230939c",
   "metadata": {},
   "source": [
    "### Data preview\n",
    "\n",
    "Let's generate the dataset preview, in the same way we did in the previous examples:"
   ]
  },
  {
   "cell_type": "code",
   "execution_count": null,
   "id": "7a3dee26",
   "metadata": {},
   "outputs": [],
   "source": [
    "size = 2000\n",
    "dataset = requests.get(\"https://wekeo-broker-k8s.apps.mercator.dpi.wekeo.eu/databroker/datasets?size=\"+str(size))\n",
    "data = json.loads(dataset.text)\n",
    "data_df = pd.json_normalize(data['content'])\n",
    "data_df = data_df[data_df['datasetId'] == dataset_id]\n",
    "data_df"
   ]
  },
  {
   "cell_type": "markdown",
   "id": "c36b3d47-beaf-424c-87ff-9d918448eb8e",
   "metadata": {},
   "source": [
    "In this case we dont have a preview image and it's only possible to read the dataset description:"
   ]
  },
  {
   "cell_type": "code",
   "execution_count": null,
   "id": "40911144",
   "metadata": {},
   "outputs": [],
   "source": [
    "# Get the dataset title from data_df\n",
    "title = data_df.title.values[0]\n",
    "# No image for S5P\n",
    "# Get the description from data_df\n",
    "description = list(data_df[\"abstract\"])[0]"
   ]
  },
  {
   "cell_type": "code",
   "execution_count": null,
   "id": "30735063",
   "metadata": {},
   "outputs": [],
   "source": [
    "# Create the boxes\n",
    "title_box = widgets.HTML('<h2 style=\"text-align:center;font-size:18px;\">'+title+'</h2>')\n",
    "descr_box = widgets.HTML('<p style=\"text-align:justify;font-size:14px;\">'+description+'</p>')\n",
    "\n",
    "descr_box = widgets.VBox([title_box, descr_box])\n",
    "\n",
    "# Create the Layout for the dataset preview\n",
    "ui = widgets.AppLayout(right_sidebar=descr_box, layout=widgets.Layout(border='solid'))\n",
    "container = widgets.Box([ui], layout=Layout(height='300px', overflow_y='auto'))\n",
    "display(container)"
   ]
  },
  {
   "cell_type": "markdown",
   "id": "1664a8b9-dcd4-42f9-a52e-c5a69bf39878",
   "metadata": {},
   "source": [
    "### Requirements to create an interactive dashboard for Sentinel-5P\n",
    "\n",
    "This dataset requires the following parameters:\n",
    "- `Bounding Box`: Region of Intereset\n",
    "- `Start-end date`\n",
    "- `Processing level`: Level 1B/Level 2\n",
    "- `Product type`: the type of product, such as NO2 or other pollutants\n",
    "- `Timeliness`: Near Real Time, Offline, Reprocessing"
   ]
  },
  {
   "cell_type": "markdown",
   "id": "72731061-73f8-49b8-93ed-81e948c23d3b",
   "metadata": {},
   "source": [
    "### Accessing resource metadata\n",
    "\n",
    "We can request the dataset `metadata`:"
   ]
  },
  {
   "cell_type": "code",
   "execution_count": null,
   "id": "b2127f8e",
   "metadata": {},
   "outputs": [],
   "source": [
    "dataset = requests.get(\"https://wekeo-broker-k8s.apps.mercator.dpi.wekeo.eu/databroker/querymetadata/\"+dataset_id, headers=headers)\n",
    "metadata = json.loads(dataset.text)\n",
    "display(JSON(metadata))"
   ]
  },
  {
   "cell_type": "markdown",
   "id": "80a1a96a-90bd-400f-9d78-da3437123f73",
   "metadata": {},
   "source": [
    "### Create the widgets\n",
    "\n",
    "Again to obtain the widgets, first we create the lists using the `metadata`. A `DatePicker` widget is used for the start/end date selection, wile a `SelectMultiple` widget is used for the other parameters:"
   ]
  },
  {
   "cell_type": "code",
   "execution_count": null,
   "id": "729bd688",
   "metadata": {},
   "outputs": [],
   "source": [
    "processing_level_list = list(metadata['parameters']['stringChoices'][0]['details']['valuesLabels'].keys())\n",
    "product_type_list = list(metadata['parameters']['stringChoices'][1]['details']['valuesLabels'].keys())\n",
    "timeliness_list = list(metadata['parameters']['stringChoices'][2]['details']['valuesLabels'].keys())"
   ]
  },
  {
   "cell_type": "code",
   "execution_count": null,
   "id": "ff66c543",
   "metadata": {},
   "outputs": [],
   "source": [
    "style = {'description_width': '200px'}\n",
    "layout = {'width': '800px'}\n",
    "processing_level_sel = widgets.SelectMultiple(options=processing_level_list, description=\"Processing level:\",disabled=False,style=style,layout=layout)\n",
    "product_type_sel = widgets.SelectMultiple(options=product_type_list, description=\"Product type:\",disabled=False,style=style,layout=layout)\n",
    "timeliness_sel = widgets.SelectMultiple(options=timeliness_list, description=\"Timeliness: \",disabled=False,style=style,layout=layout)\n",
    "start_date_sel = widgets.DatePicker(description=\"Select start date: \",disabled=False,style=style,layout=layout)\n",
    "end_date_sel = widgets.DatePicker(description=\"Select end date: \",disabled=False,style=style,layout=layout)"
   ]
  },
  {
   "cell_type": "markdown",
   "id": "b670fb77-b283-4285-a2c2-f2f6e42b3ccf",
   "metadata": {},
   "source": [
    "### Bounding Box interactive selection\n",
    "\n",
    "Select the Region of Intereset in the following map, always using the `Draw a rectangle`"
   ]
  },
  {
   "cell_type": "code",
   "execution_count": null,
   "id": "aeee3f44",
   "metadata": {},
   "outputs": [],
   "source": [
    "s5p_map, dc = m.draw_map(45, 10, 1)\n",
    "\n",
    "s5p_map"
   ]
  },
  {
   "cell_type": "code",
   "execution_count": null,
   "id": "843f2f21",
   "metadata": {},
   "outputs": [],
   "source": [
    "coords = dc.last_draw['geometry']['coordinates'][0]\n",
    "W = coords[1][0]\n",
    "E = coords[3][0]\n",
    "N = coords[1][1]\n",
    "S = coords[3][1]"
   ]
  },
  {
   "cell_type": "code",
   "execution_count": null,
   "id": "9c737913",
   "metadata": {},
   "outputs": [],
   "source": [
    "start_date = metadata['parameters']['dateRangeSelects'][0]['details']['start']\n",
    "print(\"The start date for this dataset is: \"+start_date)"
   ]
  },
  {
   "cell_type": "markdown",
   "id": "b8ec66c4-ade6-4473-99f8-13d67f67da7b",
   "metadata": {},
   "source": [
    "### Create the dashboard and request the data\n",
    "\n",
    "Print the dashboard and try to select the following parameter:\n",
    "- `Processing level`: Level2\n",
    "- `Product type`: L2__NO2__\n",
    "- `Timeliness`: Near+real+time\n",
    "- `Start/end dates`: 01/01/2021 - 03/01/2021"
   ]
  },
  {
   "cell_type": "code",
   "execution_count": null,
   "id": "72284f73",
   "metadata": {},
   "outputs": [],
   "source": [
    "%%html\n",
    "<style>\n",
    ".box {\n",
    "    border: 2px solid #0b385f;\n",
    "    font-weight: bold;\n",
    "    background-color: hsl(0, 0%, 98%);\n",
    "    color: #333;\n",
    "}"
   ]
  },
  {
   "cell_type": "code",
   "execution_count": null,
   "id": "a91d34b9",
   "metadata": {
    "tags": []
   },
   "outputs": [],
   "source": [
    "# Create boxes for the dashboard\n",
    "title_box= widgets.HTML(value='<h2 style=\"text-align:center;\">'+title+'</h2><hr>')\n",
    "variables_box = widgets.VBox([title_box, processing_level_sel, product_type_sel, timeliness_sel, start_date_sel, end_date_sel])\n",
    "\n",
    "# Create the dashboard \n",
    "ui = widgets.AppLayout(\n",
    "          layout=widgets.Layout(),\n",
    "          grid_gap=\"300px\")\n",
    "\n",
    "display(variables_box.add_class(\"box\"))"
   ]
  },
  {
   "cell_type": "code",
   "execution_count": null,
   "id": "cb4bd342",
   "metadata": {},
   "outputs": [],
   "source": [
    "query = {\n",
    "  \"datasetId\": dataset_id,\n",
    "  \"boundingBoxValues\": [\n",
    "    {\n",
    "      \"name\": \"bbox\",\n",
    "      \"bbox\": [W, S, E, N]\n",
    "    }\n",
    "  ],\n",
    "  \"dateRangeSelectValues\": [\n",
    "    {\n",
    "      \"name\": \"position\",\n",
    "      \"start\":  start_date_sel.value.strftime(\"%Y-%m-%dT%H:%M:%S.000Z\"),\n",
    "      \"end\": end_date_sel.value.strftime(\"%Y-%m-%dT%H:%M:%S.000Z\")\n",
    "    }\n",
    "  ],\n",
    "  \"stringChoiceValues\": [\n",
    "    {\n",
    "      \"name\": \"processingLevel\",\n",
    "      \"value\": list(processing_level_sel.value)[0]\n",
    "    },\n",
    "    {\n",
    "      \"name\": \"productType\",\n",
    "      \"value\": list(product_type_sel.value)[0]\n",
    "    },\n",
    "    {\n",
    "      \"name\": \"timeliness\",\n",
    "      \"value\": list(timeliness_sel.value)[0]\n",
    "    }\n",
    "  ]\n",
    "}\n",
    "     \n",
    "headers = {\n",
    "    'Content-Type': 'application/json',\n",
    "    'Accept': 'application/json',\n",
    "    'authorization': 'Basic '+str(token)}\n",
    "\n",
    "data = json.dumps(query)\n",
    "dataset_post = requests.post(\"https://wekeo-broker-k8s.apps.mercator.dpi.wekeo.eu/databroker/datarequest\", headers=headers, data=data)\n",
    "job_id = json.loads(dataset_post.text)\n",
    "jobId = job_id['jobId']\n",
    "print(\"The job ID is: \"+jobId)"
   ]
  },
  {
   "cell_type": "code",
   "execution_count": null,
   "id": "5efd6a01",
   "metadata": {},
   "outputs": [],
   "source": [
    "get_url_request = requests.get('https://wekeo-broker.apps.mercator.dpi.wekeo.eu/databroker/datarequest/status/'+jobId, headers=headers)\n",
    "get_url = json.loads(get_url_request.text)\n",
    "if get_url['status']=='completed':\n",
    "    print('Status: Completed', end='\\r')\n",
    "\n",
    "while get_url['status']!='completed':\n",
    "    get_url_request = requests.get('https://wekeo-broker.apps.mercator.dpi.wekeo.eu/databroker/datarequest/status/'+jobId, headers=headers)\n",
    "    get_url = json.loads(get_url_request.text)\n",
    "    if get_url['status']=='running':\n",
    "        print('Status: Running', end='\\r')\n",
    "    elif get_url['status']=='failed':\n",
    "        print('Status: Failed. Check data selected.')\n",
    "        break\n",
    "    elif get_url['status']=='completed':\n",
    "        print('Status: Completed')"
   ]
  },
  {
   "cell_type": "markdown",
   "id": "4e4233c2-470b-4fc2-82d2-58d2bfba3b93",
   "metadata": {},
   "source": [
    "### Request Sentinel-5P data and read images metadata\n",
    "\n",
    "This API endpoint provides a `JSON` file containing all the metadata associated to each product obtained from the query:"
   ]
  },
  {
   "cell_type": "code",
   "execution_count": null,
   "id": "75c0a886",
   "metadata": {},
   "outputs": [],
   "source": [
    "headers = {'authorization': 'Basic '+str(token)}\n",
    "get_url_request = requests.get('https://wekeo-broker.apps.mercator.dpi.wekeo.eu/databroker/datarequest/jobs/'+jobId+'/result?status=completed&size=2000', headers=headers)\n",
    "get_url = json.loads(get_url_request.text)"
   ]
  },
  {
   "cell_type": "markdown",
   "id": "7e0170c7-720f-4959-958e-dad4fe5d901c",
   "metadata": {},
   "source": [
    "Using IPython and the requested JSON file it is possible to visualize the metatada associated to each product:"
   ]
  },
  {
   "cell_type": "code",
   "execution_count": null,
   "id": "5df76a14",
   "metadata": {},
   "outputs": [],
   "source": [
    "display(JSON(get_url['content']))"
   ]
  },
  {
   "cell_type": "markdown",
   "id": "c2883c0e-285e-40ce-bb99-6496400e0a39",
   "metadata": {},
   "source": [
    "We can create a list of products and use a `Dropdown` widget to select one of them:"
   ]
  },
  {
   "cell_type": "code",
   "execution_count": null,
   "id": "4351b93b",
   "metadata": {},
   "outputs": [],
   "source": [
    "s5p_list = []\n",
    "for x in range(0,len(get_url['content'])):\n",
    "    s5p_list.append(get_url['content'][x]['url'])"
   ]
  },
  {
   "cell_type": "code",
   "execution_count": null,
   "id": "d17e57cb",
   "metadata": {},
   "outputs": [],
   "source": [
    "s5p_drop =widgets.Dropdown(options=s5p_list, description=\"List of products URL: \",disabled=False,style={'description_width': '120px'},layout={'width': '900px'})\n",
    "s5p_drop"
   ]
  },
  {
   "cell_type": "markdown",
   "id": "c0f473fb-1909-48ac-ac0e-17c34dc3eafa",
   "metadata": {},
   "source": [
    "### Order the data\n",
    "\n",
    "Now we can order the data:"
   ]
  },
  {
   "cell_type": "code",
   "execution_count": null,
   "id": "d597cada",
   "metadata": {},
   "outputs": [],
   "source": [
    "url = s5p_drop.value\n",
    "\n",
    "headers = {\n",
    "    'Content-Type': 'application/json',\n",
    "    'Accept': 'application/json',\n",
    "    'authorization': 'Basic '+str(token)}\n",
    "\n",
    "query = {\n",
    "    \"jobId\":str(jobId),\n",
    "    \"uri\":str(url)\n",
    "    }\n",
    "\n",
    "data = json.dumps(query)\n",
    "dataset_post_order = requests.post(\"https://wekeo-broker-k8s.apps.mercator.dpi.wekeo.eu/databroker/dataorder\", headers=headers, data=data)\n",
    "order_id = json.loads(dataset_post_order.text)['orderId']\n",
    "print('The order ID is: '+order_id)"
   ]
  },
  {
   "cell_type": "markdown",
   "id": "3350826c-969e-4844-9887-74b0b8f932a4",
   "metadata": {},
   "source": [
    "### Download the data"
   ]
  },
  {
   "cell_type": "markdown",
   "id": "4732b599-4fb2-442e-8513-b6cfd5339054",
   "metadata": {},
   "source": [
    "At this step the order ID is used to download the data using the following `GET` request:"
   ]
  },
  {
   "cell_type": "code",
   "execution_count": null,
   "id": "83ace20c",
   "metadata": {},
   "outputs": [],
   "source": [
    "headers = {'Accept': 'application/zip'}\n",
    "\n",
    "response_order = requests.get(\"https://wekeo-broker-k8s.apps.mercator.dpi.wekeo.eu/databroker/dataorder/download/\"+order_id, headers=headers)"
   ]
  },
  {
   "cell_type": "markdown",
   "id": "81935753-ec90-4e74-90ec-19737a5c52f2",
   "metadata": {},
   "source": [
    "The file can be saved as a compressed folder (zip format) using the original data name:"
   ]
  },
  {
   "cell_type": "code",
   "execution_count": null,
   "id": "0c948ec0",
   "metadata": {},
   "outputs": [],
   "source": [
    "zip_filename = url[url.find('/')+1:]\n",
    "\n",
    "with open(zip_filename, 'wb') as zfile:\n",
    "    zfile.write(response_order.content)\n",
    "zip_filename"
   ]
  },
  {
   "cell_type": "markdown",
   "id": "ffe66bb7-e8c5-4d3e-868c-d3d0daee02e0",
   "metadata": {},
   "source": [
    "It's possible to unzip the Sentinel-5P folder in the working directory:"
   ]
  },
  {
   "cell_type": "code",
   "execution_count": null,
   "id": "ffc734ca",
   "metadata": {},
   "outputs": [],
   "source": [
    "with zipfile.ZipFile(zip_filename,\"r\") as zip_ref:\n",
    "    zip_ref.extractall(zip_filename[0:-4])"
   ]
  },
  {
   "cell_type": "markdown",
   "id": "b2be1363-797b-4055-baee-f31529009d7d",
   "metadata": {},
   "source": [
    "And select the netCDF file contained in its folder:"
   ]
  },
  {
   "cell_type": "code",
   "execution_count": null,
   "id": "58b30aef",
   "metadata": {},
   "outputs": [],
   "source": [
    "path = \"./\"+zip_filename[0:-4]+\"/\"+zip_filename[0:-4]\n",
    "nc_files = [f for f in os.listdir(path) if f.endswith('.nc')]\n",
    "nc_drop = widgets.Dropdown(options=nc_files, description=\"netCDF filename: \",disabled=False,style={'description_width': '120px'},layout={'width': '830px'})\n",
    "nc_drop"
   ]
  },
  {
   "cell_type": "markdown",
   "id": "1058c82a-fa02-472c-9046-791c40c3ab4f",
   "metadata": {},
   "source": [
    "Read the netCDF file:"
   ]
  },
  {
   "cell_type": "code",
   "execution_count": null,
   "id": "3ab429d7",
   "metadata": {},
   "outputs": [],
   "source": [
    "nc_file = path+\"/\"+nc_drop.value\n",
    "fh = Dataset(nc_file, mode='r') #read netCDF file"
   ]
  },
  {
   "cell_type": "markdown",
   "id": "03a576ef",
   "metadata": {},
   "source": [
    "### Visualize the data\n",
    "\n",
    "First, let's create the list of variables contained in the netCDF file (`fh`) and select the variable of interest (e.g. nitrogendioxide_tropospheric_column):"
   ]
  },
  {
   "cell_type": "code",
   "execution_count": null,
   "id": "e4c26e20",
   "metadata": {},
   "outputs": [],
   "source": [
    "product_list = list(fh.groups['PRODUCT'].variables.keys())\n",
    "products_drop = widgets.Dropdown(options=product_list, description=\"List of products: \",disabled=False,style={'description_width': '100px'},layout={'width': '400px'})\n",
    "products_drop"
   ]
  },
  {
   "cell_type": "markdown",
   "id": "6063e276-65e2-43dc-abf4-7c7674fc71df",
   "metadata": {},
   "source": [
    "Save the latitude, longitude and the values inside the following variables:"
   ]
  },
  {
   "cell_type": "code",
   "execution_count": null,
   "id": "dced38f6",
   "metadata": {},
   "outputs": [],
   "source": [
    "lons = fh.groups['PRODUCT'].variables['longitude'][:][0,:,:]\n",
    "lats = fh.groups['PRODUCT'].variables['latitude'][:][0,:,:]\n",
    "prod = fh.groups['PRODUCT'].variables[products_drop.value][0,:,:]\n",
    "print (lons.shape)  #check shape\n",
    "print (lats.shape)\n",
    "print (prod.shape)\n",
    "\n",
    "units = fh.groups['PRODUCT'].variables[products_drop.value].units"
   ]
  },
  {
   "cell_type": "markdown",
   "id": "ee67956e-f531-4a50-a2a6-1b55de63c264",
   "metadata": {},
   "source": [
    "It's now possible to plot the data:"
   ]
  },
  {
   "cell_type": "code",
   "execution_count": null,
   "id": "43fc43e0",
   "metadata": {},
   "outputs": [],
   "source": [
    "lon_0 = lons.mean()\n",
    "lat_0 = lats.mean()\n",
    "plt.figure(figsize=(20,20))\n",
    "map1 = Basemap(width=5000000,height=3500000,\n",
    "            resolution='i',projection='stere',\\\n",
    "            lat_ts=40,lat_0=lat_0,lon_0=lon_0)\n",
    "\n",
    "xi, yi = map1(lons, lats)\n",
    "\n",
    "# Plot Data\n",
    "\n",
    "cs = map1.pcolor(xi,yi,np.squeeze(prod), cmap='jet')\n",
    "\n",
    "# Add Grid Lines\n",
    "map1.drawparallels(np.arange(-80., 81., 10.), labels=[1,0,0,0], fontsize=12)\n",
    "map1.drawmeridians(np.arange(-180., 181., 10.), labels=[0,0,0,1], fontsize=12)\n",
    "\n",
    "# Add boundaries and coastlines\n",
    "map1.drawcoastlines()\n",
    "map1.drawstates()\n",
    "map1.drawcountries()\n",
    "\n",
    "# Cbar\n",
    "cbar = map1.colorbar(cs, location='bottom', pad=\"10%\")\n",
    "cbar.set_label(units)\n",
    "\n",
    "# Title\n",
    "plt.title(products_drop.value)\n",
    "plt.show()"
   ]
  },
  {
   "cell_type": "markdown",
   "id": "b48495a1-ebd9-4407-afaf-4afd202af98d",
   "metadata": {},
   "source": [
    "<div class=\"alert alert-success\" role=\"alert\">\n",
    "<span>&#x2714;</span>\n",
    "<a id='libraries'></a>You have successfully run the Notebook workflow for Copernicus data access, browse, display and download using the WeKEO HDA API, adapted and extended to the Setinel 5-p dataset! \n",
    "</div>\n",
    "\n",
    "----"
   ]
  },
  {
   "cell_type": "code",
   "execution_count": null,
   "id": "47e74e09-1e9d-4ce0-87de-4398a34799d8",
   "metadata": {},
   "outputs": [],
   "source": []
  }
 ],
 "metadata": {
  "kernelspec": {
   "display_name": "Python 3 (ipykernel)",
   "language": "python",
   "name": "python3"
  },
  "language_info": {
   "codemirror_mode": {
    "name": "ipython",
    "version": 3
   },
   "file_extension": ".py",
   "mimetype": "text/x-python",
   "name": "python",
   "nbconvert_exporter": "python",
   "pygments_lexer": "ipython3",
   "version": "3.10.5"
  }
 },
 "nbformat": 4,
 "nbformat_minor": 5
}
