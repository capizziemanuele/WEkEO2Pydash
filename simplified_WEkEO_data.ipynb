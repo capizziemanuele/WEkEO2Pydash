{
 "cells": [
  {
   "cell_type": "markdown",
   "id": "85d4fe7a-8e7a-4806-8e7f-fb1598e2d0ea",
   "metadata": {},
   "source": [
    "<div class=\"alert alert-info\">\n",
    "<strong>Authors:</strong> Oxoli Daniele, Capizzi Emanuele - 2022 - Politecnico di Milano <br>\n",
    "<strong>License:</strong> MIT\n",
    "</div>"
   ]
  },
  {
   "cell_type": "markdown",
   "id": "341dd722-4853-4b5f-b03d-e837b00f580e",
   "metadata": {
    "tags": []
   },
   "source": [
    "<div class=\"alert alert-block alert-success\">\n",
    "<h1>Create a personalized dashboard for requesting data using WEkEO HDA API and add interactive widgets for data analysis</h1></div>"
   ]
  },
  {
   "cell_type": "markdown",
   "id": "73845085-7486-45ae-b393-c45babe73e13",
   "metadata": {},
   "source": [
    "# NOTEBOOK INTRODUCTION\n",
    "\n",
    "### Data used in this example\n",
    "\n",
    "| Product Description | Link | WEkEO HDA ID | WEkEO metadata |\n",
    "|:--------------------:|:-----------------------:|:-----------------:|:-----------------:|\n",
    "| ERA5 - Single Levels | <a href=\"https://cds.climate.copernicus.eu/cdsapp#!/dataset/reanalysis-era5-single-levels?tab=overview\" target=\"_blank\">link</a> | EO:ECMWF:DAT:REANALYSIS_ERA5_SINGLE_LEVELS | <a href=\"https://www.wekeo.eu/data?view=dataset&dataset=EO%3AECMWF%3ADAT%3AERA5_HOURLY_VARIABLES_ON_PRESSURE_LEVELS\" target=\"_blank\">link</a> |\n",
    "|CAMS - European Air Quality Forecasts|<a href=\"https://ads.atmosphere.copernicus.eu/cdsapp#!/dataset/cams-europe-air-quality-forecasts?tab=overview\" target=\"_blank\">link</a>|EO:ECMWF:DAT:CAMS_EUROPE_AIR_QUALITY_FORECASTS|<a href=\"https://www.wekeo.eu/data?view=dataset&dataset=EO%3AECMWF%3ADAT%3ACAMS_EUROPE_AIR_QUALITY_FORECASTS\" target=\"_blank\">link</a>|\n",
    "|CEMS - River discharge and related historical data from the European Flood Awareness System|<a href=\"https://cds.climate.copernicus.eu/cdsapp#!/dataset/efas-historical?tab=overview\" target=\"_blank\">link</a>|EO:ECMWF:DAT:EFAS_HISTORICAL|<a href=\"https://www.wekeo.eu/data?view=dataset&dataset=EO%3AECMWF%3ADAT%3AEFAS_HISTORICAL\" target=\"_blank\">link</a>|\n",
    "|CMEMS - Atlantic- European North West Shelf- Ocean Physics Reanalysis|<a href=\"https://resources.marine.copernicus.eu/product-detail/NWSHELF_MULTIYEAR_PHY_004_009/INFORMATION\" target=\"_blank\">link</a>|EO:MO:DAT:NWSHELF_ANALYSISFORECAST_PHY_LR_004_001:cmems_mod_nws_phy-bottomt_anfc_7km-2D_P1D-m|<a href=\"https://www.wekeo.eu/data?view=dataset&dataset=EO%3AMO%3ADAT%3ANWSHELF_ANALYSISFORECAST_PHY_LR_004_001\" target=\"_blank\">link</a>|\n",
    "\n",
    "### Learning outcomes\n",
    "\n",
    "At the end of this notebook you will know:\n",
    "* How to access [*<span style='color:Blue'>WEkEO</span>*](https://www.wekeo.eu/) datasets using [*<span style='color:Blue'>HDA API</span>*](https://www.wekeo.eu/docs/harmonised-data-access-api) and the [*<span style='color:Blue'>requests</span>*](https://requests.readthedocs.io/en/latest/) Python library;\n",
    "* How to create a simple dashboard using Jupyter Notebooks widgets. They are provided by the [*<span style='color:Blue'>Ipywidgets</span>*](https://ipywidgets.readthedocs.io/en/latest/) library and can be useful to automatize data access directly from your Jupyter Notebook\n",
    "* How to use `GET` and `POST` requests to get data from HDA API.\n",
    "\n",
    "https://github.com/ecmwf-projects/copernicus-training/blob/master/CAMS_European-air-quality-index.ipynb\n",
    "\n",
    "\n",
    "### Outline\n",
    "\n",
    "This notebook aims to show how to create simple interactive dashboards for downloading data from WEkEO DIAS. The purpose is to show and create blocks of code that can be reused for other available datasets.\n",
    "\n",
    "API endpoints are available at the following link: https://wekeo-broker.apps.mercator.dpi.wekeo.eu/databroker/ui/#/\n",
    "\n",
    "The example code can be adapted according to the metadata of the requested resource. The links for requesting the data can be retrieved from [*<span style='color:Blue'>Swagger UI</span>*](https://wekeo-broker.apps.mercator.dpi.wekeo.eu/databroker/ui/#!/HDA_-_dataorder/dataorder_get)  (improve description).\n",
    "\n",
    "![broker.jpeg](images/broker.jpg)\n",
    "\n",
    "SHORT DESCRIPTION OF IPYWIDGETS \n",
    "\n",
    "References: \n",
    " - https://www.youtube.com/watch?v=sAI7Se1aCRM&t=2405s\n",
    " - https://github.com/ecmwf-projects/copernicus-training\n",
    "\n",
    "<div class=\"alert alert-info\" role=\"alert\">\n",
    "\n",
    "## <a id='TOC_TOP'></a>Contents\n",
    "\n",
    "</div>\n",
    "    \n",
    " 1. [Login section](#login)   \n",
    " 2. [Datasets exploration](#exploration) \n",
    " 3. [Section 1 - ERA5 Reanalysis Single Levels](#section1)\n",
    " 4. [Section 2 - CAMS - Europe Air Quality Forecasts](#section2)\n",
    " 5. [Section 3 - CMEMS - Analysis/Forecast Sea Bottom Temperature](#section3)\n",
    "\n",
    "\n",
    "<hr>"
   ]
  },
  {
   "cell_type": "markdown",
   "id": "3fa05517-b2f0-42cc-87fd-331104ee733b",
   "metadata": {
    "tags": []
   },
   "source": [
    "<div class=\"alert alert-info\" role=\"alert\">\n",
    "\n",
    "## <a id='libraries'></a>Import libraries\n",
    "\n",
    "</div>"
   ]
  },
  {
   "cell_type": "code",
   "execution_count": null,
   "id": "89af258b-5b6b-44db-a098-02dc9bd9074c",
   "metadata": {},
   "outputs": [],
   "source": [
    "import requests\n",
    "import json\n",
    "import pandas as pd\n",
    "import base64\n",
    "import datetime\n",
    "import ipywidgets as widgets\n",
    "from ipywidgets import Layout\n",
    "from PIL import Image\n",
    "import numpy as np\n",
    "import rioxarray as rxr\n",
    "import xarray as xr\n",
    "from IPython.display import display, JSON\n",
    "import IPython\n",
    "from IPython.display import Image\n",
    "from urllib.request import urlopen\n",
    "import matplotlib.pyplot as plt\n",
    "import matplotlib.ticker as mticker\n",
    "import cartopy.crs as ccrs\n",
    "import cartopy.feature as cfeature\n",
    "from cartopy.mpl.gridliner import LONGITUDE_FORMATTER, LATITUDE_FORMATTER\n",
    "from ipyleaflet import Map, basemaps, basemap_to_tiles, DrawControl, LayersControl\n",
    "\n",
    "# Import functions\n",
    "import simplified_WEkEO_methods as m\n",
    "%load_ext autoreload\n",
    "%autoreload 2\n",
    "\n",
    "import warnings\n",
    "warnings.filterwarnings('ignore')"
   ]
  },
  {
   "cell_type": "markdown",
   "id": "a376d666-ecaf-487c-90e7-8713ee6103c9",
   "metadata": {},
   "source": [
    "<div class=\"alert alert-info\" role=\"alert\">\n",
    "\n",
    "## <a id='login'></a> Logging to WEkEO DIAS using HDA API\n",
    "[Back to top](#TOC_TOP)\n",
    "\n",
    "</div>"
   ]
  },
  {
   "cell_type": "markdown",
   "id": "95edb516-e6dc-41f3-a29c-d3bab4ec98fb",
   "metadata": {},
   "source": [
    "The following widget allows to login with your WEkEO credentials and obtain the access token. It's necessary to run the code and insert the `Username` and `Password`:"
   ]
  },
  {
   "cell_type": "markdown",
   "id": "79b761a5-ef9f-445e-adaf-56ed1c26141d",
   "metadata": {},
   "source": [
    "<div class=\"alert alert-warning\" role=\"alert\">\n",
    "<a id='warning'></a> For all widgets you just need to enter the information without running the code block again after you interacted.\n",
    "</div>"
   ]
  },
  {
   "cell_type": "code",
   "execution_count": null,
   "id": "2267c699-ba6d-4f2c-818c-d4929428dd5b",
   "metadata": {},
   "outputs": [],
   "source": [
    "style= {'description_width': '150px'}\n",
    "layout = {'width': '500px'}\n",
    "username = widgets.Text(placeholder=\"Type WEkEO username\",description=\"Insert username: \",style=style,layout=layout)\n",
    "password = widgets.Password(placeholder=\"Type WEkEO password\",description=\"Insert password: \",style=style,layout=layout)\n",
    "\n",
    "login_box = widgets.VBox([username, password])\n",
    "login_box"
   ]
  },
  {
   "cell_type": "markdown",
   "id": "709e95ef-511e-456f-9312-b8efba460226",
   "metadata": {},
   "source": [
    "`Username` and `Password` are saved into the respective variables and they are used to retrieve a temporary access token using the following API endpoint:\n",
    "\n",
    "It is also necessary to define a `headers` variable for the authorization."
   ]
  },
  {
   "cell_type": "code",
   "execution_count": null,
   "id": "213fb735-67cc-4179-a425-6e96c338e0d8",
   "metadata": {},
   "outputs": [],
   "source": [
    "message = str(username.value+\":\"+password.value).encode('ascii')\n",
    "base64_message = base64.b64encode(message).decode('ascii')\n",
    "headers = {'authorization': 'Basic '+base64_message}\n",
    "token_request = requests.get(\"https://wekeo-broker-k8s.apps.mercator.dpi.wekeo.eu/databroker/gettoken\", headers=headers)\n",
    "token_text = json.loads(token_request.text)\n",
    "print(\"Your access token is: \"+token_text['access_token'])\n",
    "headers = {'authorization': token_text['access_token']}\n",
    "token = list(headers.values())[0]"
   ]
  },
  {
   "cell_type": "markdown",
   "id": "a195a578-18f0-4f57-bfe8-4525232930b2",
   "metadata": {},
   "source": [
    "<div class=\"alert alert-warning\" role=\"alert\">\n",
    "<a id='warning'></a> You may need to get a new access token if it expires. Just run the previous cell to get a new one.\n",
    "</div>"
   ]
  },
  {
   "cell_type": "markdown",
   "id": "2488cd89-5273-41ff-87dc-4216f1291af0",
   "metadata": {},
   "source": [
    "<div class=\"alert alert-info\" role=\"alert\">\n",
    "\n",
    "## <a id='exploration'></a> WEkEO Datasets exploration\n",
    "[Back to top](#TOC_TOP)\n",
    "\n",
    "</div>"
   ]
  },
  {
   "cell_type": "markdown",
   "id": "6169ede2-0c64-4088-bc0a-6b0fd5a1edb2",
   "metadata": {},
   "source": [
    "First of all we are choose the `HDA IDs` for this notebook. Similarly to what was done previously, it is possible to access these data using the [*<span style='color:Blue'>requests </span>*](https://docs.python-requests.org/en/latest/) Python library to send the request to the API service. Finally, we can obtain a [*<span style='color:Blue'>Pandas</span>*](https://pandas.pydata.org/) dataframe containing all the datasets and their information available from WEkEO DIAS:"
   ]
  },
  {
   "cell_type": "code",
   "execution_count": null,
   "id": "17eb516e-e964-4465-91d0-bebebc7685a7",
   "metadata": {},
   "outputs": [],
   "source": [
    "size = 2000 # Max number of datasets to be requested (the total number is 1018)\n",
    "dataset = requests.get(\"https://wekeo-broker-k8s.apps.mercator.dpi.wekeo.eu/databroker/datasets?size=\"+str(size))\n",
    "data = json.loads(dataset.text)\n",
    "data_df = pd.json_normalize(data['content'])\n",
    "data_df # Show the first 5 datasets"
   ]
  },
  {
   "attachments": {
    "5a46574e-fc1a-4065-a0d6-86e813958d7a.jpg": {
     "image/jpeg": "[encoded data removed]"
    }
   },
   "cell_type": "markdown",
   "id": "540a7dc7-0aa3-4dde-bae6-b71f47d0d1f1",
   "metadata": {},
   "source": [
    "Another option is to get the `dataset ID` manually from the WEkEO portal, instead of using the previous dataframe:\n",
    "\n",
    "![image_id.jpg](attachment:5a46574e-fc1a-4065-a0d6-86e813958d7a.jpg)"
   ]
  },
  {
   "cell_type": "markdown",
   "id": "1750d564-b9c4-4ad1-b813-8d66869833a4",
   "metadata": {},
   "source": [
    "----"
   ]
  },
  {
   "cell_type": "markdown",
   "id": "4e9355d7-46c6-45eb-a832-44609ad0280a",
   "metadata": {
    "tags": []
   },
   "source": [
    "<div class=\"alert alert-info\" role=\"alert\">\n",
    "\n",
    "## <a id='section1'></a>1. Section 1 - ERA5 Reanalysis Single Levels\n",
    "[Back to top](#TOC_TOP)\n",
    "\n",
    "</div>"
   ]
  },
  {
   "cell_type": "markdown",
   "id": "ae32df2d-4556-4b57-b2f1-607b8e20df0d",
   "metadata": {},
   "source": [
    "The first dataset used as example is the `ERA5 Reanalysis Single Levels`"
   ]
  },
  {
   "cell_type": "code",
   "execution_count": null,
   "id": "e34df554-1e9c-473b-848f-8f8d7cd60314",
   "metadata": {},
   "outputs": [],
   "source": [
    "dataset_id = 'EO:ECMWF:DAT:REANALYSIS_ERA5_SINGLE_LEVELS'"
   ]
  },
  {
   "cell_type": "markdown",
   "id": "2e5f6dc4-572b-464c-a8ef-effa925d5af0",
   "metadata": {},
   "source": [
    "Always using the request we saw in the previous chapter, we can filter the dataset we are interested in, the `ERA5 Reanalysis Single Levels` in this case:"
   ]
  },
  {
   "cell_type": "code",
   "execution_count": null,
   "id": "b570e1b2-6718-4fc7-9f69-3f651879974b",
   "metadata": {},
   "outputs": [],
   "source": [
    "size = 2000\n",
    "dataset = requests.get(\"https://wekeo-broker-k8s.apps.mercator.dpi.wekeo.eu/databroker/datasets?size=\"+str(size))\n",
    "data = json.loads(dataset.text)\n",
    "data_df = pd.json_normalize(data['content'])\n",
    "data_df = data_df[data_df['datasetId'] == dataset_id]\n",
    "data_df"
   ]
  },
  {
   "cell_type": "markdown",
   "id": "d5b3a436-f360-48a0-bcd0-564f60391a66",
   "metadata": {},
   "source": [
    "We now have information about:\n",
    " - `Abstract`\n",
    " - `HDA dataset ID` (in our case they are already saved it in the ds_list during the datasets exploration)\n",
    " - `Dataset preview image`\n",
    " - `Dataset title`"
   ]
  },
  {
   "cell_type": "markdown",
   "id": "8cab54e0-1e8c-4f38-aad1-c8431885e63f",
   "metadata": {},
   "source": [
    "For example we can use the dataset `title`, `preview image` and the `abstract` to create a simple preview of the dataset. It can be useful to check if the dataset it's correct or to read its description:"
   ]
  },
  {
   "cell_type": "code",
   "execution_count": null,
   "id": "9a5da5f1-640b-45bb-a084-af6eb67d2746",
   "metadata": {},
   "outputs": [],
   "source": [
    "# Get the dataset title from data_df\n",
    "title = data_df.title.values[0]\n",
    "\n",
    "# Get the description from data_df\n",
    "description = list(data_df[\"abstract\"])[0]\n",
    "\n",
    "# Get the dataset image preview and create a display image using IPython\n",
    "img_url = list(data_df[\"previewImage\"])[0]\n",
    "image = IPython.display.Image(img_url, width = 500)\n",
    "image = widgets.Image(value=image.data,format=\"jpg\", width=500,height=600)"
   ]
  },
  {
   "cell_type": "code",
   "execution_count": null,
   "id": "99d5be33-533d-4d91-86ea-b0ef5423a06a",
   "metadata": {},
   "outputs": [],
   "source": [
    "# Create the boxes\n",
    "descr_box = widgets.HTML(value=description, disabled=True)\n",
    "image_box = widgets.VBox([image])\n",
    "descr_box = widgets.VBox([title_box, descr_box])\n",
    "\n",
    "# Create the Layout for the dataset preview\n",
    "ui = widgets.AppLayout( right_sidebar=descr_box, left_sidebar = image_box, layout=widgets.Layout(border='solid'),pane_widths=[1.5,1, 2],\n",
    "          pane_heights=[1, 1.7, '100px'], grid_gap='50px')\n",
    "container = widgets.Box([ui], layout=Layout(height='400px', overflow_y='auto'))\n",
    "display(container)"
   ]
  },
  {
   "cell_type": "markdown",
   "id": "c0706b71-f73f-4e11-b5c0-e8a331ca2301",
   "metadata": {},
   "source": [
    "Moving forward the creation of the dashboard, it is possible to access the metadata for all the datasets with the following request:"
   ]
  },
  {
   "cell_type": "code",
   "execution_count": null,
   "id": "f29cd552-69b9-4bce-b62d-7ce0fe2f40e0",
   "metadata": {},
   "outputs": [],
   "source": [
    "dataset = requests.get(\"https://wekeo-broker-k8s.apps.mercator.dpi.wekeo.eu/databroker/querymetadata/\"+dataset_id, headers=headers)\n",
    "metadata = json.loads(dataset.text)"
   ]
  },
  {
   "cell_type": "markdown",
   "id": "ac539c6b-cfea-4541-a382-1c0299dbcddf",
   "metadata": {},
   "source": [
    "We can interactively visualize the metadata using the display function for `IPython` library. This is very useful to understand how the metadata `JSON` file is structured and how it can be exploited to create the successive requests:"
   ]
  },
  {
   "cell_type": "code",
   "execution_count": null,
   "id": "63a5ff17-bea1-4722-8918-9cee65e8a370",
   "metadata": {},
   "outputs": [],
   "source": [
    "display(JSON(metadata))"
   ]
  },
  {
   "cell_type": "markdown",
   "id": "256d7a37-1682-4235-8da0-a720d55eab03",
   "metadata": {},
   "source": [
    "The ERA5 single level dataset contains many variables that can be selected. In this case we can obtain a list of variables containing all the `ERA5 Hourly Data On Single Levels` exploiting the metadata we obtained previously. Since the variables are stored with different labels, we can extract the keys with the following code (this may not be necessary for other datasets):"
   ]
  },
  {
   "cell_type": "code",
   "execution_count": null,
   "id": "60dc7395-b25d-4d16-ba2d-049a607171d3",
   "metadata": {},
   "outputs": [],
   "source": [
    "category = metadata['parameters']['multiStringSelects'][0]['details']['groupedValueLabels']\n",
    "category_list = []\n",
    "params_list = []\n",
    "for item in category:\n",
    "    category_list.append(item['valuesLabels'])\n",
    "\n",
    "for item in category_list:\n",
    "    key_list = list(item.keys())\n",
    "    params_list.append(key_list)\n",
    "\n",
    "variables_list = [item for sublist in params_list for item in sublist]\n",
    "# variables_list   # Uncomment to show the variables list"
   ]
  },
  {
   "cell_type": "markdown",
   "id": "4e0db97b-df9a-4889-b4f1-941bd18bf99c",
   "metadata": {},
   "source": [
    "Always keeping the metadata as reference, we can select the other necessary variables that will be used for generate the query used for the data request. For `ERA5 Hourly Data On Single Levels` we have to provide the following information:\n",
    " - `Format type`: e.g. netCDF\n",
    " - `Product type`: e.g. ensemble model\n",
    " - `Year`: after 1979\n",
    " - `Month`\n",
    " - `Day`\n",
    " - `Time`"
   ]
  },
  {
   "cell_type": "code",
   "execution_count": null,
   "id": "9fc5b09a-629a-4fae-8ded-aa13d9cca75f",
   "metadata": {},
   "outputs": [],
   "source": [
    "format_type_list = list(['netcdf'])\n",
    "product_type_list = list(metadata['parameters']['multiStringSelects'][1]['details']['groupedValueLabels'][0]['valuesLabels'].keys())\n",
    "year_list = list(metadata['parameters']['multiStringSelects'][2]['details']['groupedValueLabels'][0]['valuesLabels'].keys())\n",
    "month_list = list(metadata['parameters']['multiStringSelects'][3]['details']['groupedValueLabels'][0]['valuesLabels'].keys())\n",
    "day_list = list(metadata['parameters']['multiStringSelects'][4]['details']['groupedValueLabels'][0]['valuesLabels'].keys())\n",
    "time_list = list(metadata['parameters']['multiStringSelects'][5]['details']['groupedValueLabels'][0]['valuesLabels'].keys())"
   ]
  },
  {
   "cell_type": "markdown",
   "id": "a93520e4-cb41-421a-9204-a88375c44ff1",
   "metadata": {},
   "source": [
    "As final step we can create the widgets for the dashboard using the lists previously generated. In this case multiple selection and radio buttons widgets are used, depending on the variable type:"
   ]
  },
  {
   "cell_type": "code",
   "execution_count": null,
   "id": "bf9a3ecf-b7d5-43dc-af38-582d15ea7d3d",
   "metadata": {},
   "outputs": [],
   "source": [
    "style = {'description_width': '100px'}\n",
    "layout = {'width': '400px'}\n",
    "params_sel = widgets.SelectMultiple(options=variables_list,description='Variables: ',disabled=False,style=style,layout=layout)\n",
    "product_type_sel = widgets.SelectMultiple(options=product_type_list,description=\"Product type:\",disabled=False,style=style,layout=layout)\n",
    "year_sel = widgets.SelectMultiple(options=year_list,description=\"Year: \",disabled=False,style=style,layout=layout)\n",
    "month_sel = widgets.SelectMultiple(options=month_list,description=\"Month: \",disabled=False,style=style,layout=layout)\n",
    "day_sel = widgets.SelectMultiple(options=day_list,description=\"Day: \",disabled=False,style=style,layout=layout)\n",
    "time_sel = widgets.SelectMultiple(options=time_list,description=\"Time: \",disabled=False,style=style,layout=layout)\n",
    "format_type_sel = widgets.RadioButtons(options=format_type_list,description=\"Format: \",value=\"netcdf\",disabled=False,style=style,layout=layout)"
   ]
  },
  {
   "cell_type": "markdown",
   "id": "5a3c9d12-ebe7-49a7-a9b6-66e59b7315d9",
   "metadata": {},
   "source": [
    "Finally, we can now group all the widgets in a single dashboard interface. \n",
    "\n",
    "Remember that this notebook has been developed considering `netCDF` files only, but it can be adapted to use `GRIB` files as well:"
   ]
  },
  {
   "cell_type": "code",
   "execution_count": null,
   "id": "28f01876-bdb1-4dca-8b8a-e8ed0fdd8a17",
   "metadata": {},
   "outputs": [],
   "source": [
    "%%html\n",
    "<style>\n",
    ".box {\n",
    "  background-color: #A3CCF5;\n",
    "  border: 2px solid #0b385f;\n",
    "  border-style: dashed;\n",
    "}"
   ]
  },
  {
   "cell_type": "code",
   "execution_count": null,
   "id": "51ff08f1-0fdb-4af2-aae4-fb7edc7868a9",
   "metadata": {
    "tags": []
   },
   "outputs": [],
   "source": [
    "# Create boxes for the dashboard\n",
    "title_box= widgets.HTML(value='<h2 style=\"text-align:center;\">'+title+'</h2><hr>')\n",
    "variables_box = widgets.VBox([title_box, params_sel, product_type_sel, year_sel, month_sel, day_sel, time_sel, format_type_sel])\n",
    "\n",
    "# Create the dashboard \n",
    "ui = widgets.AppLayout(\n",
    "          layout=widgets.Layout(),\n",
    "          grid_gap=\"300px\")\n",
    "\n",
    "display(variables_box.add_class(\"box\"))"
   ]
  },
  {
   "cell_type": "markdown",
   "id": "3a496871-b75b-4990-87ac-5451b2e433a7",
   "metadata": {},
   "source": [
    "Selecting the parameter in the dashboard above will automatically change the requested data inside the following query. The query will be used for the following `POST` request:\n",
    "\n",
    "After the request is completed we can obtain the `Job ID` that will allows us to effectively download the data. Notice also how the `headers` variable changed in the following cell:"
   ]
  },
  {
   "cell_type": "code",
   "execution_count": null,
   "id": "95dfcf46-3e25-4a80-b36b-9659358e5af5",
   "metadata": {},
   "outputs": [],
   "source": [
    "query = {\n",
    "  \"datasetId\": dataset_id,\n",
    "  \"multiStringSelectValues\": [\n",
    "    {\n",
    "      \"name\": \"variable\",\n",
    "      \"value\": list(params_sel.value)\n",
    "    },\n",
    "    {\n",
    "      \"name\": \"year\",\n",
    "      \"value\": list(year_sel.value)\n",
    "    },\n",
    "    {\n",
    "      \"name\": \"month\",\n",
    "      \"value\": list(month_sel.value)\n",
    "    },\n",
    "    {\n",
    "      \"name\": \"day\",\n",
    "      \"value\": list(day_sel.value)\n",
    "    },\n",
    "    {\n",
    "      \"name\": \"time\",\n",
    "      \"value\":list(time_sel.value)\n",
    "    },\n",
    "    {\n",
    "      \"name\": \"product_type\",\n",
    "      \"value\": list(product_type_sel.value)\n",
    "    }\n",
    "  ],\n",
    "  \"stringChoiceValues\": [\n",
    "    {\n",
    "      \"name\": \"format\",\n",
    "      \"value\": format_type_sel.value\n",
    "    }\n",
    "  ]\n",
    "}\n",
    "\n",
    "headers = {\n",
    "    'Content-Type': 'application/json',\n",
    "    'Accept': 'application/json',\n",
    "    'authorization': 'Basic '+str(token)\n",
    "}\n",
    "\n",
    "data = json.dumps(query)\n",
    "dataset_post = requests.post(\"https://wekeo-broker-k8s.apps.mercator.dpi.wekeo.eu/databroker/datarequest\", headers=headers, data=data)\n",
    "job_id = json.loads(dataset_post.text)\n",
    "print(job_id)\n",
    "jobId = job_id['jobId']\n",
    "print(\"The job ID is: \"+jobId+\". The status is: \"+job_id['status'])"
   ]
  },
  {
   "cell_type": "markdown",
   "id": "4e1d00a7-e955-481b-9014-96877319cbed",
   "metadata": {},
   "source": [
    "Moreover, we can check the whether the request is completed:"
   ]
  },
  {
   "cell_type": "code",
   "execution_count": null,
   "id": "fedfc473-5484-4e00-afea-d95d6d09dc23",
   "metadata": {},
   "outputs": [],
   "source": [
    "get_url_request = requests.get('https://wekeo-broker.apps.mercator.dpi.wekeo.eu/databroker/datarequest/status/'+jobId, headers=headers)\n",
    "get_url = json.loads(get_url_request.text)\n",
    "print(get_url['status'])\n",
    "\n",
    "while get_url['status']!='completed':\n",
    "    get_url_request = requests.get('https://wekeo-broker.apps.mercator.dpi.wekeo.eu/databroker/datarequest/status/'+jobId, headers=headers)\n",
    "    get_url = json.loads(get_url_request.text)\n",
    "    print(get_url['status'],end='\\r')"
   ]
  },
  {
   "cell_type": "markdown",
   "id": "b9f1466c-6ef9-440c-a900-647f29dcbefe",
   "metadata": {},
   "source": [
    "Now that we have the `Job ID`, we can obtain our data (downloading or reading them). Notice that the `headers` changed again since we are doing a `GET` request:"
   ]
  },
  {
   "cell_type": "code",
   "execution_count": null,
   "id": "f9d13122-a528-4e6a-b3f2-640492129362",
   "metadata": {},
   "outputs": [],
   "source": [
    "headers = {'authorization': 'Basic '+str(token)}\n",
    "get_url_request = requests.get('https://wekeo-broker.apps.mercator.dpi.wekeo.eu/databroker/datarequest/jobs/'+jobId+'/result', headers=headers)\n",
    "get_url = json.loads(get_url_request.text)\n",
    "url = get_url['content'][0]['url']\n",
    "print('The URL for download is: '+ get_url['content'][0]['url'])"
   ]
  },
  {
   "cell_type": "markdown",
   "id": "0bf5f129-3347-4b19-baa2-f6689e79cc48",
   "metadata": {},
   "source": [
    "The following Radio Buttons widget can be used to decide whether we cant to save the netCDF file in the working directory or read it directly:"
   ]
  },
  {
   "cell_type": "code",
   "execution_count": null,
   "id": "9d32f793-5dbe-4ff4-9e40-acd5f7982d8f",
   "metadata": {},
   "outputs": [],
   "source": [
    "download_list = [\"Download NETCDF\", \"Read NETCDF in memory\"] #Choice - Download data or just read\n",
    "download_sel = widgets.RadioButtons(options=download_list,description=\"Data download: \", value=\"Read NETCDF in memory\")\n",
    "download_sel"
   ]
  },
  {
   "cell_type": "markdown",
   "id": "83ee35ee-aaae-47e4-9462-8d69d803e0ce",
   "metadata": {},
   "source": [
    "The `download_type` is used to download the file with its original name or to read it directly without saving it inside the working directory:"
   ]
  },
  {
   "cell_type": "code",
   "execution_count": null,
   "id": "5b49eed5-6313-48ad-9ca1-a5494765f2d0",
   "metadata": {},
   "outputs": [],
   "source": [
    "ds = m.download_type(download_sel, download_list, get_url)"
   ]
  },
  {
   "cell_type": "markdown",
   "id": "a2ac68b4-a6e5-463a-94f1-3299ed549168",
   "metadata": {},
   "source": [
    "We are ready to plot the netCDF file previously requested:"
   ]
  },
  {
   "cell_type": "code",
   "execution_count": null,
   "id": "3dc7012f-616e-456a-ae25-7fc2c1a6f5a5",
   "metadata": {},
   "outputs": [],
   "source": [
    "variables = list(ds.keys())\n",
    "var_drop = widgets.Dropdown(options = variables, description= \"Variable: \",style={'description_width': '100px'},layout ={'width': '400px'})"
   ]
  },
  {
   "cell_type": "code",
   "execution_count": null,
   "id": "f95cce80-677e-4c79-9e90-89b3bc58c9fa",
   "metadata": {},
   "outputs": [],
   "source": [
    "# Select the netCDF times\n",
    "timings = list(ds.time.data)\n",
    "time_drop = widgets.Dropdown(options=timings,description=\"Select date: \",disabled=False,style={'description_width': '100px'},layout ={'width': '400px'})"
   ]
  },
  {
   "cell_type": "code",
   "execution_count": null,
   "id": "1223156b-87a5-4218-b869-6b5b6443dca1",
   "metadata": {},
   "outputs": [],
   "source": [
    "def plot_era5(variable, time):\n",
    "    f = plt.figure(figsize=(15,10))\n",
    "    p = ds[var_drop.value].sel(time=time_drop.value).plot.pcolormesh(  #change time\n",
    "    subplot_kws=dict(projection=ccrs.PlateCarree(), facecolor=\"gray\"),\n",
    "    transform=ccrs.PlateCarree())\n",
    "    p.set_clim(180,330)\n",
    "    p.axes.set_global()\n",
    "    p.axes.coastlines()\n",
    "    p.axes.gridlines(color='black', alpha=0.5, linestyle='--')\n",
    "    p.axes.set_extent([-180, 180, -90, 90], ccrs.PlateCarree())\n",
    "\n",
    "    # draw parallels/meridiens and write labels\n",
    "    gl = p.axes.gridlines(crs=ccrs.PlateCarree(), draw_labels=True,\n",
    "                          linewidth=2, color='gray', alpha=0.5, linestyle='--')\n",
    "\n",
    "    # adjust labels to taste\n",
    "    gl.xlabels_top = False\n",
    "    gl.ylabels_right = False\n",
    "    gl.ylocator = mticker.AutoLocator()\n",
    "    gl.xformatter = LONGITUDE_FORMATTER\n",
    "    gl.yformatter = LATITUDE_FORMATTER\n",
    "    gl.xlabel_style = {'size': 18, 'color': 'black'}\n",
    "    gl.ylabel_style = {'size': 18, 'color': 'black'}"
   ]
  },
  {
   "cell_type": "code",
   "execution_count": null,
   "id": "e3fbb5fc-5180-4722-b06c-2a1f8960e377",
   "metadata": {},
   "outputs": [],
   "source": [
    "widgets.interact(plot_era5, variable = var_drop, time=time_drop)"
   ]
  },
  {
   "cell_type": "markdown",
   "id": "d8103d9f-91c7-48ed-9f62-e65aa62ebce8",
   "metadata": {},
   "source": [
    "----"
   ]
  },
  {
   "cell_type": "markdown",
   "id": "7cbe0846-20e4-4447-81d4-c9ca4e4600d7",
   "metadata": {
    "tags": []
   },
   "source": [
    "<div class=\"alert alert-info\" role=\"alert\">\n",
    "\n",
    "## <a id='section2'></a>2. Section 2 - CAMS - Europe Air Quality Forecasts\n",
    "[Back to top](#TOC_TOP)\n",
    "\n",
    "</div>"
   ]
  },
  {
   "cell_type": "markdown",
   "id": "fb5130c8-8dae-45af-9891-b597428905a0",
   "metadata": {},
   "source": [
    "As second dataset the European Air Quality Forecast (CAMS) will be used. An interactive way to access these data it's shown. \n",
    "\n",
    "First of all, select `EO:ECMWF:DAT:CAMS_EUROPE_AIR_QUALITY_FORECASTS` from the dropdown list:"
   ]
  },
  {
   "cell_type": "code",
   "execution_count": null,
   "id": "aff119d2-2e23-4297-a63f-bce31565fa28",
   "metadata": {},
   "outputs": [],
   "source": [
    "dataset_id = 'EO:ECMWF:DAT:CAMS_EUROPE_AIR_QUALITY_FORECASTS'"
   ]
  },
  {
   "cell_type": "markdown",
   "id": "514659bc-60b6-44c6-8795-9c2ecdf93864",
   "metadata": {},
   "source": [
    "Select the dataset using the dataset `ID` to retrieve its information:"
   ]
  },
  {
   "cell_type": "code",
   "execution_count": null,
   "id": "e43705f3-32fa-49e8-ab20-0fa8bb4472be",
   "metadata": {},
   "outputs": [],
   "source": [
    "size = 2000\n",
    "dataset = requests.get(\"https://wekeo-broker-k8s.apps.mercator.dpi.wekeo.eu/databroker/datasets?size=\"+str(size))\n",
    "data = json.loads(dataset.text)\n",
    "data_df = pd.json_normalize(data['content'])\n",
    "data_df = data_df[data_df['datasetId'] == dataset_id]\n",
    "data_df"
   ]
  },
  {
   "cell_type": "markdown",
   "id": "e7f1ce21-663d-47ab-8d5c-71b8de5c33a9",
   "metadata": {},
   "source": [
    "As we did int the previous chapter, let's create a preview for the CAMS European Air Quality Forecast dataset:"
   ]
  },
  {
   "cell_type": "code",
   "execution_count": null,
   "id": "c72ed999-3558-402a-b5d5-c0f19457e1d7",
   "metadata": {},
   "outputs": [],
   "source": [
    "# Get the dataset title from data_df\n",
    "title = data_df.title.values[0]\n",
    "\n",
    "# Get the description from data_df\n",
    "description = list(data_df[\"abstract\"])[0]\n",
    "\n",
    "# Get the dataset image preview and create a display\n",
    "img_url = list(data_df[\"previewImage\"])[0]\n",
    "image = IPython.display.Image(img_url, width = 500)\n",
    "image = widgets.Image(value=image.data,format=\"jpg\", width=500,height=600)"
   ]
  },
  {
   "cell_type": "code",
   "execution_count": null,
   "id": "da4e3bdc-6a5b-43e2-b455-1da73e4d1508",
   "metadata": {},
   "outputs": [],
   "source": [
    "data_df[\"abstract\"].str.decode('utf8')"
   ]
  },
  {
   "cell_type": "code",
   "execution_count": null,
   "id": "29c72715-de91-4d15-8a67-b6767440f8fc",
   "metadata": {},
   "outputs": [],
   "source": [
    "# Create the boxes\n",
    "descr_box = widgets.HTML(value=description, disabled=True)\n",
    "image_box = widgets.VBox([image])\n",
    "descr_box = widgets.VBox([title_box, descr_box])\n",
    "\n",
    "# Create the Layout for the dataset preview\n",
    "ui = widgets.AppLayout(right_sidebar=descr_box, left_sidebar = image_box, layout=widgets.Layout(border='solid'),pane_widths=[1.5,1, 2],\n",
    "          pane_heights=[0.5, 3, '60px'], grid_gap='50px')\n",
    "container = widgets.Box([ui], layout=Layout(height='400px', overflow_y='auto'))\n",
    "display(container)"
   ]
  },
  {
   "cell_type": "markdown",
   "id": "89ee0fcc-c25a-42bb-908e-6d9416a6eecb",
   "metadata": {},
   "source": [
    "Let's access the metadata and visualize the JSON file structure for this dataset:"
   ]
  },
  {
   "cell_type": "code",
   "execution_count": null,
   "id": "1c753c1b-d170-4e38-8550-aa5fccc71698",
   "metadata": {},
   "outputs": [],
   "source": [
    "dataset = requests.get(\"https://wekeo-broker-k8s.apps.mercator.dpi.wekeo.eu/databroker/querymetadata/\"+dataset_id, headers=headers)\n",
    "metadata = json.loads(dataset.text)"
   ]
  },
  {
   "cell_type": "code",
   "execution_count": null,
   "id": "425c9db9-e11c-43a0-87ab-1bece049271a",
   "metadata": {},
   "outputs": [],
   "source": [
    "display(JSON(metadata))"
   ]
  },
  {
   "cell_type": "markdown",
   "id": "12b98840-888e-4b53-968e-45ca6001d982",
   "metadata": {},
   "source": [
    "We have to create the lists of variables required to generate the query using the following parameters:\n",
    " - `Variables`: (e.g. particulate matter, dust...)\n",
    " - `Product type`: (analysis or forecast)`\n",
    " - `Model`: (e.g. ensenmble)\n",
    " - `Level`\n",
    " - `Time`\n",
    " - `Date`\n",
    " - `Leadtime` \n",
    " - `Format`"
   ]
  },
  {
   "cell_type": "code",
   "execution_count": null,
   "id": "8dc47a3b-1ede-4cc5-94b5-318e18b2b00e",
   "metadata": {},
   "outputs": [],
   "source": [
    "format_type_list = list(['netcdf'])\n",
    "params_list = list(metadata['parameters']['multiStringSelects'][0]['details']['groupedValueLabels'][0]['valuesLabels'].keys())\n",
    "product_type_list = list(metadata['parameters']['multiStringSelects'][1]['details']['groupedValueLabels'][0]['valuesLabels'].keys())\n",
    "level_list = list(metadata['parameters']['multiStringSelects'][2]['details']['groupedValueLabels'][0]['valuesLabels'].keys())\n",
    "type_list = list(metadata['parameters']['multiStringSelects'][3]['details']['groupedValueLabels'][0]['valuesLabels'].keys())\n",
    "hour_list = list(metadata['parameters']['multiStringSelects'][4]['details']['groupedValueLabels'][0]['valuesLabels'].keys())\n",
    "leadtime_list = list(metadata['parameters']['multiStringSelects'][5]['details']['groupedValueLabels'][0]['valuesLabels'].keys())"
   ]
  },
  {
   "cell_type": "code",
   "execution_count": null,
   "id": "059d0ca2-329c-4c1f-8966-2903215baf42",
   "metadata": {},
   "outputs": [],
   "source": [
    "params_sel = style = {'description_width': '100px'}\n",
    "layout = {'width': '400px'}\n",
    "\n",
    "params_sel = widgets.SelectMultiple(options=params_list,description='Variables: ',disabled=False,style=style,layout=layout)\n",
    "product_type_sel = widgets.SelectMultiple(options=product_type_list,description='Product type: ',disabled=False,style=style,layout=layout)\n",
    "level_sel = widgets.SelectMultiple(options=level_list,description='Level: ',disabled=False,style=style,layout=layout)\n",
    "type_sel = widgets.SelectMultiple(options=type_list,description='Type: ',disabled=False,style=style,layout=layout)\n",
    "hour_sel = widgets.SelectMultiple(options=hour_list,description='Hour: ',disabled=False,style=style,layout=layout)\n",
    "leadtime_sel = widgets.SelectMultiple(options=leadtime_list,description='Leadtime: ',disabled=False,style=style,layout=layout)\n",
    "format_type_sel = widgets.RadioButtons(options=format_type_list,description=\"Format: \",value=\"netcdf\",disabled=False,style=style,layout=layout)\n",
    "start_date_sel = widgets.DatePicker(description='Select start date: ',disabled=False,style=style,layout=layout)\n",
    "end_date_sel = widgets.DatePicker(description='Select end date: ',disabled=False,style=style,layout=layout)"
   ]
  },
  {
   "cell_type": "markdown",
   "id": "f28acf2a-6cae-491d-ac75-7582a0373864",
   "metadata": {},
   "source": [
    "Moreover, for the CAMS European Air Quality Forecast dataset, we can provide a `Bounding Box` contanining the Region of Interest for which we want to require data. \n",
    "An interactive way to select the Bounding Box is to use the [*<span style='color:Blue'>Ipyleaflet</span>*](https://ipyleaflet.readthedocs.io/en/latest/) library. The  function `draw_map` it's available inside the custom functions, created using this library. The following code will generate a map and with the `Draw a Rectangle` tool the desired area can be selected:"
   ]
  },
  {
   "cell_type": "code",
   "execution_count": null,
   "id": "adf3d474-8b51-4fc6-820c-adfab9d8a9fa",
   "metadata": {},
   "outputs": [],
   "source": [
    "cams_map, dc = m.draw_map(45, 10, 4)\n",
    "\n",
    "cams_map"
   ]
  },
  {
   "cell_type": "markdown",
   "id": "ab5836b5-e23e-4a7a-8303-74fe809803c2",
   "metadata": {},
   "source": [
    "The `Bounding Box` coordinates can be obtained:"
   ]
  },
  {
   "cell_type": "code",
   "execution_count": null,
   "id": "ff6543ce-0af3-4d1d-8d32-389f9586e86d",
   "metadata": {},
   "outputs": [],
   "source": [
    "coords = dc.last_draw['geometry']['coordinates'][0]\n",
    "W = coords[1][0]\n",
    "E = coords[3][0]\n",
    "N = coords[1][1]\n",
    "S = coords[3][1]"
   ]
  },
  {
   "cell_type": "markdown",
   "id": "6ac66c86-97ca-4a78-aec8-362496bd7d39",
   "metadata": {},
   "source": [
    "It's also important to check the time range for the available data:"
   ]
  },
  {
   "cell_type": "code",
   "execution_count": null,
   "id": "ee712653-7fa9-46d8-b224-0cb814131f95",
   "metadata": {},
   "outputs": [],
   "source": [
    "start_date = metadata['parameters']['dateRangeSelects'][0]['details']['start']\n",
    "print(\"The start date for this dataset is: \"+start_date)"
   ]
  },
  {
   "cell_type": "markdown",
   "id": "3c95a6ed-cdc4-4c1c-9aff-36c5d5b5e301",
   "metadata": {},
   "source": [
    "Now it's possible to create a dashboard as we did during the previous chapter, but this time we will use the widgets specifically created for the CAMS European Air Quality Forecast dataset:"
   ]
  },
  {
   "cell_type": "code",
   "execution_count": null,
   "id": "b297c5f5-eb2f-4101-988c-4f66631b1248",
   "metadata": {},
   "outputs": [],
   "source": [
    "%%html\n",
    "<style>\n",
    ".box {\n",
    "  background-color: #A3CCF5;\n",
    "  border: 2px solid #0b385f;\n",
    "  border-style: dashed;\n",
    "}"
   ]
  },
  {
   "cell_type": "code",
   "execution_count": null,
   "id": "741b5af0-64c0-453a-8cd1-f7488294e02d",
   "metadata": {},
   "outputs": [],
   "source": [
    "# Create boxes for the dashboard\n",
    "title_box= widgets.HTML(value='<h2 style=\"text-align:center;\">'+title+'</h2><hr>')\n",
    "variables_box = widgets.VBox([title_box, params_sel, product_type_sel, level_sel, type_sel, hour_sel, leadtime_sel, start_date_sel, end_date_sel, format_type_sel])\n",
    "\n",
    "# Create the dashboard \n",
    "ui = widgets.AppLayout(\n",
    "          layout=widgets.Layout(),\n",
    "          grid_gap=\"300px\")\n",
    "\n",
    "display(variables_box.add_class(\"box\"))"
   ]
  },
  {
   "cell_type": "markdown",
   "id": "1f1b66e3-e547-47f9-83ef-74b92195a88b",
   "metadata": {},
   "source": [
    "We can run the query after selecting the proper values inside the dashboard:"
   ]
  },
  {
   "cell_type": "code",
   "execution_count": null,
   "id": "e9d1f355-a621-4329-8893-083714652b9c",
   "metadata": {},
   "outputs": [],
   "source": [
    "query = {\n",
    "      \"datasetId\": dataset_id,\n",
    "      \"boundingBoxValues\": [\n",
    "        {\n",
    "          \"name\": \"area\",\n",
    "          \"bbox\": [\n",
    "            W,\n",
    "            N,\n",
    "            E,\n",
    "            S\n",
    "          ]\n",
    "        }\n",
    "      ],\n",
    "      \"dateRangeSelectValues\": [\n",
    "        {\n",
    "          \"name\": \"date\",\n",
    "          \"start\": start_date_sel.value.strftime(\"%Y-%m-%dT%H:%M:%S.000Z\"),\n",
    "          \"end\": end_date_sel.value.strftime(\"%Y-%m-%dT%H:%M:%S.000Z\")\n",
    "        }\n",
    "      ],\n",
    "      \"multiStringSelectValues\": [\n",
    "        {\n",
    "          \"name\": \"variable\",\n",
    "          \"value\": list(params_sel.value)\n",
    "        },\n",
    "        {\n",
    "          \"name\": \"model\",\n",
    "          \"value\": list(product_type_sel.value)\n",
    "        },\n",
    "        {\n",
    "          \"name\": \"level\",\n",
    "          \"value\": list(level_sel.value)\n",
    "        },\n",
    "        {\n",
    "          \"name\": \"type\",\n",
    "          \"value\": list(type_sel.value)\n",
    "        },\n",
    "        {\n",
    "          \"name\": \"time\",\n",
    "          \"value\": list(hour_sel.value)\n",
    "        },\n",
    "        {\n",
    "          \"name\": \"leadtime_hour\",\n",
    "          \"value\": list(leadtime_sel.value)\n",
    "        }\n",
    "      ],\n",
    "      \"stringChoiceValues\": [\n",
    "        {\n",
    "          \"name\": \"format\",\n",
    "          \"value\": format_type_sel.value\n",
    "        }\n",
    "      ]\n",
    "    }\n",
    "      \n",
    "headers = {\n",
    "    'Content-Type': 'application/json',\n",
    "    'Accept': 'application/json',\n",
    "    'authorization': 'Basic '+str(token)}\n",
    "\n",
    "data = json.dumps(query)\n",
    "dataset_post = requests.post(\"https://wekeo-broker-k8s.apps.mercator.dpi.wekeo.eu/databroker/datarequest\", headers=headers, data=data)\n",
    "job_id = json.loads(dataset_post.text)\n",
    "print(job_id)\n",
    "jobId = job_id['jobId']\n",
    "print(\"The job ID is: \"+jobId+\". The status is: \"+job_id['status'])"
   ]
  },
  {
   "cell_type": "markdown",
   "id": "a90d1d77-bcd7-4600-b2ad-dfa3556f5a44",
   "metadata": {},
   "source": [
    "Request the `Job ID`:"
   ]
  },
  {
   "cell_type": "code",
   "execution_count": null,
   "id": "10204b75-bb16-42ad-892e-822a66cc93ec",
   "metadata": {},
   "outputs": [],
   "source": [
    "get_url_request = requests.get('https://wekeo-broker.apps.mercator.dpi.wekeo.eu/databroker/datarequest/status/'+jobId, headers=headers)\n",
    "get_url = json.loads(get_url_request.text)\n",
    "print(get_url['status'])\n",
    "\n",
    "while get_url['status']!='completed':\n",
    "    get_url_request = requests.get('https://wekeo-broker.apps.mercator.dpi.wekeo.eu/databroker/datarequest/status/'+jobId, headers=headers)\n",
    "    get_url = json.loads(get_url_request.text)\n",
    "    print(get_url['status'],end='\\r')"
   ]
  },
  {
   "cell_type": "markdown",
   "id": "aa080259-89b9-4627-bc07-af259a8ae003",
   "metadata": {},
   "source": [
    "Now we download the data:"
   ]
  },
  {
   "cell_type": "code",
   "execution_count": null,
   "id": "2a3a0b57-b6f5-4d04-956c-ed63636a929e",
   "metadata": {},
   "outputs": [],
   "source": [
    "headers = {'authorization': 'Basic '+str(token)}\n",
    "get_url_request = requests.get('https://wekeo-broker.apps.mercator.dpi.wekeo.eu/databroker/datarequest/jobs/'+jobId+'/result', headers=headers)\n",
    "get_url = json.loads(get_url_request.text)\n",
    "print(get_url)\n",
    "url = get_url['content'][0]['url']\n",
    "print('The URL for download is: '+ get_url['content'][0]['url'])"
   ]
  },
  {
   "cell_type": "code",
   "execution_count": null,
   "id": "c5ff655e-0864-4edd-94fd-23d5cb55514b",
   "metadata": {},
   "outputs": [],
   "source": [
    "download_list = [\"Download NETCDF\", \"Read NETCDF in memory\"] #Choice - Download data or just read\n",
    "download_sel = widgets.RadioButtons(options=download_list,description=\"Data download: \", value=\"Read NETCDF in memory\")\n",
    "download_sel"
   ]
  },
  {
   "cell_type": "markdown",
   "id": "47718290-1ab9-4835-ba03-433bf86ab1ca",
   "metadata": {},
   "source": [
    "It's possible to download or read in memory the netCDF file and then proceed to plot the file:"
   ]
  },
  {
   "cell_type": "code",
   "execution_count": null,
   "id": "9c108143-0ac6-478d-a794-88543a4ec14c",
   "metadata": {},
   "outputs": [],
   "source": [
    "ds = m.download_type(download_sel, download_list, get_url)\n",
    "ds"
   ]
  },
  {
   "cell_type": "markdown",
   "id": "9eb8e17c-e896-4868-8b14-de2f10fe2391",
   "metadata": {},
   "source": [
    "Since the `time` variable for this dataset is save as timedelta, we need to change it from `timedelta` to `datetime`:"
   ]
  },
  {
   "cell_type": "code",
   "execution_count": null,
   "id": "a747630b-81ec-4229-8caa-d8c4b735930d",
   "metadata": {},
   "outputs": [],
   "source": [
    "timestamp = ds.time.long_name[19:27]\n",
    "time_start= int(hour_sel.value[0][0:2])  #if using data starting at different hour (e.g. 2020-01-01 at 14PM -> set to 14). Must check with multiple hours\n",
    "timestamp_init=datetime.datetime.strptime(timestamp,'%Y%m%d')+datetime.timedelta(hours=time_start)\n",
    "time_coords = pd.date_range(timestamp_init, periods=len(ds.time), freq='1d').strftime(\"%Y-%m-%d %H:%M:%S\").astype('datetime64[ns]')"
   ]
  },
  {
   "cell_type": "code",
   "execution_count": null,
   "id": "90073dac-8c40-4ccf-b584-4ad44848c8a0",
   "metadata": {},
   "outputs": [],
   "source": [
    "ds_assigned = ds.assign_coords(time=time_coords)\n",
    "ds_assigned = ds_assigned.assign_coords(longitude=(((ds_assigned.longitude + 180) % 360) - 180)).sortby('longitude')\n",
    "ds_assigned"
   ]
  },
  {
   "cell_type": "code",
   "execution_count": null,
   "id": "2544b9ba-5774-4b95-a112-63cc5dcbdc3e",
   "metadata": {},
   "outputs": [],
   "source": [
    "# Select the netCDF variables\n",
    "variables = list(ds.keys())\n",
    "var_drop = widgets.Dropdown(options=variables,description='Variables: ',disabled=False,style={'description_width': '100px'},layout ={'width': '400px'})"
   ]
  },
  {
   "cell_type": "code",
   "execution_count": null,
   "id": "cf76edc0-66df-4641-b5fc-392af9f75dc3",
   "metadata": {},
   "outputs": [],
   "source": [
    "# Select the netCDF times\n",
    "timings = list(ds_assigned.time.data)\n",
    "time_drop = widgets.Dropdown(options=timings,description=\"Select date: \",disabled=False,style={'description_width': '100px'},layout ={'width': '400px'})"
   ]
  },
  {
   "cell_type": "markdown",
   "id": "94b3184d-e0ef-4441-bde7-4634b588f1cf",
   "metadata": {},
   "source": [
    "We are ready to plot the data for the selected variable and date:"
   ]
  },
  {
   "cell_type": "code",
   "execution_count": null,
   "id": "bc28d89e-8f9a-498d-b0bf-92e36e9ef694",
   "metadata": {},
   "outputs": [],
   "source": [
    "def cams_plot(variable, time):  \n",
    "    f = plt.figure(figsize=(15,10))\n",
    "    p = ds_assigned[var_drop.value].sel(time=time_drop.value).plot(  #change time\n",
    "    subplot_kws=dict(projection=ccrs.PlateCarree(), facecolor=\"gray\"),\n",
    "    transform=ccrs.PlateCarree())\n",
    "    p.set_clim(0,50)\n",
    "    p.axes.set_global()\n",
    "    p.axes.coastlines()\n",
    "    p.axes.gridlines(color='black', alpha=0.5, linestyle='--')\n",
    "    p.axes.set_extent([W-1,E+1,S-1,N+1], ccrs.PlateCarree())\n",
    " \n",
    "    gl = p.axes.gridlines(crs=ccrs.PlateCarree(), draw_labels=True,\n",
    "                          linewidth=2, color='gray', alpha=0.5, linestyle='--')\n",
    "\n",
    "    gl.xlabels_top = False\n",
    "    gl.ylabels_right = False\n",
    "    gl.ylocator = mticker.AutoLocator()\n",
    "    gl.xformatter = LONGITUDE_FORMATTER\n",
    "    gl.yformatter = LATITUDE_FORMATTER\n",
    "    gl.xlabel_style = {'size': 18, 'color': 'black'}\n",
    "    gl.ylabel_style = {'size': 18, 'color': 'black'}"
   ]
  },
  {
   "cell_type": "code",
   "execution_count": null,
   "id": "7b511b5c-7975-4c2c-94dc-b4323877d9dc",
   "metadata": {},
   "outputs": [],
   "source": [
    "widgets.interact(cams_plot, variable = var_drop, time=time_drop)"
   ]
  },
  {
   "cell_type": "markdown",
   "id": "457a8a36-cbd5-4b71-bb9b-af1f7fb00ae5",
   "metadata": {},
   "source": [
    "An additional step could be to use the `Ipyleaflet` functionalities to select a specific location and check the corresponding time series for the select location. We plot the map again and with the `Draw a Marker` tool we can select a location inside the previously selected `Bounding Box`:"
   ]
  },
  {
   "cell_type": "code",
   "execution_count": null,
   "id": "74480ead-3646-4d9e-8096-0f1b4d89c907",
   "metadata": {},
   "outputs": [],
   "source": [
    "cams_map"
   ]
  },
  {
   "cell_type": "markdown",
   "id": "d4267ee2-1284-4189-9e82-3892de92e2a1",
   "metadata": {},
   "source": [
    "We get the `longitude` and the `latitude` of the location and we can plot the time serie for the selected location:"
   ]
  },
  {
   "cell_type": "code",
   "execution_count": null,
   "id": "66b9e1f6-7679-467b-9fce-4c808ed92cde",
   "metadata": {},
   "outputs": [],
   "source": [
    "coords = dc.last_draw['geometry']['coordinates']\n",
    "lati=coords[1]\n",
    "loni=coords[0]\n",
    "\n",
    "var = ds_assigned.sel(longitude=loni, latitude=lati, method='nearest')[var_drop.value]"
   ]
  },
  {
   "cell_type": "code",
   "execution_count": null,
   "id": "3089cb6a-eea7-461c-8388-d4b3c158f496",
   "metadata": {},
   "outputs": [],
   "source": [
    "f = plt.figure(figsize=(12,12))\n",
    "ax=f.add_subplot(211)\n",
    "\n",
    "ax.set_title(ds_assigned.title , fontsize=20)\n",
    "ax.grid()\n",
    "ax.set_ylabel(ds_assigned[var_drop.value].species+' '+'['+ds_assigned[var_drop.value].units+']', fontsize=18)\n",
    "ax.plot(ds_assigned.time, var,c='tab:green', linewidth=2)\n",
    "f.suptitle('Latitude: '+str(lati)+' \\nLongitude: '+str(loni),ha= 'left', fontsize=20)\n",
    "f.autofmt_xdate()\n",
    "\n",
    "states_provinces = cfeature.NaturalEarthFeature(\n",
    "        category='cultural',\n",
    "        name='admin_0_boundary_lines_land',\n",
    "        scale='110m',\n",
    "        facecolor='none')\n",
    "ax_mini_map = f.add_axes([0.8, 0.90, 0.2, 0.15], projection=ccrs.PlateCarree())\n",
    "gl = ax_mini_map.axes.gridlines(draw_labels=True)\n",
    "ax_mini_map.add_feature(states_provinces, edgecolor='gray')\n",
    "gl.xlabels_top = False\n",
    "gl.ylabels_right = False\n",
    "ax_mini_map.add_feature(cfeature.LAND, zorder= 0, edgecolor='k')\n",
    "ax_mini_map.set_extent([W-1,E+1,S-1,N+1])\n",
    "ax_mini_map.scatter(loni, lati, 15, 'tab:red', transform=ccrs.PlateCarree())\n",
    "ax_mini_map.annotate('Location', (loni, lati),xytext=(3, 3), textcoords='offset points')"
   ]
  },
  {
   "cell_type": "markdown",
   "id": "2613ba4a-6194-43dc-85e1-c162db9f32cc",
   "metadata": {},
   "source": [
    "----"
   ]
  },
  {
   "cell_type": "markdown",
   "id": "55d59dec-ebd3-4025-b6f7-16f84873e076",
   "metadata": {
    "tags": []
   },
   "source": [
    "<div class=\"alert alert-info\" role=\"alert\">\n",
    "\n",
    "## <a id='section3'></a>3. Section 3 - CMEMS - Analysis/Forecast Sea Bottom Temperature\n",
    "[Back to top](#TOC_TOP)\n",
    "\n",
    "</div>"
   ]
  },
  {
   "cell_type": "markdown",
   "id": "048fc0fe-c08c-49a9-bca6-1e3196a1b4a2",
   "metadata": {},
   "source": [
    "Select `EO:MO:DAT:NWSHELF_ANALYSISFORECAST_PHY_LR_004_001:cmems_mod_nws_phy-bottomt_anfc_7km-2D_P1D-m` from the Dropdown list:"
   ]
  },
  {
   "cell_type": "code",
   "execution_count": null,
   "id": "923e19e0-585f-42bf-a6a7-523ef5d31087",
   "metadata": {},
   "outputs": [],
   "source": [
    "dataset_id ='EO:MO:DAT:NWSHELF_ANALYSISFORECAST_PHY_LR_004_001:cmems_mod_nws_phy-bottomt_anfc_7km-2D_P1D-m'"
   ]
  },
  {
   "cell_type": "markdown",
   "id": "58d85531-6592-4396-990d-086bb0582d2d",
   "metadata": {},
   "source": [
    "Generate the dataset preview:"
   ]
  },
  {
   "cell_type": "code",
   "execution_count": null,
   "id": "5d2ba1a1-6c2a-4c21-a1d8-d24cadf20478",
   "metadata": {},
   "outputs": [],
   "source": [
    "size = 2000\n",
    "dataset = requests.get(\"https://wekeo-broker-k8s.apps.mercator.dpi.wekeo.eu/databroker/datasets?size=\"+str(size))\n",
    "data = json.loads(dataset.text)\n",
    "data_df = pd.json_normalize(data['content'])\n",
    "data_df = data_df[data_df['datasetId'] == dataset_id]\n",
    "data_df"
   ]
  },
  {
   "cell_type": "code",
   "execution_count": null,
   "id": "cc309032-1958-4e08-817e-de866d73fdcb",
   "metadata": {},
   "outputs": [],
   "source": [
    "# Get the dataset title from data_df\n",
    "title = data_df.title.values[0]\n",
    "\n",
    "# Get the description from data_df\n",
    "description = list(data_df[\"abstract\"])[0]\n",
    "\n",
    "# Get the dataset image preview and create a display\n",
    "img_url = list(data_df[\"previewImage\"])[0]\n",
    "image = IPython.display.Image(img_url, width = 500)\n",
    "image = widgets.Image(value=image.data,format=\"jpg\", width=500,height=600)"
   ]
  },
  {
   "cell_type": "code",
   "execution_count": null,
   "id": "8f134f0a-3dd3-45f1-9b44-050671143c8e",
   "metadata": {},
   "outputs": [],
   "source": [
    "# Create the boxes\n",
    "descr_box = widgets.HTML(value=description, disabled=True)\n",
    "image_box = widgets.VBox([image])\n",
    "descr_box = widgets.VBox([title_box, descr_box])\n",
    "\n",
    "ui = widgets.AppLayout(right_sidebar=descr_box, left_sidebar = image_box, layout=widgets.Layout(border='solid'),pane_widths=[1.5,1, 2],\n",
    "          pane_heights=[0.5, 3, '60px'], grid_gap='50px')\n",
    "container = widgets.Box([ui], layout=Layout(height='400px', overflow_y='auto'))\n",
    "display(container)"
   ]
  },
  {
   "cell_type": "markdown",
   "id": "404d454a-3d7e-4c12-93b9-2a1099a588b2",
   "metadata": {},
   "source": [
    "Request the `metadata`:"
   ]
  },
  {
   "cell_type": "code",
   "execution_count": null,
   "id": "1eb30766-b3e7-4bbc-b694-1808d78e247e",
   "metadata": {},
   "outputs": [],
   "source": [
    "dataset = requests.get(\"https://wekeo-broker-k8s.apps.mercator.dpi.wekeo.eu/databroker/querymetadata/\"+dataset_id, headers=headers)\n",
    "metadata = json.loads(dataset.text)"
   ]
  },
  {
   "cell_type": "markdown",
   "id": "62aed12a-dace-4381-b829-4d9372da311f",
   "metadata": {},
   "source": [
    "Visualize the JSON structure:"
   ]
  },
  {
   "cell_type": "code",
   "execution_count": null,
   "id": "cb2d470d-4a8b-43fb-a94e-47df39b42fe8",
   "metadata": {},
   "outputs": [],
   "source": [
    "display(JSON(metadata))"
   ]
  },
  {
   "cell_type": "markdown",
   "id": "c9892af1-29fc-404d-bb31-66544c0f8c7c",
   "metadata": {},
   "source": [
    "Create the lists using the metadata, generate the `widgets` and the map for selecting the `Bounding Box`. For this dataset it's required to provide the `start date` and the `end date` only."
   ]
  },
  {
   "cell_type": "code",
   "execution_count": null,
   "id": "f9b75912-4ed1-45a9-b34e-9cfd73fd9fcd",
   "metadata": {},
   "outputs": [],
   "source": [
    "variable_list = list(metadata['parameters']['multiStringSelects'][0]['details']['groupedValueLabels'][0]['valuesLabels'].keys())\n",
    "end = metadata['parameters']['dateRangeSelects'][0]['details']['end']\n",
    "start = metadata['parameters']['dateRangeSelects'][0]['details']['start']\n",
    "download_list = [\"Download NETCDF\"]\n",
    "print(\"The start date is \"+start+\". The end date is \"+end)"
   ]
  },
  {
   "cell_type": "code",
   "execution_count": null,
   "id": "f73cef75-014d-4852-9d85-5e731a109bbc",
   "metadata": {},
   "outputs": [],
   "source": [
    "params_sel = style = {'description_width': '100px'}\n",
    "layout = {'width': '400px'}\n",
    "\n",
    "\n",
    "start_date_sel = widgets.DatePicker(description='Select start date: ',disabled=False,style=style,layout=layout)\n",
    "end_date_sel = widgets.DatePicker(description='Select end date: ',disabled=False,style=style,layout=layout)\n",
    "download_sel = widgets.RadioButtons(options=download_list,description=\"Data download: \", value=\"Download NETCDF\",style=style,layout=layout)"
   ]
  },
  {
   "cell_type": "code",
   "execution_count": null,
   "id": "2fce4cb3-5feb-4587-8385-d0093b26adb2",
   "metadata": {},
   "outputs": [],
   "source": [
    "cams_map, dc = m.draw_map(50, -10, 4)\n",
    "\n",
    "cams_map"
   ]
  },
  {
   "cell_type": "markdown",
   "id": "0e22e12d-243f-4a6a-a257-6ba46a42e120",
   "metadata": {},
   "source": [
    "Get the coordinates:"
   ]
  },
  {
   "cell_type": "code",
   "execution_count": null,
   "id": "e3d50cca-9e74-408c-80e4-55d62f7e5604",
   "metadata": {},
   "outputs": [],
   "source": [
    "coords = dc.last_draw['geometry']['coordinates'][0]\n",
    "W = coords[1][0]\n",
    "E = coords[3][0]\n",
    "N = coords[1][1]\n",
    "S = coords[3][1]"
   ]
  },
  {
   "cell_type": "markdown",
   "id": "924c7449-0b99-47e6-a1f6-1b1fc65551da",
   "metadata": {},
   "source": [
    "Obtain the dashboard and its visualization:"
   ]
  },
  {
   "cell_type": "code",
   "execution_count": null,
   "id": "1e360f9c-4d01-4406-a4aa-0d7d601cb5db",
   "metadata": {},
   "outputs": [],
   "source": [
    "%%html\n",
    "<style>\n",
    ".box {\n",
    "  background-color: #A3CCF5;\n",
    "  border: 2px solid #0b385f;\n",
    "  border-style: dashed;\n",
    "}"
   ]
  },
  {
   "cell_type": "code",
   "execution_count": null,
   "id": "321335d0-762b-4bcd-a4d1-a49aa0325430",
   "metadata": {},
   "outputs": [],
   "source": [
    "# Create boxes for the dashboard\n",
    "title_box= widgets.HTML(value='<h2 style=\"text-align:center;\">'+title+'</h2><hr>')\n",
    "variables = widgets.VBox([title_box, start_date_sel, end_date_sel, download_sel])\n",
    "\n",
    "# Create the dashboard \n",
    "ui = widgets.AppLayout(\n",
    "          layout=widgets.Layout(),\n",
    "          grid_gap=\"300px\")\n",
    "\n",
    "display(variables.add_class(\"box\"))"
   ]
  },
  {
   "cell_type": "markdown",
   "id": "0f09b7aa-2a1b-4d15-ad1b-f98b0a38d955",
   "metadata": {},
   "source": [
    "Request data using the query and obtain the `Job ID`:"
   ]
  },
  {
   "cell_type": "code",
   "execution_count": null,
   "id": "fb4f4650-d8f9-4d38-98d2-f222b826323b",
   "metadata": {},
   "outputs": [],
   "source": [
    "query = {\n",
    "  \"datasetId\": dataset_id,\n",
    "  \"boundingBoxValues\": [\n",
    "    {\n",
    "      \"name\": \"bbox\",\n",
    "      \"bbox\": [W, S, E, N]\n",
    "    }\n",
    "  ],\n",
    "  \"dateRangeSelectValues\": [\n",
    "    {\n",
    "      \"name\": \"position\",\n",
    "      \"start\": start_date_sel.value.strftime(\"%Y-%m-%dT%H:%M:%S.000Z\"),\n",
    "      \"end\": end_date_sel.value.strftime(\"%Y-%m-%dT%H:%M:%S.000Z\")\n",
    "    }\n",
    "  ],\n",
    "  \"multiStringSelectValues\": [\n",
    "    {\n",
    "      \"name\": \"variable\",\n",
    "      \"value\": [\n",
    "        \"bottomT\"\n",
    "      ]\n",
    "    }\n",
    "  ],\n",
    "  \"stringChoiceValues\": [\n",
    "    {\n",
    "      \"name\": \"service\",\n",
    "      \"value\": \"NWSHELF_ANALYSISFORECAST_PHY_LR_004_001-TDS\"\n",
    "    },\n",
    "    {\n",
    "      \"name\": \"product\",\n",
    "      \"value\": \"cmems_mod_nws_phy-bottomt_anfc_7km-2D_P1D-m\"\n",
    "    }\n",
    "  ]\n",
    "}\n",
    "\n",
    "headers = {\n",
    "    'Content-Type': 'application/json',\n",
    "    'Accept': 'application/json',\n",
    "    'authorization': 'Basic '+str(token)}\n",
    "\n",
    "data = json.dumps(query)\n",
    "dataset_post = requests.post(\"https://wekeo-broker-k8s.apps.mercator.dpi.wekeo.eu/databroker/datarequest\", headers=headers, data=data)\n",
    "job_id = json.loads(dataset_post.text)\n",
    "print(job_id)\n",
    "jobId = job_id['jobId']\n",
    "print(\"The job ID is: \"+jobId+\". The status is: \"+job_id['status'])"
   ]
  },
  {
   "cell_type": "markdown",
   "id": "64bb3f17-d04c-426b-81a9-f24af664a045",
   "metadata": {},
   "source": [
    "Check the `Job ID` status:"
   ]
  },
  {
   "cell_type": "code",
   "execution_count": null,
   "id": "f30fcc7b-fa30-4b2c-b2c9-d7761073e99a",
   "metadata": {},
   "outputs": [],
   "source": [
    "get_url_request = requests.get('https://wekeo-broker.apps.mercator.dpi.wekeo.eu/databroker/datarequest/status/'+jobId, headers=headers)\n",
    "get_url = json.loads(get_url_request.text)\n",
    "print(get_url['status'])\n",
    "\n",
    "while get_url['status']!='completed':\n",
    "    get_url_request = requests.get('https://wekeo-broker.apps.mercator.dpi.wekeo.eu/databroker/datarequest/status/'+jobId, headers=headers)\n",
    "    get_url = json.loads(get_url_request.text)\n",
    "    print(get_url['status'],end='\\r')"
   ]
  },
  {
   "cell_type": "markdown",
   "id": "c4f9855f-742d-4add-a12b-340beb237caa",
   "metadata": {},
   "source": [
    "As we did in the previous examples, we can request the data:"
   ]
  },
  {
   "cell_type": "code",
   "execution_count": null,
   "id": "a8e1c5d0-fcf8-4f5a-bd80-e88ec0e56ad8",
   "metadata": {},
   "outputs": [],
   "source": [
    "headers = {'authorization': 'Basic '+str(token)}\n",
    "get_url_request = requests.get('https://wekeo-broker.apps.mercator.dpi.wekeo.eu/databroker/datarequest/jobs/'+jobId+'/result', headers=headers)\n",
    "get_url = json.loads(get_url_request.text)\n",
    "print(get_url)\n",
    "url = get_url['content'][0]['url']\n",
    "filename = get_url['content'][0]['productInfo']['product']\n",
    "print('The URL for download is: '+ get_url['content'][0]['url'])"
   ]
  },
  {
   "cell_type": "markdown",
   "id": "464675e0-7a75-4d1a-9242-9cfb009c2692",
   "metadata": {},
   "source": [
    "For this dataset is required to `Order` the data, using the `POST` request:"
   ]
  },
  {
   "cell_type": "code",
   "execution_count": null,
   "id": "b08595ef-4111-43b4-b24b-34a7f845af9f",
   "metadata": {
    "tags": []
   },
   "outputs": [],
   "source": [
    "url = get_url['content'][0]['url']\n",
    "headers = {\n",
    "    'Content-Type': 'application/json',\n",
    "    'Accept': 'application/json',\n",
    "    'authorization': 'Basic '+str(token)}\n",
    "query = {\n",
    "    \"jobId\":str(jobId),\n",
    "    \"uri\":str(url)}\n",
    "data = json.dumps(query)\n",
    "dataset_post_order = requests.post(\"https://wekeo-broker-k8s.apps.mercator.dpi.wekeo.eu/databroker/dataorder\", headers=headers, data=data)\n",
    "dataset_post_order_text = dataset_post_order.text\n",
    "order_id = json.loads(dataset_post_order_text)['orderId']"
   ]
  },
  {
   "cell_type": "markdown",
   "id": "f5c2d29a-c699-4c92-939a-b7613f9f52ff",
   "metadata": {},
   "source": [
    "Now we can proceed to data download providing the `Order ID`:"
   ]
  },
  {
   "cell_type": "code",
   "execution_count": null,
   "id": "db5a318b-e4ac-466f-93c5-fed273263ab1",
   "metadata": {},
   "outputs": [],
   "source": [
    "headers = {'Accept': 'application/x-netcdf'}\n",
    "response_order = requests.get(\"https://wekeo-broker-k8s.apps.mercator.dpi.wekeo.eu/databroker/dataorder/download/\"+order_id, headers=headers)"
   ]
  },
  {
   "cell_type": "markdown",
   "id": "e78ff1e4-3046-415e-a5e1-40b0886dd246",
   "metadata": {},
   "source": [
    "The downloaded file can be saved with the `.nc` format (netCDF), imported with `xarray` and visualized:"
   ]
  },
  {
   "cell_type": "code",
   "execution_count": null,
   "id": "b53c145e-7d46-42f8-ab0a-9f844a585d95",
   "metadata": {},
   "outputs": [],
   "source": [
    "file = open(filename+\".nc\", \"wb\")\n",
    "file.write(response_order.content)\n",
    "file.close()"
   ]
  },
  {
   "cell_type": "code",
   "execution_count": null,
   "id": "4d763aaf-d72a-4ab6-816d-7f8a5f0aa504",
   "metadata": {},
   "outputs": [],
   "source": [
    "ds = xr.open_dataset(filename+\".nc\")\n",
    "ds"
   ]
  },
  {
   "cell_type": "code",
   "execution_count": null,
   "id": "0ae34cc0-281d-4f85-99d2-177cd940cda1",
   "metadata": {},
   "outputs": [],
   "source": [
    "variables = list(ds.keys())\n",
    "var_drop = widgets.Dropdown(options=variables, description=\"Variable: \",disabled=False,style={'description_width': '100px'},layout ={'width': '400px'})"
   ]
  },
  {
   "cell_type": "code",
   "execution_count": null,
   "id": "ef0153dd-240e-4290-a214-67a3c24b525e",
   "metadata": {},
   "outputs": [],
   "source": [
    "# Select the netCDF times\n",
    "timings = list(ds.time.data)\n",
    "time_drop = widgets.Dropdown(options=timings,description=\"Select date: \",disabled=False,style={'description_width': '100px'},layout ={'width': '400px'})"
   ]
  },
  {
   "cell_type": "code",
   "execution_count": null,
   "id": "3356a54c-59f3-4e46-8f1f-094e8e622f09",
   "metadata": {},
   "outputs": [],
   "source": [
    "def cmems_plot(variable, time):\n",
    "    plt.figure(figsize=(20, 10))\n",
    "    ax = plt.axes(projection=ccrs.PlateCarree())\n",
    "    ax.set_global()\n",
    "    p = ds[var_drop.value].sel(time=time_drop.value).plot.pcolormesh(\n",
    "        ax=ax, transform=ccrs.PlateCarree(), x=\"longitude\", y=\"latitude\")\n",
    "    p.set_clim(vmin=0, vmax=20)\n",
    "    ax.coastlines()\n",
    "\n",
    "    p.axes.set_global()\n",
    "    p.axes.coastlines()\n",
    "    p.axes.gridlines(color='black', alpha=0.5, linestyle='--')\n",
    "    p.axes.set_extent([W,E,S,N], ccrs.PlateCarree())\n",
    "\n",
    "    # draw parallels/meridiens and write labels\n",
    "    gl = p.axes.gridlines(crs=ccrs.PlateCarree(), draw_labels=True,\n",
    "                          linewidth=2, color='gray', alpha=0.5, linestyle='--')\n",
    "\n",
    "    # adjust labels to taste\n",
    "    gl.xlabels_top = False\n",
    "    gl.ylabels_right = False\n",
    "    gl.ylocator = mticker.AutoLocator()\n",
    "    gl.xformatter = LONGITUDE_FORMATTER\n",
    "    gl.yformatter = LATITUDE_FORMATTER\n",
    "    gl.xlabel_style = {'size': 18, 'color': 'black'}\n",
    "    gl.ylabel_style = {'size': 18, 'color': 'black'}"
   ]
  },
  {
   "cell_type": "code",
   "execution_count": null,
   "id": "df8acaeb-19ed-4742-b8aa-c27a88538d12",
   "metadata": {},
   "outputs": [],
   "source": [
    "widgets.interact(cmems_plot, variable = var_drop, time=time_drop)"
   ]
  },
  {
   "cell_type": "markdown",
   "id": "21a20c74-afb8-4fd0-b57a-73c60480fcc3",
   "metadata": {},
   "source": [
    "-------"
   ]
  },
  {
   "cell_type": "markdown",
   "id": "5bd35a71-1fc6-42a1-bf8b-3aca973e1a08",
   "metadata": {},
   "source": [
    "# Other"
   ]
  },
  {
   "cell_type": "markdown",
   "id": "0ad547e1-b6b9-4fd5-9540-a06dcad7dc61",
   "metadata": {
    "tags": []
   },
   "source": [
    "<div class=\"alert alert-info\" role=\"alert\">\n",
    "\n",
    "## <a id='section4'></a>4. Section 4 - CEMS - EFAS Historical\n",
    "[Back to top](#TOC_TOP)\n",
    "\n",
    "</div>"
   ]
  },
  {
   "cell_type": "code",
   "execution_count": null,
   "id": "cf7f074e-3a36-4af9-a039-8a6eb76ab85f",
   "metadata": {},
   "outputs": [],
   "source": [
    "dataset_id = m.get_dropdown(ds_list, \"List of datasets: \")\n",
    "dataset_id"
   ]
  },
  {
   "cell_type": "code",
   "execution_count": null,
   "id": "83a157ba-316d-4fa8-91ce-4924bb332e7f",
   "metadata": {},
   "outputs": [],
   "source": [
    "size = 2000\n",
    "dataset = requests.get(\"https://wekeo-broker-k8s.apps.mercator.dpi.wekeo.eu/databroker/datasets?size=\"+str(size))\n",
    "data = json.loads(dataset.text)\n",
    "data_df = pd.json_normalize(data['content'])\n",
    "data_df = data_df[data_df['datasetId'] == dataset_id.value]\n",
    "data_df"
   ]
  },
  {
   "cell_type": "code",
   "execution_count": null,
   "id": "ab99db67-8655-4e27-9596-751bcd42aace",
   "metadata": {},
   "outputs": [],
   "source": [
    "# Get the dataset title from data_df\n",
    "title = data_df.title.values[0]\n",
    "\n",
    "# Get the description from data_df\n",
    "description = list(data_df[\"abstract\"])[0]\n",
    "\n",
    "# Get the dataset image preview and create a display\n",
    "img_url = list(data_df[\"previewImage\"])[0]\n",
    "image = IPython.display.Image(img_url, width = 500)\n",
    "image = widgets.Image(value=image.data,format=\"jpg\", width=500,height=600)"
   ]
  },
  {
   "cell_type": "code",
   "execution_count": null,
   "id": "9e424b38-5344-42e1-b91d-ea922ee622a8",
   "metadata": {},
   "outputs": [],
   "source": [
    "# Create the boxes\n",
    "title_box = widgets.HTML(value='<b><font size=\"+2\">'+title+'</font></b>')\n",
    "descr_box = widgets.HTML(value=description, disabled=True)\n",
    "image_box = widgets.VBox([image])\n",
    "descr_box = widgets.VBox([title_box, descr_box])\n",
    "\n",
    "# Create the Layout for the dataset preview (FIX THE LAYOUT)\n",
    "ui = widgets.AppLayout(header=title_box, right_sidebar=descr_box, left_sidebar = image_box, layout=widgets.Layout(border='solid'),pane_widths=[1.5,1, 2],\n",
    "          pane_heights=[0.5, 3, '60px'])\n",
    "container = widgets.Box([ui], layout=Layout(height='600px', overflow_y='auto'))\n",
    "display(container)"
   ]
  },
  {
   "cell_type": "code",
   "execution_count": null,
   "id": "5710cb17-3abc-456f-8b6d-35cf2041902a",
   "metadata": {},
   "outputs": [],
   "source": [
    "dataset = requests.get(\"https://wekeo-broker-k8s.apps.mercator.dpi.wekeo.eu/databroker/querymetadata/\"+dataset_id.value, headers=headers)\n",
    "metadata = json.loads(dataset.text)"
   ]
  },
  {
   "cell_type": "code",
   "execution_count": null,
   "id": "6f957d76-df9d-4696-aac0-0daf3f0e0387",
   "metadata": {},
   "outputs": [],
   "source": [
    "display(JSON(metadata))"
   ]
  },
  {
   "cell_type": "code",
   "execution_count": null,
   "id": "97b06752-a29f-4038-a0be-855e17411a32",
   "metadata": {},
   "outputs": [],
   "source": [
    "variable_list = list(metadata['parameters']['multiStringSelects'][0]['details']['groupedValueLabels'][0]['valuesLabels'].keys())\n",
    "soil_level_list = list(metadata['parameters']['multiStringSelects'][1]['details']['groupedValueLabels'][0]['valuesLabels'].keys())\n",
    "year_list = list(metadata['parameters']['multiStringSelects'][2]['details']['groupedValueLabels'][0]['valuesLabels'].keys())\n",
    "month_list = list(metadata['parameters']['multiStringSelects'][3]['details']['groupedValueLabels'][0]['valuesLabels'].keys())\n",
    "day_list = list(metadata['parameters']['multiStringSelects'][4]['details']['groupedValueLabels'][0]['valuesLabels'].keys())\n",
    "time_list = list(metadata['parameters']['multiStringSelects'][5]['details']['groupedValueLabels'][0]['valuesLabels'].keys())\n",
    "system_version_list = list(metadata['parameters']['stringChoices'][0]['details']['valuesLabels'].keys())\n",
    "model_levels_list = list(metadata['parameters']['stringChoices'][1]['details']['valuesLabels'].keys())\n",
    "formats_list = list(metadata['parameters']['stringChoices'][2]['details']['valuesLabels'].keys())\n",
    "download_list = [\"Download NETCDF\"]"
   ]
  },
  {
   "cell_type": "code",
   "execution_count": null,
   "id": "d75019fb-5a45-4ffe-ac70-4f6cf3aa925e",
   "metadata": {},
   "outputs": [],
   "source": [
    "formats = m.select_buttons(formats_list, \"Choose format: \", formats_list[1]) \n",
    "system_version_sel = m.select_buttons(system_version_list, \"System version:\", system_version_list[-1])\n",
    "model_levels_sel = m.select_buttons(model_levels_list, \"Hydrological Model:\", model_levels_list[-1])\n",
    "variable_sel = m.select_multiple(variable_list, \"Variable:\")\n",
    "year_sel = m.select_multiple(year_list, \"Year:\")\n",
    "month_sel = m.select_multiple(month_list, \"Month:\")\n",
    "day_sel = m.select_multiple(day_list, \"Day:\")\n",
    "time_sel = m.select_multiple(time_list, \"Time:\")\n",
    "soil_level_sel = m.select_multiple(soil_level_list, \"Soil level:\")\n",
    "download_sel = m.select_buttons(download_list, \"Data download: \", \"Download NETCDF\")"
   ]
  },
  {
   "cell_type": "code",
   "execution_count": null,
   "id": "10ccd938-85b2-4418-b8e4-a9863ebaae56",
   "metadata": {},
   "outputs": [],
   "source": [
    "title_box = widgets.HTML(value='<h2 style=\"text-align:center;\">'+title+'</h2><hr>')\n",
    "variables = widgets.VBox([title_box, system_version_sel, variable_sel, model_levels_sel, year_sel, month_sel, day_sel, time_sel, soil_level_sel, formats, download_sel])\n",
    "\n",
    "ui = widgets.AppLayout(\n",
    "          left_sidebar=variables,\n",
    "          layout=widgets.Layout(border='solid'))\n",
    "\n",
    "# compute_button.on_click(compute_button_f)\n",
    "container = widgets.Box([ui])\n",
    "display(container)"
   ]
  },
  {
   "cell_type": "code",
   "execution_count": null,
   "id": "ba553bb8-8b7e-4d09-a2f4-1950bbc48dd7",
   "metadata": {},
   "outputs": [],
   "source": [
    "query = {\n",
    "  \"datasetId\": dataset_id.value,\n",
    "  \"multiStringSelectValues\": [\n",
    "    {\n",
    "      \"name\": \"variable\",\n",
    "      \"value\": list(variable_sel.value)\n",
    "    },\n",
    "    {\n",
    "      \"name\": \"soil_level\",\n",
    "      \"value\": list(soil_level_sel.value)\n",
    "    },\n",
    "    {\n",
    "      \"name\": \"hyear\",\n",
    "      \"value\": list(year_sel.value)\n",
    "    },\n",
    "    {\n",
    "      \"name\": \"hmonth\",\n",
    "      \"value\": list(month_sel.value)\n",
    "    },\n",
    "    {\n",
    "      \"name\": \"hday\",\n",
    "      \"value\": list(day_sel.value)\n",
    "    },\n",
    "    {\n",
    "      \"name\": \"time\",\n",
    "      \"value\": list(time_sel.value)\n",
    "    }\n",
    "  ],\n",
    "  \"stringChoiceValues\": [\n",
    "    {\n",
    "      \"name\": \"system_version\",\n",
    "      \"value\": system_version_sel.value\n",
    "    },\n",
    "    {\n",
    "      \"name\": \"format\",\n",
    "      \"value\": formats.value\n",
    "    },\n",
    "    {\n",
    "      \"name\": \"model_levels\",\n",
    "      \"value\": model_levels_sel.value\n",
    "    }\n",
    "  ]\n",
    "}\n",
    "\n",
    "headers = {\n",
    "    'Content-Type': 'application/json',\n",
    "    'Accept': 'application/json',\n",
    "    'authorization': 'Basic '+str(token)}\n",
    "\n",
    "data = json.dumps(query)\n",
    "dataset_post = requests.post(\"https://wekeo-broker-k8s.apps.mercator.dpi.wekeo.eu/databroker/datarequest\", headers=headers, data=data)\n",
    "job_id = json.loads(dataset_post.text)\n",
    "print(job_id)\n",
    "jobId = job_id['jobId']\n",
    "print(\"The job ID is: \"+jobId+\". The status is: \"+job_id['status'])"
   ]
  },
  {
   "cell_type": "code",
   "execution_count": null,
   "id": "2579413d-c0e3-41f7-b3f6-09b22048c7e8",
   "metadata": {},
   "outputs": [],
   "source": [
    "get_url_request = requests.get('https://wekeo-broker.apps.mercator.dpi.wekeo.eu/databroker/datarequest/status/'+jobId, headers=headers)\n",
    "get_url = json.loads(get_url_request.text)\n",
    "print(get_url['status'])\n",
    "\n",
    "while get_url['status']!='completed':\n",
    "    get_url_request = requests.get('https://wekeo-broker.apps.mercator.dpi.wekeo.eu/databroker/datarequest/status/'+jobId, headers=headers)\n",
    "    get_url = json.loads(get_url_request.text)\n",
    "    print(get_url['status'],end='\\r')"
   ]
  },
  {
   "cell_type": "code",
   "execution_count": null,
   "id": "8d81a1f1-58c7-4933-b6ad-a637e7ec1ca3",
   "metadata": {},
   "outputs": [],
   "source": [
    "headers = {'authorization': 'Basic '+str(token)}\n",
    "get_url_request = requests.get('https://wekeo-broker.apps.mercator.dpi.wekeo.eu/databroker/datarequest/jobs/'+jobId+'/result', headers=headers)\n",
    "get_url = json.loads(get_url_request.text)\n",
    "print(get_url)\n",
    "url = get_url['content'][0]['url']\n",
    "print('The URL for download is: '+ get_url['content'][0]['url'])"
   ]
  },
  {
   "cell_type": "code",
   "execution_count": null,
   "id": "32778274-0b89-4a6d-b6d6-5f1e929e6bd4",
   "metadata": {},
   "outputs": [],
   "source": [
    "download_list = [\"Download NETCDF\"] #Download in this case\n",
    "download_sel = m.select_buttons(download_list, \"Data download: \", \"Download NETCDF\")\n",
    "download_sel"
   ]
  },
  {
   "cell_type": "code",
   "execution_count": null,
   "id": "22263a9a-7aa1-46ab-851f-f80788121b7f",
   "metadata": {},
   "outputs": [],
   "source": [
    "ds = m.download_type(download_sel, download_list, get_url)"
   ]
  },
  {
   "cell_type": "code",
   "execution_count": null,
   "id": "503a79c1-b62f-4623-b2f5-8300b3216de1",
   "metadata": {},
   "outputs": [],
   "source": [
    "variables = list(ds.keys())\n",
    "var_drop = m.get_dropdown(variables, \"Variable: \")\n",
    "var_drop"
   ]
  },
  {
   "cell_type": "code",
   "execution_count": null,
   "id": "e5bfdb59-da20-4552-9a8f-0e5d60ab0c80",
   "metadata": {},
   "outputs": [],
   "source": [
    "ds_data = ds[var_drop.value]\n",
    "ds_data"
   ]
  },
  {
   "cell_type": "code",
   "execution_count": null,
   "id": "bb3c7bb2-4795-4cee-8207-d6e3390f0b46",
   "metadata": {},
   "outputs": [],
   "source": [
    "plt.figure(figsize=(14, 6))\n",
    "ax = plt.axes(projection=ccrs.PlateCarree())\n",
    "ax.set_global()\n",
    "p = ds_data.plot.pcolormesh(\n",
    "    ax=ax, transform=ccrs.PlateCarree(), x=\"longitude\", y=\"latitude\")\n",
    "ax.coastlines()\n",
    "\n",
    "p.axes.set_global()\n",
    "p.axes.coastlines()\n",
    "p.axes.gridlines(color='black', alpha=0.5, linestyle='--')\n",
    "p.axes.set_extent([-10,40,35,60], ccrs.PlateCarree())\n",
    "\n",
    "# draw parallels/meridiens and write labels\n",
    "gl = p.axes.gridlines(crs=ccrs.PlateCarree(), draw_labels=True,\n",
    "                      linewidth=2, color='gray', alpha=0.5, linestyle='--')\n",
    "\n",
    "# adjust labels to taste\n",
    "gl.xlabels_top = False\n",
    "gl.ylabels_right = False\n",
    "gl.ylocator = mticker.AutoLocator()\n",
    "gl.xformatter = LONGITUDE_FORMATTER\n",
    "gl.yformatter = LATITUDE_FORMATTER\n",
    "gl.xlabel_style = {'size': 18, 'color': 'black'}\n",
    "gl.ylabel_style = {'size': 18, 'color': 'black'}"
   ]
  },
  {
   "cell_type": "markdown",
   "id": "cd10d248-4d42-428f-97ac-0b01f2024e69",
   "metadata": {},
   "source": [
    "----"
   ]
  },
  {
   "cell_type": "markdown",
   "id": "dcbd2836-98a0-4148-bda5-848e4378ee6a",
   "metadata": {
    "tags": []
   },
   "source": [
    "<div class=\"alert alert-info\" role=\"alert\">\n",
    "\n",
    "## <a id='s5p'></a>Sentinel-5P\n",
    "[Back to top](#TOC_TOP)\n",
    "\n",
    "</div>"
   ]
  },
  {
   "cell_type": "code",
   "execution_count": null,
   "id": "2fe7cf35-b8d2-4a9e-aedd-5bcbc0684b29",
   "metadata": {},
   "outputs": [],
   "source": [
    "dataset_id = 'EO:ESA:DAT:SENTINEL-5P:TROPOMI'"
   ]
  },
  {
   "cell_type": "markdown",
   "id": "f5868a9f-f920-4fce-9a0f-53776bf3cbdd",
   "metadata": {},
   "source": [
    "Select 'EO:ECMWF:DAT:CAMS_EUROPE_AIR_QUALITY_FORECASTS' from the Dropdown list:"
   ]
  },
  {
   "cell_type": "code",
   "execution_count": null,
   "id": "4a1d7a14-9484-46a2-8b29-57e6f8da45a8",
   "metadata": {},
   "outputs": [],
   "source": [
    "size = 2000\n",
    "dataset = requests.get(\"https://wekeo-broker-k8s.apps.mercator.dpi.wekeo.eu/databroker/datasets?size=\"+str(size))\n",
    "data = json.loads(dataset.text)\n",
    "data_df = pd.json_normalize(data['content'])\n",
    "data_df = data_df[data_df['datasetId'] == dataset_id]\n",
    "data_df"
   ]
  },
  {
   "cell_type": "code",
   "execution_count": null,
   "id": "ea782f8f-eb5b-427a-a8f4-f27a51a22920",
   "metadata": {},
   "outputs": [],
   "source": [
    "# Get the dataset title from data_df\n",
    "title = data_df.title.values[0]\n",
    "\n",
    "# Get the description from data_df\n",
    "description = list(data_df[\"abstract\"])[0]"
   ]
  },
  {
   "cell_type": "code",
   "execution_count": null,
   "id": "5ffa3bf9-62f2-4a85-9cf2-d23eeda8b3b5",
   "metadata": {},
   "outputs": [],
   "source": [
    "# Create the boxes\n",
    "title_box = widgets.HTML(value='<b><font size=\"+2\">'+title+'</font></b>')\n",
    "descr_box = widgets.HTML(value=description, disabled=True)\n",
    "descr_box = widgets.VBox([title_box, descr_box])\n",
    "\n",
    "# Create the Layout for the dataset preview (FIX THE LAYOUT)\n",
    "ui = widgets.AppLayout(right_sidebar=descr_box, layout=widgets.Layout(border='solid'),pane_widths=[1.5,1, 2],\n",
    "          pane_heights=[0.5, 3, '60px'])\n",
    "container = widgets.Box([ui], layout=Layout(height='200px', overflow_y='auto'))\n",
    "display(container)"
   ]
  },
  {
   "cell_type": "code",
   "execution_count": null,
   "id": "0134385b-d00c-4817-96ac-59c09bd685a5",
   "metadata": {},
   "outputs": [],
   "source": [
    "dataset = requests.get(\"https://wekeo-broker-k8s.apps.mercator.dpi.wekeo.eu/databroker/querymetadata/\"+dataset_id, headers=headers)\n",
    "metadata = json.loads(dataset.text)"
   ]
  },
  {
   "cell_type": "code",
   "execution_count": null,
   "id": "40252275-6d64-43e2-b7c1-16413ba4514d",
   "metadata": {},
   "outputs": [],
   "source": [
    "display(JSON(metadata))"
   ]
  },
  {
   "cell_type": "code",
   "execution_count": null,
   "id": "213cbcae-e720-4de2-9a57-6ef586b21b24",
   "metadata": {},
   "outputs": [],
   "source": [
    "processing_level_list = list(metadata['parameters']['stringChoices'][0]['details']['valuesLabels'].keys())\n",
    "product_type_list = list(metadata['parameters']['stringChoices'][1]['details']['valuesLabels'].keys())\n",
    "timeliness_list = list(metadata['parameters']['stringChoices'][2]['details']['valuesLabels'].keys())"
   ]
  },
  {
   "cell_type": "code",
   "execution_count": null,
   "id": "023da8ac-6627-40a1-9b1a-cdd5b97e05ef",
   "metadata": {},
   "outputs": [],
   "source": [
    "style = {'description_width': '100px'}\n",
    "layout = {'width': '400px'}\n",
    "processing_level_sel = widgets.SelectMultiple(options=processing_level_list, description=\"Processing level:\",disabled=False,style=style,layout=layout)\n",
    "product_type_sel = widgets.SelectMultiple(options=product_type_list, description=\"Product type:\",disabled=False,style=style,layout=layout)\n",
    "timeliness_sel = widgets.SelectMultiple(options=timeliness_list, description=\"Timeliness: \",disabled=False,style=style,layout=layout)\n",
    "start_date_sel = widgets.DatePicker(description=\"Select start date: \",disabled=False,style=style,layout=layout)\n",
    "end_date_sel = widgets.DatePicker(description=\"Select end date: \",disabled=False,style=style,layout=layout)"
   ]
  },
  {
   "cell_type": "code",
   "execution_count": null,
   "id": "6221af26-b2bc-461f-b681-13c748948f7b",
   "metadata": {},
   "outputs": [],
   "source": [
    "s5p_map, dc = m.draw_map(45, 10, 4)\n",
    "\n",
    "s5p_map"
   ]
  },
  {
   "cell_type": "code",
   "execution_count": null,
   "id": "b1bebba5-d832-4bfe-b458-bb585ff08eec",
   "metadata": {},
   "outputs": [],
   "source": [
    "coords = dc.last_draw['geometry']['coordinates'][0]\n",
    "W = coords[1][0]\n",
    "E = coords[3][0]\n",
    "N = coords[1][1]\n",
    "S = coords[3][1]"
   ]
  },
  {
   "cell_type": "code",
   "execution_count": null,
   "id": "734e67e8-d6fa-4c55-88c6-c05ba2e7791b",
   "metadata": {},
   "outputs": [],
   "source": [
    "start_date = metadata['parameters']['dateRangeSelects'][0]['details']['start']\n",
    "print(\"The start date for this dataset is: \"+start_date)"
   ]
  },
  {
   "cell_type": "code",
   "execution_count": null,
   "id": "339a4620-e1ce-4750-a9a3-18b936954c01",
   "metadata": {},
   "outputs": [],
   "source": [
    "%%html\n",
    "<style>\n",
    ".box {\n",
    "  background-color: #A3CCF5;\n",
    "  border: 2px solid #0b385f;\n",
    "  border-style: dashed;\n",
    "}"
   ]
  },
  {
   "cell_type": "code",
   "execution_count": null,
   "id": "ba7bed65-2fea-4ca7-93f8-6d71bf1a2ed9",
   "metadata": {
    "tags": []
   },
   "outputs": [],
   "source": [
    "# Create boxes for the dashboard\n",
    "title_box= widgets.HTML(value='<h2 style=\"text-align:center;\">'+title+'</h2><hr>')\n",
    "variables_box = widgets.VBox([title_box, processing_level_sel, product_type_sel, timeliness_sel, start_date_sel, end_date_sel])\n",
    "\n",
    "# Create the dashboard \n",
    "ui = widgets.AppLayout(\n",
    "          layout=widgets.Layout(),\n",
    "          grid_gap=\"300px\")\n",
    "\n",
    "display(variables_box.add_class(\"box\"))"
   ]
  },
  {
   "cell_type": "code",
   "execution_count": null,
   "id": "ccdfdcbd-716d-4f51-ad2e-7dcc9bad5d16",
   "metadata": {},
   "outputs": [],
   "source": [
    "query = {\n",
    "  \"datasetId\": dataset_id,\n",
    "  \"boundingBoxValues\": [\n",
    "    {\n",
    "      \"name\": \"bbox\",\n",
    "      \"bbox\": [W, S, E, N]\n",
    "    }\n",
    "  ],\n",
    "  \"dateRangeSelectValues\": [\n",
    "    {\n",
    "      \"name\": \"position\",\n",
    "      \"start\":  start_date_sel.value.strftime(\"%Y-%m-%dT%H:%M:%S.000Z\"),\n",
    "      \"end\": end_date_sel.value.strftime(\"%Y-%m-%dT%H:%M:%S.000Z\")\n",
    "    }\n",
    "  ],\n",
    "  \"stringChoiceValues\": [\n",
    "    {\n",
    "      \"name\": \"processingLevel\",\n",
    "      \"value\": list(processing_level_sel.value)[0]\n",
    "    },\n",
    "    {\n",
    "      \"name\": \"productType\",\n",
    "      \"value\": list(product_type_sel.value)[0]\n",
    "    },\n",
    "    {\n",
    "      \"name\": \"timeliness\",\n",
    "      \"value\": list(timeliness_sel.value)[0]\n",
    "    }\n",
    "  ]\n",
    "}\n",
    "     \n",
    "headers = {\n",
    "    'Content-Type': 'application/json',\n",
    "    'Accept': 'application/json',\n",
    "    'authorization': 'Basic '+str(token)}\n",
    "\n",
    "data = json.dumps(query)\n",
    "dataset_post = requests.post(\"https://wekeo-broker-k8s.apps.mercator.dpi.wekeo.eu/databroker/datarequest\", headers=headers, data=data)\n",
    "job_id = json.loads(dataset_post.text)\n",
    "print(job_id)\n",
    "jobId = job_id['jobId']\n",
    "print(\"The job ID is: \"+jobId+\". The status is: \"+job_id['status'])"
   ]
  },
  {
   "cell_type": "code",
   "execution_count": null,
   "id": "4ba8abee-1887-459c-8e6b-71e6fec1882d",
   "metadata": {},
   "outputs": [],
   "source": [
    "get_url_request = requests.get('https://wekeo-broker.apps.mercator.dpi.wekeo.eu/databroker/datarequest/status/'+jobId, headers=headers)\n",
    "get_url = json.loads(get_url_request.text)\n",
    "print(get_url['status'])\n",
    "\n",
    "while get_url['status']!='completed':\n",
    "    get_url_request = requests.get('https://wekeo-broker.apps.mercator.dpi.wekeo.eu/databroker/datarequest/status/'+jobId, headers=headers)\n",
    "    get_url = json.loads(get_url_request.text)\n",
    "    print(get_url['status'],end='\\r')"
   ]
  },
  {
   "cell_type": "code",
   "execution_count": null,
   "id": "8e2c53ca-08a9-4ffb-b547-0cc1882a8cdf",
   "metadata": {},
   "outputs": [],
   "source": [
    "headers = {'authorization': 'Basic '+str(token)}\n",
    "get_url_request = requests.get('https://wekeo-broker.apps.mercator.dpi.wekeo.eu/databroker/datarequest/jobs/'+jobId+'/result?status=completed&size=2000', headers=headers)\n",
    "get_url = json.loads(get_url_request.text)"
   ]
  },
  {
   "cell_type": "code",
   "execution_count": null,
   "id": "db25dfd5-f284-4c77-b319-b39fa9111a31",
   "metadata": {},
   "outputs": [],
   "source": [
    "s5p_list = []\n",
    "for x in range(0,len(get_url['content'])):\n",
    "    s5p_list.append(get_url['content'][x]['url'])"
   ]
  },
  {
   "cell_type": "code",
   "execution_count": null,
   "id": "507c5121-d9b0-470e-8104-949bf7ea73b3",
   "metadata": {},
   "outputs": [],
   "source": [
    "s5p_drop =widgets.Dropdown(options=s5p_list, description=\"List of dataset URLs: \",disabled=False,style=style,layout=layout)\n",
    "s5p_drop"
   ]
  },
  {
   "cell_type": "code",
   "execution_count": null,
   "id": "c55d7f2a-c582-425d-a1e2-3d165fc12300",
   "metadata": {},
   "outputs": [],
   "source": [
    "url = s5p_drop.value\n",
    "headers = {\n",
    "    'Content-Type': 'application/json',\n",
    "    'Accept': 'application/json',\n",
    "    'authorization': 'Basic '+str(token)}\n",
    "query = {\n",
    "    \"jobId\":str(jobId),\n",
    "    \"uri\":str(url)}\n",
    "data = json.dumps(query)\n",
    "dataset_post_order = requests.post(\"https://wekeo-broker-k8s.apps.mercator.dpi.wekeo.eu/databroker/dataorder\", headers=headers, data=data)\n",
    "order_id = json.loads(dataset_post_order.text)['orderId']\n",
    "order_id"
   ]
  },
  {
   "cell_type": "code",
   "execution_count": null,
   "id": "995936a5-d744-4990-982e-76e04428f82d",
   "metadata": {},
   "outputs": [],
   "source": [
    "headers = {\n",
    "    'Accept': 'application/zip'}\n",
    "response_order = requests.get(\"https://wekeo-broker-k8s.apps.mercator.dpi.wekeo.eu/databroker/dataorder/download/\"+order_id, headers=headers)"
   ]
  },
  {
   "cell_type": "code",
   "execution_count": null,
   "id": "2d90c94e-a9ad-4191-a9f7-0b4a4380efcd",
   "metadata": {},
   "outputs": [],
   "source": [
    "zip_filename = url[url.find('/')+1:]\n",
    "with open(zip_filename, 'wb') as zfile:\n",
    "    zfile.write(response_order.content)"
   ]
  },
  {
   "cell_type": "code",
   "execution_count": null,
   "id": "011ab34c-594e-4ad9-abd3-265761eca4c0",
   "metadata": {},
   "outputs": [],
   "source": [
    "import zipfile\n",
    "with zipfile.ZipFile(zip_filename,\"r\") as zip_ref:\n",
    "    zip_ref.extractall(zip_filename[0:-4])"
   ]
  },
  {
   "cell_type": "code",
   "execution_count": null,
   "id": "6aa7356a-4d32-48a7-b17d-94143f91283f",
   "metadata": {},
   "outputs": [],
   "source": [
    "import os\n",
    "path = \"./\"+zip_filename[0:-4]+\"/\"+zip_filename[0:-4]\n",
    "nc_files = [f for f in os.listdir(path) if f.endswith('.nc')]\n",
    "nc_drop = widgets.Dropdown(options=nc_files, description=\"List of dataset netCDF: \",disabled=False,style=style,layout=layout)\n",
    "nc_drop"
   ]
  },
  {
   "cell_type": "code",
   "execution_count": null,
   "id": "644d1bb6-80f1-4714-8b01-a56619f222db",
   "metadata": {},
   "outputs": [],
   "source": [
    "from netCDF4 import Dataset\n",
    "nc_file = path+\"/\"+nc_drop.value\n",
    "fh = Dataset(nc_file, mode='r')"
   ]
  },
  {
   "cell_type": "code",
   "execution_count": null,
   "id": "e0d4f381-1ca9-4271-ad68-9c954d741106",
   "metadata": {},
   "outputs": [],
   "source": [
    "product_list = list(fh.groups['PRODUCT'].variables.keys())\n",
    "products_drop = widgets.Dropdown(options=product_list, description=\"List of products: \",disabled=False,style=style,layout=layout)\n",
    "products_drop"
   ]
  },
  {
   "cell_type": "code",
   "execution_count": null,
   "id": "0344906e-2278-4f86-a5f7-8bd82f1dc630",
   "metadata": {},
   "outputs": [],
   "source": [
    "lons = fh.groups['PRODUCT'].variables['longitude'][:][0,:,:]\n",
    "lats = fh.groups['PRODUCT'].variables['latitude'][:][0,:,:]\n",
    "prod = fh.groups['PRODUCT'].variables[products_drop.value][0,:,:]\n",
    "print (lons.shape)\n",
    "print (lats.shape)\n",
    "print (prod.shape)\n",
    "\n",
    "units = fh.groups['PRODUCT'].variables[products_drop.value].units"
   ]
  },
  {
   "cell_type": "code",
   "execution_count": null,
   "id": "cffd060b-c405-4c1a-aa58-6b12501fda96",
   "metadata": {},
   "outputs": [],
   "source": [
    "import matplotlib.pyplot as plt\n",
    "from mpl_toolkits.basemap import Basemap\n",
    "\n",
    "lon_0 = lons.mean()\n",
    "lat_0 = lats.mean()\n",
    "plt.figure(figsize=(20,20))\n",
    "map1 = Basemap(width=5000000,height=3500000,\n",
    "            resolution='i',projection='stere',\\\n",
    "            lat_ts=40,lat_0=lat_0,lon_0=lon_0)\n",
    "\n",
    "xi, yi = map1(lons, lats)\n",
    "\n",
    "# Plot Data\n",
    "cs = map1.pcolor(xi,yi,np.squeeze(prod), cmap='jet')\n",
    "\n",
    "# Add Grid Lines\n",
    "map1.drawparallels(np.arange(-80., 81., 10.), labels=[1,0,0,0], fontsize=10)\n",
    "map1.drawmeridians(np.arange(-180., 181., 10.), labels=[0,0,0,1], fontsize=10)\n",
    "\n",
    "# Add Coastlines, States, and Country Boundaries\n",
    "map1.drawcoastlines()\n",
    "map1.drawstates()\n",
    "map1.drawcountries()\n",
    "\n",
    "# Add Colorbar\n",
    "cbar = map1.colorbar(cs, location='bottom', pad=\"10%\")\n",
    "cbar.set_label(units)\n",
    "\n",
    "# Add Title\n",
    "plt.title(products_drop.value)\n",
    "plt.show()"
   ]
  },
  {
   "cell_type": "code",
   "execution_count": null,
   "id": "28ed7599-a097-4ca4-bdd9-ac47c20d90f0",
   "metadata": {},
   "outputs": [],
   "source": []
  }
 ],
 "metadata": {
  "kernelspec": {
   "display_name": "Python 3 (ipykernel)",
   "language": "python",
   "name": "python3"
  },
  "language_info": {
   "codemirror_mode": {
    "name": "ipython",
    "version": 3
   },
   "file_extension": ".py",
   "mimetype": "text/x-python",
   "name": "python",
   "nbconvert_exporter": "python",
   "pygments_lexer": "ipython3",
   "version": "3.9.12"
  }
 },
 "nbformat": 4,
 "nbformat_minor": 5
}
