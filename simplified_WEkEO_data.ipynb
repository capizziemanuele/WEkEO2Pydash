{
 "cells": [
  {
   "cell_type": "markdown",
   "id": "85d4fe7a-8e7a-4806-8e7f-fb1598e2d0ea",
   "metadata": {},
   "source": [
    "**Authors:**  <br>\n",
    "**Copyright:** 2022 AUTHORS NAMES <br>\n",
    "**License:** MIT"
   ]
  },
  {
   "cell_type": "code",
   "execution_count": null,
   "id": "90704f20-e005-4831-b44a-d872da5a873e",
   "metadata": {},
   "outputs": [],
   "source": [
    "# Test for HTML & CSS\n",
    "# from IPython.display import HTML\n",
    "\n",
    "# css_str = '<style>.foo{color:white; padding: 10px; font-weight: bold;max-width: 500px; background-color: gray;background-image: linear-gradient(to bottom, rgba(0,0,0,0), rgba(0,0,0,0.25));}</style>'\n",
    "# html_str = '<div class=\"foo\">Authors:  <br> Copyright: 2022 AUTHORS NAMES <br> License: MIT</div>'\n",
    "\n",
    "# html = HTML(css_str + html_str)\n",
    "# display(html)"
   ]
  },
  {
   "cell_type": "markdown",
   "id": "341dd722-4853-4b5f-b03d-e837b00f580e",
   "metadata": {
    "jp-MarkdownHeadingCollapsed": true,
    "tags": []
   },
   "source": [
    "<div class=\"alert alert-block alert-success\">\n",
    "<h3>Create a personalized dashboard for requesting data using WEkEO HDA API</h3></div>"
   ]
  },
  {
   "cell_type": "markdown",
   "id": "73845085-7486-45ae-b393-c45babe73e13",
   "metadata": {},
   "source": [
    "# NOTEBOOK INTRODUCTION\n",
    "\n",
    "### Data used in this example\n",
    "\n",
    "| Product Description | Link | WEkEO HDA ID | WEkEO metadata |\n",
    "|:--------------------:|:-----------------------:|:-----------------:|:-----------------:|\n",
    "| ERA5 - Single Levels | <a href=\"https://cds.climate.copernicus.eu/cdsapp#!/dataset/reanalysis-era5-single-levels?tab=overview\" target=\"_blank\">link</a> | EO:ECMWF:DAT:REANALYSIS_ERA5_SINGLE_LEVELS | <a href=\"https://www.wekeo.eu/data?view=dataset&dataset=EO%3AECMWF%3ADAT%3AERA5_HOURLY_VARIABLES_ON_PRESSURE_LEVELS\" target=\"_blank\">link</a> |\n",
    "|CAMS - European Air Quality Forecasts|<a href=\"https://ads.atmosphere.copernicus.eu/cdsapp#!/dataset/cams-europe-air-quality-forecasts?tab=overview\" target=\"_blank\">link</a>|EO:ECMWF:DAT:CAMS_EUROPE_AIR_QUALITY_FORECASTS|<a href=\"https://www.wekeo.eu/data?view=dataset&dataset=EO%3AECMWF%3ADAT%3ACAMS_EUROPE_AIR_QUALITY_FORECASTS\" target=\"_blank\">link</a>|\n",
    "|CEMS||||\n",
    "|CMEMS||||\n",
    "\n",
    "### Learning outcomes\n",
    "\n",
    "At the end of this notebook you will know;\n",
    "* How to access WEkEO datasets using HDA API using the request Python library\n",
    "* How to create a simple dashboard useful to access data directly from your Jupyter Notebook\n",
    "* How to add interactivity to your scripts using useful widgets\n",
    "\n",
    "\n",
    "### Outline\n",
    "\n",
    "Here you could describe your notebook, and perhaps include <a href=\"https://notebook.wekeo.eu/\" target=\"_blank\">links</a> to any relevant external content. \n",
    "\n",
    "- Reference: https://www.wekeo.eu/docs/harmonised-data-access-api\n",
    "- API: https://wekeo-broker.apps.mercator.dpi.wekeo.eu/databroker/ui/#/\n",
    "\n",
    "Reference used to get the access token follow this page instructions: \n",
    "- https://curlconverter.com/ to translate the curl request\n",
    "- https://www.base64encode.org/ write \"username:password\" and copy&paste the base64encore in the headers below.\n",
    "\n",
    "Plotting: \n",
    " - https://mom6-analysiscookbook.readthedocs.io/en/latest/notebooks/Plotting.html\n",
    "\n",
    "\n",
    "<div class=\"alert alert-info\" role=\"alert\">\n",
    "\n",
    "## <a id='TOC_TOP'></a>Contents\n",
    "\n",
    "</div>\n",
    "    \n",
    " 1. [Login section](#login)   \n",
    " 2. [Datasets exploration](#exploration) \n",
    " 3. [Section 1 - ERA5 Reanalysis Single Levels](#section1)\n",
    " 4. [Section 2 - CAMS - Europe Air Quality Forecasts](#section2)\n",
    " 5. [Section 3 - CEMS - EFAS Historical](#section3)\n",
    " 6. [Section 4 - CMEMS - Analysis/Forecast Sea Bottom Temperature](#section4)\n",
    "\n",
    "\n",
    "<hr>"
   ]
  },
  {
   "cell_type": "markdown",
   "id": "3fa05517-b2f0-42cc-87fd-331104ee733b",
   "metadata": {
    "tags": []
   },
   "source": [
    "<div class=\"alert alert-info\" role=\"alert\">\n",
    "\n",
    "## <a id='libraries'></a>Libraries\n",
    "\n",
    "</div>"
   ]
  },
  {
   "cell_type": "code",
   "execution_count": null,
   "id": "89af258b-5b6b-44db-a098-02dc9bd9074c",
   "metadata": {},
   "outputs": [],
   "source": [
    "import requests\n",
    "import json\n",
    "import pandas as pd\n",
    "import base64\n",
    "import ipywidgets as widgets\n",
    "from ipywidgets import Layout\n",
    "from PIL import Image\n",
    "import numpy as np\n",
    "import rioxarray as rxr\n",
    "import xarray as xr\n",
    "from IPython.display import display, JSON\n",
    "import IPython\n",
    "from urllib.request import urlopen\n",
    "import matplotlib.pyplot as plt\n",
    "import cartopy.crs as ccrs\n",
    "import cartopy.feature as cfeature\n",
    "from ipyleaflet import Map, basemaps, basemap_to_tiles, DrawControl, LayersControl\n",
    "import matplotlib.ticker as mticker\n",
    "from cartopy.mpl.gridliner import LONGITUDE_FORMATTER, LATITUDE_FORMATTER\n",
    "\n",
    "import warnings\n",
    "warnings.filterwarnings('ignore')"
   ]
  },
  {
   "cell_type": "code",
   "execution_count": null,
   "id": "4a381c6f-25aa-4bfe-84b8-7560c6c2ee7f",
   "metadata": {},
   "outputs": [],
   "source": [
    "%load_ext autoreload\n",
    "%autoreload 2\n",
    "import simplified_WEkEO_methods as m"
   ]
  },
  {
   "cell_type": "markdown",
   "id": "a376d666-ecaf-487c-90e7-8713ee6103c9",
   "metadata": {},
   "source": [
    "<div class=\"alert alert-info\" role=\"alert\">\n",
    "\n",
    "## <a id='login'></a> Login section\n",
    "[Back to top](#TOC_TOP)\n",
    "\n",
    "</div>"
   ]
  },
  {
   "cell_type": "markdown",
   "id": "95edb516-e6dc-41f3-a29c-d3bab4ec98fb",
   "metadata": {},
   "source": [
    "The following widget allows to login with your WEkEO credentials and obtain the token. Just insert Username and Password without launching the script again (also for other widgets just input the data without launching the code again):"
   ]
  },
  {
   "cell_type": "code",
   "execution_count": null,
   "id": "2267c699-ba6d-4f2c-818c-d4929428dd5b",
   "metadata": {},
   "outputs": [],
   "source": [
    "username = m.text_widget(\"Insert username: \")\n",
    "password = m.password_widget(\"Insert password: \")\n",
    "\n",
    "login_box = widgets.VBox([username, password])\n",
    "login_box"
   ]
  },
  {
   "cell_type": "code",
   "execution_count": null,
   "id": "213fb735-67cc-4179-a425-6e96c338e0d8",
   "metadata": {},
   "outputs": [],
   "source": [
    "message = str(username.value+\":\"+password.value).encode('ascii')\n",
    "base64_message = base64.b64encode(message).decode('ascii')\n",
    "headers = {'authorization': 'Basic '+base64_message}\n",
    "token_request = requests.get(\"https://wekeo-broker-k8s.apps.mercator.dpi.wekeo.eu/databroker/gettoken\", headers=headers)\n",
    "token_text = json.loads(token_request.text)\n",
    "print(\"Your access token is: \"+token_text['access_token'])\n",
    "headers = {'authorization': token_text['access_token']}\n",
    "token = list(headers.values())[0]"
   ]
  },
  {
   "cell_type": "markdown",
   "id": "2488cd89-5273-41ff-87dc-4216f1291af0",
   "metadata": {},
   "source": [
    "<div class=\"alert alert-info\" role=\"alert\">\n",
    "\n",
    "## <a id='exploration'></a> WEkEO Datasets exploration\n",
    "[Back to top](#TOC_TOP)\n",
    "\n",
    "</div>"
   ]
  },
  {
   "cell_type": "markdown",
   "id": "6169ede2-0c64-4088-bc0a-6b0fd5a1edb2",
   "metadata": {},
   "source": [
    "First of all we are going to create a list containing the HDA ID for the chosen datasets used in this notebook. It is possible to access these data using the [*<span style='color:Blue'>requests </span>*](https://docs.python-requests.org/en/latest/) Python library to send the request to the API service. The dataset ID will be used to request the data and it can be retrieved using the HDA API, as follow:"
   ]
  },
  {
   "cell_type": "code",
   "execution_count": null,
   "id": "17eb516e-e964-4465-91d0-bebebc7685a7",
   "metadata": {},
   "outputs": [],
   "source": [
    "size = 2000 #number of datasets to be requested\n",
    "dataset = requests.get(\"https://wekeo-broker-k8s.apps.mercator.dpi.wekeo.eu/databroker/datasets?size=\"+str(size))\n",
    "data = json.loads(dataset.text)\n",
    "data_df = pd.json_normalize(data['content'])\n",
    "data_df.head()"
   ]
  },
  {
   "cell_type": "markdown",
   "id": "540a7dc7-0aa3-4dde-bae6-b71f47d0d1f1",
   "metadata": {},
   "source": [
    "Another option is to get the dataset ID from the WEkEO portal:\n",
    "\n",
    "![image_id.jpeg](images/image_id.jpg)"
   ]
  },
  {
   "cell_type": "markdown",
   "id": "7e65128d-ccdc-446f-b5af-17dd7875117d",
   "metadata": {},
   "source": [
    "We can add to a list the interesting datasets for our analysis:"
   ]
  },
  {
   "cell_type": "code",
   "execution_count": null,
   "id": "e451d85a-7480-4078-bfaa-c3fcba9cf4be",
   "metadata": {},
   "outputs": [],
   "source": [
    "ds_list = ['EO:ECMWF:DAT:REANALYSIS_ERA5_SINGLE_LEVELS',\n",
    "          'EO:ECMWF:DAT:CAMS_EUROPE_AIR_QUALITY_FORECASTS',\n",
    "          'EO:ECMWF:DAT:EFAS_HISTORICAL',\n",
    "          'EO:MO:DAT:NWSHELF_ANALYSISFORECAST_PHY_LR_004_001:cmems_mod_nws_phy-bottomt_anfc_7km-2D_P1D-m']"
   ]
  },
  {
   "cell_type": "markdown",
   "id": "1750d564-b9c4-4ad1-b813-8d66869833a4",
   "metadata": {},
   "source": [
    "----"
   ]
  },
  {
   "cell_type": "markdown",
   "id": "4e9355d7-46c6-45eb-a832-44609ad0280a",
   "metadata": {
    "tags": []
   },
   "source": [
    "<div class=\"alert alert-info\" role=\"alert\">\n",
    "\n",
    "## <a id='section1'></a>1. Section 1 - ERA5 Reanalysis Single Levels\n",
    "[Back to top](#TOC_TOP)\n",
    "\n",
    "</div>"
   ]
  },
  {
   "cell_type": "markdown",
   "id": "ae32df2d-4556-4b57-b2f1-607b8e20df0d",
   "metadata": {},
   "source": [
    "The first dataset used as example is the ERA5 Reanalysis Single Levels. We already added its HDA ID in the *ds_list* as first step. We can create a dropdown menu to select the dataset we want to use:"
   ]
  },
  {
   "cell_type": "code",
   "execution_count": null,
   "id": "e34df554-1e9c-473b-848f-8f8d7cd60314",
   "metadata": {},
   "outputs": [],
   "source": [
    "dataset_id = m.get_dropdown(ds_list, \"List of datasets:\")\n",
    "dataset_id"
   ]
  },
  {
   "cell_type": "markdown",
   "id": "2e5f6dc4-572b-464c-a8ef-effa925d5af0",
   "metadata": {},
   "source": [
    "Always using the request, we can filter the dataset we are interested in:"
   ]
  },
  {
   "cell_type": "code",
   "execution_count": null,
   "id": "b570e1b2-6718-4fc7-9f69-3f651879974b",
   "metadata": {},
   "outputs": [],
   "source": [
    "size = 2000\n",
    "dataset = requests.get(\"https://wekeo-broker-k8s.apps.mercator.dpi.wekeo.eu/databroker/datasets?size=\"+str(size))\n",
    "data = json.loads(dataset.text)\n",
    "data_df = pd.json_normalize(data['content'])\n",
    "data_df = data_df[data_df['datasetId'] == dataset_id.value]\n",
    "data_df"
   ]
  },
  {
   "cell_type": "markdown",
   "id": "d5b3a436-f360-48a0-bcd0-564f60391a66",
   "metadata": {},
   "source": [
    "We now have information about:\n",
    " - Abstract\n",
    " - HDA dataset ID (we already used it)\n",
    " - Dataset preview image\n",
    " - Dataset title"
   ]
  },
  {
   "cell_type": "markdown",
   "id": "8cab54e0-1e8c-4f38-aad1-c8431885e63f",
   "metadata": {},
   "source": [
    "For example we can use the dataset information and the metadata to create a simple preview of the dataset:"
   ]
  },
  {
   "cell_type": "code",
   "execution_count": null,
   "id": "9a5da5f1-640b-45bb-a084-af6eb67d2746",
   "metadata": {},
   "outputs": [],
   "source": [
    "# Get the dataset title from data_df\n",
    "title = data_df.title.values[0]\n",
    "\n",
    "# Get the description from data_df\n",
    "description = list(data_df[\"abstract\"])[0]\n",
    "\n",
    "# Get the dataset image preview and create a display\n",
    "img_url = list(data_df[\"previewImage\"])[0]\n",
    "image = IPython.display.Image(img_url, width = 500)\n",
    "image = widgets.Image(value=image.data,format=\"jpg\", width=500,height=600)"
   ]
  },
  {
   "cell_type": "code",
   "execution_count": null,
   "id": "99d5be33-533d-4d91-86ea-b0ef5423a06a",
   "metadata": {},
   "outputs": [],
   "source": [
    "# Create the boxes\n",
    "title_box = widgets.HTML(value='<b><font size=\"+2\">'+title+'</font></b>')\n",
    "descr_box = widgets.HTML('<details>'+description+'</details>')\n",
    "image_box = widgets.VBox([image])\n",
    "descr_box = widgets.VBox([title_box, descr_box])\n",
    "\n",
    "# Create the Layout for the dataset preview (FIX THE LAYOUT)\n",
    "ui = widgets.AppLayout(header=descr_box, center = image_box, layout=widgets.Layout(border='solid'))\n",
    "container = widgets.Box([ui])\n",
    "display(container)"
   ]
  },
  {
   "cell_type": "markdown",
   "id": "c0706b71-f73f-4e11-b5c0-e8a331ca2301",
   "metadata": {},
   "source": [
    "Moreover, is possible to access the metadata for this dataset and prepare the dashboard:"
   ]
  },
  {
   "cell_type": "code",
   "execution_count": null,
   "id": "f29cd552-69b9-4bce-b62d-7ce0fe2f40e0",
   "metadata": {},
   "outputs": [],
   "source": [
    "dataset = requests.get(\"https://wekeo-broker-k8s.apps.mercator.dpi.wekeo.eu/databroker/querymetadata/\"+dataset_id.value, headers=headers)\n",
    "metadata = json.loads(dataset.text)"
   ]
  },
  {
   "cell_type": "markdown",
   "id": "ac539c6b-cfea-4541-a382-1c0299dbcddf",
   "metadata": {},
   "source": [
    "We can interactively visualize the metadata using the display function for IPython library. This is very useful to understand how the metadata JSON file is structured and how it can be exploited to create the requests:"
   ]
  },
  {
   "cell_type": "code",
   "execution_count": null,
   "id": "63a5ff17-bea1-4722-8918-9cee65e8a370",
   "metadata": {},
   "outputs": [],
   "source": [
    "display(JSON(metadata))"
   ]
  },
  {
   "cell_type": "markdown",
   "id": "256d7a37-1682-4235-8da0-a720d55eab03",
   "metadata": {},
   "source": [
    "The ERA5 single level dataset contains many variables that can be selected. We need to obtain a list of variables from the metadata:"
   ]
  },
  {
   "cell_type": "code",
   "execution_count": null,
   "id": "60dc7395-b25d-4d16-ba2d-049a607171d3",
   "metadata": {},
   "outputs": [],
   "source": [
    "category = metadata['parameters']['multiStringSelects'][0]['details']['groupedValueLabels']\n",
    "category_list = []\n",
    "params_list = []\n",
    "for item in category:\n",
    "    category_list.append(item['valuesLabels'])\n",
    "\n",
    "for item in category_list:\n",
    "    key_list = list(item.keys())\n",
    "    params_list.append(key_list)\n",
    "\n",
    "variables_list = [item for sublist in params_list for item in sublist]"
   ]
  },
  {
   "cell_type": "markdown",
   "id": "4e0db97b-df9a-4889-b4f1-941bd18bf99c",
   "metadata": {},
   "source": [
    "Always keeping the metadata as reference, we can select the other variable necessary for the data request:"
   ]
  },
  {
   "cell_type": "code",
   "execution_count": null,
   "id": "9fc5b09a-629a-4fae-8ded-aa13d9cca75f",
   "metadata": {},
   "outputs": [],
   "source": [
    "format_type_list = list(metadata['parameters']['stringChoices'][0]['details']['valuesLabels'].keys())\n",
    "product_type_list = list(metadata['parameters']['multiStringSelects'][1]['details']['groupedValueLabels'][0]['valuesLabels'].keys())\n",
    "year_list = list(metadata['parameters']['multiStringSelects'][2]['details']['groupedValueLabels'][0]['valuesLabels'].keys())\n",
    "month_list = list(metadata['parameters']['multiStringSelects'][3]['details']['groupedValueLabels'][0]['valuesLabels'].keys())\n",
    "day_list = list(metadata['parameters']['multiStringSelects'][4]['details']['groupedValueLabels'][0]['valuesLabels'].keys())\n",
    "time_list = list(metadata['parameters']['multiStringSelects'][5]['details']['groupedValueLabels'][0]['valuesLabels'].keys())"
   ]
  },
  {
   "cell_type": "code",
   "execution_count": null,
   "id": "bf9a3ecf-b7d5-43dc-af38-582d15ea7d3d",
   "metadata": {},
   "outputs": [],
   "source": [
    "params_sel = m.select_multiple(variables_list, \"Variable: \")\n",
    "product_type_sel = m.select_multiple(product_type_list, \"Product type:\")\n",
    "year_sel = m.select_multiple(year_list, \"Year: \")\n",
    "month_sel = m.select_multiple(month_list, \"Month: \")\n",
    "day_sel = m.select_multiple(day_list, \"Day: \")\n",
    "time_sel = m.select_multiple(time_list, \"Time: \")\n",
    "format_type_sel = m.select_buttons(format_type_list, \"Format: \", \"netcdf\")"
   ]
  },
  {
   "cell_type": "markdown",
   "id": "5a3c9d12-ebe7-49a7-a9b6-66e59b7315d9",
   "metadata": {},
   "source": [
    "We can now group all the widgets in a single dashboard interface:"
   ]
  },
  {
   "cell_type": "code",
   "execution_count": null,
   "id": "51ff08f1-0fdb-4af2-aae4-fb7edc7868a9",
   "metadata": {},
   "outputs": [],
   "source": [
    "# Create boxes for the dashboard\n",
    "title_box= widgets.HTML(value='<h2 style=\"text-align:center;\">'+title+'</h2><hr>')\n",
    "variables_box = widgets.VBox([title_box, params_sel, product_type_sel, year_sel, month_sel, day_sel, time_sel, format_type_sel])\n",
    "image_box = widgets.VBox([image])\n",
    "\n",
    "# Create the dashboard \n",
    "ui = widgets.AppLayout(\n",
    "          left_sidebar=variables_box,\n",
    "          right_sidebar=image_box,\n",
    "          layout=widgets.Layout(border='solid'))\n",
    "\n",
    "container = widgets.Box([ui])\n",
    "display(container)"
   ]
  },
  {
   "cell_type": "markdown",
   "id": "3a496871-b75b-4990-87ac-5451b2e433a7",
   "metadata": {},
   "source": [
    "Selecting the parameter in the dashboard above will automatically change the requested data inside the following query. "
   ]
  },
  {
   "cell_type": "code",
   "execution_count": null,
   "id": "95dfcf46-3e25-4a80-b36b-9659358e5af5",
   "metadata": {},
   "outputs": [],
   "source": [
    "query = {\n",
    "  \"datasetId\": dataset_id.value,\n",
    "  \"multiStringSelectValues\": [\n",
    "    {\n",
    "      \"name\": \"variable\",\n",
    "      \"value\": list(params_sel.value)\n",
    "    },\n",
    "    {\n",
    "      \"name\": \"year\",\n",
    "      \"value\": list(year_sel.value)\n",
    "    },\n",
    "    {\n",
    "      \"name\": \"month\",\n",
    "      \"value\": list(month_sel.value)\n",
    "    },\n",
    "    {\n",
    "      \"name\": \"day\",\n",
    "      \"value\": list(day_sel.value)\n",
    "    },\n",
    "    {\n",
    "      \"name\": \"time\",\n",
    "      \"value\":list(time_sel.value)\n",
    "    },\n",
    "    {\n",
    "      \"name\": \"product_type\",\n",
    "      \"value\": list(product_type_sel.value)\n",
    "    }\n",
    "  ],\n",
    "  \"stringChoiceValues\": [\n",
    "    {\n",
    "      \"name\": \"format\",\n",
    "      \"value\": format_type_sel.value\n",
    "    }\n",
    "  ]\n",
    "}\n",
    "\n",
    "headers = {\n",
    "    'Content-Type': 'application/json',\n",
    "    'Accept': 'application/json',\n",
    "    'authorization': 'Basic '+str(token)\n",
    "}\n",
    "\n",
    "data = json.dumps(query)\n",
    "dataset_post = requests.post(\"https://wekeo-broker-k8s.apps.mercator.dpi.wekeo.eu/databroker/datarequest\", headers=headers, data=data)\n",
    "job_id = json.loads(dataset_post.text)\n",
    "print(job_id)\n",
    "jobId = job_id['jobId']\n",
    "print(\"The job ID is: \"+jobId+\". The status is: \"+job_id['status'])"
   ]
  },
  {
   "cell_type": "markdown",
   "id": "b9f1466c-6ef9-440c-a900-647f29dcbefe",
   "metadata": {},
   "source": [
    "Now that we have the Job ID, we can request the data using (RE-RUN THE FOLLOWING CODE IF NOT WORKING):"
   ]
  },
  {
   "cell_type": "code",
   "execution_count": null,
   "id": "f9d13122-a528-4e6a-b3f2-640492129362",
   "metadata": {},
   "outputs": [],
   "source": [
    "headers = {'authorization': 'Basic '+str(token)}\n",
    "get_url_request = requests.get('https://wekeo-broker.apps.mercator.dpi.wekeo.eu/databroker/datarequest/jobs/'+jobId+'/result', headers=headers)\n",
    "get_url = json.loads(get_url_request.text)\n",
    "url = get_url['content'][0]['url']\n",
    "print('The URL for download is: '+ get_url['content'][0]['url'])"
   ]
  },
  {
   "cell_type": "markdown",
   "id": "0bf5f129-3347-4b19-baa2-f6689e79cc48",
   "metadata": {},
   "source": [
    "It is possible to click on the URL to download it. Otherwise the following step will be to read it into memory or save it in the folder automatically."
   ]
  },
  {
   "cell_type": "code",
   "execution_count": null,
   "id": "9d32f793-5dbe-4ff4-9e40-acd5f7982d8f",
   "metadata": {},
   "outputs": [],
   "source": [
    "download_list = [\"Download NETCDF\", \"Read NETCDF in memory\"] #Choice - Download data or just read\n",
    "download_sel = m.select_buttons(download_list, \"Data download: \", \"Read NETCDF in memory\")\n",
    "download_sel"
   ]
  },
  {
   "cell_type": "markdown",
   "id": "90b31d21-8900-45c5-9b6d-f61dd6e80f73",
   "metadata": {
    "tags": []
   },
   "source": [
    "Save files for netcdf only"
   ]
  },
  {
   "cell_type": "code",
   "execution_count": null,
   "id": "5b49eed5-6313-48ad-9ca1-a5494765f2d0",
   "metadata": {},
   "outputs": [],
   "source": [
    "ds = m.download_type(download_sel, download_list, get_url)"
   ]
  },
  {
   "cell_type": "code",
   "execution_count": null,
   "id": "3dc7012f-616e-456a-ae25-7fc2c1a6f5a5",
   "metadata": {},
   "outputs": [],
   "source": [
    "variables = list(ds.keys())\n",
    "var_drop = m.get_dropdown(variables, \"Variable: \")\n",
    "var_drop"
   ]
  },
  {
   "cell_type": "code",
   "execution_count": null,
   "id": "842cb585-3c6d-46e1-9976-c3320b1a325b",
   "metadata": {},
   "outputs": [],
   "source": [
    "ds_data = ds[var_drop.value]\n",
    "ds_data"
   ]
  },
  {
   "cell_type": "code",
   "execution_count": null,
   "id": "1223156b-87a5-4218-b869-6b5b6443dca1",
   "metadata": {},
   "outputs": [],
   "source": [
    "f = plt.figure(figsize=(15,10))\n",
    "p = ds_data.isel(time=0).plot(  #change time\n",
    "subplot_kws=dict(projection=ccrs.PlateCarree(), facecolor=\"gray\"),\n",
    "transform=ccrs.PlateCarree())\n",
    "p.axes.set_global()\n",
    "p.axes.coastlines()\n",
    "p.axes.gridlines(color='black', alpha=0.5, linestyle='--')\n",
    "p.axes.set_extent([-180, 180, -90, 90], ccrs.PlateCarree())\n",
    "\n",
    "# draw parallels/meridiens and write labels\n",
    "gl = p.axes.gridlines(crs=ccrs.PlateCarree(), draw_labels=True,\n",
    "                      linewidth=2, color='gray', alpha=0.5, linestyle='--')\n",
    "\n",
    "# adjust labels to taste\n",
    "gl.xlabels_top = False\n",
    "gl.ylabels_right = False\n",
    "gl.ylocator = mticker.AutoLocator()\n",
    "gl.xformatter = LONGITUDE_FORMATTER\n",
    "gl.yformatter = LATITUDE_FORMATTER\n",
    "gl.xlabel_style = {'size': 18, 'color': 'black'}\n",
    "gl.ylabel_style = {'size': 18, 'color': 'black'}"
   ]
  },
  {
   "cell_type": "markdown",
   "id": "d8103d9f-91c7-48ed-9f62-e65aa62ebce8",
   "metadata": {},
   "source": [
    "----"
   ]
  },
  {
   "cell_type": "markdown",
   "id": "7cbe0846-20e4-4447-81d4-c9ca4e4600d7",
   "metadata": {
    "tags": []
   },
   "source": [
    "<div class=\"alert alert-info\" role=\"alert\">\n",
    "\n",
    "## <a id='section2'></a>2. Section 2 - CAMS - Europe Air Quality Forecasts\n",
    "[Back to top](#TOC_TOP)\n",
    "\n",
    "</div>"
   ]
  },
  {
   "cell_type": "code",
   "execution_count": null,
   "id": "aff119d2-2e23-4297-a63f-bce31565fa28",
   "metadata": {},
   "outputs": [],
   "source": [
    "dataset_id = m.get_dropdown(ds_list, \"List of datasets: \")\n",
    "dataset_id"
   ]
  },
  {
   "cell_type": "markdown",
   "id": "fb5130c8-8dae-45af-9891-b597428905a0",
   "metadata": {},
   "source": [
    "Select 'EO:ECMWF:DAT:CAMS_EUROPE_AIR_QUALITY_FORECASTS' from the Dropdown list:"
   ]
  },
  {
   "cell_type": "code",
   "execution_count": null,
   "id": "e43705f3-32fa-49e8-ab20-0fa8bb4472be",
   "metadata": {},
   "outputs": [],
   "source": [
    "size = 2000\n",
    "dataset = requests.get(\"https://wekeo-broker-k8s.apps.mercator.dpi.wekeo.eu/databroker/datasets?size=\"+str(size))\n",
    "data = json.loads(dataset.text)\n",
    "data_df = pd.json_normalize(data['content'])\n",
    "data_df = data_df[data_df['datasetId'] == dataset_id.value]\n",
    "data_df"
   ]
  },
  {
   "cell_type": "code",
   "execution_count": null,
   "id": "c72ed999-3558-402a-b5d5-c0f19457e1d7",
   "metadata": {},
   "outputs": [],
   "source": [
    "# Get the dataset title from data_df\n",
    "title = data_df.title.values[0]\n",
    "\n",
    "# Get the description from data_df\n",
    "description = list(data_df[\"abstract\"])[0]\n",
    "\n",
    "# Get the dataset image preview and create a display\n",
    "img_url = list(data_df[\"previewImage\"])[0]\n",
    "image = IPython.display.Image(img_url, width = 500)\n",
    "image = widgets.Image(value=image.data,format=\"jpg\", width=500,height=600)"
   ]
  },
  {
   "cell_type": "code",
   "execution_count": null,
   "id": "29c72715-de91-4d15-8a67-b6767440f8fc",
   "metadata": {},
   "outputs": [],
   "source": [
    "# Create the boxes\n",
    "title_box = widgets.HTML(value='<b><font size=\"+2\">'+title+'</font></b>')\n",
    "descr_box = widgets.HTML('<details>'+description+'</details>')\n",
    "image_box = widgets.VBox([image])\n",
    "descr_box = widgets.VBox([title_box, descr_box])\n",
    "\n",
    "# Create the Layout for the dataset preview (FIX THE LAYOUT)\n",
    "ui = widgets.AppLayout(header=descr_box, center = image_box, layout=widgets.Layout(border='solid'))\n",
    "container = widgets.Box([ui])\n",
    "display(container)"
   ]
  },
  {
   "cell_type": "code",
   "execution_count": null,
   "id": "1c753c1b-d170-4e38-8550-aa5fccc71698",
   "metadata": {},
   "outputs": [],
   "source": [
    "dataset = requests.get(\"https://wekeo-broker-k8s.apps.mercator.dpi.wekeo.eu/databroker/querymetadata/\"+dataset_id.value, headers=headers)\n",
    "metadata = json.loads(dataset.text)"
   ]
  },
  {
   "cell_type": "code",
   "execution_count": null,
   "id": "425c9db9-e11c-43a0-87ab-1bece049271a",
   "metadata": {},
   "outputs": [],
   "source": [
    "display(JSON(metadata))"
   ]
  },
  {
   "cell_type": "code",
   "execution_count": null,
   "id": "8dc47a3b-1ede-4cc5-94b5-318e18b2b00e",
   "metadata": {},
   "outputs": [],
   "source": [
    "format_type_list = list(metadata['parameters']['stringChoices'][0]['details']['valuesLabels'].keys())\n",
    "params_list = list(metadata['parameters']['multiStringSelects'][0]['details']['groupedValueLabels'][0]['valuesLabels'].keys())\n",
    "product_type_list = list(metadata['parameters']['multiStringSelects'][1]['details']['groupedValueLabels'][0]['valuesLabels'].keys())\n",
    "level_list = list(metadata['parameters']['multiStringSelects'][2]['details']['groupedValueLabels'][0]['valuesLabels'].keys())\n",
    "type_list = list(metadata['parameters']['multiStringSelects'][3]['details']['groupedValueLabels'][0]['valuesLabels'].keys())\n",
    "hour_list = list(metadata['parameters']['multiStringSelects'][4]['details']['groupedValueLabels'][0]['valuesLabels'].keys())\n",
    "leadtime_list = list(metadata['parameters']['multiStringSelects'][5]['details']['groupedValueLabels'][0]['valuesLabels'].keys())"
   ]
  },
  {
   "cell_type": "code",
   "execution_count": null,
   "id": "059d0ca2-329c-4c1f-8966-2903215baf42",
   "metadata": {},
   "outputs": [],
   "source": [
    "params_sel = m.select_multiple(params_list, \"Variable:\")\n",
    "product_type_sel = m.select_multiple(product_type_list, \"Product type:\")\n",
    "level_sel = m.select_multiple(level_list, \"Level: \")\n",
    "type_sel = m.select_multiple(type_list, \"Type: \")\n",
    "hour_sel = m.select_multiple(hour_list, \"Hour: \")\n",
    "leadtime_sel = m.select_multiple(leadtime_list, \"Leadtime hour: \")\n",
    "format_type_sel = m.select_buttons(format_type_list, \"Format: \", \"netcdf\")\n",
    "start_date_sel = m.get_date_picker(\"Select start date: \")\n",
    "end_date_sel = m.get_date_picker(\"Select start end: \")"
   ]
  },
  {
   "cell_type": "code",
   "execution_count": null,
   "id": "adf3d474-8b51-4fc6-820c-adfab9d8a9fa",
   "metadata": {},
   "outputs": [],
   "source": [
    "cams_map, dc = m.draw_map(45, 10, 4)\n",
    "\n",
    "cams_map"
   ]
  },
  {
   "cell_type": "code",
   "execution_count": null,
   "id": "ff6543ce-0af3-4d1d-8d32-389f9586e86d",
   "metadata": {},
   "outputs": [],
   "source": [
    "coords = dc.last_draw['geometry']['coordinates'][0]\n",
    "W = coords[1][0]\n",
    "E = coords[3][0]\n",
    "N = coords[1][1]\n",
    "S = coords[3][1]"
   ]
  },
  {
   "cell_type": "code",
   "execution_count": null,
   "id": "ee712653-7fa9-46d8-b224-0cb814131f95",
   "metadata": {},
   "outputs": [],
   "source": [
    "start_date = metadata['parameters']['dateRangeSelects'][0]['details']['start']\n",
    "print(\"The start date for this dataset is: \"+start_date)"
   ]
  },
  {
   "cell_type": "code",
   "execution_count": null,
   "id": "741b5af0-64c0-453a-8cd1-f7488294e02d",
   "metadata": {},
   "outputs": [],
   "source": [
    "title_box = widgets.HTML('<h2>CAMS European air quality forecasts </h2>')\n",
    "variables_box = widgets.VBox([title_box, params_sel, product_type_sel, level_sel, type_sel, hour_sel, leadtime_sel, start_date_sel, end_date_sel, format_type_sel])\n",
    "image_box = widgets.VBox([image])\n",
    "\n",
    "\n",
    "ui = widgets.AppLayout(\n",
    "          left_sidebar=variables_box,\n",
    "          right_sidebar=image_box,\n",
    "          layout=widgets.Layout(border='solid'))\n",
    "\n",
    "# compute_button.on_click(compute_button_f)\n",
    "container = widgets.Box([ui])\n",
    "display(container)"
   ]
  },
  {
   "cell_type": "code",
   "execution_count": null,
   "id": "e9d1f355-a621-4329-8893-083714652b9c",
   "metadata": {},
   "outputs": [],
   "source": [
    "query = {\n",
    "      \"datasetId\": dataset_id.value,\n",
    "      \"boundingBoxValues\": [\n",
    "        {\n",
    "          \"name\": \"area\",\n",
    "          \"bbox\": [\n",
    "            W,\n",
    "            N,\n",
    "            E,\n",
    "            S\n",
    "          ]\n",
    "        }\n",
    "      ],\n",
    "      \"dateRangeSelectValues\": [\n",
    "        {\n",
    "          \"name\": \"date\",\n",
    "          \"start\": start_date_sel.value.strftime(\"%Y-%m-%dT%H:%M:%S.000Z\"),\n",
    "          \"end\": end_date_sel.value.strftime(\"%Y-%m-%dT%H:%M:%S.000Z\")\n",
    "        }\n",
    "      ],\n",
    "      \"multiStringSelectValues\": [\n",
    "        {\n",
    "          \"name\": \"variable\",\n",
    "          \"value\": list(params_sel.value)\n",
    "        },\n",
    "        {\n",
    "          \"name\": \"model\",\n",
    "          \"value\": list(product_type_sel.value)\n",
    "        },\n",
    "        {\n",
    "          \"name\": \"level\",\n",
    "          \"value\": list(level_sel.value)\n",
    "        },\n",
    "        {\n",
    "          \"name\": \"type\",\n",
    "          \"value\": list(type_sel.value)\n",
    "        },\n",
    "        {\n",
    "          \"name\": \"time\",\n",
    "          \"value\": list(hour_sel.value)\n",
    "        },\n",
    "        {\n",
    "          \"name\": \"leadtime_hour\",\n",
    "          \"value\": list(leadtime_sel.value)\n",
    "        }\n",
    "      ],\n",
    "      \"stringChoiceValues\": [\n",
    "        {\n",
    "          \"name\": \"format\",\n",
    "          \"value\": format_type_sel.value\n",
    "        }\n",
    "      ]\n",
    "    }\n",
    "      \n",
    "headers = {\n",
    "    'Content-Type': 'application/json',\n",
    "    'Accept': 'application/json',\n",
    "    'authorization': 'Basic '+str(token)}\n",
    "\n",
    "data = json.dumps(query)\n",
    "dataset_post = requests.post(\"https://wekeo-broker-k8s.apps.mercator.dpi.wekeo.eu/databroker/datarequest\", headers=headers, data=data)\n",
    "job_id = json.loads(dataset_post.text)\n",
    "print(job_id)\n",
    "jobId = job_id['jobId']\n",
    "print(\"The job ID is: \"+jobId+\". The status is: \"+job_id['status'])"
   ]
  },
  {
   "cell_type": "code",
   "execution_count": null,
   "id": "2a3a0b57-b6f5-4d04-956c-ed63636a929e",
   "metadata": {},
   "outputs": [],
   "source": [
    "headers = {'authorization': 'Basic '+str(token)}\n",
    "get_url_request = requests.get('https://wekeo-broker.apps.mercator.dpi.wekeo.eu/databroker/datarequest/jobs/'+jobId+'/result', headers=headers)\n",
    "get_url = json.loads(get_url_request.text)\n",
    "print(get_url)\n",
    "url = get_url['content'][0]['url']\n",
    "print('The URL for download is: '+ get_url['content'][0]['url'])"
   ]
  },
  {
   "cell_type": "code",
   "execution_count": null,
   "id": "c5ff655e-0864-4edd-94fd-23d5cb55514b",
   "metadata": {},
   "outputs": [],
   "source": [
    "download_list = [\"Download NETCDF\", \"Read NETCDF in memory\"] #Choice - Download data or just read\n",
    "download_sel = m.select_buttons(download_list, \"Data download: \", \"Read NETCDF in memory\")\n",
    "download_sel"
   ]
  },
  {
   "cell_type": "code",
   "execution_count": null,
   "id": "9c108143-0ac6-478d-a794-88543a4ec14c",
   "metadata": {},
   "outputs": [],
   "source": [
    "ds = m.download_type(download_sel, download_list, get_url)"
   ]
  },
  {
   "cell_type": "code",
   "execution_count": null,
   "id": "cf76edc0-66df-4641-b5fc-392af9f75dc3",
   "metadata": {},
   "outputs": [],
   "source": [
    "ds = ds.sortby('longitude')"
   ]
  },
  {
   "cell_type": "code",
   "execution_count": null,
   "id": "2544b9ba-5774-4b95-a112-63cc5dcbdc3e",
   "metadata": {},
   "outputs": [],
   "source": [
    "variables = list(ds.keys())\n",
    "var_drop = m.get_dropdown(variables, \"Variable: \")\n",
    "var_drop"
   ]
  },
  {
   "cell_type": "code",
   "execution_count": null,
   "id": "d0e442b0-f76c-4ab4-931c-54e16fc881a9",
   "metadata": {},
   "outputs": [],
   "source": [
    "ds_data = ds[var_drop.value]\n",
    "ds_data"
   ]
  },
  {
   "cell_type": "code",
   "execution_count": null,
   "id": "be94af6c-a449-42cf-ad75-7d7a7428e96b",
   "metadata": {},
   "outputs": [],
   "source": [
    "f = plt.figure(figsize=(15,10))\n",
    "p = ds_data.isel(time=0).plot(  #change time\n",
    "subplot_kws=dict(projection=ccrs.PlateCarree(), facecolor=\"gray\"),\n",
    "transform=ccrs.PlateCarree())\n",
    "p.axes.set_global()\n",
    "p.axes.coastlines()\n",
    "p.axes.gridlines(color='black', alpha=0.5, linestyle='--')\n",
    "p.axes.set_extent([W,E,S,N], ccrs.PlateCarree())\n",
    "\n",
    "# draw parallels/meridiens and write labels\n",
    "gl = p.axes.gridlines(crs=ccrs.PlateCarree(), draw_labels=True,\n",
    "                      linewidth=2, color='gray', alpha=0.5, linestyle='--')\n",
    "\n",
    "# adjust labels to taste\n",
    "gl.xlabels_top = False\n",
    "gl.ylabels_right = False\n",
    "gl.ylocator = mticker.AutoLocator()\n",
    "gl.xformatter = LONGITUDE_FORMATTER\n",
    "gl.yformatter = LATITUDE_FORMATTER\n",
    "gl.xlabel_style = {'size': 18, 'color': 'black'}\n",
    "gl.ylabel_style = {'size': 18, 'color': 'black'}"
   ]
  },
  {
   "cell_type": "markdown",
   "id": "2613ba4a-6194-43dc-85e1-c162db9f32cc",
   "metadata": {},
   "source": [
    "----"
   ]
  },
  {
   "cell_type": "markdown",
   "id": "0ad547e1-b6b9-4fd5-9540-a06dcad7dc61",
   "metadata": {
    "tags": []
   },
   "source": [
    "<div class=\"alert alert-info\" role=\"alert\">\n",
    "\n",
    "## <a id='section3'></a>3. Section 3 - CEMS - EFAS Historical\n",
    "[Back to top](#TOC_TOP)\n",
    "\n",
    "</div>"
   ]
  },
  {
   "cell_type": "code",
   "execution_count": null,
   "id": "cf7f074e-3a36-4af9-a039-8a6eb76ab85f",
   "metadata": {},
   "outputs": [],
   "source": [
    "dataset_id = m.get_dropdown(ds_list, \"List of datasets: \")\n",
    "dataset_id"
   ]
  },
  {
   "cell_type": "code",
   "execution_count": null,
   "id": "83a157ba-316d-4fa8-91ce-4924bb332e7f",
   "metadata": {},
   "outputs": [],
   "source": [
    "data_df = m.get_data_from_name_request(2000, dataset_id.value)\n",
    "dataset = data_df[data_df['datasetId'] == dataset_id.value]"
   ]
  },
  {
   "cell_type": "code",
   "execution_count": null,
   "id": "ab99db67-8655-4e27-9596-751bcd42aace",
   "metadata": {},
   "outputs": [],
   "source": [
    "title = dataset.title.values[0]\n",
    "description = m.get_description(data_df, dataset_id)\n",
    "image = m.display_image(data_df, dataset_id, 500, \"jpg\", 600 )\n",
    "metadata = m.get_metadata(dataset_id, headers)"
   ]
  },
  {
   "cell_type": "code",
   "execution_count": null,
   "id": "9e424b38-5344-42e1-b91d-ea922ee622a8",
   "metadata": {},
   "outputs": [],
   "source": [
    "title_box = widgets.HTML(value='<b><font size=\"+2\">'+title+'</font></b>')\n",
    "descr_box = widgets.HTML('<details>'+description+'</details>')\n",
    "image_box = widgets.VBox([image])\n",
    "descr_box = widgets.VBox([title_box, descr])\n",
    "\n",
    "\n",
    "ui = widgets.AppLayout(header=descr_box,\n",
    "          center = image_box,\n",
    "          layout=widgets.Layout(border='solid'))\n",
    "\n",
    "# compute_button.on_click(compute_button_f)\n",
    "container = widgets.Box([ui])\n",
    "display(container)"
   ]
  },
  {
   "cell_type": "code",
   "execution_count": null,
   "id": "6f957d76-df9d-4696-aac0-0daf3f0e0387",
   "metadata": {},
   "outputs": [],
   "source": [
    "display(JSON(metadata))"
   ]
  },
  {
   "cell_type": "code",
   "execution_count": null,
   "id": "97b06752-a29f-4038-a0be-855e17411a32",
   "metadata": {},
   "outputs": [],
   "source": [
    "variable_list = list(metadata['parameters']['multiStringSelects'][0]['details']['groupedValueLabels'][0]['valuesLabels'].keys())\n",
    "soil_level_list = list(metadata['parameters']['multiStringSelects'][1]['details']['groupedValueLabels'][0]['valuesLabels'].keys())\n",
    "year_list = list(metadata['parameters']['multiStringSelects'][2]['details']['groupedValueLabels'][0]['valuesLabels'].keys())\n",
    "month_list = list(metadata['parameters']['multiStringSelects'][3]['details']['groupedValueLabels'][0]['valuesLabels'].keys())\n",
    "day_list = list(metadata['parameters']['multiStringSelects'][4]['details']['groupedValueLabels'][0]['valuesLabels'].keys())\n",
    "time_list = list(metadata['parameters']['multiStringSelects'][5]['details']['groupedValueLabels'][0]['valuesLabels'].keys())\n",
    "system_version_list = list(metadata['parameters']['stringChoices'][0]['details']['valuesLabels'].keys())\n",
    "model_levels_list = list(metadata['parameters']['stringChoices'][1]['details']['valuesLabels'].keys())\n",
    "formats_list = list(metadata['parameters']['stringChoices'][2]['details']['valuesLabels'].keys())\n",
    "download_list = [\"Download NETCDF\"]"
   ]
  },
  {
   "cell_type": "code",
   "execution_count": null,
   "id": "d75019fb-5a45-4ffe-ac70-4f6cf3aa925e",
   "metadata": {},
   "outputs": [],
   "source": [
    "formats = m.select_buttons(formats_list, \"Choose format: \", formats_list[1]) \n",
    "system_version_sel = m.select_buttons(system_version_list, \"System version:\", system_version_list[-1])\n",
    "model_levels_sel = m.select_buttons(model_levels_list, \"Hydrological Model:\", model_levels_list[-1])\n",
    "variable_sel = m.select_multiple(variable_list, \"Variable:\")\n",
    "year_sel = m.select_multiple(year_list, \"Year:\")\n",
    "month_sel = m.select_multiple(month_list, \"Month:\")\n",
    "day_sel = m.select_multiple(day_list, \"Day:\")\n",
    "time_sel = m.select_multiple(time_list, \"Time:\")\n",
    "soil_level_sel = m.select_multiple(soil_level_list, \"Soil level:\")\n",
    "download_sel = m.select_buttons(download_list, \"Data download: \", \"Download NETCDF\")"
   ]
  },
  {
   "cell_type": "code",
   "execution_count": null,
   "id": "10ccd938-85b2-4418-b8e4-a9863ebaae56",
   "metadata": {},
   "outputs": [],
   "source": [
    "title_box = widgets.HTML(value='<h2 style=\"text-align:center;\">'+title+'</h2><hr>')\n",
    "variables = widgets.VBox([title_box, system_version_sel, variable_sel, model_levels_sel, year_sel, month_sel, day_sel, time_sel, soil_level_sel, formats, download_sel])\n",
    "image_box = widgets.VBox([image])\n",
    "\n",
    "ui = widgets.AppLayout(\n",
    "          left_sidebar=variables,\n",
    "          right_sidebar=image_box,\n",
    "          layout=widgets.Layout(border='solid'))\n",
    "\n",
    "# compute_button.on_click(compute_button_f)\n",
    "container = widgets.Box([ui])\n",
    "display(container)"
   ]
  },
  {
   "cell_type": "code",
   "execution_count": null,
   "id": "2eefc600-faa6-422b-a3ff-609f599c0f71",
   "metadata": {},
   "outputs": [],
   "source": [
    "# 02 may 2021 00:00 6hour discharge. works"
   ]
  },
  {
   "cell_type": "code",
   "execution_count": null,
   "id": "f58ca0fd-4c6f-4ba5-ad18-438e5032db8a",
   "metadata": {},
   "outputs": [],
   "source": [
    "job = m.api_query_efas_historical(dataset_id, variable_sel, model_levels_sel, system_version_sel, year_sel, month_sel, day_sel, time_sel, soil_level_sel, formats, token)"
   ]
  },
  {
   "cell_type": "code",
   "execution_count": null,
   "id": "f47ec816-269e-490a-993b-262a5b007e2c",
   "metadata": {},
   "outputs": [],
   "source": [
    "jobId = job['jobId']\n",
    "print(\"The job ID is: \"+jobId)"
   ]
  },
  {
   "cell_type": "code",
   "execution_count": null,
   "id": "8d81a1f1-58c7-4933-b6ad-a637e7ec1ca3",
   "metadata": {},
   "outputs": [],
   "source": [
    "get_url= m.request_data(jobId, token)"
   ]
  },
  {
   "cell_type": "code",
   "execution_count": null,
   "id": "7f781930-b3ce-4fc4-a661-e7d02b354e19",
   "metadata": {},
   "outputs": [],
   "source": [
    "ds = m.download_type(download_sel, download_list, get_url)"
   ]
  },
  {
   "cell_type": "code",
   "execution_count": null,
   "id": "bf82c4d9-0ea6-4be4-ad82-0fbb1c5c3dd0",
   "metadata": {},
   "outputs": [],
   "source": [
    "ds"
   ]
  },
  {
   "cell_type": "code",
   "execution_count": null,
   "id": "636f4b59-0b17-45e0-a245-89df87df126b",
   "metadata": {},
   "outputs": [],
   "source": [
    "variables = list(ds.keys())\n",
    "var_drop = m.get_dropdown(variables, \"Variable: \")\n",
    "var_drop"
   ]
  },
  {
   "cell_type": "code",
   "execution_count": null,
   "id": "500d0644-2d3b-49b1-ba8e-ca31bb38997a",
   "metadata": {},
   "outputs": [],
   "source": [
    "ds_data = ds[var_drop.value].squeeze()"
   ]
  },
  {
   "cell_type": "code",
   "execution_count": null,
   "id": "c64b86e3-49ac-46b3-b4bf-fdb75dfe1e59",
   "metadata": {},
   "outputs": [],
   "source": [
    "hv_dataset = hv.Dataset(ds_data)\n",
    "hv_dataset.data"
   ]
  },
  {
   "cell_type": "code",
   "execution_count": null,
   "id": "17ce34d4-7379-4899-a188-f884cbc2f5b5",
   "metadata": {},
   "outputs": [],
   "source": [
    "ds.hvplot.quadmesh(\n",
    "    'longitude', 'latitude', var_drop.value, projection=ccrs.Orthographic(7, 30),\n",
    "    global_extent=True, frame_height=540, cmap='viridis',\n",
    "    coastline=True\n",
    ")"
   ]
  },
  {
   "cell_type": "code",
   "execution_count": null,
   "id": "554e2080-dd18-4a90-9d80-28e71b408725",
   "metadata": {},
   "outputs": [],
   "source": [
    "ds.hvplot.quadmesh(\n",
    "    'longitude', 'latitude', var_drop.value, crs=ccrs.PlateCarree(), projection=ccrs.PlateCarree(),\n",
    "    global_extent=True, frame_height=400, cmap='viridis',\n",
    "    coastline=True\n",
    ")"
   ]
  },
  {
   "cell_type": "markdown",
   "id": "bbb7b6e9-38a4-4fb7-9fbc-11592ff87420",
   "metadata": {},
   "source": [
    "----"
   ]
  },
  {
   "cell_type": "markdown",
   "id": "55d59dec-ebd3-4025-b6f7-16f84873e076",
   "metadata": {
    "tags": []
   },
   "source": [
    "<div class=\"alert alert-info\" role=\"alert\">\n",
    "\n",
    "## <a id='section4'></a>4. Section 4 - CMEMS - Analysis/Forecast Sea Bottom Temperature\n",
    "[Back to top](#TOC_TOP)\n",
    "\n",
    "</div>"
   ]
  },
  {
   "cell_type": "code",
   "execution_count": null,
   "id": "923e19e0-585f-42bf-a6a7-523ef5d31087",
   "metadata": {},
   "outputs": [],
   "source": [
    "dataset_id = m.get_dropdown(ds_list, \"List of datasets: \")\n",
    "dataset_id"
   ]
  },
  {
   "cell_type": "code",
   "execution_count": null,
   "id": "d3bc21d0-cc68-4439-839d-2b7df13c5307",
   "metadata": {},
   "outputs": [],
   "source": [
    "data_df = m.get_data_from_name_request(2000, dataset_id.value)\n",
    "dataset = data_df[data_df['datasetId'] == dataset_id.value]"
   ]
  },
  {
   "cell_type": "code",
   "execution_count": null,
   "id": "8574b77c-acf4-4434-af34-44b94447dd77",
   "metadata": {},
   "outputs": [],
   "source": [
    "title = dataset.title.values[0]\n",
    "description = m.get_description(data_df, dataset_id)\n",
    "image = m.display_image(data_df, dataset_id, 500, \"jpg\", 600 )\n",
    "metadata = m.get_metadata(dataset_id, headers)"
   ]
  },
  {
   "cell_type": "code",
   "execution_count": null,
   "id": "cfbcb092-a6bc-411c-adbd-1a509e071c11",
   "metadata": {},
   "outputs": [],
   "source": [
    "title_box = widgets.HTML(value='<b><font size=\"+2\">'+title+'</font></b>')\n",
    "descr = widgets.HTML('<details>'+description+'</details>')\n",
    "image_box = widgets.VBox([image])\n",
    "descr_box = widgets.VBox([title_box, descr])\n",
    "\n",
    "\n",
    "ui = widgets.AppLayout(header=descr_box,\n",
    "          center = image_box,\n",
    "          layout=widgets.Layout(border='solid'))\n",
    "\n",
    "# compute_button.on_click(compute_button_f)\n",
    "container = widgets.Box([ui])\n",
    "display(container)"
   ]
  },
  {
   "cell_type": "code",
   "execution_count": null,
   "id": "cb2d470d-4a8b-43fb-a94e-47df39b42fe8",
   "metadata": {},
   "outputs": [],
   "source": [
    "display(JSON(metadata))"
   ]
  },
  {
   "cell_type": "code",
   "execution_count": null,
   "id": "f9b75912-4ed1-45a9-b34e-9cfd73fd9fcd",
   "metadata": {},
   "outputs": [],
   "source": [
    "variable_list = list(metadata['parameters']['multiStringSelects'][0]['details']['groupedValueLabels'][0]['valuesLabels'].keys())\n",
    "download_list = [\"Download NETCDF\"]"
   ]
  },
  {
   "cell_type": "code",
   "execution_count": null,
   "id": "f73cef75-014d-4852-9d85-5e731a109bbc",
   "metadata": {},
   "outputs": [],
   "source": [
    "start_date_sel = m.get_date_picker(\"Select start date: \")\n",
    "end_date_sel = m.get_date_picker(\"Select end date: \")\n",
    "download_sel = m.select_buttons(download_list, \"Data download: \", \"Download NETCDF\")"
   ]
  },
  {
   "cell_type": "code",
   "execution_count": null,
   "id": "c62c1430-b164-46eb-810d-cc0c873aa5c9",
   "metadata": {},
   "outputs": [],
   "source": [
    "end = metadata['parameters']['dateRangeSelects'][0]['details']['end']\n",
    "start = metadata['parameters']['dateRangeSelects'][0]['details']['start']\n",
    "print(\"The start date is \"+start+\". The end date is \"+end)"
   ]
  },
  {
   "cell_type": "code",
   "execution_count": null,
   "id": "2fce4cb3-5feb-4587-8385-d0093b26adb2",
   "metadata": {},
   "outputs": [],
   "source": [
    "cams_map, dc = m.draw_map(50, -10, 4)\n",
    "\n",
    "cams_map"
   ]
  },
  {
   "cell_type": "code",
   "execution_count": null,
   "id": "e3d50cca-9e74-408c-80e4-55d62f7e5604",
   "metadata": {},
   "outputs": [],
   "source": [
    "coords = dc.last_draw['geometry']['coordinates'][0]\n",
    "W = coords[1][0]\n",
    "E = coords[3][0]\n",
    "N = coords[1][1]\n",
    "S = coords[3][1]"
   ]
  },
  {
   "cell_type": "code",
   "execution_count": null,
   "id": "a391eddd-d4ea-420b-9c5d-566973a8a096",
   "metadata": {},
   "outputs": [],
   "source": [
    "tit= widgets.HTML(value='<h2 style=\"text-align:center;\">'+title+'</h2>')\n",
    "variables = widgets.VBox([tit, start_date_sel, end_date_sel, download_sel])\n",
    "image_box = widgets.VBox([image])\n",
    "\n",
    "\n",
    "ui = widgets.AppLayout(\n",
    "          left_sidebar=variables,\n",
    "          right_sidebar=image_box,\n",
    "          layout=widgets.Layout(border='solid'))\n",
    "\n",
    "# compute_button.on_click(compute_button_f)\n",
    "container = widgets.Box([ui])\n",
    "display(container)"
   ]
  },
  {
   "cell_type": "code",
   "execution_count": null,
   "id": "fb4f4650-d8f9-4d38-98d2-f222b826323b",
   "metadata": {},
   "outputs": [],
   "source": [
    "job = m.api_query_sea_floor_temperature(dataset_id, start_date_sel, end_date_sel, W, S, E, N, token)"
   ]
  },
  {
   "cell_type": "code",
   "execution_count": null,
   "id": "4302af2f-a05f-4350-ab11-546f23ad421c",
   "metadata": {},
   "outputs": [],
   "source": [
    "jobId = job['jobId']\n",
    "print(\"The job ID is: \"+jobId)"
   ]
  },
  {
   "cell_type": "code",
   "execution_count": null,
   "id": "47d933a3-7709-43f9-a960-02cea2d6f6e0",
   "metadata": {},
   "outputs": [],
   "source": [
    "get_url= m.request_data(jobId, token)"
   ]
  },
  {
   "cell_type": "code",
   "execution_count": null,
   "id": "b08595ef-4111-43b4-b24b-34a7f845af9f",
   "metadata": {},
   "outputs": [],
   "source": [
    "order = m.data_order(jobId, get_url, token)\n",
    "order"
   ]
  },
  {
   "cell_type": "code",
   "execution_count": null,
   "id": "4be0e78b-7ef5-46b8-bd5b-8656f3709920",
   "metadata": {},
   "outputs": [],
   "source": [
    "headers = {\n",
    "    'Accept': 'application/x-netcdf'}\n",
    "response_order = requests.get(\"https://wekeo-broker-k8s.apps.mercator.dpi.wekeo.eu/databroker/dataorder/download/\"+order, headers=headers)\n",
    "\n",
    "file = open(\"bottomT.nc\", \"wb\")\n",
    "file.write(response_order.content)\n",
    "file.close()"
   ]
  },
  {
   "cell_type": "code",
   "execution_count": null,
   "id": "64ef9383-bcc1-45bc-b64e-d502b2103544",
   "metadata": {},
   "outputs": [],
   "source": [
    "ds = xr.open_dataset('bottomT.nc')\n",
    "ds"
   ]
  },
  {
   "cell_type": "code",
   "execution_count": null,
   "id": "ae5a538d-e75a-48c2-a8b7-938daa28c371",
   "metadata": {},
   "outputs": [],
   "source": [
    "variables = list(ds.keys())\n",
    "var_drop = m.get_dropdown(variables, \"Variable: \")\n",
    "var_drop"
   ]
  },
  {
   "cell_type": "code",
   "execution_count": null,
   "id": "113779ce-1f81-4203-b154-f869cec961ea",
   "metadata": {},
   "outputs": [],
   "source": [
    "dates = ds.time.values.astype('datetime64[s]').tolist()\n",
    "date_drop = m.get_dropdown(dates, \"Variable: \")\n",
    "date_drop"
   ]
  },
  {
   "cell_type": "code",
   "execution_count": null,
   "id": "c21e8256-4ee8-40ea-a21f-543b97683182",
   "metadata": {},
   "outputs": [],
   "source": [
    "ds_data = ds[var_drop.value].sel(time=date_drop.value).squeeze()"
   ]
  },
  {
   "cell_type": "code",
   "execution_count": null,
   "id": "97c2edc6-1f5b-4173-87ef-a4a2d4ca0607",
   "metadata": {},
   "outputs": [],
   "source": [
    "hv_dataset = hv.Dataset(ds_data)\n",
    "hv_dataset.data"
   ]
  },
  {
   "cell_type": "code",
   "execution_count": null,
   "id": "117f9d8b-c479-4083-8a92-34bdde0b65d9",
   "metadata": {},
   "outputs": [],
   "source": [
    "map_height=400\n",
    "map_width=800\n",
    "\n",
    "hv_tiles_osm = hv.element.tiles.OSM()\n",
    "\n",
    "hv.opts.defaults(\n",
    "  hv.opts.Image(alpha=0.7,\n",
    "                height=map_height, width=map_width, \n",
    "                colorbar=True, \n",
    "                tools=['hover'], active_tools=['wheel_zoom'],\n",
    "                title=ds_data.long_name+\" [\"+ds_data.units+\"]\"),\n",
    "  hv.opts.Tiles(active_tools=['wheel_zoom'], height=map_height, width=map_width)\n",
    ")\n",
    "\n",
    "hv_image_basic = hv.Image(hv_dataset)\n",
    "hv_image_basic = hv_image_basic.options(cmap='inferno')\n",
    "\n",
    "ds = ds_data.rio.write_crs('EPSG:4326')\n",
    "ds_mercator = ds.rio.reproject('EPSG:3857')\n",
    "\n",
    "hv_dataset = hv.Dataset(ds_mercator)\n",
    "hv_image_basic = hv.Image(hv_dataset)\n",
    "hv_image_basic = hv_image_basic.options(cmap='inferno')\n",
    "\n",
    "hv.element.tiles.OSM() * hv_image_basic"
   ]
  },
  {
   "cell_type": "markdown",
   "id": "d09b908b-7814-48bd-b0bd-65f10b3b766e",
   "metadata": {},
   "source": [
    "---"
   ]
  },
  {
   "cell_type": "markdown",
   "id": "0752e3b5-8f87-44ca-ae84-2465d254ea6b",
   "metadata": {
    "jp-MarkdownHeadingCollapsed": true,
    "tags": []
   },
   "source": [
    "# 5 - LAND - Corine (can't download data)"
   ]
  },
  {
   "cell_type": "code",
   "execution_count": null,
   "id": "aca4f862-1432-456a-a3ee-caa30e7b651a",
   "metadata": {},
   "outputs": [],
   "source": [
    "name = m.text_widget(\"Insert data name: \")\n",
    "name #corine"
   ]
  },
  {
   "cell_type": "code",
   "execution_count": null,
   "id": "e1f50cf6-88b5-4238-acb9-af71ee0391ee",
   "metadata": {},
   "outputs": [],
   "source": [
    "data_df = m.get_data_from_name_request(2000, name.value)\n",
    "dataset_list = data_df[\"datasetId\"]\n",
    "dataset_id = m.get_dropdown(dataset_list, \"List of datasets: \")\n",
    "dataset_id"
   ]
  },
  {
   "cell_type": "code",
   "execution_count": null,
   "id": "9a9f590a-5daa-4fe1-9d61-49ac53d194cf",
   "metadata": {},
   "outputs": [],
   "source": [
    "description = m.get_description(data_df, dataset_id)"
   ]
  },
  {
   "cell_type": "code",
   "execution_count": null,
   "id": "ff9e961c-9d22-40dd-a028-af42bb08810e",
   "metadata": {},
   "outputs": [],
   "source": [
    "image = m.display_image(data_df, dataset_id, 500, \"jpg\", 600 )\n",
    "image"
   ]
  },
  {
   "cell_type": "code",
   "execution_count": null,
   "id": "3e3a650b-063d-4fb2-aae4-a9bb8c2fdeff",
   "metadata": {},
   "outputs": [],
   "source": [
    "metadata = m.get_metadata(dataset_id, headers)"
   ]
  },
  {
   "cell_type": "code",
   "execution_count": null,
   "id": "e81bd8e7-7c63-491e-8c9b-59a0fb8feefe",
   "metadata": {},
   "outputs": [],
   "source": [
    "formats_list = list(metadata['parameters']['stringChoices'][1]['details']['valuesLabels'].keys())\n",
    "dataset_list = list(metadata['parameters']['stringChoices'][0]['details']['valuesLabels'].keys())"
   ]
  },
  {
   "cell_type": "code",
   "execution_count": null,
   "id": "e02dc9b7-c13a-4828-a722-a1cec0d86f67",
   "metadata": {},
   "outputs": [],
   "source": [
    "formats = m.select_buttons(formats_list, \"Choose format: \", formats_list[1]) \n",
    "dataset_name = m.get_dropdown(dataset_list, \"Choose dataset: \")"
   ]
  },
  {
   "cell_type": "code",
   "execution_count": null,
   "id": "de6fcc8e-6139-4856-8f3b-b594930f3d12",
   "metadata": {},
   "outputs": [],
   "source": [
    "title= widgets.HTML('<h2 style=\"text-align:center;\">Corine Land Cover</h2><hr><h3 style=\"padding: 10px;\">Input variables - Multiple selection</h3>')\n",
    "title2 = widgets.HTML('<details><h3>'+str(description[0])+'</div><h3></details>')\n",
    "variables = widgets.VBox([title, dataset_name, formats])\n",
    "image_box = widgets.VBox([image])\n",
    "\n",
    "ui = widgets.AppLayout(header=title2,\n",
    "          left_sidebar=variables,\n",
    "          right_sidebar=image_box,\n",
    "          layout=widgets.Layout(border='solid'))\n",
    "\n",
    "# compute_button.on_click(compute_button_f)\n",
    "container = widgets.Box([ui])\n",
    "display(container)"
   ]
  },
  {
   "cell_type": "code",
   "execution_count": null,
   "id": "574dd09f-8a1c-4a38-ac95-324feb3cf848",
   "metadata": {},
   "outputs": [],
   "source": [
    "%load_ext autoreload\n",
    "%autoreload 2\n",
    "import WEkEO_methods as m"
   ]
  },
  {
   "cell_type": "code",
   "execution_count": null,
   "id": "e9350cb8-ad82-4080-b887-7a3e29640197",
   "metadata": {},
   "outputs": [],
   "source": [
    "job = m.api_query_corine(dataset_id, dataset_name, formats, token)"
   ]
  },
  {
   "cell_type": "code",
   "execution_count": null,
   "id": "f31392b8-cd79-4e78-8b22-0cb94351d23a",
   "metadata": {},
   "outputs": [],
   "source": [
    "jobId = job['jobId']\n",
    "print(\"The job ID is: \"+jobId)"
   ]
  },
  {
   "cell_type": "code",
   "execution_count": null,
   "id": "f77f5637-a30d-42f1-9cb8-d2f20ac5c553",
   "metadata": {},
   "outputs": [],
   "source": [
    "get_url = m.request_data(jobId, token)"
   ]
  },
  {
   "cell_type": "code",
   "execution_count": null,
   "id": "5733feb4-fb50-485b-9b54-0116f3546c5d",
   "metadata": {},
   "outputs": [],
   "source": [
    "get_url"
   ]
  },
  {
   "cell_type": "code",
   "execution_count": null,
   "id": "717ae3bb-9646-482d-9116-d2ffd59f3915",
   "metadata": {},
   "outputs": [],
   "source": [
    "order = m.data_order(jobId, get_url, token)\n",
    "order"
   ]
  },
  {
   "cell_type": "code",
   "execution_count": null,
   "id": "06ba64ac-75bb-4867-9d7e-3b5b2a522bb0",
   "metadata": {},
   "outputs": [],
   "source": [
    "# headers = {\n",
    "#     'Content-Type': 'application/json',\n",
    "#     'Accept': 'application/json',\n",
    "#     'authorization': 'Basic '+str(token)}\n",
    "# dataset = requests.get(\"https://wekeo-broker-k8s.apps.mercator.dpi.wekeo.eu/databroker/dataorder?status=completed\", headers=headers)\n",
    "# dataset"
   ]
  },
  {
   "cell_type": "code",
   "execution_count": null,
   "id": "08b9ed36-2493-4116-93b9-0a82aa5340fe",
   "metadata": {},
   "outputs": [],
   "source": [
    "headers = {\n",
    "    'Accept': 'application/zip'}\n",
    "response_order = requests.get(\"https://wekeo-broker-k8s.apps.mercator.dpi.wekeo.eu/databroker/dataorder/download/\"+order, headers=headers)\n"
   ]
  },
  {
   "cell_type": "code",
   "execution_count": null,
   "id": "bda9a481-194e-4f3f-b46f-dcd19d807c84",
   "metadata": {},
   "outputs": [],
   "source": [
    "import pathlib\n",
    "import zipfile\n",
    "import io \n",
    "downloaded_file = pathlib.Path.cwd() / \"output.zip\"\n",
    "\n",
    "zipfile.ZipFile(downloaded_file.write_bytes(response_order.content),mode='w')"
   ]
  },
  {
   "cell_type": "code",
   "execution_count": null,
   "id": "f6e5ee97-7703-4c60-9035-f52f9bcb125d",
   "metadata": {},
   "outputs": [],
   "source": [
    "import zipfile, io, os\n",
    "\n",
    "with open('test.zip', 'wb') as out_file:\n",
    "    zipfile.ZipFile(io.BytesIO(response_order.content), mode='w')"
   ]
  },
  {
   "cell_type": "code",
   "execution_count": null,
   "id": "0a29a9d5-7ae4-4fdd-9842-947de164921f",
   "metadata": {},
   "outputs": [],
   "source": [
    "zipfile.ZipFile(io.BytesIO(response_order.content), mode='w')"
   ]
  },
  {
   "cell_type": "code",
   "execution_count": null,
   "id": "c5cee8fc-4cfb-4486-a203-fb1e8d68cc8b",
   "metadata": {},
   "outputs": [],
   "source": [
    "zip_filename = \"test.zip\"\n",
    "with open(zip_filename, 'wb') as zfile:\n",
    "    zfile.write(response_order.content)"
   ]
  },
  {
   "cell_type": "markdown",
   "id": "d0db3f1d-58a2-43bd-ac83-73bd5fee2ec2",
   "metadata": {},
   "source": [
    "EEA credentials not available"
   ]
  },
  {
   "cell_type": "markdown",
   "id": "ec6c99ab-8302-4ba3-8658-4c10eb29e0aa",
   "metadata": {},
   "source": [
    "----"
   ]
  },
  {
   "cell_type": "markdown",
   "id": "21dcccea-9633-4da7-bddb-0b5161b8f28a",
   "metadata": {},
   "source": [
    "## Datasets exploration"
   ]
  },
  {
   "cell_type": "code",
   "execution_count": null,
   "id": "6e2fe80d-9cc6-4596-884c-4033319183a9",
   "metadata": {},
   "outputs": [],
   "source": [
    "dataset = requests.get(\"https://wekeo-broker-k8s.apps.mercator.dpi.wekeo.eu/databroker/datasets?size=2000\")\n",
    "dataset_text = dataset.text\n",
    "data = json.loads(dataset_text)"
   ]
  },
  {
   "cell_type": "markdown",
   "id": "8838bc37-6977-4b22-9edb-b06fad2c3139",
   "metadata": {},
   "source": [
    "Dataframe containing all the datasets available on WEkEO, with an abstract, a preview image and a title:"
   ]
  },
  {
   "cell_type": "code",
   "execution_count": null,
   "id": "0c55fc41-ac90-4475-b8d8-9979f2afd709",
   "metadata": {},
   "outputs": [],
   "source": [
    "# from JSON to Pandas DataFrame\n",
    "data_df = pd.json_normalize(data['content'])\n",
    "data_df"
   ]
  },
  {
   "cell_type": "markdown",
   "id": "92f120ed-5764-48ec-97e7-f207be1dcb70",
   "metadata": {},
   "source": [
    "Select the dataset id with a dropdown:"
   ]
  },
  {
   "cell_type": "code",
   "execution_count": null,
   "id": "58cb28eb-d751-42aa-bf3c-39c3f2a9f108",
   "metadata": {},
   "outputs": [],
   "source": [
    "dataset_list = data_df['datasetId']\n",
    "\n",
    "datasetId_drop = widgets.Dropdown(\n",
    "    options=list(dataset_list),\n",
    "    description='Dataset ID:',\n",
    "    disabled=False)\n",
    "\n",
    "datasetId_drop"
   ]
  },
  {
   "cell_type": "code",
   "execution_count": null,
   "id": "5e8b49b0-3bd7-4920-96ae-5bf3773a64c6",
   "metadata": {},
   "outputs": [],
   "source": [
    "datasetId_drop.value"
   ]
  },
  {
   "cell_type": "markdown",
   "id": "110a0bdb-4012-44e1-9e54-c81e2c50a18f",
   "metadata": {},
   "source": [
    "Read abstract corresponding to the dataset ID selected:"
   ]
  },
  {
   "cell_type": "code",
   "execution_count": null,
   "id": "61e6a699-52d7-4a25-94a6-15da466d30fa",
   "metadata": {},
   "outputs": [],
   "source": [
    "abstract = data_df.loc[data_df['datasetId'] == str(datasetId_drop.value)]"
   ]
  },
  {
   "cell_type": "code",
   "execution_count": null,
   "id": "a406287d-142e-4cc2-b0c5-4472285e4bd1",
   "metadata": {},
   "outputs": [],
   "source": [
    "print(list(abstract[\"abstract\"]))"
   ]
  },
  {
   "cell_type": "markdown",
   "id": "fb8acec0-8c3a-4e3b-9095-5f1852df8e58",
   "metadata": {},
   "source": [
    "Plot a preview image of the selected dataset:"
   ]
  },
  {
   "cell_type": "code",
   "execution_count": null,
   "id": "44ead7d2-8804-47e7-bef9-87701e0fcd15",
   "metadata": {},
   "outputs": [],
   "source": [
    "img_url = list(abstract[\"previewImage\"])[0]\n",
    "im = Image.open(requests.get(img_url, stream=True).raw)\n",
    "plt.imshow(im)"
   ]
  },
  {
   "cell_type": "markdown",
   "id": "c4273a19-7225-4c12-8bd2-eb2eddacc479",
   "metadata": {},
   "source": [
    "Request dataset metadata:"
   ]
  },
  {
   "cell_type": "code",
   "execution_count": null,
   "id": "25095670-a0d3-4d6e-9537-adc8f97e6680",
   "metadata": {},
   "outputs": [],
   "source": [
    "dataset = requests.get(\"https://wekeo-broker.apps.mercator.dpi.wekeo.eu/databroker/querymetadata/\"+str(datasetId_drop.value), headers=headers)\n",
    "dataset_text = dataset.text\n",
    "dataset = json.loads(dataset_text)"
   ]
  },
  {
   "cell_type": "code",
   "execution_count": null,
   "id": "49f975f1-b3fc-42ee-a437-b25ca20f05fa",
   "metadata": {},
   "outputs": [],
   "source": [
    "dataset"
   ]
  },
  {
   "cell_type": "markdown",
   "id": "f2dff959-a78f-4d79-b506-482bb4c69725",
   "metadata": {},
   "source": [
    "Select dataset category:"
   ]
  },
  {
   "cell_type": "code",
   "execution_count": null,
   "id": "837224fc-2461-4104-a867-9df7d4f0f5c4",
   "metadata": {},
   "outputs": [],
   "source": [
    "category = dataset['parameters']['multiStringSelects'][0]['details']['groupedValueLabels']\n",
    "category_list = []\n",
    "for item in category:\n",
    "     category_list.append(item[\"label\"])\n",
    "\n",
    "category_drop = widgets.Dropdown(\n",
    "    options=category_list,\n",
    "    description='Category:',\n",
    "    disabled=False)\n",
    "\n",
    "category_drop"
   ]
  },
  {
   "cell_type": "code",
   "execution_count": null,
   "id": "2725d549-5ef1-4170-af51-3eb89e5810f5",
   "metadata": {},
   "outputs": [],
   "source": [
    "category_list\n",
    "category_n = list(range(len(category_list)))"
   ]
  },
  {
   "cell_type": "code",
   "execution_count": null,
   "id": "fd62ae82-4d84-4748-ab4d-7dce13d87101",
   "metadata": {},
   "outputs": [],
   "source": [
    "category_n"
   ]
  },
  {
   "cell_type": "code",
   "execution_count": null,
   "id": "997199f8-cb68-41c9-ac74-e2f00d16afb2",
   "metadata": {},
   "outputs": [],
   "source": [
    "category_dict = dict(zip(category_list, category_n))\n",
    "category_dict"
   ]
  },
  {
   "cell_type": "code",
   "execution_count": null,
   "id": "7678bf38-b406-4f60-9bda-21299af7d24b",
   "metadata": {},
   "outputs": [],
   "source": [
    "parameter = category[category_dict[str(category_drop.value)]]\n",
    "parameter"
   ]
  },
  {
   "cell_type": "code",
   "execution_count": null,
   "id": "d008424b-e0f2-43ef-8314-768c5a95568a",
   "metadata": {},
   "outputs": [],
   "source": [
    "params_list = list(parameter['valuesLabels'].keys())"
   ]
  },
  {
   "cell_type": "code",
   "execution_count": null,
   "id": "73024f90-4dbb-4d30-a767-cb5ef7970a4f",
   "metadata": {},
   "outputs": [],
   "source": [
    "params_drop = widgets.Dropdown(\n",
    "    options=params_list,\n",
    "    description='Category:',\n",
    "    disabled=False)\n",
    "\n",
    "params_drop"
   ]
  },
  {
   "cell_type": "code",
   "execution_count": null,
   "id": "f9f088d8-03a8-4abc-a46d-38302d428181",
   "metadata": {},
   "outputs": [],
   "source": [
    "metadata['parameters']['multiStringSelects'][1]"
   ]
  },
  {
   "cell_type": "code",
   "execution_count": null,
   "id": "cad39cc4-4d66-4a92-bd1d-13a5b4cc6665",
   "metadata": {},
   "outputs": [],
   "source": [
    "metadata"
   ]
  },
  {
   "cell_type": "markdown",
   "id": "43c2d09f-190d-4df4-805b-1fd00fac94e6",
   "metadata": {},
   "source": [
    "# TEST"
   ]
  },
  {
   "cell_type": "code",
   "execution_count": null,
   "id": "dd4f767c-a6ea-463f-a90f-7d7aaea1408b",
   "metadata": {},
   "outputs": [],
   "source": [
    "if query['stringChoiceValues'][0]['value'] == 'netcdf':\n",
    "    fl = matches.results[0]['url']\n",
    "    print('Reading NetCDF file into memory')\n",
    "    # load into memory \n",
    "    with urlopen(fl) as f:\n",
    "        ds = xr.open_dataset(f.read()).mean(dim='time')\n",
    "elif query['stringChoiceValues'][0]['value'] == 'zip':\n",
    "    print('Downloading zip file')\n",
    "    matches.download()"
   ]
  },
  {
   "cell_type": "code",
   "execution_count": null,
   "id": "3a7f77eb-8760-4602-9e22-73ea83d5b29d",
   "metadata": {},
   "outputs": [],
   "source": [
    "import glob, os\n",
    "\n",
    "zip_list = []\n",
    "os.chdir(\"./\")\n",
    "for file in glob.glob(\"*.zip\"):\n",
    "    print(file)\n",
    "    zip_list.append(file)"
   ]
  },
  {
   "cell_type": "code",
   "execution_count": null,
   "id": "b0992e2a-391c-43c6-a754-04b270d5fb7e",
   "metadata": {},
   "outputs": [],
   "source": [
    "zip_list"
   ]
  },
  {
   "cell_type": "code",
   "execution_count": null,
   "id": "11d94ed3-f948-49b7-bc03-3caac8bf1bb1",
   "metadata": {},
   "outputs": [],
   "source": [
    "import ipywidgets as widgets\n",
    "\n",
    "zip_drop = widgets.Dropdown(\n",
    "    options=zip_list,\n",
    "    description='Zip folder:',\n",
    "    disabled=False,\n",
    ")\n",
    "zip_drop"
   ]
  },
  {
   "cell_type": "code",
   "execution_count": null,
   "id": "d9284b1d-f29f-4b75-9aaa-bb4bac74e2c9",
   "metadata": {},
   "outputs": [],
   "source": [
    "import zipfile\n",
    "with zipfile.ZipFile(str(zip_drop.value), 'r') as zip_ref:\n",
    "    zip_ref.extractall('./')"
   ]
  },
  {
   "cell_type": "code",
   "execution_count": null,
   "id": "e17a87f0-2729-42b3-84c3-b9e9138af3bf",
   "metadata": {},
   "outputs": [],
   "source": [
    "nc_list = []\n",
    "os.chdir(\"./\")\n",
    "for file in glob.glob(\"*.nc\"):\n",
    "    print(file)\n",
    "    nc_list.append(file)"
   ]
  },
  {
   "cell_type": "code",
   "execution_count": null,
   "id": "69cc0985-f375-4b86-81b2-d31e5e739e4d",
   "metadata": {},
   "outputs": [],
   "source": [
    "nc_list"
   ]
  },
  {
   "cell_type": "code",
   "execution_count": null,
   "id": "491388e1-6320-4c3f-b3aa-e2caf5394e62",
   "metadata": {},
   "outputs": [],
   "source": [
    "nc_drop = widgets.Dropdown(\n",
    "    options=nc_list,\n",
    "    description='NetCDF folder:',\n",
    "    disabled=False,\n",
    ")\n",
    "nc_drop"
   ]
  },
  {
   "cell_type": "code",
   "execution_count": null,
   "id": "8583f985-e573-4fdf-aacd-69250f62b7c8",
   "metadata": {},
   "outputs": [],
   "source": [
    "ds = xr.open_dataset(nc_drop.value).mean(dim='time')"
   ]
  },
  {
   "cell_type": "code",
   "execution_count": null,
   "id": "15db55cf-765d-461d-9569-5a99d77f617b",
   "metadata": {},
   "outputs": [],
   "source": [
    "hv_dataset = hv.Dataset(ds)\n",
    "hv_dataset.data"
   ]
  },
  {
   "cell_type": "code",
   "execution_count": null,
   "id": "7157c9a8-3275-463d-a3e0-c70b3b6775fc",
   "metadata": {},
   "outputs": [],
   "source": [
    "ds_data = ds['crwc'].squeeze()"
   ]
  },
  {
   "cell_type": "code",
   "execution_count": null,
   "id": "287e49cc-e900-4096-b116-4e36673faea1",
   "metadata": {},
   "outputs": [],
   "source": [
    "map_height=400\n",
    "map_width=800\n",
    "\n",
    "hv_tiles_osm = hv.element.tiles.OSM()\n",
    "\n",
    "hv.opts.defaults(\n",
    "  hv.opts.Image(alpha=0.7,\n",
    "                height=map_height, width=map_width, \n",
    "                colorbar=True, \n",
    "                tools=['hover'], active_tools=['wheel_zoom']),\n",
    "  hv.opts.Tiles(active_tools=['wheel_zoom'], height=map_height, width=map_width)\n",
    ")\n",
    "\n",
    "hv_image_basic = hv.Image(hv_dataset)\n",
    "hv_image_basic = hv_image_basic.options(cmap='inferno')\n",
    "hv_image_basic"
   ]
  },
  {
   "cell_type": "code",
   "execution_count": null,
   "id": "f0323d2c-4df7-4c0e-98c4-9f56b6bee2d9",
   "metadata": {},
   "outputs": [],
   "source": [
    "ds = ds.rio.write_crs('EPSG:4326')\n",
    "ds_mercator = ds.rio.reproject('EPSG:3857')\n",
    "hv_dataset = hv.Dataset(ds_mercator)\n",
    "hv_image_basic = hv.Image(hv_dataset)\n",
    "hv_image_basic = hv_image_basic.options(cmap='inferno')\n",
    "hv.element.tiles.OSM() * hv_image_basic"
   ]
  },
  {
   "cell_type": "code",
   "execution_count": null,
   "id": "68a897dc-ab5a-4653-b34d-9365b14fce42",
   "metadata": {},
   "outputs": [],
   "source": []
  },
  {
   "cell_type": "code",
   "execution_count": null,
   "id": "9f96a5bb-243f-4b85-aa81-af55a611b78f",
   "metadata": {},
   "outputs": [],
   "source": [
    "ds_data = ds[var_drop.value].squeeze()\n",
    "ds_data"
   ]
  },
  {
   "cell_type": "code",
   "execution_count": null,
   "id": "e0667431-f765-4d5c-a020-b48e54d5caaa",
   "metadata": {},
   "outputs": [],
   "source": [
    "# f = plt.figure(figsize=(10,8))\n",
    "# ax = plt.axes(projection=ccrs.PlateCarree())\n",
    "# ax.coastlines()\n",
    "# gl= ax.gridlines(crs=ccrs.PlateCarree(),draw_labels=True)\n",
    "# gl.right_labels=False\n",
    "# gl.top_labels=False\n",
    "# ax.add_feature(cfeature.LAND, zorder=1,edgecolor='k')\n",
    "# ax.set_extent([-180,180, -90, 90],crs=ccrs.PlateCarree())\n",
    "\n",
    "# f.suptitle(ds_data.long_name, fontsize=28)\n",
    "# im = ax.pcolor(ds_data['longitude'].data,ds_data['latitude'].data, ds_data, cmap='plasma')\n",
    "# cbar= f.colorbar(im,ax=ax)\n",
    "# cbar.set_label(ds_data.units, rotation =270, fontsize=23,labelpad=15)"
   ]
  },
  {
   "cell_type": "code",
   "execution_count": null,
   "id": "a62de826-0e5c-4e8a-911b-5e30fb6118c0",
   "metadata": {},
   "outputs": [],
   "source": [
    "# df = m.get_all_data_request(2000)\n",
    "# dataset_list = df[\"datasetId\"]"
   ]
  },
  {
   "cell_type": "code",
   "execution_count": null,
   "id": "555d9aef-a160-45c2-88dd-dbc63f0f67ab",
   "metadata": {},
   "outputs": [],
   "source": []
  }
 ],
 "metadata": {
  "kernelspec": {
   "display_name": "Python 3 (ipykernel)",
   "language": "python",
   "name": "python3"
  },
  "language_info": {
   "codemirror_mode": {
    "name": "ipython",
    "version": 3
   },
   "file_extension": ".py",
   "mimetype": "text/x-python",
   "name": "python",
   "nbconvert_exporter": "python",
   "pygments_lexer": "ipython3",
   "version": "3.9.12"
  }
 },
 "nbformat": 4,
 "nbformat_minor": 5
}
