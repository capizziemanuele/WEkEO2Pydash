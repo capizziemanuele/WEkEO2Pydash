{
 "cells": [
  {
   "cell_type": "markdown",
   "id": "1320eb06-aa88-433f-8602-1c85e07afbdb",
   "metadata": {
    "tags": []
   },
   "source": [
    "# Access Copernicus Land, Atmosphere and Marine data"
   ]
  },
  {
   "cell_type": "markdown",
   "id": "cc46933a-4e64-4906-bae5-6cdc18002b4d",
   "metadata": {},
   "source": [
    "This notebook allows to access to Copernicus data, using both datasets provided by Google Earth Engine Catalog and Copernicus APIs.\n",
    "The data used in this notebook are stored in memory using these services without downloading data."
   ]
  },
  {
   "cell_type": "markdown",
   "id": "2e729043-1805-4ab8-8f4e-d03dc70714c6",
   "metadata": {},
   "source": [
    "## Import libraries\n",
    "List of relevant libraries used: \n",
    "- matplotlib\n",
    "- xarray\n",
    "- pydap\n",
    "- cartopy\n",
    "- numpy\n",
    "- lxml\n",
    "- ee / geemap"
   ]
  },
  {
   "cell_type": "code",
   "execution_count": null,
   "id": "6d7861dd-80c2-411d-bee5-fa1526dd5fde",
   "metadata": {},
   "outputs": [],
   "source": [
    "# #Install the following libraries using pip if not working on Binder (it may be required to restart the kernel):\n",
    "#!pip install lxml\n",
    "#!pip install cdsapi\n",
    "#!pip install hda"
   ]
  },
  {
   "cell_type": "code",
   "execution_count": 1,
   "id": "944f3c42-ec5c-4810-9814-475d621f7252",
   "metadata": {},
   "outputs": [],
   "source": [
    "import matplotlib.pyplot as plt\n",
    "import xarray as xr\n",
    "import getpass\n",
    "import json\n",
    "import numpy as np\n",
    "import matplotlib.pyplot as plt\n",
    "import matplotlib.colors as colors\n",
    "import matplotlib.patches as mpatches\n",
    "import cartopy.crs as ccrs\n",
    "import cartopy.feature as cfeature\n",
    "import cdsapi\n",
    "from urllib.request import urlopen\n",
    "\n",
    "import warnings\n",
    "warnings.filterwarnings('ignore')\n",
    "\n",
    "%matplotlib inline"
   ]
  },
  {
   "cell_type": "markdown",
   "id": "96d998e5-8770-4bc1-a9d0-6ebca70bdcd2",
   "metadata": {},
   "source": [
    "---"
   ]
  },
  {
   "cell_type": "markdown",
   "id": "4b9d674f-b75b-4501-9910-28cf276ab4e3",
   "metadata": {
    "tags": []
   },
   "source": [
    "## Copernicus Marine data from OPeNDAP API"
   ]
  },
  {
   "cell_type": "markdown",
   "id": "a1d11313-32a7-419a-bd6e-54c7165a60c9",
   "metadata": {},
   "source": [
    "Reference material for this code:\n",
    "- https://help.marine.copernicus.eu/en/articles/5182598-how-to-consume-the-opendap-api-and-cas-sso-using-python\n",
    "- https://www.youtube.com/watch?v=ZJoRZYiMQcM&ab_channel=CopernicusMarineService"
   ]
  },
  {
   "cell_type": "markdown",
   "id": "01a60bd5-ec4c-4de2-91e4-75048090d883",
   "metadata": {},
   "source": [
    "First of all define a function able to retrieve the data from Copernicus Marine API, using OPeNDAP. The data used for this example can be accessed from [here](https://resources.marine.copernicus.eu/product-detail/MEDSEA_ANALYSISFORECAST_PHY_006_013/DATA-ACCESS):"
   ]
  },
  {
   "cell_type": "code",
   "execution_count": null,
   "id": "91406098-ccd4-45e6-9db2-a60fb1cbe313",
   "metadata": {},
   "outputs": [],
   "source": [
    "# #! /usr/bin/env python3\n",
    "# # -*- coding: utf-8 -*-\n",
    "# __author__ = \"Copernicus Marine User Support Team\"\n",
    "# __copyright__ = \"(C) 2022 E.U. Copernicus Marine Service Information\"\n",
    "# __credits__ = [\"E.U. Copernicus Marine Service Information\"]\n",
    "# __license__ = \"MIT License - You must cite this source\"\n",
    "# __version__ = \"202104\"\n",
    "# __maintainer__ = \"D. Bazin, E. DiMedio, C. Giordan\"\n",
    "# __email__ = \"servicedesk dot cmems at mercator hyphen ocean dot eu\"\n",
    "\n",
    "def copernicusmarine_datastore(dataset, username, password):\n",
    "    from pydap.client import open_url\n",
    "    from pydap.cas.get_cookies import setup_session\n",
    "    cas_url = 'https://cmems-cas.cls.fr/cas/login'\n",
    "    session = setup_session(cas_url, username, password)\n",
    "    session.cookies.set(\"CASTGC\", session.cookies.get_dict()['CASTGC'])\n",
    "    database = ['my', 'nrt']\n",
    "    url = f'https://{database[0]}.cmems-du.eu/thredds/dodsC/{dataset}'\n",
    "    try:\n",
    "        data_store = xr.backends.PydapDataStore(open_url(url, session=session)) # needs PyDAP >= v3.3.0 see https://github.com/pydap/pydap/pull/223/commits \n",
    "    except:\n",
    "        url = f'https://{database[1]}.cmems-du.eu/thredds/dodsC/{dataset}'\n",
    "        data_store = xr.backends.PydapDataStore(open_url(url, session=session)) # needs PyDAP >= v3.3.0 see https://github.com/pydap/pydap/pull/223/commits\n",
    "    return data_store"
   ]
  },
  {
   "cell_type": "markdown",
   "id": "657892ed-9ecf-416d-aadf-e77c6642df9c",
   "metadata": {},
   "source": [
    "The **id** and **password** are the same used for logging in the Copernicus Marine website."
   ]
  },
  {
   "cell_type": "code",
   "execution_count": null,
   "id": "e3edeca5-39de-4f8e-9e2b-a9b90bb7b93c",
   "metadata": {},
   "outputs": [],
   "source": [
    "# Required the data using the function copernicusmarine_datastore\n",
    "data_store = copernicusmarine_datastore('med-cmcc-tem-an-fc-d', 'CMEMS_ID', 'CMEMS_PASS')"
   ]
  },
  {
   "cell_type": "markdown",
   "id": "76cac5be-dd29-4d7a-a2ef-11d2c67f3aef",
   "metadata": {},
   "source": [
    "The data_store variable can be open with xarray library, using the open_dataset function:"
   ]
  },
  {
   "cell_type": "code",
   "execution_count": null,
   "id": "424a3142-01dd-4185-9efd-cb80be0d3ae4",
   "metadata": {},
   "outputs": [],
   "source": [
    "DS = xr.open_dataset(data_store).sel(time='2021-01-01', method='nearest')\n",
    "DS"
   ]
  },
  {
   "cell_type": "markdown",
   "id": "d9af0a2d-cb39-4fef-a7f6-16c48429197d",
   "metadata": {},
   "source": [
    "Is possible to slice the xarray dataset using lat/lon and creating a cropped dataset over the area of interest:"
   ]
  },
  {
   "cell_type": "code",
   "execution_count": null,
   "id": "40dd1fc1-790d-44d1-bffc-44accbe39096",
   "metadata": {},
   "outputs": [],
   "source": [
    "min_lon = 12\n",
    "min_lat = 40 \n",
    "max_lon = 19\n",
    "max_lat = 46 \n",
    "\n",
    "\n",
    "cropped_ds = DS.sel(lat=slice(min_lat,max_lat), lon=slice(min_lon,max_lon))\n",
    "cropped_ds"
   ]
  },
  {
   "cell_type": "markdown",
   "id": "95df9414-c18b-470f-a652-39f3116317e7",
   "metadata": {},
   "source": [
    "The dataset can be plotted or used for further analysis:"
   ]
  },
  {
   "cell_type": "code",
   "execution_count": null,
   "id": "309eed05-4442-46b3-ac2c-8325cca7373b",
   "metadata": {},
   "outputs": [],
   "source": [
    "temp_mod = cropped_ds['thetao'].sel(depth=0,method='nearest').squeeze()\n",
    "\n",
    "\n",
    "f = plt.figure(figsize=(10,8))\n",
    "ax = plt.axes(projection=ccrs.PlateCarree())\n",
    "ax.coastlines()\n",
    "gl= ax.gridlines(crs=ccrs.PlateCarree(),draw_labels=True)\n",
    "gl.right_labels=False\n",
    "gl.top_labels=False\n",
    "ax.add_feature(cfeature.LAND, zorder=1,edgecolor='k')\n",
    "ax.set_extent([11,20, 39, 46],crs=ccrs.PlateCarree())\n",
    "\n",
    "f.suptitle('Adriatic Sea surface temperature', fontsize=28)\n",
    "im = ax.pcolor(temp_mod['lon'].data,temp_mod['lat'].data, temp_mod, cmap='plasma')\n",
    "cbar= f.colorbar(im,ax=ax)\n",
    "cbar.set_label('°C', rotation =270, fontsize=23,labelpad=15)"
   ]
  },
  {
   "cell_type": "markdown",
   "id": "936839bf-b270-4424-a5c5-8de7cddd3b5f",
   "metadata": {},
   "source": [
    "---"
   ]
  },
  {
   "cell_type": "markdown",
   "id": "5159109a-4943-4354-86eb-bae1d6b69b30",
   "metadata": {
    "tags": []
   },
   "source": [
    "## Copernicus Atmosphere Monitoring Service (CAMS) data using cdsapi library"
   ]
  },
  {
   "cell_type": "markdown",
   "id": "5a547581-f751-4b3c-9e9d-8156f5303d9a",
   "metadata": {},
   "source": [
    "Reference: https://github.com/ecmwf/cdsapi/issues/25"
   ]
  },
  {
   "cell_type": "markdown",
   "id": "464365d3-0918-4cf8-aa39-c07af9f05215",
   "metadata": {},
   "source": [
    "The id and key to access CAMS API can be retrieved as explained at this link: https://ads.atmosphere.copernicus.eu/api-how-to."
   ]
  },
  {
   "cell_type": "code",
   "execution_count": null,
   "id": "06b88dad-c04e-4f9b-8824-e78b2e325749",
   "metadata": {},
   "outputs": [],
   "source": [
    "c = cdsapi.Client(\"https://ads.atmosphere.copernicus.eu/api/v2\",\"ads_key\") #change ads_key"
   ]
  },
  {
   "cell_type": "markdown",
   "id": "c22811a0-0824-4a3e-9f89-75918205f7a5",
   "metadata": {},
   "source": [
    "It is possible to define the download parameters using the tab form provided by CAMS (https://ads.atmosphere.copernicus.eu/cdsapp#!/dataset/cams-europe-air-quality-forecasts?tab=form) and pass them to the **retrive** function of the cdsapi library."
   ]
  },
  {
   "cell_type": "code",
   "execution_count": null,
   "id": "82bfac69-8639-404c-aab8-23e1bd57d9bd",
   "metadata": {},
   "outputs": [],
   "source": [
    "# API request\n",
    "params = {'format': 'netcdf',\n",
    "        'variable': 'particulate_matter_2.5um',\n",
    "        'model': 'ensemble',\n",
    "        'date': '2022-04-18/2022-04-20',\n",
    "        'level': '0',\n",
    "        'type': 'analysis',\n",
    "        'time':'00:00',\n",
    "        'leadtime_hour': 0,\n",
    "        'area': [48,6, 43, 13]}\n",
    "\n",
    "# retrieve the location of the file\n",
    "fl = c.retrieve('cams-europe-air-quality-forecasts', params) \n",
    "\n",
    "# load into memory \n",
    "with urlopen(fl.location) as f:\n",
    "    ds = xr.open_dataset(f.read()).mean(dim='time')"
   ]
  },
  {
   "cell_type": "markdown",
   "id": "6e1108e5-e5ec-413c-bd3a-417e2215dd10",
   "metadata": {},
   "source": [
    "The CAMS dataset can be plotted as follow:"
   ]
  },
  {
   "cell_type": "code",
   "execution_count": null,
   "id": "03364b27-5031-4057-9a93-86f7e31d7a37",
   "metadata": {},
   "outputs": [],
   "source": [
    "pm_mod = ds['pm2p5_conc'].sel(level=0,method='nearest').squeeze()\n",
    "\n",
    "\n",
    "f = plt.figure(figsize=(10,8))\n",
    "ax = plt.axes(projection=ccrs.PlateCarree())\n",
    "ax.coastlines()\n",
    "gl= ax.gridlines(crs=ccrs.PlateCarree(),draw_labels=True)\n",
    "gl.right_labels=False\n",
    "gl.top_labels=False\n",
    "ax.add_feature(cfeature.LAND, zorder=1,edgecolor='k')\n",
    "ax.set_extent([5,14, 42, 49],crs=ccrs.PlateCarree())\n",
    "\n",
    "f.suptitle('Po Valley PM2.5', fontsize=28)\n",
    "im = ax.pcolor(pm_mod['longitude'].data,pm_mod['latitude'].data, pm_mod, cmap='plasma')\n",
    "cbar= f.colorbar(im,ax=ax)\n",
    "cbar.set_label('Concentration', rotation =270, fontsize=23,labelpad=15)"
   ]
  },
  {
   "cell_type": "markdown",
   "id": "5e6f158b-5c9d-4500-b9cd-30ecb7f1e292",
   "metadata": {},
   "source": [
    "----"
   ]
  },
  {
   "cell_type": "markdown",
   "id": "c754f5ec-5f13-4d9f-be42-56159a7bbc91",
   "metadata": {},
   "source": [
    "## WEkEO DIAS"
   ]
  },
  {
   "cell_type": "markdown",
   "id": "72b4ccdb-50c0-4a3f-9680-14d228d03d9c",
   "metadata": {},
   "source": [
    "Reference: https://www.wekeo.eu/docs/webdav-wekeodrive <br>\n",
    "WEkEO HDA API: https://github.com/ecmwf/hda <br>\n",
    "WEkEO > Dashboard > JupyterHub"
   ]
  },
  {
   "cell_type": "markdown",
   "id": "cb9e0a02-a527-43d3-b976-73812224cfce",
   "metadata": {},
   "source": [
    "### Install the WEkEO HDA API\n",
    "Follow the instructions at this link for installation: https://www.wekeo.eu/docs/hda-python-lib\n",
    "You should create a \".hdarc\" file inside your user folder with your WEkEO username and password. \n",
    "\n",
    "For Binder upload \".hdarc\" file in your folder."
   ]
  },
  {
   "cell_type": "code",
   "execution_count": 2,
   "id": "b8187063-cd8f-46a1-9e4e-8f6162dbb5f3",
   "metadata": {},
   "outputs": [],
   "source": [
    "import hda\n",
    "import warnings\n",
    "warnings.filterwarnings('ignore')"
   ]
  },
  {
   "cell_type": "code",
   "execution_count": 3,
   "id": "26435de0-7777-4169-90db-7caeff108d48",
   "metadata": {},
   "outputs": [],
   "source": [
    "# Initialize HDA client\n",
    "c = hda.Client()  #upload .hdarc file in the folder"
   ]
  },
  {
   "cell_type": "markdown",
   "id": "7fa868c9-f8ce-4571-8626-64365673a48a",
   "metadata": {},
   "source": [
    "Create the query for data request.\n",
    "1. Go on WEkEO data viewer: https://www.wekeo.eu/data?view=viewer&initial=1\n",
    "2. Select the data from Catalogue. For exaple ERA5 Data\n",
    "3. Click on \"Subset and download\" on the layer menu\n",
    "4. Select the parameters and then \"Show API request\"\n",
    "5. Insert the API request in the following query variable"
   ]
  },
  {
   "cell_type": "code",
   "execution_count": 25,
   "id": "2033a9a0-b060-45f4-aa56-c29b8658ce74",
   "metadata": {},
   "outputs": [
    {
     "name": "stdout",
     "output_type": "stream",
     "text": [
      "SearchResults[items=1,volume=513K,jobId=73gUbMe2P1H6wLy906rp1d4BfCY]\n"
     ]
    }
   ],
   "source": [
    "query = {\n",
    "  \"datasetId\": \"EO:ECMWF:DAT:ERA5_HOURLY_VARIABLES_ON_PRESSURE_LEVELS\",\n",
    "  \"multiStringSelectValues\": [\n",
    "    {\n",
    "      \"name\": \"variable\",\n",
    "      \"value\": [\n",
    "        \"temperature\"\n",
    "      ]\n",
    "    },\n",
    "    {\n",
    "      \"name\": \"pressure_level\",\n",
    "      \"value\": [\n",
    "        \"1000\"\n",
    "      ]\n",
    "    },\n",
    "    {\n",
    "      \"name\": \"year\",\n",
    "      \"value\": [\n",
    "        \"2020\"\n",
    "      ]\n",
    "    },\n",
    "    {\n",
    "      \"name\": \"month\",\n",
    "      \"value\": [\n",
    "        \"12\"\n",
    "      ]\n",
    "    },\n",
    "    {\n",
    "      \"name\": \"day\",\n",
    "      \"value\": [\n",
    "        \"31\"\n",
    "      ]\n",
    "    },\n",
    "    {\n",
    "      \"name\": \"time\",\n",
    "      \"value\": [\n",
    "        \"12:00\"\n",
    "      ]\n",
    "    },\n",
    "    {\n",
    "      \"name\": \"product_type\",\n",
    "      \"value\": [\n",
    "        \"ensemble_mean\"\n",
    "      ]\n",
    "    }\n",
    "  ],\n",
    "  \"stringChoiceValues\": [\n",
    "    {\n",
    "      \"name\": \"format\",\n",
    "      \"value\": \"netcdf\"\n",
    "    }\n",
    "  ]\n",
    "}\n",
    "\n",
    "# The following line runs the query\n",
    "matches = c.search(query)\n",
    "\n",
    "# The following line prints the products returned by the query\n",
    "print(matches)"
   ]
  },
  {
   "cell_type": "code",
   "execution_count": 26,
   "id": "1f186cf0-5baf-4d16-b74f-29b61c0fd730",
   "metadata": {},
   "outputs": [],
   "source": [
    "fl = matches.results[0]['url']"
   ]
  },
  {
   "cell_type": "code",
   "execution_count": 27,
   "id": "37d3dcea-939e-42a1-a91e-cfffafd4823e",
   "metadata": {},
   "outputs": [],
   "source": [
    "# load into memory \n",
    "with urlopen(fl) as f:\n",
    "    ds = xr.open_dataset(f.read()).mean(dim='time')"
   ]
  },
  {
   "cell_type": "code",
   "execution_count": 28,
   "id": "9390a282-0fff-49f4-8f52-44480b640596",
   "metadata": {},
   "outputs": [
    {
     "data": {
      "text/html": [
       "<div><svg style=\"position: absolute; width: 0; height: 0; overflow: hidden\">\n",
       "<defs>\n",
       "<symbol id=\"icon-database\" viewBox=\"0 0 32 32\">\n",
       "<path d=\"M16 0c-8.837 0-16 2.239-16 5v4c0 2.761 7.163 5 16 5s16-2.239 16-5v-4c0-2.761-7.163-5-16-5z\"></path>\n",
       "<path d=\"M16 17c-8.837 0-16-2.239-16-5v6c0 2.761 7.163 5 16 5s16-2.239 16-5v-6c0 2.761-7.163 5-16 5z\"></path>\n",
       "<path d=\"M16 26c-8.837 0-16-2.239-16-5v6c0 2.761 7.163 5 16 5s16-2.239 16-5v-6c0 2.761-7.163 5-16 5z\"></path>\n",
       "</symbol>\n",
       "<symbol id=\"icon-file-text2\" viewBox=\"0 0 32 32\">\n",
       "<path d=\"M28.681 7.159c-0.694-0.947-1.662-2.053-2.724-3.116s-2.169-2.030-3.116-2.724c-1.612-1.182-2.393-1.319-2.841-1.319h-15.5c-1.378 0-2.5 1.121-2.5 2.5v27c0 1.378 1.122 2.5 2.5 2.5h23c1.378 0 2.5-1.122 2.5-2.5v-19.5c0-0.448-0.137-1.23-1.319-2.841zM24.543 5.457c0.959 0.959 1.712 1.825 2.268 2.543h-4.811v-4.811c0.718 0.556 1.584 1.309 2.543 2.268zM28 29.5c0 0.271-0.229 0.5-0.5 0.5h-23c-0.271 0-0.5-0.229-0.5-0.5v-27c0-0.271 0.229-0.5 0.5-0.5 0 0 15.499-0 15.5 0v7c0 0.552 0.448 1 1 1h7v19.5z\"></path>\n",
       "<path d=\"M23 26h-14c-0.552 0-1-0.448-1-1s0.448-1 1-1h14c0.552 0 1 0.448 1 1s-0.448 1-1 1z\"></path>\n",
       "<path d=\"M23 22h-14c-0.552 0-1-0.448-1-1s0.448-1 1-1h14c0.552 0 1 0.448 1 1s-0.448 1-1 1z\"></path>\n",
       "<path d=\"M23 18h-14c-0.552 0-1-0.448-1-1s0.448-1 1-1h14c0.552 0 1 0.448 1 1s-0.448 1-1 1z\"></path>\n",
       "</symbol>\n",
       "</defs>\n",
       "</svg>\n",
       "<style>/* CSS stylesheet for displaying xarray objects in jupyterlab.\n",
       " *\n",
       " */\n",
       "\n",
       ":root {\n",
       "  --xr-font-color0: var(--jp-content-font-color0, rgba(0, 0, 0, 1));\n",
       "  --xr-font-color2: var(--jp-content-font-color2, rgba(0, 0, 0, 0.54));\n",
       "  --xr-font-color3: var(--jp-content-font-color3, rgba(0, 0, 0, 0.38));\n",
       "  --xr-border-color: var(--jp-border-color2, #e0e0e0);\n",
       "  --xr-disabled-color: var(--jp-layout-color3, #bdbdbd);\n",
       "  --xr-background-color: var(--jp-layout-color0, white);\n",
       "  --xr-background-color-row-even: var(--jp-layout-color1, white);\n",
       "  --xr-background-color-row-odd: var(--jp-layout-color2, #eeeeee);\n",
       "}\n",
       "\n",
       "html[theme=dark],\n",
       "body.vscode-dark {\n",
       "  --xr-font-color0: rgba(255, 255, 255, 1);\n",
       "  --xr-font-color2: rgba(255, 255, 255, 0.54);\n",
       "  --xr-font-color3: rgba(255, 255, 255, 0.38);\n",
       "  --xr-border-color: #1F1F1F;\n",
       "  --xr-disabled-color: #515151;\n",
       "  --xr-background-color: #111111;\n",
       "  --xr-background-color-row-even: #111111;\n",
       "  --xr-background-color-row-odd: #313131;\n",
       "}\n",
       "\n",
       ".xr-wrap {\n",
       "  display: block !important;\n",
       "  min-width: 300px;\n",
       "  max-width: 700px;\n",
       "}\n",
       "\n",
       ".xr-text-repr-fallback {\n",
       "  /* fallback to plain text repr when CSS is not injected (untrusted notebook) */\n",
       "  display: none;\n",
       "}\n",
       "\n",
       ".xr-header {\n",
       "  padding-top: 6px;\n",
       "  padding-bottom: 6px;\n",
       "  margin-bottom: 4px;\n",
       "  border-bottom: solid 1px var(--xr-border-color);\n",
       "}\n",
       "\n",
       ".xr-header > div,\n",
       ".xr-header > ul {\n",
       "  display: inline;\n",
       "  margin-top: 0;\n",
       "  margin-bottom: 0;\n",
       "}\n",
       "\n",
       ".xr-obj-type,\n",
       ".xr-array-name {\n",
       "  margin-left: 2px;\n",
       "  margin-right: 10px;\n",
       "}\n",
       "\n",
       ".xr-obj-type {\n",
       "  color: var(--xr-font-color2);\n",
       "}\n",
       "\n",
       ".xr-sections {\n",
       "  padding-left: 0 !important;\n",
       "  display: grid;\n",
       "  grid-template-columns: 150px auto auto 1fr 20px 20px;\n",
       "}\n",
       "\n",
       ".xr-section-item {\n",
       "  display: contents;\n",
       "}\n",
       "\n",
       ".xr-section-item input {\n",
       "  display: none;\n",
       "}\n",
       "\n",
       ".xr-section-item input + label {\n",
       "  color: var(--xr-disabled-color);\n",
       "}\n",
       "\n",
       ".xr-section-item input:enabled + label {\n",
       "  cursor: pointer;\n",
       "  color: var(--xr-font-color2);\n",
       "}\n",
       "\n",
       ".xr-section-item input:enabled + label:hover {\n",
       "  color: var(--xr-font-color0);\n",
       "}\n",
       "\n",
       ".xr-section-summary {\n",
       "  grid-column: 1;\n",
       "  color: var(--xr-font-color2);\n",
       "  font-weight: 500;\n",
       "}\n",
       "\n",
       ".xr-section-summary > span {\n",
       "  display: inline-block;\n",
       "  padding-left: 0.5em;\n",
       "}\n",
       "\n",
       ".xr-section-summary-in:disabled + label {\n",
       "  color: var(--xr-font-color2);\n",
       "}\n",
       "\n",
       ".xr-section-summary-in + label:before {\n",
       "  display: inline-block;\n",
       "  content: '►';\n",
       "  font-size: 11px;\n",
       "  width: 15px;\n",
       "  text-align: center;\n",
       "}\n",
       "\n",
       ".xr-section-summary-in:disabled + label:before {\n",
       "  color: var(--xr-disabled-color);\n",
       "}\n",
       "\n",
       ".xr-section-summary-in:checked + label:before {\n",
       "  content: '▼';\n",
       "}\n",
       "\n",
       ".xr-section-summary-in:checked + label > span {\n",
       "  display: none;\n",
       "}\n",
       "\n",
       ".xr-section-summary,\n",
       ".xr-section-inline-details {\n",
       "  padding-top: 4px;\n",
       "  padding-bottom: 4px;\n",
       "}\n",
       "\n",
       ".xr-section-inline-details {\n",
       "  grid-column: 2 / -1;\n",
       "}\n",
       "\n",
       ".xr-section-details {\n",
       "  display: none;\n",
       "  grid-column: 1 / -1;\n",
       "  margin-bottom: 5px;\n",
       "}\n",
       "\n",
       ".xr-section-summary-in:checked ~ .xr-section-details {\n",
       "  display: contents;\n",
       "}\n",
       "\n",
       ".xr-array-wrap {\n",
       "  grid-column: 1 / -1;\n",
       "  display: grid;\n",
       "  grid-template-columns: 20px auto;\n",
       "}\n",
       "\n",
       ".xr-array-wrap > label {\n",
       "  grid-column: 1;\n",
       "  vertical-align: top;\n",
       "}\n",
       "\n",
       ".xr-preview {\n",
       "  color: var(--xr-font-color3);\n",
       "}\n",
       "\n",
       ".xr-array-preview,\n",
       ".xr-array-data {\n",
       "  padding: 0 5px !important;\n",
       "  grid-column: 2;\n",
       "}\n",
       "\n",
       ".xr-array-data,\n",
       ".xr-array-in:checked ~ .xr-array-preview {\n",
       "  display: none;\n",
       "}\n",
       "\n",
       ".xr-array-in:checked ~ .xr-array-data,\n",
       ".xr-array-preview {\n",
       "  display: inline-block;\n",
       "}\n",
       "\n",
       ".xr-dim-list {\n",
       "  display: inline-block !important;\n",
       "  list-style: none;\n",
       "  padding: 0 !important;\n",
       "  margin: 0;\n",
       "}\n",
       "\n",
       ".xr-dim-list li {\n",
       "  display: inline-block;\n",
       "  padding: 0;\n",
       "  margin: 0;\n",
       "}\n",
       "\n",
       ".xr-dim-list:before {\n",
       "  content: '(';\n",
       "}\n",
       "\n",
       ".xr-dim-list:after {\n",
       "  content: ')';\n",
       "}\n",
       "\n",
       ".xr-dim-list li:not(:last-child):after {\n",
       "  content: ',';\n",
       "  padding-right: 5px;\n",
       "}\n",
       "\n",
       ".xr-has-index {\n",
       "  font-weight: bold;\n",
       "}\n",
       "\n",
       ".xr-var-list,\n",
       ".xr-var-item {\n",
       "  display: contents;\n",
       "}\n",
       "\n",
       ".xr-var-item > div,\n",
       ".xr-var-item label,\n",
       ".xr-var-item > .xr-var-name span {\n",
       "  background-color: var(--xr-background-color-row-even);\n",
       "  margin-bottom: 0;\n",
       "}\n",
       "\n",
       ".xr-var-item > .xr-var-name:hover span {\n",
       "  padding-right: 5px;\n",
       "}\n",
       "\n",
       ".xr-var-list > li:nth-child(odd) > div,\n",
       ".xr-var-list > li:nth-child(odd) > label,\n",
       ".xr-var-list > li:nth-child(odd) > .xr-var-name span {\n",
       "  background-color: var(--xr-background-color-row-odd);\n",
       "}\n",
       "\n",
       ".xr-var-name {\n",
       "  grid-column: 1;\n",
       "}\n",
       "\n",
       ".xr-var-dims {\n",
       "  grid-column: 2;\n",
       "}\n",
       "\n",
       ".xr-var-dtype {\n",
       "  grid-column: 3;\n",
       "  text-align: right;\n",
       "  color: var(--xr-font-color2);\n",
       "}\n",
       "\n",
       ".xr-var-preview {\n",
       "  grid-column: 4;\n",
       "}\n",
       "\n",
       ".xr-var-name,\n",
       ".xr-var-dims,\n",
       ".xr-var-dtype,\n",
       ".xr-preview,\n",
       ".xr-attrs dt {\n",
       "  white-space: nowrap;\n",
       "  overflow: hidden;\n",
       "  text-overflow: ellipsis;\n",
       "  padding-right: 10px;\n",
       "}\n",
       "\n",
       ".xr-var-name:hover,\n",
       ".xr-var-dims:hover,\n",
       ".xr-var-dtype:hover,\n",
       ".xr-attrs dt:hover {\n",
       "  overflow: visible;\n",
       "  width: auto;\n",
       "  z-index: 1;\n",
       "}\n",
       "\n",
       ".xr-var-attrs,\n",
       ".xr-var-data {\n",
       "  display: none;\n",
       "  background-color: var(--xr-background-color) !important;\n",
       "  padding-bottom: 5px !important;\n",
       "}\n",
       "\n",
       ".xr-var-attrs-in:checked ~ .xr-var-attrs,\n",
       ".xr-var-data-in:checked ~ .xr-var-data {\n",
       "  display: block;\n",
       "}\n",
       "\n",
       ".xr-var-data > table {\n",
       "  float: right;\n",
       "}\n",
       "\n",
       ".xr-var-name span,\n",
       ".xr-var-data,\n",
       ".xr-attrs {\n",
       "  padding-left: 25px !important;\n",
       "}\n",
       "\n",
       ".xr-attrs,\n",
       ".xr-var-attrs,\n",
       ".xr-var-data {\n",
       "  grid-column: 1 / -1;\n",
       "}\n",
       "\n",
       "dl.xr-attrs {\n",
       "  padding: 0;\n",
       "  margin: 0;\n",
       "  display: grid;\n",
       "  grid-template-columns: 125px auto;\n",
       "}\n",
       "\n",
       ".xr-attrs dt,\n",
       ".xr-attrs dd {\n",
       "  padding: 0;\n",
       "  margin: 0;\n",
       "  float: left;\n",
       "  padding-right: 10px;\n",
       "  width: auto;\n",
       "}\n",
       "\n",
       ".xr-attrs dt {\n",
       "  font-weight: normal;\n",
       "  grid-column: 1;\n",
       "}\n",
       "\n",
       ".xr-attrs dt:hover span {\n",
       "  display: inline-block;\n",
       "  background: var(--xr-background-color);\n",
       "  padding-right: 10px;\n",
       "}\n",
       "\n",
       ".xr-attrs dd {\n",
       "  grid-column: 2;\n",
       "  white-space: pre-wrap;\n",
       "  word-break: break-all;\n",
       "}\n",
       "\n",
       ".xr-icon-database,\n",
       ".xr-icon-file-text2 {\n",
       "  display: inline-block;\n",
       "  vertical-align: middle;\n",
       "  width: 1em;\n",
       "  height: 1.5em !important;\n",
       "  stroke-width: 0;\n",
       "  stroke: currentColor;\n",
       "  fill: currentColor;\n",
       "}\n",
       "</style><pre class='xr-text-repr-fallback'>&lt;xarray.Dataset&gt;\n",
       "Dimensions:    (longitude: 720, latitude: 361)\n",
       "Coordinates:\n",
       "  * longitude  (longitude) float32 0.0 0.5 1.0 1.5 ... 358.0 358.5 359.0 359.5\n",
       "  * latitude   (latitude) float32 90.0 89.5 89.0 88.5 ... -89.0 -89.5 -90.0\n",
       "Data variables:\n",
       "    t          (latitude, longitude) float32 264.6 264.6 264.6 ... 261.0 261.0</pre><div class='xr-wrap' style='display:none'><div class='xr-header'><div class='xr-obj-type'>xarray.Dataset</div></div><ul class='xr-sections'><li class='xr-section-item'><input id='section-055029a1-e38e-4db5-8e0e-9608f46b569c' class='xr-section-summary-in' type='checkbox' disabled ><label for='section-055029a1-e38e-4db5-8e0e-9608f46b569c' class='xr-section-summary'  title='Expand/collapse section'>Dimensions:</label><div class='xr-section-inline-details'><ul class='xr-dim-list'><li><span class='xr-has-index'>longitude</span>: 720</li><li><span class='xr-has-index'>latitude</span>: 361</li></ul></div><div class='xr-section-details'></div></li><li class='xr-section-item'><input id='section-b76a0297-40a1-4bc2-ac5e-d8c7247eef16' class='xr-section-summary-in' type='checkbox'  checked><label for='section-b76a0297-40a1-4bc2-ac5e-d8c7247eef16' class='xr-section-summary' >Coordinates: <span>(2)</span></label><div class='xr-section-inline-details'></div><div class='xr-section-details'><ul class='xr-var-list'><li class='xr-var-item'><div class='xr-var-name'><span class='xr-has-index'>longitude</span></div><div class='xr-var-dims'>(longitude)</div><div class='xr-var-dtype'>float32</div><div class='xr-var-preview xr-preview'>0.0 0.5 1.0 ... 358.5 359.0 359.5</div><input id='attrs-5800ddf8-bd43-4735-9d6f-e798da9ffcdc' class='xr-var-attrs-in' type='checkbox' ><label for='attrs-5800ddf8-bd43-4735-9d6f-e798da9ffcdc' title='Show/Hide attributes'><svg class='icon xr-icon-file-text2'><use xlink:href='#icon-file-text2'></use></svg></label><input id='data-070e70c7-5151-4c3b-8528-3190e6d45ac2' class='xr-var-data-in' type='checkbox'><label for='data-070e70c7-5151-4c3b-8528-3190e6d45ac2' title='Show/Hide data repr'><svg class='icon xr-icon-database'><use xlink:href='#icon-database'></use></svg></label><div class='xr-var-attrs'><dl class='xr-attrs'><dt><span>units :</span></dt><dd>degrees_east</dd><dt><span>long_name :</span></dt><dd>longitude</dd></dl></div><div class='xr-var-data'><pre>array([  0. ,   0.5,   1. , ..., 358.5, 359. , 359.5], dtype=float32)</pre></div></li><li class='xr-var-item'><div class='xr-var-name'><span class='xr-has-index'>latitude</span></div><div class='xr-var-dims'>(latitude)</div><div class='xr-var-dtype'>float32</div><div class='xr-var-preview xr-preview'>90.0 89.5 89.0 ... -89.5 -90.0</div><input id='attrs-e4684d6e-5aa1-4985-9db3-549d121a7834' class='xr-var-attrs-in' type='checkbox' ><label for='attrs-e4684d6e-5aa1-4985-9db3-549d121a7834' title='Show/Hide attributes'><svg class='icon xr-icon-file-text2'><use xlink:href='#icon-file-text2'></use></svg></label><input id='data-61d58ed0-5074-4e9f-ba36-dbea268bdd00' class='xr-var-data-in' type='checkbox'><label for='data-61d58ed0-5074-4e9f-ba36-dbea268bdd00' title='Show/Hide data repr'><svg class='icon xr-icon-database'><use xlink:href='#icon-database'></use></svg></label><div class='xr-var-attrs'><dl class='xr-attrs'><dt><span>units :</span></dt><dd>degrees_north</dd><dt><span>long_name :</span></dt><dd>latitude</dd></dl></div><div class='xr-var-data'><pre>array([ 90. ,  89.5,  89. , ..., -89. , -89.5, -90. ], dtype=float32)</pre></div></li></ul></div></li><li class='xr-section-item'><input id='section-6173cc67-315d-4bec-9f2c-1dcb0bf44ca2' class='xr-section-summary-in' type='checkbox'  checked><label for='section-6173cc67-315d-4bec-9f2c-1dcb0bf44ca2' class='xr-section-summary' >Data variables: <span>(1)</span></label><div class='xr-section-inline-details'></div><div class='xr-section-details'><ul class='xr-var-list'><li class='xr-var-item'><div class='xr-var-name'><span>t</span></div><div class='xr-var-dims'>(latitude, longitude)</div><div class='xr-var-dtype'>float32</div><div class='xr-var-preview xr-preview'>264.6 264.6 264.6 ... 261.0 261.0</div><input id='attrs-cffd9b8d-21f6-4a97-aad5-ad3164ca4ca3' class='xr-var-attrs-in' type='checkbox' disabled><label for='attrs-cffd9b8d-21f6-4a97-aad5-ad3164ca4ca3' title='Show/Hide attributes'><svg class='icon xr-icon-file-text2'><use xlink:href='#icon-file-text2'></use></svg></label><input id='data-bbdc13ee-c59a-4cd5-a2dd-a233d51f7dff' class='xr-var-data-in' type='checkbox'><label for='data-bbdc13ee-c59a-4cd5-a2dd-a233d51f7dff' title='Show/Hide data repr'><svg class='icon xr-icon-database'><use xlink:href='#icon-database'></use></svg></label><div class='xr-var-attrs'><dl class='xr-attrs'></dl></div><div class='xr-var-data'><pre>array([[264.58273, 264.58273, 264.58273, ..., 264.58273, 264.58273,\n",
       "        264.58273],\n",
       "       [264.92126, 264.92126, 264.9225 , ..., 264.91632, 264.9188 ,\n",
       "        264.9188 ],\n",
       "       [265.08435, 265.0831 , 265.08435, ..., 265.0831 , 265.0831 ,\n",
       "        265.08435],\n",
       "       ...,\n",
       "       [261.51123, 261.51123, 261.51123, ..., 261.51123, 261.51123,\n",
       "        261.51123],\n",
       "       [261.2172 , 261.2172 , 261.2172 , ..., 261.2172 , 261.2172 ,\n",
       "        261.2172 ],\n",
       "       [260.95032, 260.95032, 260.95032, ..., 260.95032, 260.95032,\n",
       "        260.95032]], dtype=float32)</pre></div></li></ul></div></li><li class='xr-section-item'><input id='section-9402c6f3-37b8-4501-9d15-a48ab020ac5b' class='xr-section-summary-in' type='checkbox' disabled ><label for='section-9402c6f3-37b8-4501-9d15-a48ab020ac5b' class='xr-section-summary'  title='Expand/collapse section'>Attributes: <span>(0)</span></label><div class='xr-section-inline-details'></div><div class='xr-section-details'><dl class='xr-attrs'></dl></div></li></ul></div></div>"
      ],
      "text/plain": [
       "<xarray.Dataset>\n",
       "Dimensions:    (longitude: 720, latitude: 361)\n",
       "Coordinates:\n",
       "  * longitude  (longitude) float32 0.0 0.5 1.0 1.5 ... 358.0 358.5 359.0 359.5\n",
       "  * latitude   (latitude) float32 90.0 89.5 89.0 88.5 ... -89.0 -89.5 -90.0\n",
       "Data variables:\n",
       "    t          (latitude, longitude) float32 264.6 264.6 264.6 ... 261.0 261.0"
      ]
     },
     "execution_count": 28,
     "metadata": {},
     "output_type": "execute_result"
    }
   ],
   "source": [
    "ds"
   ]
  },
  {
   "cell_type": "code",
   "execution_count": 29,
   "id": "971cc9ad-372b-4c84-ab52-a9408d2c0b33",
   "metadata": {},
   "outputs": [
    {
     "data": {
      "image/png": "[encoded data removed]",
      "text/plain": [
       "<Figure size 720x576 with 2 Axes>"
      ]
     },
     "metadata": {
      "needs_background": "light"
     },
     "output_type": "display_data"
    }
   ],
   "source": [
    "pm_mod = ds['t'].squeeze()\n",
    "\n",
    "\n",
    "f = plt.figure(figsize=(10,8))\n",
    "ax = plt.axes(projection=ccrs.PlateCarree())\n",
    "ax.coastlines()\n",
    "gl= ax.gridlines(crs=ccrs.PlateCarree(),draw_labels=True)\n",
    "gl.right_labels=False\n",
    "gl.top_labels=False\n",
    "ax.add_feature(cfeature.LAND, zorder=1,edgecolor='k')\n",
    "ax.set_extent([-180,180, -90, 90],crs=ccrs.PlateCarree())\n",
    "\n",
    "f.suptitle('Temperature', fontsize=28)\n",
    "im = ax.pcolor(pm_mod['longitude'].data,pm_mod['latitude'].data, pm_mod, cmap='plasma')\n",
    "cbar= f.colorbar(im,ax=ax)\n",
    "cbar.set_label('K', rotation =270, fontsize=23,labelpad=15)"
   ]
  },
  {
   "cell_type": "markdown",
   "id": "edd9ece4-9808-4545-a213-3ba06e4084fd",
   "metadata": {},
   "source": [
    "---"
   ]
  },
  {
   "cell_type": "markdown",
   "id": "4f1848cc-9b71-4c87-9679-90e0603b1256",
   "metadata": {
    "tags": []
   },
   "source": [
    "# Copernicus C3S (optional) - slow download "
   ]
  },
  {
   "cell_type": "markdown",
   "id": "d6deb3d8-999c-47ae-8ed1-16c1bdb65cdc",
   "metadata": {},
   "source": [
    "C3S is slow at downloading data"
   ]
  },
  {
   "cell_type": "code",
   "execution_count": null,
   "id": "c63ad611-4ca7-4257-aa28-f96e4010d63c",
   "metadata": {},
   "outputs": [],
   "source": [
    "f = open('keys.json')\n",
    "keys = json.load(f)\n",
    "c = cdsapi.Client(\"https://cds.climate.copernicus.eu/api/v2\", \"C3S_KEY\")\n",
    "\n",
    "# API request\n",
    "params = {\n",
    "        'format': 'netcdf',\n",
    "        'product_type': 'reanalysis',\n",
    "        'variable': 'temperature',\n",
    "        'pressure_level':'1000',\n",
    "        'year':['2020'],\n",
    "        'month':['07'],\n",
    "        'day': ['01'],\n",
    "        'time': ['12:00'],\n",
    "        'grid': [0.25, 0.25],\n",
    "        'area': [48,6, 43, 12]}\n",
    "\n",
    "# retrieve the location of the file\n",
    "fl = c.retrieve('reanalysis-era5-pressure-levels', params) \n",
    "\n",
    "# load into memory \n",
    "with urlopen(fl.location) as f:\n",
    "    ds = xr.open_dataset(f.read())\n"
   ]
  },
  {
   "cell_type": "markdown",
   "id": "733da9c9-b267-4909-abbf-edcdb40ec8c8",
   "metadata": {},
   "source": [
    "---"
   ]
  },
  {
   "cell_type": "markdown",
   "id": "36eb5ed6-bd58-41b7-93ad-e5a5a8bd23b5",
   "metadata": {},
   "source": [
    "## Copernicus Land Cover WMS"
   ]
  },
  {
   "cell_type": "code",
   "execution_count": null,
   "id": "7faf513a-6c50-41a1-8493-cf08842b16b9",
   "metadata": {},
   "outputs": [],
   "source": [
    "# load owslib library\n",
    "from owslib.wms import WebMapService\n",
    "\n",
    "# Create your WebMapService object\n",
    "wms = WebMapService('https://viewer.globalland.vgt.vito.be/geoserver/ows?service=WMS&request=GetCapabilities')\n",
    "\n",
    "#Show the number of available layers\n",
    "sorted(list(wms.contents.keys()))"
   ]
  },
  {
   "cell_type": "code",
   "execution_count": null,
   "id": "886160eb-594e-4111-a484-828ac9e4fe3c",
   "metadata": {},
   "outputs": [],
   "source": [
    "%matplotlib inline\n",
    "import os, sys\n",
    "import matplotlib.image as mpimg\n",
    "import matplotlib.pyplot as plt\n",
    "\n",
    "def getMap(layerName,bbox,filename):\n",
    "    wms.getOperationByName('GetMap').formatOptions\n",
    "    img = wms.getmap(layers=[layerName],\n",
    "                 size=(600,300),\n",
    "                 srs='EPSG:4326',\n",
    "                 bbox=bbox,\n",
    "                 format='image/png',\n",
    "                 transparent=True)\n",
    "\n",
    "    tmpfile = open(filename,'wb')\n",
    "    tmpfile.write(img.read())\n",
    "    tmpfile.close()\n",
    "    \n",
    "getMap('PV_MEP:PROBAV_S10_TOC_1KM_NDVI', (0,40,15,50), 'PV_MEP:PROBAV_S10_TOC_1KM_NDVI.png')\n",
    "image_fore = mpimg.imread('PV_MEP:PROBAV_S10_TOC_1KM_NDVI.png')\n",
    "fig = plt.figure(figsize=(12,7))\n",
    "\n",
    "img_fore = plt.imshow(image_fore)"
   ]
  },
  {
   "cell_type": "markdown",
   "id": "2c6eb160-b23e-4988-a17a-c19063881b22",
   "metadata": {},
   "source": [
    "---"
   ]
  },
  {
   "cell_type": "markdown",
   "id": "7b890944-b911-4f84-bf57-98f7f9bf7433",
   "metadata": {},
   "source": [
    "## Copernicus Land Cover WCS"
   ]
  },
  {
   "cell_type": "markdown",
   "id": "0a512307-e499-4718-8b40-cab946797fb5",
   "metadata": {},
   "source": [
    "Reference: https://land.copernicus.eu/global/product-access <br>\n",
    "https://git.wur.nl/isric/soilgrids/soilgrids.notebooks <br>\n",
    "https://cybergisxhub.cigi.illinois.edu/wp-content/uploads/2019/12/OGC_Services.html <br>\n",
    "https://publicwiki.deltares.nl/display/OET/WCS+primer"
   ]
  },
  {
   "cell_type": "code",
   "execution_count": null,
   "id": "704c7a26-5956-4bb2-bf89-1e4bb67e9455",
   "metadata": {},
   "outputs": [],
   "source": [
    "from owslib.wcs import WebCoverageService\n",
    "wcs = WebCoverageService('https://viewer.globalland.vgt.vito.be/geoserver/ows?service=WCS&request=GetCapabilities')"
   ]
  },
  {
   "cell_type": "code",
   "execution_count": null,
   "id": "5747f003-def8-4433-aa41-79e64c99a5de",
   "metadata": {},
   "outputs": [],
   "source": [
    "#Get the title of the service\n",
    "print(wcs.identification.title)\n",
    "\n",
    "# List the available first ten contents \n",
    "sorted(list(wcs.contents.keys()))[0:10]"
   ]
  },
  {
   "cell_type": "code",
   "execution_count": null,
   "id": "01d6de5e-5c44-4d39-8a56-a7eea05a0b85",
   "metadata": {},
   "outputs": [],
   "source": [
    "layerid = 'CGLS__ba300_v1_333m_FDOB_DEKAD'\n",
    "wcs_layer = wcs.contents[layerid]"
   ]
  },
  {
   "cell_type": "code",
   "execution_count": null,
   "id": "75ae3c6d-cbed-41ff-a2b0-65981a5fb57a",
   "metadata": {},
   "outputs": [],
   "source": [
    "#Title\n",
    "print('Layer title :', wcs_layer.title)\n",
    "#bounding box\n",
    "print('BoundingBox :', wcs_layer.boundingBoxWGS84)\n",
    "# supported data formats - we'll use geotiff\n",
    "print('Formats :', wcs_layer.supportedFormats)"
   ]
  },
  {
   "cell_type": "code",
   "execution_count": null,
   "id": "a8da545a-f7ec-43c7-83c9-0f59db6a4f3c",
   "metadata": {},
   "outputs": [],
   "source": [
    "format_wcs = 'image/jpeg'\n",
    "\n",
    "output = wcs.getCoverage(identifier=[layerid, ], format=format_wcs)"
   ]
  },
  {
   "cell_type": "code",
   "execution_count": null,
   "id": "946f10fb-ac23-4eaa-97f5-f36a914618e8",
   "metadata": {},
   "outputs": [],
   "source": [
    "wcsfn = layerid + '.jpeg'\n",
    "with open(wcsfn, 'wb') as fh:\n",
    "    fh.write(output.read())"
   ]
  },
  {
   "cell_type": "code",
   "execution_count": null,
   "id": "34b8ae2f-1850-4086-a8ca-b19f7958922a",
   "metadata": {},
   "outputs": [],
   "source": [
    "wcsdt = xr.open_dataset(wcsfn)\n",
    "\n",
    "print(wcsdt.data_vars)\n",
    "\n",
    "plt.figure(figsize=(20,10))\n",
    "\n",
    "wcsdt.Band1.plot()\n",
    "\n",
    "plt.show()"
   ]
  },
  {
   "cell_type": "code",
   "execution_count": null,
   "id": "70b7c8e0-b8f9-48cd-b3af-2c7fe4001556",
   "metadata": {
    "tags": []
   },
   "outputs": [],
   "source": []
  }
 ],
 "metadata": {
  "kernelspec": {
   "display_name": "Python 3 (ipykernel)",
   "language": "python",
   "name": "python3"
  },
  "language_info": {
   "codemirror_mode": {
    "name": "ipython",
    "version": 3
   },
   "file_extension": ".py",
   "mimetype": "text/x-python",
   "name": "python",
   "nbconvert_exporter": "python",
   "pygments_lexer": "ipython3",
   "version": "3.9.12"
  }
 },
 "nbformat": 4,
 "nbformat_minor": 5
}
