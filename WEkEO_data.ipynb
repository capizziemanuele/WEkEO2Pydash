{
 "cells": [
  {
   "cell_type": "code",
   "execution_count": null,
   "id": "89af258b-5b6b-44db-a098-02dc9bd9074c",
   "metadata": {},
   "outputs": [],
   "source": [
    "import requests\n",
    "import json\n",
    "import pandas as pd\n",
    "import base64\n",
    "import ipywidgets as widgets\n",
    "from ipywidgets import Layout\n",
    "from PIL import Image\n",
    "import numpy as np\n",
    "import rioxarray as rxr\n",
    "import xarray as xr\n",
    "from urllib.request import urlopen\n",
    "import matplotlib.pyplot as plt\n",
    "import cartopy.crs as ccrs\n",
    "import cartopy.feature as cfeature\n",
    "import hvplot.pandas  # noqa\n",
    "import hvplot.xarray  # noqa\n",
    "import holoviews as hv\n",
    "import holoviews.operation.datashader as hd\n",
    "import bokeh as bk\n",
    "from holoviews import opts\n",
    "hv.extension('bokeh')\n",
    "\n",
    "import warnings\n",
    "warnings.filterwarnings('ignore')"
   ]
  },
  {
   "cell_type": "code",
   "execution_count": null,
   "id": "251dfd27-91d0-47ab-940b-051bcb075ee1",
   "metadata": {},
   "outputs": [],
   "source": [
    "%load_ext autoreload\n",
    "%autoreload 2\n",
    "import WEkEO_methods as m"
   ]
  },
  {
   "cell_type": "code",
   "execution_count": null,
   "id": "69fefc3c-75fa-4a7e-9a1a-92a8967d6081",
   "metadata": {},
   "outputs": [],
   "source": [
    "# import hda\n",
    "# Initialize HDA client\n",
    "#c = hda.Client()  #upload .hdarc file in the folder"
   ]
  },
  {
   "cell_type": "markdown",
   "id": "f14b8d14-a1e9-48ec-93ed-f341e65c6a30",
   "metadata": {},
   "source": [
    "- Reference: https://www.wekeo.eu/docs/harmonised-data-access-api\n",
    "- API: https://wekeo-broker.apps.mercator.dpi.wekeo.eu/databroker/ui/#/"
   ]
  },
  {
   "cell_type": "markdown",
   "id": "a376d666-ecaf-487c-90e7-8713ee6103c9",
   "metadata": {},
   "source": [
    "## Get token"
   ]
  },
  {
   "cell_type": "markdown",
   "id": "95edb516-e6dc-41f3-a29c-d3bab4ec98fb",
   "metadata": {},
   "source": [
    "Reference used to get the access token follow this page instructions: \n",
    "- https://curlconverter.com/ to translate the curl request\n",
    "- https://www.base64encode.org/ write \"username:password\" and copy&paste the base64encore in the headers below.\n",
    "\n",
    "The following widget allows to login with your WEkEO credentials and obtain the token with the **get_token** function."
   ]
  },
  {
   "cell_type": "code",
   "execution_count": null,
   "id": "161dd0b1-820c-460b-8f27-acc9855cead0",
   "metadata": {},
   "outputs": [],
   "source": [
    "username = m.text_widget(\"Insert username: \")\n",
    "password = m.password_widget(\"Insert password: \")\n",
    "\n",
    "login_box = widgets.VBox([username, password])\n",
    "login_box"
   ]
  },
  {
   "cell_type": "code",
   "execution_count": null,
   "id": "fdb639b1-0fa8-4090-810d-dee98ec5fadd",
   "metadata": {},
   "outputs": [],
   "source": [
    "headers = m.get_token(username, password)\n",
    "token = list(headers.values())[0]"
   ]
  },
  {
   "cell_type": "markdown",
   "id": "1750d564-b9c4-4ad1-b813-8d66869833a4",
   "metadata": {},
   "source": [
    "----"
   ]
  },
  {
   "cell_type": "markdown",
   "id": "4e9355d7-46c6-45eb-a832-44609ad0280a",
   "metadata": {
    "tags": []
   },
   "source": [
    "## ERA5 - Reanalysis Single Levels"
   ]
  },
  {
   "cell_type": "code",
   "execution_count": null,
   "id": "7018f95d-10b3-4c27-bc21-7bccc74babf4",
   "metadata": {},
   "outputs": [],
   "source": [
    "# dataset_id = \"EO:ECMWF:DAT:REANALYSIS_ERA5_SINGLE_LEVELS\""
   ]
  },
  {
   "cell_type": "code",
   "execution_count": null,
   "id": "a62de826-0e5c-4e8a-911b-5e30fb6118c0",
   "metadata": {},
   "outputs": [],
   "source": [
    "# df = m.get_all_data_request(2000)\n",
    "# dataset_list = df[\"datasetId\"]"
   ]
  },
  {
   "cell_type": "code",
   "execution_count": null,
   "id": "355755b3-cbf7-4da0-a501-a672d5f50653",
   "metadata": {},
   "outputs": [],
   "source": [
    "name = m.text_widget(\"Insert data name: \")\n",
    "name"
   ]
  },
  {
   "cell_type": "markdown",
   "id": "94bc2806-fd48-41a4-8e5a-586dd995852f",
   "metadata": {},
   "source": [
    "Select \"EO:ECMWF:DAT:REANALYSIS_ERA5_SINGLE_LEVELS\" from the Dropdown list:"
   ]
  },
  {
   "cell_type": "code",
   "execution_count": null,
   "id": "ac255f4e-793b-4f0d-bb5a-9d19a545f79b",
   "metadata": {},
   "outputs": [],
   "source": [
    "data_df = m.get_data_from_name_request(2000, name.value)\n",
    "dataset_list = data_df[\"datasetId\"]\n",
    "dataset_id = m.get_dropdown(dataset_list, \"List of datasets: \")\n",
    "dataset_id"
   ]
  },
  {
   "cell_type": "code",
   "execution_count": null,
   "id": "d1cc67e7-1298-4844-8f83-97eb99393048",
   "metadata": {},
   "outputs": [],
   "source": [
    "description = m.get_description(data_df, dataset_id)"
   ]
  },
  {
   "cell_type": "code",
   "execution_count": null,
   "id": "fac1d941-159f-4ae5-8731-fd8342c29c38",
   "metadata": {},
   "outputs": [],
   "source": [
    "image = m.display_image(data_df, dataset_id, 500, \"jpg\", 600 )\n",
    "image"
   ]
  },
  {
   "cell_type": "code",
   "execution_count": null,
   "id": "7c126858-4090-4412-a333-8cf2de46755e",
   "metadata": {},
   "outputs": [],
   "source": [
    "metadata = m.get_metadata(dataset_id, headers)"
   ]
  },
  {
   "cell_type": "code",
   "execution_count": null,
   "id": "3f3effa3-b4d1-4cef-89db-cb3453d5b80d",
   "metadata": {},
   "outputs": [],
   "source": [
    "variables_list = m.era5_single_levels_list(metadata)"
   ]
  },
  {
   "cell_type": "code",
   "execution_count": null,
   "id": "3d60a69e-062f-4579-8706-82c6e4776eb9",
   "metadata": {},
   "outputs": [],
   "source": [
    "params_sel = m.select_multiple(variables_list, \"Variable: \")"
   ]
  },
  {
   "cell_type": "code",
   "execution_count": null,
   "id": "9fc5b09a-629a-4fae-8ded-aa13d9cca75f",
   "metadata": {},
   "outputs": [],
   "source": [
    "format_type_list = list(metadata['parameters']['stringChoices'][0]['details']['valuesLabels'].keys())\n",
    "product_type_list = list(metadata['parameters']['multiStringSelects'][1]['details']['groupedValueLabels'][0]['valuesLabels'].keys())\n",
    "year_list = list(metadata['parameters']['multiStringSelects'][2]['details']['groupedValueLabels'][0]['valuesLabels'].keys())\n",
    "month_list = list(metadata['parameters']['multiStringSelects'][3]['details']['groupedValueLabels'][0]['valuesLabels'].keys())\n",
    "day_list = list(metadata['parameters']['multiStringSelects'][4]['details']['groupedValueLabels'][0]['valuesLabels'].keys())\n",
    "time_list = list(metadata['parameters']['multiStringSelects'][5]['details']['groupedValueLabels'][0]['valuesLabels'].keys())\n",
    "download_list = [\"Download NETCDF\", \"Read NETCDF in memory\"]"
   ]
  },
  {
   "cell_type": "code",
   "execution_count": null,
   "id": "bf9a3ecf-b7d5-43dc-af38-582d15ea7d3d",
   "metadata": {},
   "outputs": [],
   "source": [
    "product_type_sel = m.select_multiple(product_type_list, \"Product type:\")\n",
    "year_sel = m.select_multiple(year_list, \"Year: \")\n",
    "month_sel = m.select_multiple(month_list, \"Month: \")\n",
    "day_sel = m.select_multiple(day_list, \"Day: \")\n",
    "time_sel = m.select_multiple(time_list, \"Time: \")\n",
    "format_type_sel = m.select_buttons(format_type_list, \"Format: \", \"netcdf\")\n",
    "download_sel = m.select_buttons(download_list, \"Data download: \", \"Read NETCDF in memory\")"
   ]
  },
  {
   "cell_type": "code",
   "execution_count": null,
   "id": "51ff08f1-0fdb-4af2-aae4-fb7edc7868a9",
   "metadata": {},
   "outputs": [],
   "source": [
    "title= widgets.HTML('<h2 style=\"text-align:center;\">ERA5 - Reanalysis Single Levels</h2><hr><h3 style=\"padding: 10px;\">Input variables - Multiple selection</h3>')\n",
    "title2 = widgets.HTML('<details><h3>'+str(description[0])+'</div><h3></details>')\n",
    "variables = widgets.VBox([title, params_sel, product_type_sel, year_sel, month_sel, day_sel, time_sel, format_type_sel, download_sel])\n",
    "image_box = widgets.VBox([image])\n",
    "\n",
    "\n",
    "ui = widgets.AppLayout(header=title2,\n",
    "          left_sidebar=variables,\n",
    "          right_sidebar=image_box,\n",
    "          layout=widgets.Layout(border='solid'))\n",
    "\n",
    "# compute_button.on_click(compute_button_f)\n",
    "container = widgets.Box([ui])\n",
    "display(container)"
   ]
  },
  {
   "cell_type": "markdown",
   "id": "806d642b-9ed1-4888-9afd-012069eb3b92",
   "metadata": {},
   "source": [
    "----"
   ]
  },
  {
   "cell_type": "code",
   "execution_count": null,
   "id": "52f0177e-1dfc-4b74-b93f-d59fb6cc9dd2",
   "metadata": {},
   "outputs": [],
   "source": [
    "job = m.api_query_era5_single_levels(dataset_id, params_sel, year_sel, month_sel, day_sel, time_sel, product_type_sel, format_type_sel, token)"
   ]
  },
  {
   "cell_type": "code",
   "execution_count": null,
   "id": "458c738a-fadf-4233-8a97-8c8feea5de96",
   "metadata": {},
   "outputs": [],
   "source": [
    "jobId = job['jobId']\n",
    "print(\"The job ID is: \"+jobId)"
   ]
  },
  {
   "cell_type": "code",
   "execution_count": null,
   "id": "12858140-a8ad-456d-bc8d-8489e9f73073",
   "metadata": {},
   "outputs": [],
   "source": [
    "url = m.request_data(jobId, token)"
   ]
  },
  {
   "cell_type": "code",
   "execution_count": null,
   "id": "f71c47d1-5b7d-436c-bd8f-3896ba5957de",
   "metadata": {},
   "outputs": [],
   "source": [
    "save_as = m.text_widget(\"Save file as (only if you want to download): \")\n",
    "save_as"
   ]
  },
  {
   "cell_type": "code",
   "execution_count": null,
   "id": "5b49eed5-6313-48ad-9ca1-a5494765f2d0",
   "metadata": {},
   "outputs": [],
   "source": [
    "ds = m.download_type(download_sel, download_list, url, save_as)"
   ]
  },
  {
   "cell_type": "code",
   "execution_count": null,
   "id": "dc7d2745-2a6c-4266-9278-2273b557d421",
   "metadata": {},
   "outputs": [],
   "source": [
    "ds"
   ]
  },
  {
   "cell_type": "code",
   "execution_count": null,
   "id": "3dc7012f-616e-456a-ae25-7fc2c1a6f5a5",
   "metadata": {},
   "outputs": [],
   "source": [
    "variables = list(ds.keys())\n",
    "var_drop = widgets.Dropdown(\n",
    "    options=variables,\n",
    "    description='Variable:',\n",
    "    disabled=False,\n",
    "    width = '50px'\n",
    ")\n",
    "\n",
    "var_drop"
   ]
  },
  {
   "cell_type": "code",
   "execution_count": null,
   "id": "9f96a5bb-243f-4b85-aa81-af55a611b78f",
   "metadata": {},
   "outputs": [],
   "source": [
    "ds_data = ds[var_drop.value].squeeze()\n",
    "ds_data"
   ]
  },
  {
   "cell_type": "code",
   "execution_count": null,
   "id": "e0667431-f765-4d5c-a020-b48e54d5caaa",
   "metadata": {},
   "outputs": [],
   "source": [
    "# f = plt.figure(figsize=(10,8))\n",
    "# ax = plt.axes(projection=ccrs.PlateCarree())\n",
    "# ax.coastlines()\n",
    "# gl= ax.gridlines(crs=ccrs.PlateCarree(),draw_labels=True)\n",
    "# gl.right_labels=False\n",
    "# gl.top_labels=False\n",
    "# ax.add_feature(cfeature.LAND, zorder=1,edgecolor='k')\n",
    "# ax.set_extent([-180,180, -90, 90],crs=ccrs.PlateCarree())\n",
    "\n",
    "# f.suptitle(ds_data.long_name, fontsize=28)\n",
    "# im = ax.pcolor(ds_data['longitude'].data,ds_data['latitude'].data, ds_data, cmap='plasma')\n",
    "# cbar= f.colorbar(im,ax=ax)\n",
    "# cbar.set_label(ds_data.units, rotation =270, fontsize=23,labelpad=15)"
   ]
  },
  {
   "cell_type": "code",
   "execution_count": null,
   "id": "36ce0539-d9a5-48d2-9a48-e2162faee846",
   "metadata": {},
   "outputs": [],
   "source": [
    "hv_dataset = hv.Dataset(ds_data)\n",
    "hv_dataset.data"
   ]
  },
  {
   "cell_type": "code",
   "execution_count": null,
   "id": "68da6f4a-f0bc-4e30-ba4c-6c8834f4009a",
   "metadata": {},
   "outputs": [],
   "source": [
    "map_height=400\n",
    "map_width=800\n",
    "\n",
    "hv_tiles_osm = hv.element.tiles.OSM()\n",
    "\n",
    "hv.opts.defaults(\n",
    "  hv.opts.Image(alpha=0.7,\n",
    "                height=map_height, width=map_width, \n",
    "                colorbar=True, \n",
    "                tools=['hover'], active_tools=['wheel_zoom'],\n",
    "                title=ds_data.long_name+\" [\"+ds_data.units+\"]\"),\n",
    "  hv.opts.Tiles(active_tools=['wheel_zoom'], height=map_height, width=map_width)\n",
    ")\n",
    "\n",
    "hv_image_basic = hv.Image(hv_dataset)\n",
    "hv_image_basic = hv_image_basic.options(cmap='inferno')\n",
    "hv_image_basic"
   ]
  },
  {
   "cell_type": "code",
   "execution_count": null,
   "id": "200377f7-0680-474a-a44a-6448bff7a38e",
   "metadata": {},
   "outputs": [],
   "source": [
    "ds = ds_data.rio.write_crs('EPSG:4326')\n",
    "ds_mercator = ds.rio.reproject('EPSG:3857')\n",
    "\n",
    "hv_dataset = hv.Dataset(ds_mercator)\n",
    "hv_image_basic = hv.Image(hv_dataset)\n",
    "hv_image_basic = hv_image_basic.options(cmap='inferno')\n",
    "\n",
    "hv.element.tiles.OSM() * hv_image_basic"
   ]
  },
  {
   "cell_type": "code",
   "execution_count": null,
   "id": "da541e7b-b4f9-4409-9260-f2dcde944bc6",
   "metadata": {},
   "outputs": [],
   "source": [
    "ds.hvplot.quadmesh(\n",
    "    'longitude', 'latitude', var_drop.value, projection=ccrs.Orthographic(-90, 30),\n",
    "    global_extent=True, frame_height=540, cmap='viridis',\n",
    "    coastline=True\n",
    ")"
   ]
  },
  {
   "cell_type": "code",
   "execution_count": null,
   "id": "f4bb5681-c4b0-4c97-b8e1-9d19dbf1c639",
   "metadata": {},
   "outputs": [],
   "source": [
    "ds.hvplot.quadmesh(\n",
    "    'longitude', 'latitude', var_drop.value, crs=ccrs.PlateCarree(), projection=ccrs.PlateCarree(),\n",
    "    global_extent=True, frame_height=400, cmap='viridis',\n",
    "    coastline=True\n",
    ")"
   ]
  },
  {
   "cell_type": "markdown",
   "id": "d8103d9f-91c7-48ed-9f62-e65aa62ebce8",
   "metadata": {},
   "source": [
    "----"
   ]
  },
  {
   "cell_type": "markdown",
   "id": "7cbe0846-20e4-4447-81d4-c9ca4e4600d7",
   "metadata": {},
   "source": [
    "# CAMS"
   ]
  },
  {
   "cell_type": "code",
   "execution_count": null,
   "id": "30453793-bbf1-4ba7-bae2-27921598b447",
   "metadata": {},
   "outputs": [],
   "source": [
    "dataset_id = \"EO:ECMWF:DAT:CAMS_EUROPE_AIR_QUALITY_FORECASTS\""
   ]
  },
  {
   "cell_type": "code",
   "execution_count": null,
   "id": "86a92fd5-d9ab-4b81-a94b-12a3401f5b58",
   "metadata": {},
   "outputs": [],
   "source": [
    "dataset = requests.get(\"https://wekeo-broker-k8s.apps.mercator.dpi.wekeo.eu/databroker/datasets?size=2000\")\n",
    "dataset_text = dataset.text\n",
    "data = json.loads(dataset_text)"
   ]
  },
  {
   "cell_type": "code",
   "execution_count": null,
   "id": "bf5a50da-2d43-46e0-90ee-ed22c14435ee",
   "metadata": {},
   "outputs": [],
   "source": [
    "# from JSON to Pandas DataFrame\n",
    "data_df = pd.json_normalize(data['content'])\n",
    "data_df"
   ]
  },
  {
   "cell_type": "code",
   "execution_count": null,
   "id": "c07e2e92-3277-46fd-953e-34099646fdc2",
   "metadata": {},
   "outputs": [],
   "source": [
    "abstract = data_df.loc[data_df['datasetId'] == dataset_id]\n",
    "description = list(abstract[\"abstract\"])"
   ]
  },
  {
   "cell_type": "code",
   "execution_count": null,
   "id": "7a92269e-7944-4daf-b467-72fba9d4a0b2",
   "metadata": {},
   "outputs": [],
   "source": [
    "img_url = list(abstract[\"previewImage\"])[0]\n",
    "im = Image.open(requests.get(img_url, stream=True).raw)"
   ]
  },
  {
   "cell_type": "code",
   "execution_count": null,
   "id": "f82c08ed-e9c3-4661-b485-d456f2ea69aa",
   "metadata": {},
   "outputs": [],
   "source": [
    "dataset = requests.get(\"https://wekeo-broker-k8s.apps.mercator.dpi.wekeo.eu/databroker/querymetadata/\"+dataset_id, headers=headers)\n",
    "dataset_text = dataset.text\n",
    "metadata = json.loads(dataset_text)"
   ]
  },
  {
   "cell_type": "code",
   "execution_count": null,
   "id": "fee388d8-5fd7-4473-b26c-38ec33531db1",
   "metadata": {},
   "outputs": [],
   "source": [
    "abstract = data_df.loc[data_df[\"datasetId\"] == dataset_id]"
   ]
  },
  {
   "cell_type": "code",
   "execution_count": null,
   "id": "b777f68d-7bf8-49d4-b42e-3ff7ff779771",
   "metadata": {},
   "outputs": [],
   "source": [
    "params_list = list(metadata['parameters']['multiStringSelects'][0]['details']['groupedValueLabels'][0]['valuesLabels'].keys())\n",
    "product_type_list = list(metadata['parameters']['multiStringSelects'][1]['details']['groupedValueLabels'][0]['valuesLabels'].keys())\n",
    "level_list = list(metadata['parameters']['multiStringSelects'][2]['details']['groupedValueLabels'][0]['valuesLabels'].keys())\n",
    "type_model_list = list(metadata['parameters']['multiStringSelects'][3]['details']['groupedValueLabels'][0]['valuesLabels'].keys())\n",
    "time_list = list(metadata['parameters']['multiStringSelects'][4]['details']['groupedValueLabels'][0]['valuesLabels'].keys())\n",
    "leadtime_list = list(metadata['parameters']['multiStringSelects'][5]['details']['groupedValueLabels'][0]['valuesLabels'].keys())\n",
    "format_type_list = list(metadata['parameters']['stringChoices'][0]['details']['valuesLabels'].keys())"
   ]
  },
  {
   "cell_type": "code",
   "execution_count": null,
   "id": "278614a7-97ad-49ed-b916-1dc8094bf4b9",
   "metadata": {},
   "outputs": [],
   "source": [
    "params_sel = widgets.SelectMultiple(\n",
    "    options=params_list,\n",
    "    description='Select parameters:',\n",
    "    disabled=False)"
   ]
  },
  {
   "cell_type": "code",
   "execution_count": null,
   "id": "3c4e0fa1-6ea0-44e4-bbb5-fbb7d545f685",
   "metadata": {},
   "outputs": [],
   "source": [
    "product_type_sel = widgets.SelectMultiple(\n",
    "    options=product_type_list,\n",
    "    description='Product type:',\n",
    "    disabled=False)"
   ]
  },
  {
   "cell_type": "code",
   "execution_count": null,
   "id": "d1a69bbc-e80f-43d1-b2bc-6ac8c33343f9",
   "metadata": {},
   "outputs": [],
   "source": [
    "level_sel = widgets.SelectMultiple(\n",
    "    options=level_list,\n",
    "    description='Level:',\n",
    "    disabled=False)"
   ]
  },
  {
   "cell_type": "code",
   "execution_count": null,
   "id": "a41eedd4-920b-49d9-bb52-c891a48a8738",
   "metadata": {},
   "outputs": [],
   "source": [
    "type_model_sel = widgets.SelectMultiple(\n",
    "    options=type_model_list,\n",
    "    description='Model: ',\n",
    "    disabled=False)"
   ]
  },
  {
   "cell_type": "code",
   "execution_count": null,
   "id": "5c5bf465-b252-460c-8e3d-a426896319f4",
   "metadata": {},
   "outputs": [],
   "source": [
    "time_sel = widgets.SelectMultiple(\n",
    "    options=time_list,\n",
    "    description='Time: ',\n",
    "    disabled=False)"
   ]
  },
  {
   "cell_type": "code",
   "execution_count": null,
   "id": "ea2bfc5b-0012-4360-95ee-139825812f6d",
   "metadata": {},
   "outputs": [],
   "source": [
    "leadtime_sel = widgets.SelectMultiple(\n",
    "    options=leadtime_list,\n",
    "    description='Leadtime: ',\n",
    "    disabled=False)"
   ]
  },
  {
   "cell_type": "code",
   "execution_count": null,
   "id": "3cd19d96-4a54-46a6-90eb-3da1926af6dc",
   "metadata": {},
   "outputs": [],
   "source": [
    "format_type_sel = widgets.RadioButtons(\n",
    "    options=format_type_list,\n",
    "    value='netcdf',\n",
    "    layout={'width': 'max-content'}, # If the items' names are long\n",
    "    description='Format type (netcdf for xarray):',\n",
    "        disabled=False)"
   ]
  },
  {
   "cell_type": "code",
   "execution_count": null,
   "id": "0334e7d1-dad3-4f9b-bb66-47738c9b6ce1",
   "metadata": {},
   "outputs": [],
   "source": [
    "start_date = widgets.DatePicker(\n",
    "    description='Pick starting date: ',\n",
    "    disabled=False\n",
    ")"
   ]
  },
  {
   "cell_type": "code",
   "execution_count": null,
   "id": "7c3ac180-8813-4e58-af64-031956bbbee8",
   "metadata": {},
   "outputs": [],
   "source": [
    "end_date = widgets.DatePicker(\n",
    "    description='Pick ending date: ',\n",
    "    disabled=False\n",
    ")"
   ]
  },
  {
   "cell_type": "code",
   "execution_count": null,
   "id": "adf3d474-8b51-4fc6-820c-adfab9d8a9fa",
   "metadata": {},
   "outputs": [],
   "source": [
    "from ipyleaflet import Map, basemaps, basemap_to_tiles, DrawControl, LayersControl\n",
    "\n",
    "satellite = basemap_to_tiles(basemaps.Gaode.Satellite)\n",
    "osm = basemap_to_tiles(basemaps.OpenStreetMap.Mapnik)\n",
    "\n",
    "m = Map(layers=(satellite, osm ), center=(45, 10), zoom=4)\n",
    "\n",
    "dc = DrawControl()\n",
    "lc = LayersControl(position='topright')\n",
    "\n",
    "dc = DrawControl(\n",
    "    marker={\"shapeOptions\": {\"color\": \"#0000FF\"}},\n",
    "    rectangle={\"shapeOptions\": {\"color\": \"#0000FF\"}},\n",
    "    circle={\"shapeOptions\": {\"color\": \"#0000FF\"}},\n",
    "    circlemarker={},\n",
    ")\n",
    "\n",
    "def handle_draw(target, action, geo_json):\n",
    "    print(action)\n",
    "    print(geo_json)\n",
    "\n",
    "\n",
    "dc.on_draw(handle_draw)\n",
    "m.add_control(dc)\n",
    "m.add_control(lc)\n",
    "\n",
    "m"
   ]
  },
  {
   "cell_type": "code",
   "execution_count": null,
   "id": "ff6543ce-0af3-4d1d-8d32-389f9586e86d",
   "metadata": {},
   "outputs": [],
   "source": [
    "coords = dc.last_draw['geometry']['coordinates'][0]\n",
    "coords"
   ]
  },
  {
   "cell_type": "code",
   "execution_count": null,
   "id": "4b68e956-264f-4100-ba18-82eba2d30065",
   "metadata": {},
   "outputs": [],
   "source": [
    "W = coords[1][0]\n",
    "E = coords[3][0]\n",
    "N = coords[1][1]\n",
    "S = coords[3][1]"
   ]
  },
  {
   "cell_type": "code",
   "execution_count": null,
   "id": "6570d58b-78c5-45ba-a4cf-46690b2b27f8",
   "metadata": {},
   "outputs": [],
   "source": [
    "import IPython\n",
    "image = IPython.display.Image(img_url, width = 300)\n",
    "\n",
    "image = widgets.Image(\n",
    "  value=image.data,\n",
    "  format='jpg', \n",
    "  width=600,\n",
    "  height=700,\n",
    ")"
   ]
  },
  {
   "cell_type": "code",
   "execution_count": null,
   "id": "741b5af0-64c0-453a-8cd1-f7488294e02d",
   "metadata": {},
   "outputs": [],
   "source": [
    "title= widgets.HTML('<h2 style=\"text-align:center;\">CAMS European air quality forecasts </h2><hr><h3 style=\"padding: 10px;\">Input variables - Multiple selection</h3>')\n",
    "title2 = widgets.HTML('<details><h3>'+str(description[0])+'</div><h3></details>')\n",
    "variables = widgets.VBox([title, params_sel, product_type_sel, level_sel, type_model_sel, leadtime_sel,time_sel, start_date, end_date, format_type_sel])\n",
    "image_box = widgets.VBox([image])\n",
    "\n",
    "\n",
    "ui = widgets.AppLayout(header=title2,\n",
    "          left_sidebar=variables,\n",
    "          right_sidebar=image_box,\n",
    "          layout=widgets.Layout(border='solid'))\n",
    "\n",
    "# compute_button.on_click(compute_button_f)\n",
    "container = widgets.Box([ui])\n",
    "display(container)"
   ]
  },
  {
   "cell_type": "code",
   "execution_count": null,
   "id": "e9d1f355-a621-4329-8893-083714652b9c",
   "metadata": {},
   "outputs": [],
   "source": [
    "query = {\n",
    "  \"datasetId\": dataset_id,\n",
    "  \"boundingBoxValues\": [\n",
    "    {\n",
    "      \"name\": \"area\",\n",
    "      \"bbox\": [\n",
    "        W,\n",
    "        N,\n",
    "        E,\n",
    "        S\n",
    "      ]\n",
    "    }\n",
    "  ],\n",
    "  \"dateRangeSelectValues\": [\n",
    "    {\n",
    "      \"name\": \"date\",\n",
    "      \"start\": start_date.value.strftime(\"%Y-%m-%dT%H:%M:%S.000Z\"),\n",
    "      \"end\": end_date.value.strftime(\"%Y-%m-%dT%H:%M:%S.000Z\")\n",
    "    }\n",
    "  ],\n",
    "  \"multiStringSelectValues\": [\n",
    "    {\n",
    "      \"name\": \"variable\",\n",
    "      \"value\": list(params_sel.value)\n",
    "    },\n",
    "    {\n",
    "      \"name\": \"model\",\n",
    "      \"value\": list(product_type_sel.value)\n",
    "    },\n",
    "    {\n",
    "      \"name\": \"level\",\n",
    "      \"value\": list(level_sel.value)\n",
    "    },\n",
    "    {\n",
    "      \"name\": \"type\",\n",
    "      \"value\": list(type_model_sel.value)\n",
    "    },\n",
    "    {\n",
    "      \"name\": \"time\",\n",
    "      \"value\": list(time_sel.value)\n",
    "\n",
    "    },\n",
    "    {\n",
    "      \"name\": \"leadtime_hour\",\n",
    "      \"value\": list(leadtime_sel.value)\n",
    "    }\n",
    "  ],\n",
    "  \"stringChoiceValues\": [\n",
    "    {\n",
    "      \"name\": \"format\",\n",
    "      \"value\": format_type_sel.value\n",
    "    }\n",
    "  ]\n",
    "}\n",
    "headers = {\n",
    "    'Content-Type': 'application/json',\n",
    "    'Accept': 'application/json',\n",
    "    'authorization': 'Basic '+str(token['access_token'])\n",
    "}\n",
    "\n",
    "data = json.dumps(query)\n",
    "dataset_post = requests.post(\"https://wekeo-broker-k8s.apps.mercator.dpi.wekeo.eu/databroker/datarequest\", headers=headers, data=data)\n",
    "dataset_post_text = dataset_post.text\n",
    "job_id = json.loads(dataset_post_text)\n",
    "\n",
    "# # The following line runs the query\n",
    "# matches = c.search(query)\n",
    "\n",
    "print(dataset_post_text)"
   ]
  },
  {
   "cell_type": "code",
   "execution_count": null,
   "id": "ee8c96ab-883c-424e-b4e5-38142fdc48b6",
   "metadata": {},
   "outputs": [],
   "source": [
    "jobId = job_id['jobId']\n",
    "print(\"The job ID is: \"+jobId)"
   ]
  },
  {
   "cell_type": "code",
   "execution_count": null,
   "id": "40cf3e0f-8c0c-448c-9707-0e8f45212631",
   "metadata": {},
   "outputs": [],
   "source": [
    "headers = {'authorization': 'Basic '+str(token['access_token'])}\n",
    "\n",
    "\n",
    "status_request = requests.get('https://wekeo-broker.apps.mercator.dpi.wekeo.eu/databroker/datarequest/status/'+jobId, headers=headers)\n",
    "status = status_request.text\n",
    "status_message = json.loads(status)['status']\n",
    "if status_message == \"running\":\n",
    "    print(\"Download status: \"+ status_message +\"...\")\n",
    "if status_message == \"completed\":     \n",
    "    print(\"Download status: \"+ status_message +\"  \\u2713\")\n",
    "    \n",
    "while status_message == \"running\":\n",
    "    status_request = requests.get('https://wekeo-broker.apps.mercator.dpi.wekeo.eu/databroker/datarequest/status/'+jobId, headers=headers)\n",
    "    status = status_request.text\n",
    "    status_message = json.loads(status)['status']\n",
    "    if status_message == \"running\":\n",
    "        print(\"Download status: \"+ status_message +\"...\", end='\\r')\n",
    "    if status_message == \"completed\":     \n",
    "        print(\"Download status: \"+ status_message +\"  \\u2713\")"
   ]
  },
  {
   "cell_type": "code",
   "execution_count": null,
   "id": "8ada52f7-9021-4fad-945d-e15a03655c0c",
   "metadata": {},
   "outputs": [],
   "source": [
    "headers = {'authorization': 'Basic '+str(token['access_token'])}\n",
    "get_url_request = requests.get('https://wekeo-broker.apps.mercator.dpi.wekeo.eu/databroker/datarequest/jobs/'+jobId+'/result', headers=headers)\n",
    "get_url = json.loads(get_url_request.text)\n",
    "print('The URL for download is: '+ get_url['content'][0]['url'])"
   ]
  },
  {
   "cell_type": "code",
   "execution_count": null,
   "id": "3a1ef807-4abd-48c7-9fd0-97d0db9a568d",
   "metadata": {},
   "outputs": [],
   "source": [
    "fl = get_url['content'][0]['url']\n",
    "# load into memory \n",
    "with urlopen(fl) as f:\n",
    "    ds = xr.open_dataset(f.read())"
   ]
  },
  {
   "cell_type": "code",
   "execution_count": null,
   "id": "9075f03f-f04f-4864-88be-77742cc1d846",
   "metadata": {},
   "outputs": [],
   "source": [
    "ds = ds.mean(dim='time')"
   ]
  },
  {
   "cell_type": "code",
   "execution_count": null,
   "id": "a75132f1-6dd0-4c2b-b5b9-a57269875768",
   "metadata": {},
   "outputs": [],
   "source": [
    "variables = list(ds.keys())\n",
    "var_drop = widgets.Dropdown(\n",
    "    options=variables,\n",
    "    description='Variable:',\n",
    "    disabled=False,\n",
    "    width = '50px'\n",
    ")\n",
    "\n",
    "var_drop"
   ]
  },
  {
   "cell_type": "code",
   "execution_count": null,
   "id": "9c94223d-80f8-4768-a270-64f7c3393a7a",
   "metadata": {},
   "outputs": [],
   "source": [
    "ds_data = ds[var_drop.value].squeeze()"
   ]
  },
  {
   "cell_type": "code",
   "execution_count": null,
   "id": "3c8a2951-e222-4382-8d4b-cd7fe8ee1947",
   "metadata": {},
   "outputs": [],
   "source": [
    "# f = plt.figure(figsize=(10,8))\n",
    "# ax = plt.axes(projection=ccrs.PlateCarree())\n",
    "# ax.coastlines()\n",
    "# gl= ax.gridlines(crs=ccrs.PlateCarree(),draw_labels=True)\n",
    "# gl.right_labels=False\n",
    "# gl.top_labels=False\n",
    "# ax.add_feature(cfeature.LAND, zorder=1,edgecolor='k')\n",
    "# ax.set_extent([-180,180, -90, 90],crs=ccrs.PlateCarree())\n",
    "\n",
    "# f.suptitle(ds_data.name, fontsize=28)\n",
    "# im = ax.pcolor(ds_data['longitude'].data,ds_data['latitude'].data, ds_data, cmap='plasma')\n",
    "# cbar= f.colorbar(im,ax=ax)\n",
    "# # cbar.set_label(ds_data.units, rotation =270, fontsize=23,labelpad=15)"
   ]
  },
  {
   "cell_type": "code",
   "execution_count": null,
   "id": "59e4e7b5-1c6a-40c5-a10b-a888547728ab",
   "metadata": {},
   "outputs": [],
   "source": [
    "hv_dataset = hv.Dataset(ds_data)\n",
    "hv_dataset.data"
   ]
  },
  {
   "cell_type": "code",
   "execution_count": null,
   "id": "75a62074-2d89-48c8-afeb-8447367bc096",
   "metadata": {},
   "outputs": [],
   "source": [
    "map_height=400\n",
    "map_width=800\n",
    "\n",
    "hv_tiles_osm = hv.element.tiles.OSM()\n",
    "\n",
    "hv.opts.defaults(\n",
    "  hv.opts.Image(alpha=0.7,\n",
    "                height=map_height, width=map_width, \n",
    "                colorbar=True, \n",
    "                tools=['hover'], active_tools=['wheel_zoom'],\n",
    "                title=ds_data.name),\n",
    "  hv.opts.Tiles(active_tools=['wheel_zoom'], height=map_height, width=map_width)\n",
    ")\n",
    "\n",
    "hv_image_basic = hv.Image(hv_dataset)\n",
    "hv_image_basic = hv_image_basic.options(cmap='inferno')\n",
    "hv_image_basic"
   ]
  },
  {
   "cell_type": "code",
   "execution_count": null,
   "id": "5a110b20-1216-4f69-bfe8-e3fc28200edf",
   "metadata": {},
   "outputs": [],
   "source": [
    "# ds = ds_data.rio.write_crs('EPSG:4326')\n",
    "# ds_mercator = ds.rio.reproject('EPSG:3857')\n",
    "\n",
    "# hv_dataset = hv.Dataset(ds_mercator)\n",
    "# hv_image_basic = hv.Image(hv_dataset)\n",
    "# hv_image_basic = hv_image_basic.options(cmap='inferno')\n",
    "\n",
    "# hv.element.tiles.OSM() * hv_image_basic"
   ]
  },
  {
   "cell_type": "code",
   "execution_count": null,
   "id": "3a2832b0-3910-4315-80af-03933c6f5b87",
   "metadata": {},
   "outputs": [],
   "source": [
    "ds.hvplot.quadmesh(\n",
    "    'longitude', 'latitude', var_drop.value, projection=ccrs.Orthographic(4, 30),\n",
    "    global_extent=True, frame_height=540, cmap='viridis',\n",
    "    coastline=True\n",
    ")"
   ]
  },
  {
   "cell_type": "code",
   "execution_count": null,
   "id": "99b5673b-c2ee-47fa-9c30-80ceec8e64ef",
   "metadata": {},
   "outputs": [],
   "source": [
    "ds.hvplot.quadmesh(\n",
    "    'longitude', 'latitude', var_drop.value, crs=ccrs.PlateCarree(), projection=ccrs.PlateCarree(),\n",
    "    global_extent=True, frame_height=400, cmap='viridis',\n",
    "    coastline=True\n",
    ")"
   ]
  },
  {
   "cell_type": "code",
   "execution_count": null,
   "id": "49032994-2fb9-4972-a8b0-e9829438cfe0",
   "metadata": {},
   "outputs": [],
   "source": []
  },
  {
   "cell_type": "code",
   "execution_count": null,
   "id": "795f5064-8426-44be-95f4-3585102b4027",
   "metadata": {},
   "outputs": [],
   "source": []
  },
  {
   "cell_type": "markdown",
   "id": "d09b908b-7814-48bd-b0bd-65f10b3b766e",
   "metadata": {},
   "source": [
    "---"
   ]
  },
  {
   "cell_type": "markdown",
   "id": "21dcccea-9633-4da7-bddb-0b5161b8f28a",
   "metadata": {},
   "source": [
    "## Datasets exploration"
   ]
  },
  {
   "cell_type": "code",
   "execution_count": null,
   "id": "6e2fe80d-9cc6-4596-884c-4033319183a9",
   "metadata": {},
   "outputs": [],
   "source": [
    "dataset = requests.get(\"https://wekeo-broker-k8s.apps.mercator.dpi.wekeo.eu/databroker/datasets?size=2000\")\n",
    "dataset_text = dataset.text\n",
    "data = json.loads(dataset_text)"
   ]
  },
  {
   "cell_type": "markdown",
   "id": "8838bc37-6977-4b22-9edb-b06fad2c3139",
   "metadata": {},
   "source": [
    "Dataframe containing all the datasets available on WEkEO, with an abstract, a preview image and a title:"
   ]
  },
  {
   "cell_type": "code",
   "execution_count": null,
   "id": "0c55fc41-ac90-4475-b8d8-9979f2afd709",
   "metadata": {},
   "outputs": [],
   "source": [
    "# from JSON to Pandas DataFrame\n",
    "data_df = pd.json_normalize(data['content'])\n",
    "data_df"
   ]
  },
  {
   "cell_type": "markdown",
   "id": "92f120ed-5764-48ec-97e7-f207be1dcb70",
   "metadata": {},
   "source": [
    "Select the dataset id with a dropdown:"
   ]
  },
  {
   "cell_type": "code",
   "execution_count": null,
   "id": "58cb28eb-d751-42aa-bf3c-39c3f2a9f108",
   "metadata": {},
   "outputs": [],
   "source": [
    "dataset_list = data_df['datasetId']\n",
    "\n",
    "datasetId_drop = widgets.Dropdown(\n",
    "    options=list(dataset_list),\n",
    "    description='Dataset ID:',\n",
    "    disabled=False)\n",
    "\n",
    "datasetId_drop"
   ]
  },
  {
   "cell_type": "code",
   "execution_count": null,
   "id": "5e8b49b0-3bd7-4920-96ae-5bf3773a64c6",
   "metadata": {},
   "outputs": [],
   "source": [
    "datasetId_drop.value"
   ]
  },
  {
   "cell_type": "markdown",
   "id": "110a0bdb-4012-44e1-9e54-c81e2c50a18f",
   "metadata": {},
   "source": [
    "Read abstract corresponding to the dataset ID selected:"
   ]
  },
  {
   "cell_type": "code",
   "execution_count": null,
   "id": "61e6a699-52d7-4a25-94a6-15da466d30fa",
   "metadata": {},
   "outputs": [],
   "source": [
    "abstract = data_df.loc[data_df['datasetId'] == str(datasetId_drop.value)]"
   ]
  },
  {
   "cell_type": "code",
   "execution_count": null,
   "id": "a406287d-142e-4cc2-b0c5-4472285e4bd1",
   "metadata": {},
   "outputs": [],
   "source": [
    "print(list(abstract[\"abstract\"]))"
   ]
  },
  {
   "cell_type": "markdown",
   "id": "fb8acec0-8c3a-4e3b-9095-5f1852df8e58",
   "metadata": {},
   "source": [
    "Plot a preview image of the selected dataset:"
   ]
  },
  {
   "cell_type": "code",
   "execution_count": null,
   "id": "44ead7d2-8804-47e7-bef9-87701e0fcd15",
   "metadata": {},
   "outputs": [],
   "source": [
    "img_url = list(abstract[\"previewImage\"])[0]\n",
    "im = Image.open(requests.get(img_url, stream=True).raw)\n",
    "plt.imshow(im)"
   ]
  },
  {
   "cell_type": "markdown",
   "id": "c4273a19-7225-4c12-8bd2-eb2eddacc479",
   "metadata": {},
   "source": [
    "Request dataset metadata:"
   ]
  },
  {
   "cell_type": "code",
   "execution_count": null,
   "id": "25095670-a0d3-4d6e-9537-adc8f97e6680",
   "metadata": {},
   "outputs": [],
   "source": [
    "dataset = requests.get(\"https://wekeo-broker.apps.mercator.dpi.wekeo.eu/databroker/querymetadata/\"+str(datasetId_drop.value), headers=headers)\n",
    "dataset_text = dataset.text\n",
    "dataset = json.loads(dataset_text)"
   ]
  },
  {
   "cell_type": "code",
   "execution_count": null,
   "id": "49f975f1-b3fc-42ee-a437-b25ca20f05fa",
   "metadata": {},
   "outputs": [],
   "source": [
    "dataset"
   ]
  },
  {
   "cell_type": "markdown",
   "id": "f2dff959-a78f-4d79-b506-482bb4c69725",
   "metadata": {},
   "source": [
    "Select dataset category:"
   ]
  },
  {
   "cell_type": "code",
   "execution_count": null,
   "id": "837224fc-2461-4104-a867-9df7d4f0f5c4",
   "metadata": {},
   "outputs": [],
   "source": [
    "category = dataset['parameters']['multiStringSelects'][0]['details']['groupedValueLabels']\n",
    "category_list = []\n",
    "for item in category:\n",
    "     category_list.append(item[\"label\"])\n",
    "\n",
    "category_drop = widgets.Dropdown(\n",
    "    options=category_list,\n",
    "    description='Category:',\n",
    "    disabled=False)\n",
    "\n",
    "category_drop"
   ]
  },
  {
   "cell_type": "code",
   "execution_count": null,
   "id": "2725d549-5ef1-4170-af51-3eb89e5810f5",
   "metadata": {},
   "outputs": [],
   "source": [
    "category_list\n",
    "category_n = list(range(len(category_list)))"
   ]
  },
  {
   "cell_type": "code",
   "execution_count": null,
   "id": "fd62ae82-4d84-4748-ab4d-7dce13d87101",
   "metadata": {},
   "outputs": [],
   "source": [
    "category_n"
   ]
  },
  {
   "cell_type": "code",
   "execution_count": null,
   "id": "997199f8-cb68-41c9-ac74-e2f00d16afb2",
   "metadata": {},
   "outputs": [],
   "source": [
    "category_dict = dict(zip(category_list, category_n))\n",
    "category_dict"
   ]
  },
  {
   "cell_type": "code",
   "execution_count": null,
   "id": "7678bf38-b406-4f60-9bda-21299af7d24b",
   "metadata": {},
   "outputs": [],
   "source": [
    "parameter = category[category_dict[str(category_drop.value)]]\n",
    "parameter"
   ]
  },
  {
   "cell_type": "code",
   "execution_count": null,
   "id": "d008424b-e0f2-43ef-8314-768c5a95568a",
   "metadata": {},
   "outputs": [],
   "source": [
    "params_list = list(parameter['valuesLabels'].keys())"
   ]
  },
  {
   "cell_type": "code",
   "execution_count": null,
   "id": "73024f90-4dbb-4d30-a767-cb5ef7970a4f",
   "metadata": {},
   "outputs": [],
   "source": [
    "params_drop = widgets.Dropdown(\n",
    "    options=params_list,\n",
    "    description='Category:',\n",
    "    disabled=False)\n",
    "\n",
    "params_drop"
   ]
  },
  {
   "cell_type": "code",
   "execution_count": null,
   "id": "f9f088d8-03a8-4abc-a46d-38302d428181",
   "metadata": {},
   "outputs": [],
   "source": [
    "metadata['parameters']['multiStringSelects'][1]"
   ]
  },
  {
   "cell_type": "code",
   "execution_count": null,
   "id": "cad39cc4-4d66-4a92-bd1d-13a5b4cc6665",
   "metadata": {},
   "outputs": [],
   "source": [
    "metadata"
   ]
  },
  {
   "cell_type": "markdown",
   "id": "43c2d09f-190d-4df4-805b-1fd00fac94e6",
   "metadata": {},
   "source": [
    "# TEST"
   ]
  },
  {
   "cell_type": "code",
   "execution_count": null,
   "id": "dd4f767c-a6ea-463f-a90f-7d7aaea1408b",
   "metadata": {},
   "outputs": [],
   "source": [
    "if query['stringChoiceValues'][0]['value'] == 'netcdf':\n",
    "    fl = matches.results[0]['url']\n",
    "    print('Reading NetCDF file into memory')\n",
    "    # load into memory \n",
    "    with urlopen(fl) as f:\n",
    "        ds = xr.open_dataset(f.read()).mean(dim='time')\n",
    "elif query['stringChoiceValues'][0]['value'] == 'zip':\n",
    "    print('Downloading zip file')\n",
    "    matches.download()"
   ]
  },
  {
   "cell_type": "code",
   "execution_count": null,
   "id": "3a7f77eb-8760-4602-9e22-73ea83d5b29d",
   "metadata": {},
   "outputs": [],
   "source": [
    "import glob, os\n",
    "\n",
    "zip_list = []\n",
    "os.chdir(\"./\")\n",
    "for file in glob.glob(\"*.zip\"):\n",
    "    print(file)\n",
    "    zip_list.append(file)"
   ]
  },
  {
   "cell_type": "code",
   "execution_count": null,
   "id": "b0992e2a-391c-43c6-a754-04b270d5fb7e",
   "metadata": {},
   "outputs": [],
   "source": [
    "zip_list"
   ]
  },
  {
   "cell_type": "code",
   "execution_count": null,
   "id": "11d94ed3-f948-49b7-bc03-3caac8bf1bb1",
   "metadata": {},
   "outputs": [],
   "source": [
    "import ipywidgets as widgets\n",
    "\n",
    "zip_drop = widgets.Dropdown(\n",
    "    options=zip_list,\n",
    "    description='Zip folder:',\n",
    "    disabled=False,\n",
    ")\n",
    "zip_drop"
   ]
  },
  {
   "cell_type": "code",
   "execution_count": null,
   "id": "d9284b1d-f29f-4b75-9aaa-bb4bac74e2c9",
   "metadata": {},
   "outputs": [],
   "source": [
    "import zipfile\n",
    "with zipfile.ZipFile(str(zip_drop.value), 'r') as zip_ref:\n",
    "    zip_ref.extractall('./')"
   ]
  },
  {
   "cell_type": "code",
   "execution_count": null,
   "id": "e17a87f0-2729-42b3-84c3-b9e9138af3bf",
   "metadata": {},
   "outputs": [],
   "source": [
    "nc_list = []\n",
    "os.chdir(\"./\")\n",
    "for file in glob.glob(\"*.nc\"):\n",
    "    print(file)\n",
    "    nc_list.append(file)"
   ]
  },
  {
   "cell_type": "code",
   "execution_count": null,
   "id": "69cc0985-f375-4b86-81b2-d31e5e739e4d",
   "metadata": {},
   "outputs": [],
   "source": [
    "nc_list"
   ]
  },
  {
   "cell_type": "code",
   "execution_count": null,
   "id": "491388e1-6320-4c3f-b3aa-e2caf5394e62",
   "metadata": {},
   "outputs": [],
   "source": [
    "nc_drop = widgets.Dropdown(\n",
    "    options=nc_list,\n",
    "    description='NetCDF folder:',\n",
    "    disabled=False,\n",
    ")\n",
    "nc_drop"
   ]
  },
  {
   "cell_type": "code",
   "execution_count": null,
   "id": "8583f985-e573-4fdf-aacd-69250f62b7c8",
   "metadata": {},
   "outputs": [],
   "source": [
    "ds = xr.open_dataset(nc_drop.value).mean(dim='time')"
   ]
  },
  {
   "cell_type": "code",
   "execution_count": null,
   "id": "15db55cf-765d-461d-9569-5a99d77f617b",
   "metadata": {},
   "outputs": [],
   "source": [
    "hv_dataset = hv.Dataset(ds)\n",
    "hv_dataset.data"
   ]
  },
  {
   "cell_type": "code",
   "execution_count": null,
   "id": "7157c9a8-3275-463d-a3e0-c70b3b6775fc",
   "metadata": {},
   "outputs": [],
   "source": [
    "ds_data = ds['crwc'].squeeze()"
   ]
  },
  {
   "cell_type": "code",
   "execution_count": null,
   "id": "287e49cc-e900-4096-b116-4e36673faea1",
   "metadata": {},
   "outputs": [],
   "source": [
    "map_height=400\n",
    "map_width=800\n",
    "\n",
    "hv_tiles_osm = hv.element.tiles.OSM()\n",
    "\n",
    "hv.opts.defaults(\n",
    "  hv.opts.Image(alpha=0.7,\n",
    "                height=map_height, width=map_width, \n",
    "                colorbar=True, \n",
    "                tools=['hover'], active_tools=['wheel_zoom']),\n",
    "  hv.opts.Tiles(active_tools=['wheel_zoom'], height=map_height, width=map_width)\n",
    ")\n",
    "\n",
    "hv_image_basic = hv.Image(hv_dataset)\n",
    "hv_image_basic = hv_image_basic.options(cmap='inferno')\n",
    "hv_image_basic"
   ]
  },
  {
   "cell_type": "code",
   "execution_count": null,
   "id": "f0323d2c-4df7-4c0e-98c4-9f56b6bee2d9",
   "metadata": {},
   "outputs": [],
   "source": [
    "ds = ds.rio.write_crs('EPSG:4326')\n",
    "ds_mercator = ds.rio.reproject('EPSG:3857')\n",
    "hv_dataset = hv.Dataset(ds_mercator)\n",
    "hv_image_basic = hv.Image(hv_dataset)\n",
    "hv_image_basic = hv_image_basic.options(cmap='inferno')\n",
    "hv.element.tiles.OSM() * hv_image_basic"
   ]
  },
  {
   "cell_type": "code",
   "execution_count": null,
   "id": "68a897dc-ab5a-4653-b34d-9365b14fce42",
   "metadata": {},
   "outputs": [],
   "source": []
  }
 ],
 "metadata": {
  "kernelspec": {
   "display_name": "Python 3 (ipykernel)",
   "language": "python",
   "name": "python3"
  },
  "language_info": {
   "codemirror_mode": {
    "name": "ipython",
    "version": 3
   },
   "file_extension": ".py",
   "mimetype": "text/x-python",
   "name": "python",
   "nbconvert_exporter": "python",
   "pygments_lexer": "ipython3",
   "version": "3.9.12"
  }
 },
 "nbformat": 4,
 "nbformat_minor": 5
}
