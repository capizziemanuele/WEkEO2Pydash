{
 "cells": [
  {
   "cell_type": "markdown",
   "id": "a44cac26-19c3-427e-ac84-94867441013b",
   "metadata": {},
   "source": [
    "# Import libraries"
   ]
  },
  {
   "cell_type": "code",
   "execution_count": null,
   "id": "89af258b-5b6b-44db-a098-02dc9bd9074c",
   "metadata": {},
   "outputs": [],
   "source": [
    "import requests\n",
    "import json\n",
    "import pandas as pd\n",
    "import base64\n",
    "import ipywidgets as widgets\n",
    "from ipywidgets import Layout\n",
    "from PIL import Image\n",
    "import numpy as np\n",
    "import rioxarray as rxr\n",
    "import xarray as xr\n",
    "from urllib.request import urlopen\n",
    "import matplotlib.pyplot as plt\n",
    "import cartopy.crs as ccrs\n",
    "import cartopy.feature as cfeature\n",
    "import hvplot.pandas\n",
    "import hvplot.xarray\n",
    "import holoviews as hv\n",
    "import holoviews.operation.datashader as hd\n",
    "import bokeh as bk\n",
    "from holoviews import opts\n",
    "hv.extension('bokeh')\n",
    "\n",
    "import warnings\n",
    "warnings.filterwarnings('ignore')"
   ]
  },
  {
   "cell_type": "code",
   "execution_count": null,
   "id": "251dfd27-91d0-47ab-940b-051bcb075ee1",
   "metadata": {},
   "outputs": [],
   "source": [
    "%load_ext autoreload\n",
    "%autoreload 2\n",
    "import WEkEO_methods as m"
   ]
  },
  {
   "cell_type": "markdown",
   "id": "f14b8d14-a1e9-48ec-93ed-f341e65c6a30",
   "metadata": {},
   "source": [
    "- Reference: https://www.wekeo.eu/docs/harmonised-data-access-api\n",
    "- API: https://wekeo-broker.apps.mercator.dpi.wekeo.eu/databroker/ui/#/"
   ]
  },
  {
   "cell_type": "markdown",
   "id": "a376d666-ecaf-487c-90e7-8713ee6103c9",
   "metadata": {},
   "source": [
    "## Get token"
   ]
  },
  {
   "cell_type": "markdown",
   "id": "95edb516-e6dc-41f3-a29c-d3bab4ec98fb",
   "metadata": {},
   "source": [
    "Reference used to get the access token follow this page instructions: \n",
    "- https://curlconverter.com/ to translate the curl request\n",
    "- https://www.base64encode.org/ write \"username:password\" and copy&paste the base64encore in the headers below.\n",
    "\n",
    "The following widget allows to login with your WEkEO credentials and obtain the token with the **get_token** function. Just insert Username and Password without launching the script again (also for other widgets just input the data without launching the code again):"
   ]
  },
  {
   "cell_type": "code",
   "execution_count": null,
   "id": "161dd0b1-820c-460b-8f27-acc9855cead0",
   "metadata": {},
   "outputs": [],
   "source": [
    "username = m.text_widget(\"Insert username: \")\n",
    "password = m.password_widget(\"Insert password: \")\n",
    "\n",
    "login_box = widgets.VBox([username, password])\n",
    "login_box"
   ]
  },
  {
   "cell_type": "code",
   "execution_count": null,
   "id": "fdb639b1-0fa8-4090-810d-dee98ec5fadd",
   "metadata": {},
   "outputs": [],
   "source": [
    "headers = m.get_token(username, password)\n",
    "token = list(headers.values())[0]"
   ]
  },
  {
   "cell_type": "markdown",
   "id": "122a476d-59f1-434a-b7fd-b07e665d9bf0",
   "metadata": {},
   "source": [
    "List of datasets used for this notebook:"
   ]
  },
  {
   "cell_type": "code",
   "execution_count": null,
   "id": "e451d85a-7480-4078-bfaa-c3fcba9cf4be",
   "metadata": {},
   "outputs": [],
   "source": [
    "ds_list = ['EO:ECMWF:DAT:REANALYSIS_ERA5_SINGLE_LEVELS',\n",
    "          'EO:ECMWF:DAT:CAMS_EUROPE_AIR_QUALITY_FORECASTS',\n",
    "          'EO:ECMWF:DAT:EFAS_HISTORICAL',\n",
    "          'EO:MO:DAT:NWSHELF_ANALYSISFORECAST_PHY_LR_004_001:cmems_mod_nws_phy-bottomt_anfc_7km-2D_P1D-m']"
   ]
  },
  {
   "cell_type": "markdown",
   "id": "1750d564-b9c4-4ad1-b813-8d66869833a4",
   "metadata": {},
   "source": [
    "----"
   ]
  },
  {
   "cell_type": "markdown",
   "id": "4e9355d7-46c6-45eb-a832-44609ad0280a",
   "metadata": {
    "tags": []
   },
   "source": [
    "# 1- ERA5 - Reanalysis Single Levels"
   ]
  },
  {
   "cell_type": "markdown",
   "id": "6169ede2-0c64-4088-bc0a-6b0fd5a1edb2",
   "metadata": {},
   "source": [
    "Select the ERA5 Reanalysis Single Levels dataset from the dropdown:"
   ]
  },
  {
   "cell_type": "code",
   "execution_count": null,
   "id": "fb7485c6-441b-4489-9e10-7691fa66dfb6",
   "metadata": {},
   "outputs": [],
   "source": [
    "dataset_id = m.get_dropdown(ds_list, \"List of datasets: \")\n",
    "dataset_id"
   ]
  },
  {
   "cell_type": "code",
   "execution_count": null,
   "id": "ac255f4e-793b-4f0d-bb5a-9d19a545f79b",
   "metadata": {},
   "outputs": [],
   "source": [
    "data_df = m.get_data_from_name_request(2000, dataset_id.value)\n",
    "dataset = data_df[data_df['datasetId'] == dataset_id.value]"
   ]
  },
  {
   "cell_type": "code",
   "execution_count": null,
   "id": "9a5da5f1-640b-45bb-a084-af6eb67d2746",
   "metadata": {},
   "outputs": [],
   "source": [
    "title = dataset.title.values[0]"
   ]
  },
  {
   "cell_type": "code",
   "execution_count": null,
   "id": "d1cc67e7-1298-4844-8f83-97eb99393048",
   "metadata": {},
   "outputs": [],
   "source": [
    "description = m.get_description(data_df, dataset_id)"
   ]
  },
  {
   "cell_type": "code",
   "execution_count": null,
   "id": "fac1d941-159f-4ae5-8731-fd8342c29c38",
   "metadata": {},
   "outputs": [],
   "source": [
    "image = m.display_image(data_df, dataset_id, 500, \"jpg\", 600 )"
   ]
  },
  {
   "cell_type": "code",
   "execution_count": null,
   "id": "7c126858-4090-4412-a333-8cf2de46755e",
   "metadata": {},
   "outputs": [],
   "source": [
    "metadata = m.get_metadata(dataset_id, headers)"
   ]
  },
  {
   "cell_type": "code",
   "execution_count": null,
   "id": "99d5be33-533d-4d91-86ea-b0ef5423a06a",
   "metadata": {},
   "outputs": [],
   "source": [
    "tit = widgets.HTML(value='<b><font size=\"+2\">'+title+'</font></b>')\n",
    "descr = widgets.HTML('<details>'+description+'</details>')\n",
    "image_box = widgets.VBox([image])\n",
    "descr_box = widgets.VBox([tit, descr])\n",
    "\n",
    "\n",
    "ui = widgets.AppLayout(header=descr_box,\n",
    "          center = image_box,\n",
    "          layout=widgets.Layout(border='solid'))\n",
    "\n",
    "# compute_button.on_click(compute_button_f)\n",
    "container = widgets.Box([ui])\n",
    "display(container)"
   ]
  },
  {
   "cell_type": "code",
   "execution_count": null,
   "id": "9fc5b09a-629a-4fae-8ded-aa13d9cca75f",
   "metadata": {},
   "outputs": [],
   "source": [
    "variables_list = m.era5_single_levels_list(metadata)\n",
    "format_type_list = list(metadata['parameters']['stringChoices'][0]['details']['valuesLabels'].keys())\n",
    "product_type_list = list(metadata['parameters']['multiStringSelects'][1]['details']['groupedValueLabels'][0]['valuesLabels'].keys())\n",
    "year_list = list(metadata['parameters']['multiStringSelects'][2]['details']['groupedValueLabels'][0]['valuesLabels'].keys())\n",
    "month_list = list(metadata['parameters']['multiStringSelects'][3]['details']['groupedValueLabels'][0]['valuesLabels'].keys())\n",
    "day_list = list(metadata['parameters']['multiStringSelects'][4]['details']['groupedValueLabels'][0]['valuesLabels'].keys())\n",
    "time_list = list(metadata['parameters']['multiStringSelects'][5]['details']['groupedValueLabels'][0]['valuesLabels'].keys())\n",
    "download_list = [\"Download NETCDF\", \"Read NETCDF in memory\"]"
   ]
  },
  {
   "cell_type": "code",
   "execution_count": null,
   "id": "bf9a3ecf-b7d5-43dc-af38-582d15ea7d3d",
   "metadata": {},
   "outputs": [],
   "source": [
    "params_sel = m.select_multiple(variables_list, \"Variable: \")\n",
    "product_type_sel = m.select_multiple(product_type_list, \"Product type:\")\n",
    "year_sel = m.select_multiple(year_list, \"Year: \")\n",
    "month_sel = m.select_multiple(month_list, \"Month: \")\n",
    "day_sel = m.select_multiple(day_list, \"Day: \")\n",
    "time_sel = m.select_multiple(time_list, \"Time: \")\n",
    "format_type_sel = m.select_buttons(format_type_list, \"Format: \", \"netcdf\")\n",
    "download_sel = m.select_buttons(download_list, \"Data download: \", \"Read NETCDF in memory\")"
   ]
  },
  {
   "cell_type": "code",
   "execution_count": null,
   "id": "51ff08f1-0fdb-4af2-aae4-fb7edc7868a9",
   "metadata": {},
   "outputs": [],
   "source": [
    "title= widgets.HTML(value='<h2 style=\"text-align:center;\">'+title+'</h2><hr>')\n",
    "variables = widgets.VBox([title, params_sel, product_type_sel, year_sel, month_sel, day_sel, time_sel, format_type_sel,download_sel])\n",
    "image_box = widgets.VBox([image])\n",
    "\n",
    "\n",
    "ui = widgets.AppLayout(\n",
    "          left_sidebar=variables,\n",
    "          right_sidebar=image_box,\n",
    "          layout=widgets.Layout(border='solid'))\n",
    "\n",
    "# compute_button.on_click(compute_button_f)\n",
    "container = widgets.Box([ui])\n",
    "display(container)"
   ]
  },
  {
   "cell_type": "code",
   "execution_count": null,
   "id": "52f0177e-1dfc-4b74-b93f-d59fb6cc9dd2",
   "metadata": {},
   "outputs": [],
   "source": [
    "job = m.api_query_era5_single_levels(dataset_id, params_sel, year_sel, month_sel, day_sel, time_sel, product_type_sel, format_type_sel, token)"
   ]
  },
  {
   "cell_type": "code",
   "execution_count": null,
   "id": "458c738a-fadf-4233-8a97-8c8feea5de96",
   "metadata": {},
   "outputs": [],
   "source": [
    "jobId = job['jobId']\n",
    "print(\"The job ID is: \"+jobId)"
   ]
  },
  {
   "cell_type": "code",
   "execution_count": null,
   "id": "12858140-a8ad-456d-bc8d-8489e9f73073",
   "metadata": {},
   "outputs": [],
   "source": [
    "get_url = m.request_data(jobId, token)"
   ]
  },
  {
   "cell_type": "markdown",
   "id": "90b31d21-8900-45c5-9b6d-f61dd6e80f73",
   "metadata": {
    "tags": []
   },
   "source": [
    "Save files for netcdf only"
   ]
  },
  {
   "cell_type": "code",
   "execution_count": null,
   "id": "5b49eed5-6313-48ad-9ca1-a5494765f2d0",
   "metadata": {},
   "outputs": [],
   "source": [
    "ds = m.download_type(download_sel, download_list, get_url)"
   ]
  },
  {
   "cell_type": "code",
   "execution_count": null,
   "id": "3dc7012f-616e-456a-ae25-7fc2c1a6f5a5",
   "metadata": {},
   "outputs": [],
   "source": [
    "variables = list(ds.keys())\n",
    "var_drop = m.get_dropdown(variables, \"Variable: \")\n",
    "var_drop"
   ]
  },
  {
   "cell_type": "code",
   "execution_count": null,
   "id": "ebe15717-92bc-45b6-a807-0fbe5563ebea",
   "metadata": {},
   "outputs": [],
   "source": [
    "dates = ds.time.values.astype('datetime64[s]').tolist()\n",
    "date_drop = m.get_dropdown(dates, \"Variable: \")\n",
    "date_drop"
   ]
  },
  {
   "cell_type": "code",
   "execution_count": null,
   "id": "d6b9993f-e870-4012-968c-5be1cbf3e04e",
   "metadata": {},
   "outputs": [],
   "source": [
    "ds_data = ds[var_drop.value].sel(time=date_drop.value).squeeze()"
   ]
  },
  {
   "cell_type": "code",
   "execution_count": null,
   "id": "36ce0539-d9a5-48d2-9a48-e2162faee846",
   "metadata": {},
   "outputs": [],
   "source": [
    "hv_dataset = hv.Dataset(ds_data)\n",
    "hv_dataset.data"
   ]
  },
  {
   "cell_type": "code",
   "execution_count": null,
   "id": "68da6f4a-f0bc-4e30-ba4c-6c8834f4009a",
   "metadata": {},
   "outputs": [],
   "source": [
    "map_height=400\n",
    "map_width=800\n",
    "\n",
    "hv_tiles_osm = hv.element.tiles.OSM()\n",
    "\n",
    "hv.opts.defaults(\n",
    "  hv.opts.Image(alpha=0.7,\n",
    "                height=map_height, width=map_width, \n",
    "                colorbar=True, \n",
    "                tools=['hover'], active_tools=['wheel_zoom'],\n",
    "                title=ds_data.long_name+\" [\"+ds_data.units+\"]\"),\n",
    "  hv.opts.Tiles(active_tools=['wheel_zoom'], height=map_height, width=map_width)\n",
    ")\n",
    "\n",
    "hv_image_basic = hv.Image(hv_dataset)\n",
    "hv_image_basic = hv_image_basic.options(cmap='inferno')\n",
    "hv_image_basic"
   ]
  },
  {
   "cell_type": "code",
   "execution_count": null,
   "id": "200377f7-0680-474a-a44a-6448bff7a38e",
   "metadata": {},
   "outputs": [],
   "source": [
    "ds = ds_data.rio.write_crs('EPSG:4326')\n",
    "ds_mercator = ds.rio.reproject('EPSG:3857')\n",
    "\n",
    "hv_dataset = hv.Dataset(ds_mercator)\n",
    "hv_image_basic = hv.Image(hv_dataset)\n",
    "hv_image_basic = hv_image_basic.options(cmap='inferno')\n",
    "\n",
    "hv.element.tiles.OSM() * hv_image_basic"
   ]
  },
  {
   "cell_type": "code",
   "execution_count": null,
   "id": "da541e7b-b4f9-4409-9260-f2dcde944bc6",
   "metadata": {},
   "outputs": [],
   "source": [
    "ds.hvplot.quadmesh(\n",
    "    'longitude', 'latitude', var_drop.value, projection=ccrs.Orthographic(-90, 30),\n",
    "    global_extent=True, frame_height=540, cmap='viridis',\n",
    "    coastline=True\n",
    ")"
   ]
  },
  {
   "cell_type": "code",
   "execution_count": null,
   "id": "f4bb5681-c4b0-4c97-b8e1-9d19dbf1c639",
   "metadata": {},
   "outputs": [],
   "source": [
    "ds.hvplot.quadmesh(\n",
    "    'longitude', 'latitude', var_drop.value, crs=ccrs.PlateCarree(), projection=ccrs.PlateCarree(),\n",
    "    global_extent=True, frame_height=400, cmap='viridis',\n",
    "    coastline=True\n",
    ")"
   ]
  },
  {
   "cell_type": "markdown",
   "id": "d8103d9f-91c7-48ed-9f62-e65aa62ebce8",
   "metadata": {},
   "source": [
    "----"
   ]
  },
  {
   "cell_type": "markdown",
   "id": "7cbe0846-20e4-4447-81d4-c9ca4e4600d7",
   "metadata": {
    "jp-MarkdownHeadingCollapsed": true,
    "tags": []
   },
   "source": [
    "# 2 - CAMS - Europe Air Quality Forecasts"
   ]
  },
  {
   "cell_type": "code",
   "execution_count": null,
   "id": "aff119d2-2e23-4297-a63f-bce31565fa28",
   "metadata": {},
   "outputs": [],
   "source": [
    "dataset_id = m.get_dropdown(ds_list, \"List of datasets: \")\n",
    "dataset_id"
   ]
  },
  {
   "cell_type": "markdown",
   "id": "fb5130c8-8dae-45af-9891-b597428905a0",
   "metadata": {},
   "source": [
    "Select 'EO:ECMWF:DAT:CAMS_EUROPE_AIR_QUALITY_FORECASTS' from the Dropdown list:"
   ]
  },
  {
   "cell_type": "code",
   "execution_count": null,
   "id": "e43705f3-32fa-49e8-ab20-0fa8bb4472be",
   "metadata": {},
   "outputs": [],
   "source": [
    "data_df = m.get_data_from_name_request(2000, dataset_id.value)\n",
    "dataset = data_df[data_df['datasetId'] == dataset_id.value]"
   ]
  },
  {
   "cell_type": "code",
   "execution_count": null,
   "id": "c72ed999-3558-402a-b5d5-c0f19457e1d7",
   "metadata": {},
   "outputs": [],
   "source": [
    "title = dataset.title.values[0]"
   ]
  },
  {
   "cell_type": "code",
   "execution_count": null,
   "id": "c2b4a921-5fdf-42a2-967f-6164c7f999e5",
   "metadata": {},
   "outputs": [],
   "source": [
    "description = m.get_description(data_df, dataset_id)"
   ]
  },
  {
   "cell_type": "code",
   "execution_count": null,
   "id": "b2e9bc59-def8-4108-a0b4-40c88dadbad4",
   "metadata": {},
   "outputs": [],
   "source": [
    "image = m.display_image(data_df, dataset_id, 500, \"jpg\", 600 )"
   ]
  },
  {
   "cell_type": "code",
   "execution_count": null,
   "id": "6d6c57c3-107a-4c27-96ed-4e7e9f243e30",
   "metadata": {},
   "outputs": [],
   "source": [
    "metadata = m.get_metadata(dataset_id, headers)"
   ]
  },
  {
   "cell_type": "code",
   "execution_count": null,
   "id": "29c72715-de91-4d15-8a67-b6767440f8fc",
   "metadata": {},
   "outputs": [],
   "source": [
    "tit = widgets.HTML(value='<b><font size=\"+2\">'+title+'</font></b>')\n",
    "descr = widgets.HTML('<details>'+description+'</details>')\n",
    "image_box = widgets.VBox([image])\n",
    "descr_box = widgets.VBox([tit, descr])\n",
    "\n",
    "\n",
    "ui = widgets.AppLayout(header=descr_box,\n",
    "          center = image_box,\n",
    "          layout=widgets.Layout(border='solid'))\n",
    "\n",
    "# compute_button.on_click(compute_button_f)\n",
    "container = widgets.Box([ui])\n",
    "display(container)"
   ]
  },
  {
   "cell_type": "code",
   "execution_count": null,
   "id": "8dc47a3b-1ede-4cc5-94b5-318e18b2b00e",
   "metadata": {},
   "outputs": [],
   "source": [
    "format_type_list = list(metadata['parameters']['stringChoices'][0]['details']['valuesLabels'].keys())\n",
    "params_list = list(metadata['parameters']['multiStringSelects'][0]['details']['groupedValueLabels'][0]['valuesLabels'].keys())\n",
    "product_type_list = list(metadata['parameters']['multiStringSelects'][1]['details']['groupedValueLabels'][0]['valuesLabels'].keys())\n",
    "level_list = list(metadata['parameters']['multiStringSelects'][2]['details']['groupedValueLabels'][0]['valuesLabels'].keys())\n",
    "type_list = list(metadata['parameters']['multiStringSelects'][3]['details']['groupedValueLabels'][0]['valuesLabels'].keys())\n",
    "hour_list = list(metadata['parameters']['multiStringSelects'][4]['details']['groupedValueLabels'][0]['valuesLabels'].keys())\n",
    "leadtime_list = list(metadata['parameters']['multiStringSelects'][5]['details']['groupedValueLabels'][0]['valuesLabels'].keys())\n",
    "download_list = [\"Download NETCDF\", \"Read NETCDF in memory\"]"
   ]
  },
  {
   "cell_type": "code",
   "execution_count": null,
   "id": "059d0ca2-329c-4c1f-8966-2903215baf42",
   "metadata": {},
   "outputs": [],
   "source": [
    "params_sel = m.select_multiple(params_list, \"Variable:\")\n",
    "product_type_sel = m.select_multiple(product_type_list, \"Product type:\")\n",
    "level_sel = m.select_multiple(level_list, \"Level: \")\n",
    "type_sel = m.select_multiple(type_list, \"Type: \")\n",
    "hour_sel = m.select_multiple(hour_list, \"Hour: \")\n",
    "leadtime_sel = m.select_multiple(leadtime_list, \"Leadtime hour: \")\n",
    "format_type_sel = m.select_buttons(format_type_list, \"Format: \", \"netcdf\")\n",
    "download_sel = m.select_buttons(download_list, \"Data download: \", \"Read NETCDF in memory\")\n",
    "start_date_sel = m.get_date_picker(\"Select start date: \")\n",
    "end_date_sel = m.get_date_picker(\"Select start end: \")"
   ]
  },
  {
   "cell_type": "code",
   "execution_count": null,
   "id": "adf3d474-8b51-4fc6-820c-adfab9d8a9fa",
   "metadata": {},
   "outputs": [],
   "source": [
    "cams_map, dc = m.draw_map(45, 10, 4)\n",
    "\n",
    "cams_map"
   ]
  },
  {
   "cell_type": "code",
   "execution_count": null,
   "id": "ff6543ce-0af3-4d1d-8d32-389f9586e86d",
   "metadata": {},
   "outputs": [],
   "source": [
    "coords = dc.last_draw['geometry']['coordinates'][0]\n",
    "W = coords[1][0]\n",
    "E = coords[3][0]\n",
    "N = coords[1][1]\n",
    "S = coords[3][1]"
   ]
  },
  {
   "cell_type": "code",
   "execution_count": null,
   "id": "ee712653-7fa9-46d8-b224-0cb814131f95",
   "metadata": {},
   "outputs": [],
   "source": [
    "start_date = metadata['parameters']['dateRangeSelects'][0]['details']['start']\n",
    "print(\"The start date is: \"+start_date)"
   ]
  },
  {
   "cell_type": "code",
   "execution_count": null,
   "id": "741b5af0-64c0-453a-8cd1-f7488294e02d",
   "metadata": {},
   "outputs": [],
   "source": [
    "title= widgets.HTML('<h2>CAMS European air quality forecasts </h2>')\n",
    "variables = widgets.VBox([title, params_sel, product_type_sel, level_sel, type_sel, hour_sel, leadtime_sel, start_date_sel, end_date_sel, format_type_sel, download_sel])\n",
    "image_box = widgets.VBox([image])\n",
    "\n",
    "\n",
    "ui = widgets.AppLayout(\n",
    "          left_sidebar=variables,\n",
    "          right_sidebar=image_box,\n",
    "          layout=widgets.Layout(border='solid'))\n",
    "\n",
    "# compute_button.on_click(compute_button_f)\n",
    "container = widgets.Box([ui])\n",
    "display(container)"
   ]
  },
  {
   "cell_type": "markdown",
   "id": "85a07eea-13e4-4876-8955-cfde5d638871",
   "metadata": {},
   "source": [
    "CHECK THE COORDINATES -> error in wekeo website as well."
   ]
  },
  {
   "cell_type": "code",
   "execution_count": null,
   "id": "e9d1f355-a621-4329-8893-083714652b9c",
   "metadata": {},
   "outputs": [],
   "source": [
    "job = m.api_query_cams_forecast(dataset_id, params_sel, product_type_sel, level_sel, type_sel, hour_sel, leadtime_sel, start_date_sel, end_date_sel, format_type_sel, W, N, E, S, token)"
   ]
  },
  {
   "cell_type": "code",
   "execution_count": null,
   "id": "ee8c96ab-883c-424e-b4e5-38142fdc48b6",
   "metadata": {},
   "outputs": [],
   "source": [
    "jobId = job['jobId']\n",
    "print(\"The job ID is: \"+jobId)"
   ]
  },
  {
   "cell_type": "code",
   "execution_count": null,
   "id": "2a3a0b57-b6f5-4d04-956c-ed63636a929e",
   "metadata": {},
   "outputs": [],
   "source": [
    "get_url= m.request_data(jobId, token)"
   ]
  },
  {
   "cell_type": "markdown",
   "id": "898e38f0-95a9-4eb1-9166-c8ba5b7b0b59",
   "metadata": {
    "tags": []
   },
   "source": [
    "Save files for netcdf only"
   ]
  },
  {
   "cell_type": "code",
   "execution_count": null,
   "id": "2544b9ba-5774-4b95-a112-63cc5dcbdc3e",
   "metadata": {},
   "outputs": [],
   "source": [
    "ds = m.download_type(download_sel, download_list, get_url)\n",
    "variables = list(ds.keys())\n",
    "var_drop = m.get_dropdown(variables, \"Variable: \")\n",
    "var_drop"
   ]
  },
  {
   "cell_type": "code",
   "execution_count": null,
   "id": "48efca30-9162-431c-b568-bf94c89f37f4",
   "metadata": {},
   "outputs": [],
   "source": [
    "ds_data = ds.squeeze()\n",
    "ds_data"
   ]
  },
  {
   "cell_type": "code",
   "execution_count": null,
   "id": "59e4e7b5-1c6a-40c5-a10b-a888547728ab",
   "metadata": {},
   "outputs": [],
   "source": [
    "hv_dataset = hv.Dataset(ds_data)"
   ]
  },
  {
   "cell_type": "code",
   "execution_count": null,
   "id": "3a2832b0-3910-4315-80af-03933c6f5b87",
   "metadata": {},
   "outputs": [],
   "source": [
    "ds.hvplot.quadmesh(\n",
    "    'longitude', 'latitude', var_drop.value, projection=ccrs.Orthographic(4, 30),global_extent=True, frame_height=540, cmap='viridis',\n",
    "    coastline=True\n",
    ")"
   ]
  },
  {
   "cell_type": "code",
   "execution_count": null,
   "id": "99b5673b-c2ee-47fa-9c30-80ceec8e64ef",
   "metadata": {},
   "outputs": [],
   "source": [
    "ds.hvplot.quadmesh(\n",
    "    'longitude', 'latitude', var_drop.value, crs=ccrs.PlateCarree(), projection=ccrs.PlateCarree(),\n",
    "    global_extent=True, frame_height=400, cmap='viridis',\n",
    "    coastline=True\n",
    ")"
   ]
  },
  {
   "cell_type": "markdown",
   "id": "2613ba4a-6194-43dc-85e1-c162db9f32cc",
   "metadata": {},
   "source": [
    "----"
   ]
  },
  {
   "cell_type": "markdown",
   "id": "0ad547e1-b6b9-4fd5-9540-a06dcad7dc61",
   "metadata": {
    "tags": []
   },
   "source": [
    "# 3- EMERGENCY - EFAS Historical"
   ]
  },
  {
   "cell_type": "code",
   "execution_count": null,
   "id": "cf7f074e-3a36-4af9-a039-8a6eb76ab85f",
   "metadata": {},
   "outputs": [],
   "source": [
    "dataset_id = m.get_dropdown(ds_list, \"List of datasets: \")\n",
    "dataset_id"
   ]
  },
  {
   "cell_type": "code",
   "execution_count": null,
   "id": "83a157ba-316d-4fa8-91ce-4924bb332e7f",
   "metadata": {},
   "outputs": [],
   "source": [
    "data_df = m.get_data_from_name_request(2000, dataset_id.value)\n",
    "dataset = data_df[data_df['datasetId'] == dataset_id.value]"
   ]
  },
  {
   "cell_type": "code",
   "execution_count": null,
   "id": "ab99db67-8655-4e27-9596-751bcd42aace",
   "metadata": {},
   "outputs": [],
   "source": [
    "title = dataset.title.values[0]"
   ]
  },
  {
   "cell_type": "code",
   "execution_count": null,
   "id": "15c0b332-2c50-4697-b324-84a69ac394b4",
   "metadata": {},
   "outputs": [],
   "source": [
    "description = m.get_description(data_df, dataset_id)"
   ]
  },
  {
   "cell_type": "code",
   "execution_count": null,
   "id": "66940f91-9665-4bab-8d8a-e0d5c04ffb7a",
   "metadata": {},
   "outputs": [],
   "source": [
    "image = m.display_image(data_df, dataset_id, 500, \"jpg\", 600 )"
   ]
  },
  {
   "cell_type": "code",
   "execution_count": null,
   "id": "ca69e6c5-3c62-4a81-939f-a476622a4c6b",
   "metadata": {},
   "outputs": [],
   "source": [
    "metadata = m.get_metadata(dataset_id, headers)"
   ]
  },
  {
   "cell_type": "code",
   "execution_count": null,
   "id": "9e424b38-5344-42e1-b91d-ea922ee622a8",
   "metadata": {},
   "outputs": [],
   "source": [
    "tit = widgets.HTML(value='<b><font size=\"+2\">'+title+'</font></b>')\n",
    "descr = widgets.HTML('<details>'+description+'</details>')\n",
    "image_box = widgets.VBox([image])\n",
    "descr_box = widgets.VBox([tit, descr])\n",
    "\n",
    "\n",
    "ui = widgets.AppLayout(header=descr_box,\n",
    "          center = image_box,\n",
    "          layout=widgets.Layout(border='solid'))\n",
    "\n",
    "# compute_button.on_click(compute_button_f)\n",
    "container = widgets.Box([ui])\n",
    "display(container)"
   ]
  },
  {
   "cell_type": "code",
   "execution_count": null,
   "id": "6f957d76-df9d-4696-aac0-0daf3f0e0387",
   "metadata": {},
   "outputs": [],
   "source": [
    "metadata = m.get_metadata(dataset_id, headers)"
   ]
  },
  {
   "cell_type": "code",
   "execution_count": null,
   "id": "97b06752-a29f-4038-a0be-855e17411a32",
   "metadata": {},
   "outputs": [],
   "source": [
    "variable_list = list(metadata['parameters']['multiStringSelects'][0]['details']['groupedValueLabels'][0]['valuesLabels'].keys())\n",
    "soil_level_list = list(metadata['parameters']['multiStringSelects'][1]['details']['groupedValueLabels'][0]['valuesLabels'].keys())\n",
    "year_list = list(metadata['parameters']['multiStringSelects'][2]['details']['groupedValueLabels'][0]['valuesLabels'].keys())\n",
    "month_list = list(metadata['parameters']['multiStringSelects'][3]['details']['groupedValueLabels'][0]['valuesLabels'].keys())\n",
    "day_list = list(metadata['parameters']['multiStringSelects'][4]['details']['groupedValueLabels'][0]['valuesLabels'].keys())\n",
    "time_list = list(metadata['parameters']['multiStringSelects'][5]['details']['groupedValueLabels'][0]['valuesLabels'].keys())\n",
    "system_version_list = list(metadata['parameters']['stringChoices'][0]['details']['valuesLabels'].keys())\n",
    "model_levels_list = list(metadata['parameters']['stringChoices'][1]['details']['valuesLabels'].keys())\n",
    "formats_list = list(metadata['parameters']['stringChoices'][2]['details']['valuesLabels'].keys())\n",
    "download_list = [\"Download NETCDF\"]"
   ]
  },
  {
   "cell_type": "code",
   "execution_count": null,
   "id": "d75019fb-5a45-4ffe-ac70-4f6cf3aa925e",
   "metadata": {},
   "outputs": [],
   "source": [
    "formats = m.select_buttons(formats_list, \"Choose format: \", formats_list[1]) \n",
    "system_version_sel = m.select_buttons(system_version_list, \"System version:\", system_version_list[-1])\n",
    "model_levels_sel = m.select_buttons(model_levels_list, \"Hydrological Model:\", model_levels_list[-1])\n",
    "variable_sel = m.select_multiple(variable_list, \"Variable:\")\n",
    "year_sel = m.select_multiple(year_list, \"Year:\")\n",
    "month_sel = m.select_multiple(month_list, \"Month:\")\n",
    "day_sel = m.select_multiple(day_list, \"Day:\")\n",
    "time_sel = m.select_multiple(time_list, \"Time:\")\n",
    "soil_level_sel = m.select_multiple(soil_level_list, \"Soil level:\")\n",
    "download_sel = m.select_buttons(download_list, \"Data download: \", \"Download NETCDF\")"
   ]
  },
  {
   "cell_type": "code",
   "execution_count": null,
   "id": "10ccd938-85b2-4418-b8e4-a9863ebaae56",
   "metadata": {},
   "outputs": [],
   "source": [
    "title= widgets.HTML(value='<h2 style=\"text-align:center;\">'+title+'</h2><hr>')\n",
    "variables = widgets.VBox([title, system_version_sel, variable_sel, model_levels_sel, year_sel, month_sel, day_sel, time_sel, soil_level_sel, formats, download_sel])\n",
    "image_box = widgets.VBox([image])\n",
    "\n",
    "ui = widgets.AppLayout(\n",
    "          left_sidebar=variables,\n",
    "          right_sidebar=image_box,\n",
    "          layout=widgets.Layout(border='solid'))\n",
    "\n",
    "# compute_button.on_click(compute_button_f)\n",
    "container = widgets.Box([ui])\n",
    "display(container)"
   ]
  },
  {
   "cell_type": "code",
   "execution_count": null,
   "id": "2eefc600-faa6-422b-a3ff-609f599c0f71",
   "metadata": {},
   "outputs": [],
   "source": [
    "# 02 may 2021 00:00 6hour discharge. works"
   ]
  },
  {
   "cell_type": "code",
   "execution_count": null,
   "id": "f58ca0fd-4c6f-4ba5-ad18-438e5032db8a",
   "metadata": {},
   "outputs": [],
   "source": [
    "job = m.api_query_efas_historical(dataset_id, variable_sel, model_levels_sel, system_version_sel, year_sel, month_sel, day_sel, time_sel, soil_level_sel, formats, token)"
   ]
  },
  {
   "cell_type": "code",
   "execution_count": null,
   "id": "f47ec816-269e-490a-993b-262a5b007e2c",
   "metadata": {},
   "outputs": [],
   "source": [
    "jobId = job['jobId']\n",
    "print(\"The job ID is: \"+jobId)"
   ]
  },
  {
   "cell_type": "code",
   "execution_count": null,
   "id": "8d81a1f1-58c7-4933-b6ad-a637e7ec1ca3",
   "metadata": {},
   "outputs": [],
   "source": [
    "get_url= m.request_data(jobId, token)"
   ]
  },
  {
   "cell_type": "code",
   "execution_count": null,
   "id": "7f781930-b3ce-4fc4-a661-e7d02b354e19",
   "metadata": {},
   "outputs": [],
   "source": [
    "ds = m.download_type(download_sel, download_list, get_url)"
   ]
  },
  {
   "cell_type": "code",
   "execution_count": null,
   "id": "bf82c4d9-0ea6-4be4-ad82-0fbb1c5c3dd0",
   "metadata": {},
   "outputs": [],
   "source": [
    "ds"
   ]
  },
  {
   "cell_type": "code",
   "execution_count": null,
   "id": "636f4b59-0b17-45e0-a245-89df87df126b",
   "metadata": {},
   "outputs": [],
   "source": [
    "variables = list(ds.keys())\n",
    "var_drop = m.get_dropdown(variables, \"Variable: \")\n",
    "var_drop"
   ]
  },
  {
   "cell_type": "code",
   "execution_count": null,
   "id": "500d0644-2d3b-49b1-ba8e-ca31bb38997a",
   "metadata": {},
   "outputs": [],
   "source": [
    "ds_data = ds[var_drop.value].squeeze()"
   ]
  },
  {
   "cell_type": "code",
   "execution_count": null,
   "id": "3f43b642-d05d-4403-a31b-a38726115acd",
   "metadata": {},
   "outputs": [],
   "source": [
    "f = plt.figure(figsize=(10,8))\n",
    "ax = plt.axes(projection=ccrs.PlateCarree())\n",
    "ax.coastlines()\n",
    "gl= ax.gridlines(crs=ccrs.PlateCarree(),draw_labels=True)\n",
    "gl.right_labels=False\n",
    "gl.top_labels=False\n",
    "ax.add_feature(cfeature.LAND, zorder=1,edgecolor='k')\n",
    "ax.set_extent([12,30, 43, 48],crs=ccrs.PlateCarree())\n",
    "\n",
    "f.suptitle(ds_data.long_name, fontsize=28)\n",
    "im = ax.pcolor(ds_data['longitude'].data,ds_data['latitude'].data, ds_data, cmap='plasma')\n",
    "cbar= f.colorbar(im,ax=ax)\n",
    "cbar.set_label(ds_data.units, rotation =270, fontsize=23,labelpad=15)"
   ]
  },
  {
   "cell_type": "code",
   "execution_count": null,
   "id": "c64b86e3-49ac-46b3-b4bf-fdb75dfe1e59",
   "metadata": {},
   "outputs": [],
   "source": [
    "hv_dataset = hv.Dataset(ds_data)\n",
    "hv_dataset.data"
   ]
  },
  {
   "cell_type": "code",
   "execution_count": null,
   "id": "17ce34d4-7379-4899-a188-f884cbc2f5b5",
   "metadata": {},
   "outputs": [],
   "source": [
    "ds.hvplot.quadmesh(\n",
    "    'longitude', 'latitude', var_drop.value, projection=ccrs.Orthographic(7, 30),\n",
    "    global_extent=True, frame_height=540, cmap='viridis',\n",
    "    coastline=True\n",
    ")"
   ]
  },
  {
   "cell_type": "code",
   "execution_count": null,
   "id": "554e2080-dd18-4a90-9d80-28e71b408725",
   "metadata": {},
   "outputs": [],
   "source": [
    "ds.hvplot.quadmesh(\n",
    "    'longitude', 'latitude', var_drop.value, crs=ccrs.PlateCarree(), projection=ccrs.PlateCarree(),\n",
    "    global_extent=True, frame_height=400, cmap='viridis',\n",
    "    coastline=True\n",
    ")"
   ]
  },
  {
   "cell_type": "markdown",
   "id": "bbb7b6e9-38a4-4fb7-9fbc-11592ff87420",
   "metadata": {},
   "source": [
    "----"
   ]
  },
  {
   "cell_type": "markdown",
   "id": "55d59dec-ebd3-4025-b6f7-16f84873e076",
   "metadata": {
    "tags": []
   },
   "source": [
    "# 4 - MARINE - Analysis/Forecast Sea Bottom Temperature"
   ]
  },
  {
   "cell_type": "code",
   "execution_count": null,
   "id": "923e19e0-585f-42bf-a6a7-523ef5d31087",
   "metadata": {},
   "outputs": [],
   "source": [
    "dataset_id = m.get_dropdown(ds_list, \"List of datasets: \")\n",
    "dataset_id"
   ]
  },
  {
   "cell_type": "markdown",
   "id": "9d52c2dd-5450-43a6-9ed6-97406632d0e4",
   "metadata": {},
   "source": [
    "Select 'EO:MO:DAT:NWSHELF_ANALYSISFORECAST_PHY_LR_004_001:cmems_mod_nws_phy-bottomt_anfc_7km-2D_P1D-m' from the Dropdown list:"
   ]
  },
  {
   "cell_type": "code",
   "execution_count": null,
   "id": "d3bc21d0-cc68-4439-839d-2b7df13c5307",
   "metadata": {},
   "outputs": [],
   "source": [
    "data_df = m.get_data_from_name_request(2000, dataset_id.value)\n",
    "dataset_list = data_df[\"datasetId\"]"
   ]
  },
  {
   "cell_type": "code",
   "execution_count": null,
   "id": "4f80847e-0b07-426d-8819-98c4831428c6",
   "metadata": {},
   "outputs": [],
   "source": [
    "description = m.get_description(data_df, dataset_id)"
   ]
  },
  {
   "cell_type": "code",
   "execution_count": null,
   "id": "64ef04a1-e2d2-4785-a53e-d6a42a14c189",
   "metadata": {},
   "outputs": [],
   "source": [
    "image = m.display_image(data_df, dataset_id, 500, \"jpg\", 600 )\n",
    "image"
   ]
  },
  {
   "cell_type": "code",
   "execution_count": null,
   "id": "7dc82823-1c07-448d-b109-3ea73aaa13c9",
   "metadata": {},
   "outputs": [],
   "source": [
    "%load_ext autoreload\n",
    "%autoreload 2\n",
    "import WEkEO_methods as m"
   ]
  },
  {
   "cell_type": "code",
   "execution_count": null,
   "id": "34f6b8d0-0f18-42ee-93b7-d5d71985f024",
   "metadata": {},
   "outputs": [],
   "source": [
    "metadata = m.get_metadata(dataset_id, headers)"
   ]
  },
  {
   "cell_type": "code",
   "execution_count": null,
   "id": "f9b75912-4ed1-45a9-b34e-9cfd73fd9fcd",
   "metadata": {},
   "outputs": [],
   "source": [
    "variable_list = list(metadata['parameters']['multiStringSelects'][0]['details']['groupedValueLabels'][0]['valuesLabels'].keys())\n",
    "download_list = [\"Download NETCDF\"]"
   ]
  },
  {
   "cell_type": "code",
   "execution_count": null,
   "id": "f73cef75-014d-4852-9d85-5e731a109bbc",
   "metadata": {},
   "outputs": [],
   "source": [
    "start_date_sel = m.get_date_picker(\"Select start date: \")\n",
    "end_date_sel = m.get_date_picker(\"Select end date: \")\n",
    "download_sel = m.select_buttons(download_list, \"Data download: \", \"Download NETCDF\")"
   ]
  },
  {
   "cell_type": "code",
   "execution_count": null,
   "id": "c62c1430-b164-46eb-810d-cc0c873aa5c9",
   "metadata": {},
   "outputs": [],
   "source": [
    "end = metadata['parameters']['dateRangeSelects'][0]['details']['end']\n",
    "start = metadata['parameters']['dateRangeSelects'][0]['details']['start']\n",
    "print(\"The start date is \"+start+\". The end date is \"+end)"
   ]
  },
  {
   "cell_type": "code",
   "execution_count": null,
   "id": "2fce4cb3-5feb-4587-8385-d0093b26adb2",
   "metadata": {},
   "outputs": [],
   "source": [
    "cams_map, dc = m.draw_map(50, -10, 4)\n",
    "\n",
    "cams_map"
   ]
  },
  {
   "cell_type": "code",
   "execution_count": null,
   "id": "e3d50cca-9e74-408c-80e4-55d62f7e5604",
   "metadata": {},
   "outputs": [],
   "source": [
    "coords = dc.last_draw['geometry']['coordinates'][0]\n",
    "W = coords[1][0]\n",
    "E = coords[3][0]\n",
    "N = coords[1][1]\n",
    "S = coords[3][1]"
   ]
  },
  {
   "cell_type": "code",
   "execution_count": null,
   "id": "a391eddd-d4ea-420b-9c5d-566973a8a096",
   "metadata": {},
   "outputs": [],
   "source": [
    "title= widgets.HTML('<h2 style=\"text-align:center;\">CAMS European air quality forecasts </h2><hr><h3 style=\"padding: 10px;\">Input variables - Multiple selection</h3>')\n",
    "title2 = widgets.HTML('<details><h3>'+str(description[0])+'</div><h3></details>')\n",
    "variables = widgets.VBox([title, start_date_sel, end_date_sel, download_sel])\n",
    "image_box = widgets.VBox([image])\n",
    "\n",
    "\n",
    "ui = widgets.AppLayout(header=title2,\n",
    "          left_sidebar=variables,\n",
    "          right_sidebar=image_box,\n",
    "          layout=widgets.Layout(border='solid'))\n",
    "\n",
    "# compute_button.on_click(compute_button_f)\n",
    "container = widgets.Box([ui])\n",
    "display(container)"
   ]
  },
  {
   "cell_type": "code",
   "execution_count": null,
   "id": "fb4f4650-d8f9-4d38-98d2-f222b826323b",
   "metadata": {},
   "outputs": [],
   "source": [
    "job = m.api_query_sea_floor_temperature(dataset_id, start_date_sel, end_date_sel, W, S, E, N, token)"
   ]
  },
  {
   "cell_type": "code",
   "execution_count": null,
   "id": "8276b528-612b-4751-8388-90b5784e1e52",
   "metadata": {},
   "outputs": [],
   "source": [
    "job"
   ]
  },
  {
   "cell_type": "code",
   "execution_count": null,
   "id": "4302af2f-a05f-4350-ab11-546f23ad421c",
   "metadata": {},
   "outputs": [],
   "source": [
    "jobId = job['jobId']\n",
    "print(\"The job ID is: \"+jobId)"
   ]
  },
  {
   "cell_type": "code",
   "execution_count": null,
   "id": "47d933a3-7709-43f9-a960-02cea2d6f6e0",
   "metadata": {},
   "outputs": [],
   "source": [
    "get_url= m.request_data(jobId, token)"
   ]
  },
  {
   "cell_type": "code",
   "execution_count": null,
   "id": "b08595ef-4111-43b4-b24b-34a7f845af9f",
   "metadata": {},
   "outputs": [],
   "source": [
    "order = m.data_order(jobId, get_url, token)\n",
    "order"
   ]
  },
  {
   "cell_type": "code",
   "execution_count": null,
   "id": "4be0e78b-7ef5-46b8-bd5b-8656f3709920",
   "metadata": {},
   "outputs": [],
   "source": [
    "headers = {\n",
    "    'Accept': 'application/x-netcdf'}\n",
    "response_order = requests.get(\"https://wekeo-broker-k8s.apps.mercator.dpi.wekeo.eu/databroker/dataorder/download/\"+order, headers=headers)"
   ]
  },
  {
   "cell_type": "code",
   "execution_count": null,
   "id": "8139313f-7f97-4e58-b02b-ff5a52be4375",
   "metadata": {},
   "outputs": [],
   "source": [
    "response_order"
   ]
  },
  {
   "cell_type": "code",
   "execution_count": null,
   "id": "ce4277c7-7d3e-4306-b80a-8b9fff078754",
   "metadata": {},
   "outputs": [],
   "source": [
    "file = open(\"bottomT.nc\", \"wb\")\n",
    "file.write(response_order.content)\n",
    "file.close()"
   ]
  },
  {
   "cell_type": "code",
   "execution_count": null,
   "id": "64ef9383-bcc1-45bc-b64e-d502b2103544",
   "metadata": {},
   "outputs": [],
   "source": [
    "ds = xr.open_dataset('bottomT.nc')\n",
    "ds"
   ]
  },
  {
   "cell_type": "code",
   "execution_count": null,
   "id": "ae5a538d-e75a-48c2-a8b7-938daa28c371",
   "metadata": {},
   "outputs": [],
   "source": [
    "variables = list(ds.keys())\n",
    "var_drop = m.get_dropdown(variables, \"Variable: \")\n",
    "var_drop"
   ]
  },
  {
   "cell_type": "code",
   "execution_count": null,
   "id": "113779ce-1f81-4203-b154-f869cec961ea",
   "metadata": {},
   "outputs": [],
   "source": [
    "dates = ds.time.values.astype('datetime64[s]').tolist()\n",
    "date_drop = m.get_dropdown(dates, \"Variable: \")\n",
    "date_drop"
   ]
  },
  {
   "cell_type": "code",
   "execution_count": null,
   "id": "c21e8256-4ee8-40ea-a21f-543b97683182",
   "metadata": {},
   "outputs": [],
   "source": [
    "ds_data = ds[var_drop.value].sel(time=date_drop.value).squeeze()"
   ]
  },
  {
   "cell_type": "code",
   "execution_count": null,
   "id": "97c2edc6-1f5b-4173-87ef-a4a2d4ca0607",
   "metadata": {},
   "outputs": [],
   "source": [
    "hv_dataset = hv.Dataset(ds_data)\n",
    "hv_dataset.data"
   ]
  },
  {
   "cell_type": "code",
   "execution_count": null,
   "id": "117f9d8b-c479-4083-8a92-34bdde0b65d9",
   "metadata": {},
   "outputs": [],
   "source": [
    "map_height=400\n",
    "map_width=800\n",
    "\n",
    "hv_tiles_osm = hv.element.tiles.OSM()\n",
    "\n",
    "hv.opts.defaults(\n",
    "  hv.opts.Image(alpha=0.7,\n",
    "                height=map_height, width=map_width, \n",
    "                colorbar=True, \n",
    "                tools=['hover'], active_tools=['wheel_zoom'],\n",
    "                title=ds_data.long_name+\" [\"+ds_data.units+\"]\"),\n",
    "  hv.opts.Tiles(active_tools=['wheel_zoom'], height=map_height, width=map_width)\n",
    ")\n",
    "\n",
    "hv_image_basic = hv.Image(hv_dataset)\n",
    "hv_image_basic = hv_image_basic.options(cmap='inferno')\n",
    "\n",
    "ds = ds_data.rio.write_crs('EPSG:4326')\n",
    "ds_mercator = ds.rio.reproject('EPSG:3857')\n",
    "\n",
    "hv_dataset = hv.Dataset(ds_mercator)\n",
    "hv_image_basic = hv.Image(hv_dataset)\n",
    "hv_image_basic = hv_image_basic.options(cmap='inferno')\n",
    "\n",
    "hv.element.tiles.OSM() * hv_image_basic"
   ]
  },
  {
   "cell_type": "markdown",
   "id": "d09b908b-7814-48bd-b0bd-65f10b3b766e",
   "metadata": {},
   "source": [
    "---"
   ]
  },
  {
   "cell_type": "markdown",
   "id": "0752e3b5-8f87-44ca-ae84-2465d254ea6b",
   "metadata": {
    "jp-MarkdownHeadingCollapsed": true,
    "tags": []
   },
   "source": [
    "# 5 - LAND - Corine (can't download data)"
   ]
  },
  {
   "cell_type": "code",
   "execution_count": null,
   "id": "aca4f862-1432-456a-a3ee-caa30e7b651a",
   "metadata": {},
   "outputs": [],
   "source": [
    "name = m.text_widget(\"Insert data name: \")\n",
    "name #corine"
   ]
  },
  {
   "cell_type": "code",
   "execution_count": null,
   "id": "e1f50cf6-88b5-4238-acb9-af71ee0391ee",
   "metadata": {},
   "outputs": [],
   "source": [
    "data_df = m.get_data_from_name_request(2000, name.value)\n",
    "dataset_list = data_df[\"datasetId\"]\n",
    "dataset_id = m.get_dropdown(dataset_list, \"List of datasets: \")\n",
    "dataset_id"
   ]
  },
  {
   "cell_type": "code",
   "execution_count": null,
   "id": "9a9f590a-5daa-4fe1-9d61-49ac53d194cf",
   "metadata": {},
   "outputs": [],
   "source": [
    "description = m.get_description(data_df, dataset_id)"
   ]
  },
  {
   "cell_type": "code",
   "execution_count": null,
   "id": "ff9e961c-9d22-40dd-a028-af42bb08810e",
   "metadata": {},
   "outputs": [],
   "source": [
    "image = m.display_image(data_df, dataset_id, 500, \"jpg\", 600 )\n",
    "image"
   ]
  },
  {
   "cell_type": "code",
   "execution_count": null,
   "id": "3e3a650b-063d-4fb2-aae4-a9bb8c2fdeff",
   "metadata": {},
   "outputs": [],
   "source": [
    "metadata = m.get_metadata(dataset_id, headers)"
   ]
  },
  {
   "cell_type": "code",
   "execution_count": null,
   "id": "e81bd8e7-7c63-491e-8c9b-59a0fb8feefe",
   "metadata": {},
   "outputs": [],
   "source": [
    "formats_list = list(metadata['parameters']['stringChoices'][1]['details']['valuesLabels'].keys())\n",
    "dataset_list = list(metadata['parameters']['stringChoices'][0]['details']['valuesLabels'].keys())"
   ]
  },
  {
   "cell_type": "code",
   "execution_count": null,
   "id": "e02dc9b7-c13a-4828-a722-a1cec0d86f67",
   "metadata": {},
   "outputs": [],
   "source": [
    "formats = m.select_buttons(formats_list, \"Choose format: \", formats_list[1]) \n",
    "dataset_name = m.get_dropdown(dataset_list, \"Choose dataset: \")"
   ]
  },
  {
   "cell_type": "code",
   "execution_count": null,
   "id": "de6fcc8e-6139-4856-8f3b-b594930f3d12",
   "metadata": {},
   "outputs": [],
   "source": [
    "title= widgets.HTML('<h2 style=\"text-align:center;\">Corine Land Cover</h2><hr><h3 style=\"padding: 10px;\">Input variables - Multiple selection</h3>')\n",
    "title2 = widgets.HTML('<details><h3>'+str(description[0])+'</div><h3></details>')\n",
    "variables = widgets.VBox([title, dataset_name, formats])\n",
    "image_box = widgets.VBox([image])\n",
    "\n",
    "ui = widgets.AppLayout(header=title2,\n",
    "          left_sidebar=variables,\n",
    "          right_sidebar=image_box,\n",
    "          layout=widgets.Layout(border='solid'))\n",
    "\n",
    "# compute_button.on_click(compute_button_f)\n",
    "container = widgets.Box([ui])\n",
    "display(container)"
   ]
  },
  {
   "cell_type": "code",
   "execution_count": null,
   "id": "574dd09f-8a1c-4a38-ac95-324feb3cf848",
   "metadata": {},
   "outputs": [],
   "source": [
    "%load_ext autoreload\n",
    "%autoreload 2\n",
    "import WEkEO_methods as m"
   ]
  },
  {
   "cell_type": "code",
   "execution_count": null,
   "id": "e9350cb8-ad82-4080-b887-7a3e29640197",
   "metadata": {},
   "outputs": [],
   "source": [
    "job = m.api_query_corine(dataset_id, dataset_name, formats, token)"
   ]
  },
  {
   "cell_type": "code",
   "execution_count": null,
   "id": "f31392b8-cd79-4e78-8b22-0cb94351d23a",
   "metadata": {},
   "outputs": [],
   "source": [
    "jobId = job['jobId']\n",
    "print(\"The job ID is: \"+jobId)"
   ]
  },
  {
   "cell_type": "code",
   "execution_count": null,
   "id": "f77f5637-a30d-42f1-9cb8-d2f20ac5c553",
   "metadata": {},
   "outputs": [],
   "source": [
    "get_url = m.request_data(jobId, token)"
   ]
  },
  {
   "cell_type": "code",
   "execution_count": null,
   "id": "5733feb4-fb50-485b-9b54-0116f3546c5d",
   "metadata": {},
   "outputs": [],
   "source": [
    "get_url"
   ]
  },
  {
   "cell_type": "code",
   "execution_count": null,
   "id": "717ae3bb-9646-482d-9116-d2ffd59f3915",
   "metadata": {},
   "outputs": [],
   "source": [
    "order = m.data_order(jobId, get_url, token)\n",
    "order"
   ]
  },
  {
   "cell_type": "code",
   "execution_count": null,
   "id": "06ba64ac-75bb-4867-9d7e-3b5b2a522bb0",
   "metadata": {},
   "outputs": [],
   "source": [
    "# headers = {\n",
    "#     'Content-Type': 'application/json',\n",
    "#     'Accept': 'application/json',\n",
    "#     'authorization': 'Basic '+str(token)}\n",
    "# dataset = requests.get(\"https://wekeo-broker-k8s.apps.mercator.dpi.wekeo.eu/databroker/dataorder?status=completed\", headers=headers)\n",
    "# dataset"
   ]
  },
  {
   "cell_type": "code",
   "execution_count": null,
   "id": "08b9ed36-2493-4116-93b9-0a82aa5340fe",
   "metadata": {},
   "outputs": [],
   "source": [
    "headers = {\n",
    "    'Accept': 'application/zip'}\n",
    "response_order = requests.get(\"https://wekeo-broker-k8s.apps.mercator.dpi.wekeo.eu/databroker/dataorder/download/\"+order, headers=headers)\n"
   ]
  },
  {
   "cell_type": "code",
   "execution_count": null,
   "id": "bda9a481-194e-4f3f-b46f-dcd19d807c84",
   "metadata": {},
   "outputs": [],
   "source": [
    "import pathlib\n",
    "import zipfile\n",
    "import io \n",
    "downloaded_file = pathlib.Path.cwd() / \"output.zip\"\n",
    "\n",
    "zipfile.ZipFile(downloaded_file.write_bytes(response_order.content),mode='w')"
   ]
  },
  {
   "cell_type": "code",
   "execution_count": null,
   "id": "f6e5ee97-7703-4c60-9035-f52f9bcb125d",
   "metadata": {},
   "outputs": [],
   "source": [
    "import zipfile, io, os\n",
    "\n",
    "with open('test.zip', 'wb') as out_file:\n",
    "    zipfile.ZipFile(io.BytesIO(response_order.content), mode='w')"
   ]
  },
  {
   "cell_type": "code",
   "execution_count": null,
   "id": "0a29a9d5-7ae4-4fdd-9842-947de164921f",
   "metadata": {},
   "outputs": [],
   "source": [
    "zipfile.ZipFile(io.BytesIO(response_order.content), mode='w')"
   ]
  },
  {
   "cell_type": "code",
   "execution_count": null,
   "id": "c5cee8fc-4cfb-4486-a203-fb1e8d68cc8b",
   "metadata": {},
   "outputs": [],
   "source": [
    "zip_filename = \"test.zip\"\n",
    "with open(zip_filename, 'wb') as zfile:\n",
    "    zfile.write(response_order.content)"
   ]
  },
  {
   "cell_type": "markdown",
   "id": "d0db3f1d-58a2-43bd-ac83-73bd5fee2ec2",
   "metadata": {},
   "source": [
    "EEA credentials not available"
   ]
  },
  {
   "cell_type": "markdown",
   "id": "ec6c99ab-8302-4ba3-8658-4c10eb29e0aa",
   "metadata": {},
   "source": [
    "----"
   ]
  },
  {
   "cell_type": "markdown",
   "id": "21dcccea-9633-4da7-bddb-0b5161b8f28a",
   "metadata": {},
   "source": [
    "## Datasets exploration"
   ]
  },
  {
   "cell_type": "code",
   "execution_count": null,
   "id": "6e2fe80d-9cc6-4596-884c-4033319183a9",
   "metadata": {},
   "outputs": [],
   "source": [
    "dataset = requests.get(\"https://wekeo-broker-k8s.apps.mercator.dpi.wekeo.eu/databroker/datasets?size=2000\")\n",
    "dataset_text = dataset.text\n",
    "data = json.loads(dataset_text)"
   ]
  },
  {
   "cell_type": "markdown",
   "id": "8838bc37-6977-4b22-9edb-b06fad2c3139",
   "metadata": {},
   "source": [
    "Dataframe containing all the datasets available on WEkEO, with an abstract, a preview image and a title:"
   ]
  },
  {
   "cell_type": "code",
   "execution_count": null,
   "id": "0c55fc41-ac90-4475-b8d8-9979f2afd709",
   "metadata": {},
   "outputs": [],
   "source": [
    "# from JSON to Pandas DataFrame\n",
    "data_df = pd.json_normalize(data['content'])\n",
    "data_df"
   ]
  },
  {
   "cell_type": "markdown",
   "id": "92f120ed-5764-48ec-97e7-f207be1dcb70",
   "metadata": {},
   "source": [
    "Select the dataset id with a dropdown:"
   ]
  },
  {
   "cell_type": "code",
   "execution_count": null,
   "id": "58cb28eb-d751-42aa-bf3c-39c3f2a9f108",
   "metadata": {},
   "outputs": [],
   "source": [
    "dataset_list = data_df['datasetId']\n",
    "\n",
    "datasetId_drop = widgets.Dropdown(\n",
    "    options=list(dataset_list),\n",
    "    description='Dataset ID:',\n",
    "    disabled=False)\n",
    "\n",
    "datasetId_drop"
   ]
  },
  {
   "cell_type": "code",
   "execution_count": null,
   "id": "5e8b49b0-3bd7-4920-96ae-5bf3773a64c6",
   "metadata": {},
   "outputs": [],
   "source": [
    "datasetId_drop.value"
   ]
  },
  {
   "cell_type": "markdown",
   "id": "110a0bdb-4012-44e1-9e54-c81e2c50a18f",
   "metadata": {},
   "source": [
    "Read abstract corresponding to the dataset ID selected:"
   ]
  },
  {
   "cell_type": "code",
   "execution_count": null,
   "id": "61e6a699-52d7-4a25-94a6-15da466d30fa",
   "metadata": {},
   "outputs": [],
   "source": [
    "abstract = data_df.loc[data_df['datasetId'] == str(datasetId_drop.value)]"
   ]
  },
  {
   "cell_type": "code",
   "execution_count": null,
   "id": "a406287d-142e-4cc2-b0c5-4472285e4bd1",
   "metadata": {},
   "outputs": [],
   "source": [
    "print(list(abstract[\"abstract\"]))"
   ]
  },
  {
   "cell_type": "markdown",
   "id": "fb8acec0-8c3a-4e3b-9095-5f1852df8e58",
   "metadata": {},
   "source": [
    "Plot a preview image of the selected dataset:"
   ]
  },
  {
   "cell_type": "code",
   "execution_count": null,
   "id": "44ead7d2-8804-47e7-bef9-87701e0fcd15",
   "metadata": {},
   "outputs": [],
   "source": [
    "img_url = list(abstract[\"previewImage\"])[0]\n",
    "im = Image.open(requests.get(img_url, stream=True).raw)\n",
    "plt.imshow(im)"
   ]
  },
  {
   "cell_type": "markdown",
   "id": "c4273a19-7225-4c12-8bd2-eb2eddacc479",
   "metadata": {},
   "source": [
    "Request dataset metadata:"
   ]
  },
  {
   "cell_type": "code",
   "execution_count": null,
   "id": "25095670-a0d3-4d6e-9537-adc8f97e6680",
   "metadata": {},
   "outputs": [],
   "source": [
    "dataset = requests.get(\"https://wekeo-broker.apps.mercator.dpi.wekeo.eu/databroker/querymetadata/\"+str(datasetId_drop.value), headers=headers)\n",
    "dataset_text = dataset.text\n",
    "dataset = json.loads(dataset_text)"
   ]
  },
  {
   "cell_type": "code",
   "execution_count": null,
   "id": "49f975f1-b3fc-42ee-a437-b25ca20f05fa",
   "metadata": {},
   "outputs": [],
   "source": [
    "dataset"
   ]
  },
  {
   "cell_type": "markdown",
   "id": "f2dff959-a78f-4d79-b506-482bb4c69725",
   "metadata": {},
   "source": [
    "Select dataset category:"
   ]
  },
  {
   "cell_type": "code",
   "execution_count": null,
   "id": "837224fc-2461-4104-a867-9df7d4f0f5c4",
   "metadata": {},
   "outputs": [],
   "source": [
    "category = dataset['parameters']['multiStringSelects'][0]['details']['groupedValueLabels']\n",
    "category_list = []\n",
    "for item in category:\n",
    "     category_list.append(item[\"label\"])\n",
    "\n",
    "category_drop = widgets.Dropdown(\n",
    "    options=category_list,\n",
    "    description='Category:',\n",
    "    disabled=False)\n",
    "\n",
    "category_drop"
   ]
  },
  {
   "cell_type": "code",
   "execution_count": null,
   "id": "2725d549-5ef1-4170-af51-3eb89e5810f5",
   "metadata": {},
   "outputs": [],
   "source": [
    "category_list\n",
    "category_n = list(range(len(category_list)))"
   ]
  },
  {
   "cell_type": "code",
   "execution_count": null,
   "id": "fd62ae82-4d84-4748-ab4d-7dce13d87101",
   "metadata": {},
   "outputs": [],
   "source": [
    "category_n"
   ]
  },
  {
   "cell_type": "code",
   "execution_count": null,
   "id": "997199f8-cb68-41c9-ac74-e2f00d16afb2",
   "metadata": {},
   "outputs": [],
   "source": [
    "category_dict = dict(zip(category_list, category_n))\n",
    "category_dict"
   ]
  },
  {
   "cell_type": "code",
   "execution_count": null,
   "id": "7678bf38-b406-4f60-9bda-21299af7d24b",
   "metadata": {},
   "outputs": [],
   "source": [
    "parameter = category[category_dict[str(category_drop.value)]]\n",
    "parameter"
   ]
  },
  {
   "cell_type": "code",
   "execution_count": null,
   "id": "d008424b-e0f2-43ef-8314-768c5a95568a",
   "metadata": {},
   "outputs": [],
   "source": [
    "params_list = list(parameter['valuesLabels'].keys())"
   ]
  },
  {
   "cell_type": "code",
   "execution_count": null,
   "id": "73024f90-4dbb-4d30-a767-cb5ef7970a4f",
   "metadata": {},
   "outputs": [],
   "source": [
    "params_drop = widgets.Dropdown(\n",
    "    options=params_list,\n",
    "    description='Category:',\n",
    "    disabled=False)\n",
    "\n",
    "params_drop"
   ]
  },
  {
   "cell_type": "code",
   "execution_count": null,
   "id": "f9f088d8-03a8-4abc-a46d-38302d428181",
   "metadata": {},
   "outputs": [],
   "source": [
    "metadata['parameters']['multiStringSelects'][1]"
   ]
  },
  {
   "cell_type": "code",
   "execution_count": null,
   "id": "cad39cc4-4d66-4a92-bd1d-13a5b4cc6665",
   "metadata": {},
   "outputs": [],
   "source": [
    "metadata"
   ]
  },
  {
   "cell_type": "markdown",
   "id": "43c2d09f-190d-4df4-805b-1fd00fac94e6",
   "metadata": {},
   "source": [
    "# TEST"
   ]
  },
  {
   "cell_type": "code",
   "execution_count": null,
   "id": "dd4f767c-a6ea-463f-a90f-7d7aaea1408b",
   "metadata": {},
   "outputs": [],
   "source": [
    "if query['stringChoiceValues'][0]['value'] == 'netcdf':\n",
    "    fl = matches.results[0]['url']\n",
    "    print('Reading NetCDF file into memory')\n",
    "    # load into memory \n",
    "    with urlopen(fl) as f:\n",
    "        ds = xr.open_dataset(f.read()).mean(dim='time')\n",
    "elif query['stringChoiceValues'][0]['value'] == 'zip':\n",
    "    print('Downloading zip file')\n",
    "    matches.download()"
   ]
  },
  {
   "cell_type": "code",
   "execution_count": null,
   "id": "3a7f77eb-8760-4602-9e22-73ea83d5b29d",
   "metadata": {},
   "outputs": [],
   "source": [
    "import glob, os\n",
    "\n",
    "zip_list = []\n",
    "os.chdir(\"./\")\n",
    "for file in glob.glob(\"*.zip\"):\n",
    "    print(file)\n",
    "    zip_list.append(file)"
   ]
  },
  {
   "cell_type": "code",
   "execution_count": null,
   "id": "b0992e2a-391c-43c6-a754-04b270d5fb7e",
   "metadata": {},
   "outputs": [],
   "source": [
    "zip_list"
   ]
  },
  {
   "cell_type": "code",
   "execution_count": null,
   "id": "11d94ed3-f948-49b7-bc03-3caac8bf1bb1",
   "metadata": {},
   "outputs": [],
   "source": [
    "import ipywidgets as widgets\n",
    "\n",
    "zip_drop = widgets.Dropdown(\n",
    "    options=zip_list,\n",
    "    description='Zip folder:',\n",
    "    disabled=False,\n",
    ")\n",
    "zip_drop"
   ]
  },
  {
   "cell_type": "code",
   "execution_count": null,
   "id": "d9284b1d-f29f-4b75-9aaa-bb4bac74e2c9",
   "metadata": {},
   "outputs": [],
   "source": [
    "import zipfile\n",
    "with zipfile.ZipFile(str(zip_drop.value), 'r') as zip_ref:\n",
    "    zip_ref.extractall('./')"
   ]
  },
  {
   "cell_type": "code",
   "execution_count": null,
   "id": "e17a87f0-2729-42b3-84c3-b9e9138af3bf",
   "metadata": {},
   "outputs": [],
   "source": [
    "nc_list = []\n",
    "os.chdir(\"./\")\n",
    "for file in glob.glob(\"*.nc\"):\n",
    "    print(file)\n",
    "    nc_list.append(file)"
   ]
  },
  {
   "cell_type": "code",
   "execution_count": null,
   "id": "69cc0985-f375-4b86-81b2-d31e5e739e4d",
   "metadata": {},
   "outputs": [],
   "source": [
    "nc_list"
   ]
  },
  {
   "cell_type": "code",
   "execution_count": null,
   "id": "491388e1-6320-4c3f-b3aa-e2caf5394e62",
   "metadata": {},
   "outputs": [],
   "source": [
    "nc_drop = widgets.Dropdown(\n",
    "    options=nc_list,\n",
    "    description='NetCDF folder:',\n",
    "    disabled=False,\n",
    ")\n",
    "nc_drop"
   ]
  },
  {
   "cell_type": "code",
   "execution_count": null,
   "id": "8583f985-e573-4fdf-aacd-69250f62b7c8",
   "metadata": {},
   "outputs": [],
   "source": [
    "ds = xr.open_dataset(nc_drop.value).mean(dim='time')"
   ]
  },
  {
   "cell_type": "code",
   "execution_count": null,
   "id": "15db55cf-765d-461d-9569-5a99d77f617b",
   "metadata": {},
   "outputs": [],
   "source": [
    "hv_dataset = hv.Dataset(ds)\n",
    "hv_dataset.data"
   ]
  },
  {
   "cell_type": "code",
   "execution_count": null,
   "id": "7157c9a8-3275-463d-a3e0-c70b3b6775fc",
   "metadata": {},
   "outputs": [],
   "source": [
    "ds_data = ds['crwc'].squeeze()"
   ]
  },
  {
   "cell_type": "code",
   "execution_count": null,
   "id": "287e49cc-e900-4096-b116-4e36673faea1",
   "metadata": {},
   "outputs": [],
   "source": [
    "map_height=400\n",
    "map_width=800\n",
    "\n",
    "hv_tiles_osm = hv.element.tiles.OSM()\n",
    "\n",
    "hv.opts.defaults(\n",
    "  hv.opts.Image(alpha=0.7,\n",
    "                height=map_height, width=map_width, \n",
    "                colorbar=True, \n",
    "                tools=['hover'], active_tools=['wheel_zoom']),\n",
    "  hv.opts.Tiles(active_tools=['wheel_zoom'], height=map_height, width=map_width)\n",
    ")\n",
    "\n",
    "hv_image_basic = hv.Image(hv_dataset)\n",
    "hv_image_basic = hv_image_basic.options(cmap='inferno')\n",
    "hv_image_basic"
   ]
  },
  {
   "cell_type": "code",
   "execution_count": null,
   "id": "f0323d2c-4df7-4c0e-98c4-9f56b6bee2d9",
   "metadata": {},
   "outputs": [],
   "source": [
    "ds = ds.rio.write_crs('EPSG:4326')\n",
    "ds_mercator = ds.rio.reproject('EPSG:3857')\n",
    "hv_dataset = hv.Dataset(ds_mercator)\n",
    "hv_image_basic = hv.Image(hv_dataset)\n",
    "hv_image_basic = hv_image_basic.options(cmap='inferno')\n",
    "hv.element.tiles.OSM() * hv_image_basic"
   ]
  },
  {
   "cell_type": "code",
   "execution_count": null,
   "id": "68a897dc-ab5a-4653-b34d-9365b14fce42",
   "metadata": {},
   "outputs": [],
   "source": []
  },
  {
   "cell_type": "code",
   "execution_count": null,
   "id": "9f96a5bb-243f-4b85-aa81-af55a611b78f",
   "metadata": {},
   "outputs": [],
   "source": [
    "ds_data = ds[var_drop.value].squeeze()\n",
    "ds_data"
   ]
  },
  {
   "cell_type": "code",
   "execution_count": null,
   "id": "e0667431-f765-4d5c-a020-b48e54d5caaa",
   "metadata": {},
   "outputs": [],
   "source": [
    "# f = plt.figure(figsize=(10,8))\n",
    "# ax = plt.axes(projection=ccrs.PlateCarree())\n",
    "# ax.coastlines()\n",
    "# gl= ax.gridlines(crs=ccrs.PlateCarree(),draw_labels=True)\n",
    "# gl.right_labels=False\n",
    "# gl.top_labels=False\n",
    "# ax.add_feature(cfeature.LAND, zorder=1,edgecolor='k')\n",
    "# ax.set_extent([-180,180, -90, 90],crs=ccrs.PlateCarree())\n",
    "\n",
    "# f.suptitle(ds_data.long_name, fontsize=28)\n",
    "# im = ax.pcolor(ds_data['longitude'].data,ds_data['latitude'].data, ds_data, cmap='plasma')\n",
    "# cbar= f.colorbar(im,ax=ax)\n",
    "# cbar.set_label(ds_data.units, rotation =270, fontsize=23,labelpad=15)"
   ]
  },
  {
   "cell_type": "code",
   "execution_count": null,
   "id": "a62de826-0e5c-4e8a-911b-5e30fb6118c0",
   "metadata": {},
   "outputs": [],
   "source": [
    "# df = m.get_all_data_request(2000)\n",
    "# dataset_list = df[\"datasetId\"]"
   ]
  },
  {
   "cell_type": "code",
   "execution_count": null,
   "id": "555d9aef-a160-45c2-88dd-dbc63f0f67ab",
   "metadata": {},
   "outputs": [],
   "source": []
  }
 ],
 "metadata": {
  "kernelspec": {
   "display_name": "Python 3 (ipykernel)",
   "language": "python",
   "name": "python3"
  },
  "language_info": {
   "codemirror_mode": {
    "name": "ipython",
    "version": 3
   },
   "file_extension": ".py",
   "mimetype": "text/x-python",
   "name": "python",
   "nbconvert_exporter": "python",
   "pygments_lexer": "ipython3",
   "version": "3.9.12"
  }
 },
 "nbformat": 4,
 "nbformat_minor": 5
}
